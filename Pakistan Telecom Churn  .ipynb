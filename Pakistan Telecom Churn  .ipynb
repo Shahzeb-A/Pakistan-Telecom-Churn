{
 "cells": [
  {
   "cell_type": "markdown",
   "metadata": {
    "id": "vATgrm7I7VLW"
   },
   "source": [
    "# **Understanding and Addressing Customer Churn in Telecom**\n",
    "\n",
    "**Customer churn**, the discontinuation of services by clients or subscribers, poses a **significant challenge** in the telecom industry. Amidst fierce competition and ever-expanding options for consumers, **accurately predicting** and **addressing churn** has become a **top priority** for telecom firms.\n",
    "\n",
    "**Understanding the intricacies** of why customers leave is **paramount**. By delving into **customer behavior** and **engagement patterns**, telecom companies can uncover **valuable insights** that inform **proactive strategies** aimed at **retaining customers** and **sustaining profitability**.\n",
    "\n",
    "**Strategic retention efforts** not only **preserve revenue streams** but also **enhance customer loyalty** and **market share**. By **prioritizing customer satisfaction** and **loyalty**, telecom companies can foster **long-term relationships** and **sustainable growth** in an ever-evolving market landscape.\n"
   ]
  },
  {
   "cell_type": "markdown",
   "metadata": {},
   "source": [
    "# **Importing Libraries and Data**"
   ]
  },
  {
   "cell_type": "code",
   "execution_count": 11,
   "metadata": {},
   "outputs": [],
   "source": [
    "import pandas as pd\n",
    "import matplotlib.pyplot as plt\n",
    "import seaborn as sns\n",
    "import plotly.express as px\n",
    "import scipy.stats as stats\n",
    "import numpy as np\n",
    "from sklearn import tree\n",
    "from category_encoders import BinaryEncoder \n",
    "\n",
    "from sklearn.model_selection import train_test_split\n",
    "from sklearn.pipeline import Pipeline\n",
    "from sklearn.preprocessing import LabelEncoder\n",
    "from sklearn.model_selection import cross_val_score\n",
    "from sklearn.tree import DecisionTreeClassifier\n",
    "from sklearn.ensemble import RandomForestClassifier\n",
    "from sklearn.naive_bayes import BernoulliNB\n",
    "from sklearn.linear_model import LogisticRegression\n",
    "from sklearn.svm import SVC\n",
    "from sklearn.cluster import KMeans\n",
    "\n",
    "\n",
    "from IPython.display import HTML\n",
    "import warnings"
   ]
  },
  {
   "cell_type": "code",
   "execution_count": 12,
   "metadata": {
    "id": "RcxTK94B7bcB"
   },
   "outputs": [],
   "source": [
    "df = pd.read_excel('Pakistan-Telecom-Dataset.xlsx')"
   ]
  },
  {
   "cell_type": "markdown",
   "metadata": {},
   "source": [
    "# **Exploring the Data**\n",
    "\n",
    "### Churn Analysis\n",
    "\n",
    "The dataset includes information on customers who left, commonly referred to as **Churn**. Analyzing churn is crucial for understanding customer retention and satisfaction.\n",
    "\n",
    "**Churn Yes**: This indicates that the customer has churned, meaning they have *stopped using* the product or service, *terminated* their subscription, or *ceased* their engagement with the business.\n",
    "\n",
    "**Churn No**: This indicates that the customer has *not churned* and is still *active*, meaning they *continue to use* the product or service, *maintain* their subscription, or *remain engaged* with the business.\n",
    "\n",
    "Understanding customers' preferences and the factors influencing their attraction to the platform is essential for targeted marketing and service improvements.\n",
    "\n",
    "- **Source of Attraction**: Indicates how the customer was attracted to the platform (e.g., advertisement, referral, organic search).\n",
    "- **Preferences**: Insights into customer preferences, such as are they pleased with prices, services, or etc.\n",
    "\n",
    "By analyzing these aspects, we aim to gain deeper insights into customer behavior, improve retention strategies, and enhance overall customer satisfaction.\n"
   ]
  },
  {
   "cell_type": "code",
   "execution_count": 13,
   "metadata": {
    "colab": {
     "base_uri": "https://localhost:8080/",
     "height": 313
    },
    "id": "DxRE9rmk7dRT",
    "outputId": "7b489580-7d4e-4175-d1c8-8061ad6d52ee"
   },
   "outputs": [
    {
     "data": {
      "text/html": [
       "<div>\n",
       "<style scoped>\n",
       "    .dataframe tbody tr th:only-of-type {\n",
       "        vertical-align: middle;\n",
       "    }\n",
       "\n",
       "    .dataframe tbody tr th {\n",
       "        vertical-align: top;\n",
       "    }\n",
       "\n",
       "    .dataframe thead th {\n",
       "        text-align: right;\n",
       "    }\n",
       "</style>\n",
       "<table border=\"1\" class=\"dataframe\">\n",
       "  <thead>\n",
       "    <tr style=\"text-align: right;\">\n",
       "      <th></th>\n",
       "      <th>Gender</th>\n",
       "      <th>Churn</th>\n",
       "      <th>Network</th>\n",
       "      <th>relation_durattion</th>\n",
       "      <th>service_type</th>\n",
       "      <th>source_of_attraction</th>\n",
       "      <th>prferred_communication</th>\n",
       "      <th>satisfy_with_call_rate</th>\n",
       "      <th>contact_with_cust_care</th>\n",
       "      <th>rate_of_cust_care_calling</th>\n",
       "      <th>reascon_of_contact_cc</th>\n",
       "      <th>monthly_usage_rs</th>\n",
       "      <th>Happy_with_intrnet_quality</th>\n",
       "      <th>4G_available</th>\n",
       "      <th>satisfy_with_voice_quality</th>\n",
       "      <th>satisfy_with_signal_strength</th>\n",
       "      <th>pleaseed_with_prices</th>\n",
       "      <th>satisfy_with_billing_process</th>\n",
       "      <th>recommend_to_others</th>\n",
       "    </tr>\n",
       "  </thead>\n",
       "  <tbody>\n",
       "    <tr>\n",
       "      <th>0</th>\n",
       "      <td>Female</td>\n",
       "      <td>No</td>\n",
       "      <td>Jazz / Warid</td>\n",
       "      <td>More than one year</td>\n",
       "      <td>Pre Paid</td>\n",
       "      <td>Advertisement</td>\n",
       "      <td>messages</td>\n",
       "      <td>Yes</td>\n",
       "      <td>No</td>\n",
       "      <td>rarely</td>\n",
       "      <td>Complaints</td>\n",
       "      <td>800</td>\n",
       "      <td>Yes</td>\n",
       "      <td>Yes</td>\n",
       "      <td>Yes</td>\n",
       "      <td>Yes</td>\n",
       "      <td>Yes</td>\n",
       "      <td>Yes</td>\n",
       "      <td>Yes</td>\n",
       "    </tr>\n",
       "    <tr>\n",
       "      <th>1</th>\n",
       "      <td>Female</td>\n",
       "      <td>No</td>\n",
       "      <td>Jazz / Warid</td>\n",
       "      <td>More than one year</td>\n",
       "      <td>Pre Paid</td>\n",
       "      <td>Others</td>\n",
       "      <td>Audio calling</td>\n",
       "      <td>No</td>\n",
       "      <td>Yes</td>\n",
       "      <td>rarely</td>\n",
       "      <td>Complaints</td>\n",
       "      <td>500</td>\n",
       "      <td>No</td>\n",
       "      <td>Yes</td>\n",
       "      <td>Yes</td>\n",
       "      <td>Yes</td>\n",
       "      <td>No</td>\n",
       "      <td>No</td>\n",
       "      <td>No</td>\n",
       "    </tr>\n",
       "    <tr>\n",
       "      <th>2</th>\n",
       "      <td>Male</td>\n",
       "      <td>No</td>\n",
       "      <td>Jazz / Warid</td>\n",
       "      <td>More than one year</td>\n",
       "      <td>Pre Paid</td>\n",
       "      <td>Advertisement</td>\n",
       "      <td>Audio calling</td>\n",
       "      <td>No</td>\n",
       "      <td>Yes</td>\n",
       "      <td>rarely</td>\n",
       "      <td>Complaints</td>\n",
       "      <td>500</td>\n",
       "      <td>Yes</td>\n",
       "      <td>Yes</td>\n",
       "      <td>No</td>\n",
       "      <td>No</td>\n",
       "      <td>No</td>\n",
       "      <td>Yes</td>\n",
       "      <td>Yes</td>\n",
       "    </tr>\n",
       "    <tr>\n",
       "      <th>3</th>\n",
       "      <td>Female</td>\n",
       "      <td>No</td>\n",
       "      <td>Jazz / Warid</td>\n",
       "      <td>More than one year</td>\n",
       "      <td>Pre Paid</td>\n",
       "      <td>Advertisement</td>\n",
       "      <td>messages</td>\n",
       "      <td>Yes</td>\n",
       "      <td>No</td>\n",
       "      <td>rarely</td>\n",
       "      <td>Information regarding new schemes</td>\n",
       "      <td>300</td>\n",
       "      <td>Yes</td>\n",
       "      <td>Yes</td>\n",
       "      <td>Yes</td>\n",
       "      <td>Yes</td>\n",
       "      <td>Yes</td>\n",
       "      <td>No</td>\n",
       "      <td>Yes</td>\n",
       "    </tr>\n",
       "    <tr>\n",
       "      <th>4</th>\n",
       "      <td>Male</td>\n",
       "      <td>No</td>\n",
       "      <td>Jazz / Warid</td>\n",
       "      <td>More than one year</td>\n",
       "      <td>Pre Paid</td>\n",
       "      <td>Face book</td>\n",
       "      <td>Audio calling</td>\n",
       "      <td>Yes</td>\n",
       "      <td>Yes</td>\n",
       "      <td>rarely</td>\n",
       "      <td>Complaints</td>\n",
       "      <td>800</td>\n",
       "      <td>Yes</td>\n",
       "      <td>Yes</td>\n",
       "      <td>Yes</td>\n",
       "      <td>Yes</td>\n",
       "      <td>No</td>\n",
       "      <td>No</td>\n",
       "      <td>Yes</td>\n",
       "    </tr>\n",
       "  </tbody>\n",
       "</table>\n",
       "</div>"
      ],
      "text/plain": [
       "   Gender Churn       Network  relation_durattion service_type  \\\n",
       "0  Female    No  Jazz / Warid  More than one year     Pre Paid   \n",
       "1  Female    No  Jazz / Warid  More than one year     Pre Paid   \n",
       "2    Male    No  Jazz / Warid  More than one year     Pre Paid   \n",
       "3  Female    No  Jazz / Warid  More than one year     Pre Paid   \n",
       "4    Male    No  Jazz / Warid  More than one year     Pre Paid   \n",
       "\n",
       "  source_of_attraction prferred_communication satisfy_with_call_rate  \\\n",
       "0        Advertisement               messages                    Yes   \n",
       "1               Others          Audio calling                     No   \n",
       "2        Advertisement          Audio calling                     No   \n",
       "3        Advertisement               messages                    Yes   \n",
       "4            Face book          Audio calling                    Yes   \n",
       "\n",
       "  contact_with_cust_care rate_of_cust_care_calling  \\\n",
       "0                     No                    rarely   \n",
       "1                    Yes                    rarely   \n",
       "2                    Yes                    rarely   \n",
       "3                     No                    rarely   \n",
       "4                    Yes                    rarely   \n",
       "\n",
       "               reascon_of_contact_cc  monthly_usage_rs  \\\n",
       "0                         Complaints               800   \n",
       "1                         Complaints               500   \n",
       "2                         Complaints               500   \n",
       "3  Information regarding new schemes               300   \n",
       "4                         Complaints               800   \n",
       "\n",
       "  Happy_with_intrnet_quality 4G_available satisfy_with_voice_quality  \\\n",
       "0                        Yes          Yes                        Yes   \n",
       "1                         No          Yes                        Yes   \n",
       "2                        Yes          Yes                         No   \n",
       "3                        Yes          Yes                        Yes   \n",
       "4                        Yes          Yes                        Yes   \n",
       "\n",
       "  satisfy_with_signal_strength pleaseed_with_prices  \\\n",
       "0                          Yes                  Yes   \n",
       "1                          Yes                   No   \n",
       "2                           No                   No   \n",
       "3                          Yes                  Yes   \n",
       "4                          Yes                   No   \n",
       "\n",
       "  satisfy_with_billing_process recommend_to_others  \n",
       "0                          Yes                 Yes  \n",
       "1                           No                  No  \n",
       "2                          Yes                 Yes  \n",
       "3                           No                 Yes  \n",
       "4                           No                 Yes  "
      ]
     },
     "execution_count": 13,
     "metadata": {},
     "output_type": "execute_result"
    }
   ],
   "source": [
    "df.head()\n",
    "# \"Churn: Yes\"  mean that the user has discontinued or unsubscribed.\n",
    "# \"Churn: No\" mean that the user is still subscribed or has not discontinued."
   ]
  },
  {
   "cell_type": "code",
   "execution_count": 14,
   "metadata": {
    "colab": {
     "base_uri": "https://localhost:8080/"
    },
    "id": "Gioh1nfZ7-oE",
    "outputId": "517431b0-c443-49e0-be40-9986c2176745"
   },
   "outputs": [
    {
     "data": {
      "text/plain": [
       "array(['Jazz / Warid', 'Zong', 'Ufone', 'Telenor'], dtype=object)"
      ]
     },
     "execution_count": 14,
     "metadata": {},
     "output_type": "execute_result"
    }
   ],
   "source": [
    "df['Network'].unique()"
   ]
  },
  {
   "cell_type": "code",
   "execution_count": 15,
   "metadata": {
    "colab": {
     "base_uri": "https://localhost:8080/"
    },
    "id": "v9T5JoFY8BFe",
    "outputId": "c9fc9638-e1e8-405b-9a45-976ebb4ff770"
   },
   "outputs": [
    {
     "data": {
      "text/plain": [
       "Gender                          0\n",
       "Churn                           0\n",
       "Network                         0\n",
       "relation_durattion              0\n",
       "service_type                    0\n",
       "source_of_attraction            0\n",
       "prferred_communication          0\n",
       "satisfy_with_call_rate          0\n",
       "contact_with_cust_care          0\n",
       "rate_of_cust_care_calling       0\n",
       "reascon_of_contact_cc           0\n",
       "monthly_usage_rs                0\n",
       "Happy_with_intrnet_quality      0\n",
       "4G_available                    0\n",
       "satisfy_with_voice_quality      0\n",
       "satisfy_with_signal_strength    0\n",
       "pleaseed_with_prices            0\n",
       "satisfy_with_billing_process    0\n",
       "recommend_to_others             0\n",
       "dtype: int64"
      ]
     },
     "execution_count": 15,
     "metadata": {},
     "output_type": "execute_result"
    }
   ],
   "source": [
    "df.isnull().sum()"
   ]
  },
  {
   "cell_type": "code",
   "execution_count": 16,
   "metadata": {
    "colab": {
     "base_uri": "https://localhost:8080/"
    },
    "id": "fcAeIsyb8ChI",
    "outputId": "1ab210d7-bc0f-4ac8-f9e3-402218ba5d64"
   },
   "outputs": [
    {
     "data": {
      "text/plain": [
       "(9760, 19)"
      ]
     },
     "execution_count": 16,
     "metadata": {},
     "output_type": "execute_result"
    }
   ],
   "source": [
    "df.shape"
   ]
  },
  {
   "cell_type": "code",
   "execution_count": 17,
   "metadata": {
    "colab": {
     "base_uri": "https://localhost:8080/"
    },
    "id": "mHyuR-2j8D2v",
    "outputId": "2d650bf9-d142-45d5-bd06-5e11276d1427"
   },
   "outputs": [
    {
     "data": {
      "text/plain": [
       "Index(['Gender', 'Churn', 'Network', 'relation_durattion', 'service_type',\n",
       "       'source_of_attraction', 'prferred_communication',\n",
       "       'satisfy_with_call_rate', 'contact_with_cust_care',\n",
       "       'rate_of_cust_care_calling', 'reascon_of_contact_cc',\n",
       "       'monthly_usage_rs', 'Happy_with_intrnet_quality', '4G_available',\n",
       "       'satisfy_with_voice_quality', 'satisfy_with_signal_strength',\n",
       "       'pleaseed_with_prices', 'satisfy_with_billing_process',\n",
       "       'recommend_to_others'],\n",
       "      dtype='object')"
      ]
     },
     "execution_count": 17,
     "metadata": {},
     "output_type": "execute_result"
    }
   ],
   "source": [
    "df.columns"
   ]
  },
  {
   "cell_type": "markdown",
   "metadata": {
    "id": "tNRBOX5o8Kb3"
   },
   "source": [
    "# **Correlation between Categorical Values**\n",
    "\n",
    "**Correlation** is a statistical measure that describes the extent to which two variables change together. There are several types of correlation, each indicating a different relationship between the variables. The most common types of correlation include:\n",
    "\n",
    "**Correlation** is a statistical measure that describes the extent to which two variables change together. There are several types of correlation, each indicating a different relationship between the variables. The most common types of correlation include:\n",
    "\n",
    "**Pearson Correlation Coefficient (r):**\n",
    "  - Measures the linear relationship between two continuous variables.\n",
    "  - Values range from **-1 to 1**, where\n",
    "    - **1** indicates a perfect positive linear relationship,\n",
    "    - **-1** indicates a perfect negative linear relationship\n",
    "    - **0** indicates no linear relationship.\n",
    "  - Assumes that the variables are **normally distributed**.\n",
    "\n",
    "**Spearman's Rank Correlation Coefficient (ρ or rs):**\n",
    "  - Measures the strength and direction of the **monotonic relationship** between two variables.\n",
    "  - Particularly useful when dealing with **ordinal or ranked data**.\n",
    "  - Does not assume **linearity** and is less sensitive to **outliers** than Pearson correlation.\n",
    "\n",
    "**Kendall's Tau (τ):**\n",
    "  - Similar to Spearman's correlation, Kendall's tau measures the strength and direction of a **monotonic relationship**.\n",
    "  - It is based on the count of **concordant and discordant pairs** of data points.\n",
    "  - Often considered more robust to **outliers** than Pearson correlation.\n",
    "\n",
    "**Point-Biserial Correlation Coefficient:**\n",
    "  - Measures the relationship between a **binary variable** and a **continuous variable**.\n",
    "  - It is an extension of the Pearson correlation coefficient adapted for situations where one variable is **dichotomous**.\n",
    "\n",
    "**Phi Coefficient (φ):**\n",
    "  - Similar to the point-biserial correlation but used when both variables are **binary**.\n",
    "  - Suitable for analyzing the association between two **dichotomous variables**.\n",
    "\n",
    "**Cramér's V:**\n",
    "  - Used to measure the association between two **nominal variables**.\n",
    "  - Values range from **0 to 1**, where **0** indicates no association, and **1** indicates a perfect association.\n",
    "\n",
    "\n",
    "It's important to note that **correlation does not imply causation**. Even if two variables are correlated, it does not necessarily mean that one variable causes the other to change. Correlation only measures the strength and direction of the relationship between two variables."
   ]
  },
  {
   "cell_type": "code",
   "execution_count": 18,
   "metadata": {
    "colab": {
     "base_uri": "https://localhost:8080/"
    },
    "id": "IO2ec5yo8Ez6",
    "outputId": "5bbd2f7c-f4d2-477a-a75f-44f2243942e0"
   },
   "outputs": [
    {
     "data": {
      "text/plain": [
       "array([0, 0, 0, ..., 0, 0, 0])"
      ]
     },
     "execution_count": 18,
     "metadata": {},
     "output_type": "execute_result"
    }
   ],
   "source": [
    "le = LabelEncoder()\n",
    "le.fit_transform(df['Churn'])"
   ]
  },
  {
   "cell_type": "code",
   "execution_count": 19,
   "metadata": {
    "id": "4-B3aA0i8G8M"
   },
   "outputs": [],
   "source": [
    "def cramers_v(confusion_matrix):\n",
    "    chi2 = stats.chi2_contingency(confusion_matrix)[0]\n",
    "    n = confusion_matrix.sum().sum()\n",
    "    phi2 = chi2 / n\n",
    "    r, k = confusion_matrix.shape\n",
    "    phi2corr = max(0, phi2 - ((k-1)*(r-1))/(n-1))\n",
    "    rcorr = r - ((r-1)**2)/(n-1)\n",
    "    kcorr = k - ((k-1)**2)/(n-1)\n",
    "    return np.sqrt(phi2corr / min((kcorr-1), (rcorr-1)))"
   ]
  },
  {
   "cell_type": "code",
   "execution_count": 20,
   "metadata": {
    "colab": {
     "base_uri": "https://localhost:8080/",
     "height": 613
    },
    "id": "msp5ngTy8NEZ",
    "outputId": "afb26566-2890-413d-b993-34ffb2129c55"
   },
   "outputs": [
    {
     "data": {
      "text/html": [
       "<div>\n",
       "<style scoped>\n",
       "    .dataframe tbody tr th:only-of-type {\n",
       "        vertical-align: middle;\n",
       "    }\n",
       "\n",
       "    .dataframe tbody tr th {\n",
       "        vertical-align: top;\n",
       "    }\n",
       "\n",
       "    .dataframe thead th {\n",
       "        text-align: right;\n",
       "    }\n",
       "</style>\n",
       "<table border=\"1\" class=\"dataframe\">\n",
       "  <thead>\n",
       "    <tr style=\"text-align: right;\">\n",
       "      <th></th>\n",
       "      <th>Feature</th>\n",
       "      <th>Correlation with Churn</th>\n",
       "    </tr>\n",
       "  </thead>\n",
       "  <tbody>\n",
       "    <tr>\n",
       "      <th>0</th>\n",
       "      <td>Gender</td>\n",
       "      <td>0.238071</td>\n",
       "    </tr>\n",
       "    <tr>\n",
       "      <th>1</th>\n",
       "      <td>Network</td>\n",
       "      <td>0.189057</td>\n",
       "    </tr>\n",
       "    <tr>\n",
       "      <th>2</th>\n",
       "      <td>relation_durattion</td>\n",
       "      <td>0.109199</td>\n",
       "    </tr>\n",
       "    <tr>\n",
       "      <th>3</th>\n",
       "      <td>service_type</td>\n",
       "      <td>0.016594</td>\n",
       "    </tr>\n",
       "    <tr>\n",
       "      <th>4</th>\n",
       "      <td>source_of_attraction</td>\n",
       "      <td>0.181621</td>\n",
       "    </tr>\n",
       "    <tr>\n",
       "      <th>5</th>\n",
       "      <td>prferred_communication</td>\n",
       "      <td>0.072417</td>\n",
       "    </tr>\n",
       "    <tr>\n",
       "      <th>6</th>\n",
       "      <td>satisfy_with_call_rate</td>\n",
       "      <td>0.320335</td>\n",
       "    </tr>\n",
       "    <tr>\n",
       "      <th>7</th>\n",
       "      <td>contact_with_cust_care</td>\n",
       "      <td>0.098532</td>\n",
       "    </tr>\n",
       "    <tr>\n",
       "      <th>8</th>\n",
       "      <td>rate_of_cust_care_calling</td>\n",
       "      <td>0.118695</td>\n",
       "    </tr>\n",
       "    <tr>\n",
       "      <th>9</th>\n",
       "      <td>reascon_of_contact_cc</td>\n",
       "      <td>0.350315</td>\n",
       "    </tr>\n",
       "    <tr>\n",
       "      <th>10</th>\n",
       "      <td>monthly_usage_rs</td>\n",
       "      <td>0.094451</td>\n",
       "    </tr>\n",
       "    <tr>\n",
       "      <th>11</th>\n",
       "      <td>Happy_with_intrnet_quality</td>\n",
       "      <td>0.537400</td>\n",
       "    </tr>\n",
       "    <tr>\n",
       "      <th>12</th>\n",
       "      <td>4G_available</td>\n",
       "      <td>0.079311</td>\n",
       "    </tr>\n",
       "    <tr>\n",
       "      <th>13</th>\n",
       "      <td>satisfy_with_voice_quality</td>\n",
       "      <td>0.455543</td>\n",
       "    </tr>\n",
       "    <tr>\n",
       "      <th>14</th>\n",
       "      <td>satisfy_with_signal_strength</td>\n",
       "      <td>0.488177</td>\n",
       "    </tr>\n",
       "    <tr>\n",
       "      <th>15</th>\n",
       "      <td>pleaseed_with_prices</td>\n",
       "      <td>0.230859</td>\n",
       "    </tr>\n",
       "    <tr>\n",
       "      <th>16</th>\n",
       "      <td>satisfy_with_billing_process</td>\n",
       "      <td>0.187639</td>\n",
       "    </tr>\n",
       "    <tr>\n",
       "      <th>17</th>\n",
       "      <td>recommend_to_others</td>\n",
       "      <td>0.219920</td>\n",
       "    </tr>\n",
       "  </tbody>\n",
       "</table>\n",
       "</div>"
      ],
      "text/plain": [
       "                         Feature  Correlation with Churn\n",
       "0                         Gender                0.238071\n",
       "1                        Network                0.189057\n",
       "2             relation_durattion                0.109199\n",
       "3                   service_type                0.016594\n",
       "4           source_of_attraction                0.181621\n",
       "5         prferred_communication                0.072417\n",
       "6         satisfy_with_call_rate                0.320335\n",
       "7         contact_with_cust_care                0.098532\n",
       "8      rate_of_cust_care_calling                0.118695\n",
       "9          reascon_of_contact_cc                0.350315\n",
       "10              monthly_usage_rs                0.094451\n",
       "11    Happy_with_intrnet_quality                0.537400\n",
       "12                  4G_available                0.079311\n",
       "13    satisfy_with_voice_quality                0.455543\n",
       "14  satisfy_with_signal_strength                0.488177\n",
       "15          pleaseed_with_prices                0.230859\n",
       "16  satisfy_with_billing_process                0.187639\n",
       "17           recommend_to_others                0.219920"
      ]
     },
     "execution_count": 20,
     "metadata": {},
     "output_type": "execute_result"
    }
   ],
   "source": [
    "df_cor = []\n",
    "for i in df.columns:\n",
    "    if i != 'Churn':\n",
    "        contingency_table = pd.crosstab(df['Churn'], df[i]).values\n",
    "        cramers_v_value = cramers_v(contingency_table)\n",
    "        df_cor.append((i,cramers_v_value))\n",
    "df_cor =  pd.DataFrame(df_cor, columns=['Feature', 'Correlation with Churn'])\n",
    "df_cor"
   ]
  },
  {
   "cell_type": "markdown",
   "metadata": {
    "id": "nCDG6X4n8Spv"
   },
   "source": [
    "# **Obtaining Different Networks Data**"
   ]
  },
  {
   "cell_type": "code",
   "execution_count": 21,
   "metadata": {
    "id": "e91XK9D88TIb"
   },
   "outputs": [],
   "source": [
    "df_updated = df.groupby('Network')"
   ]
  },
  {
   "cell_type": "markdown",
   "metadata": {
    "id": "Febb3UUT9zHJ"
   },
   "source": [
    "df_jazz = df_updated.get_group('Jazz / Warid')\n",
    "df_telenor = df_updated.get_group('Telenor')\n",
    "df_ufone = df_updated.get_group('Ufone')\n",
    "df_zong = df_updated.get_group('Zong')"
   ]
  },
  {
   "cell_type": "markdown",
   "metadata": {},
   "source": [
    "# **Dashboard prepared in PowerBI**"
   ]
  },
  {
   "cell_type": "code",
   "execution_count": 35,
   "metadata": {
    "colab": {
     "base_uri": "https://localhost:8080/",
     "height": 693
    },
    "id": "_p7q6qVX91Kg",
    "outputId": "c82c5cd1-beb8-47f2-ea7c-43e267cc34c7"
   },
   "outputs": [
    {
     "name": "stderr",
     "output_type": "stream",
     "text": [
      "C:\\ProgramData\\anaconda3\\Lib\\site-packages\\IPython\\core\\display.py:431: UserWarning:\n",
      "\n",
      "Consider using IPython.display.IFrame instead\n",
      "\n"
     ]
    },
    {
     "data": {
      "text/html": [
       "<iframe width=\"800\" height=\"600\" src=\"https://app.powerbi.com/view?r=eyJrIjoiMDY1MzJjMWItOGU1NS00MjZhLWFkYzAtMDE5YjgyYzNlNWEyIiwidCI6IjViNzNkYWY5LTEyNWItNDZiNy1hY2ZmLTNkNjY2YmY5NGIwOSIsImMiOjl9\" frameborder=\"0\" allowFullScreen=\"true\"></iframe>"
      ],
      "text/plain": [
       "<IPython.core.display.HTML object>"
      ]
     },
     "execution_count": 35,
     "metadata": {},
     "output_type": "execute_result"
    }
   ],
   "source": [
    "dashboard_link = \"https://app.powerbi.com/view?r=eyJrIjoiMDY1MzJjMWItOGU1NS00MjZhLWFkYzAtMDE5YjgyYzNlNWEyIiwidCI6IjViNzNkYWY5LTEyNWItNDZiNy1hY2ZmLTNkNjY2YmY5NGIwOSIsImMiOjl9\"\n",
    "embed_code = f'<iframe width=\"800\" height=\"600\" src=\"{dashboard_link}\" frameborder=\"0\" allowFullScreen=\"true\"></iframe>'\n",
    "HTML(embed_code)"
   ]
  },
  {
   "cell_type": "markdown",
   "metadata": {},
   "source": [
    "# **Preparing Data for Visualization**"
   ]
  },
  {
   "cell_type": "code",
   "execution_count": 44,
   "metadata": {
    "id": "7vRFDUUY-Du9"
   },
   "outputs": [],
   "source": [
    "Network = ['Jazz / Warid', 'Zong', 'Ufone', 'Telenor']\n",
    "\n",
    "count_rare = [\n",
    "    (df_jazz['rate_of_cust_care_calling'] == 'rarely').value_counts().get(True, 0),\n",
    "    (df_zong['rate_of_cust_care_calling'] == 'rarely').value_counts().get(True, 0),\n",
    "    (df_ufone['rate_of_cust_care_calling'] == 'rarely').value_counts().get(True, 0),\n",
    "    (df_telenor['rate_of_cust_care_calling'] == 'rarely').value_counts().get(True, 0)\n",
    "]\n",
    "\n",
    "count_year = [\n",
    "    (df_jazz['rate_of_cust_care_calling'] == 'Once in a year').value_counts().get(True, 0),\n",
    "    (df_zong['rate_of_cust_care_calling'] == 'Once in a year').value_counts().get(True, 0),\n",
    "    (df_ufone['rate_of_cust_care_calling'] == 'Once in a year').value_counts().get(True, 0),\n",
    "    (df_telenor['rate_of_cust_care_calling'] == 'Once in a year').value_counts().get(True, 0)\n",
    "]\n",
    "\n",
    "count_month = [\n",
    "    (df_jazz['rate_of_cust_care_calling'] == 'Once in a Month').value_counts().get(True, 0),\n",
    "    (df_zong['rate_of_cust_care_calling'] == 'Once in a Month').value_counts().get(True, 0),\n",
    "    (df_ufone['rate_of_cust_care_calling'] == 'Once in a Month').value_counts().get(True, 0),\n",
    "    (df_telenor['rate_of_cust_care_calling'] == 'Once in a Month').value_counts().get(True, 0)\n",
    "]\n",
    "\n",
    "count_week = [\n",
    "    (df_jazz['rate_of_cust_care_calling'] == 'Once in a Week').value_counts().get(True, 0),\n",
    "    (df_zong['rate_of_cust_care_calling'] == 'Once in a Week').value_counts().get(True, 0),\n",
    "    (df_ufone['rate_of_cust_care_calling'] == 'Once in a Week').value_counts().get(True, 0),\n",
    "    (df_telenor['rate_of_cust_care_calling'] == 'Once in a Week').value_counts().get(True, 0)\n",
    "]"
   ]
  },
  {
   "cell_type": "code",
   "execution_count": 45,
   "metadata": {
    "colab": {
     "base_uri": "https://localhost:8080/",
     "height": 175
    },
    "id": "D6_t6DSF-GuS",
    "outputId": "ad23b4b0-ffe8-4bb3-80ec-70685cc336eb"
   },
   "outputs": [
    {
     "data": {
      "text/html": [
       "<div>\n",
       "<style scoped>\n",
       "    .dataframe tbody tr th:only-of-type {\n",
       "        vertical-align: middle;\n",
       "    }\n",
       "\n",
       "    .dataframe tbody tr th {\n",
       "        vertical-align: top;\n",
       "    }\n",
       "\n",
       "    .dataframe thead th {\n",
       "        text-align: right;\n",
       "    }\n",
       "</style>\n",
       "<table border=\"1\" class=\"dataframe\">\n",
       "  <thead>\n",
       "    <tr style=\"text-align: right;\">\n",
       "      <th></th>\n",
       "      <th>Network</th>\n",
       "      <th>Rare (Count)</th>\n",
       "      <th>Once in a year (Count)</th>\n",
       "      <th>Once in a Month (Count)</th>\n",
       "      <th>Once in a Week (Count)</th>\n",
       "    </tr>\n",
       "  </thead>\n",
       "  <tbody>\n",
       "    <tr>\n",
       "      <th>0</th>\n",
       "      <td>Jazz / Warid</td>\n",
       "      <td>4320</td>\n",
       "      <td>720</td>\n",
       "      <td>920</td>\n",
       "      <td>480</td>\n",
       "    </tr>\n",
       "    <tr>\n",
       "      <th>1</th>\n",
       "      <td>Zong</td>\n",
       "      <td>1120</td>\n",
       "      <td>120</td>\n",
       "      <td>400</td>\n",
       "      <td>160</td>\n",
       "    </tr>\n",
       "    <tr>\n",
       "      <th>2</th>\n",
       "      <td>Ufone</td>\n",
       "      <td>360</td>\n",
       "      <td>0</td>\n",
       "      <td>40</td>\n",
       "      <td>0</td>\n",
       "    </tr>\n",
       "    <tr>\n",
       "      <th>3</th>\n",
       "      <td>Telenor</td>\n",
       "      <td>720</td>\n",
       "      <td>120</td>\n",
       "      <td>80</td>\n",
       "      <td>200</td>\n",
       "    </tr>\n",
       "  </tbody>\n",
       "</table>\n",
       "</div>"
      ],
      "text/plain": [
       "        Network  Rare (Count)  Once in a year (Count)  \\\n",
       "0  Jazz / Warid          4320                     720   \n",
       "1          Zong          1120                     120   \n",
       "2         Ufone           360                       0   \n",
       "3       Telenor           720                     120   \n",
       "\n",
       "   Once in a Month (Count)  Once in a Week (Count)  \n",
       "0                      920                     480  \n",
       "1                      400                     160  \n",
       "2                       40                       0  \n",
       "3                       80                     200  "
      ]
     },
     "execution_count": 45,
     "metadata": {},
     "output_type": "execute_result"
    }
   ],
   "source": [
    "df_bar = pd.DataFrame({\n",
    "    'Network': ['Jazz / Warid', 'Zong', 'Ufone', 'Telenor'],\n",
    "    'Rare (Count)': [4320, 1120, 360, 720],\n",
    "    'Once in a year (Count)':[720, 120, 0, 120],\n",
    "    'Once in a Month (Count)':[920, 400, 40, 80],\n",
    "    'Once in a Week (Count)':[480, 160, 0, 200]\n",
    "})\n",
    "\n",
    "df_bar"
   ]
  },
  {
   "cell_type": "code",
   "execution_count": 46,
   "metadata": {
    "colab": {
     "base_uri": "https://localhost:8080/",
     "height": 542
    },
    "id": "4Dc5tPAK-KXn",
    "outputId": "30431f75-bf89-4d04-ec63-98b7915e53b2"
   },
   "outputs": [
    {
     "data": {
      "application/vnd.plotly.v1+json": {
       "config": {
        "plotlyServerURL": "https://plot.ly"
       },
       "data": [
        {
         "alignmentgroup": "True",
         "hovertemplate": "variable=Rare (Count)<br>Network=%{x}<br>value=%{y}<extra></extra>",
         "legendgroup": "Rare (Count)",
         "marker": {
          "color": "#636efa",
          "pattern": {
           "shape": ""
          }
         },
         "name": "Rare (Count)",
         "offsetgroup": "Rare (Count)",
         "orientation": "v",
         "showlegend": true,
         "textposition": "auto",
         "type": "bar",
         "x": [
          "Jazz / Warid",
          "Zong",
          "Ufone",
          "Telenor"
         ],
         "xaxis": "x",
         "y": [
          4320,
          1120,
          360,
          720
         ],
         "yaxis": "y"
        },
        {
         "alignmentgroup": "True",
         "hovertemplate": "variable=Once in a year (Count)<br>Network=%{x}<br>value=%{y}<extra></extra>",
         "legendgroup": "Once in a year (Count)",
         "marker": {
          "color": "#EF553B",
          "pattern": {
           "shape": ""
          }
         },
         "name": "Once in a year (Count)",
         "offsetgroup": "Once in a year (Count)",
         "orientation": "v",
         "showlegend": true,
         "textposition": "auto",
         "type": "bar",
         "x": [
          "Jazz / Warid",
          "Zong",
          "Ufone",
          "Telenor"
         ],
         "xaxis": "x",
         "y": [
          720,
          120,
          0,
          120
         ],
         "yaxis": "y"
        },
        {
         "alignmentgroup": "True",
         "hovertemplate": "variable=Once in a Month (Count)<br>Network=%{x}<br>value=%{y}<extra></extra>",
         "legendgroup": "Once in a Month (Count)",
         "marker": {
          "color": "#00cc96",
          "pattern": {
           "shape": ""
          }
         },
         "name": "Once in a Month (Count)",
         "offsetgroup": "Once in a Month (Count)",
         "orientation": "v",
         "showlegend": true,
         "textposition": "auto",
         "type": "bar",
         "x": [
          "Jazz / Warid",
          "Zong",
          "Ufone",
          "Telenor"
         ],
         "xaxis": "x",
         "y": [
          920,
          400,
          40,
          80
         ],
         "yaxis": "y"
        },
        {
         "alignmentgroup": "True",
         "hovertemplate": "variable=Once in a Week (Count)<br>Network=%{x}<br>value=%{y}<extra></extra>",
         "legendgroup": "Once in a Week (Count)",
         "marker": {
          "color": "#ab63fa",
          "pattern": {
           "shape": ""
          }
         },
         "name": "Once in a Week (Count)",
         "offsetgroup": "Once in a Week (Count)",
         "orientation": "v",
         "showlegend": true,
         "textposition": "auto",
         "type": "bar",
         "x": [
          "Jazz / Warid",
          "Zong",
          "Ufone",
          "Telenor"
         ],
         "xaxis": "x",
         "y": [
          480,
          160,
          0,
          200
         ],
         "yaxis": "y"
        }
       ],
       "layout": {
        "barmode": "stack",
        "legend": {
         "title": {
          "text": "variable"
         },
         "tracegroupgap": 0
        },
        "template": {
         "data": {
          "bar": [
           {
            "error_x": {
             "color": "#2a3f5f"
            },
            "error_y": {
             "color": "#2a3f5f"
            },
            "marker": {
             "line": {
              "color": "#E5ECF6",
              "width": 0.5
             },
             "pattern": {
              "fillmode": "overlay",
              "size": 10,
              "solidity": 0.2
             }
            },
            "type": "bar"
           }
          ],
          "barpolar": [
           {
            "marker": {
             "line": {
              "color": "#E5ECF6",
              "width": 0.5
             },
             "pattern": {
              "fillmode": "overlay",
              "size": 10,
              "solidity": 0.2
             }
            },
            "type": "barpolar"
           }
          ],
          "carpet": [
           {
            "aaxis": {
             "endlinecolor": "#2a3f5f",
             "gridcolor": "white",
             "linecolor": "white",
             "minorgridcolor": "white",
             "startlinecolor": "#2a3f5f"
            },
            "baxis": {
             "endlinecolor": "#2a3f5f",
             "gridcolor": "white",
             "linecolor": "white",
             "minorgridcolor": "white",
             "startlinecolor": "#2a3f5f"
            },
            "type": "carpet"
           }
          ],
          "choropleth": [
           {
            "colorbar": {
             "outlinewidth": 0,
             "ticks": ""
            },
            "type": "choropleth"
           }
          ],
          "contour": [
           {
            "colorbar": {
             "outlinewidth": 0,
             "ticks": ""
            },
            "colorscale": [
             [
              0,
              "#0d0887"
             ],
             [
              0.1111111111111111,
              "#46039f"
             ],
             [
              0.2222222222222222,
              "#7201a8"
             ],
             [
              0.3333333333333333,
              "#9c179e"
             ],
             [
              0.4444444444444444,
              "#bd3786"
             ],
             [
              0.5555555555555556,
              "#d8576b"
             ],
             [
              0.6666666666666666,
              "#ed7953"
             ],
             [
              0.7777777777777778,
              "#fb9f3a"
             ],
             [
              0.8888888888888888,
              "#fdca26"
             ],
             [
              1,
              "#f0f921"
             ]
            ],
            "type": "contour"
           }
          ],
          "contourcarpet": [
           {
            "colorbar": {
             "outlinewidth": 0,
             "ticks": ""
            },
            "type": "contourcarpet"
           }
          ],
          "heatmap": [
           {
            "colorbar": {
             "outlinewidth": 0,
             "ticks": ""
            },
            "colorscale": [
             [
              0,
              "#0d0887"
             ],
             [
              0.1111111111111111,
              "#46039f"
             ],
             [
              0.2222222222222222,
              "#7201a8"
             ],
             [
              0.3333333333333333,
              "#9c179e"
             ],
             [
              0.4444444444444444,
              "#bd3786"
             ],
             [
              0.5555555555555556,
              "#d8576b"
             ],
             [
              0.6666666666666666,
              "#ed7953"
             ],
             [
              0.7777777777777778,
              "#fb9f3a"
             ],
             [
              0.8888888888888888,
              "#fdca26"
             ],
             [
              1,
              "#f0f921"
             ]
            ],
            "type": "heatmap"
           }
          ],
          "heatmapgl": [
           {
            "colorbar": {
             "outlinewidth": 0,
             "ticks": ""
            },
            "colorscale": [
             [
              0,
              "#0d0887"
             ],
             [
              0.1111111111111111,
              "#46039f"
             ],
             [
              0.2222222222222222,
              "#7201a8"
             ],
             [
              0.3333333333333333,
              "#9c179e"
             ],
             [
              0.4444444444444444,
              "#bd3786"
             ],
             [
              0.5555555555555556,
              "#d8576b"
             ],
             [
              0.6666666666666666,
              "#ed7953"
             ],
             [
              0.7777777777777778,
              "#fb9f3a"
             ],
             [
              0.8888888888888888,
              "#fdca26"
             ],
             [
              1,
              "#f0f921"
             ]
            ],
            "type": "heatmapgl"
           }
          ],
          "histogram": [
           {
            "marker": {
             "pattern": {
              "fillmode": "overlay",
              "size": 10,
              "solidity": 0.2
             }
            },
            "type": "histogram"
           }
          ],
          "histogram2d": [
           {
            "colorbar": {
             "outlinewidth": 0,
             "ticks": ""
            },
            "colorscale": [
             [
              0,
              "#0d0887"
             ],
             [
              0.1111111111111111,
              "#46039f"
             ],
             [
              0.2222222222222222,
              "#7201a8"
             ],
             [
              0.3333333333333333,
              "#9c179e"
             ],
             [
              0.4444444444444444,
              "#bd3786"
             ],
             [
              0.5555555555555556,
              "#d8576b"
             ],
             [
              0.6666666666666666,
              "#ed7953"
             ],
             [
              0.7777777777777778,
              "#fb9f3a"
             ],
             [
              0.8888888888888888,
              "#fdca26"
             ],
             [
              1,
              "#f0f921"
             ]
            ],
            "type": "histogram2d"
           }
          ],
          "histogram2dcontour": [
           {
            "colorbar": {
             "outlinewidth": 0,
             "ticks": ""
            },
            "colorscale": [
             [
              0,
              "#0d0887"
             ],
             [
              0.1111111111111111,
              "#46039f"
             ],
             [
              0.2222222222222222,
              "#7201a8"
             ],
             [
              0.3333333333333333,
              "#9c179e"
             ],
             [
              0.4444444444444444,
              "#bd3786"
             ],
             [
              0.5555555555555556,
              "#d8576b"
             ],
             [
              0.6666666666666666,
              "#ed7953"
             ],
             [
              0.7777777777777778,
              "#fb9f3a"
             ],
             [
              0.8888888888888888,
              "#fdca26"
             ],
             [
              1,
              "#f0f921"
             ]
            ],
            "type": "histogram2dcontour"
           }
          ],
          "mesh3d": [
           {
            "colorbar": {
             "outlinewidth": 0,
             "ticks": ""
            },
            "type": "mesh3d"
           }
          ],
          "parcoords": [
           {
            "line": {
             "colorbar": {
              "outlinewidth": 0,
              "ticks": ""
             }
            },
            "type": "parcoords"
           }
          ],
          "pie": [
           {
            "automargin": true,
            "type": "pie"
           }
          ],
          "scatter": [
           {
            "fillpattern": {
             "fillmode": "overlay",
             "size": 10,
             "solidity": 0.2
            },
            "type": "scatter"
           }
          ],
          "scatter3d": [
           {
            "line": {
             "colorbar": {
              "outlinewidth": 0,
              "ticks": ""
             }
            },
            "marker": {
             "colorbar": {
              "outlinewidth": 0,
              "ticks": ""
             }
            },
            "type": "scatter3d"
           }
          ],
          "scattercarpet": [
           {
            "marker": {
             "colorbar": {
              "outlinewidth": 0,
              "ticks": ""
             }
            },
            "type": "scattercarpet"
           }
          ],
          "scattergeo": [
           {
            "marker": {
             "colorbar": {
              "outlinewidth": 0,
              "ticks": ""
             }
            },
            "type": "scattergeo"
           }
          ],
          "scattergl": [
           {
            "marker": {
             "colorbar": {
              "outlinewidth": 0,
              "ticks": ""
             }
            },
            "type": "scattergl"
           }
          ],
          "scattermapbox": [
           {
            "marker": {
             "colorbar": {
              "outlinewidth": 0,
              "ticks": ""
             }
            },
            "type": "scattermapbox"
           }
          ],
          "scatterpolar": [
           {
            "marker": {
             "colorbar": {
              "outlinewidth": 0,
              "ticks": ""
             }
            },
            "type": "scatterpolar"
           }
          ],
          "scatterpolargl": [
           {
            "marker": {
             "colorbar": {
              "outlinewidth": 0,
              "ticks": ""
             }
            },
            "type": "scatterpolargl"
           }
          ],
          "scatterternary": [
           {
            "marker": {
             "colorbar": {
              "outlinewidth": 0,
              "ticks": ""
             }
            },
            "type": "scatterternary"
           }
          ],
          "surface": [
           {
            "colorbar": {
             "outlinewidth": 0,
             "ticks": ""
            },
            "colorscale": [
             [
              0,
              "#0d0887"
             ],
             [
              0.1111111111111111,
              "#46039f"
             ],
             [
              0.2222222222222222,
              "#7201a8"
             ],
             [
              0.3333333333333333,
              "#9c179e"
             ],
             [
              0.4444444444444444,
              "#bd3786"
             ],
             [
              0.5555555555555556,
              "#d8576b"
             ],
             [
              0.6666666666666666,
              "#ed7953"
             ],
             [
              0.7777777777777778,
              "#fb9f3a"
             ],
             [
              0.8888888888888888,
              "#fdca26"
             ],
             [
              1,
              "#f0f921"
             ]
            ],
            "type": "surface"
           }
          ],
          "table": [
           {
            "cells": {
             "fill": {
              "color": "#EBF0F8"
             },
             "line": {
              "color": "white"
             }
            },
            "header": {
             "fill": {
              "color": "#C8D4E3"
             },
             "line": {
              "color": "white"
             }
            },
            "type": "table"
           }
          ]
         },
         "layout": {
          "annotationdefaults": {
           "arrowcolor": "#2a3f5f",
           "arrowhead": 0,
           "arrowwidth": 1
          },
          "autotypenumbers": "strict",
          "coloraxis": {
           "colorbar": {
            "outlinewidth": 0,
            "ticks": ""
           }
          },
          "colorscale": {
           "diverging": [
            [
             0,
             "#8e0152"
            ],
            [
             0.1,
             "#c51b7d"
            ],
            [
             0.2,
             "#de77ae"
            ],
            [
             0.3,
             "#f1b6da"
            ],
            [
             0.4,
             "#fde0ef"
            ],
            [
             0.5,
             "#f7f7f7"
            ],
            [
             0.6,
             "#e6f5d0"
            ],
            [
             0.7,
             "#b8e186"
            ],
            [
             0.8,
             "#7fbc41"
            ],
            [
             0.9,
             "#4d9221"
            ],
            [
             1,
             "#276419"
            ]
           ],
           "sequential": [
            [
             0,
             "#0d0887"
            ],
            [
             0.1111111111111111,
             "#46039f"
            ],
            [
             0.2222222222222222,
             "#7201a8"
            ],
            [
             0.3333333333333333,
             "#9c179e"
            ],
            [
             0.4444444444444444,
             "#bd3786"
            ],
            [
             0.5555555555555556,
             "#d8576b"
            ],
            [
             0.6666666666666666,
             "#ed7953"
            ],
            [
             0.7777777777777778,
             "#fb9f3a"
            ],
            [
             0.8888888888888888,
             "#fdca26"
            ],
            [
             1,
             "#f0f921"
            ]
           ],
           "sequentialminus": [
            [
             0,
             "#0d0887"
            ],
            [
             0.1111111111111111,
             "#46039f"
            ],
            [
             0.2222222222222222,
             "#7201a8"
            ],
            [
             0.3333333333333333,
             "#9c179e"
            ],
            [
             0.4444444444444444,
             "#bd3786"
            ],
            [
             0.5555555555555556,
             "#d8576b"
            ],
            [
             0.6666666666666666,
             "#ed7953"
            ],
            [
             0.7777777777777778,
             "#fb9f3a"
            ],
            [
             0.8888888888888888,
             "#fdca26"
            ],
            [
             1,
             "#f0f921"
            ]
           ]
          },
          "colorway": [
           "#636efa",
           "#EF553B",
           "#00cc96",
           "#ab63fa",
           "#FFA15A",
           "#19d3f3",
           "#FF6692",
           "#B6E880",
           "#FF97FF",
           "#FECB52"
          ],
          "font": {
           "color": "#2a3f5f"
          },
          "geo": {
           "bgcolor": "white",
           "lakecolor": "white",
           "landcolor": "#E5ECF6",
           "showlakes": true,
           "showland": true,
           "subunitcolor": "white"
          },
          "hoverlabel": {
           "align": "left"
          },
          "hovermode": "closest",
          "mapbox": {
           "style": "light"
          },
          "paper_bgcolor": "white",
          "plot_bgcolor": "#E5ECF6",
          "polar": {
           "angularaxis": {
            "gridcolor": "white",
            "linecolor": "white",
            "ticks": ""
           },
           "bgcolor": "#E5ECF6",
           "radialaxis": {
            "gridcolor": "white",
            "linecolor": "white",
            "ticks": ""
           }
          },
          "scene": {
           "xaxis": {
            "backgroundcolor": "#E5ECF6",
            "gridcolor": "white",
            "gridwidth": 2,
            "linecolor": "white",
            "showbackground": true,
            "ticks": "",
            "zerolinecolor": "white"
           },
           "yaxis": {
            "backgroundcolor": "#E5ECF6",
            "gridcolor": "white",
            "gridwidth": 2,
            "linecolor": "white",
            "showbackground": true,
            "ticks": "",
            "zerolinecolor": "white"
           },
           "zaxis": {
            "backgroundcolor": "#E5ECF6",
            "gridcolor": "white",
            "gridwidth": 2,
            "linecolor": "white",
            "showbackground": true,
            "ticks": "",
            "zerolinecolor": "white"
           }
          },
          "shapedefaults": {
           "line": {
            "color": "#2a3f5f"
           }
          },
          "ternary": {
           "aaxis": {
            "gridcolor": "white",
            "linecolor": "white",
            "ticks": ""
           },
           "baxis": {
            "gridcolor": "white",
            "linecolor": "white",
            "ticks": ""
           },
           "bgcolor": "#E5ECF6",
           "caxis": {
            "gridcolor": "white",
            "linecolor": "white",
            "ticks": ""
           }
          },
          "title": {
           "x": 0.05
          },
          "xaxis": {
           "automargin": true,
           "gridcolor": "white",
           "linecolor": "white",
           "ticks": "",
           "title": {
            "standoff": 15
           },
           "zerolinecolor": "white",
           "zerolinewidth": 2
          },
          "yaxis": {
           "automargin": true,
           "gridcolor": "white",
           "linecolor": "white",
           "ticks": "",
           "title": {
            "standoff": 15
           },
           "zerolinecolor": "white",
           "zerolinewidth": 2
          }
         }
        },
        "title": {
         "text": "Customer Care Calling Rates by Network"
        },
        "xaxis": {
         "anchor": "y",
         "domain": [
          0,
          1
         ],
         "title": {
          "text": "Network"
         }
        },
        "yaxis": {
         "anchor": "x",
         "domain": [
          0,
          1
         ],
         "title": {
          "text": "Count"
         }
        }
       }
      },
      "text/html": [
       "<div>                            <div id=\"fd326b3f-a4c4-4568-a002-847d9e875239\" class=\"plotly-graph-div\" style=\"height:525px; width:100%;\"></div>            <script type=\"text/javascript\">                require([\"plotly\"], function(Plotly) {                    window.PLOTLYENV=window.PLOTLYENV || {};                                    if (document.getElementById(\"fd326b3f-a4c4-4568-a002-847d9e875239\")) {                    Plotly.newPlot(                        \"fd326b3f-a4c4-4568-a002-847d9e875239\",                        [{\"alignmentgroup\":\"True\",\"hovertemplate\":\"variable=Rare (Count)<br>Network=%{x}<br>value=%{y}<extra></extra>\",\"legendgroup\":\"Rare (Count)\",\"marker\":{\"color\":\"#636efa\",\"pattern\":{\"shape\":\"\"}},\"name\":\"Rare (Count)\",\"offsetgroup\":\"Rare (Count)\",\"orientation\":\"v\",\"showlegend\":true,\"textposition\":\"auto\",\"x\":[\"Jazz / Warid\",\"Zong\",\"Ufone\",\"Telenor\"],\"xaxis\":\"x\",\"y\":[4320,1120,360,720],\"yaxis\":\"y\",\"type\":\"bar\"},{\"alignmentgroup\":\"True\",\"hovertemplate\":\"variable=Once in a year (Count)<br>Network=%{x}<br>value=%{y}<extra></extra>\",\"legendgroup\":\"Once in a year (Count)\",\"marker\":{\"color\":\"#EF553B\",\"pattern\":{\"shape\":\"\"}},\"name\":\"Once in a year (Count)\",\"offsetgroup\":\"Once in a year (Count)\",\"orientation\":\"v\",\"showlegend\":true,\"textposition\":\"auto\",\"x\":[\"Jazz / Warid\",\"Zong\",\"Ufone\",\"Telenor\"],\"xaxis\":\"x\",\"y\":[720,120,0,120],\"yaxis\":\"y\",\"type\":\"bar\"},{\"alignmentgroup\":\"True\",\"hovertemplate\":\"variable=Once in a Month (Count)<br>Network=%{x}<br>value=%{y}<extra></extra>\",\"legendgroup\":\"Once in a Month (Count)\",\"marker\":{\"color\":\"#00cc96\",\"pattern\":{\"shape\":\"\"}},\"name\":\"Once in a Month (Count)\",\"offsetgroup\":\"Once in a Month (Count)\",\"orientation\":\"v\",\"showlegend\":true,\"textposition\":\"auto\",\"x\":[\"Jazz / Warid\",\"Zong\",\"Ufone\",\"Telenor\"],\"xaxis\":\"x\",\"y\":[920,400,40,80],\"yaxis\":\"y\",\"type\":\"bar\"},{\"alignmentgroup\":\"True\",\"hovertemplate\":\"variable=Once in a Week (Count)<br>Network=%{x}<br>value=%{y}<extra></extra>\",\"legendgroup\":\"Once in a Week (Count)\",\"marker\":{\"color\":\"#ab63fa\",\"pattern\":{\"shape\":\"\"}},\"name\":\"Once in a Week (Count)\",\"offsetgroup\":\"Once in a Week (Count)\",\"orientation\":\"v\",\"showlegend\":true,\"textposition\":\"auto\",\"x\":[\"Jazz / Warid\",\"Zong\",\"Ufone\",\"Telenor\"],\"xaxis\":\"x\",\"y\":[480,160,0,200],\"yaxis\":\"y\",\"type\":\"bar\"}],                        {\"template\":{\"data\":{\"histogram2dcontour\":[{\"type\":\"histogram2dcontour\",\"colorbar\":{\"outlinewidth\":0,\"ticks\":\"\"},\"colorscale\":[[0.0,\"#0d0887\"],[0.1111111111111111,\"#46039f\"],[0.2222222222222222,\"#7201a8\"],[0.3333333333333333,\"#9c179e\"],[0.4444444444444444,\"#bd3786\"],[0.5555555555555556,\"#d8576b\"],[0.6666666666666666,\"#ed7953\"],[0.7777777777777778,\"#fb9f3a\"],[0.8888888888888888,\"#fdca26\"],[1.0,\"#f0f921\"]]}],\"choropleth\":[{\"type\":\"choropleth\",\"colorbar\":{\"outlinewidth\":0,\"ticks\":\"\"}}],\"histogram2d\":[{\"type\":\"histogram2d\",\"colorbar\":{\"outlinewidth\":0,\"ticks\":\"\"},\"colorscale\":[[0.0,\"#0d0887\"],[0.1111111111111111,\"#46039f\"],[0.2222222222222222,\"#7201a8\"],[0.3333333333333333,\"#9c179e\"],[0.4444444444444444,\"#bd3786\"],[0.5555555555555556,\"#d8576b\"],[0.6666666666666666,\"#ed7953\"],[0.7777777777777778,\"#fb9f3a\"],[0.8888888888888888,\"#fdca26\"],[1.0,\"#f0f921\"]]}],\"heatmap\":[{\"type\":\"heatmap\",\"colorbar\":{\"outlinewidth\":0,\"ticks\":\"\"},\"colorscale\":[[0.0,\"#0d0887\"],[0.1111111111111111,\"#46039f\"],[0.2222222222222222,\"#7201a8\"],[0.3333333333333333,\"#9c179e\"],[0.4444444444444444,\"#bd3786\"],[0.5555555555555556,\"#d8576b\"],[0.6666666666666666,\"#ed7953\"],[0.7777777777777778,\"#fb9f3a\"],[0.8888888888888888,\"#fdca26\"],[1.0,\"#f0f921\"]]}],\"heatmapgl\":[{\"type\":\"heatmapgl\",\"colorbar\":{\"outlinewidth\":0,\"ticks\":\"\"},\"colorscale\":[[0.0,\"#0d0887\"],[0.1111111111111111,\"#46039f\"],[0.2222222222222222,\"#7201a8\"],[0.3333333333333333,\"#9c179e\"],[0.4444444444444444,\"#bd3786\"],[0.5555555555555556,\"#d8576b\"],[0.6666666666666666,\"#ed7953\"],[0.7777777777777778,\"#fb9f3a\"],[0.8888888888888888,\"#fdca26\"],[1.0,\"#f0f921\"]]}],\"contourcarpet\":[{\"type\":\"contourcarpet\",\"colorbar\":{\"outlinewidth\":0,\"ticks\":\"\"}}],\"contour\":[{\"type\":\"contour\",\"colorbar\":{\"outlinewidth\":0,\"ticks\":\"\"},\"colorscale\":[[0.0,\"#0d0887\"],[0.1111111111111111,\"#46039f\"],[0.2222222222222222,\"#7201a8\"],[0.3333333333333333,\"#9c179e\"],[0.4444444444444444,\"#bd3786\"],[0.5555555555555556,\"#d8576b\"],[0.6666666666666666,\"#ed7953\"],[0.7777777777777778,\"#fb9f3a\"],[0.8888888888888888,\"#fdca26\"],[1.0,\"#f0f921\"]]}],\"surface\":[{\"type\":\"surface\",\"colorbar\":{\"outlinewidth\":0,\"ticks\":\"\"},\"colorscale\":[[0.0,\"#0d0887\"],[0.1111111111111111,\"#46039f\"],[0.2222222222222222,\"#7201a8\"],[0.3333333333333333,\"#9c179e\"],[0.4444444444444444,\"#bd3786\"],[0.5555555555555556,\"#d8576b\"],[0.6666666666666666,\"#ed7953\"],[0.7777777777777778,\"#fb9f3a\"],[0.8888888888888888,\"#fdca26\"],[1.0,\"#f0f921\"]]}],\"mesh3d\":[{\"type\":\"mesh3d\",\"colorbar\":{\"outlinewidth\":0,\"ticks\":\"\"}}],\"scatter\":[{\"fillpattern\":{\"fillmode\":\"overlay\",\"size\":10,\"solidity\":0.2},\"type\":\"scatter\"}],\"parcoords\":[{\"type\":\"parcoords\",\"line\":{\"colorbar\":{\"outlinewidth\":0,\"ticks\":\"\"}}}],\"scatterpolargl\":[{\"type\":\"scatterpolargl\",\"marker\":{\"colorbar\":{\"outlinewidth\":0,\"ticks\":\"\"}}}],\"bar\":[{\"error_x\":{\"color\":\"#2a3f5f\"},\"error_y\":{\"color\":\"#2a3f5f\"},\"marker\":{\"line\":{\"color\":\"#E5ECF6\",\"width\":0.5},\"pattern\":{\"fillmode\":\"overlay\",\"size\":10,\"solidity\":0.2}},\"type\":\"bar\"}],\"scattergeo\":[{\"type\":\"scattergeo\",\"marker\":{\"colorbar\":{\"outlinewidth\":0,\"ticks\":\"\"}}}],\"scatterpolar\":[{\"type\":\"scatterpolar\",\"marker\":{\"colorbar\":{\"outlinewidth\":0,\"ticks\":\"\"}}}],\"histogram\":[{\"marker\":{\"pattern\":{\"fillmode\":\"overlay\",\"size\":10,\"solidity\":0.2}},\"type\":\"histogram\"}],\"scattergl\":[{\"type\":\"scattergl\",\"marker\":{\"colorbar\":{\"outlinewidth\":0,\"ticks\":\"\"}}}],\"scatter3d\":[{\"type\":\"scatter3d\",\"line\":{\"colorbar\":{\"outlinewidth\":0,\"ticks\":\"\"}},\"marker\":{\"colorbar\":{\"outlinewidth\":0,\"ticks\":\"\"}}}],\"scattermapbox\":[{\"type\":\"scattermapbox\",\"marker\":{\"colorbar\":{\"outlinewidth\":0,\"ticks\":\"\"}}}],\"scatterternary\":[{\"type\":\"scatterternary\",\"marker\":{\"colorbar\":{\"outlinewidth\":0,\"ticks\":\"\"}}}],\"scattercarpet\":[{\"type\":\"scattercarpet\",\"marker\":{\"colorbar\":{\"outlinewidth\":0,\"ticks\":\"\"}}}],\"carpet\":[{\"aaxis\":{\"endlinecolor\":\"#2a3f5f\",\"gridcolor\":\"white\",\"linecolor\":\"white\",\"minorgridcolor\":\"white\",\"startlinecolor\":\"#2a3f5f\"},\"baxis\":{\"endlinecolor\":\"#2a3f5f\",\"gridcolor\":\"white\",\"linecolor\":\"white\",\"minorgridcolor\":\"white\",\"startlinecolor\":\"#2a3f5f\"},\"type\":\"carpet\"}],\"table\":[{\"cells\":{\"fill\":{\"color\":\"#EBF0F8\"},\"line\":{\"color\":\"white\"}},\"header\":{\"fill\":{\"color\":\"#C8D4E3\"},\"line\":{\"color\":\"white\"}},\"type\":\"table\"}],\"barpolar\":[{\"marker\":{\"line\":{\"color\":\"#E5ECF6\",\"width\":0.5},\"pattern\":{\"fillmode\":\"overlay\",\"size\":10,\"solidity\":0.2}},\"type\":\"barpolar\"}],\"pie\":[{\"automargin\":true,\"type\":\"pie\"}]},\"layout\":{\"autotypenumbers\":\"strict\",\"colorway\":[\"#636efa\",\"#EF553B\",\"#00cc96\",\"#ab63fa\",\"#FFA15A\",\"#19d3f3\",\"#FF6692\",\"#B6E880\",\"#FF97FF\",\"#FECB52\"],\"font\":{\"color\":\"#2a3f5f\"},\"hovermode\":\"closest\",\"hoverlabel\":{\"align\":\"left\"},\"paper_bgcolor\":\"white\",\"plot_bgcolor\":\"#E5ECF6\",\"polar\":{\"bgcolor\":\"#E5ECF6\",\"angularaxis\":{\"gridcolor\":\"white\",\"linecolor\":\"white\",\"ticks\":\"\"},\"radialaxis\":{\"gridcolor\":\"white\",\"linecolor\":\"white\",\"ticks\":\"\"}},\"ternary\":{\"bgcolor\":\"#E5ECF6\",\"aaxis\":{\"gridcolor\":\"white\",\"linecolor\":\"white\",\"ticks\":\"\"},\"baxis\":{\"gridcolor\":\"white\",\"linecolor\":\"white\",\"ticks\":\"\"},\"caxis\":{\"gridcolor\":\"white\",\"linecolor\":\"white\",\"ticks\":\"\"}},\"coloraxis\":{\"colorbar\":{\"outlinewidth\":0,\"ticks\":\"\"}},\"colorscale\":{\"sequential\":[[0.0,\"#0d0887\"],[0.1111111111111111,\"#46039f\"],[0.2222222222222222,\"#7201a8\"],[0.3333333333333333,\"#9c179e\"],[0.4444444444444444,\"#bd3786\"],[0.5555555555555556,\"#d8576b\"],[0.6666666666666666,\"#ed7953\"],[0.7777777777777778,\"#fb9f3a\"],[0.8888888888888888,\"#fdca26\"],[1.0,\"#f0f921\"]],\"sequentialminus\":[[0.0,\"#0d0887\"],[0.1111111111111111,\"#46039f\"],[0.2222222222222222,\"#7201a8\"],[0.3333333333333333,\"#9c179e\"],[0.4444444444444444,\"#bd3786\"],[0.5555555555555556,\"#d8576b\"],[0.6666666666666666,\"#ed7953\"],[0.7777777777777778,\"#fb9f3a\"],[0.8888888888888888,\"#fdca26\"],[1.0,\"#f0f921\"]],\"diverging\":[[0,\"#8e0152\"],[0.1,\"#c51b7d\"],[0.2,\"#de77ae\"],[0.3,\"#f1b6da\"],[0.4,\"#fde0ef\"],[0.5,\"#f7f7f7\"],[0.6,\"#e6f5d0\"],[0.7,\"#b8e186\"],[0.8,\"#7fbc41\"],[0.9,\"#4d9221\"],[1,\"#276419\"]]},\"xaxis\":{\"gridcolor\":\"white\",\"linecolor\":\"white\",\"ticks\":\"\",\"title\":{\"standoff\":15},\"zerolinecolor\":\"white\",\"automargin\":true,\"zerolinewidth\":2},\"yaxis\":{\"gridcolor\":\"white\",\"linecolor\":\"white\",\"ticks\":\"\",\"title\":{\"standoff\":15},\"zerolinecolor\":\"white\",\"automargin\":true,\"zerolinewidth\":2},\"scene\":{\"xaxis\":{\"backgroundcolor\":\"#E5ECF6\",\"gridcolor\":\"white\",\"linecolor\":\"white\",\"showbackground\":true,\"ticks\":\"\",\"zerolinecolor\":\"white\",\"gridwidth\":2},\"yaxis\":{\"backgroundcolor\":\"#E5ECF6\",\"gridcolor\":\"white\",\"linecolor\":\"white\",\"showbackground\":true,\"ticks\":\"\",\"zerolinecolor\":\"white\",\"gridwidth\":2},\"zaxis\":{\"backgroundcolor\":\"#E5ECF6\",\"gridcolor\":\"white\",\"linecolor\":\"white\",\"showbackground\":true,\"ticks\":\"\",\"zerolinecolor\":\"white\",\"gridwidth\":2}},\"shapedefaults\":{\"line\":{\"color\":\"#2a3f5f\"}},\"annotationdefaults\":{\"arrowcolor\":\"#2a3f5f\",\"arrowhead\":0,\"arrowwidth\":1},\"geo\":{\"bgcolor\":\"white\",\"landcolor\":\"#E5ECF6\",\"subunitcolor\":\"white\",\"showland\":true,\"showlakes\":true,\"lakecolor\":\"white\"},\"title\":{\"x\":0.05},\"mapbox\":{\"style\":\"light\"}}},\"xaxis\":{\"anchor\":\"y\",\"domain\":[0.0,1.0],\"title\":{\"text\":\"Network\"}},\"yaxis\":{\"anchor\":\"x\",\"domain\":[0.0,1.0],\"title\":{\"text\":\"Count\"}},\"legend\":{\"title\":{\"text\":\"variable\"},\"tracegroupgap\":0},\"title\":{\"text\":\"Customer Care Calling Rates by Network\"},\"barmode\":\"stack\"},                        {\"responsive\": true}                    ).then(function(){\n",
       "                            \n",
       "var gd = document.getElementById('fd326b3f-a4c4-4568-a002-847d9e875239');\n",
       "var x = new MutationObserver(function (mutations, observer) {{\n",
       "        var display = window.getComputedStyle(gd).display;\n",
       "        if (!display || display === 'none') {{\n",
       "            console.log([gd, 'removed!']);\n",
       "            Plotly.purge(gd);\n",
       "            observer.disconnect();\n",
       "        }}\n",
       "}});\n",
       "\n",
       "// Listen for the removal of the full notebook cells\n",
       "var notebookContainer = gd.closest('#notebook-container');\n",
       "if (notebookContainer) {{\n",
       "    x.observe(notebookContainer, {childList: true});\n",
       "}}\n",
       "\n",
       "// Listen for the clearing of the current output cell\n",
       "var outputEl = gd.closest('.output');\n",
       "if (outputEl) {{\n",
       "    x.observe(outputEl, {childList: true});\n",
       "}}\n",
       "\n",
       "                        })                };                });            </script>        </div>"
      ]
     },
     "metadata": {},
     "output_type": "display_data"
    }
   ],
   "source": [
    "fig = px.bar(df_bar, x='Network', y=['Rare (Count)','Once in a year (Count)','Once in a Month (Count)','Once in a Week (Count)'], barmode='stack', title='Customer Care Calling Rates by Network')\n",
    "fig.update_layout(\n",
    "    xaxis_title=\"Network\", yaxis_title=\"Count\"\n",
    ")"
   ]
  },
  {
   "cell_type": "code",
   "execution_count": 47,
   "metadata": {
    "id": "hFT3jtRiNDHL"
   },
   "outputs": [],
   "source": [
    "Network = ['Jazz / Warid', 'Zong', 'Ufone', 'Telenor']\n",
    "\n",
    "complains = [\n",
    "    (df_jazz['reascon_of_contact_cc'] == 'Complaints').value_counts().get(True, 0),\n",
    "    (df_zong['reascon_of_contact_cc'] == 'Complaints').value_counts().get(True, 0),\n",
    "    (df_ufone['reascon_of_contact_cc'] == 'Complaints').value_counts().get(True, 0),\n",
    "    (df_telenor['reascon_of_contact_cc'] == 'Complaints').value_counts().get(True, 0)\n",
    "]\n",
    "\n",
    "Information_schemes = [\n",
    "    (df_jazz['reascon_of_contact_cc'] == 'Information regarding new schemes').value_counts().get(True, 0),\n",
    "    (df_zong['reascon_of_contact_cc'] == 'Information regarding new schemes').value_counts().get(True, 0),\n",
    "    (df_ufone['reascon_of_contact_cc'] == 'Information regarding new schemes').value_counts().get(True, 0),\n",
    "    (df_telenor['reascon_of_contact_cc'] == 'Information regarding new schemes').value_counts().get(True, 0)\n",
    "]\n",
    "\n",
    "Other_Queries = [\n",
    "    (df_jazz['reascon_of_contact_cc'] == 'Other Queries').value_counts().get(True, 0),\n",
    "    (df_zong['reascon_of_contact_cc'] == 'Other Queries').value_counts().get(True, 0),\n",
    "    (df_ufone['reascon_of_contact_cc'] == 'Other Queries').value_counts().get(True, 0),\n",
    "    (df_telenor['reascon_of_contact_cc'] == 'Other Queries').value_counts().get(True, 0)\n",
    "]\n",
    "\n",
    "value_services = [\n",
    "    (df_jazz['reascon_of_contact_cc'] == 'Value added services').value_counts().get(True, 0),\n",
    "    (df_zong['reascon_of_contact_cc'] == 'Value added services').value_counts().get(True, 0),\n",
    "    (df_ufone['reascon_of_contact_cc'] == 'Value added services').value_counts().get(True, 0),\n",
    "    (df_telenor['reascon_of_contact_cc'] == 'Value added services').value_counts().get(True, 0)\n",
    "]"
   ]
  },
  {
   "cell_type": "code",
   "execution_count": 48,
   "metadata": {
    "colab": {
     "base_uri": "https://localhost:8080/"
    },
    "id": "4wmo0y2ZONxL",
    "outputId": "8efa525d-36cc-405e-92fb-326fd53baede"
   },
   "outputs": [
    {
     "data": {
      "text/plain": [
       "Index(['Network', 'Complaints (Count)',\n",
       "       'Information regarding new schemes (Count)', 'Other Queries (Count)',\n",
       "       'Value added services (Count)'],\n",
       "      dtype='object')"
      ]
     },
     "execution_count": 48,
     "metadata": {},
     "output_type": "execute_result"
    }
   ],
   "source": [
    "df_bar_1 = pd.DataFrame({\n",
    "    'Network': ['Jazz / Warid', 'Zong', 'Ufone', 'Telenor'],\n",
    "    'Complaints (Count)': [2840, 520, 240, 400],\n",
    "    'Information regarding new schemes (Count)':[1360, 360, 0, 120],\n",
    "    'Other Queries (Count)':[1800, 720, 120, 360],\n",
    "    'Value added services (Count)':[440, 200, 40, 240]\n",
    "})\n",
    "\n",
    "df_bar_1.columns"
   ]
  },
  {
   "cell_type": "code",
   "execution_count": 49,
   "metadata": {
    "colab": {
     "base_uri": "https://localhost:8080/",
     "height": 542
    },
    "id": "8PbxfkPsN3nS",
    "outputId": "2c4268b1-15ca-4271-d767-814766e3f62a"
   },
   "outputs": [
    {
     "data": {
      "application/vnd.plotly.v1+json": {
       "config": {
        "plotlyServerURL": "https://plot.ly"
       },
       "data": [
        {
         "alignmentgroup": "True",
         "hovertemplate": "variable=Complaints (Count)<br>Network=%{x}<br>value=%{y}<extra></extra>",
         "legendgroup": "Complaints (Count)",
         "marker": {
          "color": "#636efa",
          "pattern": {
           "shape": ""
          }
         },
         "name": "Complaints (Count)",
         "offsetgroup": "Complaints (Count)",
         "orientation": "v",
         "showlegend": true,
         "textposition": "auto",
         "type": "bar",
         "x": [
          "Jazz / Warid",
          "Zong",
          "Ufone",
          "Telenor"
         ],
         "xaxis": "x",
         "y": [
          2840,
          520,
          240,
          400
         ],
         "yaxis": "y"
        },
        {
         "alignmentgroup": "True",
         "hovertemplate": "variable=Information regarding new schemes (Count)<br>Network=%{x}<br>value=%{y}<extra></extra>",
         "legendgroup": "Information regarding new schemes (Count)",
         "marker": {
          "color": "#EF553B",
          "pattern": {
           "shape": ""
          }
         },
         "name": "Information regarding new schemes (Count)",
         "offsetgroup": "Information regarding new schemes (Count)",
         "orientation": "v",
         "showlegend": true,
         "textposition": "auto",
         "type": "bar",
         "x": [
          "Jazz / Warid",
          "Zong",
          "Ufone",
          "Telenor"
         ],
         "xaxis": "x",
         "y": [
          1360,
          360,
          0,
          120
         ],
         "yaxis": "y"
        },
        {
         "alignmentgroup": "True",
         "hovertemplate": "variable=Other Queries (Count)<br>Network=%{x}<br>value=%{y}<extra></extra>",
         "legendgroup": "Other Queries (Count)",
         "marker": {
          "color": "#00cc96",
          "pattern": {
           "shape": ""
          }
         },
         "name": "Other Queries (Count)",
         "offsetgroup": "Other Queries (Count)",
         "orientation": "v",
         "showlegend": true,
         "textposition": "auto",
         "type": "bar",
         "x": [
          "Jazz / Warid",
          "Zong",
          "Ufone",
          "Telenor"
         ],
         "xaxis": "x",
         "y": [
          1800,
          720,
          120,
          360
         ],
         "yaxis": "y"
        },
        {
         "alignmentgroup": "True",
         "hovertemplate": "variable=Value added services (Count)<br>Network=%{x}<br>value=%{y}<extra></extra>",
         "legendgroup": "Value added services (Count)",
         "marker": {
          "color": "#ab63fa",
          "pattern": {
           "shape": ""
          }
         },
         "name": "Value added services (Count)",
         "offsetgroup": "Value added services (Count)",
         "orientation": "v",
         "showlegend": true,
         "textposition": "auto",
         "type": "bar",
         "x": [
          "Jazz / Warid",
          "Zong",
          "Ufone",
          "Telenor"
         ],
         "xaxis": "x",
         "y": [
          440,
          200,
          40,
          240
         ],
         "yaxis": "y"
        }
       ],
       "layout": {
        "barmode": "stack",
        "legend": {
         "title": {
          "text": "variable"
         },
         "tracegroupgap": 0
        },
        "template": {
         "data": {
          "bar": [
           {
            "error_x": {
             "color": "#2a3f5f"
            },
            "error_y": {
             "color": "#2a3f5f"
            },
            "marker": {
             "line": {
              "color": "#E5ECF6",
              "width": 0.5
             },
             "pattern": {
              "fillmode": "overlay",
              "size": 10,
              "solidity": 0.2
             }
            },
            "type": "bar"
           }
          ],
          "barpolar": [
           {
            "marker": {
             "line": {
              "color": "#E5ECF6",
              "width": 0.5
             },
             "pattern": {
              "fillmode": "overlay",
              "size": 10,
              "solidity": 0.2
             }
            },
            "type": "barpolar"
           }
          ],
          "carpet": [
           {
            "aaxis": {
             "endlinecolor": "#2a3f5f",
             "gridcolor": "white",
             "linecolor": "white",
             "minorgridcolor": "white",
             "startlinecolor": "#2a3f5f"
            },
            "baxis": {
             "endlinecolor": "#2a3f5f",
             "gridcolor": "white",
             "linecolor": "white",
             "minorgridcolor": "white",
             "startlinecolor": "#2a3f5f"
            },
            "type": "carpet"
           }
          ],
          "choropleth": [
           {
            "colorbar": {
             "outlinewidth": 0,
             "ticks": ""
            },
            "type": "choropleth"
           }
          ],
          "contour": [
           {
            "colorbar": {
             "outlinewidth": 0,
             "ticks": ""
            },
            "colorscale": [
             [
              0,
              "#0d0887"
             ],
             [
              0.1111111111111111,
              "#46039f"
             ],
             [
              0.2222222222222222,
              "#7201a8"
             ],
             [
              0.3333333333333333,
              "#9c179e"
             ],
             [
              0.4444444444444444,
              "#bd3786"
             ],
             [
              0.5555555555555556,
              "#d8576b"
             ],
             [
              0.6666666666666666,
              "#ed7953"
             ],
             [
              0.7777777777777778,
              "#fb9f3a"
             ],
             [
              0.8888888888888888,
              "#fdca26"
             ],
             [
              1,
              "#f0f921"
             ]
            ],
            "type": "contour"
           }
          ],
          "contourcarpet": [
           {
            "colorbar": {
             "outlinewidth": 0,
             "ticks": ""
            },
            "type": "contourcarpet"
           }
          ],
          "heatmap": [
           {
            "colorbar": {
             "outlinewidth": 0,
             "ticks": ""
            },
            "colorscale": [
             [
              0,
              "#0d0887"
             ],
             [
              0.1111111111111111,
              "#46039f"
             ],
             [
              0.2222222222222222,
              "#7201a8"
             ],
             [
              0.3333333333333333,
              "#9c179e"
             ],
             [
              0.4444444444444444,
              "#bd3786"
             ],
             [
              0.5555555555555556,
              "#d8576b"
             ],
             [
              0.6666666666666666,
              "#ed7953"
             ],
             [
              0.7777777777777778,
              "#fb9f3a"
             ],
             [
              0.8888888888888888,
              "#fdca26"
             ],
             [
              1,
              "#f0f921"
             ]
            ],
            "type": "heatmap"
           }
          ],
          "heatmapgl": [
           {
            "colorbar": {
             "outlinewidth": 0,
             "ticks": ""
            },
            "colorscale": [
             [
              0,
              "#0d0887"
             ],
             [
              0.1111111111111111,
              "#46039f"
             ],
             [
              0.2222222222222222,
              "#7201a8"
             ],
             [
              0.3333333333333333,
              "#9c179e"
             ],
             [
              0.4444444444444444,
              "#bd3786"
             ],
             [
              0.5555555555555556,
              "#d8576b"
             ],
             [
              0.6666666666666666,
              "#ed7953"
             ],
             [
              0.7777777777777778,
              "#fb9f3a"
             ],
             [
              0.8888888888888888,
              "#fdca26"
             ],
             [
              1,
              "#f0f921"
             ]
            ],
            "type": "heatmapgl"
           }
          ],
          "histogram": [
           {
            "marker": {
             "pattern": {
              "fillmode": "overlay",
              "size": 10,
              "solidity": 0.2
             }
            },
            "type": "histogram"
           }
          ],
          "histogram2d": [
           {
            "colorbar": {
             "outlinewidth": 0,
             "ticks": ""
            },
            "colorscale": [
             [
              0,
              "#0d0887"
             ],
             [
              0.1111111111111111,
              "#46039f"
             ],
             [
              0.2222222222222222,
              "#7201a8"
             ],
             [
              0.3333333333333333,
              "#9c179e"
             ],
             [
              0.4444444444444444,
              "#bd3786"
             ],
             [
              0.5555555555555556,
              "#d8576b"
             ],
             [
              0.6666666666666666,
              "#ed7953"
             ],
             [
              0.7777777777777778,
              "#fb9f3a"
             ],
             [
              0.8888888888888888,
              "#fdca26"
             ],
             [
              1,
              "#f0f921"
             ]
            ],
            "type": "histogram2d"
           }
          ],
          "histogram2dcontour": [
           {
            "colorbar": {
             "outlinewidth": 0,
             "ticks": ""
            },
            "colorscale": [
             [
              0,
              "#0d0887"
             ],
             [
              0.1111111111111111,
              "#46039f"
             ],
             [
              0.2222222222222222,
              "#7201a8"
             ],
             [
              0.3333333333333333,
              "#9c179e"
             ],
             [
              0.4444444444444444,
              "#bd3786"
             ],
             [
              0.5555555555555556,
              "#d8576b"
             ],
             [
              0.6666666666666666,
              "#ed7953"
             ],
             [
              0.7777777777777778,
              "#fb9f3a"
             ],
             [
              0.8888888888888888,
              "#fdca26"
             ],
             [
              1,
              "#f0f921"
             ]
            ],
            "type": "histogram2dcontour"
           }
          ],
          "mesh3d": [
           {
            "colorbar": {
             "outlinewidth": 0,
             "ticks": ""
            },
            "type": "mesh3d"
           }
          ],
          "parcoords": [
           {
            "line": {
             "colorbar": {
              "outlinewidth": 0,
              "ticks": ""
             }
            },
            "type": "parcoords"
           }
          ],
          "pie": [
           {
            "automargin": true,
            "type": "pie"
           }
          ],
          "scatter": [
           {
            "fillpattern": {
             "fillmode": "overlay",
             "size": 10,
             "solidity": 0.2
            },
            "type": "scatter"
           }
          ],
          "scatter3d": [
           {
            "line": {
             "colorbar": {
              "outlinewidth": 0,
              "ticks": ""
             }
            },
            "marker": {
             "colorbar": {
              "outlinewidth": 0,
              "ticks": ""
             }
            },
            "type": "scatter3d"
           }
          ],
          "scattercarpet": [
           {
            "marker": {
             "colorbar": {
              "outlinewidth": 0,
              "ticks": ""
             }
            },
            "type": "scattercarpet"
           }
          ],
          "scattergeo": [
           {
            "marker": {
             "colorbar": {
              "outlinewidth": 0,
              "ticks": ""
             }
            },
            "type": "scattergeo"
           }
          ],
          "scattergl": [
           {
            "marker": {
             "colorbar": {
              "outlinewidth": 0,
              "ticks": ""
             }
            },
            "type": "scattergl"
           }
          ],
          "scattermapbox": [
           {
            "marker": {
             "colorbar": {
              "outlinewidth": 0,
              "ticks": ""
             }
            },
            "type": "scattermapbox"
           }
          ],
          "scatterpolar": [
           {
            "marker": {
             "colorbar": {
              "outlinewidth": 0,
              "ticks": ""
             }
            },
            "type": "scatterpolar"
           }
          ],
          "scatterpolargl": [
           {
            "marker": {
             "colorbar": {
              "outlinewidth": 0,
              "ticks": ""
             }
            },
            "type": "scatterpolargl"
           }
          ],
          "scatterternary": [
           {
            "marker": {
             "colorbar": {
              "outlinewidth": 0,
              "ticks": ""
             }
            },
            "type": "scatterternary"
           }
          ],
          "surface": [
           {
            "colorbar": {
             "outlinewidth": 0,
             "ticks": ""
            },
            "colorscale": [
             [
              0,
              "#0d0887"
             ],
             [
              0.1111111111111111,
              "#46039f"
             ],
             [
              0.2222222222222222,
              "#7201a8"
             ],
             [
              0.3333333333333333,
              "#9c179e"
             ],
             [
              0.4444444444444444,
              "#bd3786"
             ],
             [
              0.5555555555555556,
              "#d8576b"
             ],
             [
              0.6666666666666666,
              "#ed7953"
             ],
             [
              0.7777777777777778,
              "#fb9f3a"
             ],
             [
              0.8888888888888888,
              "#fdca26"
             ],
             [
              1,
              "#f0f921"
             ]
            ],
            "type": "surface"
           }
          ],
          "table": [
           {
            "cells": {
             "fill": {
              "color": "#EBF0F8"
             },
             "line": {
              "color": "white"
             }
            },
            "header": {
             "fill": {
              "color": "#C8D4E3"
             },
             "line": {
              "color": "white"
             }
            },
            "type": "table"
           }
          ]
         },
         "layout": {
          "annotationdefaults": {
           "arrowcolor": "#2a3f5f",
           "arrowhead": 0,
           "arrowwidth": 1
          },
          "autotypenumbers": "strict",
          "coloraxis": {
           "colorbar": {
            "outlinewidth": 0,
            "ticks": ""
           }
          },
          "colorscale": {
           "diverging": [
            [
             0,
             "#8e0152"
            ],
            [
             0.1,
             "#c51b7d"
            ],
            [
             0.2,
             "#de77ae"
            ],
            [
             0.3,
             "#f1b6da"
            ],
            [
             0.4,
             "#fde0ef"
            ],
            [
             0.5,
             "#f7f7f7"
            ],
            [
             0.6,
             "#e6f5d0"
            ],
            [
             0.7,
             "#b8e186"
            ],
            [
             0.8,
             "#7fbc41"
            ],
            [
             0.9,
             "#4d9221"
            ],
            [
             1,
             "#276419"
            ]
           ],
           "sequential": [
            [
             0,
             "#0d0887"
            ],
            [
             0.1111111111111111,
             "#46039f"
            ],
            [
             0.2222222222222222,
             "#7201a8"
            ],
            [
             0.3333333333333333,
             "#9c179e"
            ],
            [
             0.4444444444444444,
             "#bd3786"
            ],
            [
             0.5555555555555556,
             "#d8576b"
            ],
            [
             0.6666666666666666,
             "#ed7953"
            ],
            [
             0.7777777777777778,
             "#fb9f3a"
            ],
            [
             0.8888888888888888,
             "#fdca26"
            ],
            [
             1,
             "#f0f921"
            ]
           ],
           "sequentialminus": [
            [
             0,
             "#0d0887"
            ],
            [
             0.1111111111111111,
             "#46039f"
            ],
            [
             0.2222222222222222,
             "#7201a8"
            ],
            [
             0.3333333333333333,
             "#9c179e"
            ],
            [
             0.4444444444444444,
             "#bd3786"
            ],
            [
             0.5555555555555556,
             "#d8576b"
            ],
            [
             0.6666666666666666,
             "#ed7953"
            ],
            [
             0.7777777777777778,
             "#fb9f3a"
            ],
            [
             0.8888888888888888,
             "#fdca26"
            ],
            [
             1,
             "#f0f921"
            ]
           ]
          },
          "colorway": [
           "#636efa",
           "#EF553B",
           "#00cc96",
           "#ab63fa",
           "#FFA15A",
           "#19d3f3",
           "#FF6692",
           "#B6E880",
           "#FF97FF",
           "#FECB52"
          ],
          "font": {
           "color": "#2a3f5f"
          },
          "geo": {
           "bgcolor": "white",
           "lakecolor": "white",
           "landcolor": "#E5ECF6",
           "showlakes": true,
           "showland": true,
           "subunitcolor": "white"
          },
          "hoverlabel": {
           "align": "left"
          },
          "hovermode": "closest",
          "mapbox": {
           "style": "light"
          },
          "paper_bgcolor": "white",
          "plot_bgcolor": "#E5ECF6",
          "polar": {
           "angularaxis": {
            "gridcolor": "white",
            "linecolor": "white",
            "ticks": ""
           },
           "bgcolor": "#E5ECF6",
           "radialaxis": {
            "gridcolor": "white",
            "linecolor": "white",
            "ticks": ""
           }
          },
          "scene": {
           "xaxis": {
            "backgroundcolor": "#E5ECF6",
            "gridcolor": "white",
            "gridwidth": 2,
            "linecolor": "white",
            "showbackground": true,
            "ticks": "",
            "zerolinecolor": "white"
           },
           "yaxis": {
            "backgroundcolor": "#E5ECF6",
            "gridcolor": "white",
            "gridwidth": 2,
            "linecolor": "white",
            "showbackground": true,
            "ticks": "",
            "zerolinecolor": "white"
           },
           "zaxis": {
            "backgroundcolor": "#E5ECF6",
            "gridcolor": "white",
            "gridwidth": 2,
            "linecolor": "white",
            "showbackground": true,
            "ticks": "",
            "zerolinecolor": "white"
           }
          },
          "shapedefaults": {
           "line": {
            "color": "#2a3f5f"
           }
          },
          "ternary": {
           "aaxis": {
            "gridcolor": "white",
            "linecolor": "white",
            "ticks": ""
           },
           "baxis": {
            "gridcolor": "white",
            "linecolor": "white",
            "ticks": ""
           },
           "bgcolor": "#E5ECF6",
           "caxis": {
            "gridcolor": "white",
            "linecolor": "white",
            "ticks": ""
           }
          },
          "title": {
           "x": 0.05
          },
          "xaxis": {
           "automargin": true,
           "gridcolor": "white",
           "linecolor": "white",
           "ticks": "",
           "title": {
            "standoff": 15
           },
           "zerolinecolor": "white",
           "zerolinewidth": 2
          },
          "yaxis": {
           "automargin": true,
           "gridcolor": "white",
           "linecolor": "white",
           "ticks": "",
           "title": {
            "standoff": 15
           },
           "zerolinecolor": "white",
           "zerolinewidth": 2
          }
         }
        },
        "title": {
         "text": "Reason of Contacting Customer Care"
        },
        "xaxis": {
         "anchor": "y",
         "domain": [
          0,
          1
         ],
         "title": {
          "text": "Network"
         }
        },
        "yaxis": {
         "anchor": "x",
         "domain": [
          0,
          1
         ],
         "title": {
          "text": "Count"
         }
        }
       }
      },
      "text/html": [
       "<div>                            <div id=\"01eabdac-a936-4fee-8d62-f751634db425\" class=\"plotly-graph-div\" style=\"height:525px; width:100%;\"></div>            <script type=\"text/javascript\">                require([\"plotly\"], function(Plotly) {                    window.PLOTLYENV=window.PLOTLYENV || {};                                    if (document.getElementById(\"01eabdac-a936-4fee-8d62-f751634db425\")) {                    Plotly.newPlot(                        \"01eabdac-a936-4fee-8d62-f751634db425\",                        [{\"alignmentgroup\":\"True\",\"hovertemplate\":\"variable=Complaints (Count)<br>Network=%{x}<br>value=%{y}<extra></extra>\",\"legendgroup\":\"Complaints (Count)\",\"marker\":{\"color\":\"#636efa\",\"pattern\":{\"shape\":\"\"}},\"name\":\"Complaints (Count)\",\"offsetgroup\":\"Complaints (Count)\",\"orientation\":\"v\",\"showlegend\":true,\"textposition\":\"auto\",\"x\":[\"Jazz / Warid\",\"Zong\",\"Ufone\",\"Telenor\"],\"xaxis\":\"x\",\"y\":[2840,520,240,400],\"yaxis\":\"y\",\"type\":\"bar\"},{\"alignmentgroup\":\"True\",\"hovertemplate\":\"variable=Information regarding new schemes (Count)<br>Network=%{x}<br>value=%{y}<extra></extra>\",\"legendgroup\":\"Information regarding new schemes (Count)\",\"marker\":{\"color\":\"#EF553B\",\"pattern\":{\"shape\":\"\"}},\"name\":\"Information regarding new schemes (Count)\",\"offsetgroup\":\"Information regarding new schemes (Count)\",\"orientation\":\"v\",\"showlegend\":true,\"textposition\":\"auto\",\"x\":[\"Jazz / Warid\",\"Zong\",\"Ufone\",\"Telenor\"],\"xaxis\":\"x\",\"y\":[1360,360,0,120],\"yaxis\":\"y\",\"type\":\"bar\"},{\"alignmentgroup\":\"True\",\"hovertemplate\":\"variable=Other Queries (Count)<br>Network=%{x}<br>value=%{y}<extra></extra>\",\"legendgroup\":\"Other Queries (Count)\",\"marker\":{\"color\":\"#00cc96\",\"pattern\":{\"shape\":\"\"}},\"name\":\"Other Queries (Count)\",\"offsetgroup\":\"Other Queries (Count)\",\"orientation\":\"v\",\"showlegend\":true,\"textposition\":\"auto\",\"x\":[\"Jazz / Warid\",\"Zong\",\"Ufone\",\"Telenor\"],\"xaxis\":\"x\",\"y\":[1800,720,120,360],\"yaxis\":\"y\",\"type\":\"bar\"},{\"alignmentgroup\":\"True\",\"hovertemplate\":\"variable=Value added services (Count)<br>Network=%{x}<br>value=%{y}<extra></extra>\",\"legendgroup\":\"Value added services (Count)\",\"marker\":{\"color\":\"#ab63fa\",\"pattern\":{\"shape\":\"\"}},\"name\":\"Value added services (Count)\",\"offsetgroup\":\"Value added services (Count)\",\"orientation\":\"v\",\"showlegend\":true,\"textposition\":\"auto\",\"x\":[\"Jazz / Warid\",\"Zong\",\"Ufone\",\"Telenor\"],\"xaxis\":\"x\",\"y\":[440,200,40,240],\"yaxis\":\"y\",\"type\":\"bar\"}],                        {\"template\":{\"data\":{\"histogram2dcontour\":[{\"type\":\"histogram2dcontour\",\"colorbar\":{\"outlinewidth\":0,\"ticks\":\"\"},\"colorscale\":[[0.0,\"#0d0887\"],[0.1111111111111111,\"#46039f\"],[0.2222222222222222,\"#7201a8\"],[0.3333333333333333,\"#9c179e\"],[0.4444444444444444,\"#bd3786\"],[0.5555555555555556,\"#d8576b\"],[0.6666666666666666,\"#ed7953\"],[0.7777777777777778,\"#fb9f3a\"],[0.8888888888888888,\"#fdca26\"],[1.0,\"#f0f921\"]]}],\"choropleth\":[{\"type\":\"choropleth\",\"colorbar\":{\"outlinewidth\":0,\"ticks\":\"\"}}],\"histogram2d\":[{\"type\":\"histogram2d\",\"colorbar\":{\"outlinewidth\":0,\"ticks\":\"\"},\"colorscale\":[[0.0,\"#0d0887\"],[0.1111111111111111,\"#46039f\"],[0.2222222222222222,\"#7201a8\"],[0.3333333333333333,\"#9c179e\"],[0.4444444444444444,\"#bd3786\"],[0.5555555555555556,\"#d8576b\"],[0.6666666666666666,\"#ed7953\"],[0.7777777777777778,\"#fb9f3a\"],[0.8888888888888888,\"#fdca26\"],[1.0,\"#f0f921\"]]}],\"heatmap\":[{\"type\":\"heatmap\",\"colorbar\":{\"outlinewidth\":0,\"ticks\":\"\"},\"colorscale\":[[0.0,\"#0d0887\"],[0.1111111111111111,\"#46039f\"],[0.2222222222222222,\"#7201a8\"],[0.3333333333333333,\"#9c179e\"],[0.4444444444444444,\"#bd3786\"],[0.5555555555555556,\"#d8576b\"],[0.6666666666666666,\"#ed7953\"],[0.7777777777777778,\"#fb9f3a\"],[0.8888888888888888,\"#fdca26\"],[1.0,\"#f0f921\"]]}],\"heatmapgl\":[{\"type\":\"heatmapgl\",\"colorbar\":{\"outlinewidth\":0,\"ticks\":\"\"},\"colorscale\":[[0.0,\"#0d0887\"],[0.1111111111111111,\"#46039f\"],[0.2222222222222222,\"#7201a8\"],[0.3333333333333333,\"#9c179e\"],[0.4444444444444444,\"#bd3786\"],[0.5555555555555556,\"#d8576b\"],[0.6666666666666666,\"#ed7953\"],[0.7777777777777778,\"#fb9f3a\"],[0.8888888888888888,\"#fdca26\"],[1.0,\"#f0f921\"]]}],\"contourcarpet\":[{\"type\":\"contourcarpet\",\"colorbar\":{\"outlinewidth\":0,\"ticks\":\"\"}}],\"contour\":[{\"type\":\"contour\",\"colorbar\":{\"outlinewidth\":0,\"ticks\":\"\"},\"colorscale\":[[0.0,\"#0d0887\"],[0.1111111111111111,\"#46039f\"],[0.2222222222222222,\"#7201a8\"],[0.3333333333333333,\"#9c179e\"],[0.4444444444444444,\"#bd3786\"],[0.5555555555555556,\"#d8576b\"],[0.6666666666666666,\"#ed7953\"],[0.7777777777777778,\"#fb9f3a\"],[0.8888888888888888,\"#fdca26\"],[1.0,\"#f0f921\"]]}],\"surface\":[{\"type\":\"surface\",\"colorbar\":{\"outlinewidth\":0,\"ticks\":\"\"},\"colorscale\":[[0.0,\"#0d0887\"],[0.1111111111111111,\"#46039f\"],[0.2222222222222222,\"#7201a8\"],[0.3333333333333333,\"#9c179e\"],[0.4444444444444444,\"#bd3786\"],[0.5555555555555556,\"#d8576b\"],[0.6666666666666666,\"#ed7953\"],[0.7777777777777778,\"#fb9f3a\"],[0.8888888888888888,\"#fdca26\"],[1.0,\"#f0f921\"]]}],\"mesh3d\":[{\"type\":\"mesh3d\",\"colorbar\":{\"outlinewidth\":0,\"ticks\":\"\"}}],\"scatter\":[{\"fillpattern\":{\"fillmode\":\"overlay\",\"size\":10,\"solidity\":0.2},\"type\":\"scatter\"}],\"parcoords\":[{\"type\":\"parcoords\",\"line\":{\"colorbar\":{\"outlinewidth\":0,\"ticks\":\"\"}}}],\"scatterpolargl\":[{\"type\":\"scatterpolargl\",\"marker\":{\"colorbar\":{\"outlinewidth\":0,\"ticks\":\"\"}}}],\"bar\":[{\"error_x\":{\"color\":\"#2a3f5f\"},\"error_y\":{\"color\":\"#2a3f5f\"},\"marker\":{\"line\":{\"color\":\"#E5ECF6\",\"width\":0.5},\"pattern\":{\"fillmode\":\"overlay\",\"size\":10,\"solidity\":0.2}},\"type\":\"bar\"}],\"scattergeo\":[{\"type\":\"scattergeo\",\"marker\":{\"colorbar\":{\"outlinewidth\":0,\"ticks\":\"\"}}}],\"scatterpolar\":[{\"type\":\"scatterpolar\",\"marker\":{\"colorbar\":{\"outlinewidth\":0,\"ticks\":\"\"}}}],\"histogram\":[{\"marker\":{\"pattern\":{\"fillmode\":\"overlay\",\"size\":10,\"solidity\":0.2}},\"type\":\"histogram\"}],\"scattergl\":[{\"type\":\"scattergl\",\"marker\":{\"colorbar\":{\"outlinewidth\":0,\"ticks\":\"\"}}}],\"scatter3d\":[{\"type\":\"scatter3d\",\"line\":{\"colorbar\":{\"outlinewidth\":0,\"ticks\":\"\"}},\"marker\":{\"colorbar\":{\"outlinewidth\":0,\"ticks\":\"\"}}}],\"scattermapbox\":[{\"type\":\"scattermapbox\",\"marker\":{\"colorbar\":{\"outlinewidth\":0,\"ticks\":\"\"}}}],\"scatterternary\":[{\"type\":\"scatterternary\",\"marker\":{\"colorbar\":{\"outlinewidth\":0,\"ticks\":\"\"}}}],\"scattercarpet\":[{\"type\":\"scattercarpet\",\"marker\":{\"colorbar\":{\"outlinewidth\":0,\"ticks\":\"\"}}}],\"carpet\":[{\"aaxis\":{\"endlinecolor\":\"#2a3f5f\",\"gridcolor\":\"white\",\"linecolor\":\"white\",\"minorgridcolor\":\"white\",\"startlinecolor\":\"#2a3f5f\"},\"baxis\":{\"endlinecolor\":\"#2a3f5f\",\"gridcolor\":\"white\",\"linecolor\":\"white\",\"minorgridcolor\":\"white\",\"startlinecolor\":\"#2a3f5f\"},\"type\":\"carpet\"}],\"table\":[{\"cells\":{\"fill\":{\"color\":\"#EBF0F8\"},\"line\":{\"color\":\"white\"}},\"header\":{\"fill\":{\"color\":\"#C8D4E3\"},\"line\":{\"color\":\"white\"}},\"type\":\"table\"}],\"barpolar\":[{\"marker\":{\"line\":{\"color\":\"#E5ECF6\",\"width\":0.5},\"pattern\":{\"fillmode\":\"overlay\",\"size\":10,\"solidity\":0.2}},\"type\":\"barpolar\"}],\"pie\":[{\"automargin\":true,\"type\":\"pie\"}]},\"layout\":{\"autotypenumbers\":\"strict\",\"colorway\":[\"#636efa\",\"#EF553B\",\"#00cc96\",\"#ab63fa\",\"#FFA15A\",\"#19d3f3\",\"#FF6692\",\"#B6E880\",\"#FF97FF\",\"#FECB52\"],\"font\":{\"color\":\"#2a3f5f\"},\"hovermode\":\"closest\",\"hoverlabel\":{\"align\":\"left\"},\"paper_bgcolor\":\"white\",\"plot_bgcolor\":\"#E5ECF6\",\"polar\":{\"bgcolor\":\"#E5ECF6\",\"angularaxis\":{\"gridcolor\":\"white\",\"linecolor\":\"white\",\"ticks\":\"\"},\"radialaxis\":{\"gridcolor\":\"white\",\"linecolor\":\"white\",\"ticks\":\"\"}},\"ternary\":{\"bgcolor\":\"#E5ECF6\",\"aaxis\":{\"gridcolor\":\"white\",\"linecolor\":\"white\",\"ticks\":\"\"},\"baxis\":{\"gridcolor\":\"white\",\"linecolor\":\"white\",\"ticks\":\"\"},\"caxis\":{\"gridcolor\":\"white\",\"linecolor\":\"white\",\"ticks\":\"\"}},\"coloraxis\":{\"colorbar\":{\"outlinewidth\":0,\"ticks\":\"\"}},\"colorscale\":{\"sequential\":[[0.0,\"#0d0887\"],[0.1111111111111111,\"#46039f\"],[0.2222222222222222,\"#7201a8\"],[0.3333333333333333,\"#9c179e\"],[0.4444444444444444,\"#bd3786\"],[0.5555555555555556,\"#d8576b\"],[0.6666666666666666,\"#ed7953\"],[0.7777777777777778,\"#fb9f3a\"],[0.8888888888888888,\"#fdca26\"],[1.0,\"#f0f921\"]],\"sequentialminus\":[[0.0,\"#0d0887\"],[0.1111111111111111,\"#46039f\"],[0.2222222222222222,\"#7201a8\"],[0.3333333333333333,\"#9c179e\"],[0.4444444444444444,\"#bd3786\"],[0.5555555555555556,\"#d8576b\"],[0.6666666666666666,\"#ed7953\"],[0.7777777777777778,\"#fb9f3a\"],[0.8888888888888888,\"#fdca26\"],[1.0,\"#f0f921\"]],\"diverging\":[[0,\"#8e0152\"],[0.1,\"#c51b7d\"],[0.2,\"#de77ae\"],[0.3,\"#f1b6da\"],[0.4,\"#fde0ef\"],[0.5,\"#f7f7f7\"],[0.6,\"#e6f5d0\"],[0.7,\"#b8e186\"],[0.8,\"#7fbc41\"],[0.9,\"#4d9221\"],[1,\"#276419\"]]},\"xaxis\":{\"gridcolor\":\"white\",\"linecolor\":\"white\",\"ticks\":\"\",\"title\":{\"standoff\":15},\"zerolinecolor\":\"white\",\"automargin\":true,\"zerolinewidth\":2},\"yaxis\":{\"gridcolor\":\"white\",\"linecolor\":\"white\",\"ticks\":\"\",\"title\":{\"standoff\":15},\"zerolinecolor\":\"white\",\"automargin\":true,\"zerolinewidth\":2},\"scene\":{\"xaxis\":{\"backgroundcolor\":\"#E5ECF6\",\"gridcolor\":\"white\",\"linecolor\":\"white\",\"showbackground\":true,\"ticks\":\"\",\"zerolinecolor\":\"white\",\"gridwidth\":2},\"yaxis\":{\"backgroundcolor\":\"#E5ECF6\",\"gridcolor\":\"white\",\"linecolor\":\"white\",\"showbackground\":true,\"ticks\":\"\",\"zerolinecolor\":\"white\",\"gridwidth\":2},\"zaxis\":{\"backgroundcolor\":\"#E5ECF6\",\"gridcolor\":\"white\",\"linecolor\":\"white\",\"showbackground\":true,\"ticks\":\"\",\"zerolinecolor\":\"white\",\"gridwidth\":2}},\"shapedefaults\":{\"line\":{\"color\":\"#2a3f5f\"}},\"annotationdefaults\":{\"arrowcolor\":\"#2a3f5f\",\"arrowhead\":0,\"arrowwidth\":1},\"geo\":{\"bgcolor\":\"white\",\"landcolor\":\"#E5ECF6\",\"subunitcolor\":\"white\",\"showland\":true,\"showlakes\":true,\"lakecolor\":\"white\"},\"title\":{\"x\":0.05},\"mapbox\":{\"style\":\"light\"}}},\"xaxis\":{\"anchor\":\"y\",\"domain\":[0.0,1.0],\"title\":{\"text\":\"Network\"}},\"yaxis\":{\"anchor\":\"x\",\"domain\":[0.0,1.0],\"title\":{\"text\":\"Count\"}},\"legend\":{\"title\":{\"text\":\"variable\"},\"tracegroupgap\":0},\"title\":{\"text\":\"Reason of Contacting Customer Care\"},\"barmode\":\"stack\"},                        {\"responsive\": true}                    ).then(function(){\n",
       "                            \n",
       "var gd = document.getElementById('01eabdac-a936-4fee-8d62-f751634db425');\n",
       "var x = new MutationObserver(function (mutations, observer) {{\n",
       "        var display = window.getComputedStyle(gd).display;\n",
       "        if (!display || display === 'none') {{\n",
       "            console.log([gd, 'removed!']);\n",
       "            Plotly.purge(gd);\n",
       "            observer.disconnect();\n",
       "        }}\n",
       "}});\n",
       "\n",
       "// Listen for the removal of the full notebook cells\n",
       "var notebookContainer = gd.closest('#notebook-container');\n",
       "if (notebookContainer) {{\n",
       "    x.observe(notebookContainer, {childList: true});\n",
       "}}\n",
       "\n",
       "// Listen for the clearing of the current output cell\n",
       "var outputEl = gd.closest('.output');\n",
       "if (outputEl) {{\n",
       "    x.observe(outputEl, {childList: true});\n",
       "}}\n",
       "\n",
       "                        })                };                });            </script>        </div>"
      ]
     },
     "metadata": {},
     "output_type": "display_data"
    }
   ],
   "source": [
    "fig = px.bar(df_bar_1, x='Network', y=['Network', 'Complaints (Count)','Information regarding new schemes (Count)', 'Other Queries (Count)', 'Value added services (Count)'], barmode='stack', title='Reason of Contacting Customer Care')\n",
    "fig.update_layout(\n",
    "    xaxis_title=\"Network\", yaxis_title=\"Count\"\n",
    ")"
   ]
  },
  {
   "cell_type": "markdown",
   "metadata": {},
   "source": [
    "# **Encoding Data for Machine Learning Model**\n"
   ]
  },
  {
   "cell_type": "code",
   "execution_count": 46,
   "metadata": {
    "colab": {
     "base_uri": "https://localhost:8080/"
    },
    "id": "IS7q0z1J2Iuz",
    "outputId": "09a20955-8df0-4413-8ec2-fe9984d133f7"
   },
   "outputs": [
    {
     "data": {
      "text/plain": [
       "Index(['Gender_0', 'Gender_1', 'Churn_0', 'Churn_1', 'Network',\n",
       "       'relation_durattion', 'service_type', 'source_of_attraction',\n",
       "       'prferred_communication', 'satisfy_with_call_rate_0',\n",
       "       'satisfy_with_call_rate_1', 'contact_with_cust_care',\n",
       "       'rate_of_cust_care_calling', 'reascon_of_contact_cc',\n",
       "       'monthly_usage_rs', 'Happy_with_intrnet_quality_0',\n",
       "       'Happy_with_intrnet_quality_1', '4G_available_0', '4G_available_1',\n",
       "       'satisfy_with_voice_quality_0', 'satisfy_with_voice_quality_1',\n",
       "       'satisfy_with_signal_strength_0', 'satisfy_with_signal_strength_1',\n",
       "       'pleaseed_with_prices_0', 'pleaseed_with_prices_1',\n",
       "       'satisfy_with_billing_process_0', 'satisfy_with_billing_process_1',\n",
       "       'recommend_to_others_0', 'recommend_to_others_1', 'Gender', 'Churn',\n",
       "       'satisfy_with_call_rate', 'Happy_with_intrnet_quality', '4G_available',\n",
       "       'satisfy_with_voice_quality', 'satisfy_with_signal_strength',\n",
       "       'pleaseed_with_prices', 'satisfy_with_billing_process',\n",
       "       'recommend_to_others', 'Network_Telenor', 'Network_Ufone',\n",
       "       'Network_Zong', 'relation_durattion_7 12 Months',\n",
       "       'relation_durattion_Less than one Month',\n",
       "       'relation_durattion_More than one year', 'service_type_Pre Paid',\n",
       "       'source_of_attraction_Face book', 'source_of_attraction_Newspaper',\n",
       "       'source_of_attraction_Others', 'prferred_communication_Video Calling',\n",
       "       'prferred_communication_messages', 'contact_with_cust_care_Yes',\n",
       "       'rate_of_cust_care_calling_Once in a Week',\n",
       "       'rate_of_cust_care_calling_Once in a year',\n",
       "       'rate_of_cust_care_calling_rarely',\n",
       "       'reascon_of_contact_cc_Information regarding new schemes',\n",
       "       'reascon_of_contact_cc_Other Queries',\n",
       "       'reascon_of_contact_cc_Value added services', 'monthly_usage_rs_300',\n",
       "       'monthly_usage_rs_500', 'monthly_usage_rs_800'],\n",
       "      dtype='object')"
      ]
     },
     "execution_count": 46,
     "metadata": {},
     "output_type": "execute_result"
    }
   ],
   "source": [
    "categorical_columns_binary = ['Churn', 'Gender', 'satisfy_with_call_rate',\n",
    "                              'Happy_with_intrnet_quality', 'satisfy_with_voice_quality',\n",
    "                              'satisfy_with_signal_strength', 'pleaseed_with_prices',\n",
    "                              'satisfy_with_billing_process', 'recommend_to_others','4G_available'\n",
    "                              ]\n",
    "\n",
    "binary_encoder = BinaryEncoder(cols=categorical_columns_binary)\n",
    "binary_encoded_df = binary_encoder.fit_transform(df)\n",
    "\n",
    "categorical_columns_one_hot = df.drop(categorical_columns_binary, axis=1).columns\n",
    "one_hot_encoded_df = pd.get_dummies(df, columns=categorical_columns_one_hot, drop_first=True)\n",
    "\n",
    "df_encoded = pd.concat([binary_encoded_df, one_hot_encoded_df], axis=1)\n",
    "df_encoded.columns"
   ]
  },
  {
   "cell_type": "markdown",
   "metadata": {},
   "source": [
    "# **Dropping Categorical Columns**"
   ]
  },
  {
   "cell_type": "code",
   "execution_count": 47,
   "metadata": {
    "id": "KgDqMdN656Ov"
   },
   "outputs": [],
   "source": [
    "df_encoded = df_encoded.drop(['Network','relation_durattion', 'service_type', 'source_of_attraction','Gender',\n",
    "                              'prferred_communication','4G_available','reascon_of_contact_cc', 'contact_with_cust_care', 'rate_of_cust_care_calling',\n",
    "                              'Churn', 'satisfy_with_call_rate', 'Happy_with_intrnet_quality', 'satisfy_with_voice_quality', 'satisfy_with_signal_strength',\n",
    "                              'pleaseed_with_prices', 'satisfy_with_billing_process', 'recommend_to_others'\n",
    "\n",
    "                            ], axis=1)"
   ]
  },
  {
   "cell_type": "markdown",
   "metadata": {},
   "source": [
    "# **Testing Different Models**\n",
    "\n",
    "**Probability estimates** represent the likelihood or confidence that a particular sample belongs to each class label according to the model's prediction.\n",
    "\n",
    "For classification tasks, where the objective is to predict the class label of each sample, **log loss serves as a cost function** that penalizes the model based on the discrepancy between its predicted probabilities and the true labels. Models that make more confident and accurate predictions will have **lower log loss values**, while models that are uncertain or make incorrect predictions will have **higher log loss values**.\n"
   ]
  },
  {
   "cell_type": "code",
   "execution_count": 61,
   "metadata": {},
   "outputs": [
    {
     "name": "stdout",
     "output_type": "stream",
     "text": [
      "DecisionTree Train Accuracy: 92, Test Accuracy: 91, Validation Loss: 0.16960429005106858\n",
      "RandomForest Train Accuracy: 94, Test Accuracy: 93, Validation Loss: 0.19209207254965135\n",
      "BernoulliNB Train Accuracy: 86, Test Accuracy: 85, Validation Loss: 1.070508671103005\n",
      "LogisticRegression Train Accuracy: 89, Test Accuracy: 89, Validation Loss: 0.20967521947531986\n",
      "SVM Train Accuracy: 81, Test Accuracy: 80, Validation Loss: 0.2998691001021818\n"
     ]
    },
    {
     "data": {
      "image/png": "[encoded data removed]",
      "text/plain": [
       "<Figure size 1600x800 with 2 Axes>"
      ]
     },
     "metadata": {},
     "output_type": "display_data"
    }
   ],
   "source": [
    "import matplotlib.pyplot as plt\n",
    "import numpy as np\n",
    "from sklearn.model_selection import train_test_split\n",
    "from sklearn.metrics import log_loss\n",
    "\n",
    "x_train, x_test, y_train, y_test = train_test_split(x, y, test_size=0.2, random_state=42)\n",
    "\n",
    "pipeline = Pipeline([\n",
    "    # Add preprocessing steps here if needed\n",
    "    ('classifier', None)\n",
    "])\n",
    "\n",
    "models = [\n",
    "    ('DecisionTree', DecisionTreeClassifier(max_depth=5)),\n",
    "    ('RandomForest', RandomForestClassifier(max_depth=5)),\n",
    "    ('BernoulliNB', BernoulliNB()),\n",
    "    ('LogisticRegression', LogisticRegression()),\n",
    "    ('SVM', SVC(probability=True))  # Set probability=True for SVC\n",
    "]\n",
    "\n",
    "train_accuracies = []\n",
    "test_accuracies = []\n",
    "validation_losses = []\n",
    "\n",
    "for model_name, model in models:\n",
    "    pipeline.set_params(classifier=model)\n",
    "    pipeline.fit(x_train, y_train)\n",
    "    \n",
    "    train_accuracy = pipeline.score(x_train, y_train)\n",
    "    test_accuracy = pipeline.score(x_test, y_test)\n",
    "    \n",
    "    train_accuracies.append(train_accuracy)\n",
    "    test_accuracies.append(test_accuracy)\n",
    "    \n",
    "    if hasattr(model, \"predict_proba\"):\n",
    "        try:\n",
    "            y_pred_proba = pipeline.predict_proba(x_test)\n",
    "            loss = log_loss(y_test, y_pred_proba)\n",
    "            validation_losses.append(loss)\n",
    "            print(f\"{model_name} Train Accuracy: {round(train_accuracy * 100)}, Test Accuracy: {round(test_accuracy * 100)}, Validation Loss: {loss}\")\n",
    "        except AttributeError:\n",
    "            print(f\"{model_name} Train Accuracy: {round(train_accuracy * 100)}, Test Accuracy: {round(test_accuracy * 100)}, Validation Loss: Not available\")\n",
    "    else:\n",
    "        print(f\"{model_name} Train Accuracy: {round(train_accuracy * 100)}, Test Accuracy: {round(test_accuracy * 100)}, Validation Loss: Not available\")\n",
    "\n",
    "# Plotting\n",
    "plt.figure(figsize=(16, 8))\n",
    "\n",
    "# Train and Test Accuracy Plot\n",
    "plt.subplot(1, 2, 1)\n",
    "x_labels = [model[0] for model in models]\n",
    "x_indexes = np.arange(len(x_labels))\n",
    "width = 0.35\n",
    "\n",
    "plt.bar(x_indexes - width/2, train_accuracies, width=width, label='Train Accuracy')\n",
    "plt.bar(x_indexes + width/2, test_accuracies, width=width, label='Test Accuracy')\n",
    "\n",
    "plt.xlabel('Models')\n",
    "plt.ylabel('Accuracy')\n",
    "plt.title('Train and Test Accuracy for Different Models')\n",
    "plt.xticks(ticks=x_indexes, labels=x_labels, rotation=45)\n",
    "plt.legend()\n",
    "\n",
    "# Validation Loss Plot\n",
    "plt.subplot(1, 2, 2)\n",
    "plt.bar(x_indexes, validation_losses, color='orange')\n",
    "plt.xlabel('Models')\n",
    "plt.ylabel('Validation Loss')\n",
    "plt.title('Validation Loss for Different Models')\n",
    "plt.xticks(ticks=x_indexes, labels=x_labels, rotation=45)\n",
    "\n",
    "plt.tight_layout()\n",
    "plt.show()\n"
   ]
  },
  {
   "cell_type": "code",
   "execution_count": 1,
   "metadata": {},
   "outputs": [
    {
     "name": "stdout",
     "output_type": "stream",
     "text": [
      "Contents of the CSV file:\n",
      "['CustomerID', 'Gender', 'Age', 'Annual Income (k$)', 'Spending Score (1-100)']\n",
      "['1', 'Male', '19', '15', '39']\n",
      "['2', 'Male', '21', '15', '81']\n",
      "['3', 'Female', '20', '16', '6']\n",
      "['4', 'Female', '23', '16', '77']\n",
      "['5', 'Female', '31', '17', '40']\n",
      "['6', 'Female', '22', '17', '76']\n",
      "['7', 'Female', '35', '18', '6']\n",
      "['8', 'Female', '23', '18', '94']\n",
      "['9', 'Male', '64', '19', '3']\n",
      "['10', 'Female', '30', '19', '72']\n",
      "['11', 'Male', '67', '19', '14']\n",
      "['12', 'Female', '35', '19', '99']\n",
      "['13', 'Female', '58', '20', '15']\n",
      "['14', 'Female', '24', '20', '77']\n",
      "['15', 'Male', '37', '20', '13']\n",
      "['16', 'Male', '22', '20', '79']\n",
      "['17', 'Female', '35', '21', '35']\n",
      "['18', 'Male', '20', '21', '66']\n",
      "['19', 'Male', '52', '23', '29']\n",
      "['20', 'Female', '35', '23', '98']\n",
      "['21', 'Male', '35', '24', '35']\n",
      "['22', 'Male', '25', '24', '73']\n",
      "['23', 'Female', '46', '25', '5']\n",
      "['24', 'Male', '31', '25', '73']\n",
      "['25', 'Female', '54', '28', '14']\n",
      "['26', 'Male', '29', '28', '82']\n",
      "['27', 'Female', '45', '28', '32']\n",
      "['28', 'Male', '35', '28', '61']\n",
      "['29', 'Female', '40', '29', '31']\n",
      "['30', 'Female', '23', '29', '87']\n",
      "['31', 'Male', '60', '30', '4']\n",
      "['32', 'Female', '21', '30', '73']\n",
      "['33', 'Male', '53', '33', '4']\n",
      "['34', 'Male', '18', '33', '92']\n",
      "['35', 'Female', '49', '33', '14']\n",
      "['36', 'Female', '21', '33', '81']\n",
      "['37', 'Female', '42', '34', '17']\n",
      "['38', 'Female', '30', '34', '73']\n",
      "['39', 'Female', '36', '37', '26']\n",
      "['40', 'Female', '20', '37', '75']\n",
      "['41', 'Female', '65', '38', '35']\n",
      "['42', 'Male', '24', '38', '92']\n",
      "['43', 'Male', '48', '39', '36']\n",
      "['44', 'Female', '31', '39', '61']\n",
      "['45', 'Female', '49', '39', '28']\n",
      "['46', 'Female', '24', '39', '65']\n",
      "['47', 'Female', '50', '40', '55']\n",
      "['48', 'Female', '27', '40', '47']\n",
      "['49', 'Female', '29', '40', '42']\n",
      "['50', 'Female', '31', '40', '42']\n",
      "['51', 'Female', '49', '42', '52']\n",
      "['52', 'Male', '33', '42', '60']\n",
      "['53', 'Female', '31', '43', '54']\n",
      "['54', 'Male', '59', '43', '60']\n",
      "['55', 'Female', '50', '43', '45']\n",
      "['56', 'Male', '47', '43', '41']\n",
      "['57', 'Female', '51', '44', '50']\n",
      "['58', 'Male', '69', '44', '46']\n",
      "['59', 'Female', '27', '46', '51']\n",
      "['60', 'Male', '53', '46', '46']\n",
      "['61', 'Male', '70', '46', '56']\n",
      "['62', 'Male', '19', '46', '55']\n",
      "['63', 'Female', '67', '47', '52']\n",
      "['64', 'Female', '54', '47', '59']\n",
      "['65', 'Male', '63', '48', '51']\n",
      "['66', 'Male', '18', '48', '59']\n",
      "['67', 'Female', '43', '48', '50']\n",
      "['68', 'Female', '68', '48', '48']\n",
      "['69', 'Male', '19', '48', '59']\n",
      "['70', 'Female', '32', '48', '47']\n",
      "['71', 'Male', '70', '49', '55']\n",
      "['72', 'Female', '47', '49', '42']\n",
      "['73', 'Female', '60', '50', '49']\n",
      "['74', 'Female', '60', '50', '56']\n",
      "['75', 'Male', '59', '54', '47']\n",
      "['76', 'Male', '26', '54', '54']\n",
      "['77', 'Female', '45', '54', '53']\n",
      "['78', 'Male', '40', '54', '48']\n",
      "['79', 'Female', '23', '54', '52']\n",
      "['80', 'Female', '49', '54', '42']\n",
      "['81', 'Male', '57', '54', '51']\n",
      "['82', 'Male', '38', '54', '55']\n",
      "['83', 'Male', '67', '54', '41']\n",
      "['84', 'Female', '46', '54', '44']\n",
      "['85', 'Female', '21', '54', '57']\n",
      "['86', 'Male', '48', '54', '46']\n",
      "['87', 'Female', '55', '57', '58']\n",
      "['88', 'Female', '22', '57', '55']\n",
      "['89', 'Female', '34', '58', '60']\n",
      "['90', 'Female', '50', '58', '46']\n",
      "['91', 'Female', '68', '59', '55']\n",
      "['92', 'Male', '18', '59', '41']\n",
      "['93', 'Male', '48', '60', '49']\n",
      "['94', 'Female', '40', '60', '40']\n",
      "['95', 'Female', '32', '60', '42']\n",
      "['96', 'Male', '24', '60', '52']\n",
      "['97', 'Female', '47', '60', '47']\n",
      "['98', 'Female', '27', '60', '50']\n",
      "['99', 'Male', '48', '61', '42']\n",
      "['100', 'Male', '20', '61', '49']\n",
      "['101', 'Female', '23', '62', '41']\n",
      "['102', 'Female', '49', '62', '48']\n",
      "['103', 'Male', '67', '62', '59']\n",
      "['104', 'Male', '26', '62', '55']\n",
      "['105', 'Male', '49', '62', '56']\n",
      "['106', 'Female', '21', '62', '42']\n",
      "['107', 'Female', '66', '63', '50']\n",
      "['108', 'Male', '54', '63', '46']\n",
      "['109', 'Male', '68', '63', '43']\n",
      "['110', 'Male', '66', '63', '48']\n",
      "['111', 'Male', '65', '63', '52']\n",
      "['112', 'Female', '19', '63', '54']\n",
      "['113', 'Female', '38', '64', '42']\n",
      "['114', 'Male', '19', '64', '46']\n",
      "['115', 'Female', '18', '65', '48']\n",
      "['116', 'Female', '19', '65', '50']\n",
      "['117', 'Female', '63', '65', '43']\n",
      "['118', 'Female', '49', '65', '59']\n",
      "['119', 'Female', '51', '67', '43']\n",
      "['120', 'Female', '50', '67', '57']\n",
      "['121', 'Male', '27', '67', '56']\n",
      "['122', 'Female', '38', '67', '40']\n",
      "['123', 'Female', '40', '69', '58']\n",
      "['124', 'Male', '39', '69', '91']\n",
      "['125', 'Female', '23', '70', '29']\n",
      "['126', 'Female', '31', '70', '77']\n",
      "['127', 'Male', '43', '71', '35']\n",
      "['128', 'Male', '40', '71', '95']\n",
      "['129', 'Male', '59', '71', '11']\n",
      "['130', 'Male', '38', '71', '75']\n",
      "['131', 'Male', '47', '71', '9']\n",
      "['132', 'Male', '39', '71', '75']\n",
      "['133', 'Female', '25', '72', '34']\n",
      "['134', 'Female', '31', '72', '71']\n",
      "['135', 'Male', '20', '73', '5']\n",
      "['136', 'Female', '29', '73', '88']\n",
      "['137', 'Female', '44', '73', '7']\n",
      "['138', 'Male', '32', '73', '73']\n",
      "['139', 'Male', '19', '74', '10']\n",
      "['140', 'Female', '35', '74', '72']\n",
      "['141', 'Female', '57', '75', '5']\n",
      "['142', 'Male', '32', '75', '93']\n",
      "['143', 'Female', '28', '76', '40']\n",
      "['144', 'Female', '32', '76', '87']\n",
      "['145', 'Male', '25', '77', '12']\n",
      "['146', 'Male', '28', '77', '97']\n",
      "['147', 'Male', '48', '77', '36']\n",
      "['148', 'Female', '32', '77', '74']\n",
      "['149', 'Female', '34', '78', '22']\n",
      "['150', 'Male', '34', '78', '90']\n",
      "['151', 'Male', '43', '78', '17']\n",
      "['152', 'Male', '39', '78', '88']\n",
      "['153', 'Female', '44', '78', '20']\n",
      "['154', 'Female', '38', '78', '76']\n",
      "['155', 'Female', '47', '78', '16']\n",
      "['156', 'Female', '27', '78', '89']\n",
      "['157', 'Male', '37', '78', '1']\n",
      "['158', 'Female', '30', '78', '78']\n",
      "['159', 'Male', '34', '78', '1']\n",
      "['160', 'Female', '30', '78', '73']\n",
      "['161', 'Female', '56', '79', '35']\n",
      "['162', 'Female', '29', '79', '83']\n",
      "['163', 'Male', '19', '81', '5']\n",
      "['164', 'Female', '31', '81', '93']\n",
      "['165', 'Male', '50', '85', '26']\n",
      "['166', 'Female', '36', '85', '75']\n",
      "['167', 'Male', '42', '86', '20']\n",
      "['168', 'Female', '33', '86', '95']\n",
      "['169', 'Female', '36', '87', '27']\n",
      "['170', 'Male', '32', '87', '63']\n",
      "['171', 'Male', '40', '87', '13']\n",
      "['172', 'Male', '28', '87', '75']\n",
      "['173', 'Male', '36', '87', '10']\n",
      "['174', 'Male', '36', '87', '92']\n",
      "['175', 'Female', '52', '88', '13']\n",
      "['176', 'Female', '30', '88', '86']\n",
      "['177', 'Male', '58', '88', '15']\n",
      "['178', 'Male', '27', '88', '69']\n",
      "['179', 'Male', '59', '93', '14']\n",
      "['180', 'Male', '35', '93', '90']\n",
      "['181', 'Female', '37', '97', '32']\n",
      "['182', 'Female', '32', '97', '86']\n",
      "['183', 'Male', '46', '98', '15']\n",
      "['184', 'Female', '29', '98', '88']\n",
      "['185', 'Female', '41', '99', '39']\n",
      "['186', 'Male', '30', '99', '97']\n",
      "['187', 'Female', '54', '101', '24']\n",
      "['188', 'Male', '28', '101', '68']\n",
      "['189', 'Female', '41', '103', '17']\n",
      "['190', 'Female', '36', '103', '85']\n",
      "['191', 'Female', '34', '103', '23']\n",
      "['192', 'Female', '32', '103', '69']\n",
      "['193', 'Male', '33', '113', '8']\n",
      "['194', 'Female', '38', '113', '91']\n",
      "['195', 'Female', '47', '120', '16']\n",
      "['196', 'Female', '35', '120', '79']\n",
      "['197', 'Female', '45', '126', '28']\n",
      "['198', 'Male', '32', '126', '74']\n",
      "['199', 'Male', '32', '137', '18']\n",
      "['200', 'Male', '30', '137', '83']\n",
      "Contents of the CSV file:\n",
      "['ï»¿Attrition Date', 'Random Number', 'Age', 'Attrition', 'BusinessTravel', 'DailyRate', 'Department', 'DistanceFromHome', 'Education', 'EducationField', 'EmployeeCount', 'EmployeeNumber', 'EnvironmentSatisfaction', 'Gender', 'HourlyRate', 'JobInvolvement', 'JobLevel', 'JobRole', 'JobSatisfaction', 'MaritalStatus', 'MonthlyIncome', 'MonthlyRate', 'NumCompaniesWorked', 'Over18', 'OverTime', 'PercentSalaryHike', 'PerformanceRating', 'RelationshipSatisfaction', 'StandardHours', 'StockOptionLevel', 'TotalWorkingYears', 'TrainingTimesLastYear', 'WorkLifeBalance', 'YearsAtCompany', 'YearsInCurrentRole', 'YearsSinceLastPromotion', 'YearsWithCurrManager']\n",
      "['4/30/2022 12:00:00 AM', '26', '41', 'Yes', 'Travel_Rarely', '1102', 'Sales', '1', 'Associates Degree', 'Life Sciences', '1', '1', '2', 'Female', '94', '3', '2', 'Sales Executive', '4', 'Single', '5993', '19479', '8', 'Y', 'Yes', '11', '3', '1', '80', '0', '8', '0', '1', '6', '4', '0', '5']\n",
      "['', '121', '49', 'No', 'Travel_Frequently', '279', 'Research & Development', '8', 'High School', 'Life Sciences', '1', '2', '3', 'Male', '61', '2', '2', 'Research Scientist', '2', 'Married', '5130', '24907', '1', 'Y', 'No', '23', '4', '4', '80', '1', '10', '3', '3', '10', '7', '1', '7']\n",
      "['5/3/2022 12:00:00 AM', '23', '37', 'Yes', 'Travel_Rarely', '1373', 'Research & Development', '2', 'Associates Degree', 'Other', '1', '4', '4', 'Male', '92', '2', '1', 'Laboratory Technician', '3', 'Single', '2090', '2396', '6', 'Y', 'Yes', '15', '3', '2', '80', '0', '7', '3', '3', '0', '0', '0', '0']\n",
      "['', '56', '33', 'No', 'Travel_Frequently', '1392', 'Research & Development', '3', \"Master's Degree\", 'Life Sciences', '1', '5', '4', 'Female', '56', '3', '1', 'Research Scientist', '3', 'Married', '2909', '23159', '1', 'Y', 'Yes', '11', '3', '3', '80', '0', '8', '3', '3', '8', '7', '3', '0']\n",
      "['', '27', '27', 'No', 'Travel_Rarely', '591', 'Research & Development', '2', 'High School', 'Medical', '1', '7', '1', 'Male', '40', '3', '1', 'Laboratory Technician', '2', 'Married', '3468', '16632', '9', 'Y', 'No', '12', '3', '4', '80', '1', '6', '3', '3', '2', '2', '2', '2']\n",
      "['', '43', '32', 'No', 'Travel_Frequently', '1005', 'Research & Development', '2', 'Associates Degree', 'Life Sciences', '1', '8', '4', 'Male', '79', '3', '1', 'Laboratory Technician', '4', 'Single', '3068', '11864', '0', 'Y', 'No', '13', '3', '3', '80', '0', '8', '2', '2', '7', '7', '3', '6']\n",
      "['', '34', '59', 'No', 'Travel_Rarely', '1324', 'Research & Development', '3', \"Bachelor's Degree\", 'Medical', '1', '10', '3', 'Female', '81', '4', '1', 'Laboratory Technician', '1', 'Married', '2670', '9964', '4', 'Y', 'Yes', '20', '4', '1', '80', '3', '12', '3', '2', '1', '0', '0', '0']\n",
      "['', '325', '30', 'No', 'Travel_Rarely', '1358', 'Research & Development', '24', 'High School', 'Life Sciences', '1', '11', '4', 'Male', '67', '3', '1', 'Laboratory Technician', '3', 'Divorced', '2693', '13335', '1', 'Y', 'No', '22', '4', '2', '80', '1', '1', '2', '3', '1', '0', '0', '0']\n",
      "['', '316', '38', 'No', 'Travel_Frequently', '216', 'Research & Development', '23', \"Bachelor's Degree\", 'Life Sciences', '1', '12', '4', 'Male', '44', '2', '3', 'Manufacturing Director', '3', 'Single', '9526', '8787', '0', 'Y', 'No', '21', '4', '2', '80', '0', '10', '2', '3', '9', '7', '1', '8']\n",
      "['', '202', '36', 'No', 'Travel_Rarely', '1299', 'Research & Development', '27', \"Bachelor's Degree\", 'Medical', '1', '13', '3', 'Male', '94', '3', '2', 'Healthcare Representative', '3', 'Married', '5237', '16577', '6', 'Y', 'No', '13', '3', '2', '80', '2', '17', '3', '2', '7', '7', '7', '7']\n",
      "['', '125', '35', 'No', 'Travel_Rarely', '809', 'Research & Development', '16', \"Bachelor's Degree\", 'Medical', '1', '14', '1', 'Male', '84', '4', '1', 'Laboratory Technician', '2', 'Married', '2426', '16479', '0', 'Y', 'No', '13', '3', '3', '80', '1', '6', '5', '3', '5', '4', '0', '3']\n",
      "['', '208', '29', 'No', 'Travel_Rarely', '153', 'Research & Development', '15', 'Associates Degree', 'Life Sciences', '1', '15', '4', 'Female', '49', '2', '2', 'Laboratory Technician', '3', 'Single', '4193', '12682', '0', 'Y', 'Yes', '12', '3', '4', '80', '0', '10', '3', '3', '9', '5', '0', '8']\n",
      "['', '351', '31', 'No', 'Travel_Rarely', '670', 'Research & Development', '26', 'High School', 'Life Sciences', '1', '16', '1', 'Male', '31', '3', '1', 'Research Scientist', '3', 'Divorced', '2911', '15170', '1', 'Y', 'No', '17', '3', '4', '80', '1', '5', '1', '2', '5', '2', '4', '3']\n",
      "['', '146', '34', 'No', 'Travel_Rarely', '1346', 'Research & Development', '19', 'Associates Degree', 'Medical', '1', '18', '2', 'Male', '93', '3', '1', 'Laboratory Technician', '4', 'Divorced', '2661', '8758', '0', 'Y', 'No', '11', '3', '3', '80', '1', '3', '2', '3', '2', '2', '1', '2']\n",
      "['7/5/2021 12:00:00 AM', '325', '28', 'Yes', 'Travel_Rarely', '103', 'Research & Development', '24', \"Bachelor's Degree\", 'Life Sciences', '1', '19', '3', 'Male', '50', '2', '1', 'Laboratory Technician', '3', 'Single', '2028', '12947', '5', 'Y', 'Yes', '14', '3', '2', '80', '0', '6', '4', '3', '4', '2', '0', '3']\n",
      "['', '286', '29', 'No', 'Travel_Rarely', '1389', 'Research & Development', '21', \"Master's Degree\", 'Life Sciences', '1', '20', '2', 'Female', '51', '4', '3', 'Manufacturing Director', '1', 'Divorced', '9980', '10195', '1', 'Y', 'No', '11', '3', '3', '80', '1', '10', '1', '3', '10', '9', '8', '8']\n",
      "['', '78', '32', 'No', 'Travel_Rarely', '334', 'Research & Development', '5', 'Associates Degree', 'Life Sciences', '1', '21', '1', 'Male', '80', '4', '1', 'Research Scientist', '2', 'Divorced', '3298', '15053', '0', 'Y', 'Yes', '12', '3', '4', '80', '2', '7', '5', '2', '6', '2', '0', '5']\n",
      "['', '122', '22', 'No', 'Non-Travel', '1123', 'Research & Development', '16', 'Associates Degree', 'Medical', '1', '22', '4', 'Male', '96', '4', '1', 'Laboratory Technician', '4', 'Divorced', '2935', '7324', '1', 'Y', 'Yes', '13', '3', '2', '80', '2', '1', '2', '2', '1', '0', '0', '0']\n",
      "['', '39', '53', 'No', 'Travel_Rarely', '1219', 'Sales', '2', \"Master's Degree\", 'Life Sciences', '1', '23', '1', 'Female', '78', '2', '4', 'Manager', '4', 'Married', '15427', '22021', '2', 'Y', 'No', '16', '3', '3', '80', '0', '31', '3', '3', '25', '8', '3', '7']\n",
      "['', '39', '38', 'No', 'Travel_Rarely', '371', 'Research & Development', '2', \"Bachelor's Degree\", 'Life Sciences', '1', '24', '4', 'Male', '45', '3', '1', 'Research Scientist', '4', 'Single', '3944', '4306', '5', 'Y', 'Yes', '11', '3', '3', '80', '0', '6', '3', '3', '3', '2', '1', '2']\n",
      "['', '65', '24', 'No', 'Non-Travel', '673', 'Research & Development', '11', 'Associates Degree', 'Other', '1', '26', '1', 'Female', '96', '4', '2', 'Manufacturing Director', '3', 'Divorced', '4011', '8232', '0', 'Y', 'No', '18', '3', '4', '80', '1', '5', '5', '2', '4', '2', '1', '3']\n",
      "['1/16/2022 12:00:00 AM', '130', '36', 'Yes', 'Travel_Rarely', '1218', 'Sales', '9', \"Master's Degree\", 'Life Sciences', '1', '27', '3', 'Male', '82', '2', '1', 'Sales Representative', '1', 'Single', '3407', '6986', '7', 'Y', 'No', '23', '4', '2', '80', '0', '10', '4', '3', '5', '3', '0', '3']\n",
      "['', '104', '34', 'No', 'Travel_Rarely', '419', 'Research & Development', '7', \"Master's Degree\", 'Life Sciences', '1', '28', '1', 'Female', '53', '3', '3', 'Research Director', '2', 'Single', '11994', '21293', '0', 'Y', 'No', '11', '3', '3', '80', '0', '13', '4', '3', '12', '6', '2', '11']\n",
      "['', '208', '21', 'No', 'Travel_Rarely', '391', 'Research & Development', '15', 'Associates Degree', 'Life Sciences', '1', '30', '3', 'Male', '96', '3', '1', 'Research Scientist', '4', 'Single', '1232', '19281', '1', 'Y', 'No', '14', '3', '4', '80', '0', '0', '6', '3', '0', '0', '0', '0']\n",
      "['4/1/2022 12:00:00 AM', '55', '34', 'Yes', 'Travel_Rarely', '699', 'Research & Development', '6', 'High School', 'Medical', '1', '31', '2', 'Male', '83', '3', '1', 'Research Scientist', '1', 'Single', '2960', '17102', '2', 'Y', 'No', '11', '3', '3', '80', '0', '8', '2', '3', '4', '2', '1', '3']\n",
      "['', '38', '53', 'No', 'Travel_Rarely', '1282', 'Research & Development', '5', \"Bachelor's Degree\", 'Other', '1', '32', '3', 'Female', '58', '3', '5', 'Manager', '3', 'Divorced', '19094', '10735', '4', 'Y', 'No', '11', '3', '4', '80', '1', '26', '3', '2', '14', '13', '4', '8']\n",
      "['10/13/2021 12:00:00 AM', '225', '32', 'Yes', 'Travel_Frequently', '1125', 'Research & Development', '16', 'High School', 'Life Sciences', '1', '33', '2', 'Female', '72', '1', '1', 'Research Scientist', '1', 'Single', '3919', '4681', '1', 'Y', 'Yes', '22', '4', '2', '80', '0', '10', '5', '3', '10', '2', '6', '7']\n",
      "['', '85', '42', 'No', 'Travel_Rarely', '691', 'Sales', '8', \"Master's Degree\", 'Marketing', '1', '35', '3', 'Male', '48', '3', '2', 'Sales Executive', '2', 'Married', '6825', '21173', '0', 'Y', 'No', '11', '3', '4', '80', '1', '10', '2', '3', '9', '7', '4', '2']\n",
      "['', '62', '44', 'No', 'Travel_Rarely', '477', 'Research & Development', '7', \"Master's Degree\", 'Medical', '1', '36', '1', 'Female', '42', '2', '3', 'Healthcare Representative', '4', 'Married', '10248', '2094', '3', 'Y', 'No', '14', '3', '4', '80', '1', '24', '4', '3', '22', '6', '5', '17']\n",
      "['', '31', '46', 'No', 'Travel_Rarely', '705', 'Sales', '2', \"Master's Degree\", 'Marketing', '1', '38', '2', 'Female', '83', '3', '5', 'Manager', '1', 'Single', '18947', '22822', '3', 'Y', 'No', '12', '3', '4', '80', '0', '22', '2', '2', '2', '2', '2', '1']\n",
      "['', '27', '33', 'No', 'Travel_Rarely', '924', 'Research & Development', '2', \"Bachelor's Degree\", 'Medical', '1', '39', '3', 'Male', '78', '3', '1', 'Laboratory Technician', '4', 'Single', '2496', '6670', '4', 'Y', 'No', '11', '3', '4', '80', '0', '7', '3', '3', '1', '1', '0', '0']\n",
      "['', '63', '44', 'No', 'Travel_Rarely', '1459', 'Research & Development', '10', \"Master's Degree\", 'Other', '1', '40', '4', 'Male', '41', '3', '2', 'Healthcare Representative', '4', 'Married', '6465', '19121', '2', 'Y', 'Yes', '13', '3', '4', '80', '0', '9', '5', '4', '4', '2', '1', '3']\n",
      "['', '76', '30', 'No', 'Travel_Rarely', '125', 'Research & Development', '9', 'Associates Degree', 'Medical', '1', '41', '4', 'Male', '83', '2', '1', 'Laboratory Technician', '3', 'Single', '2206', '16117', '1', 'Y', 'No', '13', '3', '1', '80', '0', '10', '5', '3', '10', '0', '1', '8']\n",
      "['2/22/2022 12:00:00 AM', '93', '39', 'Yes', 'Travel_Rarely', '895', 'Sales', '5', \"Bachelor's Degree\", 'Technical Degree', '1', '42', '4', 'Male', '56', '3', '2', 'Sales Representative', '4', 'Married', '2086', '3335', '3', 'Y', 'No', '14', '3', '3', '80', '1', '19', '6', '4', '1', '0', '0', '0']\n",
      "['5/6/2022 12:00:00 AM', '20', '24', 'Yes', 'Travel_Rarely', '813', 'Research & Development', '1', \"Bachelor's Degree\", 'Medical', '1', '45', '2', 'Male', '61', '3', '1', 'Research Scientist', '4', 'Married', '2293', '3020', '2', 'Y', 'Yes', '16', '3', '1', '80', '1', '6', '2', '2', '2', '0', '2', '0']\n",
      "['', '27', '43', 'No', 'Travel_Rarely', '1273', 'Research & Development', '2', 'Associates Degree', 'Medical', '1', '46', '4', 'Female', '72', '4', '1', 'Research Scientist', '3', 'Divorced', '2645', '21923', '1', 'Y', 'No', '12', '3', '4', '80', '2', '6', '3', '2', '5', '3', '1', '4']\n",
      "['4/16/2022 12:00:00 AM', '40', '50', 'Yes', 'Travel_Rarely', '869', 'Sales', '3', 'Associates Degree', 'Marketing', '1', '47', '1', 'Male', '86', '2', '1', 'Sales Representative', '3', 'Married', '2683', '3810', '1', 'Y', 'Yes', '14', '3', '3', '80', '0', '3', '2', '3', '3', '2', '0', '2']\n",
      "['', '31', '35', 'No', 'Travel_Rarely', '890', 'Sales', '2', \"Bachelor's Degree\", 'Marketing', '1', '49', '4', 'Female', '97', '3', '1', 'Sales Representative', '4', 'Married', '2014', '9687', '1', 'Y', 'No', '13', '3', '1', '80', '0', '2', '3', '3', '2', '2', '2', '2']\n",
      "['', '78', '36', 'No', 'Travel_Rarely', '852', 'Research & Development', '5', \"Master's Degree\", 'Life Sciences', '1', '51', '2', 'Female', '82', '2', '1', 'Research Scientist', '1', 'Married', '3419', '13072', '9', 'Y', 'Yes', '14', '3', '4', '80', '1', '6', '3', '4', '1', '1', '0', '0']\n",
      "['', '30', '33', 'No', 'Travel_Frequently', '1141', 'Sales', '1', \"Bachelor's Degree\", 'Life Sciences', '1', '52', '3', 'Female', '42', '4', '2', 'Sales Executive', '1', 'Married', '5376', '3193', '2', 'Y', 'No', '19', '3', '1', '80', '2', '10', '3', '3', '5', '3', '1', '3']\n",
      "['', '33', '35', 'No', 'Travel_Rarely', '464', 'Research & Development', '4', 'Associates Degree', 'Other', '1', '53', '3', 'Male', '75', '3', '1', 'Laboratory Technician', '4', 'Divorced', '1951', '10910', '1', 'Y', 'No', '12', '3', '3', '80', '1', '1', '3', '3', '1', '0', '0', '0']\n",
      "['', '39', '27', 'No', 'Travel_Rarely', '1240', 'Research & Development', '2', \"Master's Degree\", 'Life Sciences', '1', '54', '4', 'Female', '33', '3', '1', 'Laboratory Technician', '1', 'Divorced', '2341', '19715', '1', 'Y', 'No', '13', '3', '4', '80', '1', '1', '6', '3', '1', '0', '0', '0']\n",
      "['6/22/2021 12:00:00 AM', '338', '26', 'Yes', 'Travel_Rarely', '1357', 'Research & Development', '25', \"Bachelor's Degree\", 'Life Sciences', '1', '55', '1', 'Male', '48', '1', '1', 'Laboratory Technician', '3', 'Single', '2293', '10558', '1', 'Y', 'No', '12', '3', '3', '80', '0', '1', '2', '2', '1', '0', '0', '1']\n",
      "['', '121', '27', 'No', 'Travel_Frequently', '994', 'Sales', '8', \"Bachelor's Degree\", 'Life Sciences', '1', '56', '4', 'Male', '37', '3', '3', 'Sales Executive', '3', 'Single', '8726', '2975', '1', 'Y', 'No', '15', '3', '4', '80', '0', '9', '0', '3', '9', '8', '1', '7']\n",
      "['', '24', '30', 'No', 'Travel_Frequently', '721', 'Research & Development', '1', 'Associates Degree', 'Medical', '1', '57', '3', 'Female', '58', '3', '2', 'Laboratory Technician', '4', 'Single', '4011', '10781', '1', 'Y', 'No', '23', '4', '4', '80', '0', '12', '2', '3', '12', '8', '3', '7']\n",
      "['11/2/2021 12:00:00 AM', '205', '41', 'Yes', 'Travel_Rarely', '1360', 'Research & Development', '12', \"Bachelor's Degree\", 'Technical Degree', '1', '58', '2', 'Female', '49', '3', '5', 'Research Director', '3', 'Married', '19545', '16280', '1', 'Y', 'No', '12', '3', '4', '80', '0', '23', '0', '3', '22', '15', '15', '8']\n",
      "['', '217', '34', 'No', 'Non-Travel', '1065', 'Sales', '23', \"Master's Degree\", 'Marketing', '1', '60', '2', 'Male', '72', '3', '2', 'Sales Executive', '3', 'Single', '4568', '10034', '0', 'Y', 'No', '20', '4', '3', '80', '0', '10', '2', '3', '9', '5', '8', '7']\n",
      "['', '260', '37', 'No', 'Travel_Rarely', '408', 'Research & Development', '19', 'Associates Degree', 'Life Sciences', '1', '61', '2', 'Male', '73', '3', '1', 'Research Scientist', '2', 'Married', '3022', '10227', '4', 'Y', 'No', '21', '4', '1', '80', '0', '8', '1', '3', '1', '0', '0', '0']\n",
      "['', '62', '46', 'No', 'Travel_Frequently', '1211', 'Sales', '5', \"Master's Degree\", 'Marketing', '1', '62', '1', 'Male', '98', '3', '2', 'Sales Executive', '4', 'Single', '5772', '20445', '4', 'Y', 'Yes', '21', '4', '3', '80', '0', '14', '4', '3', '9', '6', '0', '8']\n",
      "['', '117', '35', 'No', 'Travel_Rarely', '1229', 'Research & Development', '8', 'High School', 'Life Sciences', '1', '63', '4', 'Male', '36', '4', '1', 'Laboratory Technician', '4', 'Married', '2269', '4892', '1', 'Y', 'No', '19', '3', '4', '80', '0', '1', '2', '3', '1', '0', '0', '1']\n",
      "['4/30/2022 12:00:00 AM', '26', '48', 'Yes', 'Travel_Rarely', '626', 'Research & Development', '1', 'Associates Degree', 'Life Sciences', '1', '64', '1', 'Male', '98', '2', '3', 'Laboratory Technician', '3', 'Single', '5381', '19294', '9', 'Y', 'Yes', '13', '3', '4', '80', '0', '23', '2', '3', '1', '0', '0', '0']\n",
      "['2/22/2022 12:00:00 AM', '93', '28', 'Yes', 'Travel_Rarely', '1434', 'Research & Development', '5', \"Master's Degree\", 'Technical Degree', '1', '65', '3', 'Male', '50', '3', '1', 'Laboratory Technician', '3', 'Single', '3441', '11179', '1', 'Y', 'Yes', '13', '3', '3', '80', '0', '2', '3', '2', '2', '2', '2', '2']\n",
      "['', '22', '44', 'No', 'Travel_Rarely', '1488', 'Sales', '1', 'Doctoral Degree', 'Marketing', '1', '68', '2', 'Female', '75', '3', '2', 'Sales Executive', '1', 'Divorced', '5454', '4009', '5', 'Y', 'Yes', '21', '4', '3', '80', '1', '9', '2', '2', '4', '3', '1', '3']\n",
      "['', '87', '35', 'No', 'Non-Travel', '1097', 'Research & Development', '11', 'Associates Degree', 'Medical', '1', '70', '3', 'Male', '79', '2', '3', 'Healthcare Representative', '1', 'Married', '9884', '8302', '2', 'Y', 'Yes', '13', '3', '3', '80', '1', '10', '3', '3', '4', '0', '2', '3']\n",
      "['', '220', '26', 'No', 'Travel_Rarely', '1443', 'Sales', '23', \"Bachelor's Degree\", 'Marketing', '1', '72', '3', 'Female', '47', '2', '2', 'Sales Executive', '4', 'Married', '4157', '21436', '7', 'Y', 'Yes', '19', '3', '3', '80', '1', '5', '2', '2', '2', '2', '0', '0']\n",
      "['', '30', '33', 'No', 'Travel_Frequently', '515', 'Research & Development', '1', 'Associates Degree', 'Life Sciences', '1', '73', '1', 'Female', '98', '3', '3', 'Research Director', '4', 'Single', '13458', '15146', '1', 'Y', 'Yes', '12', '3', '3', '80', '0', '15', '1', '3', '15', '14', '8', '12']\n",
      "['', '251', '35', 'No', 'Travel_Frequently', '853', 'Sales', '18', 'Doctoral Degree', 'Life Sciences', '1', '74', '2', 'Male', '71', '3', '3', 'Sales Executive', '1', 'Married', '9069', '11031', '1', 'Y', 'No', '22', '4', '4', '80', '1', '9', '3', '2', '9', '8', '1', '8']\n",
      "['', '174', '35', 'No', 'Travel_Rarely', '1142', 'Research & Development', '23', \"Master's Degree\", 'Medical', '1', '75', '3', 'Female', '30', '3', '1', 'Laboratory Technician', '1', 'Married', '4014', '16002', '3', 'Y', 'Yes', '15', '3', '3', '80', '1', '4', '3', '3', '2', '2', '2', '2']\n",
      "['', '104', '31', 'No', 'Travel_Rarely', '655', 'Research & Development', '7', \"Master's Degree\", 'Life Sciences', '1', '76', '4', 'Male', '48', '3', '2', 'Laboratory Technician', '4', 'Divorced', '5915', '9528', '3', 'Y', 'No', '22', '4', '4', '80', '1', '10', '3', '2', '7', '7', '1', '7']\n",
      "['', '26', '37', 'No', 'Travel_Rarely', '1115', 'Research & Development', '1', \"Master's Degree\", 'Life Sciences', '1', '77', '1', 'Male', '51', '2', '2', 'Manufacturing Director', '3', 'Divorced', '5993', '2689', '1', 'Y', 'No', '18', '3', '3', '80', '1', '7', '2', '4', '7', '5', '0', '7']\n",
      "['', '20', '32', 'No', 'Travel_Rarely', '427', 'Research & Development', '1', \"Bachelor's Degree\", 'Medical', '1', '78', '1', 'Male', '33', '3', '2', 'Manufacturing Director', '4', 'Married', '6162', '10877', '1', 'Y', 'Yes', '22', '4', '2', '80', '1', '9', '3', '3', '9', '8', '7', '8']\n",
      "['', '197', '38', 'No', 'Travel_Frequently', '653', 'Research & Development', '29', 'Doctoral Degree', 'Life Sciences', '1', '79', '4', 'Female', '50', '3', '2', 'Laboratory Technician', '4', 'Single', '2406', '5456', '1', 'Y', 'No', '11', '3', '4', '80', '0', '10', '2', '3', '10', '3', '9', '9']\n",
      "['', '62', '50', 'No', 'Travel_Rarely', '989', 'Research & Development', '7', 'Associates Degree', 'Medical', '1', '80', '2', 'Female', '43', '2', '5', 'Research Director', '3', 'Divorced', '18740', '16701', '5', 'Y', 'Yes', '12', '3', '4', '80', '1', '29', '2', '2', '27', '3', '13', '8']\n",
      "['', '338', '59', 'No', 'Travel_Rarely', '1435', 'Sales', '25', \"Bachelor's Degree\", 'Life Sciences', '1', '81', '1', 'Female', '99', '3', '3', 'Sales Executive', '1', 'Single', '7637', '2354', '7', 'Y', 'No', '11', '3', '4', '80', '0', '28', '3', '2', '21', '16', '7', '9']\n",
      "['', '141', '36', 'No', 'Travel_Rarely', '1223', 'Research & Development', '8', \"Bachelor's Degree\", 'Technical Degree', '1', '83', '3', 'Female', '59', '3', '3', 'Healthcare Representative', '3', 'Divorced', '10096', '8202', '1', 'Y', 'No', '13', '3', '2', '80', '3', '17', '2', '3', '17', '14', '12', '8']\n",
      "['', '69', '55', 'No', 'Travel_Rarely', '836', 'Research & Development', '8', \"Bachelor's Degree\", 'Medical', '1', '84', '4', 'Female', '33', '3', '4', 'Manager', '3', 'Divorced', '14756', '19730', '2', 'Y', 'Yes', '14', '3', '3', '80', '3', '21', '2', '3', '5', '0', '0', '2']\n",
      "['', '160', '36', 'No', 'Travel_Frequently', '1195', 'Research & Development', '11', \"Bachelor's Degree\", 'Life Sciences', '1', '85', '2', 'Male', '95', '2', '2', 'Manufacturing Director', '2', 'Single', '6499', '22656', '1', 'Y', 'No', '13', '3', '3', '80', '0', '6', '3', '3', '6', '5', '0', '3']\n",
      "['', '104', '45', 'No', 'Travel_Rarely', '1339', 'Research & Development', '7', \"Bachelor's Degree\", 'Life Sciences', '1', '86', '2', 'Male', '59', '3', '3', 'Research Scientist', '1', 'Divorced', '9724', '18787', '2', 'Y', 'No', '17', '3', '3', '80', '1', '25', '2', '3', '1', '0', '0', '0']\n",
      "['', '24', '35', 'No', 'Travel_Frequently', '664', 'Research & Development', '1', \"Bachelor's Degree\", 'Medical', '1', '88', '2', 'Male', '79', '3', '1', 'Research Scientist', '1', 'Married', '2194', '5868', '4', 'Y', 'No', '13', '3', '4', '80', '1', '5', '2', '2', '3', '2', '1', '2']\n",
      "['3/11/2022 12:00:00 AM', '76', '36', 'Yes', 'Travel_Rarely', '318', 'Research & Development', '9', \"Bachelor's Degree\", 'Medical', '1', '90', '4', 'Male', '79', '2', '1', 'Research Scientist', '3', 'Married', '3388', '21777', '0', 'Y', 'Yes', '17', '3', '1', '80', '1', '2', '0', '2', '1', '0', '0', '0']\n",
      "['', '30', '59', 'No', 'Travel_Frequently', '1225', 'Sales', '1', 'High School', 'Life Sciences', '1', '91', '1', 'Female', '57', '2', '2', 'Sales Executive', '3', 'Single', '5473', '24668', '7', 'Y', 'No', '11', '3', '4', '80', '0', '20', '2', '2', '4', '3', '1', '3']\n",
      "['', '39', '29', 'No', 'Travel_Rarely', '1328', 'Research & Development', '2', \"Bachelor's Degree\", 'Life Sciences', '1', '94', '3', 'Male', '76', '3', '1', 'Research Scientist', '2', 'Married', '2703', '4956', '0', 'Y', 'No', '23', '4', '4', '80', '1', '6', '3', '3', '5', '4', '0', '4']\n",
      "['', '20', '31', 'No', 'Travel_Rarely', '1082', 'Research & Development', '1', \"Master's Degree\", 'Medical', '1', '95', '3', 'Male', '87', '3', '1', 'Research Scientist', '2', 'Single', '2501', '18775', '1', 'Y', 'No', '17', '3', '2', '80', '0', '1', '4', '3', '1', '1', '1', '0']\n",
      "['', '26', '32', 'No', 'Travel_Rarely', '548', 'Research & Development', '1', \"Bachelor's Degree\", 'Life Sciences', '1', '96', '2', 'Male', '66', '3', '2', 'Research Scientist', '2', 'Married', '6220', '7346', '1', 'Y', 'No', '17', '3', '2', '80', '2', '10', '3', '3', '10', '4', '0', '9']\n",
      "['', '91', '36', 'No', 'Travel_Rarely', '132', 'Research & Development', '6', \"Bachelor's Degree\", 'Life Sciences', '1', '97', '2', 'Female', '55', '4', '1', 'Laboratory Technician', '4', 'Married', '3038', '22002', '3', 'Y', 'No', '12', '3', '2', '80', '0', '5', '3', '3', '1', '0', '0', '0']\n",
      "['', '117', '31', 'No', 'Travel_Rarely', '746', 'Research & Development', '8', \"Master's Degree\", 'Life Sciences', '1', '98', '3', 'Female', '61', '3', '2', 'Manufacturing Director', '4', 'Single', '4424', '20682', '1', 'Y', 'No', '23', '4', '4', '80', '0', '11', '2', '3', '11', '7', '1', '8']\n",
      "['', '22', '35', 'No', 'Travel_Rarely', '776', 'Sales', '1', \"Master's Degree\", 'Marketing', '1', '100', '3', 'Male', '32', '2', '2', 'Sales Executive', '1', 'Single', '4312', '23016', '0', 'Y', 'No', '14', '3', '2', '80', '0', '16', '2', '3', '15', '13', '2', '8']\n",
      "['', '43', '45', 'No', 'Travel_Rarely', '193', 'Research & Development', '6', \"Master's Degree\", 'Other', '1', '101', '4', 'Male', '52', '3', '3', 'Research Director', '1', 'Married', '13245', '15067', '4', 'Y', 'Yes', '14', '3', '2', '80', '0', '17', '3', '4', '0', '0', '0', '0']\n",
      "['', '62', '37', 'No', 'Travel_Rarely', '397', 'Research & Development', '7', \"Master's Degree\", 'Medical', '1', '102', '1', 'Male', '30', '3', '3', 'Research Director', '3', 'Single', '13664', '25258', '4', 'Y', 'No', '13', '3', '1', '80', '0', '16', '3', '4', '5', '2', '0', '2']\n",
      "['', '48', '46', 'No', 'Travel_Rarely', '945', 'Human Resources', '5', 'Associates Degree', 'Medical', '1', '103', '2', 'Male', '80', '3', '2', 'Human Resources', '2', 'Divorced', '5021', '10425', '8', 'Y', 'Yes', '22', '4', '4', '80', '1', '16', '2', '3', '4', '2', '0', '2']\n",
      "['', '26', '30', 'No', 'Travel_Rarely', '852', 'Research & Development', '1', 'High School', 'Life Sciences', '1', '104', '4', 'Male', '55', '2', '2', 'Laboratory Technician', '4', 'Married', '5126', '15998', '1', 'Y', 'Yes', '12', '3', '3', '80', '2', '10', '1', '2', '10', '8', '3', '0']\n",
      "['', '20', '35', 'No', 'Travel_Rarely', '1214', 'Research & Development', '1', \"Bachelor's Degree\", 'Medical', '1', '105', '2', 'Male', '30', '2', '1', 'Research Scientist', '3', 'Single', '2859', '26278', '1', 'Y', 'No', '18', '3', '1', '80', '0', '6', '3', '3', '6', '4', '0', '4']\n",
      "['', '26', '55', 'No', 'Travel_Rarely', '111', 'Sales', '1', 'Associates Degree', 'Life Sciences', '1', '106', '1', 'Male', '70', '3', '3', 'Sales Executive', '4', 'Married', '10239', '18092', '3', 'Y', 'No', '14', '3', '4', '80', '1', '24', '4', '3', '1', '0', '1', '0']\n",
      "['', '52', '38', 'No', 'Non-Travel', '573', 'Research & Development', '6', \"Bachelor's Degree\", 'Medical', '1', '107', '2', 'Female', '79', '1', '2', 'Research Scientist', '4', 'Divorced', '5329', '15717', '7', 'Y', 'Yes', '12', '3', '4', '80', '3', '17', '3', '3', '13', '11', '1', '9']\n",
      "['', '20', '34', 'No', 'Travel_Rarely', '1153', 'Research & Development', '1', 'Associates Degree', 'Medical', '1', '110', '1', 'Male', '94', '3', '2', 'Manufacturing Director', '2', 'Married', '4325', '17736', '1', 'Y', 'No', '15', '3', '3', '80', '0', '5', '2', '3', '5', '2', '1', '3']\n",
      "['', '104', '56', 'No', 'Travel_Rarely', '1400', 'Research & Development', '7', \"Bachelor's Degree\", 'Life Sciences', '1', '112', '4', 'Male', '49', '1', '3', 'Manufacturing Director', '4', 'Single', '7260', '21698', '4', 'Y', 'No', '11', '3', '1', '80', '0', '37', '3', '2', '6', '4', '0', '2']\n",
      "['', '45', '23', 'No', 'Travel_Rarely', '541', 'Sales', '2', 'High School', 'Technical Degree', '1', '113', '3', 'Male', '62', '3', '1', 'Sales Representative', '1', 'Divorced', '2322', '9518', '3', 'Y', 'No', '13', '3', '3', '80', '1', '3', '3', '3', '0', '0', '0', '0']\n",
      "['', '130', '51', 'No', 'Travel_Rarely', '432', 'Research & Development', '9', \"Master's Degree\", 'Life Sciences', '1', '116', '4', 'Male', '96', '3', '1', 'Laboratory Technician', '4', 'Married', '2075', '18725', '3', 'Y', 'No', '23', '4', '2', '80', '2', '10', '4', '3', '4', '2', '0', '3']\n",
      "['', '39', '30', 'No', 'Travel_Rarely', '288', 'Research & Development', '2', \"Bachelor's Degree\", 'Life Sciences', '1', '117', '3', 'Male', '99', '2', '2', 'Healthcare Representative', '4', 'Married', '4152', '15830', '1', 'Y', 'No', '19', '3', '1', '80', '3', '11', '3', '3', '11', '10', '10', '8']\n",
      "['3/11/2022 12:00:00 AM', '76', '46', 'Yes', 'Travel_Rarely', '669', 'Sales', '9', 'Associates Degree', 'Medical', '1', '118', '3', 'Male', '64', '2', '3', 'Sales Executive', '4', 'Single', '9619', '13596', '1', 'Y', 'No', '16', '3', '4', '80', '0', '9', '3', '3', '9', '8', '4', '7']\n",
      "['', '30', '40', 'No', 'Travel_Frequently', '530', 'Research & Development', '1', \"Master's Degree\", 'Life Sciences', '1', '119', '3', 'Male', '78', '2', '4', 'Healthcare Representative', '2', 'Married', '13503', '14115', '1', 'Y', 'No', '22', '4', '4', '80', '1', '22', '3', '2', '22', '3', '11', '11']\n",
      "['', '202', '51', 'No', 'Travel_Rarely', '632', 'Sales', '21', \"Master's Degree\", 'Marketing', '1', '120', '3', 'Male', '71', '3', '2', 'Sales Executive', '4', 'Single', '5441', '8423', '0', 'Y', 'Yes', '22', '4', '4', '80', '0', '11', '2', '1', '10', '7', '1', '0']\n",
      "['', '41', '30', 'No', 'Travel_Rarely', '1334', 'Sales', '4', 'Associates Degree', 'Medical', '1', '121', '3', 'Female', '63', '2', '2', 'Sales Executive', '2', 'Divorced', '5209', '19760', '1', 'Y', 'Yes', '12', '3', '2', '80', '3', '11', '4', '2', '11', '8', '2', '7']\n",
      "['', '24', '46', 'No', 'Travel_Frequently', '638', 'Research & Development', '1', \"Bachelor's Degree\", 'Medical', '1', '124', '3', 'Male', '40', '2', '3', 'Healthcare Representative', '1', 'Married', '10673', '3142', '2', 'Y', 'Yes', '13', '3', '3', '80', '1', '21', '5', '2', '10', '9', '9', '5']\n",
      "['', '55', '32', 'No', 'Travel_Rarely', '1093', 'Sales', '6', \"Master's Degree\", 'Medical', '1', '125', '2', 'Male', '87', '3', '2', 'Sales Executive', '3', 'Single', '5010', '24301', '1', 'Y', 'No', '16', '3', '1', '80', '0', '12', '0', '3', '11', '8', '5', '7']\n",
      "['', '45', '54', 'No', 'Travel_Rarely', '1217', 'Research & Development', '2', \"Master's Degree\", 'Technical Degree', '1', '126', '1', 'Female', '60', '3', '3', 'Research Director', '3', 'Married', '13549', '24001', '9', 'Y', 'No', '12', '3', '1', '80', '1', '16', '5', '1', '4', '3', '0', '3']\n",
      "['', '28', '24', 'No', 'Travel_Rarely', '1353', 'Sales', '3', 'Associates Degree', 'Other', '1', '128', '1', 'Female', '33', '3', '2', 'Sales Executive', '3', 'Married', '4999', '17519', '0', 'Y', 'No', '21', '4', '1', '80', '1', '4', '2', '2', '3', '2', '0', '2']\n",
      "['', '38', '28', 'No', 'Non-Travel', '120', 'Sales', '4', \"Bachelor's Degree\", 'Medical', '1', '129', '2', 'Male', '43', '3', '2', 'Sales Executive', '3', 'Married', '4221', '8863', '1', 'Y', 'No', '15', '3', '2', '80', '0', '5', '3', '4', '5', '4', '0', '4']\n",
      "['', '83', '58', 'No', 'Travel_Rarely', '682', 'Sales', '10', \"Master's Degree\", 'Medical', '1', '131', '4', 'Male', '37', '3', '4', 'Sales Executive', '3', 'Single', '13872', '24409', '0', 'Y', 'No', '13', '3', '3', '80', '0', '38', '1', '2', '37', '10', '1', '8']\n",
      "['', '171', '44', 'No', 'Non-Travel', '489', 'Research & Development', '23', \"Bachelor's Degree\", 'Medical', '1', '132', '2', 'Male', '67', '3', '2', 'Laboratory Technician', '2', 'Married', '2042', '25043', '4', 'Y', 'No', '12', '3', '3', '80', '1', '17', '3', '4', '3', '2', '1', '2']\n",
      "['2/12/2022 12:00:00 AM', '103', '37', 'Yes', 'Travel_Rarely', '807', 'Human Resources', '6', \"Master's Degree\", 'Human Resources', '1', '133', '3', 'Male', '63', '3', '1', 'Human Resources', '1', 'Divorced', '2073', '23648', '4', 'Y', 'Yes', '22', '4', '4', '80', '0', '7', '3', '3', '3', '2', '0', '2']\n",
      "['', '26', '32', 'No', 'Travel_Rarely', '827', 'Research & Development', '1', 'High School', 'Life Sciences', '1', '134', '4', 'Male', '71', '3', '1', 'Research Scientist', '1', 'Single', '2956', '15178', '1', 'Y', 'No', '13', '3', '4', '80', '0', '1', '2', '3', '1', '0', '0', '0']\n",
      "['2/20/2022 12:00:00 AM', '95', '20', 'Yes', 'Travel_Frequently', '871', 'Research & Development', '6', \"Bachelor's Degree\", 'Life Sciences', '1', '137', '4', 'Female', '66', '2', '1', 'Laboratory Technician', '4', 'Single', '2926', '19783', '1', 'Y', 'Yes', '18', '3', '2', '80', '0', '1', '5', '3', '1', '0', '1', '0']\n",
      "['', '43', '34', 'No', 'Travel_Rarely', '665', 'Research & Development', '6', \"Master's Degree\", 'Other', '1', '138', '1', 'Female', '41', '3', '2', 'Research Scientist', '3', 'Single', '4809', '12482', '1', 'Y', 'No', '14', '3', '3', '80', '0', '16', '3', '3', '16', '13', '2', '10']\n",
      "['', '36', '37', 'No', 'Non-Travel', '1040', 'Research & Development', '2', 'Associates Degree', 'Life Sciences', '1', '139', '3', 'Male', '100', '2', '2', 'Healthcare Representative', '4', 'Divorced', '5163', '15850', '5', 'Y', 'No', '14', '3', '4', '80', '1', '17', '2', '4', '1', '0', '0', '0']\n",
      "['', '40', '59', 'No', 'Non-Travel', '1420', 'Human Resources', '2', \"Master's Degree\", 'Human Resources', '1', '140', '3', 'Female', '32', '2', '5', 'Manager', '4', 'Married', '18844', '21922', '9', 'Y', 'No', '21', '4', '4', '80', '1', '30', '3', '3', '3', '2', '2', '2']\n",
      "['', '30', '50', 'No', 'Travel_Frequently', '1115', 'Research & Development', '1', \"Bachelor's Degree\", 'Life Sciences', '1', '141', '1', 'Female', '73', '3', '5', 'Research Director', '2', 'Married', '18172', '9755', '3', 'Y', 'Yes', '19', '3', '1', '80', '0', '28', '1', '2', '8', '3', '0', '7']\n",
      "['3/29/2022 12:00:00 AM', '58', '25', 'Yes', 'Travel_Rarely', '240', 'Sales', '5', \"Bachelor's Degree\", 'Marketing', '1', '142', '3', 'Male', '46', '2', '2', 'Sales Executive', '3', 'Single', '5744', '26959', '1', 'Y', 'Yes', '11', '3', '4', '80', '0', '6', '1', '3', '6', '4', '0', '3']\n",
      "['', '62', '25', 'No', 'Travel_Rarely', '1280', 'Research & Development', '7', 'High School', 'Medical', '1', '143', '4', 'Male', '64', '2', '1', 'Research Scientist', '4', 'Married', '2889', '26897', '1', 'Y', 'No', '11', '3', '3', '80', '2', '2', '2', '3', '2', '2', '2', '1']\n",
      "['', '118', '22', 'No', 'Travel_Rarely', '534', 'Research & Development', '15', \"Bachelor's Degree\", 'Medical', '1', '144', '2', 'Female', '59', '3', '1', 'Laboratory Technician', '4', 'Single', '2871', '23785', '1', 'Y', 'No', '15', '3', '3', '80', '0', '1', '5', '3', '0', '0', '0', '0']\n",
      "['', '24', '51', 'No', 'Travel_Frequently', '1456', 'Research & Development', '1', \"Master's Degree\", 'Medical', '1', '145', '1', 'Female', '30', '2', '3', 'Healthcare Representative', '1', 'Single', '7484', '25796', '3', 'Y', 'No', '20', '4', '3', '80', '0', '23', '1', '2', '13', '12', '12', '8']\n",
      "['2/7/2022 12:00:00 AM', '108', '34', 'Yes', 'Travel_Frequently', '658', 'Research & Development', '7', \"Bachelor's Degree\", 'Life Sciences', '1', '147', '1', 'Male', '66', '1', '2', 'Laboratory Technician', '3', 'Single', '6074', '22887', '1', 'Y', 'Yes', '24', '4', '4', '80', '0', '9', '3', '3', '9', '7', '0', '6']\n",
      "['', '200', '54', 'No', 'Non-Travel', '142', 'Human Resources', '26', \"Bachelor's Degree\", 'Human Resources', '1', '148', '4', 'Female', '30', '4', '4', 'Manager', '4', 'Single', '17328', '13871', '2', 'Y', 'Yes', '12', '3', '3', '80', '0', '23', '3', '3', '5', '3', '4', '4']\n",
      "['', '247', '24', 'No', 'Travel_Rarely', '1127', 'Research & Development', '18', 'High School', 'Life Sciences', '1', '150', '2', 'Male', '52', '3', '1', 'Laboratory Technician', '3', 'Married', '2774', '13257', '0', 'Y', 'No', '12', '3', '3', '80', '1', '6', '2', '3', '5', '3', '1', '2']\n",
      "['', '91', '34', 'No', 'Travel_Rarely', '1031', 'Research & Development', '6', \"Master's Degree\", 'Life Sciences', '1', '151', '3', 'Female', '45', '2', '2', 'Research Scientist', '2', 'Divorced', '4505', '15000', '6', 'Y', 'No', '15', '3', '3', '80', '1', '12', '3', '3', '1', '0', '0', '0']\n",
      "['', '52', '37', 'No', 'Travel_Rarely', '1189', 'Sales', '3', \"Bachelor's Degree\", 'Life Sciences', '1', '152', '3', 'Male', '87', '3', '3', 'Sales Executive', '4', 'Single', '7428', '14506', '2', 'Y', 'No', '12', '3', '1', '80', '0', '12', '3', '3', '5', '3', '1', '3']\n",
      "['', '48', '34', 'No', 'Travel_Rarely', '1354', 'Research & Development', '5', \"Bachelor's Degree\", 'Medical', '1', '153', '3', 'Female', '45', '2', '3', 'Manager', '1', 'Single', '11631', '5615', '2', 'Y', 'No', '12', '3', '4', '80', '0', '14', '6', '3', '11', '10', '5', '8']\n",
      "['', '193', '36', 'No', 'Travel_Frequently', '1467', 'Sales', '11', 'Associates Degree', 'Technical Degree', '1', '154', '2', 'Female', '92', '3', '3', 'Sales Executive', '4', 'Married', '9738', '22952', '0', 'Y', 'No', '14', '3', '3', '80', '1', '10', '6', '3', '9', '7', '2', '8']\n",
      "['', '52', '36', 'No', 'Travel_Rarely', '922', 'Research & Development', '3', 'Associates Degree', 'Life Sciences', '1', '155', '1', 'Female', '39', '3', '1', 'Laboratory Technician', '4', 'Divorced', '2835', '2561', '5', 'Y', 'No', '22', '4', '1', '80', '1', '7', '2', '3', '1', '0', '0', '0']\n",
      "['', '355', '43', 'No', 'Travel_Frequently', '394', 'Sales', '26', 'Associates Degree', 'Life Sciences', '1', '158', '3', 'Male', '92', '3', '4', 'Manager', '4', 'Married', '16959', '19494', '1', 'Y', 'Yes', '12', '3', '4', '80', '2', '25', '3', '4', '25', '12', '4', '12']\n",
      "['', '316', '30', 'No', 'Travel_Frequently', '1312', 'Research & Development', '23', \"Bachelor's Degree\", 'Life Sciences', '1', '159', '1', 'Male', '96', '1', '1', 'Research Scientist', '3', 'Divorced', '2613', '22310', '1', 'Y', 'No', '25', '4', '3', '80', '3', '10', '2', '2', '10', '7', '0', '9']\n",
      "['', '208', '33', 'No', 'Non-Travel', '750', 'Sales', '22', 'Associates Degree', 'Marketing', '1', '160', '3', 'Male', '95', '3', '2', 'Sales Executive', '2', 'Married', '6146', '15480', '0', 'Y', 'No', '13', '3', '1', '80', '1', '8', '2', '4', '7', '7', '0', '7']\n",
      "['11/12/2021 12:00:00 AM', '195', '56', 'Yes', 'Travel_Rarely', '441', 'Research & Development', '14', \"Master's Degree\", 'Life Sciences', '1', '161', '2', 'Female', '72', '3', '1', 'Research Scientist', '2', 'Married', '4963', '4510', '9', 'Y', 'Yes', '18', '3', '1', '80', '3', '7', '2', '3', '5', '4', '4', '3']\n",
      "['', '91', '51', 'No', 'Travel_Rarely', '684', 'Research & Development', '6', \"Bachelor's Degree\", 'Life Sciences', '1', '162', '1', 'Male', '51', '3', '5', 'Research Director', '3', 'Single', '19537', '6462', '7', 'Y', 'No', '13', '3', '3', '80', '0', '23', '5', '3', '20', '18', '15', '15']\n",
      "['2/24/2022 12:00:00 AM', '91', '31', 'Yes', 'Travel_Rarely', '249', 'Sales', '6', \"Master's Degree\", 'Life Sciences', '1', '163', '2', 'Male', '76', '1', '2', 'Sales Executive', '3', 'Married', '6172', '20739', '4', 'Y', 'Yes', '18', '3', '2', '80', '0', '12', '3', '2', '7', '7', '7', '7']\n",
      "['', '43', '26', 'No', 'Travel_Rarely', '841', 'Research & Development', '6', \"Bachelor's Degree\", 'Other', '1', '164', '3', 'Female', '46', '2', '1', 'Research Scientist', '2', 'Married', '2368', '23300', '1', 'Y', 'No', '19', '3', '3', '80', '0', '5', '3', '2', '5', '4', '4', '3']\n",
      "['12/3/2021 12:00:00 AM', '174', '58', 'Yes', 'Travel_Rarely', '147', 'Research & Development', '23', \"Master's Degree\", 'Medical', '1', '165', '4', 'Female', '94', '3', '3', 'Healthcare Representative', '4', 'Married', '10312', '3465', '1', 'Y', 'No', '12', '3', '4', '80', '1', '40', '3', '2', '40', '10', '15', '6']\n",
      "['10/27/2021 12:00:00 AM', '211', '19', 'Yes', 'Travel_Rarely', '528', 'Sales', '22', 'High School', 'Marketing', '1', '167', '4', 'Male', '50', '3', '1', 'Sales Representative', '3', 'Single', '1675', '26820', '1', 'Y', 'Yes', '19', '3', '4', '80', '0', '0', '2', '2', '0', '0', '0', '0']\n",
      "['', '45', '22', 'No', 'Travel_Rarely', '594', 'Research & Development', '2', 'High School', 'Technical Degree', '1', '169', '3', 'Male', '100', '3', '1', 'Laboratory Technician', '4', 'Married', '2523', '19299', '0', 'Y', 'No', '14', '3', '3', '80', '1', '3', '2', '3', '2', '1', '2', '1']\n",
      "['', '153', '49', 'No', 'Travel_Rarely', '470', 'Research & Development', '20', \"Master's Degree\", 'Medical', '1', '170', '3', 'Female', '96', '3', '2', 'Manufacturing Director', '1', 'Married', '6567', '5549', '1', 'Y', 'No', '14', '3', '3', '80', '0', '16', '2', '2', '15', '11', '5', '11']\n",
      "['', '213', '43', 'No', 'Travel_Frequently', '957', 'Research & Development', '28', \"Bachelor's Degree\", 'Medical', '1', '171', '2', 'Female', '72', '4', '1', 'Research Scientist', '3', 'Single', '4739', '16090', '4', 'Y', 'No', '12', '3', '4', '80', '0', '18', '2', '3', '3', '2', '1', '2']\n",
      "['', '125', '50', 'No', 'Travel_Frequently', '809', 'Sales', '12', \"Bachelor's Degree\", 'Marketing', '1', '174', '3', 'Female', '77', '3', '3', 'Sales Executive', '4', 'Single', '9208', '6645', '4', 'Y', 'No', '11', '3', '4', '80', '0', '16', '3', '3', '2', '2', '2', '1']\n",
      "['8/26/2021 12:00:00 AM', '273', '31', 'Yes', 'Travel_Rarely', '542', 'Sales', '20', \"Bachelor's Degree\", 'Life Sciences', '1', '175', '2', 'Female', '71', '1', '2', 'Sales Executive', '3', 'Married', '4559', '24788', '3', 'Y', 'Yes', '11', '3', '3', '80', '1', '4', '2', '3', '2', '2', '2', '2']\n",
      "['', '130', '41', 'No', 'Travel_Rarely', '802', 'Sales', '9', 'High School', 'Life Sciences', '1', '176', '3', 'Male', '96', '3', '3', 'Sales Executive', '3', 'Divorced', '8189', '21196', '3', 'Y', 'Yes', '13', '3', '3', '80', '1', '12', '2', '3', '9', '7', '0', '7']\n",
      "['', '338', '26', 'No', 'Travel_Rarely', '1355', 'Human Resources', '25', 'High School', 'Life Sciences', '1', '177', '3', 'Female', '61', '3', '1', 'Human Resources', '3', 'Married', '2942', '8916', '1', 'Y', 'No', '23', '4', '4', '80', '1', '8', '3', '3', '8', '7', '5', '7']\n",
      "['', '55', '36', 'No', 'Travel_Rarely', '216', 'Research & Development', '6', 'Associates Degree', 'Medical', '1', '178', '2', 'Male', '84', '3', '2', 'Manufacturing Director', '2', 'Divorced', '4941', '2819', '6', 'Y', 'No', '20', '4', '4', '80', '2', '7', '0', '3', '3', '2', '0', '1']\n",
      "['1/25/2022 12:00:00 AM', '121', '51', 'Yes', 'Travel_Frequently', '1150', 'Research & Development', '8', \"Master's Degree\", 'Life Sciences', '1', '179', '1', 'Male', '53', '1', '3', 'Manufacturing Director', '4', 'Single', '10650', '25150', '2', 'Y', 'No', '15', '3', '4', '80', '0', '18', '2', '3', '4', '2', '0', '3']\n",
      "['', '65', '39', 'No', 'Travel_Rarely', '1329', 'Sales', '4', \"Master's Degree\", 'Life Sciences', '1', '182', '4', 'Female', '47', '2', '2', 'Sales Executive', '3', 'Married', '5902', '14590', '4', 'Y', 'No', '14', '3', '3', '80', '1', '17', '1', '4', '15', '11', '5', '9']\n",
      "['', '188.5', '25', 'No', 'Travel_Rarely', '959', 'Sales', '28', \"Bachelor's Degree\", 'Life Sciences', '1', '183', '1', 'Male', '41', '2', '2', 'Sales Executive', '3', 'Married', '8639', '24835', '2', 'Y', 'No', '18', '3', '4', '80', '0', '6', '3', '3', '2', '2', '2', '2']\n",
      "['', '148', '30', 'No', 'Travel_Rarely', '1240', 'Human Resources', '9', \"Bachelor's Degree\", 'Human Resources', '1', '184', '3', 'Male', '48', '3', '2', 'Human Resources', '4', 'Married', '6347', '13982', '0', 'Y', 'Yes', '19', '3', '4', '80', '0', '12', '2', '1', '11', '9', '4', '7']\n",
      "['3/11/2022 12:00:00 AM', '76', '32', 'Yes', 'Travel_Rarely', '1033', 'Research & Development', '9', \"Bachelor's Degree\", 'Medical', '1', '190', '1', 'Female', '41', '3', '1', 'Laboratory Technician', '1', 'Single', '4200', '10224', '7', 'Y', 'No', '22', '4', '1', '80', '0', '10', '2', '4', '5', '4', '0', '4']\n",
      "['', '216', '45', 'No', 'Travel_Rarely', '1316', 'Research & Development', '29', \"Bachelor's Degree\", 'Medical', '1', '192', '3', 'Male', '83', '3', '1', 'Research Scientist', '4', 'Single', '3452', '9752', '5', 'Y', 'No', '13', '3', '2', '80', '0', '9', '2', '2', '6', '5', '0', '3']\n",
      "['', '61', '38', 'No', 'Travel_Rarely', '364', 'Research & Development', '3', 'Doctoral Degree', 'Technical Degree', '1', '193', '4', 'Female', '32', '3', '2', 'Research Scientist', '3', 'Single', '4317', '2302', '3', 'Y', 'Yes', '20', '4', '2', '80', '0', '19', '2', '3', '3', '2', '2', '2']\n",
      "['', '247', '30', 'No', 'Travel_Rarely', '438', 'Research & Development', '18', \"Bachelor's Degree\", 'Life Sciences', '1', '194', '1', 'Female', '75', '3', '1', 'Research Scientist', '3', 'Single', '2632', '23910', '1', 'Y', 'No', '14', '3', '3', '80', '0', '5', '4', '2', '5', '4', '0', '4']\n",
      "['', '80', '32', 'No', 'Travel_Frequently', '689', 'Sales', '9', 'Associates Degree', 'Medical', '1', '195', '4', 'Male', '35', '1', '2', 'Sales Executive', '4', 'Divorced', '4668', '22812', '0', 'Y', 'No', '17', '3', '4', '80', '3', '9', '2', '4', '8', '7', '0', '7']\n",
      "['', '93', '30', 'No', 'Travel_Rarely', '201', 'Research & Development', '5', \"Bachelor's Degree\", 'Technical Degree', '1', '197', '4', 'Female', '84', '3', '1', 'Research Scientist', '1', 'Divorced', '3204', '10415', '5', 'Y', 'No', '14', '3', '4', '80', '1', '8', '3', '3', '3', '2', '2', '2']\n",
      "['', '27', '30', 'No', 'Travel_Rarely', '1427', 'Research & Development', '2', 'High School', 'Medical', '1', '198', '2', 'Male', '35', '2', '1', 'Laboratory Technician', '4', 'Single', '2720', '11162', '0', 'Y', 'No', '13', '3', '4', '80', '0', '6', '3', '3', '5', '3', '1', '2']\n",
      "['', '147', '41', 'No', 'Travel_Frequently', '857', 'Research & Development', '10', \"Bachelor's Degree\", 'Life Sciences', '1', '199', '4', 'Male', '91', '2', '4', 'Manager', '1', 'Divorced', '17181', '12888', '4', 'Y', 'No', '13', '3', '2', '80', '1', '21', '2', '2', '7', '6', '7', '7']\n",
      "['', '130', '41', 'No', 'Travel_Rarely', '933', 'Research & Development', '9', \"Master's Degree\", 'Life Sciences', '1', '200', '3', 'Male', '94', '3', '1', 'Laboratory Technician', '1', 'Married', '2238', '6961', '2', 'Y', 'No', '21', '4', '4', '80', '1', '7', '2', '3', '5', '0', '1', '4']\n",
      "['', '34', '19', 'No', 'Travel_Rarely', '1181', 'Research & Development', '3', 'High School', 'Medical', '1', '201', '2', 'Female', '79', '3', '1', 'Laboratory Technician', '2', 'Single', '1483', '16102', '1', 'Y', 'No', '14', '3', '4', '80', '0', '1', '3', '3', '1', '0', '0', '0']\n",
      "['', '199', '40', 'No', 'Travel_Frequently', '1395', 'Research & Development', '26', \"Bachelor's Degree\", 'Medical', '1', '202', '2', 'Female', '54', '3', '2', 'Research Scientist', '2', 'Divorced', '5605', '8504', '1', 'Y', 'No', '11', '3', '1', '80', '1', '20', '2', '3', '20', '7', '2', '13']\n",
      "['', '22', '35', 'No', 'Travel_Rarely', '662', 'Sales', '1', 'Doctoral Degree', 'Marketing', '1', '204', '3', 'Male', '94', '3', '3', 'Sales Executive', '2', 'Married', '7295', '11439', '1', 'Y', 'No', '13', '3', '1', '80', '2', '10', '3', '3', '10', '8', '0', '6']\n",
      "['', '67', '53', 'No', 'Travel_Rarely', '1436', 'Sales', '6', 'Associates Degree', 'Marketing', '1', '205', '2', 'Male', '34', '3', '2', 'Sales Representative', '3', 'Married', '2306', '16047', '2', 'Y', 'Yes', '20', '4', '4', '80', '1', '13', '3', '1', '7', '7', '4', '5']\n",
      "['', '130', '45', 'No', 'Travel_Rarely', '194', 'Research & Development', '9', \"Bachelor's Degree\", 'Life Sciences', '1', '206', '2', 'Male', '60', '3', '2', 'Laboratory Technician', '2', 'Divorced', '2348', '10901', '8', 'Y', 'No', '18', '3', '3', '80', '1', '20', '2', '1', '17', '9', '0', '15']\n",
      "['', '89', '32', 'No', 'Travel_Frequently', '967', 'Sales', '8', \"Bachelor's Degree\", 'Marketing', '1', '207', '2', 'Female', '43', '3', '3', 'Sales Executive', '4', 'Single', '8998', '15589', '1', 'Y', 'No', '14', '3', '4', '80', '0', '9', '2', '3', '9', '8', '3', '7']\n",
      "['', '26', '29', 'No', 'Non-Travel', '1496', 'Research & Development', '1', 'High School', 'Technical Degree', '1', '208', '4', 'Male', '41', '3', '2', 'Manufacturing Director', '3', 'Married', '4319', '26283', '1', 'Y', 'No', '13', '3', '1', '80', '1', '10', '1', '3', '10', '7', '0', '9']\n",
      "['', '62', '51', 'No', 'Travel_Rarely', '1169', 'Research & Development', '7', \"Master's Degree\", 'Medical', '1', '211', '2', 'Male', '34', '2', '2', 'Manufacturing Director', '3', 'Married', '6132', '13983', '2', 'Y', 'No', '17', '3', '3', '80', '0', '10', '2', '3', '1', '0', '0', '0']\n",
      "['', '76', '58', 'No', 'Travel_Rarely', '1145', 'Research & Development', '9', \"Bachelor's Degree\", 'Medical', '1', '214', '2', 'Female', '75', '2', '1', 'Research Scientist', '2', 'Married', '3346', '11873', '4', 'Y', 'Yes', '20', '4', '2', '80', '1', '9', '3', '2', '1', '0', '0', '0']\n",
      "['', '49', '40', 'No', 'Travel_Rarely', '630', 'Sales', '4', \"Master's Degree\", 'Marketing', '1', '215', '3', 'Male', '67', '2', '3', 'Sales Executive', '4', 'Married', '10855', '8552', '7', 'Y', 'No', '11', '3', '1', '80', '1', '15', '2', '2', '12', '11', '2', '11']\n",
      "['', '35', '34', 'No', 'Travel_Frequently', '303', 'Sales', '2', \"Master's Degree\", 'Marketing', '1', '216', '3', 'Female', '75', '3', '1', 'Sales Representative', '3', 'Married', '2231', '11314', '6', 'Y', 'No', '18', '3', '4', '80', '1', '6', '3', '3', '4', '3', '1', '2']\n",
      "['', '146', '22', 'No', 'Travel_Rarely', '1256', 'Research & Development', '19', 'High School', 'Medical', '1', '217', '3', 'Male', '80', '3', '1', 'Research Scientist', '4', 'Married', '2323', '11992', '1', 'Y', 'No', '24', '4', '1', '80', '2', '2', '6', '3', '2', '2', '2', '2']\n",
      "['', '73', '27', 'No', 'Non-Travel', '691', 'Research & Development', '9', \"Bachelor's Degree\", 'Medical', '1', '218', '4', 'Male', '57', '3', '1', 'Research Scientist', '2', 'Divorced', '2024', '5970', '6', 'Y', 'No', '18', '3', '4', '80', '1', '6', '1', '1', '2', '2', '2', '2']\n",
      "['', '160', '28', 'No', 'Travel_Rarely', '440', 'Research & Development', '21', \"Bachelor's Degree\", 'Medical', '1', '221', '3', 'Male', '42', '3', '1', 'Research Scientist', '4', 'Married', '2713', '6672', '1', 'Y', 'No', '11', '3', '3', '80', '1', '5', '2', '1', '5', '2', '0', '2']\n",
      "['', '325', '57', 'No', 'Travel_Rarely', '334', 'Research & Development', '24', 'Associates Degree', 'Life Sciences', '1', '223', '3', 'Male', '83', '4', '3', 'Healthcare Representative', '4', 'Divorced', '9439', '23402', '3', 'Y', 'Yes', '16', '3', '2', '80', '1', '12', '2', '1', '5', '3', '1', '4']\n",
      "['', '31', '27', 'No', 'Non-Travel', '1450', 'Research & Development', '3', \"Bachelor's Degree\", 'Medical', '1', '224', '3', 'Male', '79', '2', '1', 'Research Scientist', '3', 'Divorced', '2566', '25326', '1', 'Y', 'Yes', '15', '3', '4', '80', '1', '1', '2', '2', '1', '1', '0', '1']\n",
      "['', '156', '50', 'No', 'Travel_Rarely', '1452', 'Research & Development', '11', \"Bachelor's Degree\", 'Life Sciences', '1', '226', '3', 'Female', '53', '3', '5', 'Manager', '2', 'Single', '19926', '17053', '3', 'Y', 'No', '15', '3', '2', '80', '0', '21', '5', '3', '5', '4', '4', '4']\n",
      "['', '195', '41', 'No', 'Travel_Rarely', '465', 'Research & Development', '14', \"Bachelor's Degree\", 'Life Sciences', '1', '227', '1', 'Male', '56', '3', '1', 'Research Scientist', '3', 'Divorced', '2451', '4609', '4', 'Y', 'No', '12', '3', '1', '80', '1', '13', '2', '3', '9', '8', '1', '8']\n",
      "['', '78', '30', 'No', 'Travel_Rarely', '1339', 'Sales', '5', \"Bachelor's Degree\", 'Life Sciences', '1', '228', '2', 'Female', '41', '3', '3', 'Sales Executive', '4', 'Married', '9419', '8053', '2', 'Y', 'No', '12', '3', '3', '80', '1', '12', '2', '3', '10', '9', '7', '4']\n",
      "['', '26', '38', 'No', 'Travel_Rarely', '702', 'Sales', '1', \"Master's Degree\", 'Life Sciences', '1', '230', '1', 'Female', '59', '2', '2', 'Sales Executive', '4', 'Single', '8686', '12930', '4', 'Y', 'No', '22', '4', '3', '80', '0', '12', '2', '4', '8', '3', '0', '7']\n",
      "['', '91', '32', 'No', 'Travel_Rarely', '120', 'Research & Development', '6', 'Doctoral Degree', 'Life Sciences', '1', '231', '3', 'Male', '43', '3', '1', 'Research Scientist', '3', 'Single', '3038', '12430', '3', 'Y', 'No', '20', '4', '1', '80', '0', '8', '2', '3', '5', '4', '1', '4']\n",
      "['', '285', '27', 'No', 'Travel_Rarely', '1157', 'Research & Development', '17', \"Bachelor's Degree\", 'Technical Degree', '1', '233', '3', 'Male', '51', '3', '1', 'Research Scientist', '2', 'Married', '3058', '13364', '0', 'Y', 'Yes', '16', '3', '4', '80', '1', '6', '3', '2', '5', '2', '1', '1']\n",
      "['4/23/2022 12:00:00 AM', '33', '19', 'Yes', 'Travel_Frequently', '602', 'Sales', '1', 'High School', 'Technical Degree', '1', '235', '3', 'Female', '100', '1', '1', 'Sales Representative', '1', 'Single', '2325', '20989', '0', 'Y', 'No', '21', '4', '1', '80', '0', '1', '5', '4', '0', '0', '0', '0']\n",
      "['', '38', '36', 'No', 'Travel_Frequently', '1480', 'Research & Development', '3', 'Associates Degree', 'Medical', '1', '238', '4', 'Male', '30', '3', '1', 'Laboratory Technician', '2', 'Single', '2088', '15062', '4', 'Y', 'No', '12', '3', '3', '80', '0', '13', '3', '2', '8', '7', '7', '2']\n",
      "['', '73', '30', 'No', 'Non-Travel', '111', 'Research & Development', '9', \"Bachelor's Degree\", 'Medical', '1', '239', '3', 'Male', '66', '3', '2', 'Laboratory Technician', '1', 'Divorced', '3072', '11012', '1', 'Y', 'No', '11', '3', '3', '80', '2', '12', '4', '3', '12', '9', '6', '10']\n",
      "['', '65', '45', 'No', 'Travel_Rarely', '1268', 'Sales', '4', 'Associates Degree', 'Life Sciences', '1', '240', '3', 'Female', '30', '3', '2', 'Sales Executive', '1', 'Divorced', '5006', '6319', '4', 'Y', 'Yes', '11', '3', '1', '80', '1', '9', '3', '4', '5', '4', '0', '3']\n",
      "['', '117', '56', 'No', 'Travel_Rarely', '713', 'Research & Development', '8', \"Bachelor's Degree\", 'Life Sciences', '1', '241', '3', 'Female', '67', '3', '1', 'Research Scientist', '1', 'Divorced', '4257', '13939', '4', 'Y', 'Yes', '18', '3', '3', '80', '1', '19', '3', '3', '2', '2', '2', '2']\n",
      "['', '39', '33', 'No', 'Travel_Rarely', '134', 'Research & Development', '2', \"Bachelor's Degree\", 'Life Sciences', '1', '242', '3', 'Male', '90', '3', '1', 'Research Scientist', '4', 'Single', '2500', '10515', '0', 'Y', 'No', '14', '3', '1', '80', '0', '4', '2', '4', '3', '1', '0', '2']\n",
      "['4/17/2022 12:00:00 AM', '39', '19', 'Yes', 'Travel_Rarely', '303', 'Research & Development', '2', \"Bachelor's Degree\", 'Life Sciences', '1', '243', '2', 'Male', '47', '2', '1', 'Laboratory Technician', '4', 'Single', '1102', '9241', '1', 'Y', 'No', '22', '4', '3', '80', '0', '1', '3', '2', '1', '0', '1', '0']\n",
      "['', '22', '46', 'No', 'Travel_Rarely', '526', 'Sales', '1', 'Associates Degree', 'Marketing', '1', '244', '2', 'Female', '92', '3', '3', 'Sales Executive', '1', 'Divorced', '10453', '2137', '1', 'Y', 'No', '25', '4', '3', '80', '3', '24', '2', '3', '24', '13', '15', '7']\n",
      "['', '130', '38', 'No', 'Travel_Rarely', '1380', 'Research & Development', '9', 'Associates Degree', 'Life Sciences', '1', '245', '3', 'Female', '75', '3', '1', 'Laboratory Technician', '4', 'Single', '2288', '6319', '1', 'Y', 'No', '12', '3', '3', '80', '0', '2', '3', '3', '2', '2', '2', '1']\n",
      "['', '97', '31', 'No', 'Travel_Rarely', '140', 'Research & Development', '12', 'High School', 'Medical', '1', '246', '3', 'Female', '95', '3', '1', 'Research Scientist', '4', 'Married', '3929', '6984', '8', 'Y', 'Yes', '23', '4', '3', '80', '1', '7', '0', '3', '4', '2', '0', '2']\n",
      "['', '202', '34', 'No', 'Travel_Rarely', '629', 'Research & Development', '27', 'Associates Degree', 'Medical', '1', '247', '4', 'Female', '95', '3', '1', 'Research Scientist', '2', 'Single', '2311', '5711', '2', 'Y', 'No', '15', '3', '4', '80', '0', '9', '3', '3', '3', '2', '1', '2']\n",
      "['11/14/2021 12:00:00 AM', '193', '41', 'Yes', 'Travel_Rarely', '1356', 'Sales', '20', 'Associates Degree', 'Marketing', '1', '248', '2', 'Female', '70', '3', '1', 'Sales Representative', '2', 'Single', '3140', '21728', '1', 'Y', 'Yes', '22', '4', '4', '80', '0', '4', '5', '2', '4', '3', '0', '2']\n",
      "['', '20', '50', 'No', 'Travel_Rarely', '328', 'Research & Development', '1', \"Bachelor's Degree\", 'Medical', '1', '249', '3', 'Male', '86', '2', '1', 'Laboratory Technician', '3', 'Married', '3690', '3425', '2', 'Y', 'No', '15', '3', '4', '80', '1', '5', '2', '2', '3', '2', '0', '2']\n",
      "['', '104', '53', 'No', 'Travel_Rarely', '1084', 'Research & Development', '13', 'Associates Degree', 'Medical', '1', '250', '4', 'Female', '57', '4', '2', 'Manufacturing Director', '1', 'Divorced', '4450', '26250', '1', 'Y', 'No', '11', '3', '3', '80', '2', '5', '3', '3', '4', '2', '1', '3']\n",
      "['', '111', '33', 'No', 'Travel_Rarely', '931', 'Research & Development', '14', \"Bachelor's Degree\", 'Medical', '1', '252', '4', 'Female', '72', '3', '1', 'Research Scientist', '2', 'Married', '2756', '4673', '1', 'Y', 'No', '13', '3', '4', '80', '1', '8', '5', '3', '8', '7', '1', '6']\n",
      "['', '41', '40', 'No', 'Travel_Rarely', '989', 'Research & Development', '4', 'High School', 'Medical', '1', '253', '4', 'Female', '46', '3', '5', 'Manager', '3', 'Married', '19033', '6499', '1', 'Y', 'No', '14', '3', '2', '80', '1', '21', '2', '3', '20', '8', '9', '9']\n",
      "['', '111', '55', 'No', 'Travel_Rarely', '692', 'Research & Development', '14', \"Master's Degree\", 'Medical', '1', '254', '3', 'Male', '61', '4', '5', 'Research Director', '2', 'Single', '18722', '13339', '8', 'Y', 'No', '11', '3', '4', '80', '0', '36', '3', '3', '24', '15', '2', '15']\n",
      "['', '43', '34', 'No', 'Travel_Frequently', '1069', 'Research & Development', '2', 'High School', 'Life Sciences', '1', '256', '4', 'Male', '45', '2', '2', 'Manufacturing Director', '3', 'Married', '9547', '14074', '1', 'Y', 'No', '17', '3', '3', '80', '0', '10', '2', '2', '10', '9', '1', '9']\n",
      "['', '34', '51', 'No', 'Travel_Rarely', '313', 'Research & Development', '3', \"Bachelor's Degree\", 'Medical', '1', '258', '4', 'Female', '98', '3', '4', 'Healthcare Representative', '2', 'Single', '13734', '7192', '3', 'Y', 'No', '18', '3', '3', '80', '0', '21', '6', '3', '7', '7', '1', '0']\n",
      "['', '26', '52', 'No', 'Travel_Rarely', '699', 'Research & Development', '1', \"Master's Degree\", 'Life Sciences', '1', '259', '3', 'Male', '65', '2', '5', 'Manager', '3', 'Married', '19999', '5678', '0', 'Y', 'No', '14', '3', '1', '80', '1', '34', '5', '3', '33', '18', '11', '9']\n",
      "['', '76', '27', 'No', 'Travel_Rarely', '894', 'Research & Development', '9', \"Bachelor's Degree\", 'Medical', '1', '260', '4', 'Female', '99', '3', '1', 'Research Scientist', '2', 'Single', '2279', '11781', '1', 'Y', 'No', '16', '3', '4', '80', '0', '7', '2', '2', '7', '7', '0', '3']\n",
      "['7/18/2021 12:00:00 AM', '312', '35', 'Yes', 'Travel_Rarely', '556', 'Research & Development', '23', 'Associates Degree', 'Life Sciences', '1', '261', '2', 'Male', '50', '2', '2', 'Manufacturing Director', '3', 'Married', '5916', '15497', '3', 'Y', 'Yes', '13', '3', '1', '80', '0', '8', '1', '3', '1', '0', '0', '1']\n",
      "['', '59', '43', 'No', 'Non-Travel', '1344', 'Research & Development', '7', \"Bachelor's Degree\", 'Medical', '1', '262', '4', 'Male', '37', '4', '1', 'Research Scientist', '4', 'Divorced', '2089', '5228', '4', 'Y', 'No', '14', '3', '4', '80', '3', '7', '3', '4', '5', '4', '2', '2']\n",
      "['', '24', '45', 'No', 'Non-Travel', '1195', 'Research & Development', '2', 'Associates Degree', 'Medical', '1', '264', '1', 'Male', '65', '2', '4', 'Manager', '4', 'Married', '16792', '20462', '9', 'Y', 'No', '23', '4', '4', '80', '1', '22', '1', '3', '20', '8', '11', '8']\n",
      "['', '286', '37', 'No', 'Travel_Rarely', '290', 'Research & Development', '21', \"Bachelor's Degree\", 'Life Sciences', '1', '267', '2', 'Male', '65', '4', '1', 'Research Scientist', '1', 'Married', '3564', '22977', '1', 'Y', 'Yes', '12', '3', '1', '80', '1', '8', '3', '2', '8', '7', '1', '7']\n",
      "['', '31', '35', 'No', 'Travel_Frequently', '138', 'Research & Development', '2', \"Bachelor's Degree\", 'Medical', '1', '269', '2', 'Female', '37', '3', '2', 'Laboratory Technician', '2', 'Single', '4425', '15986', '5', 'Y', 'No', '11', '3', '4', '80', '0', '10', '5', '3', '6', '2', '1', '2']\n",
      "['', '157', '42', 'No', 'Non-Travel', '926', 'Research & Development', '21', 'Associates Degree', 'Medical', '1', '270', '3', 'Female', '36', '3', '2', 'Manufacturing Director', '3', 'Divorced', '5265', '16439', '2', 'Y', 'No', '16', '3', '2', '80', '1', '11', '5', '3', '5', '3', '0', '2']\n",
      "['', '39', '38', 'No', 'Travel_Rarely', '1261', 'Research & Development', '2', \"Master's Degree\", 'Life Sciences', '1', '271', '4', 'Male', '88', '3', '2', 'Manufacturing Director', '3', 'Married', '6553', '7259', '9', 'Y', 'No', '14', '3', '2', '80', '0', '14', '3', '3', '1', '0', '0', '0']\n",
      "['', '238.5', '38', 'No', 'Travel_Rarely', '1084', 'Research & Development', '29', \"Bachelor's Degree\", 'Technical Degree', '1', '273', '4', 'Male', '54', '3', '2', 'Manufacturing Director', '4', 'Married', '6261', '4185', '3', 'Y', 'No', '18', '3', '1', '80', '1', '9', '3', '1', '7', '7', '1', '7']\n",
      "['', '33', '27', 'No', 'Travel_Frequently', '472', 'Research & Development', '1', 'High School', 'Technical Degree', '1', '274', '3', 'Male', '60', '2', '2', 'Manufacturing Director', '1', 'Married', '4298', '9679', '5', 'Y', 'No', '19', '3', '3', '80', '1', '6', '1', '3', '2', '2', '2', '0']\n",
      "['', '244', '49', 'No', 'Non-Travel', '1002', 'Research & Development', '18', \"Master's Degree\", 'Life Sciences', '1', '275', '4', 'Male', '92', '3', '2', 'Manufacturing Director', '4', 'Divorced', '6804', '23793', '1', 'Y', 'Yes', '15', '3', '1', '80', '2', '7', '0', '3', '7', '7', '1', '7']\n",
      "['', '87', '34', 'No', 'Travel_Frequently', '878', 'Research & Development', '10', \"Master's Degree\", 'Medical', '1', '277', '4', 'Male', '43', '3', '1', 'Research Scientist', '3', 'Divorced', '3815', '5972', '1', 'Y', 'Yes', '17', '3', '4', '80', '1', '5', '4', '4', '5', '3', '2', '0']\n",
      "['', '146', '40', 'No', 'Travel_Rarely', '905', 'Research & Development', '19', 'Associates Degree', 'Medical', '1', '281', '3', 'Male', '99', '3', '2', 'Laboratory Technician', '4', 'Married', '2741', '16523', '8', 'Y', 'Yes', '15', '3', '3', '80', '1', '15', '2', '4', '7', '2', '3', '7']\n",
      "['10/22/2021 12:00:00 AM', '216', '38', 'Yes', 'Travel_Rarely', '1180', 'Research & Development', '29', 'High School', 'Medical', '1', '282', '2', 'Male', '70', '3', '2', 'Healthcare Representative', '1', 'Married', '6673', '11354', '7', 'Y', 'Yes', '19', '3', '2', '80', '0', '17', '2', '3', '1', '0', '0', '0']\n",
      "['9/12/2021 12:00:00 AM', '256', '29', 'Yes', 'Travel_Rarely', '121', 'Sales', '27', \"Bachelor's Degree\", 'Marketing', '1', '283', '2', 'Female', '35', '3', '3', 'Sales Executive', '4', 'Married', '7639', '24525', '1', 'Y', 'No', '22', '4', '4', '80', '3', '10', '3', '2', '10', '4', '1', '9']\n",
      "['', '78', '22', 'No', 'Travel_Rarely', '1136', 'Research & Development', '5', \"Bachelor's Degree\", 'Life Sciences', '1', '284', '4', 'Male', '60', '4', '1', 'Research Scientist', '2', 'Divorced', '2328', '12392', '1', 'Y', 'Yes', '16', '3', '1', '80', '1', '4', '2', '2', '4', '2', '2', '2']\n",
      "['', '143', '36', 'No', 'Travel_Frequently', '635', 'Research & Development', '18', 'High School', 'Medical', '1', '286', '2', 'Female', '73', '3', '1', 'Laboratory Technician', '4', 'Single', '2153', '7703', '1', 'Y', 'No', '13', '3', '1', '80', '0', '8', '2', '3', '8', '1', '1', '7']\n",
      "['', '127', '40', 'No', 'Non-Travel', '1151', 'Research & Development', '9', 'Doctoral Degree', 'Life Sciences', '1', '287', '4', 'Male', '63', '2', '2', 'Healthcare Representative', '4', 'Married', '4876', '14242', '9', 'Y', 'No', '14', '3', '4', '80', '1', '5', '5', '1', '3', '2', '0', '2']\n",
      "['', '20', '46', 'No', 'Travel_Rarely', '644', 'Research & Development', '1', \"Master's Degree\", 'Medical', '1', '288', '4', 'Male', '97', '3', '3', 'Healthcare Representative', '1', 'Divorced', '9396', '12368', '7', 'Y', 'No', '16', '3', '3', '80', '1', '17', '3', '3', '4', '2', '0', '3']\n",
      "['4/15/2022 12:00:00 AM', '41', '32', 'Yes', 'Travel_Rarely', '1045', 'Sales', '4', \"Master's Degree\", 'Medical', '1', '291', '4', 'Male', '32', '1', '3', 'Sales Executive', '4', 'Married', '10400', '25812', '1', 'Y', 'No', '11', '3', '3', '80', '0', '14', '2', '2', '14', '8', '9', '8']\n",
      "['', '23', '30', 'No', 'Non-Travel', '829', 'Research & Development', '1', 'High School', 'Life Sciences', '1', '292', '3', 'Male', '88', '2', '3', 'Manufacturing Director', '3', 'Single', '8474', '20925', '1', 'Y', 'No', '22', '4', '3', '80', '0', '12', '2', '3', '11', '8', '5', '8']\n",
      "['', '277', '27', 'No', 'Travel_Frequently', '1242', 'Sales', '20', \"Bachelor's Degree\", 'Life Sciences', '1', '293', '4', 'Female', '90', '3', '2', 'Sales Executive', '3', 'Single', '9981', '12916', '1', 'Y', 'No', '14', '3', '4', '80', '0', '7', '2', '3', '7', '7', '0', '7']\n",
      "['', '117', '51', 'No', 'Travel_Rarely', '1469', 'Research & Development', '8', \"Master's Degree\", 'Life Sciences', '1', '296', '2', 'Male', '81', '2', '3', 'Research Director', '2', 'Married', '12490', '15736', '5', 'Y', 'No', '16', '3', '4', '80', '2', '16', '5', '1', '10', '9', '4', '7']\n",
      "['3/26/2022 12:00:00 AM', '61', '30', 'Yes', 'Travel_Rarely', '1005', 'Research & Development', '3', \"Bachelor's Degree\", 'Technical Degree', '1', '297', '4', 'Female', '88', '3', '1', 'Research Scientist', '1', 'Single', '2657', '8556', '5', 'Y', 'Yes', '11', '3', '3', '80', '0', '8', '5', '3', '5', '2', '0', '4']\n",
      "['', '91', '41', 'No', 'Travel_Rarely', '896', 'Sales', '6', \"Bachelor's Degree\", 'Life Sciences', '1', '298', '4', 'Female', '75', '3', '3', 'Manager', '4', 'Single', '13591', '14674', '3', 'Y', 'Yes', '18', '3', '3', '80', '0', '16', '3', '3', '1', '0', '0', '0']\n",
      "['9/17/2021 12:00:00 AM', '251', '30', 'Yes', 'Travel_Frequently', '334', 'Sales', '26', \"Master's Degree\", 'Marketing', '1', '299', '3', 'Female', '52', '2', '2', 'Sales Executive', '1', 'Single', '6696', '22967', '5', 'Y', 'No', '15', '3', '3', '80', '0', '9', '5', '2', '6', '3', '0', '1']\n",
      "['4/27/2022 12:00:00 AM', '29', '29', 'Yes', 'Travel_Rarely', '992', 'Research & Development', '1', \"Bachelor's Degree\", 'Technical Degree', '1', '300', '3', 'Male', '85', '3', '1', 'Research Scientist', '3', 'Single', '2058', '19757', '0', 'Y', 'No', '14', '3', '4', '80', '0', '7', '1', '2', '6', '2', '1', '5']\n",
      "['', '52', '45', 'No', 'Non-Travel', '1052', 'Sales', '6', \"Bachelor's Degree\", 'Medical', '1', '302', '4', 'Female', '57', '2', '3', 'Sales Executive', '4', 'Single', '8865', '16840', '6', 'Y', 'No', '12', '3', '4', '80', '0', '23', '2', '3', '19', '7', '12', '8']\n",
      "['', '40', '54', 'No', 'Travel_Rarely', '1147', 'Sales', '3', \"Bachelor's Degree\", 'Marketing', '1', '303', '4', 'Female', '52', '3', '2', 'Sales Executive', '1', 'Married', '5940', '17011', '2', 'Y', 'No', '14', '3', '4', '80', '1', '16', '4', '3', '6', '2', '0', '5']\n",
      "['', '78', '36', 'No', 'Travel_Rarely', '1396', 'Research & Development', '5', 'Associates Degree', 'Life Sciences', '1', '304', '4', 'Male', '62', '3', '2', 'Laboratory Technician', '2', 'Single', '5914', '9945', '8', 'Y', 'No', '16', '3', '4', '80', '0', '16', '3', '4', '13', '11', '3', '7']\n",
      "['', '41', '33', 'No', 'Travel_Rarely', '147', 'Research & Development', '4', \"Master's Degree\", 'Medical', '1', '305', '3', 'Female', '47', '2', '1', 'Research Scientist', '2', 'Married', '2622', '13248', '6', 'Y', 'No', '21', '4', '4', '80', '0', '7', '3', '3', '3', '2', '1', '1']\n",
      "['', '72', '37', 'No', 'Travel_Frequently', '663', 'Research & Development', '11', \"Bachelor's Degree\", 'Other', '1', '306', '2', 'Male', '47', '3', '3', 'Research Director', '4', 'Divorced', '12185', '10056', '1', 'Y', 'Yes', '14', '3', '3', '80', '3', '10', '1', '3', '10', '8', '0', '7']\n",
      "['', '52', '38', 'No', 'Travel_Rarely', '119', 'Sales', '3', \"Bachelor's Degree\", 'Life Sciences', '1', '307', '1', 'Male', '76', '3', '3', 'Sales Executive', '3', 'Divorced', '10609', '9647', '0', 'Y', 'No', '12', '3', '3', '80', '2', '17', '6', '2', '16', '10', '5', '13']\n",
      "['', '17', '31', 'No', 'Non-Travel', '979', 'Research & Development', '1', \"Master's Degree\", 'Medical', '1', '308', '3', 'Male', '90', '1', '2', 'Manufacturing Director', '3', 'Married', '4345', '4381', '0', 'Y', 'No', '12', '3', '4', '80', '1', '6', '2', '3', '5', '4', '1', '4']\n",
      "['', '52', '59', 'No', 'Travel_Rarely', '142', 'Research & Development', '3', \"Bachelor's Degree\", 'Life Sciences', '1', '309', '3', 'Male', '70', '2', '1', 'Research Scientist', '4', 'Married', '2177', '8456', '3', 'Y', 'No', '17', '3', '1', '80', '1', '7', '6', '3', '1', '0', '0', '0']\n",
      "['', '53', '37', 'No', 'Travel_Frequently', '319', 'Sales', '4', \"Master's Degree\", 'Marketing', '1', '311', '1', 'Male', '41', '3', '1', 'Sales Representative', '4', 'Divorced', '2793', '2539', '4', 'Y', 'No', '17', '3', '3', '80', '1', '13', '2', '3', '9', '8', '5', '8']\n",
      "['', '24', '29', 'No', 'Travel_Frequently', '1413', 'Sales', '1', 'High School', 'Medical', '1', '312', '2', 'Female', '42', '3', '3', 'Sales Executive', '4', 'Married', '7918', '6599', '1', 'Y', 'No', '14', '3', '4', '80', '1', '11', '5', '3', '11', '10', '4', '1']\n",
      "['', '26', '35', 'No', 'Travel_Frequently', '944', 'Sales', '1', \"Bachelor's Degree\", 'Marketing', '1', '314', '3', 'Female', '92', '3', '3', 'Sales Executive', '3', 'Single', '8789', '9096', '1', 'Y', 'No', '14', '3', '1', '80', '0', '10', '3', '4', '10', '7', '0', '8']\n",
      "['1/7/2022 12:00:00 AM', '139', '29', 'Yes', 'Travel_Rarely', '896', 'Research & Development', '18', 'High School', 'Medical', '1', '315', '3', 'Male', '86', '2', '1', 'Research Scientist', '4', 'Single', '2389', '14961', '1', 'Y', 'Yes', '13', '3', '3', '80', '0', '4', '3', '2', '4', '3', '0', '1']\n",
      "['', '39', '52', 'No', 'Travel_Rarely', '1323', 'Research & Development', '2', \"Bachelor's Degree\", 'Life Sciences', '1', '316', '3', 'Female', '89', '2', '1', 'Laboratory Technician', '4', 'Single', '3212', '3300', '7', 'Y', 'No', '15', '3', '2', '80', '0', '6', '3', '2', '2', '2', '2', '2']\n",
      "['', '77', '42', 'No', 'Travel_Rarely', '532', 'Research & Development', '4', 'Associates Degree', 'Technical Degree', '1', '319', '3', 'Male', '58', '3', '5', 'Manager', '4', 'Married', '19232', '4933', '1', 'Y', 'No', '11', '3', '4', '80', '0', '22', '3', '3', '22', '17', '11', '15']\n",
      "['', '55', '59', 'No', 'Travel_Rarely', '818', 'Human Resources', '6', 'Associates Degree', 'Medical', '1', '321', '2', 'Male', '52', '3', '1', 'Human Resources', '3', 'Married', '2267', '25657', '8', 'Y', 'No', '17', '3', '4', '80', '0', '7', '2', '2', '2', '2', '2', '2']\n",
      "['', '20', '50', 'No', 'Travel_Rarely', '854', 'Sales', '1', \"Master's Degree\", 'Medical', '1', '323', '4', 'Female', '68', '3', '5', 'Manager', '4', 'Divorced', '19517', '24118', '3', 'Y', 'No', '11', '3', '3', '80', '1', '32', '3', '2', '7', '0', '0', '6']\n",
      "['2/4/2022 12:00:00 AM', '111', '33', 'Yes', 'Travel_Rarely', '813', 'Research & Development', '14', \"Bachelor's Degree\", 'Medical', '1', '325', '3', 'Male', '58', '3', '1', 'Laboratory Technician', '4', 'Married', '2436', '22149', '5', 'Y', 'Yes', '13', '3', '3', '80', '1', '8', '2', '1', '5', '4', '0', '4']\n",
      "['', '157', '43', 'No', 'Travel_Rarely', '1034', 'Sales', '16', \"Bachelor's Degree\", 'Marketing', '1', '327', '4', 'Female', '80', '3', '4', 'Manager', '4', 'Married', '16064', '7744', '5', 'Y', 'Yes', '22', '4', '3', '80', '1', '22', '3', '3', '17', '13', '1', '9']\n",
      "['4/17/2022 12:00:00 AM', '39', '33', 'Yes', 'Travel_Rarely', '465', 'Research & Development', '2', 'Associates Degree', 'Life Sciences', '1', '328', '1', 'Female', '39', '3', '1', 'Laboratory Technician', '1', 'Married', '2707', '21509', '7', 'Y', 'No', '20', '4', '1', '80', '0', '13', '3', '4', '9', '7', '1', '7']\n",
      "['', '36', '52', 'No', 'Non-Travel', '771', 'Sales', '2', \"Master's Degree\", 'Life Sciences', '1', '329', '1', 'Male', '79', '2', '5', 'Manager', '3', 'Single', '19068', '21030', '1', 'Y', 'Yes', '18', '3', '4', '80', '0', '33', '2', '4', '33', '7', '15', '12']\n",
      "['', '65', '32', 'No', 'Travel_Rarely', '1401', 'Sales', '4', 'Associates Degree', 'Life Sciences', '1', '330', '3', 'Female', '56', '3', '1', 'Sales Representative', '2', 'Married', '3931', '20990', '2', 'Y', 'No', '11', '3', '1', '80', '1', '6', '5', '3', '4', '3', '1', '2']\n",
      "['4/30/2022 12:00:00 AM', '26', '32', 'Yes', 'Travel_Rarely', '515', 'Research & Development', '1', \"Bachelor's Degree\", 'Life Sciences', '1', '331', '4', 'Male', '62', '2', '1', 'Laboratory Technician', '3', 'Single', '3730', '9571', '0', 'Y', 'Yes', '14', '3', '4', '80', '0', '4', '2', '1', '3', '2', '1', '2']\n",
      "['', '20', '39', 'No', 'Travel_Rarely', '1431', 'Research & Development', '1', \"Master's Degree\", 'Medical', '1', '332', '3', 'Female', '96', '3', '1', 'Laboratory Technician', '3', 'Divorced', '2232', '15417', '7', 'Y', 'No', '14', '3', '3', '80', '3', '7', '1', '3', '3', '2', '1', '2']\n",
      "['', '244', '32', 'No', 'Non-Travel', '976', 'Sales', '26', \"Master's Degree\", 'Marketing', '1', '333', '3', 'Male', '100', '3', '2', 'Sales Executive', '4', 'Married', '4465', '12069', '0', 'Y', 'No', '18', '3', '1', '80', '0', '4', '2', '3', '3', '2', '2', '2']\n",
      "['', '260', '41', 'No', 'Travel_Rarely', '1411', 'Research & Development', '19', 'Associates Degree', 'Life Sciences', '1', '334', '3', 'Male', '36', '3', '2', 'Research Scientist', '1', 'Divorced', '3072', '19877', '2', 'Y', 'No', '16', '3', '1', '80', '2', '17', '2', '2', '1', '0', '0', '0']\n",
      "['', '198.5', '40', 'No', 'Travel_Rarely', '1300', 'Research & Development', '24', 'Associates Degree', 'Technical Degree', '1', '335', '1', 'Male', '62', '3', '2', 'Research Scientist', '4', 'Divorced', '3319', '24447', '1', 'Y', 'No', '17', '3', '1', '80', '2', '9', '3', '3', '9', '8', '4', '7']\n",
      "['', '18', '45', 'No', 'Travel_Rarely', '252', 'Research & Development', '1', \"Bachelor's Degree\", 'Other', '1', '336', '3', 'Male', '70', '4', '5', 'Manager', '4', 'Married', '19202', '15970', '0', 'Y', 'No', '11', '3', '3', '80', '1', '25', '2', '3', '24', '0', '1', '7']\n",
      "['', '38', '31', 'No', 'Travel_Frequently', '1327', 'Research & Development', '3', \"Master's Degree\", 'Medical', '1', '337', '2', 'Male', '73', '3', '3', 'Research Director', '3', 'Divorced', '13675', '13523', '9', 'Y', 'No', '12', '3', '1', '80', '1', '9', '3', '3', '2', '2', '2', '2']\n",
      "['', '78', '33', 'No', 'Travel_Rarely', '832', 'Research & Development', '5', \"Master's Degree\", 'Life Sciences', '1', '338', '3', 'Female', '63', '2', '1', 'Research Scientist', '4', 'Married', '2911', '14776', '1', 'Y', 'No', '13', '3', '3', '80', '1', '2', '2', '2', '2', '2', '0', '2']\n",
      "['', '39', '34', 'No', 'Travel_Rarely', '470', 'Research & Development', '2', \"Master's Degree\", 'Life Sciences', '1', '339', '4', 'Male', '84', '2', '2', 'Manufacturing Director', '1', 'Married', '5957', '23687', '6', 'Y', 'No', '13', '3', '2', '80', '1', '13', '3', '3', '11', '9', '5', '9']\n",
      "['', '20', '37', 'No', 'Travel_Rarely', '1017', 'Research & Development', '1', 'Associates Degree', 'Medical', '1', '340', '3', 'Female', '83', '2', '1', 'Research Scientist', '1', 'Married', '3920', '18697', '2', 'Y', 'No', '14', '3', '1', '80', '1', '17', '2', '2', '3', '1', '0', '2']\n",
      "['', '108', '45', 'No', 'Travel_Frequently', '1199', 'Research & Development', '7', \"Master's Degree\", 'Life Sciences', '1', '341', '1', 'Male', '77', '4', '2', 'Manufacturing Director', '3', 'Married', '6434', '5118', '4', 'Y', 'No', '17', '3', '4', '80', '1', '9', '1', '3', '3', '2', '0', '2']\n",
      "['2/28/2022 12:00:00 AM', '87', '37', 'Yes', 'Travel_Frequently', '504', 'Research & Development', '10', \"Bachelor's Degree\", 'Medical', '1', '342', '1', 'Male', '61', '3', '3', 'Manufacturing Director', '3', 'Divorced', '10048', '22573', '6', 'Y', 'No', '11', '3', '2', '80', '2', '17', '5', '3', '1', '0', '0', '0']\n",
      "['', '49', '39', 'No', 'Travel_Frequently', '505', 'Research & Development', '2', \"Master's Degree\", 'Technical Degree', '1', '343', '3', 'Female', '64', '3', '3', 'Healthcare Representative', '3', 'Single', '10938', '6420', '0', 'Y', 'No', '25', '4', '4', '80', '0', '20', '1', '3', '19', '6', '11', '8']\n",
      "['', '208', '29', 'No', 'Travel_Rarely', '665', 'Research & Development', '15', \"Bachelor's Degree\", 'Life Sciences', '1', '346', '3', 'Male', '60', '3', '1', 'Research Scientist', '4', 'Single', '2340', '22673', '1', 'Y', 'No', '19', '3', '1', '80', '0', '6', '1', '3', '6', '5', '1', '5']\n",
      "['', '234', '42', 'No', 'Travel_Rarely', '916', 'Research & Development', '17', 'Associates Degree', 'Life Sciences', '1', '347', '4', 'Female', '82', '4', '2', 'Research Scientist', '1', 'Single', '6545', '23016', '3', 'Y', 'Yes', '13', '3', '3', '80', '0', '10', '1', '3', '3', '2', '0', '2']\n",
      "['', '193', '29', 'No', 'Travel_Rarely', '1247', 'Sales', '20', 'Associates Degree', 'Marketing', '1', '349', '4', 'Male', '45', '3', '2', 'Sales Executive', '4', 'Divorced', '6931', '10732', '2', 'Y', 'No', '14', '3', '4', '80', '1', '10', '2', '3', '3', '2', '0', '2']\n",
      "['', '26', '25', 'No', 'Travel_Rarely', '685', 'Research & Development', '1', \"Bachelor's Degree\", 'Life Sciences', '1', '350', '1', 'Female', '62', '3', '2', 'Manufacturing Director', '3', 'Married', '4898', '7505', '0', 'Y', 'No', '12', '3', '4', '80', '2', '5', '3', '3', '4', '2', '1', '2']\n",
      "['', '27', '42', 'No', 'Travel_Rarely', '269', 'Research & Development', '2', \"Bachelor's Degree\", 'Medical', '1', '351', '4', 'Female', '56', '2', '1', 'Laboratory Technician', '1', 'Divorced', '2593', '8007', '0', 'Y', 'Yes', '11', '3', '3', '80', '1', '10', '4', '3', '9', '6', '7', '8']\n",
      "['', '27', '40', 'No', 'Travel_Rarely', '1416', 'Research & Development', '2', 'Associates Degree', 'Medical', '1', '352', '1', 'Male', '49', '3', '5', 'Research Director', '3', 'Divorced', '19436', '5949', '0', 'Y', 'No', '19', '3', '4', '80', '1', '22', '5', '3', '21', '7', '3', '9']\n",
      "['', '26', '51', 'No', 'Travel_Rarely', '833', 'Research & Development', '1', \"Bachelor's Degree\", 'Life Sciences', '1', '353', '3', 'Male', '96', '3', '1', 'Research Scientist', '4', 'Married', '2723', '23231', '1', 'Y', 'No', '11', '3', '2', '80', '0', '1', '0', '2', '1', '0', '0', '0']\n",
      "['10/18/2021 12:00:00 AM', '220', '31', 'Yes', 'Travel_Frequently', '307', 'Research & Development', '29', 'Associates Degree', 'Medical', '1', '355', '3', 'Male', '71', '2', '1', 'Laboratory Technician', '2', 'Single', '3479', '11652', '0', 'Y', 'No', '11', '3', '2', '80', '0', '6', '2', '4', '5', '4', '1', '4']\n",
      "['', '108', '32', 'No', 'Travel_Frequently', '1311', 'Research & Development', '7', \"Bachelor's Degree\", 'Life Sciences', '1', '359', '2', 'Male', '100', '4', '1', 'Laboratory Technician', '2', 'Married', '2794', '26062', '1', 'Y', 'No', '20', '4', '3', '80', '0', '5', '3', '1', '5', '1', '0', '3']\n",
      "['', '36', '38', 'No', 'Non-Travel', '1327', 'Sales', '2', 'Associates Degree', 'Life Sciences', '1', '361', '4', 'Male', '39', '2', '2', 'Sales Executive', '4', 'Married', '5249', '19682', '3', 'Y', 'No', '18', '3', '4', '80', '1', '13', '0', '3', '8', '7', '7', '5']\n",
      "['', '45', '32', 'No', 'Travel_Rarely', '128', 'Research & Development', '2', 'High School', 'Technical Degree', '1', '362', '4', 'Male', '84', '2', '2', 'Laboratory Technician', '1', 'Single', '2176', '19737', '4', 'Y', 'No', '13', '3', '4', '80', '0', '9', '5', '3', '6', '2', '0', '4']\n",
      "['', '45', '46', 'No', 'Travel_Rarely', '488', 'Sales', '2', \"Bachelor's Degree\", 'Technical Degree', '1', '363', '3', 'Female', '75', '1', '4', 'Manager', '2', 'Married', '16872', '14977', '3', 'Y', 'Yes', '12', '3', '2', '80', '1', '28', '2', '2', '7', '7', '7', '7']\n",
      "['4/17/2022 12:00:00 AM', '39', '28', 'Yes', 'Travel_Rarely', '529', 'Research & Development', '2', \"Master's Degree\", 'Life Sciences', '1', '364', '1', 'Male', '79', '3', '1', 'Laboratory Technician', '3', 'Single', '3485', '14935', '2', 'Y', 'No', '11', '3', '3', '80', '0', '5', '5', '1', '0', '0', '0', '0']\n",
      "['', '27', '29', 'No', 'Travel_Rarely', '1210', 'Sales', '2', \"Bachelor's Degree\", 'Medical', '1', '366', '1', 'Male', '78', '2', '2', 'Sales Executive', '2', 'Married', '6644', '3687', '2', 'Y', 'No', '19', '3', '2', '80', '2', '10', '2', '3', '0', '0', '0', '0']\n",
      "['', '174', '31', 'No', 'Travel_Rarely', '1463', 'Research & Development', '23', \"Bachelor's Degree\", 'Medical', '1', '367', '2', 'Male', '64', '2', '2', 'Healthcare Representative', '4', 'Married', '5582', '14408', '0', 'Y', 'No', '21', '4', '2', '80', '1', '10', '2', '3', '9', '0', '7', '8']\n",
      "['', '75', '25', 'No', 'Non-Travel', '675', 'Research & Development', '5', 'Associates Degree', 'Life Sciences', '1', '369', '2', 'Male', '85', '4', '2', 'Healthcare Representative', '1', 'Divorced', '4000', '18384', '1', 'Y', 'No', '12', '3', '4', '80', '2', '6', '2', '3', '6', '3', '1', '5']\n",
      "['', '153', '45', 'No', 'Travel_Rarely', '1385', 'Research & Development', '20', 'Associates Degree', 'Medical', '1', '372', '3', 'Male', '79', '3', '4', 'Healthcare Representative', '4', 'Married', '13496', '7501', '0', 'Y', 'Yes', '14', '3', '2', '80', '0', '21', '2', '3', '20', '7', '4', '10']\n",
      "['', '91', '36', 'No', 'Travel_Rarely', '1403', 'Research & Development', '6', \"Bachelor's Degree\", 'Life Sciences', '1', '373', '4', 'Male', '47', '3', '1', 'Laboratory Technician', '4', 'Married', '3210', '20251', '0', 'Y', 'No', '11', '3', '3', '80', '1', '16', '4', '3', '15', '13', '10', '11']\n",
      "['', '20', '55', 'No', 'Travel_Rarely', '452', 'Research & Development', '1', \"Bachelor's Degree\", 'Medical', '1', '374', '4', 'Male', '81', '3', '5', 'Manager', '1', 'Single', '19045', '18938', '0', 'Y', 'Yes', '14', '3', '3', '80', '0', '37', '2', '3', '36', '10', '4', '13']\n",
      "['11/14/2021 12:00:00 AM', '193.5', '47', 'Yes', 'Non-Travel', '666', 'Research & Development', '29', \"Master's Degree\", 'Life Sciences', '1', '376', '1', 'Male', '88', '3', '3', 'Manager', '2', 'Married', '11849', '10268', '1', 'Y', 'Yes', '12', '3', '4', '80', '1', '10', '2', '2', '10', '7', '9', '9']\n",
      "['', '76', '28', 'No', 'Travel_Rarely', '1158', 'Research & Development', '9', \"Bachelor's Degree\", 'Medical', '1', '377', '4', 'Male', '94', '3', '1', 'Research Scientist', '4', 'Married', '2070', '2613', '1', 'Y', 'No', '23', '4', '4', '80', '1', '5', '3', '2', '5', '2', '0', '4']\n",
      "['', '55', '37', 'No', 'Travel_Rarely', '228', 'Sales', '6', \"Master's Degree\", 'Medical', '1', '378', '3', 'Male', '98', '3', '2', 'Sales Executive', '4', 'Married', '6502', '22825', '4', 'Y', 'No', '14', '3', '2', '80', '1', '7', '5', '4', '5', '4', '0', '1']\n",
      "['', '34', '21', 'No', 'Travel_Rarely', '996', 'Research & Development', '3', 'Associates Degree', 'Medical', '1', '379', '4', 'Male', '100', '2', '1', 'Research Scientist', '3', 'Single', '3230', '10531', '1', 'Y', 'No', '17', '3', '1', '80', '0', '3', '4', '4', '3', '2', '1', '0']\n",
      "['', '17', '37', 'No', 'Non-Travel', '728', 'Research & Development', '1', \"Master's Degree\", 'Medical', '1', '380', '1', 'Female', '80', '3', '3', 'Research Director', '4', 'Divorced', '13603', '11677', '2', 'Y', 'Yes', '18', '3', '1', '80', '2', '15', '2', '3', '5', '2', '0', '2']\n",
      "['', '299', '35', 'No', 'Travel_Rarely', '1315', 'Research & Development', '22', \"Bachelor's Degree\", 'Life Sciences', '1', '381', '2', 'Female', '71', '4', '3', 'Manager', '2', 'Divorced', '11996', '19100', '7', 'Y', 'No', '18', '3', '2', '80', '1', '10', '6', '2', '7', '7', '6', '2']\n",
      "['', '62', '38', 'No', 'Travel_Rarely', '322', 'Sales', '7', 'Associates Degree', 'Medical', '1', '382', '1', 'Female', '44', '4', '2', 'Sales Executive', '1', 'Divorced', '5605', '19191', '1', 'Y', 'Yes', '24', '4', '3', '80', '1', '8', '3', '3', '8', '0', '7', '7']\n",
      "['', '30', '26', 'No', 'Travel_Frequently', '1479', 'Research & Development', '1', \"Bachelor's Degree\", 'Life Sciences', '1', '384', '3', 'Female', '84', '3', '2', 'Manufacturing Director', '2', 'Divorced', '6397', '26767', '1', 'Y', 'No', '20', '4', '1', '80', '1', '6', '6', '1', '6', '5', '1', '4']\n",
      "['', '65', '50', 'No', 'Travel_Rarely', '797', 'Research & Development', '4', 'High School', 'Life Sciences', '1', '385', '1', 'Male', '96', '3', '5', 'Research Director', '2', 'Divorced', '19144', '15815', '3', 'Y', 'No', '14', '3', '1', '80', '2', '28', '4', '2', '10', '4', '1', '6']\n",
      "['', '34', '53', 'No', 'Travel_Rarely', '1070', 'Research & Development', '3', \"Master's Degree\", 'Medical', '1', '386', '3', 'Male', '45', '3', '4', 'Research Director', '3', 'Married', '17584', '21016', '3', 'Y', 'Yes', '16', '3', '4', '80', '3', '21', '5', '2', '5', '3', '1', '3']\n",
      "['', '26', '42', 'No', 'Travel_Rarely', '635', 'Sales', '1', 'High School', 'Life Sciences', '1', '387', '2', 'Male', '99', '3', '2', 'Sales Executive', '3', 'Married', '4907', '24532', '1', 'Y', 'No', '25', '4', '3', '80', '0', '20', '3', '3', '20', '16', '11', '6']\n",
      "['', '43', '29', 'No', 'Travel_Frequently', '442', 'Sales', '2', 'Associates Degree', 'Life Sciences', '1', '388', '2', 'Male', '44', '3', '2', 'Sales Executive', '4', 'Single', '4554', '20260', '1', 'Y', 'No', '18', '3', '1', '80', '0', '10', '3', '2', '10', '7', '0', '9']\n",
      "['', '333', '55', 'No', 'Travel_Rarely', '147', 'Research & Development', '20', 'Associates Degree', 'Technical Degree', '1', '389', '2', 'Male', '37', '3', '2', 'Laboratory Technician', '4', 'Married', '5415', '15972', '3', 'Y', 'Yes', '19', '3', '4', '80', '1', '12', '4', '3', '10', '7', '0', '8']\n",
      "['', '94', '26', 'No', 'Travel_Frequently', '496', 'Research & Development', '11', 'Associates Degree', 'Medical', '1', '390', '1', 'Male', '60', '3', '2', 'Healthcare Representative', '1', 'Married', '4741', '22722', '1', 'Y', 'Yes', '13', '3', '3', '80', '1', '5', '3', '3', '5', '3', '3', '3']\n",
      "['', '26', '37', 'No', 'Travel_Rarely', '1372', 'Research & Development', '1', \"Bachelor's Degree\", 'Life Sciences', '1', '391', '4', 'Female', '42', '3', '1', 'Research Scientist', '4', 'Single', '2115', '15881', '1', 'Y', 'No', '12', '3', '2', '80', '0', '17', '3', '3', '17', '12', '5', '7']\n",
      "['7/1/2021 12:00:00 AM', '329', '44', 'Yes', 'Travel_Frequently', '920', 'Research & Development', '24', \"Bachelor's Degree\", 'Life Sciences', '1', '392', '4', 'Male', '43', '3', '1', 'Laboratory Technician', '3', 'Divorced', '3161', '19920', '3', 'Y', 'Yes', '22', '4', '4', '80', '1', '19', '0', '1', '1', '0', '0', '0']\n",
      "['', '312', '38', 'No', 'Travel_Rarely', '688', 'Research & Development', '23', \"Master's Degree\", 'Life Sciences', '1', '393', '4', 'Male', '82', '3', '2', 'Healthcare Representative', '4', 'Divorced', '5745', '18899', '9', 'Y', 'No', '14', '3', '2', '80', '1', '10', '2', '3', '2', '2', '1', '2']\n",
      "['1/21/2022 12:00:00 AM', '125', '26', 'Yes', 'Travel_Rarely', '1449', 'Research & Development', '16', \"Master's Degree\", 'Medical', '1', '394', '1', 'Male', '45', '3', '1', 'Laboratory Technician', '2', 'Divorced', '2373', '14180', '2', 'Y', 'Yes', '13', '3', '4', '80', '1', '5', '2', '3', '3', '2', '0', '2']\n",
      "['', '117', '28', 'No', 'Travel_Rarely', '1117', 'Research & Development', '8', 'Associates Degree', 'Life Sciences', '1', '395', '4', 'Female', '66', '3', '1', 'Research Scientist', '4', 'Single', '3310', '4488', '1', 'Y', 'No', '21', '4', '4', '80', '0', '5', '3', '3', '5', '3', '0', '2']\n",
      "['', '147', '49', 'No', 'Travel_Frequently', '636', 'Research & Development', '10', \"Master's Degree\", 'Life Sciences', '1', '396', '3', 'Female', '35', '3', '5', 'Research Director', '1', 'Single', '18665', '25594', '9', 'Y', 'Yes', '11', '3', '4', '80', '0', '22', '4', '3', '3', '2', '1', '2']\n",
      "['', '61', '36', 'No', 'Travel_Rarely', '506', 'Research & Development', '3', \"Bachelor's Degree\", 'Technical Degree', '1', '397', '3', 'Male', '30', '3', '2', 'Research Scientist', '2', 'Single', '4485', '26285', '4', 'Y', 'No', '12', '3', '4', '80', '0', '10', '2', '3', '8', '0', '7', '7']\n",
      "['', '62', '31', 'No', 'Travel_Frequently', '444', 'Sales', '5', \"Bachelor's Degree\", 'Marketing', '1', '399', '4', 'Female', '84', '3', '1', 'Sales Representative', '2', 'Divorced', '2789', '3909', '1', 'Y', 'No', '11', '3', '3', '80', '1', '2', '5', '2', '2', '2', '2', '2']\n",
      "['4/7/2022 12:00:00 AM', '49', '26', 'Yes', 'Travel_Rarely', '950', 'Sales', '4', \"Master's Degree\", 'Marketing', '1', '401', '4', 'Male', '48', '2', '2', 'Sales Executive', '4', 'Single', '5828', '8450', '1', 'Y', 'Yes', '12', '3', '2', '80', '0', '8', '0', '3', '8', '7', '7', '4']\n",
      "['', '80', '37', 'No', 'Travel_Frequently', '889', 'Research & Development', '9', \"Bachelor's Degree\", 'Medical', '1', '403', '2', 'Male', '53', '3', '1', 'Research Scientist', '4', 'Married', '2326', '11411', '1', 'Y', 'Yes', '12', '3', '3', '80', '3', '4', '3', '2', '4', '2', '1', '2']\n",
      "['', '251', '42', 'No', 'Travel_Frequently', '555', 'Sales', '26', \"Bachelor's Degree\", 'Marketing', '1', '404', '3', 'Female', '77', '3', '4', 'Sales Executive', '2', 'Married', '13525', '14864', '5', 'Y', 'No', '14', '3', '4', '80', '1', '23', '2', '4', '20', '4', '4', '8']\n",
      "['4/4/2022 12:00:00 AM', '52', '18', 'Yes', 'Travel_Rarely', '230', 'Research & Development', '3', \"Bachelor's Degree\", 'Life Sciences', '1', '405', '3', 'Male', '54', '3', '1', 'Laboratory Technician', '3', 'Single', '1420', '25233', '1', 'Y', 'No', '13', '3', '3', '80', '0', '0', '2', '3', '0', '0', '0', '0']\n",
      "['', '157', '35', 'No', 'Travel_Rarely', '1232', 'Sales', '16', \"Bachelor's Degree\", 'Marketing', '1', '406', '3', 'Male', '96', '3', '3', 'Sales Executive', '2', 'Married', '8020', '5100', '0', 'Y', 'No', '15', '3', '3', '80', '2', '12', '3', '2', '11', '9', '6', '9']\n",
      "['', '251', '36', 'No', 'Travel_Frequently', '566', 'Research & Development', '18', \"Master's Degree\", 'Life Sciences', '1', '407', '3', 'Male', '81', '4', '1', 'Laboratory Technician', '4', 'Married', '3688', '7122', '4', 'Y', 'No', '18', '3', '4', '80', '2', '4', '2', '3', '1', '0', '0', '0']\n",
      "['', '27', '51', 'No', 'Travel_Rarely', '1302', 'Research & Development', '2', \"Bachelor's Degree\", 'Medical', '1', '408', '4', 'Male', '84', '1', '2', 'Manufacturing Director', '2', 'Divorced', '5482', '16321', '5', 'Y', 'No', '18', '3', '4', '80', '1', '13', '3', '3', '4', '1', '1', '2']\n",
      "['', '39', '41', 'No', 'Travel_Rarely', '334', 'Sales', '2', \"Master's Degree\", 'Life Sciences', '1', '410', '4', 'Male', '88', '3', '4', 'Manager', '2', 'Single', '16015', '15896', '1', 'Y', 'No', '19', '3', '2', '80', '0', '22', '2', '3', '22', '10', '0', '4']\n",
      "['', '83', '18', 'No', 'Travel_Rarely', '812', 'Sales', '10', \"Bachelor's Degree\", 'Medical', '1', '411', '4', 'Female', '69', '2', '1', 'Sales Representative', '3', 'Single', '1200', '9724', '1', 'Y', 'No', '12', '3', '1', '80', '0', '0', '2', '3', '0', '0', '0', '0']\n",
      "['', '125', '28', 'No', 'Travel_Rarely', '1476', 'Research & Development', '16', 'Associates Degree', 'Medical', '1', '412', '2', 'Male', '68', '4', '2', 'Healthcare Representative', '1', 'Single', '5661', '4824', '0', 'Y', 'No', '19', '3', '3', '80', '0', '9', '2', '3', '8', '3', '0', '7']\n",
      "['', '125', '31', 'No', 'Travel_Rarely', '218', 'Sales', '7', \"Bachelor's Degree\", 'Technical Degree', '1', '416', '2', 'Male', '100', '4', '2', 'Sales Executive', '4', 'Married', '6929', '12241', '4', 'Y', 'No', '11', '3', '2', '80', '1', '10', '3', '2', '8', '7', '7', '7']\n",
      "['', '20', '39', 'No', 'Travel_Rarely', '1132', 'Research & Development', '1', \"Bachelor's Degree\", 'Medical', '1', '417', '3', 'Male', '48', '4', '3', 'Healthcare Representative', '4', 'Divorced', '9613', '10942', '0', 'Y', 'No', '17', '3', '1', '80', '3', '19', '5', '2', '18', '10', '3', '7']\n",
      "['', '322', '36', 'No', 'Non-Travel', '1105', 'Research & Development', '24', \"Master's Degree\", 'Life Sciences', '1', '419', '2', 'Female', '47', '3', '2', 'Laboratory Technician', '2', 'Married', '5674', '6927', '7', 'Y', 'No', '15', '3', '3', '80', '1', '11', '3', '3', '9', '8', '0', '8']\n",
      "['', '104', '32', 'No', 'Travel_Rarely', '906', 'Sales', '7', \"Bachelor's Degree\", 'Life Sciences', '1', '420', '4', 'Male', '91', '2', '2', 'Sales Executive', '3', 'Married', '5484', '16985', '1', 'Y', 'No', '14', '3', '3', '80', '1', '13', '3', '2', '13', '8', '4', '8']\n",
      "['', '338', '38', 'No', 'Travel_Rarely', '849', 'Research & Development', '25', 'Associates Degree', 'Life Sciences', '1', '421', '1', 'Female', '81', '2', '3', 'Research Director', '2', 'Married', '12061', '26707', '3', 'Y', 'No', '17', '3', '3', '80', '1', '19', '2', '3', '10', '8', '0', '1']\n",
      "['', '23', '58', 'No', 'Non-Travel', '390', 'Research & Development', '1', \"Master's Degree\", 'Life Sciences', '1', '422', '4', 'Male', '32', '1', '2', 'Healthcare Representative', '3', 'Divorced', '5660', '17056', '2', 'Y', 'Yes', '13', '3', '4', '80', '1', '12', '2', '3', '5', '3', '1', '2']\n",
      "['', '93', '31', 'No', 'Travel_Rarely', '691', 'Research & Development', '5', \"Master's Degree\", 'Technical Degree', '1', '423', '3', 'Male', '86', '3', '1', 'Research Scientist', '4', 'Married', '4821', '10077', '0', 'Y', 'Yes', '12', '3', '3', '80', '1', '6', '4', '3', '5', '2', '0', '3']\n",
      "['', '43', '31', 'No', 'Travel_Rarely', '106', 'Human Resources', '2', \"Bachelor's Degree\", 'Human Resources', '1', '424', '1', 'Male', '62', '2', '2', 'Human Resources', '1', 'Married', '6410', '17822', '3', 'Y', 'No', '12', '3', '4', '80', '0', '9', '1', '3', '2', '2', '1', '0']\n",
      "['', '108', '45', 'No', 'Travel_Frequently', '1249', 'Research & Development', '7', \"Bachelor's Degree\", 'Life Sciences', '1', '425', '1', 'Male', '97', '3', '3', 'Laboratory Technician', '1', 'Divorced', '5210', '20308', '1', 'Y', 'No', '18', '3', '1', '80', '1', '24', '2', '3', '24', '9', '9', '11']\n",
      "['', '39', '31', 'No', 'Travel_Rarely', '192', 'Research & Development', '2', \"Master's Degree\", 'Life Sciences', '1', '426', '3', 'Male', '32', '3', '1', 'Research Scientist', '4', 'Divorced', '2695', '7747', '0', 'Y', 'Yes', '18', '3', '2', '80', '1', '3', '2', '1', '2', '2', '2', '2']\n",
      "['', '82', '33', 'No', 'Travel_Frequently', '553', 'Research & Development', '5', \"Master's Degree\", 'Life Sciences', '1', '428', '4', 'Female', '74', '3', '3', 'Manager', '2', 'Married', '11878', '23364', '6', 'Y', 'No', '11', '3', '2', '80', '2', '12', '2', '3', '10', '6', '8', '8']\n",
      "['', '83', '39', 'No', 'Travel_Rarely', '117', 'Research & Development', '10', 'High School', 'Medical', '1', '429', '3', 'Male', '99', '3', '4', 'Manager', '1', 'Married', '17068', '5355', '1', 'Y', 'Yes', '14', '3', '4', '80', '0', '21', '3', '3', '21', '9', '11', '10']\n",
      "['', '147', '43', 'No', 'Travel_Frequently', '185', 'Research & Development', '10', \"Master's Degree\", 'Life Sciences', '1', '430', '3', 'Female', '33', '3', '1', 'Laboratory Technician', '4', 'Single', '2455', '10675', '0', 'Y', 'No', '19', '3', '1', '80', '0', '9', '5', '3', '8', '7', '1', '7']\n",
      "['', '29', '49', 'No', 'Travel_Rarely', '1091', 'Research & Development', '1', 'Associates Degree', 'Technical Degree', '1', '431', '3', 'Female', '90', '2', '4', 'Healthcare Representative', '3', 'Single', '13964', '17810', '7', 'Y', 'Yes', '12', '3', '4', '80', '0', '25', '2', '3', '7', '1', '0', '7']\n",
      "['3/18/2022 12:00:00 AM', '69', '52', 'Yes', 'Travel_Rarely', '723', 'Research & Development', '8', \"Master's Degree\", 'Medical', '1', '433', '3', 'Male', '85', '2', '2', 'Research Scientist', '2', 'Married', '4941', '17747', '2', 'Y', 'No', '15', '3', '1', '80', '0', '11', '3', '2', '8', '2', '7', '7']\n",
      "['', '78', '27', 'No', 'Travel_Rarely', '1220', 'Research & Development', '5', \"Bachelor's Degree\", 'Life Sciences', '1', '434', '3', 'Female', '85', '3', '1', 'Research Scientist', '2', 'Single', '2478', '20938', '1', 'Y', 'Yes', '12', '3', '2', '80', '0', '4', '2', '2', '4', '3', '1', '2']\n",
      "['', '141', '32', 'No', 'Travel_Rarely', '588', 'Sales', '8', 'Associates Degree', 'Technical Degree', '1', '436', '3', 'Female', '65', '2', '2', 'Sales Executive', '2', 'Married', '5228', '24624', '1', 'Y', 'Yes', '11', '3', '4', '80', '0', '13', '2', '3', '13', '12', '11', '9']\n",
      "['', '39', '27', 'No', 'Travel_Rarely', '1377', 'Sales', '2', \"Bachelor's Degree\", 'Life Sciences', '1', '437', '4', 'Male', '74', '3', '2', 'Sales Executive', '3', 'Single', '4478', '5242', '1', 'Y', 'Yes', '11', '3', '1', '80', '0', '5', '3', '3', '5', '4', '0', '4']\n",
      "['', '76', '31', 'No', 'Travel_Rarely', '691', 'Sales', '7', \"Bachelor's Degree\", 'Marketing', '1', '438', '4', 'Male', '73', '3', '2', 'Sales Executive', '4', 'Divorced', '7547', '7143', '4', 'Y', 'No', '12', '3', '4', '80', '3', '13', '3', '3', '7', '7', '1', '7']\n",
      "['', '27', '32', 'No', 'Travel_Rarely', '1018', 'Research & Development', '2', \"Master's Degree\", 'Medical', '1', '439', '1', 'Female', '74', '4', '2', 'Research Scientist', '4', 'Single', '5055', '10557', '7', 'Y', 'No', '16', '3', '3', '80', '0', '10', '0', '2', '7', '7', '0', '7']\n",
      "['4/29/2022 12:00:00 AM', '27', '28', 'Yes', 'Travel_Rarely', '1157', 'Research & Development', '2', \"Master's Degree\", 'Medical', '1', '440', '1', 'Male', '84', '1', '1', 'Research Scientist', '4', 'Married', '3464', '24737', '5', 'Y', 'Yes', '13', '3', '4', '80', '0', '5', '4', '2', '3', '2', '2', '2']\n",
      "['', '209', '30', 'No', 'Travel_Rarely', '1275', 'Research & Development', '28', 'Associates Degree', 'Medical', '1', '441', '4', 'Female', '64', '3', '2', 'Research Scientist', '4', 'Married', '5775', '11934', '1', 'Y', 'No', '13', '3', '4', '80', '2', '11', '2', '3', '10', '8', '1', '9']\n",
      "['', '108', '31', 'No', 'Travel_Frequently', '798', 'Research & Development', '7', 'Associates Degree', 'Life Sciences', '1', '442', '3', 'Female', '48', '2', '3', 'Manufacturing Director', '3', 'Married', '8943', '14034', '1', 'Y', 'No', '24', '4', '1', '80', '1', '10', '2', '3', '10', '9', '8', '9']\n",
      "['', '66', '39', 'No', 'Travel_Frequently', '672', 'Research & Development', '7', 'Associates Degree', 'Medical', '1', '444', '3', 'Male', '54', '2', '5', 'Manager', '4', 'Married', '19272', '21141', '1', 'Y', 'No', '15', '3', '1', '80', '1', '21', '2', '3', '21', '9', '13', '3']\n",
      "['4/22/2022 12:00:00 AM', '34', '39', 'Yes', 'Travel_Rarely', '1162', 'Sales', '3', 'Associates Degree', 'Medical', '1', '445', '4', 'Female', '41', '3', '2', 'Sales Executive', '3', 'Married', '5238', '17778', '4', 'Y', 'Yes', '18', '3', '1', '80', '0', '12', '3', '2', '1', '0', '0', '0']\n",
      "['', '107', '33', 'No', 'Travel_Frequently', '508', 'Sales', '10', \"Bachelor's Degree\", 'Marketing', '1', '446', '2', 'Male', '46', '2', '2', 'Sales Executive', '4', 'Single', '4682', '4317', '3', 'Y', 'No', '14', '3', '3', '80', '0', '9', '6', '2', '7', '7', '0', '1']\n",
      "['', '78', '47', 'No', 'Travel_Rarely', '1482', 'Research & Development', '5', 'Doctoral Degree', 'Life Sciences', '1', '447', '4', 'Male', '42', '3', '5', 'Research Director', '3', 'Married', '18300', '16375', '4', 'Y', 'No', '11', '3', '2', '80', '1', '21', '2', '3', '3', '2', '1', '1']\n",
      "['', '147', '43', 'No', 'Travel_Frequently', '559', 'Research & Development', '10', \"Master's Degree\", 'Life Sciences', '1', '448', '3', 'Female', '82', '2', '2', 'Laboratory Technician', '3', 'Divorced', '5257', '6227', '1', 'Y', 'No', '11', '3', '2', '80', '1', '9', '3', '4', '9', '7', '0', '0']\n",
      "['', '19', '27', 'No', 'Non-Travel', '210', 'Sales', '1', 'High School', 'Marketing', '1', '449', '3', 'Male', '73', '3', '2', 'Sales Executive', '2', 'Married', '6349', '22107', '0', 'Y', 'Yes', '13', '3', '4', '80', '1', '6', '0', '3', '5', '4', '1', '4']\n",
      "['', '277', '54', 'No', 'Travel_Frequently', '928', 'Research & Development', '20', \"Master's Degree\", 'Life Sciences', '1', '450', '4', 'Female', '31', '3', '2', 'Research Scientist', '3', 'Single', '4869', '16885', '3', 'Y', 'No', '12', '3', '4', '80', '0', '20', '4', '2', '4', '3', '0', '3']\n",
      "['', '104', '43', 'No', 'Travel_Rarely', '1001', 'Research & Development', '7', \"Bachelor's Degree\", 'Life Sciences', '1', '451', '3', 'Female', '43', '3', '3', 'Healthcare Representative', '1', 'Married', '9985', '9262', '8', 'Y', 'No', '16', '3', '1', '80', '1', '10', '1', '2', '1', '0', '0', '0']\n",
      "['', '53', '45', 'No', 'Travel_Rarely', '549', 'Research & Development', '8', \"Master's Degree\", 'Other', '1', '452', '4', 'Male', '75', '3', '2', 'Research Scientist', '4', 'Married', '3697', '9278', '9', 'Y', 'No', '14', '3', '1', '80', '2', '12', '3', '3', '10', '9', '9', '8']\n",
      "['', '20', '40', 'No', 'Travel_Rarely', '1124', 'Sales', '1', 'Associates Degree', 'Medical', '1', '453', '2', 'Male', '57', '1', '2', 'Sales Executive', '4', 'Married', '7457', '13273', '2', 'Y', 'Yes', '22', '4', '3', '80', '3', '6', '2', '2', '4', '3', '0', '2']\n",
      "['4/3/2022 12:00:00 AM', '53', '29', 'Yes', 'Travel_Rarely', '318', 'Research & Development', '8', \"Master's Degree\", 'Other', '1', '454', '2', 'Male', '77', '1', '1', 'Laboratory Technician', '1', 'Married', '2119', '4759', '1', 'Y', 'Yes', '11', '3', '4', '80', '0', '7', '4', '2', '7', '7', '0', '7']\n",
      "['', '58', '29', 'No', 'Travel_Rarely', '738', 'Research & Development', '9', 'Doctoral Degree', 'Other', '1', '455', '2', 'Male', '30', '2', '1', 'Laboratory Technician', '4', 'Single', '3983', '7621', '0', 'Y', 'No', '17', '3', '3', '80', '0', '4', '2', '3', '3', '2', '2', '2']\n",
      "['', '58', '30', 'No', 'Travel_Rarely', '570', 'Sales', '5', \"Bachelor's Degree\", 'Marketing', '1', '456', '4', 'Female', '30', '2', '2', 'Sales Executive', '3', 'Divorced', '6118', '5431', '1', 'Y', 'No', '13', '3', '3', '80', '3', '10', '2', '3', '10', '9', '1', '2']\n",
      "['', '85', '27', 'No', 'Travel_Rarely', '1130', 'Sales', '8', \"Master's Degree\", 'Marketing', '1', '458', '2', 'Female', '56', '3', '2', 'Sales Executive', '2', 'Married', '6214', '3415', '1', 'Y', 'No', '18', '3', '1', '80', '1', '8', '3', '3', '8', '7', '0', '7']\n",
      "['', '48', '37', 'No', 'Travel_Rarely', '1192', 'Research & Development', '5', 'Associates Degree', 'Medical', '1', '460', '4', 'Male', '61', '3', '2', 'Manufacturing Director', '4', 'Divorced', '6347', '23177', '7', 'Y', 'No', '16', '3', '3', '80', '2', '8', '2', '2', '6', '2', '0', '4']\n",
      "['', '208', '38', 'No', 'Travel_Rarely', '343', 'Research & Development', '15', 'Associates Degree', 'Life Sciences', '1', '461', '3', 'Male', '92', '2', '3', 'Research Director', '4', 'Divorced', '11510', '15682', '0', 'Y', 'Yes', '14', '3', '2', '80', '1', '12', '3', '3', '11', '10', '2', '9']\n",
      "['', '62', '31', 'No', 'Travel_Rarely', '1232', 'Research & Development', '7', \"Master's Degree\", 'Medical', '1', '462', '3', 'Female', '39', '3', '3', 'Manufacturing Director', '4', 'Single', '7143', '25713', '1', 'Y', 'Yes', '14', '3', '3', '80', '0', '11', '2', '2', '11', '9', '4', '10']\n",
      "['', '103', '29', 'No', 'Travel_Rarely', '144', 'Sales', '10', 'High School', 'Marketing', '1', '463', '4', 'Female', '39', '2', '2', 'Sales Executive', '2', 'Divorced', '8268', '11866', '1', 'Y', 'Yes', '14', '3', '1', '80', '2', '7', '2', '3', '7', '7', '1', '7']\n",
      "['', '93', '35', 'No', 'Travel_Rarely', '1296', 'Research & Development', '5', \"Master's Degree\", 'Technical Degree', '1', '464', '3', 'Male', '62', '3', '3', 'Manufacturing Director', '2', 'Single', '8095', '18264', '0', 'Y', 'No', '13', '3', '4', '80', '0', '17', '5', '3', '16', '6', '0', '13']\n",
      "['', '351', '23', 'No', 'Travel_Rarely', '1309', 'Research & Development', '26', 'High School', 'Life Sciences', '1', '465', '3', 'Male', '83', '3', '1', 'Research Scientist', '4', 'Divorced', '2904', '16092', '1', 'Y', 'No', '12', '3', '3', '80', '2', '4', '2', '2', '4', '2', '0', '2']\n",
      "['', '55', '41', 'No', 'Travel_Rarely', '483', 'Research & Development', '6', \"Bachelor's Degree\", 'Medical', '1', '466', '4', 'Male', '95', '2', '2', 'Manufacturing Director', '2', 'Single', '6032', '10110', '6', 'Y', 'Yes', '15', '3', '4', '80', '0', '8', '3', '3', '5', '4', '1', '2']\n",
      "['', '45', '47', 'No', 'Travel_Frequently', '1309', 'Sales', '4', 'High School', 'Medical', '1', '467', '2', 'Male', '99', '3', '2', 'Sales Representative', '3', 'Single', '2976', '25751', '3', 'Y', 'No', '19', '3', '1', '80', '0', '5', '3', '3', '0', '0', '0', '0']\n",
      "['', '312', '42', 'No', 'Travel_Rarely', '810', 'Research & Development', '23', 'Doctoral Degree', 'Life Sciences', '1', '468', '1', 'Female', '44', '3', '4', 'Research Director', '4', 'Single', '15992', '15901', '2', 'Y', 'No', '14', '3', '2', '80', '0', '16', '2', '3', '1', '0', '0', '0']\n",
      "['', '36', '29', 'No', 'Non-Travel', '746', 'Sales', '2', \"Bachelor's Degree\", 'Life Sciences', '1', '469', '4', 'Male', '61', '3', '2', 'Sales Executive', '3', 'Married', '4649', '16928', '1', 'Y', 'No', '14', '3', '1', '80', '1', '4', '3', '2', '4', '3', '0', '2']\n",
      "['', '45', '42', 'No', 'Travel_Rarely', '544', 'Human Resources', '2', 'High School', 'Technical Degree', '1', '470', '3', 'Male', '52', '3', '1', 'Human Resources', '3', 'Divorced', '2696', '24017', '0', 'Y', 'Yes', '11', '3', '3', '80', '1', '4', '5', '3', '3', '2', '1', '0']\n",
      "['', '27', '32', 'No', 'Travel_Rarely', '1062', 'Research & Development', '2', \"Bachelor's Degree\", 'Medical', '1', '471', '3', 'Female', '75', '3', '1', 'Laboratory Technician', '2', 'Married', '2370', '3956', '1', 'Y', 'No', '13', '3', '3', '80', '1', '8', '4', '3', '8', '0', '0', '7']\n",
      "['', '216', '48', 'No', 'Travel_Rarely', '530', 'Sales', '29', 'High School', 'Medical', '1', '473', '1', 'Female', '91', '3', '3', 'Manager', '3', 'Married', '12504', '23978', '3', 'Y', 'No', '21', '4', '2', '80', '1', '15', '3', '1', '0', '0', '0', '0']\n",
      "['', '55', '37', 'No', 'Travel_Rarely', '1319', 'Research & Development', '6', \"Bachelor's Degree\", 'Medical', '1', '474', '3', 'Male', '51', '4', '2', 'Research Scientist', '1', 'Divorced', '5974', '17001', '4', 'Y', 'Yes', '13', '3', '1', '80', '2', '13', '2', '3', '7', '7', '6', '7']\n",
      "['', '205', '30', 'No', 'Non-Travel', '641', 'Sales', '25', 'Associates Degree', 'Technical Degree', '1', '475', '4', 'Female', '85', '3', '2', 'Sales Executive', '3', 'Married', '4736', '6069', '7', 'Y', 'Yes', '12', '3', '2', '80', '1', '4', '2', '4', '2', '2', '2', '2']\n",
      "['', '26', '26', 'No', 'Travel_Rarely', '933', 'Sales', '1', \"Bachelor's Degree\", 'Life Sciences', '1', '476', '3', 'Male', '57', '3', '2', 'Sales Executive', '3', 'Married', '5296', '20156', '1', 'Y', 'No', '17', '3', '2', '80', '1', '8', '3', '3', '8', '7', '7', '7']\n",
      "['', '23', '42', 'No', 'Travel_Rarely', '1332', 'Research & Development', '2', \"Master's Degree\", 'Other', '1', '477', '1', 'Male', '98', '2', '2', 'Healthcare Representative', '4', 'Single', '6781', '17078', '3', 'Y', 'No', '23', '4', '2', '80', '0', '14', '6', '3', '1', '0', '0', '0']\n",
      "['4/23/2022 12:00:00 AM', '33', '21', 'Yes', 'Travel_Frequently', '756', 'Sales', '1', 'High School', 'Technical Degree', '1', '478', '1', 'Female', '99', '2', '1', 'Sales Representative', '2', 'Single', '2174', '9150', '1', 'Y', 'Yes', '11', '3', '3', '80', '0', '3', '3', '3', '3', '2', '1', '2']\n",
      "['', '17', '36', 'No', 'Non-Travel', '845', 'Sales', '1', 'Doctoral Degree', 'Medical', '1', '479', '4', 'Female', '45', '3', '2', 'Sales Executive', '4', 'Single', '6653', '15276', '4', 'Y', 'No', '15', '3', '2', '80', '0', '7', '6', '3', '1', '0', '0', '0']\n",
      "['', '38', '36', 'No', 'Travel_Frequently', '541', 'Sales', '3', \"Master's Degree\", 'Medical', '1', '481', '1', 'Male', '48', '2', '3', 'Sales Executive', '4', 'Married', '9699', '7246', '4', 'Y', 'No', '11', '3', '1', '80', '1', '16', '2', '3', '13', '9', '1', '12']\n",
      "['', '20', '57', 'No', 'Travel_Rarely', '593', 'Research & Development', '1', \"Master's Degree\", 'Medical', '1', '482', '4', 'Male', '88', '3', '2', 'Healthcare Representative', '3', 'Married', '6755', '2967', '2', 'Y', 'No', '11', '3', '3', '80', '0', '15', '2', '3', '3', '2', '1', '2']\n",
      "['', '143', '40', 'No', 'Travel_Rarely', '1171', 'Research & Development', '10', \"Master's Degree\", 'Life Sciences', '1', '483', '4', 'Female', '46', '4', '1', 'Laboratory Technician', '3', 'Married', '2213', '22495', '3', 'Y', 'Yes', '13', '3', '3', '80', '1', '10', '3', '3', '7', '7', '1', '7']\n",
      "['', '73', '21', 'No', 'Non-Travel', '895', 'Sales', '9', 'Associates Degree', 'Medical', '1', '484', '1', 'Male', '39', '3', '1', 'Sales Representative', '4', 'Single', '2610', '2851', '1', 'Y', 'No', '24', '4', '3', '80', '0', '3', '3', '2', '3', '2', '2', '2']\n",
      "['3/29/2022 12:00:00 AM', '58', '33', 'Yes', 'Travel_Rarely', '350', 'Sales', '5', \"Bachelor's Degree\", 'Marketing', '1', '485', '4', 'Female', '34', '3', '1', 'Sales Representative', '3', 'Single', '2851', '9150', '1', 'Y', 'Yes', '13', '3', '2', '80', '0', '1', '2', '3', '1', '0', '0', '0']\n",
      "['', '83', '37', 'No', 'Travel_Rarely', '921', 'Research & Development', '10', \"Bachelor's Degree\", 'Medical', '1', '486', '3', 'Female', '98', '3', '1', 'Laboratory Technician', '1', 'Married', '3452', '17663', '6', 'Y', 'No', '20', '4', '2', '80', '1', '17', '3', '3', '5', '4', '0', '3']\n",
      "['', '59', '46', 'No', 'Non-Travel', '1144', 'Research & Development', '7', \"Master's Degree\", 'Medical', '1', '487', '3', 'Female', '30', '3', '2', 'Manufacturing Director', '3', 'Married', '5258', '16044', '2', 'Y', 'No', '14', '3', '3', '80', '0', '7', '2', '4', '1', '0', '0', '0']\n",
      "['4/3/2022 12:00:00 AM', '53', '41', 'Yes', 'Travel_Frequently', '143', 'Sales', '4', \"Bachelor's Degree\", 'Marketing', '1', '488', '1', 'Male', '56', '3', '2', 'Sales Executive', '2', 'Single', '9355', '9558', '1', 'Y', 'No', '18', '3', '3', '80', '0', '8', '5', '3', '8', '7', '7', '7']\n",
      "['', '173', '50', 'No', 'Travel_Rarely', '1046', 'Research & Development', '10', \"Bachelor's Degree\", 'Technical Degree', '1', '491', '4', 'Male', '100', '2', '3', 'Healthcare Representative', '4', 'Single', '10496', '2755', '6', 'Y', 'No', '15', '3', '4', '80', '0', '20', '2', '3', '4', '3', '1', '3']\n",
      "['10/27/2021 12:00:00 AM', '211', '40', 'Yes', 'Travel_Rarely', '575', 'Sales', '22', 'Associates Degree', 'Marketing', '1', '492', '3', 'Male', '68', '2', '2', 'Sales Executive', '3', 'Married', '6380', '6110', '2', 'Y', 'Yes', '12', '3', '1', '80', '2', '8', '6', '3', '6', '4', '1', '0']\n",
      "['', '130', '31', 'No', 'Travel_Rarely', '408', 'Research & Development', '9', \"Master's Degree\", 'Life Sciences', '1', '493', '3', 'Male', '42', '2', '1', 'Research Scientist', '2', 'Single', '2657', '7551', '0', 'Y', 'Yes', '16', '3', '4', '80', '0', '3', '5', '3', '2', '2', '2', '2']\n",
      "['12/8/2021 12:00:00 AM', '169', '21', 'Yes', 'Travel_Rarely', '156', 'Sales', '12', \"Bachelor's Degree\", 'Life Sciences', '1', '494', '3', 'Female', '90', '4', '1', 'Sales Representative', '2', 'Single', '2716', '25422', '1', 'Y', 'No', '15', '3', '4', '80', '0', '1', '0', '3', '1', '0', '0', '0']\n",
      "['', '312', '29', 'No', 'Travel_Rarely', '1283', 'Research & Development', '23', \"Bachelor's Degree\", 'Life Sciences', '1', '495', '4', 'Male', '54', '3', '1', 'Research Scientist', '4', 'Single', '2201', '18168', '9', 'Y', 'No', '16', '3', '4', '80', '0', '6', '4', '3', '3', '2', '1', '2']\n",
      "['', '130', '35', 'No', 'Travel_Rarely', '755', 'Research & Development', '9', \"Master's Degree\", 'Life Sciences', '1', '496', '3', 'Male', '97', '2', '2', 'Healthcare Representative', '2', 'Single', '6540', '19394', '9', 'Y', 'No', '19', '3', '3', '80', '0', '10', '5', '3', '1', '1', '0', '0']\n",
      "['', '20', '27', 'No', 'Travel_Rarely', '1469', 'Research & Development', '1', 'Associates Degree', 'Medical', '1', '497', '4', 'Male', '82', '3', '1', 'Laboratory Technician', '2', 'Divorced', '3816', '17881', '1', 'Y', 'No', '11', '3', '2', '80', '1', '5', '2', '3', '5', '2', '0', '4']\n",
      "['', '130', '28', 'No', 'Travel_Rarely', '304', 'Sales', '9', \"Master's Degree\", 'Life Sciences', '1', '498', '2', 'Male', '92', '3', '2', 'Sales Executive', '4', 'Single', '5253', '20750', '1', 'Y', 'No', '16', '3', '4', '80', '0', '7', '1', '3', '7', '5', '0', '7']\n",
      "['', '48', '49', 'No', 'Travel_Rarely', '1261', 'Research & Development', '7', \"Bachelor's Degree\", 'Other', '1', '499', '2', 'Male', '31', '2', '3', 'Healthcare Representative', '3', 'Single', '10965', '12066', '8', 'Y', 'No', '24', '4', '3', '80', '0', '26', '2', '3', '5', '2', '0', '0']\n",
      "['', '195', '51', 'No', 'Travel_Rarely', '1178', 'Sales', '14', 'Associates Degree', 'Life Sciences', '1', '500', '3', 'Female', '87', '3', '2', 'Sales Executive', '4', 'Married', '4936', '14862', '4', 'Y', 'No', '11', '3', '3', '80', '1', '18', '2', '2', '7', '7', '0', '7']\n",
      "['', '39', '36', 'No', 'Travel_Rarely', '329', 'Research & Development', '2', \"Bachelor's Degree\", 'Life Sciences', '1', '501', '4', 'Female', '96', '3', '1', 'Research Scientist', '3', 'Married', '2543', '11868', '4', 'Y', 'No', '13', '3', '2', '80', '1', '6', '3', '3', '2', '2', '2', '2']\n",
      "['11/26/2021 12:00:00 AM', '181', '34', 'Yes', 'Non-Travel', '1362', 'Sales', '19', \"Bachelor's Degree\", 'Marketing', '1', '502', '1', 'Male', '67', '4', '2', 'Sales Executive', '4', 'Single', '5304', '4652', '8', 'Y', 'Yes', '13', '3', '2', '80', '0', '9', '3', '2', '5', '2', '0', '4']\n",
      "['', '39', '55', 'No', 'Travel_Rarely', '1311', 'Research & Development', '2', \"Bachelor's Degree\", 'Life Sciences', '1', '505', '3', 'Female', '97', '3', '4', 'Manager', '4', 'Single', '16659', '23258', '2', 'Y', 'Yes', '13', '3', '3', '80', '0', '30', '2', '3', '5', '4', '1', '2']\n",
      "['', '103', '24', 'No', 'Travel_Rarely', '1371', 'Sales', '10', \"Master's Degree\", 'Marketing', '1', '507', '4', 'Female', '77', '3', '2', 'Sales Executive', '3', 'Divorced', '4260', '5915', '1', 'Y', 'Yes', '12', '3', '4', '80', '1', '5', '2', '4', '5', '2', '0', '3']\n",
      "['', '45', '30', 'No', 'Travel_Rarely', '202', 'Sales', '2', 'High School', 'Technical Degree', '1', '508', '3', 'Male', '72', '3', '1', 'Sales Representative', '2', 'Married', '2476', '17434', '1', 'Y', 'No', '18', '3', '1', '80', '1', '1', '3', '3', '1', '0', '0', '0']\n",
      "['3/22/2022 12:00:00 AM', '65', '26', 'Yes', 'Travel_Frequently', '575', 'Research & Development', '3', 'High School', 'Technical Degree', '1', '510', '3', 'Male', '73', '3', '1', 'Research Scientist', '1', 'Single', '3102', '6582', '0', 'Y', 'No', '22', '4', '3', '80', '0', '7', '2', '3', '6', '4', '0', '4']\n",
      "['', '90', '22', 'No', 'Travel_Rarely', '253', 'Research & Development', '11', \"Bachelor's Degree\", 'Medical', '1', '511', '1', 'Female', '43', '3', '1', 'Research Scientist', '2', 'Married', '2244', '24440', '1', 'Y', 'No', '13', '3', '4', '80', '1', '2', '1', '3', '2', '1', '1', '2']\n",
      "['', '27', '36', 'No', 'Travel_Rarely', '164', 'Sales', '2', 'Associates Degree', 'Medical', '1', '513', '2', 'Male', '61', '2', '3', 'Sales Executive', '3', 'Married', '7596', '3809', '1', 'Y', 'No', '13', '3', '2', '80', '2', '10', '2', '3', '10', '9', '9', '0']\n",
      "['3/6/2022 12:00:00 AM', '81', '30', 'Yes', 'Travel_Frequently', '464', 'Research & Development', '4', \"Bachelor's Degree\", 'Technical Degree', '1', '514', '3', 'Male', '40', '3', '1', 'Research Scientist', '4', 'Single', '2285', '3427', '9', 'Y', 'Yes', '23', '4', '3', '80', '0', '3', '4', '3', '1', '0', '0', '0']\n",
      "['', '195', '37', 'No', 'Travel_Rarely', '1107', 'Research & Development', '14', \"Bachelor's Degree\", 'Life Sciences', '1', '515', '4', 'Female', '95', '3', '1', 'Laboratory Technician', '1', 'Divorced', '3034', '26914', '1', 'Y', 'No', '12', '3', '3', '80', '1', '18', '2', '2', '18', '7', '12', '17']\n",
      "['', '31', '40', 'No', 'Travel_Rarely', '759', 'Sales', '2', 'Associates Degree', 'Marketing', '1', '516', '4', 'Female', '46', '3', '2', 'Sales Executive', '2', 'Divorced', '5715', '22553', '7', 'Y', 'No', '12', '3', '3', '80', '2', '8', '5', '3', '5', '4', '1', '3']\n",
      "['', '26', '42', 'No', 'Travel_Rarely', '201', 'Research & Development', '1', \"Master's Degree\", 'Life Sciences', '1', '517', '2', 'Female', '95', '3', '1', 'Laboratory Technician', '1', 'Divorced', '2576', '20490', '3', 'Y', 'No', '16', '3', '2', '80', '1', '8', '5', '3', '5', '2', '1', '2']\n",
      "['', '143', '37', 'No', 'Travel_Rarely', '1305', 'Research & Development', '10', \"Master's Degree\", 'Life Sciences', '1', '518', '3', 'Male', '49', '3', '2', 'Manufacturing Director', '2', 'Single', '4197', '21123', '2', 'Y', 'Yes', '12', '3', '4', '80', '0', '18', '2', '2', '1', '0', '0', '1']\n",
      "['', '169', '43', 'No', 'Travel_Rarely', '982', 'Research & Development', '12', \"Bachelor's Degree\", 'Life Sciences', '1', '520', '1', 'Male', '59', '2', '4', 'Research Director', '2', 'Divorced', '14336', '4345', '1', 'Y', 'No', '11', '3', '3', '80', '1', '25', '3', '3', '25', '10', '3', '9']\n",
      "['', '27', '40', 'No', 'Travel_Rarely', '555', 'Research & Development', '2', \"Bachelor's Degree\", 'Medical', '1', '521', '2', 'Female', '78', '2', '2', 'Laboratory Technician', '3', 'Married', '3448', '13436', '6', 'Y', 'No', '22', '4', '2', '80', '1', '20', '3', '3', '1', '0', '0', '0']\n",
      "['', '48', '54', 'No', 'Travel_Rarely', '821', 'Research & Development', '5', 'Associates Degree', 'Medical', '1', '522', '1', 'Male', '86', '3', '5', 'Research Director', '1', 'Married', '19406', '8509', '4', 'Y', 'No', '11', '3', '3', '80', '1', '24', '4', '2', '4', '2', '1', '2']\n",
      "['', '46', '34', 'No', 'Non-Travel', '1381', 'Sales', '4', \"Master's Degree\", 'Marketing', '1', '523', '3', 'Female', '72', '3', '2', 'Sales Executive', '3', 'Married', '6538', '12740', '9', 'Y', 'No', '15', '3', '1', '80', '1', '6', '3', '3', '3', '2', '1', '2']\n",
      "['', '62', '31', 'No', 'Travel_Rarely', '480', 'Research & Development', '7', 'Associates Degree', 'Medical', '1', '524', '2', 'Female', '31', '3', '2', 'Manufacturing Director', '1', 'Married', '4306', '4156', '1', 'Y', 'No', '12', '3', '2', '80', '1', '13', '5', '1', '13', '10', '3', '12']\n",
      "['', '164', '43', 'No', 'Travel_Frequently', '313', 'Research & Development', '21', \"Bachelor's Degree\", 'Medical', '1', '525', '4', 'Male', '61', '3', '1', 'Laboratory Technician', '4', 'Married', '2258', '15238', '7', 'Y', 'No', '20', '4', '1', '80', '1', '8', '1', '3', '3', '2', '1', '2']\n",
      "['', '53', '43', 'No', 'Travel_Rarely', '1473', 'Research & Development', '8', \"Master's Degree\", 'Other', '1', '526', '3', 'Female', '74', '3', '2', 'Healthcare Representative', '3', 'Divorced', '4522', '2227', '4', 'Y', 'Yes', '14', '3', '4', '80', '0', '8', '3', '3', '5', '2', '0', '2']\n",
      "['', '65', '25', 'No', 'Travel_Rarely', '891', 'Sales', '4', 'Associates Degree', 'Life Sciences', '1', '527', '2', 'Female', '99', '2', '2', 'Sales Executive', '4', 'Single', '4487', '12090', '1', 'Y', 'Yes', '11', '3', '2', '80', '0', '5', '3', '3', '5', '4', '1', '3']\n",
      "['', '185', '37', 'No', 'Non-Travel', '1063', 'Research & Development', '25', 'Doctoral Degree', 'Medical', '1', '529', '2', 'Female', '72', '3', '2', 'Research Scientist', '3', 'Married', '4449', '23866', '3', 'Y', 'Yes', '15', '3', '1', '80', '2', '15', '2', '3', '13', '11', '10', '7']\n",
      "['', '26', '31', 'No', 'Travel_Rarely', '329', 'Research & Development', '1', 'Associates Degree', 'Life Sciences', '1', '530', '4', 'Male', '98', '2', '1', 'Laboratory Technician', '1', 'Married', '2218', '16193', '1', 'Y', 'No', '12', '3', '3', '80', '1', '4', '3', '3', '4', '2', '3', '2']\n",
      "['', '30', '39', 'No', 'Travel_Frequently', '1218', 'Research & Development', '1', 'High School', 'Life Sciences', '1', '531', '2', 'Male', '52', '3', '5', 'Manager', '3', 'Divorced', '19197', '8213', '1', 'Y', 'Yes', '14', '3', '3', '80', '1', '21', '3', '3', '21', '8', '1', '6']\n",
      "['', '95', '56', 'No', 'Travel_Frequently', '906', 'Sales', '6', \"Bachelor's Degree\", 'Life Sciences', '1', '532', '3', 'Female', '86', '4', '4', 'Sales Executive', '1', 'Married', '13212', '18256', '9', 'Y', 'No', '11', '3', '4', '80', '3', '36', '0', '2', '7', '7', '7', '7']\n",
      "['', '205', '30', 'No', 'Travel_Rarely', '1082', 'Sales', '12', \"Bachelor's Degree\", 'Technical Degree', '1', '533', '2', 'Female', '83', '3', '2', 'Sales Executive', '3', 'Single', '6577', '19558', '0', 'Y', 'No', '11', '3', '2', '80', '0', '6', '6', '3', '5', '4', '4', '4']\n",
      "['', '22', '41', 'No', 'Travel_Rarely', '645', 'Sales', '1', \"Bachelor's Degree\", 'Marketing', '1', '534', '2', 'Male', '49', '4', '3', 'Sales Executive', '1', 'Married', '8392', '19566', '1', 'Y', 'No', '16', '3', '3', '80', '1', '10', '2', '3', '10', '7', '0', '7']\n",
      "['', '132', '28', 'No', 'Travel_Rarely', '1300', 'Research & Development', '17', 'Associates Degree', 'Medical', '1', '536', '3', 'Male', '79', '3', '2', 'Laboratory Technician', '1', 'Divorced', '4558', '13535', '1', 'Y', 'No', '12', '3', '4', '80', '1', '10', '2', '3', '10', '0', '1', '8']\n",
      "['4/22/2022 12:00:00 AM', '34', '25', 'Yes', 'Travel_Rarely', '688', 'Research & Development', '3', \"Bachelor's Degree\", 'Medical', '1', '538', '1', 'Male', '91', '3', '1', 'Laboratory Technician', '1', 'Married', '4031', '9396', '5', 'Y', 'No', '13', '3', '3', '80', '1', '6', '5', '3', '2', '2', '0', '2']\n",
      "['', '34', '52', 'No', 'Travel_Rarely', '319', 'Research & Development', '3', \"Bachelor's Degree\", 'Medical', '1', '543', '4', 'Male', '39', '2', '3', 'Manufacturing Director', '3', 'Married', '7969', '19609', '2', 'Y', 'Yes', '14', '3', '3', '80', '0', '28', '4', '3', '5', '4', '0', '4']\n",
      "['', '143', '45', 'No', 'Travel_Rarely', '192', 'Research & Development', '10', 'Associates Degree', 'Life Sciences', '1', '544', '1', 'Male', '69', '3', '1', 'Research Scientist', '4', 'Married', '2654', '9655', '3', 'Y', 'No', '21', '4', '4', '80', '2', '8', '3', '2', '2', '2', '0', '2']\n",
      "['', '65', '52', 'No', 'Travel_Rarely', '1490', 'Research & Development', '4', 'Associates Degree', 'Life Sciences', '1', '546', '4', 'Female', '30', '3', '4', 'Manager', '4', 'Married', '16555', '10310', '2', 'Y', 'No', '13', '3', '4', '80', '0', '31', '2', '1', '5', '2', '1', '4']\n",
      "['', '197', '42', 'No', 'Travel_Frequently', '532', 'Research & Development', '29', 'Associates Degree', 'Life Sciences', '1', '547', '1', 'Female', '92', '3', '2', 'Research Scientist', '3', 'Divorced', '4556', '12932', '2', 'Y', 'No', '11', '3', '2', '80', '1', '19', '3', '3', '5', '4', '0', '2']\n",
      "['', '39', '30', 'No', 'Travel_Rarely', '317', 'Research & Development', '2', \"Bachelor's Degree\", 'Life Sciences', '1', '548', '3', 'Female', '43', '1', '2', 'Manufacturing Director', '4', 'Single', '6091', '24793', '2', 'Y', 'No', '20', '4', '3', '80', '0', '11', '2', '3', '5', '4', '0', '2']\n",
      "['', '104', '60', 'No', 'Travel_Rarely', '422', 'Research & Development', '7', \"Bachelor's Degree\", 'Life Sciences', '1', '549', '1', 'Female', '41', '3', '5', 'Manager', '1', 'Married', '19566', '3854', '5', 'Y', 'No', '11', '3', '4', '80', '0', '33', '5', '1', '29', '8', '11', '10']\n",
      "['', '139', '46', 'No', 'Travel_Rarely', '1485', 'Research & Development', '18', \"Bachelor's Degree\", 'Medical', '1', '550', '3', 'Female', '87', '3', '2', 'Manufacturing Director', '3', 'Divorced', '4810', '26314', '2', 'Y', 'No', '14', '3', '3', '80', '1', '19', '5', '2', '10', '7', '0', '8']\n",
      "['', '232.5', '42', 'No', 'Travel_Frequently', '1368', 'Research & Development', '28', \"Master's Degree\", 'Technical Degree', '1', '551', '4', 'Female', '88', '2', '2', 'Healthcare Representative', '4', 'Married', '4523', '4386', '0', 'Y', 'No', '11', '3', '4', '80', '3', '7', '4', '4', '6', '5', '0', '4']\n",
      "['4/27/2022 12:00:00 AM', '29', '24', 'Yes', 'Travel_Rarely', '1448', 'Sales', '1', 'High School', 'Technical Degree', '1', '554', '1', 'Female', '62', '3', '1', 'Sales Representative', '2', 'Single', '3202', '21972', '1', 'Y', 'Yes', '16', '3', '2', '80', '0', '6', '4', '3', '5', '3', '1', '4']\n",
      "['3/16/2022 12:00:00 AM', '71', '34', 'Yes', 'Travel_Frequently', '296', 'Sales', '6', 'Associates Degree', 'Marketing', '1', '555', '4', 'Female', '33', '1', '1', 'Sales Representative', '3', 'Divorced', '2351', '12253', '0', 'Y', 'No', '16', '3', '4', '80', '1', '3', '3', '2', '2', '2', '1', '0']\n",
      "['', '43', '38', 'No', 'Travel_Frequently', '1490', 'Research & Development', '2', 'Associates Degree', 'Life Sciences', '1', '556', '4', 'Male', '42', '3', '1', 'Laboratory Technician', '4', 'Married', '1702', '12106', '1', 'Y', 'Yes', '23', '4', '3', '80', '1', '1', '3', '3', '1', '0', '0', '0']\n",
      "['', '39', '40', 'No', 'Travel_Rarely', '1398', 'Sales', '2', \"Master's Degree\", 'Life Sciences', '1', '558', '3', 'Female', '79', '3', '5', 'Manager', '3', 'Married', '18041', '13022', '0', 'Y', 'No', '14', '3', '4', '80', '0', '21', '2', '3', '20', '15', '1', '12']\n",
      "['', '312', '26', 'No', 'Travel_Rarely', '1349', 'Research & Development', '23', \"Bachelor's Degree\", 'Life Sciences', '1', '560', '1', 'Female', '90', '3', '1', 'Research Scientist', '4', 'Divorced', '2886', '3032', '1', 'Y', 'No', '22', '4', '2', '80', '2', '3', '3', '1', '3', '2', '0', '2']\n",
      "['', '49', '30', 'No', 'Non-Travel', '1400', 'Research & Development', '3', \"Bachelor's Degree\", 'Life Sciences', '1', '562', '3', 'Male', '53', '3', '1', 'Laboratory Technician', '4', 'Married', '2097', '16734', '4', 'Y', 'No', '15', '3', '3', '80', '1', '9', '3', '1', '5', '3', '1', '4']\n",
      "['', '34', '29', 'No', 'Travel_Rarely', '986', 'Research & Development', '3', \"Master's Degree\", 'Medical', '1', '564', '2', 'Male', '93', '2', '3', 'Research Director', '3', 'Married', '11935', '21526', '1', 'Y', 'No', '18', '3', '3', '80', '0', '10', '2', '3', '10', '2', '0', '7']\n",
      "['11/1/2021 12:00:00 AM', '206.5', '29', 'Yes', 'Travel_Rarely', '408', 'Research & Development', '25', 'Doctoral Degree', 'Technical Degree', '1', '565', '3', 'Female', '71', '2', '1', 'Research Scientist', '2', 'Married', '2546', '18300', '5', 'Y', 'No', '16', '3', '2', '80', '0', '6', '2', '4', '2', '2', '1', '1']\n",
      "['4/11/2022 12:00:00 AM', '45', '19', 'Yes', 'Travel_Rarely', '489', 'Human Resources', '2', 'Associates Degree', 'Technical Degree', '1', '566', '1', 'Male', '52', '2', '1', 'Human Resources', '4', 'Single', '2564', '18437', '1', 'Y', 'No', '12', '3', '3', '80', '0', '1', '3', '4', '1', '0', '0', '0']\n",
      "['', '120', '30', 'No', 'Non-Travel', '1398', 'Sales', '22', \"Master's Degree\", 'Other', '1', '567', '3', 'Female', '69', '3', '3', 'Sales Executive', '1', 'Married', '8412', '2890', '0', 'Y', 'No', '11', '3', '3', '80', '0', '10', '3', '3', '9', '8', '7', '8']\n",
      "['', '274', '57', 'No', 'Travel_Rarely', '210', 'Sales', '29', \"Bachelor's Degree\", 'Marketing', '1', '568', '1', 'Male', '56', '2', '4', 'Manager', '4', 'Divorced', '14118', '22102', '3', 'Y', 'No', '12', '3', '3', '80', '1', '32', '3', '2', '1', '0', '0', '0']\n",
      "['', '195', '50', 'No', 'Travel_Rarely', '1099', 'Research & Development', '29', \"Master's Degree\", 'Life Sciences', '1', '569', '2', 'Male', '88', '2', '4', 'Manager', '3', 'Married', '17046', '9314', '0', 'Y', 'No', '15', '3', '2', '80', '1', '28', '2', '3', '27', '10', '15', '7']\n",
      "['', '24', '30', 'No', 'Non-Travel', '1116', 'Research & Development', '2', \"Bachelor's Degree\", 'Medical', '1', '571', '3', 'Female', '49', '3', '1', 'Laboratory Technician', '4', 'Single', '2564', '7181', '0', 'Y', 'No', '14', '3', '3', '80', '0', '12', '2', '2', '11', '7', '6', '7']\n",
      "['', '269', '60', 'No', 'Travel_Frequently', '1499', 'Sales', '28', \"Bachelor's Degree\", 'Marketing', '1', '573', '3', 'Female', '80', '2', '3', 'Sales Executive', '1', 'Married', '10266', '2845', '4', 'Y', 'No', '19', '3', '4', '80', '0', '22', '5', '4', '18', '13', '13', '11']\n",
      "['', '27', '47', 'No', 'Travel_Rarely', '983', 'Research & Development', '2', 'Associates Degree', 'Medical', '1', '574', '1', 'Female', '65', '3', '2', 'Manufacturing Director', '4', 'Divorced', '5070', '7389', '5', 'Y', 'No', '13', '3', '3', '80', '3', '20', '2', '3', '5', '0', '0', '4']\n",
      "['', '39', '46', 'No', 'Travel_Rarely', '1009', 'Research & Development', '2', \"Bachelor's Degree\", 'Life Sciences', '1', '575', '1', 'Male', '51', '3', '4', 'Research Director', '3', 'Married', '17861', '2288', '6', 'Y', 'No', '13', '3', '3', '80', '0', '26', '2', '1', '3', '2', '0', '1']\n",
      "['', '299', '35', 'No', 'Travel_Rarely', '144', 'Research & Development', '22', \"Bachelor's Degree\", 'Life Sciences', '1', '577', '4', 'Male', '46', '1', '1', 'Laboratory Technician', '3', 'Single', '4230', '19225', '0', 'Y', 'No', '15', '3', '3', '80', '0', '6', '2', '3', '5', '4', '4', '3']\n",
      "['', '117', '54', 'No', 'Travel_Rarely', '548', 'Research & Development', '8', \"Master's Degree\", 'Life Sciences', '1', '578', '3', 'Female', '42', '3', '2', 'Laboratory Technician', '3', 'Single', '3780', '23428', '7', 'Y', 'No', '11', '3', '3', '80', '0', '19', '3', '3', '1', '0', '0', '0']\n",
      "['', '39', '34', 'No', 'Travel_Rarely', '1303', 'Research & Development', '2', \"Master's Degree\", 'Life Sciences', '1', '579', '4', 'Male', '62', '2', '1', 'Research Scientist', '3', 'Divorced', '2768', '8416', '3', 'Y', 'No', '12', '3', '3', '80', '1', '14', '3', '3', '7', '3', '5', '7']\n",
      "['', '103', '46', 'No', 'Travel_Rarely', '1125', 'Sales', '10', \"Bachelor's Degree\", 'Marketing', '1', '580', '3', 'Female', '94', '2', '3', 'Sales Executive', '4', 'Married', '9071', '11563', '2', 'Y', 'Yes', '19', '3', '3', '80', '1', '15', '3', '3', '3', '2', '1', '2']\n",
      "['', '130', '31', 'No', 'Travel_Rarely', '1274', 'Research & Development', '9', 'High School', 'Life Sciences', '1', '581', '3', 'Male', '33', '3', '3', 'Manufacturing Director', '2', 'Divorced', '10648', '14394', '1', 'Y', 'No', '25', '4', '4', '80', '1', '13', '6', '4', '13', '8', '0', '8']\n",
      "['1/28/2022 12:00:00 AM', '118', '33', 'Yes', 'Travel_Rarely', '1277', 'Research & Development', '15', 'High School', 'Medical', '1', '582', '2', 'Male', '56', '3', '3', 'Manager', '3', 'Married', '13610', '24619', '7', 'Y', 'Yes', '12', '3', '4', '80', '0', '15', '2', '4', '7', '6', '7', '7']\n",
      "['3/4/2022 12:00:00 AM', '83', '33', 'Yes', 'Travel_Rarely', '587', 'Research & Development', '10', 'High School', 'Medical', '1', '584', '1', 'Male', '38', '1', '1', 'Laboratory Technician', '4', 'Divorced', '3408', '6705', '7', 'Y', 'No', '13', '3', '1', '80', '3', '8', '2', '3', '4', '3', '1', '3']\n",
      "['', '76', '30', 'No', 'Travel_Rarely', '413', 'Sales', '7', 'High School', 'Marketing', '1', '585', '4', 'Male', '57', '3', '1', 'Sales Representative', '2', 'Single', '2983', '18398', '0', 'Y', 'No', '14', '3', '1', '80', '0', '4', '3', '3', '3', '2', '1', '2']\n",
      "['', '221', '35', 'No', 'Travel_Rarely', '1276', 'Research & Development', '16', \"Bachelor's Degree\", 'Life Sciences', '1', '586', '4', 'Male', '72', '3', '3', 'Healthcare Representative', '3', 'Married', '7632', '14295', '4', 'Y', 'Yes', '12', '3', '3', '80', '0', '10', '2', '3', '8', '7', '0', '0']\n",
      "['8/22/2021 12:00:00 AM', '277', '31', 'Yes', 'Travel_Frequently', '534', 'Research & Development', '20', \"Bachelor's Degree\", 'Life Sciences', '1', '587', '1', 'Male', '66', '3', '3', 'Healthcare Representative', '3', 'Married', '9824', '22908', '3', 'Y', 'No', '12', '3', '1', '80', '0', '12', '2', '3', '1', '0', '0', '0']\n",
      "['5/29/2021 12:00:00 AM', '362', '34', 'Yes', 'Travel_Frequently', '988', 'Human Resources', '23', \"Bachelor's Degree\", 'Human Resources', '1', '590', '2', 'Female', '43', '3', '3', 'Human Resources', '1', 'Divorced', '9950', '11533', '9', 'Y', 'Yes', '15', '3', '3', '80', '3', '11', '2', '3', '3', '2', '0', '2']\n",
      "['', '42', '42', 'No', 'Travel_Frequently', '1474', 'Research & Development', '5', 'Associates Degree', 'Other', '1', '591', '2', 'Male', '97', '3', '1', 'Laboratory Technician', '3', 'Married', '2093', '9260', '4', 'Y', 'No', '17', '3', '4', '80', '1', '8', '4', '3', '2', '2', '2', '0']\n",
      "['', '80', '36', 'No', 'Non-Travel', '635', 'Sales', '10', \"Master's Degree\", 'Medical', '1', '592', '2', 'Male', '32', '3', '3', 'Sales Executive', '4', 'Single', '9980', '15318', '1', 'Y', 'No', '14', '3', '4', '80', '0', '10', '3', '2', '10', '3', '9', '7']\n",
      "['3/6/2022 12:00:00 AM', '81', '22', 'Yes', 'Travel_Frequently', '1368', 'Research & Development', '4', 'High School', 'Technical Degree', '1', '593', '3', 'Male', '99', '2', '1', 'Laboratory Technician', '3', 'Single', '3894', '9129', '5', 'Y', 'No', '16', '3', '3', '80', '0', '4', '3', '3', '2', '2', '1', '2']\n",
      "['', '31', '48', 'No', 'Travel_Rarely', '163', 'Sales', '2', 'Doctoral Degree', 'Marketing', '1', '595', '2', 'Female', '37', '3', '2', 'Sales Executive', '4', 'Married', '4051', '19658', '2', 'Y', 'No', '14', '3', '1', '80', '1', '14', '2', '3', '9', '7', '6', '7']\n",
      "['', '247', '55', 'No', 'Travel_Rarely', '1117', 'Sales', '18', 'Doctoral Degree', 'Life Sciences', '1', '597', '1', 'Female', '83', '3', '4', 'Manager', '2', 'Single', '16835', '9873', '3', 'Y', 'No', '23', '4', '4', '80', '0', '37', '2', '3', '10', '9', '7', '7']\n",
      "['', '140', '41', 'No', 'Non-Travel', '267', 'Sales', '10', 'Associates Degree', 'Life Sciences', '1', '599', '4', 'Male', '56', '3', '2', 'Sales Executive', '4', 'Single', '6230', '13430', '7', 'Y', 'No', '14', '3', '4', '80', '0', '16', '3', '3', '14', '3', '1', '10']\n",
      "['', '22', '35', 'No', 'Travel_Rarely', '619', 'Sales', '1', \"Bachelor's Degree\", 'Marketing', '1', '600', '2', 'Male', '85', '3', '2', 'Sales Executive', '3', 'Married', '4717', '18659', '9', 'Y', 'No', '11', '3', '3', '80', '0', '15', '2', '3', '11', '9', '6', '9']\n",
      "['', '91', '40', 'No', 'Travel_Rarely', '302', 'Research & Development', '6', \"Bachelor's Degree\", 'Life Sciences', '1', '601', '2', 'Female', '75', '3', '4', 'Manufacturing Director', '3', 'Single', '13237', '20364', '7', 'Y', 'No', '15', '3', '3', '80', '0', '22', '3', '3', '20', '6', '5', '13']\n",
      "['', '121', '39', 'No', 'Travel_Frequently', '443', 'Research & Development', '8', 'High School', 'Life Sciences', '1', '602', '3', 'Female', '48', '3', '1', 'Laboratory Technician', '3', 'Married', '3755', '17872', '1', 'Y', 'No', '11', '3', '1', '80', '1', '8', '3', '3', '8', '3', '0', '7']\n",
      "['', '39', '31', 'No', 'Travel_Rarely', '828', 'Sales', '2', 'High School', 'Life Sciences', '1', '604', '2', 'Male', '77', '3', '2', 'Sales Executive', '4', 'Single', '6582', '8346', '4', 'Y', 'Yes', '13', '3', '3', '80', '0', '10', '2', '4', '6', '5', '0', '5']\n",
      "['', '181', '42', 'No', 'Travel_Rarely', '319', 'Research & Development', '24', \"Bachelor's Degree\", 'Medical', '1', '605', '4', 'Male', '56', '3', '3', 'Manufacturing Director', '1', 'Married', '7406', '6950', '1', 'Y', 'Yes', '21', '4', '4', '80', '1', '10', '5', '2', '10', '9', '5', '8']\n",
      "['', '23', '45', 'No', 'Travel_Rarely', '561', 'Sales', '2', \"Bachelor's Degree\", 'Other', '1', '606', '4', 'Male', '61', '3', '2', 'Sales Executive', '2', 'Married', '4805', '16177', '0', 'Y', 'No', '19', '3', '2', '80', '1', '9', '3', '4', '8', '7', '3', '7']\n",
      "['9/30/2021 12:00:00 AM', '238', '26', 'Yes', 'Travel_Frequently', '426', 'Human Resources', '17', \"Master's Degree\", 'Life Sciences', '1', '608', '2', 'Female', '58', '3', '1', 'Human Resources', '3', 'Divorced', '2741', '22808', '0', 'Y', 'Yes', '11', '3', '2', '80', '1', '8', '2', '2', '7', '7', '1', '0']\n",
      "['', '317', '29', 'No', 'Travel_Rarely', '232', 'Research & Development', '19', \"Bachelor's Degree\", 'Technical Degree', '1', '611', '4', 'Male', '34', '3', '2', 'Manufacturing Director', '4', 'Divorced', '4262', '22645', '4', 'Y', 'No', '12', '3', '2', '80', '2', '8', '2', '4', '3', '2', '1', '2']\n",
      "['', '20', '33', 'No', 'Travel_Rarely', '922', 'Research & Development', '1', 'Doctoral Degree', 'Medical', '1', '612', '1', 'Female', '95', '4', '4', 'Research Director', '3', 'Divorced', '16184', '22578', '4', 'Y', 'No', '19', '3', '3', '80', '1', '10', '2', '3', '6', '1', '0', '5']\n",
      "['', '104', '31', 'No', 'Travel_Rarely', '688', 'Sales', '7', \"Bachelor's Degree\", 'Life Sciences', '1', '613', '3', 'Male', '44', '2', '3', 'Manager', '4', 'Divorced', '11557', '25291', '9', 'Y', 'No', '21', '4', '3', '80', '1', '10', '3', '2', '5', '4', '0', '1']\n",
      "['3/25/2022 12:00:00 AM', '62', '18', 'Yes', 'Travel_Frequently', '1306', 'Sales', '5', \"Bachelor's Degree\", 'Marketing', '1', '614', '2', 'Male', '69', '3', '1', 'Sales Representative', '2', 'Single', '1878', '8059', '1', 'Y', 'Yes', '14', '3', '4', '80', '0', '0', '3', '3', '0', '0', '0', '0']\n",
      "['', '150', '40', 'No', 'Non-Travel', '1094', 'Sales', '28', \"Bachelor's Degree\", 'Other', '1', '615', '3', 'Male', '58', '1', '3', 'Sales Executive', '1', 'Divorced', '10932', '11373', '3', 'Y', 'No', '15', '3', '3', '80', '1', '20', '2', '3', '1', '0', '0', '1']\n",
      "['', '20', '41', 'No', 'Non-Travel', '509', 'Research & Development', '2', \"Master's Degree\", 'Other', '1', '616', '1', 'Female', '62', '2', '2', 'Healthcare Representative', '3', 'Single', '6811', '2112', '2', 'Y', 'Yes', '17', '3', '1', '80', '0', '10', '3', '3', '8', '7', '0', '7']\n",
      "['', '216', '26', 'No', 'Travel_Rarely', '775', 'Sales', '29', 'Associates Degree', 'Medical', '1', '618', '1', 'Male', '45', '3', '2', 'Sales Executive', '3', 'Divorced', '4306', '4267', '5', 'Y', 'No', '12', '3', '1', '80', '2', '8', '5', '3', '0', '0', '0', '0']\n",
      "['', '20', '35', 'No', 'Travel_Rarely', '195', 'Sales', '1', \"Bachelor's Degree\", 'Medical', '1', '620', '1', 'Female', '80', '3', '2', 'Sales Executive', '3', 'Single', '4859', '6698', '1', 'Y', 'No', '16', '3', '4', '80', '0', '5', '3', '3', '5', '4', '0', '3']\n",
      "['', '286', '34', 'No', 'Travel_Rarely', '258', 'Sales', '21', \"Master's Degree\", 'Life Sciences', '1', '621', '4', 'Male', '74', '4', '2', 'Sales Executive', '4', 'Single', '5337', '19921', '1', 'Y', 'No', '12', '3', '4', '80', '0', '10', '3', '3', '10', '7', '5', '7']\n",
      "['11/9/2021 12:00:00 AM', '198.5', '26', 'Yes', 'Travel_Rarely', '471', 'Research & Development', '24', \"Bachelor's Degree\", 'Technical Degree', '1', '622', '3', 'Male', '66', '1', '1', 'Laboratory Technician', '4', 'Single', '2340', '23213', '1', 'Y', 'Yes', '18', '3', '2', '80', '0', '1', '3', '1', '1', '0', '0', '0']\n",
      "['', '29', '37', 'No', 'Travel_Rarely', '799', 'Research & Development', '1', \"Bachelor's Degree\", 'Technical Degree', '1', '623', '2', 'Female', '59', '3', '3', 'Manufacturing Director', '4', 'Single', '7491', '23848', '4', 'Y', 'No', '17', '3', '4', '80', '0', '12', '3', '4', '6', '5', '1', '2']\n",
      "['', '143', '46', 'No', 'Travel_Frequently', '1034', 'Research & Development', '18', 'High School', 'Medical', '1', '624', '1', 'Female', '86', '3', '3', 'Healthcare Representative', '3', 'Married', '10527', '8984', '5', 'Y', 'No', '11', '3', '4', '80', '0', '28', '3', '2', '2', '2', '1', '2']\n",
      "['', '39', '41', 'No', 'Travel_Rarely', '1276', 'Sales', '2', 'Doctoral Degree', 'Life Sciences', '1', '625', '2', 'Female', '91', '3', '4', 'Manager', '1', 'Married', '16595', '5626', '7', 'Y', 'No', '16', '3', '2', '80', '1', '22', '2', '3', '18', '16', '11', '8']\n",
      "['', '73', '37', 'No', 'Non-Travel', '142', 'Sales', '9', \"Master's Degree\", 'Medical', '1', '626', '1', 'Male', '69', '3', '3', 'Sales Executive', '2', 'Divorced', '8834', '24666', '1', 'Y', 'No', '13', '3', '4', '80', '1', '9', '6', '3', '9', '5', '7', '7']\n",
      "['', '109', '52', 'No', 'Travel_Rarely', '956', 'Research & Development', '6', 'Associates Degree', 'Technical Degree', '1', '630', '4', 'Male', '78', '3', '2', 'Research Scientist', '1', 'Divorced', '5577', '22087', '3', 'Y', 'Yes', '12', '3', '2', '80', '2', '18', '3', '3', '10', '9', '6', '9']\n",
      "['3/22/2022 12:00:00 AM', '65', '32', 'Yes', 'Non-Travel', '1474', 'Sales', '11', \"Master's Degree\", 'Other', '1', '631', '4', 'Male', '60', '4', '2', 'Sales Executive', '3', 'Married', '4707', '23914', '8', 'Y', 'No', '12', '3', '4', '80', '0', '6', '2', '3', '4', '2', '1', '2']\n",
      "['', '185', '24', 'No', 'Travel_Frequently', '535', 'Sales', '24', \"Bachelor's Degree\", 'Medical', '1', '632', '4', 'Male', '38', '3', '1', 'Sales Representative', '4', 'Married', '2400', '5530', '0', 'Y', 'No', '13', '3', '3', '80', '2', '3', '3', '3', '2', '2', '2', '1']\n",
      "['', '83', '38', 'No', 'Travel_Rarely', '1495', 'Research & Development', '10', \"Bachelor's Degree\", 'Medical', '1', '634', '3', 'Female', '76', '3', '2', 'Healthcare Representative', '3', 'Married', '9824', '22174', '3', 'Y', 'No', '19', '3', '3', '80', '1', '18', '4', '3', '1', '0', '0', '0']\n",
      "['', '26', '37', 'No', 'Travel_Rarely', '446', 'Research & Development', '1', \"Master's Degree\", 'Life Sciences', '1', '635', '2', 'Female', '65', '3', '2', 'Manufacturing Director', '2', 'Married', '6447', '15701', '6', 'Y', 'No', '12', '3', '2', '80', '1', '8', '2', '2', '6', '5', '4', '3']\n",
      "['', '247', '49', 'No', 'Travel_Rarely', '1245', 'Research & Development', '18', \"Master's Degree\", 'Life Sciences', '1', '638', '4', 'Male', '58', '2', '5', 'Research Director', '3', 'Divorced', '19502', '2125', '1', 'Y', 'Yes', '17', '3', '3', '80', '1', '31', '5', '3', '31', '9', '0', '9']\n",
      "['', '174', '24', 'No', 'Travel_Rarely', '691', 'Research & Development', '23', \"Bachelor's Degree\", 'Medical', '1', '639', '2', 'Male', '89', '4', '1', 'Research Scientist', '4', 'Married', '2725', '21630', '1', 'Y', 'Yes', '11', '3', '2', '80', '2', '6', '3', '3', '6', '5', '1', '4']\n",
      "['', '265', '26', 'No', 'Travel_Rarely', '703', 'Sales', '28', 'Associates Degree', 'Marketing', '1', '641', '1', 'Male', '66', '3', '2', 'Sales Executive', '2', 'Married', '6272', '7428', '1', 'Y', 'No', '20', '4', '4', '80', '2', '6', '5', '4', '5', '3', '1', '4']\n",
      "['', '98', '24', 'No', 'Travel_Rarely', '823', 'Research & Development', '17', 'Associates Degree', 'Other', '1', '643', '4', 'Male', '94', '2', '1', 'Laboratory Technician', '2', 'Married', '2127', '9100', '1', 'Y', 'No', '21', '4', '4', '80', '1', '1', '2', '3', '1', '0', '0', '0']\n",
      "['', '38', '50', 'No', 'Travel_Frequently', '1246', 'Human Resources', '3', \"Bachelor's Degree\", 'Medical', '1', '644', '1', 'Male', '99', '3', '5', 'Manager', '2', 'Married', '18200', '7999', '1', 'Y', 'No', '11', '3', '3', '80', '1', '32', '2', '3', '32', '5', '10', '7']\n",
      "['', '104', '25', 'No', 'Travel_Rarely', '622', 'Sales', '13', 'High School', 'Medical', '1', '645', '2', 'Male', '40', '3', '1', 'Sales Representative', '3', 'Married', '2096', '26376', '1', 'Y', 'No', '11', '3', '3', '80', '0', '7', '1', '3', '7', '4', '0', '6']\n",
      "['2/7/2022 12:00:00 AM', '108', '24', 'Yes', 'Travel_Frequently', '1287', 'Research & Development', '7', \"Bachelor's Degree\", 'Life Sciences', '1', '647', '1', 'Female', '55', '3', '1', 'Laboratory Technician', '3', 'Married', '2886', '14168', '1', 'Y', 'Yes', '16', '3', '4', '80', '1', '6', '4', '3', '6', '3', '1', '2']\n",
      "['12/4/2021 12:00:00 AM', '173', '30', 'Yes', 'Travel_Frequently', '448', 'Sales', '12', \"Master's Degree\", 'Life Sciences', '1', '648', '2', 'Male', '74', '2', '1', 'Sales Representative', '1', 'Married', '2033', '14470', '1', 'Y', 'No', '18', '3', '3', '80', '1', '1', '2', '4', '1', '0', '0', '0']\n",
      "['', '26', '34', 'No', 'Travel_Rarely', '254', 'Research & Development', '1', 'Associates Degree', 'Life Sciences', '1', '649', '2', 'Male', '83', '2', '1', 'Research Scientist', '4', 'Married', '3622', '22794', '1', 'Y', 'Yes', '13', '3', '4', '80', '1', '6', '3', '3', '6', '5', '1', '3']\n",
      "['2/11/2022 12:00:00 AM', '104', '31', 'Yes', 'Travel_Rarely', '1365', 'Sales', '13', \"Master's Degree\", 'Medical', '1', '650', '2', 'Male', '46', '3', '2', 'Sales Executive', '1', 'Divorced', '4233', '11512', '2', 'Y', 'No', '17', '3', '3', '80', '0', '9', '2', '1', '3', '1', '1', '2']\n",
      "['', '138', '35', 'No', 'Travel_Rarely', '538', 'Research & Development', '25', 'Associates Degree', 'Other', '1', '652', '1', 'Male', '54', '2', '2', 'Laboratory Technician', '4', 'Single', '3681', '14004', '4', 'Y', 'No', '14', '3', '4', '80', '0', '9', '3', '3', '3', '2', '0', '2']\n",
      "['', '55', '31', 'No', 'Travel_Rarely', '525', 'Sales', '6', \"Master's Degree\", 'Medical', '1', '653', '1', 'Male', '66', '4', '2', 'Sales Executive', '4', 'Divorced', '5460', '6219', '4', 'Y', 'No', '22', '4', '4', '80', '2', '13', '4', '4', '7', '7', '5', '7']\n",
      "['', '55', '27', 'No', 'Travel_Rarely', '798', 'Research & Development', '6', \"Master's Degree\", 'Medical', '1', '655', '1', 'Female', '66', '2', '1', 'Research Scientist', '3', 'Divorced', '2187', '5013', '0', 'Y', 'No', '12', '3', '3', '80', '2', '6', '5', '2', '5', '3', '0', '3']\n",
      "['', '31', '37', 'No', 'Travel_Rarely', '558', 'Sales', '2', \"Bachelor's Degree\", 'Marketing', '1', '656', '4', 'Male', '75', '3', '2', 'Sales Executive', '3', 'Married', '9602', '3010', '4', 'Y', 'Yes', '11', '3', '3', '80', '1', '17', '3', '2', '3', '0', '1', '0']\n",
      "['', '26', '20', 'No', 'Travel_Rarely', '959', 'Research & Development', '1', \"Bachelor's Degree\", 'Life Sciences', '1', '657', '4', 'Female', '83', '2', '1', 'Research Scientist', '2', 'Single', '2836', '11757', '1', 'Y', 'No', '13', '3', '4', '80', '0', '1', '0', '4', '1', '0', '0', '0']\n",
      "['', '39', '42', 'No', 'Travel_Rarely', '622', 'Research & Development', '2', \"Master's Degree\", 'Life Sciences', '1', '659', '3', 'Female', '81', '3', '2', 'Healthcare Representative', '4', 'Married', '4089', '5718', '1', 'Y', 'No', '13', '3', '2', '80', '2', '10', '4', '3', '10', '2', '2', '2']\n",
      "['', '43', '43', 'No', 'Travel_Rarely', '782', 'Research & Development', '6', \"Master's Degree\", 'Other', '1', '661', '2', 'Male', '50', '2', '4', 'Research Director', '4', 'Divorced', '16627', '2671', '4', 'Y', 'Yes', '14', '3', '3', '80', '1', '21', '3', '2', '1', '0', '0', '0']\n",
      "['', '26', '38', 'No', 'Travel_Rarely', '362', 'Research & Development', '1', 'High School', 'Life Sciences', '1', '662', '3', 'Female', '43', '3', '1', 'Research Scientist', '1', 'Single', '2619', '14561', '3', 'Y', 'No', '17', '3', '4', '80', '0', '8', '3', '2', '0', '0', '0', '0']\n",
      "['', '80', '43', 'No', 'Travel_Frequently', '1001', 'Research & Development', '9', 'Doctoral Degree', 'Medical', '1', '663', '4', 'Male', '72', '3', '2', 'Laboratory Technician', '3', 'Divorced', '5679', '19627', '3', 'Y', 'Yes', '13', '3', '2', '80', '1', '10', '3', '3', '8', '7', '4', '7']\n",
      "['', '26', '48', 'No', 'Travel_Rarely', '1236', 'Research & Development', '1', \"Master's Degree\", 'Life Sciences', '1', '664', '4', 'Female', '40', '2', '4', 'Manager', '1', 'Married', '15402', '17997', '7', 'Y', 'No', '11', '3', '1', '80', '1', '21', '3', '1', '3', '2', '0', '2']\n",
      "['', '26', '44', 'No', 'Travel_Rarely', '1112', 'Human Resources', '1', \"Master's Degree\", 'Life Sciences', '1', '665', '1', 'Female', '50', '2', '2', 'Human Resources', '3', 'Single', '5985', '26894', '4', 'Y', 'No', '11', '3', '2', '80', '0', '10', '1', '4', '2', '2', '0', '2']\n",
      "['', '237', '34', 'No', 'Travel_Rarely', '204', 'Sales', '14', \"Bachelor's Degree\", 'Technical Degree', '1', '666', '3', 'Female', '31', '3', '1', 'Sales Representative', '3', 'Divorced', '2579', '2912', '1', 'Y', 'Yes', '18', '3', '4', '80', '2', '8', '3', '3', '8', '2', '0', '6']\n",
      "['4/25/2022 12:00:00 AM', '31', '27', 'Yes', 'Travel_Rarely', '1420', 'Sales', '2', 'High School', 'Marketing', '1', '667', '3', 'Male', '85', '3', '1', 'Sales Representative', '1', 'Divorced', '3041', '16346', '0', 'Y', 'No', '11', '3', '2', '80', '1', '5', '3', '3', '4', '3', '0', '2']\n",
      "['', '365', '21', 'No', 'Travel_Rarely', '1343', 'Sales', '22', 'High School', 'Technical Degree', '1', '669', '3', 'Male', '49', '3', '1', 'Sales Representative', '3', 'Single', '3447', '24444', '1', 'Y', 'No', '11', '3', '3', '80', '0', '3', '2', '3', '3', '2', '1', '2']\n",
      "['', '28', '44', 'No', 'Travel_Rarely', '1315', 'Research & Development', '3', \"Master's Degree\", 'Other', '1', '671', '4', 'Male', '35', '3', '5', 'Manager', '4', 'Married', '19513', '9358', '4', 'Y', 'Yes', '12', '3', '1', '80', '1', '26', '2', '4', '2', '2', '0', '1']\n",
      "['', '55', '22', 'No', 'Travel_Rarely', '604', 'Research & Development', '6', 'High School', 'Medical', '1', '675', '1', 'Male', '69', '3', '1', 'Research Scientist', '3', 'Married', '2773', '12145', '0', 'Y', 'No', '20', '4', '4', '80', '0', '3', '3', '3', '2', '2', '2', '2']\n",
      "['', '85', '33', 'No', 'Travel_Rarely', '1216', 'Sales', '8', \"Master's Degree\", 'Marketing', '1', '677', '3', 'Male', '39', '3', '2', 'Sales Executive', '3', 'Divorced', '7104', '20431', '0', 'Y', 'No', '12', '3', '4', '80', '0', '6', '3', '3', '5', '0', '1', '2']\n",
      "['', '130', '32', 'No', 'Travel_Rarely', '646', 'Research & Development', '9', \"Master's Degree\", 'Life Sciences', '1', '679', '1', 'Female', '92', '3', '2', 'Research Scientist', '4', 'Married', '6322', '18089', '1', 'Y', 'Yes', '12', '3', '4', '80', '1', '6', '2', '2', '6', '4', '0', '5']\n",
      "['', '38', '30', 'No', 'Travel_Frequently', '160', 'Research & Development', '3', \"Bachelor's Degree\", 'Medical', '1', '680', '3', 'Female', '71', '3', '1', 'Research Scientist', '3', 'Divorced', '2083', '22653', '1', 'Y', 'No', '20', '4', '3', '80', '1', '1', '2', '3', '1', '0', '0', '0']\n",
      "['', '20', '53', 'No', 'Travel_Rarely', '238', 'Sales', '1', 'High School', 'Medical', '1', '682', '4', 'Female', '34', '3', '2', 'Sales Executive', '1', 'Single', '8381', '7507', '7', 'Y', 'No', '20', '4', '4', '80', '0', '18', '2', '4', '14', '7', '8', '10']\n",
      "['', '26', '34', 'No', 'Travel_Rarely', '1397', 'Research & Development', '1', 'Doctoral Degree', 'Life Sciences', '1', '683', '2', 'Male', '42', '3', '1', 'Research Scientist', '4', 'Married', '2691', '7660', '1', 'Y', 'No', '12', '3', '4', '80', '1', '10', '4', '2', '10', '9', '8', '8']\n",
      "['6/5/2021 12:00:00 AM', '355', '45', 'Yes', 'Travel_Frequently', '306', 'Sales', '26', \"Master's Degree\", 'Life Sciences', '1', '684', '1', 'Female', '100', '3', '2', 'Sales Executive', '1', 'Married', '4286', '5630', '2', 'Y', 'No', '14', '3', '4', '80', '2', '5', '4', '3', '1', '1', '0', '0']\n",
      "['', '91', '26', 'No', 'Travel_Rarely', '991', 'Research & Development', '6', \"Bachelor's Degree\", 'Life Sciences', '1', '686', '3', 'Female', '71', '3', '1', 'Laboratory Technician', '4', 'Married', '2659', '17759', '1', 'Y', 'Yes', '13', '3', '3', '80', '1', '3', '2', '3', '3', '2', '0', '2']\n",
      "['', '28', '37', 'No', 'Travel_Rarely', '482', 'Research & Development', '3', \"Bachelor's Degree\", 'Other', '1', '689', '3', 'Male', '36', '3', '3', 'Manufacturing Director', '3', 'Married', '9434', '9606', '1', 'Y', 'No', '15', '3', '3', '80', '1', '10', '2', '3', '10', '7', '7', '8']\n",
      "['', '34', '29', 'No', 'Travel_Rarely', '1176', 'Sales', '3', 'Associates Degree', 'Medical', '1', '690', '2', 'Female', '62', '3', '2', 'Sales Executive', '3', 'Married', '5561', '3487', '1', 'Y', 'No', '14', '3', '1', '80', '1', '6', '5', '2', '6', '0', '1', '2']\n",
      "['', '91', '35', 'No', 'Travel_Rarely', '1017', 'Research & Development', '6', \"Master's Degree\", 'Life Sciences', '1', '691', '2', 'Male', '82', '1', '2', 'Research Scientist', '4', 'Single', '6646', '19368', '1', 'Y', 'No', '13', '3', '2', '80', '0', '17', '3', '3', '17', '11', '11', '8']\n",
      "['', '95', '33', 'No', 'Travel_Frequently', '1296', 'Research & Development', '6', \"Bachelor's Degree\", 'Life Sciences', '1', '692', '3', 'Male', '30', '3', '2', 'Healthcare Representative', '4', 'Divorced', '7725', '5335', '3', 'Y', 'No', '23', '4', '3', '80', '1', '15', '2', '1', '13', '11', '4', '7']\n",
      "['', '146', '54', 'No', 'Travel_Rarely', '397', 'Human Resources', '19', \"Master's Degree\", 'Medical', '1', '698', '3', 'Male', '88', '3', '3', 'Human Resources', '2', 'Married', '10725', '6729', '2', 'Y', 'No', '15', '3', '3', '80', '1', '16', '1', '4', '9', '7', '7', '1']\n",
      "['', '76', '36', 'No', 'Travel_Rarely', '913', 'Research & Development', '9', 'Associates Degree', 'Medical', '1', '699', '2', 'Male', '48', '2', '2', 'Manufacturing Director', '2', 'Divorced', '8847', '13934', '2', 'Y', 'Yes', '11', '3', '3', '80', '1', '13', '2', '3', '3', '2', '0', '2']\n",
      "['', '34', '27', 'No', 'Travel_Rarely', '1115', 'Research & Development', '3', \"Master's Degree\", 'Medical', '1', '700', '1', 'Male', '54', '2', '1', 'Research Scientist', '4', 'Single', '2045', '15174', '0', 'Y', 'No', '13', '3', '4', '80', '0', '5', '0', '3', '4', '2', '1', '1']\n",
      "['3/4/2022 12:00:00 AM', '83', '20', 'Yes', 'Travel_Rarely', '1362', 'Research & Development', '10', 'High School', 'Medical', '1', '701', '4', 'Male', '32', '3', '1', 'Research Scientist', '3', 'Single', '1009', '26999', '1', 'Y', 'Yes', '11', '3', '4', '80', '0', '1', '5', '3', '1', '0', '1', '1']\n",
      "['3/31/2022 12:00:00 AM', '56', '33', 'Yes', 'Travel_Frequently', '1076', 'Research & Development', '3', \"Bachelor's Degree\", 'Life Sciences', '1', '702', '1', 'Male', '70', '3', '1', 'Research Scientist', '1', 'Single', '3348', '3164', '1', 'Y', 'Yes', '11', '3', '1', '80', '0', '10', '3', '3', '10', '8', '9', '7']\n",
      "['', '49', '35', 'No', 'Non-Travel', '727', 'Research & Development', '3', \"Bachelor's Degree\", 'Life Sciences', '1', '704', '3', 'Male', '41', '2', '1', 'Laboratory Technician', '3', 'Married', '1281', '16900', '1', 'Y', 'No', '18', '3', '3', '80', '2', '1', '3', '3', '1', '0', '0', '0']\n",
      "['', '41', '23', 'No', 'Travel_Rarely', '885', 'Research & Development', '4', \"Bachelor's Degree\", 'Medical', '1', '705', '1', 'Male', '58', '4', '1', 'Research Scientist', '1', 'Married', '2819', '8544', '2', 'Y', 'No', '16', '3', '1', '80', '1', '5', '3', '4', '3', '2', '0', '2']\n",
      "['', '117', '25', 'No', 'Travel_Rarely', '810', 'Sales', '8', \"Bachelor's Degree\", 'Life Sciences', '1', '707', '4', 'Male', '57', '4', '2', 'Sales Executive', '2', 'Married', '4851', '15678', '0', 'Y', 'No', '22', '4', '3', '80', '1', '4', '4', '3', '3', '2', '1', '2']\n",
      "['', '76', '38', 'No', 'Travel_Rarely', '243', 'Sales', '7', \"Master's Degree\", 'Marketing', '1', '709', '4', 'Female', '46', '2', '2', 'Sales Executive', '4', 'Single', '4028', '7791', '0', 'Y', 'No', '20', '4', '1', '80', '0', '8', '2', '3', '7', '7', '0', '5']\n",
      "['', '30', '29', 'No', 'Travel_Frequently', '806', 'Research & Development', '1', \"Master's Degree\", 'Life Sciences', '1', '710', '2', 'Male', '76', '1', '1', 'Research Scientist', '4', 'Divorced', '2720', '18959', '1', 'Y', 'No', '18', '3', '4', '80', '1', '10', '5', '3', '10', '7', '2', '8']\n",
      "['', '31', '48', 'No', 'Travel_Rarely', '817', 'Sales', '2', 'High School', 'Marketing', '1', '712', '2', 'Male', '56', '4', '2', 'Sales Executive', '2', 'Married', '8120', '18597', '3', 'Y', 'No', '12', '3', '4', '80', '0', '12', '3', '3', '2', '2', '2', '2']\n",
      "['', '38', '27', 'No', 'Travel_Frequently', '1410', 'Sales', '3', 'High School', 'Medical', '1', '714', '4', 'Female', '71', '4', '2', 'Sales Executive', '4', 'Divorced', '4647', '16673', '1', 'Y', 'Yes', '20', '4', '2', '80', '2', '6', '3', '3', '6', '5', '0', '4']\n",
      "['', '143', '37', 'No', 'Travel_Rarely', '1225', 'Research & Development', '10', 'Associates Degree', 'Life Sciences', '1', '715', '4', 'Male', '80', '4', '1', 'Research Scientist', '4', 'Single', '4680', '15232', '3', 'Y', 'No', '17', '3', '1', '80', '0', '4', '2', '3', '1', '0', '0', '0']\n",
      "['', '209', '50', 'No', 'Travel_Rarely', '1207', 'Research & Development', '28', 'High School', 'Medical', '1', '716', '4', 'Male', '74', '4', '1', 'Laboratory Technician', '3', 'Married', '3221', '3297', '1', 'Y', 'Yes', '11', '3', '3', '80', '3', '20', '3', '3', '20', '8', '3', '8']\n",
      "['', '76', '34', 'No', 'Travel_Rarely', '1442', 'Research & Development', '9', \"Bachelor's Degree\", 'Medical', '1', '717', '4', 'Female', '46', '2', '3', 'Healthcare Representative', '2', 'Single', '8621', '17654', '1', 'Y', 'No', '14', '3', '2', '80', '0', '9', '3', '4', '8', '7', '7', '7']\n",
      "['4/4/2022 12:00:00 AM', '52', '24', 'Yes', 'Travel_Rarely', '693', 'Sales', '3', 'Associates Degree', 'Life Sciences', '1', '720', '1', 'Female', '65', '3', '2', 'Sales Executive', '3', 'Single', '4577', '24785', '9', 'Y', 'No', '14', '3', '1', '80', '0', '4', '3', '3', '2', '2', '2', '0']\n",
      "['', '45', '39', 'No', 'Travel_Rarely', '408', 'Research & Development', '2', \"Master's Degree\", 'Technical Degree', '1', '721', '4', 'Female', '80', '2', '2', 'Healthcare Representative', '3', 'Single', '4553', '20978', '1', 'Y', 'No', '11', '3', '1', '80', '0', '20', '4', '3', '20', '7', '11', '10']\n",
      "['', '103', '32', 'No', 'Travel_Rarely', '929', 'Sales', '10', \"Bachelor's Degree\", 'Marketing', '1', '722', '4', 'Male', '55', '3', '2', 'Sales Executive', '4', 'Single', '5396', '21703', '1', 'Y', 'No', '12', '3', '4', '80', '0', '10', '2', '2', '10', '7', '0', '8']\n",
      "['1/1/2022 12:00:00 AM', '145', '50', 'Yes', 'Travel_Frequently', '562', 'Sales', '8', 'Associates Degree', 'Technical Degree', '1', '723', '2', 'Male', '50', '3', '2', 'Sales Executive', '3', 'Married', '6796', '23452', '3', 'Y', 'Yes', '14', '3', '1', '80', '1', '18', '4', '3', '4', '3', '1', '3']\n",
      "['', '26', '38', 'No', 'Travel_Rarely', '827', 'Research & Development', '1', \"Master's Degree\", 'Life Sciences', '1', '724', '2', 'Female', '33', '4', '2', 'Healthcare Representative', '4', 'Single', '7625', '19383', '0', 'Y', 'No', '13', '3', '3', '80', '0', '10', '4', '2', '9', '7', '1', '8']\n",
      "['', '26', '27', 'No', 'Travel_Rarely', '608', 'Research & Development', '1', 'Associates Degree', 'Life Sciences', '1', '725', '3', 'Female', '68', '3', '3', 'Manufacturing Director', '1', 'Married', '7412', '6009', '1', 'Y', 'No', '11', '3', '4', '80', '0', '9', '3', '3', '9', '7', '0', '7']\n",
      "['', '52', '32', 'No', 'Travel_Rarely', '1018', 'Research & Development', '3', 'Associates Degree', 'Life Sciences', '1', '727', '3', 'Female', '39', '3', '3', 'Research Director', '4', 'Single', '11159', '19373', '3', 'Y', 'No', '15', '3', '4', '80', '0', '10', '6', '3', '7', '7', '7', '7']\n",
      "['', '139', '47', 'No', 'Travel_Rarely', '703', 'Sales', '14', \"Master's Degree\", 'Marketing', '1', '728', '4', 'Male', '42', '3', '2', 'Sales Executive', '1', 'Single', '4960', '11825', '2', 'Y', 'No', '12', '3', '4', '80', '0', '20', '2', '3', '7', '7', '1', '7']\n",
      "['', '82', '40', 'No', 'Travel_Frequently', '580', 'Sales', '5', \"Master's Degree\", 'Life Sciences', '1', '729', '4', 'Male', '48', '2', '3', 'Sales Executive', '1', 'Married', '10475', '23772', '5', 'Y', 'Yes', '21', '4', '3', '80', '1', '20', '2', '3', '18', '13', '1', '12']\n",
      "['', '104', '53', 'No', 'Travel_Rarely', '970', 'Research & Development', '7', \"Bachelor's Degree\", 'Life Sciences', '1', '730', '3', 'Male', '59', '4', '4', 'Research Director', '3', 'Married', '14814', '13514', '3', 'Y', 'No', '19', '3', '3', '80', '0', '32', '3', '3', '5', '1', '1', '3']\n",
      "['', '163', '41', 'No', 'Travel_Rarely', '427', 'Human Resources', '10', \"Master's Degree\", 'Human Resources', '1', '731', '2', 'Male', '73', '2', '5', 'Manager', '4', 'Divorced', '19141', '8861', '3', 'Y', 'No', '15', '3', '2', '80', '3', '23', '2', '2', '21', '6', '12', '6']\n",
      "['', '157', '60', 'No', 'Travel_Rarely', '1179', 'Sales', '16', \"Master's Degree\", 'Marketing', '1', '732', '1', 'Male', '84', '3', '2', 'Sales Executive', '1', 'Single', '5405', '11924', '8', 'Y', 'No', '14', '3', '4', '80', '0', '10', '1', '3', '2', '2', '2', '2']\n",
      "['', '147', '27', 'No', 'Travel_Frequently', '294', 'Research & Development', '10', 'Associates Degree', 'Life Sciences', '1', '733', '4', 'Male', '32', '3', '3', 'Manufacturing Director', '1', 'Divorced', '8793', '4809', '1', 'Y', 'No', '21', '4', '3', '80', '2', '9', '4', '2', '9', '7', '1', '7']\n",
      "['', '28', '41', 'No', 'Travel_Rarely', '314', 'Human Resources', '1', \"Bachelor's Degree\", 'Human Resources', '1', '734', '4', 'Male', '59', '2', '5', 'Manager', '3', 'Married', '19189', '19562', '1', 'Y', 'No', '12', '3', '2', '80', '1', '22', '3', '3', '22', '7', '2', '10']\n",
      "['', '85', '50', 'No', 'Travel_Rarely', '316', 'Sales', '8', \"Master's Degree\", 'Marketing', '1', '738', '4', 'Male', '54', '3', '1', 'Sales Representative', '2', 'Married', '3875', '9983', '7', 'Y', 'No', '15', '3', '4', '80', '1', '4', '2', '3', '2', '2', '2', '2']\n",
      "['4/30/2022 12:00:00 AM', '26', '28', 'Yes', 'Travel_Rarely', '654', 'Research & Development', '1', 'Associates Degree', 'Life Sciences', '1', '741', '1', 'Female', '67', '1', '1', 'Research Scientist', '2', 'Single', '2216', '3872', '7', 'Y', 'Yes', '13', '3', '4', '80', '0', '10', '4', '3', '7', '7', '3', '7']\n",
      "['', '114', '36', 'No', 'Non-Travel', '427', 'Research & Development', '8', \"Bachelor's Degree\", 'Life Sciences', '1', '742', '1', 'Female', '63', '4', '3', 'Research Director', '1', 'Married', '11713', '20335', '9', 'Y', 'No', '14', '3', '1', '80', '1', '10', '2', '3', '8', '7', '0', '5']\n",
      "['', '26', '38', 'No', 'Travel_Rarely', '168', 'Research & Development', '1', \"Bachelor's Degree\", 'Life Sciences', '1', '743', '3', 'Female', '81', '3', '3', 'Manufacturing Director', '3', 'Single', '7861', '15397', '4', 'Y', 'Yes', '14', '3', '4', '80', '0', '10', '4', '4', '1', '0', '0', '0']\n",
      "['', '178', '44', 'No', 'Non-Travel', '381', 'Research & Development', '24', \"Bachelor's Degree\", 'Medical', '1', '744', '1', 'Male', '49', '1', '1', 'Laboratory Technician', '3', 'Single', '3708', '2104', '2', 'Y', 'No', '14', '3', '3', '80', '0', '9', '5', '3', '5', '2', '1', '4']\n",
      "['', '38', '47', 'No', 'Travel_Frequently', '217', 'Sales', '3', \"Bachelor's Degree\", 'Medical', '1', '746', '4', 'Female', '49', '3', '4', 'Sales Executive', '3', 'Divorced', '13770', '10225', '9', 'Y', 'Yes', '12', '3', '4', '80', '2', '28', '2', '2', '22', '2', '11', '13']\n",
      "['', '256', '30', 'No', 'Travel_Rarely', '501', 'Sales', '27', 'Doctoral Degree', 'Marketing', '1', '747', '3', 'Male', '99', '3', '2', 'Sales Executive', '4', 'Divorced', '5304', '25275', '7', 'Y', 'No', '23', '4', '4', '80', '1', '10', '2', '2', '8', '7', '7', '7']\n",
      "['', '143', '29', 'No', 'Travel_Rarely', '1396', 'Sales', '10', \"Bachelor's Degree\", 'Life Sciences', '1', '749', '3', 'Male', '99', '3', '1', 'Sales Representative', '3', 'Single', '2642', '2755', '1', 'Y', 'No', '11', '3', '3', '80', '0', '1', '6', '3', '1', '0', '0', '0']\n",
      "['12/27/2021 12:00:00 AM', '150', '42', 'Yes', 'Travel_Frequently', '933', 'Research & Development', '19', \"Bachelor's Degree\", 'Medical', '1', '752', '3', 'Male', '57', '4', '1', 'Research Scientist', '3', 'Divorced', '2759', '20366', '6', 'Y', 'Yes', '12', '3', '4', '80', '0', '7', '2', '3', '2', '2', '2', '2']\n",
      "['', '212', '43', 'No', 'Travel_Frequently', '775', 'Sales', '15', \"Bachelor's Degree\", 'Life Sciences', '1', '754', '4', 'Male', '47', '2', '2', 'Sales Executive', '4', 'Married', '6804', '23683', '3', 'Y', 'No', '18', '3', '3', '80', '1', '7', '5', '3', '2', '2', '2', '2']\n",
      "['', '69', '34', 'No', 'Travel_Rarely', '970', 'Research & Development', '8', 'Associates Degree', 'Medical', '1', '757', '2', 'Female', '96', '3', '2', 'Healthcare Representative', '3', 'Single', '6142', '7360', '3', 'Y', 'No', '11', '3', '4', '80', '0', '10', '2', '3', '5', '1', '4', '3']\n",
      "['', '76', '23', 'No', 'Travel_Rarely', '650', 'Research & Development', '9', 'High School', 'Medical', '1', '758', '2', 'Male', '37', '3', '1', 'Laboratory Technician', '1', 'Married', '2500', '4344', '1', 'Y', 'No', '14', '3', '4', '80', '1', '5', '2', '4', '4', '3', '0', '2']\n",
      "['', '58', '39', 'No', 'Travel_Rarely', '141', 'Human Resources', '3', \"Bachelor's Degree\", 'Human Resources', '1', '760', '3', 'Female', '44', '4', '2', 'Human Resources', '2', 'Married', '6389', '18767', '9', 'Y', 'No', '15', '3', '3', '80', '1', '12', '3', '1', '8', '3', '3', '6']\n",
      "['', '76', '56', 'No', 'Travel_Rarely', '832', 'Research & Development', '9', \"Bachelor's Degree\", 'Medical', '1', '762', '3', 'Male', '81', '3', '4', 'Healthcare Representative', '4', 'Married', '11103', '20420', '7', 'Y', 'No', '11', '3', '3', '80', '0', '30', '1', '2', '10', '7', '1', '1']\n",
      "['', '27', '40', 'No', 'Travel_Rarely', '804', 'Research & Development', '2', 'High School', 'Medical', '1', '763', '4', 'Female', '86', '2', '1', 'Research Scientist', '4', 'Single', '2342', '22929', '0', 'Y', 'Yes', '20', '4', '4', '80', '0', '5', '2', '2', '4', '2', '2', '3']\n",
      "['', '62', '27', 'No', 'Travel_Rarely', '975', 'Research & Development', '7', \"Bachelor's Degree\", 'Medical', '1', '764', '4', 'Female', '55', '2', '2', 'Healthcare Representative', '1', 'Single', '6811', '23398', '8', 'Y', 'No', '19', '3', '1', '80', '0', '9', '2', '1', '7', '6', '0', '7']\n",
      "['', '103', '29', 'No', 'Travel_Rarely', '1090', 'Sales', '10', \"Bachelor's Degree\", 'Marketing', '1', '766', '4', 'Male', '83', '3', '1', 'Sales Representative', '2', 'Divorced', '2297', '17967', '1', 'Y', 'No', '14', '3', '4', '80', '2', '2', '2', '3', '2', '2', '2', '2']\n",
      "['', '91', '53', 'No', 'Travel_Rarely', '346', 'Research & Development', '6', \"Bachelor's Degree\", 'Life Sciences', '1', '769', '4', 'Male', '86', '3', '2', 'Laboratory Technician', '4', 'Single', '2450', '10919', '2', 'Y', 'No', '17', '3', '4', '80', '0', '19', '4', '3', '2', '2', '2', '2']\n",
      "['', '36', '35', 'No', 'Non-Travel', '1225', 'Research & Development', '2', \"Master's Degree\", 'Life Sciences', '1', '771', '4', 'Female', '61', '3', '2', 'Healthcare Representative', '1', 'Divorced', '5093', '4761', '2', 'Y', 'No', '11', '3', '1', '80', '1', '16', '2', '4', '1', '0', '0', '0']\n",
      "['', '329', '32', 'No', 'Travel_Frequently', '430', 'Research & Development', '24', \"Master's Degree\", 'Life Sciences', '1', '772', '1', 'Male', '80', '3', '2', 'Laboratory Technician', '4', 'Married', '5309', '21146', '1', 'Y', 'No', '15', '3', '4', '80', '2', '10', '2', '3', '10', '8', '4', '7']\n",
      "['', '27', '38', 'No', 'Travel_Rarely', '268', 'Research & Development', '2', 'Doctoral Degree', 'Medical', '1', '773', '4', 'Male', '92', '3', '1', 'Research Scientist', '3', 'Married', '3057', '20471', '6', 'Y', 'Yes', '13', '3', '2', '80', '1', '6', '0', '1', '1', '0', '0', '1']\n",
      "['', '117', '34', 'No', 'Travel_Rarely', '167', 'Research & Development', '8', 'Doctoral Degree', 'Life Sciences', '1', '775', '2', 'Female', '32', '3', '2', 'Manufacturing Director', '1', 'Divorced', '5121', '4187', '3', 'Y', 'No', '14', '3', '3', '80', '1', '7', '3', '3', '0', '0', '0', '0']\n",
      "['', '40', '52', 'No', 'Travel_Rarely', '621', 'Sales', '3', \"Master's Degree\", 'Marketing', '1', '776', '3', 'Male', '31', '2', '4', 'Manager', '1', 'Married', '16856', '10084', '1', 'Y', 'No', '11', '3', '1', '80', '0', '34', '3', '4', '34', '6', '1', '16']\n",
      "['5/8/2022 12:00:00 AM', '18', '33', 'Yes', 'Travel_Rarely', '527', 'Research & Development', '1', \"Master's Degree\", 'Other', '1', '780', '4', 'Male', '63', '3', '1', 'Research Scientist', '4', 'Single', '2686', '5207', '1', 'Y', 'Yes', '13', '3', '3', '80', '0', '10', '2', '2', '10', '9', '7', '8']\n",
      "['', '195', '25', 'No', 'Travel_Rarely', '883', 'Sales', '26', 'High School', 'Medical', '1', '781', '3', 'Female', '32', '3', '2', 'Sales Executive', '4', 'Single', '6180', '22807', '1', 'Y', 'No', '23', '4', '2', '80', '0', '6', '5', '2', '6', '5', '1', '4']\n",
      "['', '45', '45', 'No', 'Travel_Rarely', '954', 'Sales', '2', 'Associates Degree', 'Technical Degree', '1', '783', '2', 'Male', '46', '1', '2', 'Sales Representative', '3', 'Single', '6632', '12388', '0', 'Y', 'No', '13', '3', '1', '80', '0', '9', '3', '3', '8', '7', '3', '1']\n",
      "['', '83', '23', 'No', 'Travel_Rarely', '310', 'Research & Development', '10', 'High School', 'Medical', '1', '784', '1', 'Male', '79', '4', '1', 'Research Scientist', '3', 'Single', '3505', '19630', '1', 'Y', 'No', '18', '3', '4', '80', '0', '2', '3', '3', '2', '2', '0', '2']\n",
      "['11/23/2021 12:00:00 AM', '184', '47', 'Yes', 'Travel_Frequently', '719', 'Sales', '27', 'Associates Degree', 'Life Sciences', '1', '785', '2', 'Female', '77', '4', '2', 'Sales Executive', '3', 'Single', '6397', '10339', '4', 'Y', 'Yes', '12', '3', '4', '80', '0', '8', '2', '3', '5', '4', '1', '3']\n",
      "['', '23', '34', 'No', 'Travel_Rarely', '304', 'Sales', '2', \"Bachelor's Degree\", 'Other', '1', '786', '4', 'Male', '60', '3', '2', 'Sales Executive', '4', 'Single', '6274', '18686', '1', 'Y', 'No', '22', '4', '3', '80', '0', '6', '5', '3', '6', '5', '1', '4']\n",
      "['4/29/2022 12:00:00 AM', '27', '55', 'Yes', 'Travel_Rarely', '725', 'Research & Development', '2', \"Bachelor's Degree\", 'Medical', '1', '787', '4', 'Male', '78', '3', '5', 'Manager', '1', 'Married', '19859', '21199', '5', 'Y', 'Yes', '13', '3', '4', '80', '1', '24', '2', '3', '5', '2', '1', '4']\n",
      "['', '114', '36', 'No', 'Non-Travel', '1434', 'Sales', '8', \"Master's Degree\", 'Life Sciences', '1', '789', '1', 'Male', '76', '2', '3', 'Sales Executive', '1', 'Single', '7587', '14229', '1', 'Y', 'No', '15', '3', '2', '80', '0', '10', '1', '3', '10', '7', '0', '9']\n",
      "['', '143', '52', 'No', 'Non-Travel', '715', 'Research & Development', '19', \"Master's Degree\", 'Medical', '1', '791', '4', 'Male', '41', '3', '1', 'Research Scientist', '4', 'Married', '4258', '26589', '0', 'Y', 'No', '18', '3', '1', '80', '1', '5', '3', '3', '4', '3', '1', '2']\n",
      "['', '30', '26', 'No', 'Travel_Frequently', '575', 'Research & Development', '1', 'Associates Degree', 'Life Sciences', '1', '792', '1', 'Female', '71', '1', '1', 'Laboratory Technician', '4', 'Divorced', '4364', '5288', '3', 'Y', 'No', '14', '3', '1', '80', '1', '5', '2', '3', '2', '2', '2', '0']\n",
      "['', '202', '29', 'No', 'Travel_Rarely', '657', 'Research & Development', '27', \"Bachelor's Degree\", 'Medical', '1', '793', '2', 'Female', '66', '3', '2', 'Healthcare Representative', '3', 'Married', '4335', '25549', '4', 'Y', 'No', '12', '3', '1', '80', '1', '11', '3', '2', '8', '7', '1', '1']\n",
      "['1/5/2022 12:00:00 AM', '141', '26', 'Yes', 'Travel_Rarely', '1146', 'Sales', '8', \"Bachelor's Degree\", 'Technical Degree', '1', '796', '4', 'Male', '38', '2', '2', 'Sales Executive', '1', 'Single', '5326', '3064', '6', 'Y', 'No', '17', '3', '3', '80', '0', '6', '2', '2', '4', '3', '1', '2']\n",
      "['', '26', '34', 'No', 'Travel_Rarely', '182', 'Research & Development', '1', \"Master's Degree\", 'Life Sciences', '1', '797', '2', 'Female', '72', '4', '1', 'Research Scientist', '4', 'Single', '3280', '13551', '2', 'Y', 'No', '16', '3', '3', '80', '0', '10', '2', '3', '4', '2', '1', '3']\n",
      "['', '146', '54', 'No', 'Travel_Rarely', '376', 'Research & Development', '19', \"Master's Degree\", 'Medical', '1', '799', '4', 'Female', '95', '3', '2', 'Manufacturing Director', '1', 'Divorced', '5485', '22670', '9', 'Y', 'Yes', '11', '3', '2', '80', '2', '9', '4', '3', '5', '3', '1', '4']\n",
      "['', '89', '27', 'No', 'Travel_Frequently', '829', 'Sales', '8', 'High School', 'Marketing', '1', '800', '3', 'Male', '84', '3', '2', 'Sales Executive', '4', 'Married', '4342', '24008', '0', 'Y', 'No', '19', '3', '2', '80', '1', '5', '3', '3', '4', '2', '1', '1']\n",
      "['', '143', '37', 'No', 'Travel_Rarely', '571', 'Research & Development', '10', 'High School', 'Life Sciences', '1', '802', '4', 'Female', '82', '3', '1', 'Research Scientist', '1', 'Divorced', '2782', '19905', '0', 'Y', 'Yes', '13', '3', '2', '80', '2', '6', '3', '2', '5', '3', '4', '3']\n",
      "['', '43', '38', 'No', 'Travel_Frequently', '240', 'Research & Development', '2', \"Master's Degree\", 'Life Sciences', '1', '803', '1', 'Female', '75', '4', '2', 'Manufacturing Director', '1', 'Single', '5980', '26085', '6', 'Y', 'Yes', '12', '3', '4', '80', '0', '17', '2', '3', '15', '7', '4', '12']\n",
      "['', '27', '34', 'No', 'Travel_Rarely', '121', 'Research & Development', '2', \"Master's Degree\", 'Medical', '1', '804', '3', 'Female', '86', '2', '1', 'Research Scientist', '1', 'Single', '4381', '7530', '1', 'Y', 'No', '11', '3', '3', '80', '0', '6', '3', '3', '6', '5', '1', '3']\n",
      "['', '117', '35', 'No', 'Travel_Rarely', '384', 'Sales', '8', \"Master's Degree\", 'Life Sciences', '1', '805', '1', 'Female', '72', '3', '1', 'Sales Representative', '4', 'Married', '2572', '20317', '1', 'Y', 'No', '16', '3', '2', '80', '1', '3', '1', '2', '3', '2', '0', '2']\n",
      "['', '26', '30', 'No', 'Travel_Rarely', '921', 'Research & Development', '1', \"Bachelor's Degree\", 'Life Sciences', '1', '806', '4', 'Male', '38', '1', '1', 'Laboratory Technician', '3', 'Married', '3833', '24375', '3', 'Y', 'No', '21', '4', '3', '80', '2', '7', '2', '3', '2', '2', '0', '2']\n",
      "['', '31', '40', 'No', 'Travel_Frequently', '791', 'Research & Development', '2', 'Associates Degree', 'Medical', '1', '807', '3', 'Female', '38', '4', '2', 'Healthcare Representative', '2', 'Married', '4244', '9931', '1', 'Y', 'No', '24', '4', '4', '80', '1', '8', '2', '3', '8', '7', '3', '7']\n",
      "['', '117', '34', 'No', 'Travel_Rarely', '1111', 'Sales', '8', 'Associates Degree', 'Life Sciences', '1', '808', '3', 'Female', '93', '3', '2', 'Sales Executive', '1', 'Married', '6500', '13305', '5', 'Y', 'No', '17', '3', '2', '80', '1', '6', '1', '3', '3', '2', '1', '2']\n",
      "['', '121', '42', 'No', 'Travel_Frequently', '570', 'Research & Development', '8', \"Bachelor's Degree\", 'Life Sciences', '1', '809', '2', 'Male', '66', '3', '5', 'Manager', '4', 'Divorced', '18430', '16225', '1', 'Y', 'No', '13', '3', '2', '80', '1', '24', '4', '2', '24', '7', '14', '9']\n",
      "['2/24/2022 12:00:00 AM', '91', '23', 'Yes', 'Travel_Rarely', '1243', 'Research & Development', '6', \"Bachelor's Degree\", 'Life Sciences', '1', '811', '3', 'Male', '63', '4', '1', 'Laboratory Technician', '1', 'Married', '1601', '3445', '1', 'Y', 'Yes', '21', '4', '3', '80', '2', '1', '2', '3', '0', '0', '0', '0']\n",
      "['', '127', '24', 'No', 'Non-Travel', '1092', 'Research & Development', '9', \"Bachelor's Degree\", 'Life Sciences', '1', '812', '3', 'Male', '60', '2', '1', 'Laboratory Technician', '2', 'Divorced', '2694', '26551', '1', 'Y', 'No', '11', '3', '3', '80', '3', '1', '4', '3', '1', '0', '0', '0']\n",
      "['', '156', '52', 'No', 'Travel_Rarely', '1325', 'Research & Development', '11', \"Master's Degree\", 'Life Sciences', '1', '813', '4', 'Female', '82', '3', '2', 'Laboratory Technician', '3', 'Married', '3149', '21821', '8', 'Y', 'No', '20', '4', '2', '80', '1', '9', '3', '3', '5', '2', '1', '4']\n",
      "['', '27', '50', 'No', 'Travel_Rarely', '691', 'Research & Development', '2', \"Bachelor's Degree\", 'Medical', '1', '815', '3', 'Male', '64', '3', '4', 'Research Director', '3', 'Married', '17639', '6881', '5', 'Y', 'No', '16', '3', '4', '80', '0', '30', '3', '3', '4', '3', '0', '3']\n",
      "['4/30/2022 12:00:00 AM', '26', '29', 'Yes', 'Travel_Rarely', '805', 'Research & Development', '1', 'Associates Degree', 'Life Sciences', '1', '816', '2', 'Female', '36', '2', '1', 'Laboratory Technician', '1', 'Married', '2319', '6689', '1', 'Y', 'Yes', '11', '3', '4', '80', '1', '1', '1', '3', '1', '0', '0', '0']\n",
      "['', '62', '33', 'No', 'Travel_Rarely', '213', 'Research & Development', '7', \"Bachelor's Degree\", 'Medical', '1', '817', '3', 'Male', '49', '3', '3', 'Research Director', '3', 'Married', '11691', '25995', '0', 'Y', 'No', '11', '3', '4', '80', '0', '14', '3', '4', '13', '9', '3', '7']\n",
      "['12/20/2021 12:00:00 AM', '157', '33', 'Yes', 'Travel_Rarely', '118', 'Sales', '16', \"Bachelor's Degree\", 'Marketing', '1', '819', '1', 'Female', '69', '3', '2', 'Sales Executive', '1', 'Single', '5324', '26507', '5', 'Y', 'No', '15', '3', '3', '80', '0', '6', '3', '3', '3', '2', '0', '2']\n",
      "['', '23', '47', 'No', 'Travel_Rarely', '202', 'Research & Development', '2', 'Associates Degree', 'Other', '1', '820', '3', 'Female', '33', '3', '4', 'Manager', '4', 'Married', '16752', '12982', '1', 'Y', 'Yes', '11', '3', '3', '80', '1', '26', '3', '2', '26', '14', '3', '0']\n",
      "['', '18', '36', 'No', 'Travel_Rarely', '676', 'Research & Development', '1', \"Bachelor's Degree\", 'Other', '1', '823', '3', 'Female', '35', '3', '2', 'Manufacturing Director', '2', 'Married', '5228', '23361', '0', 'Y', 'No', '15', '3', '1', '80', '1', '10', '2', '3', '9', '7', '0', '5']\n",
      "['', '312', '29', 'No', 'Travel_Rarely', '1252', 'Research & Development', '23', 'Associates Degree', 'Life Sciences', '1', '824', '3', 'Male', '81', '4', '1', 'Research Scientist', '3', 'Married', '2700', '23779', '1', 'Y', 'No', '24', '4', '3', '80', '1', '10', '3', '3', '10', '7', '0', '7']\n",
      "['4/17/2022 12:00:00 AM', '39', '58', 'Yes', 'Travel_Rarely', '286', 'Research & Development', '2', \"Master's Degree\", 'Life Sciences', '1', '825', '4', 'Male', '31', '3', '5', 'Research Director', '2', 'Single', '19246', '25761', '7', 'Y', 'Yes', '12', '3', '4', '80', '0', '40', '2', '3', '31', '15', '13', '8']\n",
      "['', '26', '35', 'No', 'Travel_Rarely', '1258', 'Research & Development', '1', \"Master's Degree\", 'Life Sciences', '1', '826', '4', 'Female', '40', '4', '1', 'Research Scientist', '3', 'Single', '2506', '13301', '3', 'Y', 'No', '13', '3', '3', '80', '0', '7', '0', '3', '2', '2', '2', '2']\n",
      "['', '26', '42', 'No', 'Travel_Rarely', '932', 'Research & Development', '1', 'Associates Degree', 'Life Sciences', '1', '827', '4', 'Female', '43', '2', '2', 'Manufacturing Director', '4', 'Married', '6062', '4051', '9', 'Y', 'Yes', '13', '3', '4', '80', '1', '8', '4', '3', '4', '3', '0', '2']\n",
      "['4/29/2022 12:00:00 AM', '27', '28', 'Yes', 'Travel_Rarely', '890', 'Research & Development', '2', \"Master's Degree\", 'Medical', '1', '828', '3', 'Male', '46', '3', '1', 'Research Scientist', '3', 'Single', '4382', '16374', '6', 'Y', 'No', '17', '3', '4', '80', '0', '5', '3', '2', '2', '2', '2', '1']\n",
      "['', '208', '36', 'No', 'Travel_Rarely', '1041', 'Human Resources', '13', \"Bachelor's Degree\", 'Human Resources', '1', '829', '3', 'Male', '36', '3', '1', 'Human Resources', '2', 'Married', '2143', '25527', '4', 'Y', 'No', '13', '3', '2', '80', '1', '8', '2', '3', '5', '2', '0', '4']\n",
      "['', '65', '32', 'No', 'Travel_Rarely', '859', 'Research & Development', '4', \"Bachelor's Degree\", 'Life Sciences', '1', '830', '3', 'Female', '98', '2', '2', 'Manufacturing Director', '3', 'Married', '6162', '19124', '1', 'Y', 'No', '12', '3', '3', '80', '1', '14', '3', '3', '14', '13', '6', '8']\n",
      "['', '129', '40', 'No', 'Travel_Frequently', '720', 'Research & Development', '16', \"Master's Degree\", 'Medical', '1', '832', '1', 'Male', '51', '2', '2', 'Laboratory Technician', '3', 'Single', '5094', '11983', '6', 'Y', 'No', '14', '3', '4', '80', '0', '10', '6', '3', '1', '0', '0', '0']\n",
      "['', '27', '30', 'No', 'Travel_Rarely', '946', 'Research & Development', '2', \"Bachelor's Degree\", 'Medical', '1', '833', '3', 'Female', '52', '2', '2', 'Manufacturing Director', '4', 'Single', '6877', '20234', '5', 'Y', 'Yes', '24', '4', '2', '80', '0', '12', '4', '2', '0', '0', '0', '0']\n",
      "['', '39', '45', 'No', 'Travel_Rarely', '252', 'Research & Development', '2', \"Bachelor's Degree\", 'Life Sciences', '1', '834', '2', 'Female', '95', '2', '1', 'Research Scientist', '3', 'Single', '2274', '6153', '1', 'Y', 'No', '14', '3', '4', '80', '0', '1', '3', '3', '1', '0', '0', '0']\n",
      "['', '195', '42', 'No', 'Travel_Rarely', '933', 'Research & Development', '29', \"Bachelor's Degree\", 'Life Sciences', '1', '836', '2', 'Male', '98', '3', '2', 'Manufacturing Director', '2', 'Married', '4434', '11806', '1', 'Y', 'No', '13', '3', '4', '80', '1', '10', '3', '2', '9', '8', '7', '8']\n",
      "['', '173', '38', 'No', 'Travel_Frequently', '471', 'Research & Development', '12', \"Bachelor's Degree\", 'Life Sciences', '1', '837', '1', 'Male', '45', '2', '2', 'Healthcare Representative', '1', 'Divorced', '6288', '4284', '2', 'Y', 'No', '15', '3', '3', '80', '1', '13', '3', '2', '4', '3', '1', '2']\n",
      "['', '225', '34', 'No', 'Travel_Frequently', '702', 'Research & Development', '16', \"Master's Degree\", 'Life Sciences', '1', '838', '3', 'Female', '100', '2', '1', 'Research Scientist', '4', 'Single', '2553', '8306', '1', 'Y', 'No', '16', '3', '3', '80', '0', '6', '3', '3', '5', '2', '1', '3']\n",
      "['2/3/2022 12:00:00 AM', '112', '49', 'Yes', 'Travel_Rarely', '1184', 'Sales', '11', \"Bachelor's Degree\", 'Marketing', '1', '840', '3', 'Female', '43', '3', '3', 'Sales Executive', '4', 'Married', '7654', '5860', '1', 'Y', 'No', '18', '3', '1', '80', '2', '9', '3', '4', '9', '8', '7', '7']\n",
      "['4/29/2022 12:00:00 AM', '27', '55', 'Yes', 'Travel_Rarely', '436', 'Sales', '2', 'High School', 'Medical', '1', '842', '3', 'Male', '37', '3', '2', 'Sales Executive', '4', 'Single', '5160', '21519', '4', 'Y', 'No', '16', '3', '3', '80', '0', '12', '3', '2', '9', '7', '7', '3']\n",
      "['', '195', '43', 'No', 'Travel_Rarely', '589', 'Research & Development', '14', 'Associates Degree', 'Life Sciences', '1', '843', '2', 'Male', '94', '3', '4', 'Research Director', '1', 'Married', '17159', '5200', '6', 'Y', 'No', '24', '4', '3', '80', '1', '22', '3', '3', '4', '1', '1', '0']\n",
      "['', '93', '27', 'No', 'Travel_Rarely', '269', 'Research & Development', '5', 'High School', 'Technical Degree', '1', '844', '3', 'Male', '42', '2', '3', 'Research Director', '4', 'Divorced', '12808', '8842', '1', 'Y', 'Yes', '16', '3', '2', '80', '1', '9', '3', '3', '9', '8', '0', '8']\n",
      "['', '48', '35', 'No', 'Travel_Rarely', '950', 'Research & Development', '7', \"Bachelor's Degree\", 'Other', '1', '845', '3', 'Male', '59', '3', '3', 'Manufacturing Director', '3', 'Single', '10221', '18869', '3', 'Y', 'No', '21', '4', '2', '80', '0', '17', '3', '4', '8', '5', '1', '6']\n",
      "['', '31', '28', 'No', 'Travel_Rarely', '760', 'Sales', '2', \"Master's Degree\", 'Marketing', '1', '846', '2', 'Female', '81', '3', '2', 'Sales Executive', '2', 'Married', '4779', '3698', '1', 'Y', 'Yes', '20', '4', '1', '80', '0', '8', '2', '3', '8', '7', '7', '5']\n",
      "['', '58', '34', 'No', 'Travel_Rarely', '829', 'Human Resources', '3', 'Associates Degree', 'Human Resources', '1', '847', '3', 'Male', '88', '3', '1', 'Human Resources', '4', 'Married', '3737', '2243', '0', 'Y', 'No', '19', '3', '3', '80', '1', '4', '1', '1', '3', '2', '0', '2']\n",
      "['4/4/2022 12:00:00 AM', '52', '26', 'Yes', 'Travel_Frequently', '887', 'Research & Development', '5', 'Associates Degree', 'Medical', '1', '848', '3', 'Female', '88', '2', '1', 'Research Scientist', '3', 'Married', '2366', '20898', '1', 'Y', 'Yes', '14', '3', '1', '80', '1', '8', '2', '3', '8', '7', '1', '7']\n",
      "['', '31', '27', 'No', 'Non-Travel', '443', 'Research & Development', '3', \"Bachelor's Degree\", 'Medical', '1', '850', '4', 'Male', '50', '3', '1', 'Research Scientist', '4', 'Married', '1706', '16571', '1', 'Y', 'No', '11', '3', '3', '80', '3', '0', '6', '2', '0', '0', '0', '0']\n",
      "['', '247', '51', 'No', 'Travel_Rarely', '1318', 'Sales', '26', \"Master's Degree\", 'Marketing', '1', '851', '1', 'Female', '66', '3', '4', 'Manager', '3', 'Married', '16307', '5594', '2', 'Y', 'No', '14', '3', '3', '80', '1', '29', '2', '2', '20', '6', '4', '17']\n",
      "['', '41', '44', 'No', 'Travel_Rarely', '625', 'Research & Development', '4', \"Bachelor's Degree\", 'Medical', '1', '852', '4', 'Male', '50', '3', '2', 'Healthcare Representative', '2', 'Single', '5933', '5197', '9', 'Y', 'No', '12', '3', '4', '80', '0', '10', '2', '2', '5', '2', '2', '3']\n",
      "['', '27', '25', 'No', 'Travel_Rarely', '180', 'Research & Development', '2', 'High School', 'Medical', '1', '854', '1', 'Male', '65', '4', '1', 'Research Scientist', '1', 'Single', '3424', '21632', '7', 'Y', 'No', '13', '3', '3', '80', '0', '6', '3', '2', '4', '3', '0', '1']\n",
      "['', '20', '33', 'No', 'Travel_Rarely', '586', 'Sales', '1', \"Bachelor's Degree\", 'Medical', '1', '855', '1', 'Male', '48', '4', '2', 'Sales Executive', '1', 'Divorced', '4037', '21816', '1', 'Y', 'No', '22', '4', '1', '80', '1', '9', '5', '3', '9', '8', '0', '8']\n",
      "['', '202', '35', 'No', 'Travel_Rarely', '1343', 'Research & Development', '27', 'High School', 'Medical', '1', '856', '3', 'Female', '53', '2', '1', 'Research Scientist', '1', 'Single', '2559', '17852', '1', 'Y', 'No', '11', '3', '4', '80', '0', '6', '3', '2', '6', '5', '1', '1']\n",
      "['', '26', '36', 'No', 'Travel_Rarely', '928', 'Sales', '1', 'Associates Degree', 'Life Sciences', '1', '857', '2', 'Male', '56', '3', '2', 'Sales Executive', '4', 'Married', '6201', '2823', '1', 'Y', 'Yes', '14', '3', '4', '80', '1', '18', '1', '2', '18', '14', '4', '11']\n",
      "['', '182', '32', 'No', 'Travel_Rarely', '117', 'Sales', '13', \"Master's Degree\", 'Life Sciences', '1', '859', '2', 'Male', '73', '3', '2', 'Sales Executive', '4', 'Divorced', '4403', '9250', '2', 'Y', 'No', '11', '3', '3', '80', '1', '8', '3', '2', '5', '2', '0', '3']\n",
      "['', '82', '30', 'No', 'Travel_Frequently', '1012', 'Research & Development', '5', \"Master's Degree\", 'Life Sciences', '1', '861', '2', 'Male', '75', '2', '1', 'Research Scientist', '4', 'Divorced', '3761', '2373', '9', 'Y', 'No', '12', '3', '2', '80', '1', '10', '3', '2', '5', '4', '0', '3']\n",
      "['', '76', '53', 'No', 'Travel_Rarely', '661', 'Sales', '7', 'Associates Degree', 'Marketing', '1', '862', '1', 'Female', '78', '2', '3', 'Sales Executive', '4', 'Married', '10934', '20715', '7', 'Y', 'Yes', '18', '3', '4', '80', '1', '35', '3', '3', '5', '2', '0', '4']\n",
      "['', '94', '45', 'No', 'Travel_Rarely', '930', 'Sales', '9', \"Bachelor's Degree\", 'Marketing', '1', '864', '4', 'Male', '74', '3', '3', 'Sales Executive', '1', 'Divorced', '10761', '19239', '4', 'Y', 'Yes', '12', '3', '3', '80', '1', '18', '2', '3', '5', '4', '0', '2']\n",
      "['', '69', '32', 'No', 'Travel_Rarely', '638', 'Research & Development', '8', 'Associates Degree', 'Medical', '1', '865', '3', 'Female', '91', '4', '2', 'Research Scientist', '3', 'Married', '5175', '22162', '5', 'Y', 'No', '12', '3', '3', '80', '1', '9', '3', '2', '5', '3', '1', '3']\n",
      "['', '192', '52', 'No', 'Travel_Frequently', '890', 'Research & Development', '25', \"Master's Degree\", 'Medical', '1', '867', '3', 'Female', '81', '2', '4', 'Manufacturing Director', '4', 'Married', '13826', '19028', '3', 'Y', 'No', '22', '4', '3', '80', '0', '31', '3', '3', '9', '8', '0', '0']\n",
      "['', '157', '37', 'No', 'Travel_Rarely', '342', 'Sales', '16', \"Master's Degree\", 'Marketing', '1', '868', '4', 'Male', '66', '2', '2', 'Sales Executive', '3', 'Divorced', '6334', '24558', '4', 'Y', 'No', '19', '3', '4', '80', '2', '9', '2', '3', '1', '0', '0', '0']\n",
      "['', '69', '28', 'No', 'Travel_Rarely', '1169', 'Human Resources', '8', 'Associates Degree', 'Medical', '1', '869', '2', 'Male', '63', '2', '1', 'Human Resources', '4', 'Divorced', '4936', '23965', '1', 'Y', 'No', '13', '3', '4', '80', '1', '6', '6', '3', '5', '1', '0', '4']\n",
      "['', '26', '22', 'No', 'Travel_Rarely', '1230', 'Research & Development', '1', 'Associates Degree', 'Life Sciences', '1', '872', '4', 'Male', '33', '2', '2', 'Manufacturing Director', '4', 'Married', '4775', '19146', '6', 'Y', 'No', '22', '4', '1', '80', '2', '4', '2', '1', '2', '2', '2', '2']\n",
      "['', '117', '44', 'No', 'Travel_Rarely', '986', 'Research & Development', '8', \"Master's Degree\", 'Life Sciences', '1', '874', '1', 'Male', '62', '4', '1', 'Laboratory Technician', '4', 'Married', '2818', '5044', '2', 'Y', 'Yes', '24', '4', '3', '80', '1', '10', '2', '2', '3', '2', '0', '2']\n",
      "['', '31', '42', 'No', 'Travel_Frequently', '1271', 'Research & Development', '2', 'High School', 'Medical', '1', '875', '2', 'Male', '35', '3', '1', 'Research Scientist', '4', 'Single', '2515', '9068', '5', 'Y', 'Yes', '14', '3', '4', '80', '0', '8', '2', '3', '2', '1', '2', '2']\n",
      "['', '117', '36', 'No', 'Travel_Rarely', '1278', 'Human Resources', '8', \"Bachelor's Degree\", 'Life Sciences', '1', '878', '1', 'Male', '77', '2', '1', 'Human Resources', '1', 'Married', '2342', '8635', '0', 'Y', 'No', '21', '4', '3', '80', '0', '6', '3', '3', '5', '4', '0', '3']\n",
      "['', '28', '25', 'No', 'Travel_Rarely', '141', 'Sales', '3', 'High School', 'Other', '1', '879', '3', 'Male', '98', '3', '2', 'Sales Executive', '1', 'Married', '4194', '14363', '1', 'Y', 'Yes', '18', '3', '4', '80', '0', '5', '3', '3', '5', '3', '0', '3']\n",
      "['', '130', '35', 'No', 'Travel_Rarely', '607', 'Research & Development', '9', \"Bachelor's Degree\", 'Life Sciences', '1', '880', '4', 'Female', '66', '2', '3', 'Manufacturing Director', '3', 'Married', '10685', '23457', '1', 'Y', 'Yes', '20', '4', '2', '80', '1', '17', '2', '3', '17', '14', '5', '15']\n",
      "['6/18/2021 12:00:00 AM', '342', '35', 'Yes', 'Travel_Frequently', '130', 'Research & Development', '25', \"Master's Degree\", 'Life Sciences', '1', '881', '4', 'Female', '96', '3', '1', 'Research Scientist', '2', 'Divorced', '2022', '16612', '1', 'Y', 'Yes', '19', '3', '1', '80', '1', '10', '3', '2', '10', '2', '7', '8']\n",
      "['', '23', '32', 'No', 'Non-Travel', '300', 'Research & Development', '1', \"Bachelor's Degree\", 'Life Sciences', '1', '882', '4', 'Male', '61', '3', '1', 'Laboratory Technician', '4', 'Divorced', '2314', '9148', '0', 'Y', 'No', '12', '3', '2', '80', '1', '4', '2', '3', '3', '0', '0', '2']\n",
      "['', '49', '25', 'No', 'Travel_Rarely', '583', 'Sales', '4', 'High School', 'Marketing', '1', '885', '3', 'Male', '87', '2', '2', 'Sales Executive', '1', 'Married', '4256', '18154', '1', 'Y', 'No', '12', '3', '1', '80', '0', '5', '1', '4', '5', '2', '0', '3']\n",
      "['', '29', '49', 'No', 'Travel_Rarely', '1418', 'Research & Development', '1', \"Bachelor's Degree\", 'Technical Degree', '1', '887', '3', 'Female', '36', '3', '1', 'Research Scientist', '1', 'Married', '3580', '10554', '2', 'Y', 'No', '16', '3', '2', '80', '1', '7', '2', '3', '4', '2', '0', '2']\n",
      "['', '62', '24', 'No', 'Non-Travel', '1269', 'Research & Development', '4', 'High School', 'Life Sciences', '1', '888', '1', 'Male', '46', '2', '1', 'Laboratory Technician', '4', 'Married', '3162', '10778', '0', 'Y', 'No', '17', '3', '4', '80', '0', '6', '2', '2', '5', '2', '3', '4']\n",
      "['', '82', '32', 'No', 'Travel_Frequently', '379', 'Sales', '5', 'Associates Degree', 'Life Sciences', '1', '889', '2', 'Male', '48', '3', '2', 'Sales Executive', '2', 'Married', '6524', '8891', '1', 'Y', 'No', '14', '3', '4', '80', '1', '10', '3', '3', '10', '8', '5', '3']\n",
      "['', '94', '38', 'No', 'Travel_Rarely', '395', 'Sales', '9', \"Bachelor's Degree\", 'Marketing', '1', '893', '2', 'Male', '98', '2', '1', 'Sales Representative', '2', 'Married', '2899', '12102', '0', 'Y', 'No', '19', '3', '4', '80', '1', '3', '3', '3', '2', '2', '1', '2']\n",
      "['', '52', '42', 'No', 'Travel_Rarely', '1265', 'Research & Development', '3', \"Bachelor's Degree\", 'Life Sciences', '1', '894', '3', 'Female', '95', '4', '2', 'Laboratory Technician', '4', 'Married', '5231', '23726', '2', 'Y', 'Yes', '13', '3', '2', '80', '1', '17', '1', '2', '5', '3', '1', '3']\n",
      "['', '156', '31', 'No', 'Travel_Rarely', '1222', 'Research & Development', '11', \"Master's Degree\", 'Life Sciences', '1', '895', '4', 'Male', '48', '3', '1', 'Research Scientist', '4', 'Married', '2356', '14871', '3', 'Y', 'Yes', '19', '3', '2', '80', '1', '8', '2', '3', '6', '4', '0', '2']\n",
      "['5/6/2022 12:00:00 AM', '20', '29', 'Yes', 'Travel_Rarely', '341', 'Sales', '1', \"Bachelor's Degree\", 'Medical', '1', '896', '2', 'Female', '48', '2', '1', 'Sales Representative', '3', 'Divorced', '2800', '23522', '6', 'Y', 'Yes', '19', '3', '3', '80', '3', '5', '3', '3', '3', '2', '0', '2']\n",
      "['', '85', '53', 'No', 'Travel_Rarely', '868', 'Sales', '8', \"Bachelor's Degree\", 'Marketing', '1', '897', '1', 'Male', '73', '3', '4', 'Sales Executive', '4', 'Married', '11836', '22789', '5', 'Y', 'No', '14', '3', '3', '80', '1', '28', '3', '3', '2', '0', '2', '2']\n",
      "['', '206.5', '35', 'No', 'Travel_Rarely', '672', 'Research & Development', '25', \"Bachelor's Degree\", 'Technical Degree', '1', '899', '4', 'Male', '78', '2', '3', 'Manufacturing Director', '2', 'Married', '10903', '9129', '3', 'Y', 'No', '16', '3', '1', '80', '0', '16', '2', '3', '13', '10', '4', '8']\n",
      "['', '164', '37', 'No', 'Travel_Frequently', '1231', 'Sales', '21', 'Associates Degree', 'Medical', '1', '900', '3', 'Female', '54', '3', '1', 'Sales Representative', '4', 'Married', '2973', '21222', '5', 'Y', 'No', '15', '3', '2', '80', '1', '10', '3', '3', '5', '4', '0', '0']\n",
      "['', '312', '53', 'No', 'Travel_Rarely', '102', 'Research & Development', '23', \"Master's Degree\", 'Life Sciences', '1', '901', '4', 'Female', '72', '3', '4', 'Research Director', '4', 'Single', '14275', '20206', '6', 'Y', 'No', '18', '3', '3', '80', '0', '33', '0', '3', '12', '9', '3', '8']\n",
      "['', '30', '43', 'No', 'Travel_Frequently', '422', 'Research & Development', '1', \"Bachelor's Degree\", 'Life Sciences', '1', '902', '4', 'Female', '33', '3', '2', 'Healthcare Representative', '4', 'Married', '5562', '21782', '4', 'Y', 'No', '13', '3', '2', '80', '1', '12', '2', '2', '5', '2', '2', '2']\n",
      "['', '31', '47', 'No', 'Travel_Rarely', '249', 'Sales', '2', 'Associates Degree', 'Marketing', '1', '903', '3', 'Female', '35', '3', '2', 'Sales Executive', '4', 'Married', '4537', '17783', '0', 'Y', 'Yes', '22', '4', '1', '80', '1', '8', '2', '3', '7', '6', '7', '7']\n",
      "['', '143', '37', 'No', 'Non-Travel', '1252', 'Sales', '19', 'Associates Degree', 'Medical', '1', '904', '1', 'Male', '32', '3', '3', 'Sales Executive', '2', 'Single', '7642', '4814', '1', 'Y', 'Yes', '13', '3', '4', '80', '0', '10', '2', '3', '10', '0', '0', '9']\n",
      "['', '36', '50', 'No', 'Non-Travel', '881', 'Research & Development', '2', \"Master's Degree\", 'Life Sciences', '1', '905', '1', 'Male', '98', '3', '4', 'Manager', '1', 'Divorced', '17924', '4544', '1', 'Y', 'No', '11', '3', '4', '80', '1', '31', '3', '3', '31', '6', '14', '7']\n",
      "['', '39', '39', 'No', 'Travel_Rarely', '1383', 'Human Resources', '2', \"Bachelor's Degree\", 'Life Sciences', '1', '909', '4', 'Female', '42', '2', '2', 'Human Resources', '4', 'Married', '5204', '7790', '8', 'Y', 'No', '11', '3', '3', '80', '2', '13', '2', '3', '5', '4', '0', '4']\n",
      "['', '58', '33', 'No', 'Travel_Rarely', '1075', 'Human Resources', '3', 'Associates Degree', 'Human Resources', '1', '910', '4', 'Male', '57', '3', '1', 'Human Resources', '2', 'Divorced', '2277', '22650', '3', 'Y', 'Yes', '11', '3', '3', '80', '1', '7', '4', '4', '4', '3', '0', '3']\n",
      "['6/22/2021 12:00:00 AM', '338', '32', 'Yes', 'Travel_Rarely', '374', 'Research & Development', '25', \"Master's Degree\", 'Life Sciences', '1', '911', '1', 'Male', '87', '3', '1', 'Laboratory Technician', '4', 'Single', '2795', '18016', '1', 'Y', 'Yes', '24', '4', '3', '80', '0', '1', '2', '1', '1', '0', '0', '1']\n",
      "['', '62', '29', 'No', 'Travel_Rarely', '1086', 'Research & Development', '7', 'High School', 'Medical', '1', '912', '1', 'Female', '62', '2', '1', 'Laboratory Technician', '4', 'Divorced', '2532', '6054', '6', 'Y', 'No', '14', '3', '3', '80', '3', '8', '5', '3', '4', '3', '0', '3']\n",
      "['', '130', '44', 'No', 'Travel_Rarely', '661', 'Research & Development', '9', 'Associates Degree', 'Life Sciences', '1', '913', '2', 'Male', '61', '3', '1', 'Research Scientist', '1', 'Married', '2559', '7508', '1', 'Y', 'Yes', '13', '3', '4', '80', '0', '8', '0', '3', '8', '7', '7', '1']\n",
      "['', '48', '28', 'No', 'Travel_Rarely', '821', 'Sales', '5', \"Master's Degree\", 'Medical', '1', '916', '1', 'Male', '98', '3', '2', 'Sales Executive', '4', 'Single', '4908', '24252', '1', 'Y', 'No', '14', '3', '2', '80', '0', '4', '3', '3', '4', '2', '0', '2']\n",
      "['4/13/2022 12:00:00 AM', '43', '58', 'Yes', 'Travel_Frequently', '781', 'Research & Development', '2', 'High School', 'Life Sciences', '1', '918', '4', 'Male', '57', '2', '1', 'Laboratory Technician', '4', 'Divorced', '2380', '13384', '9', 'Y', 'Yes', '14', '3', '4', '80', '1', '3', '3', '2', '1', '0', '0', '0']\n",
      "['', '117', '43', 'No', 'Travel_Rarely', '177', 'Research & Development', '8', \"Bachelor's Degree\", 'Life Sciences', '1', '920', '1', 'Female', '55', '3', '2', 'Manufacturing Director', '2', 'Divorced', '4765', '23814', '4', 'Y', 'No', '21', '4', '3', '80', '1', '4', '2', '4', '1', '0', '0', '0']\n",
      "['4/29/2022 12:00:00 AM', '27', '20', 'Yes', 'Travel_Rarely', '500', 'Sales', '2', \"Bachelor's Degree\", 'Medical', '1', '922', '3', 'Female', '49', '2', '1', 'Sales Representative', '3', 'Single', '2044', '22052', '1', 'Y', 'No', '13', '3', '4', '80', '0', '2', '3', '2', '2', '2', '0', '2']\n",
      "['2/12/2022 12:00:00 AM', '103', '21', 'Yes', 'Travel_Rarely', '1427', 'Research & Development', '18', 'High School', 'Other', '1', '923', '4', 'Female', '65', '3', '1', 'Research Scientist', '4', 'Single', '2693', '8870', '1', 'Y', 'No', '19', '3', '1', '80', '0', '1', '3', '2', '1', '0', '0', '0']\n",
      "['', '195', '36', 'No', 'Travel_Rarely', '1425', 'Research & Development', '14', 'High School', 'Life Sciences', '1', '924', '3', 'Male', '68', '3', '2', 'Healthcare Representative', '4', 'Married', '6586', '4821', '0', 'Y', 'Yes', '17', '3', '1', '80', '1', '17', '2', '2', '16', '8', '4', '11']\n",
      "['', '39', '47', 'No', 'Travel_Rarely', '1454', 'Sales', '2', \"Master's Degree\", 'Life Sciences', '1', '925', '4', 'Female', '65', '2', '1', 'Sales Representative', '4', 'Single', '3294', '13137', '1', 'Y', 'Yes', '18', '3', '1', '80', '0', '3', '3', '2', '3', '2', '1', '2']\n",
      "['4/4/2022 12:00:00 AM', '52', '22', 'Yes', 'Travel_Rarely', '617', 'Research & Development', '3', 'High School', 'Life Sciences', '1', '926', '2', 'Female', '34', '3', '2', 'Manufacturing Director', '3', 'Married', '4171', '10022', '0', 'Y', 'Yes', '19', '3', '1', '80', '1', '4', '3', '4', '3', '2', '0', '2']\n",
      "['4/17/2022 12:00:00 AM', '39', '41', 'Yes', 'Travel_Rarely', '1085', 'Research & Development', '2', \"Master's Degree\", 'Life Sciences', '1', '927', '2', 'Female', '57', '1', '1', 'Laboratory Technician', '4', 'Divorced', '2778', '17725', '4', 'Y', 'Yes', '13', '3', '3', '80', '1', '10', '1', '2', '7', '7', '1', '0']\n",
      "['', '76', '28', 'No', 'Travel_Rarely', '995', 'Research & Development', '9', \"Bachelor's Degree\", 'Medical', '1', '930', '3', 'Female', '77', '3', '1', 'Research Scientist', '3', 'Divorced', '2377', '9834', '5', 'Y', 'No', '18', '3', '2', '80', '1', '6', '2', '3', '2', '2', '2', '2']\n",
      "['4/1/2022 12:00:00 AM', '55', '39', 'Yes', 'Travel_Rarely', '1122', 'Research & Development', '6', \"Bachelor's Degree\", 'Medical', '1', '932', '4', 'Male', '70', '3', '1', 'Laboratory Technician', '1', 'Married', '2404', '4303', '7', 'Y', 'Yes', '21', '4', '4', '80', '0', '8', '2', '1', '2', '2', '2', '2']\n",
      "['', '65', '27', 'No', 'Travel_Rarely', '618', 'Research & Development', '4', \"Bachelor's Degree\", 'Life Sciences', '1', '933', '2', 'Female', '76', '3', '1', 'Research Scientist', '3', 'Single', '2318', '17808', '1', 'Y', 'No', '19', '3', '3', '80', '0', '1', '2', '3', '1', '1', '0', '0']\n",
      "['', '143', '34', 'No', 'Travel_Rarely', '546', 'Research & Development', '10', \"Bachelor's Degree\", 'Life Sciences', '1', '934', '2', 'Male', '83', '3', '1', 'Laboratory Technician', '2', 'Divorced', '2008', '6896', '1', 'Y', 'No', '14', '3', '2', '80', '2', '1', '3', '3', '1', '0', '1', '0']\n",
      "['', '111', '42', 'No', 'Travel_Rarely', '462', 'Sales', '14', 'Associates Degree', 'Medical', '1', '936', '3', 'Female', '68', '2', '2', 'Sales Executive', '3', 'Single', '6244', '7824', '7', 'Y', 'No', '17', '3', '1', '80', '0', '10', '6', '3', '5', '4', '0', '3']\n",
      "['', '18', '33', 'No', 'Travel_Rarely', '1198', 'Research & Development', '1', \"Master's Degree\", 'Other', '1', '939', '3', 'Male', '100', '2', '1', 'Research Scientist', '1', 'Single', '2799', '3339', '3', 'Y', 'Yes', '11', '3', '2', '80', '0', '6', '1', '3', '3', '2', '0', '2']\n",
      "['', '93', '58', 'No', 'Travel_Rarely', '1272', 'Research & Development', '5', \"Bachelor's Degree\", 'Technical Degree', '1', '940', '3', 'Female', '37', '2', '3', 'Healthcare Representative', '2', 'Divorced', '10552', '9255', '2', 'Y', 'Yes', '13', '3', '4', '80', '1', '24', '3', '3', '6', '0', '0', '4']\n",
      "['', '104', '31', 'No', 'Travel_Rarely', '154', 'Sales', '7', \"Master's Degree\", 'Life Sciences', '1', '941', '2', 'Male', '41', '2', '1', 'Sales Representative', '3', 'Married', '2329', '11737', '3', 'Y', 'No', '15', '3', '2', '80', '0', '13', '2', '4', '7', '7', '5', '2']\n",
      "['', '286', '35', 'No', 'Travel_Rarely', '1137', 'Research & Development', '21', 'High School', 'Life Sciences', '1', '942', '4', 'Female', '51', '3', '2', 'Healthcare Representative', '4', 'Married', '4014', '19170', '1', 'Y', 'Yes', '25', '4', '4', '80', '1', '10', '2', '1', '10', '6', '0', '7']\n",
      "['', '53', '49', 'No', 'Travel_Rarely', '527', 'Research & Development', '8', 'Associates Degree', 'Other', '1', '944', '1', 'Female', '51', '3', '3', 'Laboratory Technician', '2', 'Married', '7403', '22477', '4', 'Y', 'No', '11', '3', '3', '80', '1', '29', '3', '2', '26', '9', '1', '7']\n",
      "['', '153', '48', 'No', 'Travel_Rarely', '1469', 'Research & Development', '20', \"Master's Degree\", 'Medical', '1', '945', '4', 'Male', '51', '3', '1', 'Research Scientist', '3', 'Married', '2259', '5543', '4', 'Y', 'No', '17', '3', '1', '80', '2', '13', '2', '2', '0', '0', '0', '0']\n",
      "['', '190', '31', 'No', 'Non-Travel', '1188', 'Sales', '20', 'Associates Degree', 'Marketing', '1', '947', '4', 'Female', '45', '3', '2', 'Sales Executive', '3', 'Married', '6932', '24406', '1', 'Y', 'No', '13', '3', '4', '80', '1', '9', '2', '2', '9', '8', '0', '0']\n",
      "['', '48', '36', 'No', 'Travel_Rarely', '188', 'Research & Development', '7', \"Master's Degree\", 'Other', '1', '949', '2', 'Male', '65', '3', '1', 'Research Scientist', '4', 'Single', '4678', '23293', '2', 'Y', 'No', '18', '3', '3', '80', '0', '8', '6', '3', '6', '2', '0', '1']\n",
      "['', '29', '38', 'No', 'Travel_Rarely', '1333', 'Research & Development', '1', \"Bachelor's Degree\", 'Technical Degree', '1', '950', '4', 'Female', '80', '3', '3', 'Research Director', '1', 'Married', '13582', '16292', '1', 'Y', 'No', '13', '3', '2', '80', '1', '15', '3', '3', '15', '12', '5', '11']\n",
      "['', '23', '32', 'No', 'Non-Travel', '1184', 'Research & Development', '1', \"Bachelor's Degree\", 'Life Sciences', '1', '951', '3', 'Female', '70', '2', '1', 'Laboratory Technician', '2', 'Married', '2332', '3974', '6', 'Y', 'No', '20', '4', '3', '80', '0', '5', '3', '3', '3', '0', '0', '2']\n",
      "['11/23/2021 12:00:00 AM', '184', '25', 'Yes', 'Travel_Rarely', '867', 'Sales', '19', 'Associates Degree', 'Marketing', '1', '952', '3', 'Male', '36', '2', '1', 'Sales Representative', '2', 'Married', '2413', '18798', '1', 'Y', 'Yes', '18', '3', '3', '80', '3', '1', '2', '3', '1', '0', '0', '0']\n",
      "['', '103', '40', 'No', 'Travel_Rarely', '658', 'Sales', '10', \"Master's Degree\", 'Marketing', '1', '954', '1', 'Male', '67', '2', '3', 'Sales Executive', '2', 'Divorced', '9705', '20652', '2', 'Y', 'No', '12', '3', '2', '80', '1', '11', '2', '2', '1', '0', '0', '0']\n",
      "['', '24', '26', 'No', 'Travel_Frequently', '1283', 'Sales', '1', \"Bachelor's Degree\", 'Medical', '1', '956', '3', 'Male', '52', '2', '2', 'Sales Executive', '1', 'Single', '4294', '11148', '1', 'Y', 'No', '12', '3', '2', '80', '0', '7', '2', '3', '7', '7', '0', '7']\n",
      "['', '55', '41', 'No', 'Travel_Rarely', '263', 'Research & Development', '6', \"Bachelor's Degree\", 'Medical', '1', '957', '4', 'Male', '59', '3', '1', 'Laboratory Technician', '1', 'Single', '4721', '3119', '2', 'Y', 'Yes', '13', '3', '3', '80', '0', '20', '3', '3', '18', '13', '2', '17']\n",
      "['', '27', '36', 'No', 'Travel_Rarely', '938', 'Research & Development', '2', \"Master's Degree\", 'Medical', '1', '958', '3', 'Male', '79', '3', '1', 'Laboratory Technician', '3', 'Single', '2519', '12287', '4', 'Y', 'No', '21', '4', '3', '80', '0', '16', '6', '3', '11', '8', '3', '9']\n",
      "['1/28/2022 12:00:00 AM', '118', '19', 'Yes', 'Travel_Rarely', '419', 'Sales', '21', \"Bachelor's Degree\", 'Other', '1', '959', '4', 'Male', '37', '2', '1', 'Sales Representative', '2', 'Single', '2121', '9947', '1', 'Y', 'Yes', '13', '3', '2', '80', '0', '1', '3', '4', '1', '0', '0', '0']\n",
      "['3/10/2022 12:00:00 AM', '77', '20', 'Yes', 'Travel_Rarely', '129', 'Research & Development', '4', \"Bachelor's Degree\", 'Technical Degree', '1', '960', '1', 'Male', '84', '3', '1', 'Laboratory Technician', '1', 'Single', '2973', '13008', '1', 'Y', 'No', '19', '3', '2', '80', '0', '1', '2', '3', '1', '0', '0', '0']\n",
      "['', '97', '31', 'No', 'Travel_Rarely', '616', 'Research & Development', '12', \"Bachelor's Degree\", 'Medical', '1', '961', '4', 'Female', '41', '3', '2', 'Healthcare Representative', '4', 'Married', '5855', '17369', '0', 'Y', 'Yes', '11', '3', '3', '80', '2', '10', '2', '1', '9', '7', '8', '5']\n",
      "['', '80', '40', 'No', 'Travel_Frequently', '1469', 'Research & Development', '9', \"Master's Degree\", 'Medical', '1', '964', '4', 'Male', '35', '3', '1', 'Research Scientist', '2', 'Divorced', '3617', '25063', '8', 'Y', 'Yes', '14', '3', '4', '80', '1', '3', '2', '3', '1', '1', '0', '0']\n",
      "['', '34', '32', 'No', 'Travel_Rarely', '498', 'Research & Development', '3', \"Master's Degree\", 'Medical', '1', '966', '3', 'Female', '93', '3', '2', 'Manufacturing Director', '1', 'Married', '6725', '13554', '1', 'Y', 'No', '12', '3', '3', '80', '1', '8', '2', '4', '8', '7', '6', '3']\n",
      "['4/4/2022 12:00:00 AM', '52', '36', 'Yes', 'Travel_Rarely', '530', 'Sales', '3', 'High School', 'Life Sciences', '1', '967', '3', 'Male', '51', '2', '3', 'Sales Executive', '4', 'Married', '10325', '5518', '1', 'Y', 'Yes', '11', '3', '1', '80', '1', '16', '6', '3', '16', '7', '3', '7']\n",
      "['', '26', '33', 'No', 'Travel_Rarely', '1069', 'Research & Development', '1', \"Bachelor's Degree\", 'Life Sciences', '1', '969', '2', 'Female', '42', '2', '2', 'Healthcare Representative', '4', 'Single', '6949', '12291', '0', 'Y', 'No', '14', '3', '1', '80', '0', '6', '3', '3', '5', '0', '1', '4']\n",
      "['4/30/2022 12:00:00 AM', '26', '37', 'Yes', 'Travel_Rarely', '625', 'Sales', '1', \"Master's Degree\", 'Life Sciences', '1', '970', '1', 'Male', '46', '2', '3', 'Sales Executive', '3', 'Married', '10609', '14922', '5', 'Y', 'No', '11', '3', '3', '80', '0', '17', '2', '1', '14', '1', '11', '7']\n",
      "['', '62', '45', 'No', 'Non-Travel', '805', 'Research & Development', '4', 'Associates Degree', 'Life Sciences', '1', '972', '3', 'Male', '57', '3', '2', 'Laboratory Technician', '2', 'Married', '4447', '23163', '1', 'Y', 'No', '12', '3', '2', '80', '0', '9', '5', '2', '9', '7', '0', '8']\n",
      "['', '337', '29', 'No', 'Travel_Frequently', '1404', 'Sales', '20', \"Bachelor's Degree\", 'Technical Degree', '1', '974', '3', 'Female', '84', '3', '1', 'Sales Representative', '4', 'Married', '2157', '18203', '1', 'Y', 'No', '15', '3', '2', '80', '1', '3', '5', '3', '3', '1', '0', '2']\n",
      "['', '139', '35', 'No', 'Travel_Rarely', '1219', 'Sales', '18', \"Bachelor's Degree\", 'Medical', '1', '975', '3', 'Female', '86', '3', '2', 'Sales Executive', '3', 'Married', '4601', '6179', '1', 'Y', 'No', '16', '3', '2', '80', '0', '5', '3', '3', '5', '2', '1', '0']\n",
      "['', '26', '52', 'No', 'Travel_Rarely', '1053', 'Research & Development', '1', 'Associates Degree', 'Life Sciences', '1', '976', '4', 'Male', '70', '3', '4', 'Manager', '4', 'Married', '17099', '13829', '2', 'Y', 'No', '15', '3', '2', '80', '1', '26', '2', '2', '9', '8', '7', '8']\n",
      "['4/11/2022 12:00:00 AM', '45', '58', 'Yes', 'Travel_Rarely', '289', 'Research & Development', '2', \"Bachelor's Degree\", 'Technical Degree', '1', '977', '4', 'Male', '51', '3', '1', 'Research Scientist', '3', 'Single', '2479', '26227', '4', 'Y', 'No', '24', '4', '1', '80', '0', '7', '4', '3', '1', '0', '0', '0']\n",
      "['', '27', '53', 'No', 'Travel_Rarely', '1376', 'Sales', '2', 'Associates Degree', 'Medical', '1', '981', '3', 'Male', '45', '3', '4', 'Manager', '3', 'Divorced', '14852', '13938', '6', 'Y', 'No', '13', '3', '3', '80', '1', '22', '3', '4', '17', '13', '15', '2']\n",
      "['', '53', '30', 'No', 'Travel_Rarely', '231', 'Sales', '8', 'Associates Degree', 'Other', '1', '982', '3', 'Male', '62', '3', '3', 'Sales Executive', '3', 'Divorced', '7264', '9977', '5', 'Y', 'No', '11', '3', '1', '80', '1', '10', '2', '4', '8', '4', '7', '7']\n",
      "['', '170', '38', 'No', 'Non-Travel', '152', 'Sales', '10', \"Bachelor's Degree\", 'Technical Degree', '1', '983', '3', 'Female', '85', '3', '2', 'Sales Executive', '4', 'Single', '5666', '19899', '1', 'Y', 'Yes', '13', '3', '2', '80', '0', '6', '1', '3', '5', '3', '1', '3']\n",
      "['', '52', '35', 'No', 'Travel_Rarely', '882', 'Sales', '3', \"Master's Degree\", 'Life Sciences', '1', '984', '4', 'Male', '92', '3', '3', 'Sales Executive', '4', 'Divorced', '7823', '6812', '6', 'Y', 'No', '13', '3', '2', '80', '1', '12', '2', '3', '10', '9', '0', '8']\n",
      "['', '39', '39', 'No', 'Travel_Rarely', '903', 'Sales', '2', 'Doctoral Degree', 'Life Sciences', '1', '985', '1', 'Male', '41', '4', '3', 'Sales Executive', '3', 'Single', '7880', '2560', '0', 'Y', 'No', '18', '3', '4', '80', '0', '9', '3', '3', '8', '7', '0', '7']\n",
      "['7/8/2021 12:00:00 AM', '322', '40', 'Yes', 'Non-Travel', '1479', 'Sales', '24', \"Bachelor's Degree\", 'Life Sciences', '1', '986', '2', 'Female', '100', '4', '4', 'Sales Executive', '2', 'Single', '13194', '17071', '4', 'Y', 'Yes', '16', '3', '4', '80', '0', '22', '2', '2', '1', '0', '0', '0']\n",
      "['', '129', '47', 'No', 'Travel_Frequently', '1379', 'Research & Development', '16', \"Master's Degree\", 'Medical', '1', '987', '3', 'Male', '64', '4', '2', 'Manufacturing Director', '3', 'Divorced', '5067', '6759', '1', 'Y', 'Yes', '19', '3', '3', '80', '0', '20', '3', '4', '19', '10', '2', '7']\n",
      "['', '138', '36', 'No', 'Non-Travel', '1229', 'Sales', '8', \"Master's Degree\", 'Technical Degree', '1', '990', '1', 'Male', '84', '3', '2', 'Sales Executive', '4', 'Divorced', '5079', '25952', '4', 'Y', 'No', '13', '3', '4', '80', '2', '12', '3', '3', '7', '7', '0', '7']\n",
      "['3/14/2022 12:00:00 AM', '73', '31', 'Yes', 'Non-Travel', '335', 'Research & Development', '9', 'Associates Degree', 'Medical', '1', '991', '3', 'Male', '46', '2', '1', 'Research Scientist', '1', 'Single', '2321', '10322', '0', 'Y', 'Yes', '22', '4', '1', '80', '0', '4', '0', '3', '3', '2', '1', '2']\n",
      "['', '231', '33', 'No', 'Non-Travel', '722', 'Sales', '17', \"Bachelor's Degree\", 'Life Sciences', '1', '992', '4', 'Male', '38', '3', '4', 'Manager', '3', 'Single', '17444', '20489', '1', 'Y', 'No', '11', '3', '4', '80', '0', '10', '2', '3', '10', '8', '6', '0']\n",
      "['1/3/2022 12:00:00 AM', '143', '29', 'Yes', 'Travel_Rarely', '906', 'Research & Development', '10', \"Bachelor's Degree\", 'Life Sciences', '1', '994', '4', 'Female', '92', '2', '1', 'Research Scientist', '1', 'Single', '2404', '11479', '6', 'Y', 'Yes', '20', '4', '3', '80', '0', '3', '5', '3', '0', '0', '0', '0']\n",
      "['', '182', '33', 'No', 'Travel_Rarely', '461', 'Research & Development', '13', 'High School', 'Life Sciences', '1', '995', '2', 'Female', '53', '3', '1', 'Research Scientist', '4', 'Single', '3452', '17241', '3', 'Y', 'No', '18', '3', '1', '80', '0', '5', '4', '3', '3', '2', '0', '2']\n",
      "['', '20', '45', 'No', 'Travel_Rarely', '974', 'Research & Development', '1', \"Master's Degree\", 'Medical', '1', '996', '4', 'Female', '91', '3', '1', 'Laboratory Technician', '4', 'Divorced', '2270', '11005', '3', 'Y', 'No', '14', '3', '4', '80', '2', '8', '2', '3', '5', '3', '0', '2']\n",
      "['', '20', '50', 'No', 'Travel_Rarely', '1126', 'Research & Development', '1', 'Associates Degree', 'Medical', '1', '997', '4', 'Male', '66', '3', '4', 'Research Director', '4', 'Divorced', '17399', '6615', '9', 'Y', 'No', '22', '4', '3', '80', '1', '32', '1', '2', '5', '4', '1', '3']\n",
      "['', '22', '33', 'No', 'Travel_Frequently', '827', 'Research & Development', '1', \"Master's Degree\", 'Other', '1', '998', '3', 'Female', '84', '4', '2', 'Healthcare Representative', '2', 'Married', '5488', '20161', '1', 'Y', 'Yes', '13', '3', '1', '80', '1', '6', '2', '3', '6', '5', '1', '2']\n",
      "['', '80', '41', 'No', 'Travel_Frequently', '840', 'Research & Development', '9', \"Bachelor's Degree\", 'Medical', '1', '999', '1', 'Male', '64', '3', '5', 'Research Director', '3', 'Divorced', '19419', '3735', '2', 'Y', 'No', '17', '3', '2', '80', '1', '21', '2', '4', '18', '16', '0', '11']\n",
      "['', '269', '27', 'No', 'Travel_Rarely', '1134', 'Research & Development', '16', \"Master's Degree\", 'Technical Degree', '1', '1001', '3', 'Female', '37', '3', '1', 'Laboratory Technician', '2', 'Married', '2811', '12086', '9', 'Y', 'No', '14', '3', '2', '80', '1', '4', '2', '3', '2', '2', '2', '2']\n",
      "['', '309', '45', 'No', 'Non-Travel', '248', 'Research & Development', '23', 'Associates Degree', 'Life Sciences', '1', '1002', '4', 'Male', '42', '3', '2', 'Laboratory Technician', '1', 'Married', '3633', '14039', '1', 'Y', 'Yes', '15', '3', '3', '80', '1', '9', '2', '3', '9', '8', '0', '8']\n",
      "['', '65', '47', 'No', 'Travel_Rarely', '955', 'Sales', '4', 'Associates Degree', 'Life Sciences', '1', '1003', '4', 'Female', '83', '3', '2', 'Sales Executive', '4', 'Single', '4163', '8571', '1', 'Y', 'Yes', '17', '3', '3', '80', '0', '9', '0', '3', '9', '0', '0', '7']\n",
      "['7/31/2021 12:00:00 AM', '299', '30', 'Yes', 'Travel_Rarely', '138', 'Research & Development', '22', \"Bachelor's Degree\", 'Life Sciences', '1', '1004', '1', 'Female', '48', '3', '1', 'Research Scientist', '3', 'Married', '2132', '11539', '4', 'Y', 'Yes', '11', '3', '2', '80', '0', '7', '2', '3', '5', '2', '0', '1']\n",
      "['', '325', '50', 'No', 'Travel_Rarely', '939', 'Research & Development', '24', \"Bachelor's Degree\", 'Life Sciences', '1', '1005', '4', 'Male', '95', '3', '4', 'Manufacturing Director', '3', 'Married', '13973', '4161', '3', 'Y', 'Yes', '18', '3', '4', '80', '1', '22', '2', '3', '12', '11', '1', '5']\n",
      "['', '87', '38', 'No', 'Travel_Frequently', '1391', 'Research & Development', '10', 'High School', 'Medical', '1', '1006', '3', 'Male', '66', '3', '1', 'Research Scientist', '3', 'Married', '2684', '12127', '0', 'Y', 'No', '17', '3', '2', '80', '1', '3', '0', '2', '2', '1', '0', '2']\n",
      "['', '62', '46', 'No', 'Travel_Rarely', '566', 'Research & Development', '7', 'Associates Degree', 'Medical', '1', '1007', '4', 'Male', '75', '3', '3', 'Manufacturing Director', '3', 'Divorced', '10845', '24208', '6', 'Y', 'No', '13', '3', '2', '80', '1', '13', '3', '3', '8', '7', '0', '7']\n",
      "['', '132', '24', 'No', 'Travel_Rarely', '1206', 'Research & Development', '17', 'High School', 'Medical', '1', '1009', '4', 'Female', '41', '2', '2', 'Manufacturing Director', '3', 'Divorced', '4377', '24117', '1', 'Y', 'No', '15', '3', '2', '80', '2', '5', '6', '3', '4', '2', '3', '2']\n",
      "['3/4/2022 12:00:00 AM', '83', '35', 'Yes', 'Travel_Rarely', '622', 'Research & Development', '14', \"Master's Degree\", 'Other', '1', '1010', '3', 'Male', '39', '2', '1', 'Laboratory Technician', '2', 'Divorced', '3743', '10074', '1', 'Y', 'Yes', '24', '4', '4', '80', '1', '5', '2', '1', '4', '2', '0', '2']\n",
      "['', '30', '31', 'No', 'Travel_Frequently', '853', 'Research & Development', '1', 'High School', 'Life Sciences', '1', '1011', '3', 'Female', '96', '3', '2', 'Manufacturing Director', '1', 'Married', '4148', '11275', '1', 'Y', 'No', '12', '3', '3', '80', '1', '4', '1', '3', '4', '3', '0', '3']\n",
      "['', '75', '18', 'No', 'Non-Travel', '287', 'Research & Development', '5', 'Associates Degree', 'Life Sciences', '1', '1012', '2', 'Male', '73', '3', '1', 'Research Scientist', '4', 'Single', '1051', '13493', '1', 'Y', 'No', '15', '3', '4', '80', '0', '0', '2', '3', '0', '0', '0', '0']\n",
      "['', '285', '54', 'No', 'Travel_Rarely', '1441', 'Research & Development', '17', \"Bachelor's Degree\", 'Technical Degree', '1', '1013', '3', 'Female', '56', '3', '3', 'Manufacturing Director', '3', 'Married', '10739', '13943', '8', 'Y', 'No', '11', '3', '3', '80', '1', '22', '2', '3', '10', '7', '0', '8']\n",
      "['', '188', '35', 'No', 'Travel_Rarely', '583', 'Research & Development', '25', \"Master's Degree\", 'Medical', '1', '1014', '3', 'Female', '57', '3', '3', 'Healthcare Representative', '3', 'Divorced', '10388', '6975', '1', 'Y', 'Yes', '11', '3', '3', '80', '1', '16', '3', '2', '16', '10', '10', '1']\n",
      "['', '117', '30', 'No', 'Travel_Rarely', '153', 'Research & Development', '8', 'Associates Degree', 'Life Sciences', '1', '1015', '2', 'Female', '73', '4', '3', 'Research Director', '1', 'Married', '11416', '17802', '0', 'Y', 'Yes', '12', '3', '3', '80', '3', '9', '4', '2', '8', '7', '1', '7']\n",
      "['2/25/2022 12:00:00 AM', '90', '20', 'Yes', 'Travel_Rarely', '1097', 'Research & Development', '11', \"Bachelor's Degree\", 'Medical', '1', '1016', '4', 'Female', '98', '2', '1', 'Research Scientist', '1', 'Single', '2600', '18275', '1', 'Y', 'Yes', '15', '3', '1', '80', '0', '1', '2', '3', '1', '0', '0', '0']\n",
      "['4/4/2022 12:00:00 AM', '52', '30', 'Yes', 'Travel_Frequently', '109', 'Research & Development', '5', \"Bachelor's Degree\", 'Medical', '1', '1017', '2', 'Female', '60', '3', '1', 'Laboratory Technician', '2', 'Single', '2422', '25725', '0', 'Y', 'No', '17', '3', '1', '80', '0', '4', '3', '3', '3', '2', '1', '2']\n",
      "['', '27', '26', 'No', 'Travel_Rarely', '1066', 'Research & Development', '2', 'Associates Degree', 'Medical', '1', '1018', '4', 'Male', '32', '4', '2', 'Manufacturing Director', '4', 'Married', '5472', '3334', '1', 'Y', 'No', '12', '3', '2', '80', '0', '8', '2', '3', '8', '7', '1', '3']\n",
      "['', '117', '22', 'No', 'Travel_Rarely', '217', 'Research & Development', '8', 'High School', 'Life Sciences', '1', '1019', '2', 'Male', '94', '1', '1', 'Laboratory Technician', '1', 'Married', '2451', '6881', '1', 'Y', 'No', '15', '3', '1', '80', '1', '4', '3', '2', '4', '3', '1', '1']\n",
      "['', '91', '48', 'No', 'Travel_Rarely', '277', 'Research & Development', '6', \"Bachelor's Degree\", 'Life Sciences', '1', '1022', '1', 'Male', '97', '2', '2', 'Healthcare Representative', '3', 'Single', '4240', '13119', '2', 'Y', 'No', '13', '3', '4', '80', '0', '19', '0', '3', '2', '2', '2', '2']\n",
      "['', '65', '48', 'No', 'Travel_Rarely', '1355', 'Research & Development', '4', \"Master's Degree\", 'Life Sciences', '1', '1024', '3', 'Male', '78', '2', '3', 'Healthcare Representative', '3', 'Single', '10999', '22245', '7', 'Y', 'No', '14', '3', '2', '80', '0', '27', '3', '3', '15', '11', '4', '8']\n",
      "['', '62', '41', 'No', 'Travel_Rarely', '549', 'Research & Development', '7', 'Associates Degree', 'Medical', '1', '1025', '4', 'Female', '42', '3', '2', 'Manufacturing Director', '3', 'Single', '5003', '23371', '6', 'Y', 'No', '14', '3', '2', '80', '0', '8', '6', '3', '2', '2', '2', '1']\n",
      "['', '26', '39', 'No', 'Travel_Rarely', '466', 'Research & Development', '1', 'High School', 'Life Sciences', '1', '1026', '4', 'Female', '65', '2', '4', 'Manufacturing Director', '4', 'Married', '12742', '7060', '1', 'Y', 'No', '16', '3', '3', '80', '1', '21', '3', '3', '21', '6', '11', '8']\n",
      "['', '39', '27', 'No', 'Travel_Rarely', '1055', 'Research & Development', '2', \"Master's Degree\", 'Life Sciences', '1', '1027', '1', 'Female', '47', '3', '2', 'Manufacturing Director', '4', 'Married', '4227', '4658', '0', 'Y', 'No', '18', '3', '2', '80', '1', '4', '2', '3', '3', '2', '2', '2']\n",
      "['', '63', '35', 'No', 'Travel_Rarely', '802', 'Research & Development', '10', \"Bachelor's Degree\", 'Other', '1', '1028', '2', 'Male', '45', '3', '1', 'Laboratory Technician', '4', 'Divorced', '3917', '9541', '1', 'Y', 'No', '20', '4', '1', '80', '1', '3', '4', '2', '3', '2', '1', '2']\n",
      "['', '58', '42', 'No', 'Travel_Rarely', '265', 'Sales', '5', 'Associates Degree', 'Marketing', '1', '1029', '4', 'Male', '90', '3', '5', 'Manager', '3', 'Married', '18303', '7770', '6', 'Y', 'No', '13', '3', '2', '80', '0', '21', '3', '4', '1', '0', '0', '0']\n",
      "['', '130', '50', 'No', 'Travel_Rarely', '804', 'Research & Development', '9', \"Bachelor's Degree\", 'Life Sciences', '1', '1030', '1', 'Male', '64', '3', '1', 'Laboratory Technician', '4', 'Married', '2380', '20165', '4', 'Y', 'No', '18', '3', '2', '80', '0', '8', '5', '3', '1', '0', '0', '0']\n",
      "['', '39', '59', 'No', 'Travel_Rarely', '715', 'Research & Development', '2', \"Bachelor's Degree\", 'Life Sciences', '1', '1032', '3', 'Female', '69', '2', '4', 'Manufacturing Director', '4', 'Single', '13726', '21829', '3', 'Y', 'Yes', '13', '3', '1', '80', '0', '30', '4', '3', '5', '3', '4', '3']\n",
      "['2/25/2022 12:00:00 AM', '90', '37', 'Yes', 'Travel_Rarely', '1141', 'Research & Development', '11', 'Associates Degree', 'Medical', '1', '1033', '1', 'Female', '61', '1', '2', 'Healthcare Representative', '2', 'Married', '4777', '14382', '5', 'Y', 'No', '15', '3', '1', '80', '0', '15', '2', '1', '1', '0', '0', '0']\n",
      "['', '143', '55', 'No', 'Travel_Frequently', '135', 'Research & Development', '18', \"Master's Degree\", 'Medical', '1', '1034', '3', 'Male', '62', '3', '2', 'Healthcare Representative', '2', 'Married', '6385', '12992', '3', 'Y', 'Yes', '14', '3', '4', '80', '2', '17', '3', '3', '8', '7', '6', '7']\n",
      "['', '101', '41', 'No', 'Non-Travel', '247', 'Research & Development', '7', 'High School', 'Life Sciences', '1', '1035', '2', 'Female', '55', '1', '5', 'Research Director', '3', 'Divorced', '19973', '20284', '1', 'Y', 'No', '22', '4', '2', '80', '2', '21', '3', '3', '21', '16', '5', '10']\n",
      "['', '52', '38', 'No', 'Travel_Rarely', '1035', 'Sales', '3', \"Master's Degree\", 'Life Sciences', '1', '1036', '2', 'Male', '42', '3', '2', 'Sales Executive', '4', 'Single', '6861', '4981', '8', 'Y', 'Yes', '12', '3', '3', '80', '0', '19', '1', '3', '1', '0', '0', '0']\n",
      "['10/25/2021 12:00:00 AM', '213', '26', 'Yes', 'Non-Travel', '265', 'Sales', '29', 'Associates Degree', 'Medical', '1', '1037', '2', 'Male', '79', '1', '2', 'Sales Executive', '1', 'Single', '4969', '21813', '8', 'Y', 'No', '18', '3', '4', '80', '0', '7', '6', '3', '2', '2', '2', '2']\n",
      "['4/25/2022 12:00:00 AM', '31', '52', 'Yes', 'Travel_Rarely', '266', 'Sales', '2', 'High School', 'Marketing', '1', '1038', '1', 'Female', '57', '1', '5', 'Manager', '4', 'Married', '19845', '25846', '1', 'Y', 'No', '15', '3', '4', '80', '1', '33', '3', '3', '32', '14', '6', '9']\n",
      "['', '209', '44', 'No', 'Travel_Rarely', '1448', 'Sales', '28', \"Bachelor's Degree\", 'Medical', '1', '1039', '4', 'Female', '53', '4', '4', 'Sales Executive', '4', 'Married', '13320', '11737', '3', 'Y', 'Yes', '18', '3', '3', '80', '1', '23', '2', '3', '12', '11', '11', '11']\n",
      "['', '23', '50', 'No', 'Non-Travel', '145', 'Sales', '1', \"Bachelor's Degree\", 'Life Sciences', '1', '1040', '4', 'Female', '95', '3', '2', 'Sales Executive', '3', 'Married', '6347', '24920', '0', 'Y', 'No', '12', '3', '1', '80', '1', '19', '3', '3', '18', '7', '0', '13']\n",
      "['10/17/2021 12:00:00 AM', '221', '36', 'Yes', 'Travel_Rarely', '885', 'Research & Development', '16', \"Master's Degree\", 'Life Sciences', '1', '1042', '3', 'Female', '43', '4', '1', 'Laboratory Technician', '1', 'Single', '2743', '8269', '1', 'Y', 'No', '16', '3', '3', '80', '0', '18', '1', '3', '17', '13', '15', '14']\n",
      "['', '171', '39', 'No', 'Travel_Frequently', '945', 'Research & Development', '22', \"Bachelor's Degree\", 'Medical', '1', '1043', '4', 'Female', '82', '3', '3', 'Manufacturing Director', '1', 'Single', '10880', '5083', '1', 'Y', 'Yes', '13', '3', '3', '80', '0', '21', '2', '3', '21', '6', '2', '8']\n",
      "['', '114', '33', 'No', 'Non-Travel', '1038', 'Sales', '8', 'High School', 'Life Sciences', '1', '1044', '2', 'Female', '88', '2', '1', 'Sales Representative', '4', 'Single', '2342', '21437', '0', 'Y', 'No', '19', '3', '4', '80', '0', '3', '2', '2', '2', '2', '2', '2']\n",
      "['', '156', '45', 'No', 'Travel_Rarely', '1234', 'Sales', '11', 'Associates Degree', 'Life Sciences', '1', '1045', '4', 'Female', '90', '3', '4', 'Manager', '4', 'Married', '17650', '5404', '3', 'Y', 'No', '13', '3', '2', '80', '1', '26', '4', '4', '9', '3', '1', '1']\n",
      "['', '213', '32', 'No', 'Non-Travel', '1109', 'Research & Development', '29', \"Master's Degree\", 'Medical', '1', '1046', '4', 'Female', '69', '3', '1', 'Laboratory Technician', '3', 'Single', '4025', '11135', '9', 'Y', 'No', '12', '3', '2', '80', '0', '10', '2', '3', '8', '7', '7', '7']\n",
      "['', '22', '34', 'No', 'Travel_Rarely', '216', 'Sales', '1', \"Master's Degree\", 'Marketing', '1', '1047', '2', 'Male', '75', '4', '2', 'Sales Executive', '4', 'Divorced', '9725', '12278', '0', 'Y', 'No', '11', '3', '4', '80', '1', '16', '2', '2', '15', '1', '0', '9']\n",
      "['', '29', '59', 'No', 'Travel_Rarely', '1089', 'Sales', '1', 'Associates Degree', 'Technical Degree', '1', '1048', '2', 'Male', '66', '3', '3', 'Manager', '4', 'Married', '11904', '11038', '3', 'Y', 'Yes', '14', '3', '3', '80', '1', '14', '1', '1', '6', '4', '0', '4']\n",
      "['', '181', '45', 'No', 'Travel_Rarely', '788', 'Human Resources', '24', \"Master's Degree\", 'Medical', '1', '1049', '2', 'Male', '36', '3', '1', 'Human Resources', '2', 'Single', '2177', '8318', '1', 'Y', 'No', '16', '3', '1', '80', '0', '6', '3', '3', '6', '3', '0', '4']\n",
      "['', '35', '53', 'No', 'Travel_Frequently', '124', 'Sales', '2', \"Bachelor's Degree\", 'Marketing', '1', '1050', '3', 'Female', '38', '2', '3', 'Sales Executive', '2', 'Married', '7525', '23537', '2', 'Y', 'No', '12', '3', '1', '80', '1', '30', '2', '3', '15', '7', '6', '12']\n",
      "['2/27/2022 12:00:00 AM', '88', '36', 'Yes', 'Travel_Rarely', '660', 'Research & Development', '15', \"Bachelor's Degree\", 'Other', '1', '1052', '1', 'Male', '81', '3', '2', 'Laboratory Technician', '3', 'Divorced', '4834', '7858', '7', 'Y', 'No', '14', '3', '2', '80', '1', '9', '3', '2', '1', '0', '0', '0']\n",
      "['4/13/2022 12:00:00 AM', '43', '26', 'Yes', 'Travel_Frequently', '342', 'Research & Development', '2', \"Bachelor's Degree\", 'Life Sciences', '1', '1053', '1', 'Male', '57', '3', '1', 'Research Scientist', '1', 'Married', '2042', '15346', '6', 'Y', 'Yes', '14', '3', '2', '80', '1', '6', '2', '3', '3', '2', '1', '2']\n",
      "['', '143', '34', 'No', 'Travel_Rarely', '1333', 'Sales', '10', \"Master's Degree\", 'Life Sciences', '1', '1055', '3', 'Female', '87', '3', '1', 'Sales Representative', '3', 'Married', '2220', '18410', '1', 'Y', 'Yes', '19', '3', '4', '80', '1', '1', '2', '3', '1', '1', '0', '0']\n",
      "['', '83', '28', 'No', 'Travel_Rarely', '1144', 'Sales', '10', 'High School', 'Medical', '1', '1056', '4', 'Male', '74', '3', '1', 'Sales Representative', '2', 'Married', '1052', '23384', '1', 'Y', 'No', '22', '4', '2', '80', '0', '1', '5', '3', '1', '0', '0', '0']\n",
      "['', '32', '38', 'No', 'Travel_Frequently', '1186', 'Research & Development', '3', \"Master's Degree\", 'Other', '1', '1060', '3', 'Male', '44', '3', '1', 'Research Scientist', '3', 'Married', '2821', '2997', '3', 'Y', 'No', '16', '3', '1', '80', '1', '8', '2', '3', '2', '2', '2', '2']\n",
      "['', '27', '50', 'No', 'Travel_Rarely', '1464', 'Research & Development', '2', \"Master's Degree\", 'Medical', '1', '1061', '2', 'Male', '62', '3', '5', 'Research Director', '3', 'Married', '19237', '12853', '2', 'Y', 'Yes', '11', '3', '4', '80', '1', '29', '2', '2', '8', '1', '7', '7']\n",
      "['', '28', '37', 'No', 'Travel_Rarely', '124', 'Research & Development', '3', \"Bachelor's Degree\", 'Other', '1', '1062', '4', 'Female', '35', '3', '2', 'Healthcare Representative', '2', 'Single', '4107', '13848', '3', 'Y', 'No', '15', '3', '1', '80', '0', '8', '3', '2', '4', '3', '0', '1']\n",
      "['', '247', '40', 'No', 'Travel_Rarely', '300', 'Sales', '26', \"Bachelor's Degree\", 'Marketing', '1', '1066', '3', 'Male', '74', '3', '2', 'Sales Executive', '1', 'Married', '8396', '22217', '1', 'Y', 'No', '14', '3', '2', '80', '1', '8', '3', '2', '7', '7', '7', '5']\n",
      "['', '24', '26', 'No', 'Travel_Frequently', '921', 'Research & Development', '1', 'High School', 'Medical', '1', '1068', '1', 'Female', '66', '2', '1', 'Research Scientist', '3', 'Divorced', '2007', '25265', '1', 'Y', 'No', '13', '3', '3', '80', '2', '5', '5', '3', '5', '3', '1', '3']\n",
      "['', '20', '46', 'No', 'Travel_Rarely', '430', 'Research & Development', '1', \"Master's Degree\", 'Medical', '1', '1069', '4', 'Male', '40', '3', '5', 'Research Director', '4', 'Divorced', '19627', '21445', '9', 'Y', 'No', '17', '3', '4', '80', '2', '23', '0', '3', '2', '2', '2', '2']\n",
      "['', '39', '54', 'No', 'Travel_Rarely', '1082', 'Sales', '2', \"Master's Degree\", 'Life Sciences', '1', '1070', '3', 'Female', '41', '2', '3', 'Sales Executive', '3', 'Married', '10686', '8392', '6', 'Y', 'No', '11', '3', '2', '80', '1', '13', '4', '3', '9', '4', '7', '0']\n",
      "['', '80', '56', 'No', 'Travel_Frequently', '1240', 'Research & Development', '9', \"Bachelor's Degree\", 'Medical', '1', '1071', '1', 'Female', '63', '3', '1', 'Research Scientist', '3', 'Married', '2942', '12154', '2', 'Y', 'No', '19', '3', '2', '80', '1', '18', '4', '3', '5', '4', '0', '3']\n",
      "['', '97', '36', 'No', 'Travel_Rarely', '796', 'Research & Development', '12', 'Doctoral Degree', 'Medical', '1', '1073', '4', 'Female', '51', '2', '3', 'Manufacturing Director', '4', 'Single', '8858', '15669', '0', 'Y', 'No', '11', '3', '2', '80', '0', '15', '2', '2', '14', '8', '7', '8']\n",
      "['', '24', '55', 'No', 'Non-Travel', '444', 'Research & Development', '2', 'High School', 'Medical', '1', '1074', '3', 'Male', '40', '2', '4', 'Manager', '1', 'Single', '16756', '17323', '7', 'Y', 'No', '15', '3', '2', '80', '0', '31', '3', '4', '9', '7', '6', '2']\n",
      "['', '188', '43', 'No', 'Travel_Rarely', '415', 'Sales', '25', \"Bachelor's Degree\", 'Medical', '1', '1076', '3', 'Male', '79', '2', '3', 'Sales Executive', '4', 'Divorced', '10798', '5268', '5', 'Y', 'No', '13', '3', '3', '80', '1', '18', '5', '3', '1', '0', '0', '0']\n",
      "['2/17/2022 12:00:00 AM', '98', '20', 'Yes', 'Travel_Frequently', '769', 'Sales', '9', \"Bachelor's Degree\", 'Marketing', '1', '1077', '4', 'Female', '54', '3', '1', 'Sales Representative', '4', 'Single', '2323', '17205', '1', 'Y', 'Yes', '14', '3', '2', '80', '0', '2', '3', '3', '2', '2', '0', '2']\n",
      "['1/3/2022 12:00:00 AM', '143', '21', 'Yes', 'Travel_Rarely', '1334', 'Research & Development', '10', \"Bachelor's Degree\", 'Life Sciences', '1', '1079', '3', 'Female', '36', '2', '1', 'Laboratory Technician', '1', 'Single', '1416', '17258', '1', 'Y', 'No', '13', '3', '1', '80', '0', '1', '6', '2', '1', '0', '1', '0']\n",
      "['', '117', '46', 'No', 'Travel_Rarely', '1003', 'Research & Development', '8', \"Master's Degree\", 'Life Sciences', '1', '1080', '4', 'Female', '74', '2', '2', 'Research Scientist', '1', 'Divorced', '4615', '21029', '8', 'Y', 'Yes', '23', '4', '1', '80', '3', '19', '2', '3', '16', '13', '1', '7']\n",
      "['3/22/2022 12:00:00 AM', '65', '51', 'Yes', 'Travel_Rarely', '1323', 'Research & Development', '4', \"Master's Degree\", 'Life Sciences', '1', '1081', '1', 'Male', '34', '3', '1', 'Research Scientist', '3', 'Married', '2461', '10332', '9', 'Y', 'Yes', '12', '3', '3', '80', '3', '18', '2', '4', '10', '0', '2', '7']\n",
      "['11/10/2021 12:00:00 AM', '197', '28', 'Yes', 'Non-Travel', '1366', 'Research & Development', '24', 'Associates Degree', 'Technical Degree', '1', '1082', '2', 'Male', '72', '2', '3', 'Healthcare Representative', '1', 'Single', '8722', '12355', '1', 'Y', 'No', '12', '3', '1', '80', '0', '10', '2', '2', '10', '7', '1', '9']\n",
      "['', '20', '26', 'No', 'Travel_Rarely', '192', 'Research & Development', '1', 'Associates Degree', 'Medical', '1', '1083', '1', 'Male', '59', '2', '1', 'Laboratory Technician', '1', 'Married', '3955', '11141', '1', 'Y', 'No', '16', '3', '1', '80', '2', '6', '2', '3', '5', '3', '1', '3']\n",
      "['', '113', '30', 'No', 'Travel_Rarely', '1176', 'Research & Development', '20', \"Bachelor's Degree\", 'Other', '1', '1084', '3', 'Male', '85', '3', '2', 'Manufacturing Director', '1', 'Married', '9957', '9096', '0', 'Y', 'No', '15', '3', '3', '80', '1', '7', '1', '2', '6', '2', '0', '2']\n",
      "['', '125', '41', 'No', 'Travel_Rarely', '509', 'Research & Development', '7', 'Associates Degree', 'Technical Degree', '1', '1085', '2', 'Female', '43', '4', '1', 'Research Scientist', '3', 'Married', '3376', '18863', '1', 'Y', 'No', '13', '3', '3', '80', '0', '10', '3', '3', '10', '6', '0', '8']\n",
      "['', '234', '38', 'No', 'Travel_Rarely', '330', 'Research & Development', '17', 'High School', 'Life Sciences', '1', '1088', '3', 'Female', '65', '2', '3', 'Healthcare Representative', '3', 'Married', '8823', '24608', '0', 'Y', 'No', '18', '3', '1', '80', '1', '20', '4', '2', '19', '9', '1', '9']\n",
      "['', '333', '40', 'No', 'Travel_Rarely', '1492', 'Research & Development', '20', \"Master's Degree\", 'Technical Degree', '1', '1092', '1', 'Male', '61', '3', '3', 'Healthcare Representative', '4', 'Married', '10322', '26542', '4', 'Y', 'No', '20', '4', '4', '80', '1', '14', '6', '3', '11', '10', '11', '1']\n",
      "['', '114', '27', 'No', 'Non-Travel', '1277', 'Research & Development', '8', 'Doctoral Degree', 'Life Sciences', '1', '1094', '1', 'Male', '87', '1', '1', 'Laboratory Technician', '3', 'Married', '4621', '5869', '1', 'Y', 'No', '19', '3', '4', '80', '3', '3', '4', '3', '3', '2', '1', '2']\n",
      "['', '43', '55', 'No', 'Travel_Frequently', '1091', 'Research & Development', '2', 'High School', 'Life Sciences', '1', '1096', '4', 'Male', '65', '3', '3', 'Manufacturing Director', '2', 'Married', '10976', '15813', '3', 'Y', 'No', '18', '3', '2', '80', '1', '23', '4', '3', '3', '2', '1', '2']\n",
      "['', '63', '28', 'No', 'Travel_Rarely', '857', 'Research & Development', '10', \"Bachelor's Degree\", 'Other', '1', '1097', '3', 'Female', '59', '3', '2', 'Research Scientist', '3', 'Single', '3660', '7909', '3', 'Y', 'No', '13', '3', '4', '80', '0', '10', '4', '4', '8', '7', '1', '7']\n",
      "['5/6/2022 12:00:00 AM', '20', '44', 'Yes', 'Travel_Rarely', '1376', 'Human Resources', '1', 'Associates Degree', 'Medical', '1', '1098', '2', 'Male', '91', '2', '3', 'Human Resources', '1', 'Married', '10482', '2326', '9', 'Y', 'No', '14', '3', '4', '80', '1', '24', '1', '3', '20', '6', '3', '6']\n",
      "['', '78', '33', 'No', 'Travel_Rarely', '654', 'Research & Development', '5', \"Bachelor's Degree\", 'Life Sciences', '1', '1099', '4', 'Male', '34', '2', '3', 'Healthcare Representative', '4', 'Divorced', '7119', '21214', '4', 'Y', 'No', '15', '3', '3', '80', '1', '9', '2', '3', '3', '2', '1', '2']\n",
      "['3/10/2022 12:00:00 AM', '77', '35', 'Yes', 'Travel_Rarely', '1204', 'Sales', '4', \"Bachelor's Degree\", 'Technical Degree', '1', '1100', '4', 'Male', '86', '3', '3', 'Sales Executive', '1', 'Single', '9582', '10333', '0', 'Y', 'Yes', '22', '4', '1', '80', '0', '9', '2', '3', '8', '7', '4', '7']\n",
      "['10/18/2021 12:00:00 AM', '220', '33', 'Yes', 'Travel_Frequently', '827', 'Research & Development', '29', \"Master's Degree\", 'Medical', '1', '1101', '1', 'Female', '54', '2', '2', 'Research Scientist', '3', 'Single', '4508', '3129', '1', 'Y', 'No', '22', '4', '2', '80', '0', '14', '4', '3', '13', '7', '3', '8']\n",
      "['', '208', '28', 'No', 'Travel_Rarely', '895', 'Research & Development', '15', 'Associates Degree', 'Life Sciences', '1', '1102', '1', 'Male', '50', '3', '1', 'Laboratory Technician', '3', 'Divorced', '2207', '22482', '1', 'Y', 'No', '16', '3', '4', '80', '1', '4', '5', '2', '4', '2', '2', '2']\n",
      "['', '56', '34', 'No', 'Travel_Frequently', '618', 'Research & Development', '3', 'High School', 'Life Sciences', '1', '1103', '1', 'Male', '45', '3', '2', 'Healthcare Representative', '4', 'Single', '7756', '22266', '0', 'Y', 'No', '17', '3', '3', '80', '0', '7', '1', '2', '6', '2', '0', '4']\n",
      "['', '143', '37', 'No', 'Travel_Rarely', '309', 'Sales', '10', \"Master's Degree\", 'Life Sciences', '1', '1105', '4', 'Female', '88', '2', '2', 'Sales Executive', '4', 'Divorced', '6694', '24223', '2', 'Y', 'Yes', '14', '3', '3', '80', '3', '8', '5', '3', '1', '0', '0', '0']\n",
      "['3/10/2022 12:00:00 AM', '77', '25', 'Yes', 'Travel_Rarely', '1219', 'Research & Development', '4', 'High School', 'Technical Degree', '1', '1106', '4', 'Male', '32', '3', '1', 'Laboratory Technician', '4', 'Married', '3691', '4605', '1', 'Y', 'Yes', '15', '3', '2', '80', '1', '7', '3', '4', '7', '7', '5', '6']\n",
      "['12/17/2021 12:00:00 AM', '160', '26', 'Yes', 'Travel_Rarely', '1330', 'Research & Development', '21', \"Bachelor's Degree\", 'Medical', '1', '1107', '1', 'Male', '37', '3', '1', 'Laboratory Technician', '3', 'Divorced', '2377', '19373', '1', 'Y', 'No', '20', '4', '3', '80', '1', '1', '0', '2', '1', '1', '0', '0']\n",
      "['11/19/2021 12:00:00 AM', '188', '33', 'Yes', 'Travel_Rarely', '1017', 'Research & Development', '25', \"Bachelor's Degree\", 'Medical', '1', '1108', '1', 'Male', '55', '2', '1', 'Research Scientist', '2', 'Single', '2313', '2993', '4', 'Y', 'Yes', '20', '4', '2', '80', '0', '5', '0', '3', '2', '2', '2', '2']\n",
      "['', '27', '42', 'No', 'Travel_Rarely', '469', 'Research & Development', '2', 'Associates Degree', 'Medical', '1', '1109', '4', 'Male', '35', '3', '4', 'Manager', '1', 'Married', '17665', '14399', '0', 'Y', 'No', '17', '3', '4', '80', '1', '23', '3', '3', '22', '6', '13', '7']\n",
      "['5/2/2022 12:00:00 AM', '24', '28', 'Yes', 'Travel_Frequently', '1009', 'Research & Development', '1', \"Bachelor's Degree\", 'Medical', '1', '1111', '1', 'Male', '45', '2', '1', 'Laboratory Technician', '2', 'Divorced', '2596', '7160', '1', 'Y', 'No', '15', '3', '1', '80', '2', '1', '2', '3', '1', '0', '0', '0']\n",
      "['5/4/2022 12:00:00 AM', '22', '50', 'Yes', 'Travel_Frequently', '959', 'Sales', '1', \"Master's Degree\", 'Other', '1', '1113', '4', 'Male', '81', '3', '2', 'Sales Executive', '3', 'Single', '4728', '17251', '3', 'Y', 'Yes', '14', '3', '4', '80', '0', '5', '4', '3', '0', '0', '0', '0']\n",
      "['', '108', '33', 'No', 'Travel_Frequently', '970', 'Sales', '7', \"Bachelor's Degree\", 'Life Sciences', '1', '1114', '4', 'Female', '30', '3', '2', 'Sales Executive', '2', 'Married', '4302', '13401', '0', 'Y', 'No', '17', '3', '3', '80', '1', '4', '3', '3', '3', '2', '0', '2']\n",
      "['', '49', '34', 'No', 'Non-Travel', '697', 'Research & Development', '3', \"Master's Degree\", 'Life Sciences', '1', '1115', '3', 'Male', '40', '2', '1', 'Research Scientist', '4', 'Married', '2979', '22478', '3', 'Y', 'No', '17', '3', '4', '80', '3', '6', '2', '3', '0', '0', '0', '0']\n",
      "['', '17', '48', 'No', 'Non-Travel', '1262', 'Research & Development', '1', \"Master's Degree\", 'Medical', '1', '1116', '1', 'Male', '35', '4', '4', 'Manager', '4', 'Single', '16885', '16154', '2', 'Y', 'No', '22', '4', '3', '80', '0', '27', '3', '2', '5', '4', '2', '1']\n",
      "['', '127', '45', 'No', 'Non-Travel', '1050', 'Sales', '9', \"Master's Degree\", 'Life Sciences', '1', '1117', '2', 'Female', '65', '2', '2', 'Sales Executive', '3', 'Married', '5593', '17970', '1', 'Y', 'No', '13', '3', '4', '80', '1', '15', '2', '3', '15', '10', '4', '12']\n",
      "['', '104', '52', 'No', 'Travel_Rarely', '994', 'Research & Development', '7', \"Master's Degree\", 'Life Sciences', '1', '1118', '2', 'Male', '87', '3', '3', 'Healthcare Representative', '2', 'Single', '10445', '15322', '7', 'Y', 'No', '19', '3', '4', '80', '0', '18', '4', '3', '8', '6', '4', '0']\n",
      "['', '103', '38', 'No', 'Travel_Rarely', '770', 'Sales', '10', \"Master's Degree\", 'Marketing', '1', '1119', '3', 'Male', '73', '2', '3', 'Sales Executive', '3', 'Divorced', '8740', '5569', '0', 'Y', 'Yes', '14', '3', '2', '80', '2', '9', '2', '3', '8', '7', '2', '7']\n",
      "['', '188.5', '29', 'No', 'Travel_Rarely', '1107', 'Research & Development', '28', \"Master's Degree\", 'Life Sciences', '1', '1120', '3', 'Female', '93', '3', '1', 'Research Scientist', '4', 'Divorced', '2514', '26968', '4', 'Y', 'No', '22', '4', '1', '80', '1', '11', '1', '3', '7', '5', '1', '7']\n",
      "['', '34', '28', 'No', 'Travel_Rarely', '950', 'Research & Development', '3', \"Bachelor's Degree\", 'Medical', '1', '1121', '4', 'Female', '93', '3', '3', 'Manufacturing Director', '2', 'Divorced', '7655', '8039', '0', 'Y', 'No', '17', '3', '2', '80', '3', '10', '3', '2', '9', '7', '1', '7']\n",
      "['', '40', '46', 'No', 'Travel_Rarely', '406', 'Sales', '3', 'High School', 'Marketing', '1', '1124', '1', 'Male', '52', '3', '4', 'Manager', '3', 'Married', '17465', '15596', '3', 'Y', 'No', '12', '3', '4', '80', '1', '23', '3', '3', '12', '9', '4', '9']\n",
      "['', '31', '38', 'No', 'Travel_Rarely', '130', 'Sales', '2', 'Associates Degree', 'Marketing', '1', '1125', '4', 'Male', '32', '3', '3', 'Sales Executive', '2', 'Single', '7351', '20619', '7', 'Y', 'No', '16', '3', '3', '80', '0', '10', '2', '3', '1', '0', '0', '0']\n",
      "['', '184', '43', 'No', 'Travel_Frequently', '1082', 'Research & Development', '27', \"Bachelor's Degree\", 'Life Sciences', '1', '1126', '3', 'Female', '83', '3', '3', 'Manufacturing Director', '1', 'Married', '10820', '11535', '8', 'Y', 'No', '11', '3', '3', '80', '1', '18', '1', '3', '8', '7', '0', '1']\n",
      "['4/13/2022 12:00:00 AM', '43', '39', 'Yes', 'Travel_Frequently', '203', 'Research & Development', '2', \"Bachelor's Degree\", 'Life Sciences', '1', '1127', '1', 'Male', '84', '3', '4', 'Healthcare Representative', '4', 'Divorced', '12169', '13547', '7', 'Y', 'No', '11', '3', '4', '80', '3', '21', '4', '3', '18', '7', '11', '5']\n",
      "['', '111', '40', 'No', 'Travel_Rarely', '1308', 'Research & Development', '14', \"Bachelor's Degree\", 'Medical', '1', '1128', '3', 'Male', '44', '2', '5', 'Research Director', '3', 'Single', '19626', '17544', '1', 'Y', 'No', '14', '3', '1', '80', '0', '21', '2', '4', '20', '7', '4', '9']\n",
      "['', '29', '21', 'No', 'Travel_Rarely', '984', 'Research & Development', '1', 'High School', 'Technical Degree', '1', '1131', '4', 'Female', '70', '2', '1', 'Research Scientist', '2', 'Single', '2070', '25326', '1', 'Y', 'Yes', '11', '3', '3', '80', '0', '2', '6', '4', '2', '2', '2', '2']\n",
      "['', '127', '39', 'No', 'Non-Travel', '439', 'Research & Development', '9', \"Bachelor's Degree\", 'Life Sciences', '1', '1132', '3', 'Male', '70', '3', '2', 'Laboratory Technician', '2', 'Single', '6782', '8770', '9', 'Y', 'No', '15', '3', '3', '80', '0', '9', '2', '2', '5', '4', '0', '3']\n",
      "['', '244', '36', 'No', 'Non-Travel', '217', 'Research & Development', '18', \"Master's Degree\", 'Life Sciences', '1', '1133', '1', 'Male', '78', '3', '2', 'Manufacturing Director', '4', 'Single', '7779', '23238', '2', 'Y', 'No', '20', '4', '1', '80', '0', '18', '0', '3', '11', '9', '0', '9']\n",
      "['', '277', '31', 'No', 'Travel_Frequently', '793', 'Sales', '20', \"Bachelor's Degree\", 'Life Sciences', '1', '1135', '3', 'Male', '67', '4', '1', 'Sales Representative', '4', 'Married', '2791', '21981', '0', 'Y', 'No', '12', '3', '1', '80', '1', '3', '4', '3', '2', '2', '2', '2']\n",
      "['', '39', '28', 'No', 'Travel_Rarely', '1451', 'Research & Development', '2', 'High School', 'Life Sciences', '1', '1136', '1', 'Male', '67', '2', '1', 'Research Scientist', '2', 'Married', '3201', '19911', '0', 'Y', 'No', '17', '3', '1', '80', '0', '6', '2', '1', '5', '3', '0', '4']\n",
      "['', '116', '35', 'No', 'Travel_Frequently', '1182', 'Sales', '11', 'Associates Degree', 'Marketing', '1', '1137', '4', 'Male', '54', '3', '2', 'Sales Executive', '4', 'Divorced', '4968', '18500', '1', 'Y', 'No', '11', '3', '4', '80', '1', '5', '3', '3', '5', '2', '0', '2']\n",
      "['', '141', '49', 'No', 'Travel_Rarely', '174', 'Sales', '8', \"Master's Degree\", 'Technical Degree', '1', '1138', '4', 'Male', '56', '2', '4', 'Sales Executive', '2', 'Married', '13120', '11879', '6', 'Y', 'No', '17', '3', '2', '80', '1', '22', '3', '3', '9', '8', '2', '3']\n",
      "['', '43', '34', 'No', 'Travel_Frequently', '1003', 'Research & Development', '2', 'Associates Degree', 'Life Sciences', '1', '1140', '4', 'Male', '95', '3', '2', 'Manufacturing Director', '3', 'Single', '4033', '15834', '2', 'Y', 'No', '11', '3', '4', '80', '0', '5', '3', '2', '3', '2', '0', '2']\n",
      "['', '147', '29', 'No', 'Travel_Frequently', '490', 'Research & Development', '10', \"Bachelor's Degree\", 'Life Sciences', '1', '1143', '4', 'Female', '61', '3', '1', 'Research Scientist', '2', 'Divorced', '3291', '17940', '0', 'Y', 'No', '14', '3', '4', '80', '2', '8', '2', '2', '7', '5', '1', '1']\n",
      "['', '216', '42', 'No', 'Travel_Rarely', '188', 'Research & Development', '29', \"Bachelor's Degree\", 'Medical', '1', '1148', '2', 'Male', '56', '1', '2', 'Laboratory Technician', '4', 'Single', '4272', '9558', '4', 'Y', 'No', '19', '3', '1', '80', '0', '16', '3', '3', '1', '0', '0', '0']\n",
      "['', '69', '29', 'No', 'Travel_Rarely', '718', 'Research & Development', '8', 'High School', 'Medical', '1', '1150', '2', 'Male', '79', '2', '2', 'Manufacturing Director', '4', 'Married', '5056', '17689', '1', 'Y', 'Yes', '15', '3', '3', '80', '1', '10', '2', '2', '10', '7', '1', '2']\n",
      "['', '28', '38', 'No', 'Travel_Rarely', '433', 'Human Resources', '1', \"Bachelor's Degree\", 'Human Resources', '1', '1152', '3', 'Male', '37', '4', '1', 'Human Resources', '3', 'Married', '2844', '6004', '1', 'Y', 'No', '13', '3', '4', '80', '1', '7', '2', '4', '7', '6', '5', '0']\n",
      "['', '95', '28', 'No', 'Travel_Frequently', '773', 'Research & Development', '6', \"Bachelor's Degree\", 'Life Sciences', '1', '1154', '3', 'Male', '39', '2', '1', 'Research Scientist', '3', 'Divorced', '2703', '22088', '1', 'Y', 'Yes', '14', '3', '4', '80', '1', '3', '2', '3', '3', '1', '0', '2']\n",
      "['3/21/2022 12:00:00 AM', '66', '18', 'Yes', 'Non-Travel', '247', 'Research & Development', '8', 'High School', 'Medical', '1', '1156', '3', 'Male', '80', '3', '1', 'Laboratory Technician', '3', 'Single', '1904', '13556', '1', 'Y', 'No', '12', '3', '4', '80', '0', '0', '0', '3', '0', '0', '0', '0']\n",
      "['2/21/2022 12:00:00 AM', '94', '33', 'Yes', 'Travel_Rarely', '603', 'Sales', '9', \"Master's Degree\", 'Marketing', '1', '1157', '1', 'Female', '77', '3', '2', 'Sales Executive', '1', 'Single', '8224', '18385', '0', 'Y', 'Yes', '17', '3', '1', '80', '0', '6', '3', '3', '5', '2', '0', '3']\n",
      "['', '169', '41', 'No', 'Travel_Rarely', '167', 'Research & Development', '12', \"Master's Degree\", 'Life Sciences', '1', '1158', '2', 'Male', '46', '3', '1', 'Laboratory Technician', '4', 'Married', '4766', '9051', '3', 'Y', 'Yes', '11', '3', '1', '80', '1', '6', '4', '3', '1', '0', '0', '0']\n",
      "['1/24/2022 12:00:00 AM', '122', '31', 'Yes', 'Travel_Frequently', '874', 'Research & Development', '15', \"Bachelor's Degree\", 'Medical', '1', '1160', '3', 'Male', '72', '3', '1', 'Laboratory Technician', '3', 'Married', '2610', '6233', '1', 'Y', 'No', '12', '3', '3', '80', '1', '2', '5', '2', '2', '2', '2', '2']\n",
      "['', '188', '37', 'No', 'Travel_Rarely', '367', 'Research & Development', '25', 'Associates Degree', 'Medical', '1', '1161', '3', 'Female', '52', '2', '2', 'Healthcare Representative', '4', 'Divorced', '5731', '17171', '7', 'Y', 'No', '13', '3', '3', '80', '2', '9', '2', '3', '6', '2', '1', '3']\n",
      "['', '91', '27', 'No', 'Travel_Rarely', '199', 'Research & Development', '6', \"Bachelor's Degree\", 'Life Sciences', '1', '1162', '4', 'Male', '55', '2', '1', 'Research Scientist', '3', 'Married', '2539', '7950', '1', 'Y', 'No', '13', '3', '3', '80', '1', '4', '0', '3', '4', '2', '2', '2']\n",
      "['', '130', '34', 'No', 'Travel_Rarely', '1400', 'Sales', '9', 'High School', 'Life Sciences', '1', '1163', '2', 'Female', '70', '3', '2', 'Sales Executive', '3', 'Married', '5714', '5829', '1', 'Y', 'No', '20', '4', '1', '80', '0', '6', '3', '2', '6', '5', '1', '3']\n",
      "['', '141', '35', 'No', 'Travel_Rarely', '528', 'Human Resources', '8', \"Master's Degree\", 'Technical Degree', '1', '1164', '3', 'Male', '100', '3', '1', 'Human Resources', '3', 'Single', '4323', '7108', '1', 'Y', 'No', '17', '3', '2', '80', '0', '6', '2', '1', '5', '4', '1', '4']\n",
      "['7/18/2021 12:00:00 AM', '312', '29', 'Yes', 'Travel_Rarely', '408', 'Sales', '23', 'High School', 'Life Sciences', '1', '1165', '4', 'Female', '45', '2', '3', 'Sales Executive', '1', 'Married', '7336', '11162', '1', 'Y', 'No', '13', '3', '1', '80', '1', '11', '3', '1', '11', '8', '3', '10']\n",
      "['', '80', '40', 'No', 'Travel_Frequently', '593', 'Research & Development', '9', \"Master's Degree\", 'Medical', '1', '1166', '2', 'Female', '88', '3', '3', 'Research Director', '3', 'Single', '13499', '13782', '9', 'Y', 'No', '17', '3', '3', '80', '0', '20', '3', '2', '18', '7', '2', '13']\n",
      "['12/4/2021 12:00:00 AM', '173', '42', 'Yes', 'Travel_Frequently', '481', 'Sales', '12', \"Bachelor's Degree\", 'Life Sciences', '1', '1167', '3', 'Male', '44', '3', '4', 'Sales Executive', '1', 'Single', '13758', '2447', '0', 'Y', 'Yes', '12', '3', '2', '80', '0', '22', '2', '2', '21', '9', '13', '14']\n",
      "['', '49', '42', 'No', 'Travel_Rarely', '647', 'Sales', '4', \"Master's Degree\", 'Marketing', '1', '1171', '2', 'Male', '45', '3', '2', 'Sales Executive', '1', 'Single', '5155', '2253', '7', 'Y', 'No', '13', '3', '4', '80', '0', '9', '3', '4', '6', '4', '1', '5']\n",
      "['', '20', '35', 'No', 'Travel_Rarely', '982', 'Research & Development', '1', \"Master's Degree\", 'Medical', '1', '1172', '4', 'Male', '58', '2', '1', 'Laboratory Technician', '3', 'Married', '2258', '16340', '6', 'Y', 'No', '12', '3', '2', '80', '1', '10', '2', '3', '8', '0', '1', '7']\n",
      "['', '181', '24', 'No', 'Travel_Rarely', '477', 'Research & Development', '24', \"Bachelor's Degree\", 'Medical', '1', '1173', '4', 'Male', '49', '3', '1', 'Laboratory Technician', '2', 'Single', '3597', '6409', '8', 'Y', 'No', '22', '4', '4', '80', '0', '6', '2', '3', '4', '3', '1', '2']\n",
      "['12/8/2021 12:00:00 AM', '169', '28', 'Yes', 'Travel_Rarely', '1485', 'Research & Development', '12', 'High School', 'Life Sciences', '1', '1175', '3', 'Female', '79', '3', '1', 'Laboratory Technician', '4', 'Married', '2515', '22955', '1', 'Y', 'Yes', '11', '3', '4', '80', '0', '1', '4', '2', '1', '1', '0', '0']\n",
      "['', '34', '26', 'No', 'Travel_Rarely', '1384', 'Research & Development', '3', \"Master's Degree\", 'Medical', '1', '1177', '1', 'Male', '82', '4', '1', 'Laboratory Technician', '4', 'Married', '4420', '13421', '1', 'Y', 'No', '22', '4', '2', '80', '1', '8', '2', '3', '8', '7', '0', '7']\n",
      "['', '103', '30', 'No', 'Travel_Rarely', '852', 'Sales', '10', \"Bachelor's Degree\", 'Marketing', '1', '1179', '3', 'Male', '72', '2', '2', 'Sales Executive', '3', 'Married', '6578', '2706', '1', 'Y', 'No', '18', '3', '1', '80', '1', '10', '3', '3', '10', '3', '1', '4']\n",
      "['', '199', '40', 'No', 'Travel_Frequently', '902', 'Research & Development', '26', 'Associates Degree', 'Medical', '1', '1180', '3', 'Female', '92', '2', '2', 'Research Scientist', '4', 'Married', '4422', '21203', '3', 'Y', 'Yes', '13', '3', '4', '80', '1', '16', '3', '1', '1', '1', '0', '0']\n",
      "['', '39', '35', 'No', 'Travel_Rarely', '819', 'Research & Development', '2', \"Bachelor's Degree\", 'Life Sciences', '1', '1182', '3', 'Male', '44', '2', '3', 'Manufacturing Director', '2', 'Divorced', '10274', '19588', '2', 'Y', 'No', '18', '3', '2', '80', '1', '15', '2', '4', '7', '7', '6', '4']\n",
      "['', '24', '34', 'No', 'Travel_Frequently', '669', 'Research & Development', '1', \"Bachelor's Degree\", 'Medical', '1', '1184', '4', 'Male', '97', '2', '2', 'Healthcare Representative', '1', 'Single', '5343', '25755', '0', 'Y', 'No', '20', '4', '3', '80', '0', '14', '3', '3', '13', '9', '4', '9']\n",
      "['', '37', '35', 'No', 'Travel_Frequently', '636', 'Research & Development', '4', \"Master's Degree\", 'Other', '1', '1185', '4', 'Male', '47', '2', '1', 'Laboratory Technician', '4', 'Married', '2376', '26537', '1', 'Y', 'No', '13', '3', '2', '80', '1', '2', '2', '4', '2', '2', '2', '2']\n",
      "['2/21/2022 12:00:00 AM', '94', '43', 'Yes', 'Travel_Rarely', '1372', 'Sales', '9', \"Bachelor's Degree\", 'Marketing', '1', '1188', '1', 'Female', '85', '1', '2', 'Sales Executive', '3', 'Single', '5346', '9489', '8', 'Y', 'No', '13', '3', '2', '80', '0', '7', '2', '2', '4', '3', '1', '3']\n",
      "['', '36', '32', 'No', 'Non-Travel', '862', 'Sales', '2', 'High School', 'Life Sciences', '1', '1190', '3', 'Female', '76', '3', '1', 'Sales Representative', '1', 'Divorced', '2827', '14947', '1', 'Y', 'No', '12', '3', '3', '80', '3', '1', '3', '3', '1', '0', '0', '0']\n",
      "['', '77', '56', 'No', 'Travel_Rarely', '718', 'Research & Development', '4', \"Master's Degree\", 'Technical Degree', '1', '1191', '4', 'Female', '92', '3', '5', 'Manager', '1', 'Divorced', '19943', '18575', '4', 'Y', 'No', '13', '3', '4', '80', '1', '28', '2', '3', '5', '2', '4', '2']\n",
      "['', '55', '29', 'No', 'Travel_Rarely', '1401', 'Research & Development', '6', 'High School', 'Medical', '1', '1192', '2', 'Female', '54', '3', '1', 'Laboratory Technician', '4', 'Married', '3131', '26342', '1', 'Y', 'No', '13', '3', '1', '80', '1', '10', '5', '3', '10', '8', '0', '8']\n",
      "['', '130', '19', 'No', 'Travel_Rarely', '645', 'Research & Development', '9', 'Associates Degree', 'Life Sciences', '1', '1193', '3', 'Male', '54', '3', '1', 'Research Scientist', '1', 'Single', '2552', '7172', '1', 'Y', 'No', '25', '4', '3', '80', '0', '1', '4', '3', '1', '1', '0', '0']\n",
      "['', '62', '45', 'No', 'Travel_Rarely', '1457', 'Research & Development', '7', \"Bachelor's Degree\", 'Medical', '1', '1195', '1', 'Female', '83', '3', '1', 'Research Scientist', '3', 'Married', '4477', '20100', '4', 'Y', 'Yes', '19', '3', '3', '80', '1', '7', '2', '2', '3', '2', '0', '2']\n",
      "['', '26', '37', 'No', 'Travel_Rarely', '977', 'Research & Development', '1', \"Bachelor's Degree\", 'Life Sciences', '1', '1196', '4', 'Female', '56', '2', '2', 'Manufacturing Director', '4', 'Married', '6474', '9961', '1', 'Y', 'No', '13', '3', '2', '80', '1', '14', '2', '2', '14', '8', '3', '11']\n",
      "['', '52', '20', 'No', 'Travel_Rarely', '805', 'Research & Development', '3', \"Bachelor's Degree\", 'Life Sciences', '1', '1198', '1', 'Male', '87', '2', '1', 'Laboratory Technician', '3', 'Single', '3033', '12828', '1', 'Y', 'No', '12', '3', '1', '80', '0', '2', '2', '2', '2', '2', '1', '2']\n",
      "['1/3/2022 12:00:00 AM', '143', '44', 'Yes', 'Travel_Rarely', '1097', 'Research & Development', '10', \"Master's Degree\", 'Life Sciences', '1', '1200', '3', 'Male', '96', '3', '1', 'Research Scientist', '3', 'Single', '2936', '10826', '1', 'Y', 'Yes', '11', '3', '3', '80', '0', '6', '4', '3', '6', '4', '0', '2']\n",
      "['', '62', '53', 'No', 'Travel_Rarely', '1223', 'Research & Development', '7', 'Associates Degree', 'Medical', '1', '1201', '4', 'Female', '50', '3', '5', 'Manager', '3', 'Divorced', '18606', '18640', '3', 'Y', 'No', '18', '3', '2', '80', '1', '26', '6', '3', '7', '7', '4', '7']\n",
      "['', '208', '29', 'No', 'Travel_Rarely', '942', 'Research & Development', '15', 'High School', 'Life Sciences', '1', '1202', '2', 'Female', '69', '1', '1', 'Research Scientist', '4', 'Married', '2168', '26933', '0', 'Y', 'Yes', '18', '3', '1', '80', '1', '6', '2', '2', '5', '4', '1', '3']\n",
      "['3/31/2022 12:00:00 AM', '56', '22', 'Yes', 'Travel_Frequently', '1256', 'Research & Development', '3', \"Master's Degree\", 'Life Sciences', '1', '1203', '3', 'Male', '48', '2', '1', 'Research Scientist', '4', 'Married', '2853', '4223', '0', 'Y', 'Yes', '11', '3', '2', '80', '1', '1', '5', '3', '0', '0', '0', '0']\n",
      "['', '31', '46', 'No', 'Travel_Rarely', '1402', 'Sales', '2', \"Bachelor's Degree\", 'Marketing', '1', '1204', '3', 'Female', '69', '3', '4', 'Manager', '1', 'Married', '17048', '24097', '8', 'Y', 'No', '23', '4', '1', '80', '0', '28', '2', '3', '26', '15', '15', '9']\n",
      "['', '231', '44', 'No', 'Non-Travel', '111', 'Research & Development', '17', \"Bachelor's Degree\", 'Life Sciences', '1', '1206', '4', 'Male', '74', '1', '1', 'Research Scientist', '3', 'Single', '2290', '4279', '2', 'Y', 'No', '13', '3', '4', '80', '0', '6', '3', '3', '0', '0', '0', '0']\n",
      "['', '43', '33', 'No', 'Travel_Rarely', '147', 'Human Resources', '2', \"Bachelor's Degree\", 'Human Resources', '1', '1207', '2', 'Male', '99', '3', '1', 'Human Resources', '3', 'Married', '3600', '8429', '1', 'Y', 'No', '13', '3', '4', '80', '1', '5', '2', '3', '5', '4', '1', '4']\n",
      "['3/12/2022 12:00:00 AM', '75', '41', 'Yes', 'Non-Travel', '906', 'Research & Development', '5', 'Associates Degree', 'Life Sciences', '1', '1210', '1', 'Male', '95', '2', '1', 'Research Scientist', '1', 'Divorced', '2107', '20293', '6', 'Y', 'No', '17', '3', '1', '80', '1', '5', '2', '1', '1', '0', '0', '0']\n",
      "['', '195', '30', 'No', 'Travel_Rarely', '1329', 'Sales', '29', \"Master's Degree\", 'Life Sciences', '1', '1211', '3', 'Male', '61', '3', '2', 'Sales Executive', '1', 'Divorced', '4115', '13192', '8', 'Y', 'No', '19', '3', '3', '80', '3', '8', '3', '3', '4', '3', '0', '3']\n",
      "['', '31', '40', 'No', 'Travel_Frequently', '1184', 'Sales', '2', \"Master's Degree\", 'Medical', '1', '1212', '2', 'Male', '62', '3', '2', 'Sales Executive', '2', 'Married', '4327', '25440', '5', 'Y', 'No', '12', '3', '4', '80', '3', '5', '2', '3', '0', '0', '0', '0']\n",
      "['', '31', '50', 'No', 'Travel_Frequently', '1421', 'Research & Development', '2', \"Bachelor's Degree\", 'Medical', '1', '1215', '4', 'Female', '30', '3', '4', 'Manager', '1', 'Married', '17856', '9490', '2', 'Y', 'No', '22', '4', '3', '80', '1', '32', '3', '3', '2', '2', '2', '2']\n",
      "['', '146', '28', 'No', 'Travel_Rarely', '1179', 'Research & Development', '19', \"Master's Degree\", 'Medical', '1', '1216', '4', 'Male', '78', '2', '1', 'Laboratory Technician', '1', 'Married', '3196', '12449', '1', 'Y', 'No', '12', '3', '3', '80', '3', '6', '2', '3', '6', '5', '3', '3']\n",
      "['', '208', '46', 'No', 'Travel_Rarely', '1450', 'Research & Development', '15', 'Associates Degree', 'Life Sciences', '1', '1217', '4', 'Male', '52', '3', '5', 'Research Director', '2', 'Married', '19081', '10849', '5', 'Y', 'No', '11', '3', '1', '80', '1', '25', '2', '3', '4', '2', '0', '3']\n",
      "['', '234', '35', 'No', 'Travel_Rarely', '1361', 'Sales', '17', \"Master's Degree\", 'Life Sciences', '1', '1218', '3', 'Male', '94', '3', '2', 'Sales Executive', '1', 'Married', '8966', '21026', '3', 'Y', 'Yes', '15', '3', '4', '80', '3', '15', '2', '3', '7', '7', '1', '7']\n",
      "['10/4/2021 12:00:00 AM', '234', '24', 'Yes', 'Travel_Rarely', '984', 'Research & Development', '17', 'Associates Degree', 'Life Sciences', '1', '1219', '4', 'Female', '97', '3', '1', 'Laboratory Technician', '2', 'Married', '2210', '3372', '1', 'Y', 'No', '13', '3', '1', '80', '1', '1', '3', '1', '1', '0', '0', '0']\n",
      "['', '192', '33', 'No', 'Travel_Frequently', '1146', 'Sales', '25', \"Bachelor's Degree\", 'Medical', '1', '1220', '2', 'Female', '82', '3', '2', 'Sales Executive', '3', 'Married', '4539', '4905', '1', 'Y', 'No', '12', '3', '1', '80', '1', '10', '3', '2', '10', '7', '0', '1']\n",
      "['', '91', '36', 'No', 'Travel_Rarely', '917', 'Research & Development', '6', \"Master's Degree\", 'Life Sciences', '1', '1221', '3', 'Male', '60', '1', '1', 'Laboratory Technician', '3', 'Divorced', '2741', '6865', '1', 'Y', 'No', '14', '3', '3', '80', '1', '7', '4', '3', '7', '7', '1', '7']\n",
      "['', '104', '30', 'No', 'Travel_Rarely', '853', 'Research & Development', '7', \"Master's Degree\", 'Life Sciences', '1', '1224', '3', 'Male', '49', '3', '2', 'Laboratory Technician', '3', 'Divorced', '3491', '11309', '1', 'Y', 'No', '13', '3', '1', '80', '3', '10', '4', '2', '10', '7', '8', '9']\n",
      "['', '158', '44', 'No', 'Travel_Rarely', '200', 'Research & Development', '29', \"Master's Degree\", 'Other', '1', '1225', '4', 'Male', '32', '3', '2', 'Research Scientist', '4', 'Single', '4541', '7744', '1', 'Y', 'No', '25', '4', '2', '80', '0', '20', '3', '3', '20', '11', '13', '17']\n",
      "['', '202', '20', 'No', 'Travel_Rarely', '654', 'Sales', '21', \"Bachelor's Degree\", 'Marketing', '1', '1226', '3', 'Male', '43', '4', '1', 'Sales Representative', '4', 'Single', '2678', '5050', '1', 'Y', 'No', '17', '3', '4', '80', '0', '2', '2', '3', '2', '1', '2', '2']\n",
      "['', '45', '46', 'No', 'Travel_Rarely', '150', 'Research & Development', '2', \"Master's Degree\", 'Technical Degree', '1', '1228', '4', 'Male', '60', '3', '2', 'Manufacturing Director', '4', 'Divorced', '7379', '17433', '2', 'Y', 'No', '11', '3', '3', '80', '1', '12', '3', '2', '6', '3', '1', '4']\n",
      "['', '24', '42', 'No', 'Non-Travel', '179', 'Human Resources', '2', 'Doctoral Degree', 'Medical', '1', '1231', '4', 'Male', '79', '4', '2', 'Human Resources', '1', 'Married', '6272', '12858', '7', 'Y', 'No', '16', '3', '1', '80', '1', '10', '3', '4', '4', '3', '0', '3']\n",
      "['', '76', '60', 'No', 'Travel_Rarely', '696', 'Sales', '7', \"Master's Degree\", 'Marketing', '1', '1233', '2', 'Male', '52', '4', '2', 'Sales Executive', '4', 'Divorced', '5220', '10893', '0', 'Y', 'Yes', '18', '3', '2', '80', '1', '12', '3', '3', '11', '7', '1', '9']\n",
      "['', '82', '32', 'No', 'Travel_Frequently', '116', 'Research & Development', '13', \"Bachelor's Degree\", 'Other', '1', '1234', '3', 'Female', '77', '2', '1', 'Laboratory Technician', '2', 'Married', '2743', '7331', '1', 'Y', 'No', '20', '4', '3', '80', '1', '2', '2', '3', '2', '2', '2', '2']\n",
      "['', '43', '32', 'No', 'Travel_Frequently', '1316', 'Research & Development', '2', 'Associates Degree', 'Life Sciences', '1', '1235', '4', 'Female', '38', '3', '2', 'Research Scientist', '3', 'Single', '4998', '2338', '4', 'Y', 'Yes', '14', '3', '4', '80', '0', '10', '2', '3', '8', '7', '0', '7']\n",
      "['', '29', '36', 'No', 'Travel_Rarely', '363', 'Research & Development', '1', \"Bachelor's Degree\", 'Technical Degree', '1', '1237', '3', 'Female', '77', '1', '3', 'Manufacturing Director', '1', 'Divorced', '10252', '4235', '2', 'Y', 'Yes', '21', '4', '3', '80', '1', '17', '2', '3', '7', '7', '7', '7']\n",
      "['', '76', '33', 'No', 'Travel_Rarely', '117', 'Research & Development', '9', \"Bachelor's Degree\", 'Medical', '1', '1238', '1', 'Male', '60', '3', '1', 'Research Scientist', '4', 'Married', '2781', '6311', '0', 'Y', 'No', '13', '3', '2', '80', '1', '15', '5', '3', '14', '10', '4', '10']\n",
      "['', '173', '40', 'No', 'Travel_Rarely', '107', 'Sales', '10', \"Bachelor's Degree\", 'Technical Degree', '1', '1239', '2', 'Female', '84', '2', '2', 'Sales Executive', '2', 'Divorced', '6852', '11591', '7', 'Y', 'No', '12', '3', '2', '80', '1', '7', '2', '4', '5', '1', '1', '3']\n",
      "['', '143', '25', 'No', 'Travel_Rarely', '1356', 'Sales', '10', \"Master's Degree\", 'Life Sciences', '1', '1240', '3', 'Male', '57', '3', '2', 'Sales Executive', '4', 'Single', '4950', '20623', '0', 'Y', 'No', '14', '3', '2', '80', '0', '5', '4', '3', '4', '3', '1', '1']\n",
      "['', '20', '30', 'No', 'Travel_Rarely', '1465', 'Research & Development', '1', \"Bachelor's Degree\", 'Medical', '1', '1241', '4', 'Male', '63', '3', '1', 'Research Scientist', '2', 'Married', '3579', '9369', '0', 'Y', 'Yes', '21', '4', '1', '80', '1', '12', '2', '3', '11', '9', '5', '7']\n",
      "['', '199', '42', 'No', 'Travel_Frequently', '458', 'Research & Development', '26', 'Doctoral Degree', 'Medical', '1', '1242', '1', 'Female', '60', '3', '3', 'Research Director', '1', 'Married', '13191', '23281', '3', 'Y', 'Yes', '17', '3', '3', '80', '0', '20', '6', '3', '1', '0', '0', '0']\n",
      "['', '82', '35', 'No', 'Non-Travel', '1212', 'Sales', '8', 'Associates Degree', 'Marketing', '1', '1243', '3', 'Female', '78', '2', '3', 'Sales Executive', '4', 'Married', '10377', '13755', '4', 'Y', 'Yes', '11', '3', '2', '80', '1', '16', '6', '2', '13', '2', '4', '12']\n",
      "['', '195', '27', 'No', 'Travel_Rarely', '1103', 'Research & Development', '14', \"Bachelor's Degree\", 'Life Sciences', '1', '1244', '1', 'Male', '42', '3', '1', 'Research Scientist', '1', 'Married', '2235', '14377', '1', 'Y', 'Yes', '14', '3', '4', '80', '2', '9', '3', '2', '9', '7', '6', '8']\n",
      "['', '30', '54', 'No', 'Travel_Frequently', '966', 'Research & Development', '1', \"Master's Degree\", 'Life Sciences', '1', '1245', '4', 'Female', '53', '3', '3', 'Manufacturing Director', '3', 'Divorced', '10502', '9659', '7', 'Y', 'No', '17', '3', '1', '80', '1', '33', '2', '1', '5', '4', '1', '4']\n",
      "['', '39', '44', 'No', 'Travel_Rarely', '1117', 'Research & Development', '2', 'High School', 'Life Sciences', '1', '1246', '1', 'Female', '72', '4', '1', 'Research Scientist', '4', 'Married', '2011', '19982', '1', 'Y', 'No', '13', '3', '4', '80', '1', '10', '5', '3', '10', '5', '7', '7']\n",
      "['3/7/2022 12:00:00 AM', '80', '19', 'Yes', 'Non-Travel', '504', 'Research & Development', '10', \"Bachelor's Degree\", 'Medical', '1', '1248', '1', 'Female', '96', '2', '1', 'Research Scientist', '2', 'Single', '1859', '6148', '1', 'Y', 'Yes', '25', '4', '2', '80', '0', '1', '2', '4', '1', '1', '0', '0']\n",
      "['', '26', '29', 'No', 'Travel_Rarely', '1010', 'Research & Development', '1', \"Bachelor's Degree\", 'Life Sciences', '1', '1249', '1', 'Female', '97', '3', '1', 'Research Scientist', '4', 'Divorced', '3760', '5598', '1', 'Y', 'No', '15', '3', '1', '80', '3', '3', '5', '3', '3', '2', '1', '2']\n",
      "['', '52', '54', 'No', 'Travel_Rarely', '685', 'Research & Development', '3', \"Bachelor's Degree\", 'Life Sciences', '1', '1250', '4', 'Male', '85', '3', '4', 'Research Director', '4', 'Married', '17779', '23474', '3', 'Y', 'No', '14', '3', '1', '80', '0', '36', '2', '3', '10', '9', '0', '9']\n",
      "['', '90', '31', 'No', 'Travel_Rarely', '1332', 'Research & Development', '11', 'Associates Degree', 'Medical', '1', '1251', '3', 'Male', '80', '3', '2', 'Healthcare Representative', '1', 'Married', '6833', '17089', '1', 'Y', 'Yes', '12', '3', '4', '80', '0', '6', '2', '2', '6', '5', '0', '1']\n",
      "['', '181', '31', 'No', 'Travel_Rarely', '1062', 'Research & Development', '24', \"Bachelor's Degree\", 'Medical', '1', '1252', '3', 'Female', '96', '2', '2', 'Healthcare Representative', '1', 'Single', '6812', '17198', '1', 'Y', 'No', '19', '3', '2', '80', '0', '10', '2', '3', '10', '9', '1', '8']\n",
      "['', '52', '59', 'No', 'Travel_Rarely', '326', 'Sales', '3', \"Bachelor's Degree\", 'Life Sciences', '1', '1254', '3', 'Female', '48', '2', '2', 'Sales Executive', '4', 'Single', '5171', '16490', '5', 'Y', 'No', '17', '3', '4', '80', '0', '13', '2', '3', '6', '1', '0', '5']\n",
      "['', '52', '43', 'No', 'Travel_Rarely', '920', 'Research & Development', '3', \"Bachelor's Degree\", 'Life Sciences', '1', '1255', '3', 'Male', '96', '1', '5', 'Research Director', '4', 'Married', '19740', '18625', '3', 'Y', 'No', '14', '3', '2', '80', '1', '25', '2', '3', '8', '7', '0', '7']\n",
      "['', '41', '49', 'No', 'Travel_Rarely', '1098', 'Research & Development', '4', 'Associates Degree', 'Medical', '1', '1256', '1', 'Male', '85', '2', '5', 'Manager', '3', 'Married', '18711', '12124', '2', 'Y', 'No', '13', '3', '3', '80', '1', '23', '2', '4', '1', '0', '0', '0']\n",
      "['', '65', '36', 'No', 'Travel_Frequently', '469', 'Research & Development', '3', \"Bachelor's Degree\", 'Technical Degree', '1', '1257', '3', 'Male', '46', '3', '1', 'Research Scientist', '2', 'Married', '3692', '9256', '1', 'Y', 'No', '12', '3', '3', '80', '0', '12', '2', '2', '11', '10', '0', '7']\n",
      "['', '45', '48', 'No', 'Travel_Rarely', '969', 'Research & Development', '2', 'Associates Degree', 'Technical Degree', '1', '1258', '4', 'Male', '76', '4', '1', 'Laboratory Technician', '2', 'Single', '2559', '16620', '5', 'Y', 'No', '11', '3', '3', '80', '0', '7', '4', '2', '1', '0', '0', '0']\n",
      "['', '65', '27', 'No', 'Travel_Rarely', '1167', 'Research & Development', '4', 'Associates Degree', 'Life Sciences', '1', '1259', '1', 'Male', '76', '3', '1', 'Research Scientist', '3', 'Divorced', '2517', '3208', '1', 'Y', 'No', '11', '3', '2', '80', '3', '5', '2', '3', '5', '3', '0', '3']\n",
      "['', '104', '29', 'No', 'Travel_Rarely', '1329', 'Research & Development', '7', \"Bachelor's Degree\", 'Life Sciences', '1', '1260', '3', 'Male', '82', '3', '2', 'Healthcare Representative', '4', 'Divorced', '6623', '4204', '1', 'Y', 'Yes', '11', '3', '2', '80', '2', '6', '2', '3', '6', '0', '1', '0']\n",
      "['', '26', '48', 'No', 'Travel_Rarely', '715', 'Research & Development', '1', \"Bachelor's Degree\", 'Life Sciences', '1', '1263', '4', 'Male', '76', '2', '5', 'Research Director', '4', 'Single', '18265', '8733', '6', 'Y', 'No', '12', '3', '3', '80', '0', '25', '3', '4', '1', '0', '0', '0']\n",
      "['', '26', '29', 'No', 'Travel_Rarely', '694', 'Research & Development', '1', \"Bachelor's Degree\", 'Life Sciences', '1', '1264', '4', 'Female', '87', '2', '4', 'Research Director', '4', 'Divorced', '16124', '3423', '3', 'Y', 'No', '14', '3', '2', '80', '2', '9', '2', '2', '7', '7', '1', '7']\n",
      "['', '333', '34', 'No', 'Travel_Rarely', '1320', 'Research & Development', '20', \"Bachelor's Degree\", 'Technical Degree', '1', '1265', '3', 'Female', '89', '4', '1', 'Research Scientist', '3', 'Married', '2585', '21643', '0', 'Y', 'No', '17', '3', '4', '80', '0', '2', '5', '2', '1', '0', '0', '0']\n",
      "['', '58', '44', 'No', 'Travel_Rarely', '1099', 'Sales', '5', \"Bachelor's Degree\", 'Marketing', '1', '1267', '2', 'Male', '88', '3', '5', 'Manager', '2', 'Married', '18213', '8751', '7', 'Y', 'No', '11', '3', '3', '80', '1', '26', '5', '3', '22', '9', '3', '10']\n",
      "['', '103', '33', 'No', 'Travel_Rarely', '536', 'Sales', '10', 'Doctoral Degree', 'Marketing', '1', '1268', '4', 'Male', '82', '4', '3', 'Sales Executive', '3', 'Divorced', '8380', '21708', '0', 'Y', 'Yes', '14', '3', '4', '80', '2', '10', '3', '3', '9', '8', '0', '8']\n",
      "['', '338', '19', 'No', 'Travel_Rarely', '265', 'Research & Development', '25', \"Bachelor's Degree\", 'Life Sciences', '1', '1269', '2', 'Female', '57', '4', '1', 'Research Scientist', '4', 'Single', '2994', '21221', '1', 'Y', 'Yes', '12', '3', '4', '80', '0', '1', '2', '3', '1', '0', '0', '1']\n",
      "['', '26', '23', 'No', 'Travel_Rarely', '373', 'Research & Development', '1', 'Associates Degree', 'Life Sciences', '1', '1270', '4', 'Male', '47', '3', '1', 'Research Scientist', '3', 'Married', '1223', '16901', '1', 'Y', 'No', '22', '4', '4', '80', '1', '1', '2', '3', '1', '0', '0', '1']\n",
      "['7/1/2021 12:00:00 AM', '329', '25', 'Yes', 'Travel_Frequently', '599', 'Sales', '24', 'High School', 'Life Sciences', '1', '1273', '3', 'Male', '73', '1', '1', 'Sales Representative', '4', 'Single', '1118', '8040', '1', 'Y', 'Yes', '14', '3', '4', '80', '0', '1', '4', '3', '1', '0', '1', '0']\n",
      "['', '65', '26', 'No', 'Travel_Rarely', '583', 'Research & Development', '4', 'Associates Degree', 'Life Sciences', '1', '1275', '3', 'Male', '53', '3', '1', 'Research Scientist', '4', 'Single', '2875', '9973', '1', 'Y', 'Yes', '20', '4', '2', '80', '0', '8', '2', '2', '8', '5', '2', '2']\n",
      "['4/25/2022 12:00:00 AM', '31', '45', 'Yes', 'Travel_Rarely', '1449', 'Sales', '2', \"Bachelor's Degree\", 'Marketing', '1', '1277', '1', 'Female', '94', '1', '5', 'Manager', '2', 'Single', '18824', '2493', '2', 'Y', 'Yes', '16', '3', '1', '80', '0', '26', '2', '3', '24', '10', '1', '11']\n",
      "['', '66', '55', 'No', 'Non-Travel', '177', 'Research & Development', '8', 'High School', 'Medical', '1', '1278', '4', 'Male', '37', '2', '4', 'Healthcare Representative', '2', 'Divorced', '13577', '25592', '1', 'Y', 'Yes', '15', '3', '4', '80', '1', '34', '3', '3', '33', '9', '15', '0']\n",
      "['12/30/2021 12:00:00 AM', '147', '21', 'Yes', 'Travel_Frequently', '251', 'Research & Development', '10', 'Associates Degree', 'Life Sciences', '1', '1279', '1', 'Female', '45', '2', '1', 'Laboratory Technician', '3', 'Single', '2625', '25308', '1', 'Y', 'No', '20', '4', '3', '80', '0', '2', '2', '1', '2', '2', '2', '2']\n",
      "['', '49', '46', 'No', 'Travel_Rarely', '168', 'Sales', '4', 'Associates Degree', 'Marketing', '1', '1280', '4', 'Female', '33', '2', '5', 'Manager', '2', 'Married', '18789', '9946', '2', 'Y', 'No', '14', '3', '3', '80', '1', '26', '2', '3', '11', '4', '0', '8']\n",
      "['', '31', '34', 'No', 'Travel_Rarely', '131', 'Sales', '2', \"Bachelor's Degree\", 'Marketing', '1', '1281', '3', 'Female', '86', '3', '2', 'Sales Executive', '1', 'Single', '4538', '6039', '0', 'Y', 'Yes', '12', '3', '4', '80', '0', '4', '3', '3', '3', '2', '0', '2']\n",
      "['', '134', '51', 'No', 'Travel_Frequently', '237', 'Sales', '9', \"Bachelor's Degree\", 'Life Sciences', '1', '1282', '4', 'Male', '83', '3', '5', 'Manager', '2', 'Divorced', '19847', '19196', '4', 'Y', 'Yes', '24', '4', '1', '80', '1', '31', '5', '2', '29', '10', '11', '10']\n",
      "['', '139', '59', 'No', 'Travel_Rarely', '1429', 'Research & Development', '18', \"Master's Degree\", 'Medical', '1', '1283', '4', 'Male', '67', '3', '3', 'Manufacturing Director', '4', 'Single', '10512', '20002', '6', 'Y', 'No', '12', '3', '4', '80', '0', '25', '6', '2', '9', '7', '5', '4']\n",
      "['', '150', '34', 'No', 'Travel_Frequently', '135', 'Research & Development', '19', \"Bachelor's Degree\", 'Medical', '1', '1285', '3', 'Female', '46', '3', '2', 'Laboratory Technician', '2', 'Divorced', '4444', '22534', '4', 'Y', 'No', '13', '3', '3', '80', '2', '15', '2', '4', '11', '8', '5', '10']\n",
      "['', '24', '28', 'No', 'Travel_Frequently', '791', 'Research & Development', '1', \"Master's Degree\", 'Medical', '1', '1286', '4', 'Male', '44', '3', '1', 'Laboratory Technician', '3', 'Single', '2154', '6842', '0', 'Y', 'Yes', '11', '3', '3', '80', '0', '5', '2', '2', '4', '2', '0', '2']\n",
      "['', '65', '44', 'No', 'Travel_Rarely', '1199', 'Research & Development', '4', 'Associates Degree', 'Life Sciences', '1', '1288', '3', 'Male', '92', '4', '5', 'Manager', '1', 'Divorced', '19190', '17477', '1', 'Y', 'No', '14', '3', '4', '80', '2', '26', '4', '2', '25', '9', '14', '13']\n",
      "['', '160', '34', 'No', 'Travel_Frequently', '648', 'Human Resources', '11', \"Bachelor's Degree\", 'Life Sciences', '1', '1289', '3', 'Male', '56', '2', '2', 'Human Resources', '2', 'Married', '4490', '21833', '4', 'Y', 'No', '11', '3', '4', '80', '2', '14', '5', '4', '10', '9', '1', '8']\n",
      "['', '91', '35', 'No', 'Travel_Rarely', '735', 'Research & Development', '6', 'High School', 'Life Sciences', '1', '1291', '3', 'Male', '66', '3', '1', 'Research Scientist', '3', 'Married', '3506', '6020', '0', 'Y', 'Yes', '14', '3', '4', '80', '0', '4', '3', '3', '3', '2', '2', '2']\n",
      "['', '62', '42', 'No', 'Travel_Rarely', '603', 'Research & Development', '7', \"Master's Degree\", 'Medical', '1', '1292', '2', 'Female', '78', '4', '2', 'Research Scientist', '2', 'Married', '2372', '5628', '6', 'Y', 'Yes', '16', '3', '4', '80', '0', '18', '2', '3', '1', '0', '0', '0']\n",
      "['', '49', '43', 'No', 'Travel_Rarely', '531', 'Sales', '4', \"Master's Degree\", 'Marketing', '1', '1293', '4', 'Female', '56', '2', '3', 'Sales Executive', '4', 'Single', '10231', '20364', '3', 'Y', 'No', '14', '3', '4', '80', '0', '23', '3', '4', '21', '7', '15', '17']\n",
      "['', '39', '36', 'No', 'Travel_Rarely', '429', 'Research & Development', '2', \"Master's Degree\", 'Life Sciences', '1', '1294', '3', 'Female', '53', '3', '2', 'Manufacturing Director', '2', 'Single', '5410', '2323', '9', 'Y', 'Yes', '11', '3', '4', '80', '0', '18', '2', '3', '16', '14', '5', '12']\n",
      "['1/28/2022 12:00:00 AM', '118', '44', 'Yes', 'Travel_Rarely', '621', 'Research & Development', '15', \"Bachelor's Degree\", 'Medical', '1', '1295', '1', 'Female', '73', '3', '3', 'Healthcare Representative', '4', 'Married', '7978', '14075', '1', 'Y', 'No', '11', '3', '4', '80', '1', '10', '2', '3', '10', '7', '0', '5']\n",
      "['', '43', '28', 'No', 'Travel_Frequently', '193', 'Research & Development', '2', \"Bachelor's Degree\", 'Life Sciences', '1', '1296', '4', 'Male', '52', '2', '1', 'Laboratory Technician', '4', 'Married', '3867', '14222', '1', 'Y', 'Yes', '12', '3', '2', '80', '1', '2', '2', '3', '2', '2', '2', '2']\n",
      "['', '59', '51', 'No', 'Travel_Frequently', '968', 'Research & Development', '6', 'Associates Degree', 'Medical', '1', '1297', '2', 'Female', '40', '2', '1', 'Laboratory Technician', '3', 'Single', '2838', '4257', '0', 'Y', 'No', '14', '3', '2', '80', '0', '8', '6', '2', '7', '0', '7', '7']\n",
      "['', '73', '30', 'No', 'Non-Travel', '879', 'Research & Development', '9', 'Associates Degree', 'Medical', '1', '1298', '3', 'Female', '72', '3', '2', 'Manufacturing Director', '3', 'Single', '4695', '12858', '7', 'Y', 'Yes', '18', '3', '3', '80', '0', '10', '3', '3', '8', '4', '1', '7']\n",
      "['1/21/2022 12:00:00 AM', '125', '29', 'Yes', 'Travel_Rarely', '806', 'Research & Development', '7', \"Bachelor's Degree\", 'Technical Degree', '1', '1299', '2', 'Female', '39', '3', '1', 'Laboratory Technician', '3', 'Divorced', '3339', '17285', '3', 'Y', 'Yes', '13', '3', '1', '80', '2', '10', '2', '3', '7', '7', '7', '7']\n",
      "['', '29', '28', 'No', 'Travel_Rarely', '640', 'Research & Development', '1', \"Bachelor's Degree\", 'Technical Degree', '1', '1301', '4', 'Male', '84', '3', '1', 'Research Scientist', '1', 'Single', '2080', '4732', '2', 'Y', 'No', '11', '3', '2', '80', '0', '5', '2', '2', '3', '2', '1', '2']\n",
      "['', '20', '25', 'No', 'Travel_Rarely', '266', 'Research & Development', '1', \"Bachelor's Degree\", 'Medical', '1', '1303', '4', 'Female', '40', '3', '1', 'Research Scientist', '2', 'Single', '2096', '18830', '1', 'Y', 'No', '18', '3', '4', '80', '0', '2', '3', '2', '2', '2', '2', '1']\n",
      "['', '69', '32', 'No', 'Travel_Rarely', '604', 'Sales', '8', \"Bachelor's Degree\", 'Medical', '1', '1304', '3', 'Male', '56', '4', '2', 'Sales Executive', '4', 'Married', '6209', '11693', '1', 'Y', 'No', '15', '3', '3', '80', '2', '10', '4', '4', '10', '7', '0', '8']\n",
      "['', '192', '45', 'No', 'Travel_Frequently', '364', 'Research & Development', '25', \"Bachelor's Degree\", 'Medical', '1', '1306', '2', 'Female', '83', '3', '5', 'Manager', '2', 'Single', '18061', '13035', '3', 'Y', 'No', '22', '4', '3', '80', '0', '22', '4', '3', '0', '0', '0', '0']\n",
      "['', '104', '39', 'No', 'Travel_Rarely', '412', 'Research & Development', '13', \"Master's Degree\", 'Medical', '1', '1307', '3', 'Female', '94', '2', '4', 'Manager', '2', 'Divorced', '17123', '17334', '6', 'Y', 'Yes', '13', '3', '4', '80', '2', '21', '4', '3', '19', '9', '15', '2']\n",
      "['', '312', '58', 'No', 'Travel_Rarely', '848', 'Research & Development', '23', \"Master's Degree\", 'Life Sciences', '1', '1308', '1', 'Male', '88', '3', '1', 'Research Scientist', '3', 'Divorced', '2372', '26076', '1', 'Y', 'No', '12', '3', '4', '80', '2', '2', '3', '3', '2', '2', '2', '2']\n",
      "['2/11/2022 12:00:00 AM', '104', '32', 'Yes', 'Travel_Rarely', '1089', 'Research & Development', '7', 'Associates Degree', 'Life Sciences', '1', '1309', '4', 'Male', '79', '3', '2', 'Laboratory Technician', '3', 'Married', '4883', '22845', '1', 'Y', 'No', '18', '3', '1', '80', '1', '10', '3', '3', '10', '4', '1', '1']\n",
      "['12/3/2021 12:00:00 AM', '174', '39', 'Yes', 'Travel_Rarely', '360', 'Research & Development', '23', \"Bachelor's Degree\", 'Medical', '1', '1310', '3', 'Male', '93', '3', '1', 'Research Scientist', '1', 'Single', '3904', '22154', '0', 'Y', 'No', '13', '3', '1', '80', '0', '6', '2', '3', '5', '2', '0', '3']\n",
      "['', '109', '30', 'No', 'Travel_Rarely', '1138', 'Research & Development', '6', \"Bachelor's Degree\", 'Technical Degree', '1', '1311', '1', 'Female', '48', '2', '2', 'Laboratory Technician', '4', 'Married', '4627', '23631', '0', 'Y', 'No', '12', '3', '1', '80', '1', '10', '6', '3', '9', '2', '6', '7']\n",
      "['', '173', '36', 'No', 'Travel_Rarely', '325', 'Research & Development', '10', \"Master's Degree\", 'Technical Degree', '1', '1312', '4', 'Female', '63', '3', '3', 'Healthcare Representative', '3', 'Married', '7094', '5747', '3', 'Y', 'No', '12', '3', '1', '80', '0', '10', '0', '3', '7', '7', '1', '7']\n",
      "['', '26', '46', 'No', 'Travel_Rarely', '991', 'Human Resources', '1', 'Associates Degree', 'Life Sciences', '1', '1314', '4', 'Female', '44', '3', '1', 'Human Resources', '1', 'Single', '3423', '22957', '6', 'Y', 'No', '12', '3', '3', '80', '0', '10', '3', '4', '7', '6', '5', '7']\n",
      "['', '23', '28', 'No', 'Non-Travel', '1476', 'Research & Development', '1', \"Bachelor's Degree\", 'Life Sciences', '1', '1315', '3', 'Female', '55', '1', '2', 'Laboratory Technician', '4', 'Married', '6674', '16392', '0', 'Y', 'No', '11', '3', '1', '80', '3', '10', '6', '3', '9', '8', '7', '5']\n",
      "['', '188.5', '50', 'No', 'Travel_Rarely', '1322', 'Research & Development', '28', \"Bachelor's Degree\", 'Life Sciences', '1', '1317', '4', 'Female', '43', '3', '4', 'Research Director', '1', 'Married', '16880', '22422', '4', 'Y', 'Yes', '11', '3', '2', '80', '0', '25', '2', '3', '3', '2', '1', '2']\n",
      "['9/30/2021 12:00:00 AM', '238', '40', 'Yes', 'Travel_Rarely', '299', 'Sales', '25', \"Master's Degree\", 'Marketing', '1', '1318', '4', 'Male', '57', '2', '3', 'Sales Executive', '2', 'Single', '9094', '17235', '2', 'Y', 'Yes', '12', '3', '3', '80', '0', '9', '2', '3', '5', '4', '1', '0']\n",
      "['3/9/2022 12:00:00 AM', '78', '52', 'Yes', 'Travel_Rarely', '1030', 'Sales', '5', \"Bachelor's Degree\", 'Life Sciences', '1', '1319', '2', 'Male', '64', '3', '3', 'Sales Executive', '2', 'Single', '8446', '21534', '9', 'Y', 'Yes', '19', '3', '3', '80', '0', '10', '2', '2', '8', '7', '7', '7']\n",
      "['', '132', '30', 'No', 'Travel_Rarely', '634', 'Research & Development', '17', \"Master's Degree\", 'Medical', '1', '1321', '2', 'Female', '95', '3', '3', 'Manager', '1', 'Married', '11916', '25927', '1', 'Y', 'Yes', '23', '4', '4', '80', '2', '9', '2', '3', '9', '1', '0', '8']\n",
      "['', '247', '39', 'No', 'Travel_Rarely', '524', 'Research & Development', '18', 'Associates Degree', 'Life Sciences', '1', '1322', '1', 'Male', '32', '3', '2', 'Manufacturing Director', '3', 'Single', '4534', '13352', '0', 'Y', 'No', '11', '3', '1', '80', '0', '9', '6', '3', '8', '7', '1', '7']\n",
      "['', '36', '31', 'No', 'Non-Travel', '587', 'Sales', '2', \"Master's Degree\", 'Life Sciences', '1', '1324', '4', 'Female', '57', '3', '3', 'Sales Executive', '3', 'Divorced', '9852', '8935', '1', 'Y', 'Yes', '19', '3', '1', '80', '1', '10', '5', '2', '10', '8', '9', '6']\n",
      "['', '80', '41', 'No', 'Non-Travel', '256', 'Sales', '10', 'Associates Degree', 'Medical', '1', '1329', '3', 'Male', '40', '1', '2', 'Sales Executive', '2', 'Single', '6151', '22074', '1', 'Y', 'No', '13', '3', '1', '80', '0', '19', '4', '3', '19', '2', '11', '9']\n",
      "['4/26/2022 12:00:00 AM', '30', '31', 'Yes', 'Travel_Frequently', '1060', 'Sales', '1', \"Bachelor's Degree\", 'Life Sciences', '1', '1331', '4', 'Female', '54', '3', '1', 'Sales Representative', '2', 'Single', '2302', '8319', '1', 'Y', 'Yes', '11', '3', '1', '80', '0', '3', '2', '4', '3', '2', '2', '2']\n",
      "['4/4/2022 12:00:00 AM', '52', '44', 'Yes', 'Travel_Rarely', '935', 'Research & Development', '3', \"Bachelor's Degree\", 'Life Sciences', '1', '1333', '1', 'Male', '89', '3', '1', 'Laboratory Technician', '1', 'Married', '2362', '14669', '4', 'Y', 'No', '12', '3', '3', '80', '0', '10', '4', '4', '3', '2', '1', '2']\n",
      "['', '36', '42', 'No', 'Non-Travel', '495', 'Research & Development', '2', 'High School', 'Life Sciences', '1', '1334', '3', 'Male', '37', '3', '4', 'Manager', '3', 'Married', '17861', '26582', '0', 'Y', 'Yes', '13', '3', '4', '80', '0', '21', '3', '2', '20', '8', '2', '10']\n",
      "['', '27', '55', 'No', 'Travel_Rarely', '282', 'Research & Development', '2', 'Associates Degree', 'Medical', '1', '1336', '4', 'Female', '58', '1', '5', 'Manager', '3', 'Married', '19187', '6992', '4', 'Y', 'No', '14', '3', '4', '80', '1', '23', '5', '3', '19', '9', '9', '11']\n",
      "['', '117', '56', 'No', 'Travel_Rarely', '206', 'Human Resources', '8', \"Master's Degree\", 'Life Sciences', '1', '1338', '4', 'Male', '99', '3', '5', 'Manager', '2', 'Single', '19717', '4022', '6', 'Y', 'No', '14', '3', '1', '80', '0', '36', '4', '3', '7', '3', '7', '7']\n",
      "['', '218', '40', 'No', 'Non-Travel', '458', 'Research & Development', '16', 'Associates Degree', 'Life Sciences', '1', '1340', '3', 'Male', '74', '3', '1', 'Research Scientist', '3', 'Divorced', '3544', '8532', '9', 'Y', 'No', '16', '3', '2', '80', '1', '6', '0', '3', '4', '2', '0', '0']\n",
      "['', '130', '34', 'No', 'Travel_Rarely', '943', 'Research & Development', '9', \"Bachelor's Degree\", 'Life Sciences', '1', '1344', '4', 'Male', '86', '3', '3', 'Healthcare Representative', '4', 'Divorced', '8500', '5494', '0', 'Y', 'No', '11', '3', '4', '80', '1', '10', '0', '2', '9', '7', '1', '6']\n",
      "['', '39', '40', 'No', 'Travel_Rarely', '523', 'Research & Development', '2', \"Bachelor's Degree\", 'Life Sciences', '1', '1346', '3', 'Male', '98', '3', '2', 'Research Scientist', '4', 'Single', '4661', '22455', '1', 'Y', 'No', '13', '3', '3', '80', '0', '9', '4', '3', '9', '8', '8', '8']\n",
      "['', '26', '41', 'No', 'Travel_Frequently', '1018', 'Sales', '1', \"Bachelor's Degree\", 'Marketing', '1', '1349', '3', 'Female', '66', '3', '2', 'Sales Executive', '1', 'Divorced', '4103', '4297', '0', 'Y', 'No', '17', '3', '4', '80', '1', '10', '2', '3', '9', '3', '1', '7']\n",
      "['', '69', '35', 'No', 'Travel_Frequently', '482', 'Research & Development', '4', \"Master's Degree\", 'Life Sciences', '1', '1350', '3', 'Male', '87', '3', '2', 'Research Scientist', '3', 'Single', '4249', '2690', '1', 'Y', 'Yes', '11', '3', '2', '80', '0', '9', '3', '3', '9', '6', '1', '1']\n",
      "['', '78', '51', 'No', 'Travel_Rarely', '770', 'Human Resources', '5', \"Bachelor's Degree\", 'Life Sciences', '1', '1352', '3', 'Male', '84', '3', '4', 'Manager', '2', 'Divorced', '14026', '17588', '1', 'Y', 'Yes', '11', '3', '2', '80', '1', '33', '2', '3', '33', '9', '0', '10']\n",
      "['', '39', '38', 'No', 'Travel_Rarely', '1009', 'Sales', '2', 'Associates Degree', 'Life Sciences', '1', '1355', '2', 'Female', '31', '3', '2', 'Sales Executive', '1', 'Divorced', '6893', '19461', '3', 'Y', 'No', '15', '3', '4', '80', '1', '11', '3', '3', '7', '7', '1', '7']\n",
      "['', '118', '34', 'No', 'Travel_Rarely', '507', 'Sales', '15', 'Associates Degree', 'Medical', '1', '1356', '3', 'Female', '66', '3', '2', 'Sales Executive', '1', 'Single', '6125', '23553', '1', 'Y', 'No', '12', '3', '4', '80', '0', '10', '6', '4', '10', '8', '9', '6']\n",
      "['', '146', '25', 'No', 'Travel_Rarely', '882', 'Research & Development', '19', 'High School', 'Medical', '1', '1358', '4', 'Male', '67', '3', '1', 'Laboratory Technician', '4', 'Married', '3669', '9075', '3', 'Y', 'No', '11', '3', '3', '80', '3', '7', '6', '2', '3', '2', '1', '2']\n",
      "['3/25/2022 12:00:00 AM', '62', '58', 'Yes', 'Travel_Rarely', '601', 'Research & Development', '7', \"Master's Degree\", 'Medical', '1', '1360', '3', 'Female', '53', '2', '3', 'Manufacturing Director', '1', 'Married', '10008', '12023', '7', 'Y', 'Yes', '14', '3', '4', '80', '0', '31', '0', '2', '10', '9', '5', '9']\n",
      "['', '26', '40', 'No', 'Travel_Rarely', '329', 'Research & Development', '1', \"Master's Degree\", 'Life Sciences', '1', '1361', '2', 'Male', '88', '3', '1', 'Laboratory Technician', '2', 'Married', '2387', '6762', '3', 'Y', 'No', '22', '4', '3', '80', '1', '7', '3', '3', '4', '2', '0', '3']\n",
      "['', '80', '36', 'No', 'Travel_Frequently', '607', 'Sales', '7', \"Bachelor's Degree\", 'Marketing', '1', '1362', '1', 'Female', '83', '4', '2', 'Sales Executive', '1', 'Married', '4639', '2261', '2', 'Y', 'No', '16', '3', '4', '80', '1', '17', '2', '2', '15', '7', '6', '13']\n",
      "['', '65', '48', 'No', 'Travel_Rarely', '855', 'Research & Development', '4', \"Bachelor's Degree\", 'Life Sciences', '1', '1363', '4', 'Male', '54', '3', '3', 'Manufacturing Director', '4', 'Single', '7898', '18706', '1', 'Y', 'No', '11', '3', '3', '80', '0', '11', '2', '3', '10', '9', '0', '8']\n",
      "['', '90', '27', 'No', 'Travel_Rarely', '1291', 'Sales', '11', \"Bachelor's Degree\", 'Medical', '1', '1364', '3', 'Female', '98', '4', '1', 'Sales Representative', '4', 'Married', '2534', '6527', '8', 'Y', 'No', '14', '3', '2', '80', '1', '5', '4', '3', '1', '0', '0', '0']\n",
      "['', '189', '51', 'No', 'Travel_Rarely', '1405', 'Research & Development', '11', 'Associates Degree', 'Technical Degree', '1', '1367', '4', 'Female', '82', '2', '4', 'Manufacturing Director', '2', 'Single', '13142', '24439', '3', 'Y', 'No', '16', '3', '2', '80', '0', '29', '1', '2', '5', '2', '0', '3']\n",
      "['', '23', '18', 'No', 'Non-Travel', '1124', 'Research & Development', '1', \"Bachelor's Degree\", 'Life Sciences', '1', '1368', '4', 'Female', '97', '3', '1', 'Laboratory Technician', '4', 'Single', '1611', '19305', '1', 'Y', 'No', '15', '3', '3', '80', '0', '0', '5', '4', '0', '0', '0', '0']\n",
      "['', '20', '35', 'No', 'Travel_Rarely', '817', 'Research & Development', '1', \"Bachelor's Degree\", 'Medical', '1', '1369', '4', 'Female', '60', '2', '2', 'Laboratory Technician', '4', 'Married', '5363', '10846', '0', 'Y', 'No', '12', '3', '2', '80', '1', '10', '0', '3', '9', '7', '0', '0']\n",
      "['', '43', '27', 'No', 'Travel_Frequently', '793', 'Sales', '2', 'High School', 'Life Sciences', '1', '1371', '4', 'Male', '43', '1', '2', 'Sales Executive', '4', 'Single', '5071', '20392', '3', 'Y', 'No', '20', '4', '2', '80', '0', '8', '3', '3', '6', '2', '0', '0']\n",
      "['1/16/2022 12:00:00 AM', '130', '55', 'Yes', 'Travel_Rarely', '267', 'Sales', '13', \"Master's Degree\", 'Marketing', '1', '1372', '1', 'Male', '85', '4', '4', 'Sales Executive', '3', 'Single', '13695', '9277', '6', 'Y', 'Yes', '17', '3', '3', '80', '0', '24', '2', '2', '19', '7', '3', '8']\n",
      "['', '312', '56', 'No', 'Travel_Rarely', '1369', 'Research & Development', '23', \"Bachelor's Degree\", 'Life Sciences', '1', '1373', '4', 'Male', '68', '3', '4', 'Manufacturing Director', '2', 'Married', '13402', '18235', '4', 'Y', 'Yes', '12', '3', '1', '80', '1', '33', '0', '3', '19', '16', '15', '9']\n",
      "['', '213', '34', 'No', 'Non-Travel', '999', 'Research & Development', '26', 'High School', 'Technical Degree', '1', '1374', '1', 'Female', '92', '2', '1', 'Research Scientist', '3', 'Divorced', '2029', '15891', '1', 'Y', 'No', '20', '4', '3', '80', '3', '5', '2', '3', '5', '4', '0', '0']\n",
      "['', '27', '40', 'No', 'Travel_Rarely', '1202', 'Research & Development', '2', 'High School', 'Medical', '1', '1375', '2', 'Female', '89', '4', '2', 'Healthcare Representative', '3', 'Divorced', '6377', '13888', '5', 'Y', 'No', '20', '4', '2', '80', '3', '15', '0', '3', '12', '11', '11', '8']\n",
      "['', '216', '34', 'No', 'Travel_Rarely', '285', 'Research & Development', '29', \"Bachelor's Degree\", 'Medical', '1', '1377', '2', 'Male', '86', '3', '2', 'Laboratory Technician', '3', 'Married', '5429', '17491', '4', 'Y', 'No', '13', '3', '1', '80', '2', '10', '1', '3', '8', '7', '7', '7']\n",
      "['4/13/2022 12:00:00 AM', '43', '31', 'Yes', 'Travel_Frequently', '703', 'Sales', '2', \"Bachelor's Degree\", 'Life Sciences', '1', '1379', '3', 'Female', '90', '2', '1', 'Sales Representative', '4', 'Single', '2785', '11882', '7', 'Y', 'No', '14', '3', '3', '80', '0', '3', '3', '4', '1', '0', '0', '0']\n",
      "['11/28/2021 12:00:00 AM', '179', '35', 'Yes', 'Travel_Frequently', '662', 'Sales', '18', \"Master's Degree\", 'Marketing', '1', '1380', '4', 'Female', '67', '3', '2', 'Sales Executive', '3', 'Married', '4614', '23288', '0', 'Y', 'Yes', '18', '3', '3', '80', '1', '5', '0', '2', '4', '2', '3', '2']\n",
      "['', '108', '38', 'No', 'Travel_Frequently', '693', 'Research & Development', '7', \"Bachelor's Degree\", 'Life Sciences', '1', '1382', '4', 'Male', '57', '4', '1', 'Research Scientist', '3', 'Divorced', '2610', '15748', '1', 'Y', 'No', '11', '3', '4', '80', '3', '4', '2', '3', '4', '2', '0', '3']\n",
      "['', '45', '34', 'No', 'Travel_Rarely', '404', 'Research & Development', '2', \"Master's Degree\", 'Technical Degree', '1', '1383', '3', 'Female', '98', '3', '2', 'Healthcare Representative', '4', 'Single', '6687', '6163', '1', 'Y', 'No', '11', '3', '4', '80', '0', '14', '2', '4', '14', '11', '4', '11']\n",
      "['', '351', '28', 'No', 'Travel_Rarely', '736', 'Sales', '26', \"Bachelor's Degree\", 'Life Sciences', '1', '1387', '3', 'Male', '48', '2', '2', 'Sales Executive', '1', 'Married', '4724', '24232', '1', 'Y', 'No', '11', '3', '3', '80', '1', '5', '0', '3', '5', '3', '0', '4']\n",
      "['12/10/2021 12:00:00 AM', '167', '31', 'Yes', 'Travel_Rarely', '330', 'Research & Development', '22', \"Master's Degree\", 'Medical', '1', '1389', '4', 'Male', '98', '3', '2', 'Manufacturing Director', '3', 'Married', '6179', '21057', '1', 'Y', 'Yes', '15', '3', '4', '80', '2', '10', '3', '2', '10', '2', '6', '7']\n",
      "['', '286', '39', 'No', 'Travel_Rarely', '1498', 'Sales', '21', \"Master's Degree\", 'Life Sciences', '1', '1390', '1', 'Male', '44', '2', '2', 'Sales Executive', '4', 'Married', '6120', '3567', '3', 'Y', 'Yes', '12', '3', '4', '80', '2', '8', '2', '4', '5', '4', '1', '4']\n",
      "['', '35', '51', 'No', 'Travel_Frequently', '541', 'Sales', '2', \"Bachelor's Degree\", 'Marketing', '1', '1391', '2', 'Male', '52', '3', '3', 'Sales Executive', '2', 'Married', '10596', '15395', '2', 'Y', 'No', '11', '3', '2', '80', '0', '14', '5', '3', '4', '2', '3', '2']\n",
      "['', '303', '41', 'No', 'Travel_Frequently', '1200', 'Research & Development', '22', \"Bachelor's Degree\", 'Life Sciences', '1', '1392', '4', 'Female', '75', '3', '2', 'Research Scientist', '4', 'Divorced', '5467', '13953', '3', 'Y', 'Yes', '14', '3', '1', '80', '2', '12', '4', '2', '6', '2', '3', '3']\n",
      "['', '65', '37', 'No', 'Travel_Rarely', '1439', 'Research & Development', '4', 'High School', 'Life Sciences', '1', '1394', '3', 'Male', '54', '3', '1', 'Research Scientist', '3', 'Married', '2996', '5182', '7', 'Y', 'Yes', '15', '3', '4', '80', '0', '8', '2', '3', '6', '4', '1', '3']\n",
      "['', '82', '33', 'No', 'Travel_Frequently', '1111', 'Sales', '5', 'High School', 'Life Sciences', '1', '1395', '2', 'Male', '61', '3', '2', 'Sales Executive', '4', 'Married', '9998', '19293', '6', 'Y', 'No', '13', '3', '1', '80', '0', '8', '2', '4', '5', '4', '1', '2']\n",
      "['', '31', '32', 'No', 'Travel_Rarely', '499', 'Sales', '2', 'High School', 'Marketing', '1', '1396', '3', 'Male', '36', '3', '2', 'Sales Executive', '2', 'Married', '4078', '20497', '0', 'Y', 'Yes', '13', '3', '1', '80', '3', '4', '3', '2', '3', '2', '1', '2']\n",
      "['', '335', '39', 'No', 'Non-Travel', '1485', 'Research & Development', '25', 'Associates Degree', 'Life Sciences', '1', '1397', '3', 'Male', '71', '3', '3', 'Healthcare Representative', '3', 'Married', '10920', '3449', '3', 'Y', 'No', '21', '4', '2', '80', '1', '13', '2', '3', '6', '4', '0', '5']\n",
      "['', '247', '25', 'No', 'Travel_Rarely', '1372', 'Sales', '18', 'High School', 'Life Sciences', '1', '1399', '1', 'Male', '93', '4', '2', 'Sales Executive', '3', 'Married', '6232', '12477', '2', 'Y', 'No', '11', '3', '2', '80', '0', '6', '3', '2', '3', '2', '1', '2']\n",
      "['', '213', '52', 'No', 'Travel_Frequently', '322', 'Research & Development', '28', 'Associates Degree', 'Medical', '1', '1401', '4', 'Female', '59', '4', '4', 'Manufacturing Director', '3', 'Married', '13247', '9731', '2', 'Y', 'Yes', '11', '3', '2', '80', '1', '24', '3', '2', '5', '3', '0', '2']\n",
      "['', '55', '43', 'No', 'Travel_Rarely', '930', 'Research & Development', '6', \"Bachelor's Degree\", 'Medical', '1', '1402', '1', 'Female', '73', '2', '2', 'Research Scientist', '3', 'Single', '4081', '20003', '1', 'Y', 'Yes', '14', '3', '1', '80', '0', '20', '3', '1', '20', '7', '1', '8']\n",
      "['', '103', '27', 'No', 'Travel_Rarely', '205', 'Sales', '10', \"Bachelor's Degree\", 'Marketing', '1', '1403', '4', 'Female', '98', '2', '2', 'Sales Executive', '4', 'Married', '5769', '7100', '1', 'Y', 'Yes', '11', '3', '4', '80', '0', '6', '3', '3', '6', '2', '4', '4']\n",
      "['10/4/2021 12:00:00 AM', '234', '27', 'Yes', 'Travel_Rarely', '135', 'Research & Development', '17', \"Master's Degree\", 'Life Sciences', '1', '1405', '4', 'Female', '51', '3', '1', 'Research Scientist', '3', 'Single', '2394', '25681', '1', 'Y', 'Yes', '13', '3', '4', '80', '0', '8', '2', '3', '8', '2', '7', '7']\n",
      "['', '27', '26', 'No', 'Travel_Rarely', '683', 'Research & Development', '2', 'High School', 'Medical', '1', '1407', '1', 'Male', '36', '2', '1', 'Research Scientist', '4', 'Single', '3904', '4050', '0', 'Y', 'No', '12', '3', '4', '80', '0', '5', '2', '3', '4', '3', '1', '1']\n",
      "['', '163', '42', 'No', 'Travel_Rarely', '1147', 'Human Resources', '10', \"Bachelor's Degree\", 'Human Resources', '1', '1408', '3', 'Female', '31', '3', '4', 'Manager', '1', 'Married', '16799', '16616', '0', 'Y', 'No', '14', '3', '3', '80', '1', '21', '5', '3', '20', '7', '0', '9']\n",
      "['', '115', '32', 'No', 'Non-Travel', '1146', 'Research & Development', '15', \"Master's Degree\", 'Medical', '1', '1955', '3', 'Female', '34', '3', '2', 'Healthcare Representative', '4', 'Divorced', '6667', '16542', '5', 'Y', 'No', '18', '3', '2', '80', '1', '9', '6', '3', '5', '1', '1', '2']\n",
      "['', '114', '35', 'No', 'Non-Travel', '208', 'Research & Development', '8', \"Master's Degree\", 'Life Sciences', '1', '1630', '3', 'Female', '52', '3', '2', 'Healthcare Representative', '3', 'Married', '4148', '12250', '1', 'Y', 'No', '12', '3', '4', '80', '1', '15', '5', '3', '14', '11', '2', '9']\n",
      "['', '17', '47', 'No', 'Non-Travel', '1162', 'Research & Development', '1', 'High School', 'Medical', '1', '2000', '3', 'Female', '98', '3', '3', 'Research Director', '2', 'Married', '11957', '17231', '0', 'Y', 'No', '18', '3', '1', '80', '2', '14', '3', '1', '13', '8', '5', '12']\n",
      "['', '17', '36', 'No', 'Non-Travel', '894', 'Research & Development', '1', \"Master's Degree\", 'Medical', '1', '1662', '4', 'Female', '33', '2', '2', 'Manufacturing Director', '3', 'Married', '4374', '15411', '0', 'Y', 'No', '15', '3', '3', '80', '0', '4', '6', '3', '3', '2', '1', '2']\n",
      "['', '283', '39', 'No', 'Non-Travel', '1251', 'Sales', '21', \"Master's Degree\", 'Life Sciences', '1', '1929', '1', 'Female', '32', '1', '2', 'Sales Executive', '3', 'Married', '5736', '3987', '6', 'Y', 'No', '19', '3', '3', '80', '1', '10', '1', '3', '3', '2', '1', '2']\n",
      "['', '179', '24', 'No', 'Non-Travel', '830', 'Sales', '13', 'Associates Degree', 'Life Sciences', '1', '1495', '4', 'Female', '78', '3', '1', 'Sales Representative', '2', 'Married', '2033', '7103', '1', 'Y', 'No', '13', '3', '3', '80', '1', '1', '2', '3', '1', '0', '0', '0']\n",
      "['', '108', '18', 'No', 'Non-Travel', '1431', 'Research & Development', '14', \"Bachelor's Degree\", 'Medical', '1', '1839', '2', 'Female', '33', '3', '1', 'Research Scientist', '3', 'Single', '1514', '8018', '1', 'Y', 'No', '16', '3', '3', '80', '0', '0', '4', '1', '0', '0', '0', '0']\n",
      "['', '28', '33', 'No', 'Non-Travel', '1283', 'Sales', '2', \"Bachelor's Degree\", 'Marketing', '1', '1756', '4', 'Female', '62', '3', '2', 'Sales Executive', '2', 'Single', '5147', '10697', '8', 'Y', 'No', '15', '3', '4', '80', '0', '13', '2', '2', '11', '7', '1', '7']\n",
      "['', '171', '48', 'No', 'Travel_Frequently', '117', 'Research & Development', '22', \"Bachelor's Degree\", 'Medical', '1', '1900', '4', 'Female', '58', '3', '4', 'Manager', '4', 'Divorced', '17174', '2437', '3', 'Y', 'No', '11', '3', '2', '80', '1', '24', '3', '3', '22', '17', '4', '7']\n",
      "['', '69', '36', 'No', 'Travel_Frequently', '688', 'Research & Development', '4', 'Associates Degree', 'Life Sciences', '1', '2025', '4', 'Female', '97', '3', '2', 'Manufacturing Director', '2', 'Divorced', '5131', '9192', '7', 'Y', 'No', '13', '3', '2', '80', '3', '18', '3', '3', '4', '2', '0', '2']\n",
      "['', '31', '38', 'No', 'Travel_Frequently', '594', 'Research & Development', '2', 'Associates Degree', 'Medical', '1', '1760', '3', 'Female', '75', '2', '1', 'Laboratory Technician', '2', 'Married', '2468', '15963', '4', 'Y', 'No', '14', '3', '2', '80', '1', '9', '4', '2', '6', '1', '0', '5']\n",
      "['', '193', '40', 'No', 'Travel_Frequently', '692', 'Research & Development', '11', \"Bachelor's Degree\", 'Technical Degree', '1', '1985', '4', 'Female', '73', '3', '2', 'Laboratory Technician', '3', 'Married', '6323', '26849', '1', 'Y', 'No', '11', '3', '1', '80', '1', '10', '2', '4', '10', '9', '9', '4']\n",
      "['', '212', '27', 'No', 'Travel_Frequently', '1131', 'Research & Development', '15', \"Bachelor's Degree\", 'Life Sciences', '1', '1870', '4', 'Female', '77', '2', '1', 'Research Scientist', '1', 'Married', '4774', '23844', '0', 'Y', 'No', '19', '3', '4', '80', '1', '8', '2', '2', '7', '6', '7', '3']\n",
      "['', '43', '29', 'No', 'Travel_Frequently', '410', 'Research & Development', '2', 'High School', 'Life Sciences', '1', '1513', '4', 'Female', '97', '3', '1', 'Laboratory Technician', '2', 'Married', '3180', '4668', '0', 'Y', 'No', '13', '3', '3', '80', '3', '4', '3', '3', '3', '2', '0', '2']\n",
      "['', '26', '44', 'No', 'Travel_Frequently', '383', 'Sales', '1', 'Doctoral Degree', 'Marketing', '1', '1481', '1', 'Female', '79', '3', '2', 'Sales Executive', '3', 'Married', '4768', '9282', '7', 'Y', 'No', '12', '3', '3', '80', '1', '11', '4', '2', '1', '0', '0', '0']\n",
      "['', '80', '31', 'No', 'Travel_Frequently', '1125', 'Sales', '7', \"Master's Degree\", 'Marketing', '1', '1833', '1', 'Female', '68', '3', '3', 'Sales Executive', '1', 'Married', '9637', '8277', '2', 'Y', 'No', '14', '3', '4', '80', '2', '9', '3', '3', '3', '2', '2', '2']\n",
      "['', '80', '42', 'No', 'Travel_Frequently', '748', 'Research & Development', '9', 'Associates Degree', 'Medical', '1', '1480', '1', 'Female', '74', '3', '1', 'Laboratory Technician', '4', 'Single', '3673', '16458', '1', 'Y', 'No', '13', '3', '3', '80', '0', '12', '3', '3', '12', '9', '5', '8']\n",
      "['', '45', '39', 'No', 'Travel_Frequently', '711', 'Research & Development', '4', \"Bachelor's Degree\", 'Medical', '1', '1633', '1', 'Female', '81', '3', '2', 'Manufacturing Director', '3', 'Single', '5042', '3140', '0', 'Y', 'No', '13', '3', '4', '80', '0', '10', '2', '1', '9', '2', '3', '8']\n",
      "['', '49', '30', 'No', 'Travel_Frequently', '1312', 'Research & Development', '2', \"Master's Degree\", 'Technical Degree', '1', '1745', '4', 'Female', '78', '2', '1', 'Research Scientist', '1', 'Single', '4968', '26427', '0', 'Y', 'No', '16', '3', '4', '80', '0', '10', '2', '3', '9', '7', '0', '7']\n",
      "['', '41', '31', 'No', 'Travel_Rarely', '471', 'Research & Development', '4', \"Bachelor's Degree\", 'Medical', '1', '1916', '1', 'Female', '62', '4', '1', 'Laboratory Technician', '3', 'Divorced', '3978', '16031', '8', 'Y', 'No', '12', '3', '2', '80', '1', '4', '0', '2', '2', '2', '2', '2']\n",
      "['', '169', '40', 'No', 'Travel_Rarely', '750', 'Research & Development', '12', \"Bachelor's Degree\", 'Life Sciences', '1', '1829', '2', 'Female', '47', '3', '2', 'Healthcare Representative', '1', 'Divorced', '4448', '10748', '2', 'Y', 'No', '12', '3', '2', '80', '1', '15', '3', '3', '7', '4', '7', '7']\n",
      "['', '26', '40', 'No', 'Travel_Rarely', '1194', 'Research & Development', '1', \"Bachelor's Degree\", 'Life Sciences', '1', '1822', '3', 'Female', '52', '3', '2', 'Healthcare Representative', '4', 'Divorced', '6513', '9060', '4', 'Y', 'No', '17', '3', '4', '80', '1', '12', '3', '3', '5', '3', '0', '3']\n",
      "['', '77', '29', 'No', 'Travel_Rarely', '590', 'Research & Development', '4', \"Bachelor's Degree\", 'Technical Degree', '1', '1762', '4', 'Female', '91', '2', '1', 'Research Scientist', '1', 'Divorced', '2109', '10007', '1', 'Y', 'No', '13', '3', '3', '80', '1', '1', '2', '3', '1', '0', '0', '0']\n",
      "['', '52', '34', 'No', 'Travel_Rarely', '1130', 'Research & Development', '3', \"Bachelor's Degree\", 'Life Sciences', '1', '1658', '4', 'Female', '66', '3', '2', 'Research Scientist', '2', 'Divorced', '5433', '19332', '1', 'Y', 'No', '12', '3', '3', '80', '1', '11', '2', '3', '11', '8', '7', '9']\n",
      "['', '23', '45', 'No', 'Travel_Rarely', '1329', 'Research & Development', '2', 'Associates Degree', 'Other', '1', '1635', '4', 'Female', '59', '2', '2', 'Manufacturing Director', '4', 'Divorced', '5770', '5388', '1', 'Y', 'No', '19', '3', '1', '80', '2', '10', '3', '3', '10', '7', '3', '9']\n",
      "['', '234', '50', 'No', 'Travel_Rarely', '813', 'Research & Development', '17', 'Doctoral Degree', 'Life Sciences', '1', '1656', '4', 'Female', '50', '2', '3', 'Research Director', '1', 'Divorced', '13269', '21981', '5', 'Y', 'No', '15', '3', '3', '80', '3', '19', '3', '3', '14', '11', '1', '11']\n",
      "['', '61', '46', 'No', 'Travel_Rarely', '1319', 'Sales', '3', \"Bachelor's Degree\", 'Technical Degree', '1', '1863', '1', 'Female', '45', '4', '4', 'Sales Executive', '1', 'Divorced', '13225', '7739', '2', 'Y', 'No', '12', '3', '4', '80', '1', '25', '5', '3', '19', '17', '2', '8']\n",
      "['', '39', '47', 'No', 'Travel_Rarely', '1225', 'Sales', '2', \"Master's Degree\", 'Life Sciences', '1', '1676', '2', 'Female', '47', '4', '4', 'Manager', '2', 'Divorced', '15972', '21086', '6', 'Y', 'No', '14', '3', '3', '80', '3', '29', '2', '3', '3', '2', '1', '2']\n",
      "['', '221', '48', 'No', 'Travel_Rarely', '492', 'Sales', '16', \"Master's Degree\", 'Life Sciences', '1', '1557', '3', 'Female', '96', '3', '2', 'Sales Executive', '3', 'Divorced', '6439', '13693', '8', 'Y', 'No', '14', '3', '3', '80', '1', '18', '2', '3', '8', '7', '7', '7']\n",
      "['', '76', '30', 'No', 'Travel_Rarely', '855', 'Sales', '7', \"Master's Degree\", 'Marketing', '1', '1428', '4', 'Female', '73', '3', '2', 'Sales Executive', '1', 'Divorced', '4779', '12761', '7', 'Y', 'No', '14', '3', '2', '80', '2', '8', '3', '3', '3', '2', '0', '2']\n",
      "['', '43', '25', 'No', 'Travel_Rarely', '309', 'Human Resources', '2', \"Bachelor's Degree\", 'Human Resources', '1', '1987', '3', 'Female', '82', '3', '1', 'Human Resources', '2', 'Married', '2187', '19655', '4', 'Y', 'No', '14', '3', '3', '80', '0', '6', '3', '3', '2', '0', '1', '2']\n",
      "['', '351', '47', 'No', 'Travel_Rarely', '1176', 'Human Resources', '26', \"Master's Degree\", 'Life Sciences', '1', '1625', '4', 'Female', '98', '3', '5', 'Manager', '3', 'Married', '19658', '5220', '3', 'Y', 'No', '11', '3', '3', '80', '1', '27', '2', '3', '5', '2', '1', '0']\n",
      "['', '41', '33', 'No', 'Travel_Rarely', '1099', 'Research & Development', '4', \"Master's Degree\", 'Medical', '1', '1502', '1', 'Female', '82', '2', '1', 'Laboratory Technician', '2', 'Married', '3838', '8192', '8', 'Y', 'No', '11', '3', '4', '80', '0', '8', '5', '3', '5', '4', '0', '2']\n",
      "['', '55', '43', 'No', 'Travel_Rarely', '823', 'Research & Development', '6', \"Bachelor's Degree\", 'Medical', '1', '1866', '1', 'Female', '81', '2', '5', 'Manager', '3', 'Married', '19392', '22539', '7', 'Y', 'No', '13', '3', '4', '80', '0', '21', '2', '3', '16', '12', '6', '14']\n",
      "['', '61', '51', 'No', 'Travel_Rarely', '942', 'Research & Development', '3', \"Bachelor's Degree\", 'Technical Degree', '1', '1786', '1', 'Female', '53', '3', '3', 'Manager', '3', 'Married', '13116', '22984', '2', 'Y', 'No', '11', '3', '4', '80', '0', '15', '2', '3', '2', '2', '2', '2']\n",
      "['', '123', '49', 'No', 'Travel_Rarely', '301', 'Research & Development', '22', \"Master's Degree\", 'Other', '1', '1655', '1', 'Female', '72', '3', '4', 'Research Director', '2', 'Married', '16413', '3498', '3', 'Y', 'No', '16', '3', '2', '80', '2', '27', '2', '3', '4', '2', '1', '2']\n",
      "['', '27', '47', 'No', 'Travel_Rarely', '359', 'Research & Development', '2', \"Master's Degree\", 'Medical', '1', '1443', '1', 'Female', '82', '3', '4', 'Research Director', '3', 'Married', '17169', '26703', '3', 'Y', 'No', '19', '3', '2', '80', '2', '26', '2', '4', '20', '17', '5', '6']\n",
      "['', '130', '54', 'No', 'Travel_Rarely', '155', 'Research & Development', '9', 'Associates Degree', 'Life Sciences', '1', '1969', '1', 'Female', '67', '3', '2', 'Research Scientist', '3', 'Married', '2897', '22474', '3', 'Y', 'No', '11', '3', '3', '80', '2', '9', '6', '2', '4', '3', '2', '3']\n",
      "['', '208', '40', 'No', 'Travel_Rarely', '884', 'Research & Development', '15', \"Bachelor's Degree\", 'Life Sciences', '1', '1628', '1', 'Female', '80', '2', '3', 'Manufacturing Director', '3', 'Married', '10435', '25800', '1', 'Y', 'No', '13', '3', '4', '80', '2', '18', '2', '3', '18', '15', '14', '12']\n",
      "['', '69', '27', 'No', 'Travel_Rarely', '486', 'Research & Development', '8', \"Bachelor's Degree\", 'Medical', '1', '1647', '2', 'Female', '86', '4', '1', 'Research Scientist', '3', 'Married', '3517', '22490', '7', 'Y', 'No', '17', '3', '1', '80', '0', '5', '0', '3', '3', '2', '0', '2']\n",
      "['', '260', '34', 'No', 'Travel_Rarely', '678', 'Research & Development', '19', \"Bachelor's Degree\", 'Life Sciences', '1', '1701', '2', 'Female', '35', '2', '1', 'Research Scientist', '4', 'Married', '2929', '20338', '1', 'Y', 'No', '12', '3', '2', '80', '0', '10', '3', '3', '10', '9', '8', '7']\n",
      "['', '83', '38', 'No', 'Travel_Rarely', '201', 'Research & Development', '10', \"Bachelor's Degree\", 'Medical', '1', '2015', '2', 'Female', '99', '1', '3', 'Research Director', '3', 'Married', '13206', '3376', '3', 'Y', 'No', '12', '3', '1', '80', '1', '20', '3', '3', '18', '16', '1', '11']\n",
      "['', '83', '37', 'No', 'Travel_Rarely', '1470', 'Research & Development', '10', \"Bachelor's Degree\", 'Medical', '1', '1640', '2', 'Female', '71', '3', '1', 'Research Scientist', '2', 'Married', '3936', '9953', '1', 'Y', 'No', '11', '3', '1', '80', '1', '8', '2', '1', '8', '4', '7', '7']\n",
      "['', '78', '36', 'No', 'Travel_Rarely', '711', 'Research & Development', '5', \"Master's Degree\", 'Life Sciences', '1', '1651', '2', 'Female', '42', '3', '3', 'Healthcare Representative', '1', 'Married', '8008', '22792', '4', 'Y', 'No', '12', '3', '3', '80', '2', '9', '6', '3', '3', '2', '0', '2']\n",
      "['', '338', '45', 'No', 'Travel_Rarely', '556', 'Research & Development', '25', 'Associates Degree', 'Life Sciences', '1', '1888', '2', 'Female', '93', '2', '2', 'Manufacturing Director', '4', 'Married', '5906', '23888', '0', 'Y', 'No', '13', '3', '4', '80', '2', '10', '2', '2', '9', '8', '3', '8']\n",
      "['', '38', '32', 'No', 'Travel_Rarely', '634', 'Research & Development', '5', \"Master's Degree\", 'Other', '1', '1607', '2', 'Female', '35', '4', '1', 'Research Scientist', '4', 'Married', '3312', '18783', '3', 'Y', 'No', '17', '3', '4', '80', '2', '6', '3', '3', '3', '2', '0', '2']\n",
      "['', '53', '52', 'No', 'Travel_Rarely', '258', 'Research & Development', '8', \"Master's Degree\", 'Other', '1', '1409', '3', 'Female', '54', '3', '1', 'Laboratory Technician', '1', 'Married', '2950', '17363', '9', 'Y', 'No', '13', '3', '3', '80', '0', '12', '2', '1', '5', '4', '0', '4']\n",
      "['', '53', '29', 'No', 'Travel_Rarely', '441', 'Research & Development', '8', 'High School', 'Other', '1', '1544', '3', 'Female', '39', '1', '2', 'Healthcare Representative', '1', 'Married', '9715', '7288', '3', 'Y', 'No', '13', '3', '3', '80', '1', '9', '3', '3', '7', '7', '0', '7']\n",
      "['', '26', '35', 'No', 'Travel_Rarely', '287', 'Research & Development', '1', \"Master's Degree\", 'Life Sciences', '1', '2052', '3', 'Female', '62', '1', '1', 'Research Scientist', '4', 'Married', '2977', '8952', '1', 'Y', 'No', '12', '3', '4', '80', '1', '4', '5', '3', '4', '3', '1', '1']\n",
      "['', '39', '40', 'No', 'Travel_Rarely', '616', 'Research & Development', '2', 'Associates Degree', 'Life Sciences', '1', '1802', '3', 'Female', '99', '3', '1', 'Laboratory Technician', '1', 'Married', '3377', '25605', '4', 'Y', 'No', '17', '3', '4', '80', '1', '7', '5', '2', '4', '3', '0', '2']\n",
      "['', '338', '49', 'No', 'Travel_Rarely', '722', 'Research & Development', '25', \"Master's Degree\", 'Life Sciences', '1', '1617', '3', 'Female', '84', '3', '1', 'Laboratory Technician', '1', 'Married', '3211', '22102', '1', 'Y', 'No', '14', '3', '4', '80', '1', '10', '3', '2', '9', '6', '1', '4']\n",
      "['', '88', '48', 'No', 'Travel_Rarely', '1108', 'Research & Development', '15', \"Master's Degree\", 'Other', '1', '1576', '3', 'Female', '65', '3', '1', 'Research Scientist', '1', 'Married', '2367', '16530', '8', 'Y', 'No', '12', '3', '4', '80', '1', '10', '3', '2', '8', '2', '7', '6']\n",
      "['', '27', '40', 'No', 'Travel_Rarely', '1194', 'Research & Development', '2', \"Master's Degree\", 'Medical', '1', '2051', '3', 'Female', '98', '3', '1', 'Research Scientist', '3', 'Married', '2001', '12549', '2', 'Y', 'No', '14', '3', '2', '80', '3', '20', '2', '3', '5', '3', '0', '2']\n",
      "['', '26', '34', 'No', 'Travel_Rarely', '401', 'Research & Development', '1', \"Bachelor's Degree\", 'Life Sciences', '1', '1447', '4', 'Female', '86', '2', '1', 'Laboratory Technician', '2', 'Married', '3294', '3708', '5', 'Y', 'No', '17', '3', '1', '80', '1', '7', '2', '2', '5', '4', '0', '2']\n",
      "['', '78', '32', 'No', 'Travel_Rarely', '824', 'Research & Development', '5', 'Associates Degree', 'Life Sciences', '1', '1555', '4', 'Female', '67', '2', '2', 'Research Scientist', '2', 'Married', '5878', '15624', '3', 'Y', 'No', '12', '3', '1', '80', '1', '12', '2', '3', '7', '1', '2', '5']\n",
      "['', '43', '38', 'No', 'Travel_Rarely', '1153', 'Research & Development', '6', 'Associates Degree', 'Other', '1', '1782', '4', 'Female', '40', '2', '1', 'Laboratory Technician', '3', 'Married', '3702', '16376', '1', 'Y', 'No', '11', '3', '2', '80', '1', '5', '3', '3', '5', '4', '0', '4']\n",
      "['', '62', '54', 'No', 'Travel_Rarely', '431', 'Research & Development', '7', \"Master's Degree\", 'Medical', '1', '1830', '4', 'Female', '68', '3', '2', 'Research Scientist', '4', 'Married', '6854', '15696', '4', 'Y', 'No', '15', '3', '2', '80', '1', '14', '2', '2', '7', '1', '1', '7']\n",
      "['', '76', '29', 'No', 'Travel_Rarely', '1082', 'Research & Development', '9', \"Master's Degree\", 'Medical', '1', '1709', '4', 'Female', '43', '3', '1', 'Laboratory Technician', '3', 'Married', '2974', '25412', '9', 'Y', 'No', '17', '3', '3', '80', '1', '9', '2', '3', '5', '3', '1', '2']\n",
      "['', '41', '38', 'No', 'Travel_Rarely', '1495', 'Research & Development', '4', 'Associates Degree', 'Medical', '1', '1687', '4', 'Female', '87', '3', '1', 'Laboratory Technician', '3', 'Married', '3306', '26176', '7', 'Y', 'No', '19', '3', '4', '80', '1', '7', '5', '2', '0', '0', '0', '0']\n",
      "['', '143', '38', 'No', 'Travel_Rarely', '345', 'Sales', '10', 'Associates Degree', 'Life Sciences', '1', '2041', '1', 'Female', '100', '3', '2', 'Sales Executive', '4', 'Married', '5343', '5982', '1', 'Y', 'No', '11', '3', '3', '80', '1', '10', '1', '3', '10', '7', '1', '9']\n",
      "['', '274', '31', 'No', 'Travel_Rarely', '196', 'Sales', '29', \"Master's Degree\", 'Marketing', '1', '1784', '1', 'Female', '91', '2', '2', 'Sales Executive', '4', 'Married', '5468', '13402', '1', 'Y', 'No', '14', '3', '1', '80', '2', '13', '3', '3', '12', '7', '5', '7']\n",
      "['', '78', '31', 'No', 'Travel_Rarely', '1112', 'Sales', '5', \"Master's Degree\", 'Life Sciences', '1', '1673', '1', 'Female', '67', '3', '2', 'Sales Executive', '4', 'Married', '5476', '22589', '1', 'Y', 'No', '11', '3', '1', '80', '2', '10', '2', '3', '10', '0', '0', '2']\n",
      "['', '34', '36', 'No', 'Travel_Rarely', '557', 'Sales', '3', \"Bachelor's Degree\", 'Medical', '1', '2024', '1', 'Female', '94', '2', '3', 'Sales Executive', '4', 'Married', '7644', '12695', '0', 'Y', 'No', '19', '3', '3', '80', '2', '10', '2', '3', '9', '7', '3', '4']\n",
      "['', '229', '39', 'No', 'Travel_Rarely', '722', 'Sales', '24', 'High School', 'Marketing', '1', '2056', '2', 'Female', '60', '2', '4', 'Sales Executive', '4', 'Married', '12031', '8828', '0', 'Y', 'No', '11', '3', '1', '80', '1', '21', '2', '2', '20', '9', '9', '6']\n",
      "['', '112', '36', 'No', 'Travel_Rarely', '1120', 'Sales', '11', \"Master's Degree\", 'Marketing', '1', '2045', '2', 'Female', '100', '2', '2', 'Sales Executive', '4', 'Married', '6652', '14369', '4', 'Y', 'No', '13', '3', '1', '80', '1', '8', '2', '2', '6', '3', '0', '0']\n",
      "['', '31', '40', 'No', 'Travel_Rarely', '444', 'Sales', '2', 'Associates Degree', 'Marketing', '1', '1986', '2', 'Female', '92', '3', '2', 'Sales Executive', '2', 'Married', '5677', '4258', '3', 'Y', 'No', '14', '3', '3', '80', '1', '15', '4', '3', '11', '8', '5', '10']\n",
      "['', '34', '28', 'No', 'Travel_Rarely', '1172', 'Sales', '3', \"Bachelor's Degree\", 'Medical', '1', '1875', '2', 'Female', '78', '3', '1', 'Sales Representative', '2', 'Married', '2856', '3692', '1', 'Y', 'No', '19', '3', '4', '80', '1', '1', '3', '3', '1', '0', '0', '0']\n",
      "['', '52', '46', 'No', 'Travel_Rarely', '228', 'Sales', '3', \"Bachelor's Degree\", 'Life Sciences', '1', '1527', '3', 'Female', '51', '3', '4', 'Manager', '2', 'Married', '16606', '11380', '8', 'Y', 'No', '12', '3', '4', '80', '1', '23', '2', '4', '13', '12', '5', '1']\n",
      "['', '157', '36', 'No', 'Travel_Rarely', '329', 'Sales', '16', \"Master's Degree\", 'Marketing', '1', '1436', '3', 'Female', '98', '2', '2', 'Sales Executive', '1', 'Married', '5647', '13494', '4', 'Y', 'No', '13', '3', '1', '80', '2', '11', '3', '2', '3', '2', '0', '2']\n",
      "['', '22', '32', 'No', 'Travel_Rarely', '801', 'Sales', '1', \"Master's Degree\", 'Marketing', '1', '2016', '3', 'Female', '48', '3', '3', 'Sales Executive', '4', 'Married', '10422', '24032', '1', 'Y', 'No', '19', '3', '3', '80', '2', '14', '3', '3', '14', '10', '5', '7']\n",
      "['', '112', '56', 'No', 'Travel_Rarely', '1443', 'Sales', '11', 'Doctoral Degree', 'Marketing', '1', '1935', '4', 'Female', '89', '2', '2', 'Sales Executive', '1', 'Married', '5380', '20328', '4', 'Y', 'No', '16', '3', '3', '80', '1', '6', '3', '3', '0', '0', '0', '0']\n",
      "['', '195', '40', 'No', 'Travel_Rarely', '118', 'Sales', '14', 'Associates Degree', 'Life Sciences', '1', '1598', '4', 'Female', '84', '3', '2', 'Sales Executive', '1', 'Married', '4639', '11262', '1', 'Y', 'No', '15', '3', '3', '80', '1', '5', '2', '3', '5', '4', '1', '2']\n",
      "['', '69', '31', 'No', 'Travel_Rarely', '1398', 'Human Resources', '8', 'Associates Degree', 'Medical', '1', '1461', '4', 'Female', '96', '4', '1', 'Human Resources', '2', 'Single', '2109', '24609', '9', 'Y', 'No', '18', '3', '4', '80', '0', '8', '3', '3', '3', '2', '0', '2']\n",
      "['', '90', '37', 'No', 'Travel_Rarely', '1462', 'Research & Development', '11', \"Bachelor's Degree\", 'Medical', '1', '1411', '1', 'Female', '94', '3', '1', 'Laboratory Technician', '3', 'Single', '3629', '19106', '4', 'Y', 'No', '18', '3', '1', '80', '0', '8', '6', '3', '3', '2', '0', '2']\n",
      "['', '83', '30', 'No', 'Travel_Rarely', '1092', 'Research & Development', '10', \"Bachelor's Degree\", 'Medical', '1', '1816', '1', 'Female', '64', '3', '3', 'Manufacturing Director', '3', 'Single', '9667', '2739', '9', 'Y', 'No', '14', '3', '2', '80', '0', '9', '3', '3', '7', '7', '0', '2']\n",
      "['', '117', '31', 'No', 'Travel_Rarely', '182', 'Research & Development', '8', 'Doctoral Degree', 'Life Sciences', '1', '1430', '1', 'Female', '93', '3', '4', 'Research Director', '2', 'Single', '16422', '8847', '3', 'Y', 'No', '11', '3', '3', '80', '0', '9', '3', '4', '3', '2', '1', '0']\n",
      "['', '130', '47', 'No', 'Travel_Rarely', '207', 'Research & Development', '9', \"Master's Degree\", 'Life Sciences', '1', '1856', '2', 'Female', '64', '3', '1', 'Laboratory Technician', '3', 'Single', '2105', '5411', '4', 'Y', 'No', '12', '3', '3', '80', '0', '7', '2', '3', '2', '2', '2', '0']\n",
      "['', '91', '39', 'No', 'Travel_Rarely', '1089', 'Research & Development', '6', \"Bachelor's Degree\", 'Life Sciences', '1', '1525', '2', 'Female', '32', '3', '3', 'Manufacturing Director', '2', 'Single', '8376', '9150', '4', 'Y', 'No', '18', '3', '4', '80', '0', '9', '3', '3', '2', '0', '2', '2']\n",
      "['', '195', '32', 'No', 'Travel_Rarely', '267', 'Research & Development', '29', \"Master's Degree\", 'Life Sciences', '1', '2010', '3', 'Female', '49', '2', '1', 'Laboratory Technician', '2', 'Single', '2837', '15919', '1', 'Y', 'No', '13', '3', '3', '80', '0', '6', '3', '3', '6', '2', '4', '1']\n",
      "['', '41', '23', 'No', 'Travel_Rarely', '160', 'Research & Development', '4', 'High School', 'Medical', '1', '1735', '3', 'Female', '51', '3', '1', 'Laboratory Technician', '2', 'Single', '3295', '12862', '1', 'Y', 'No', '13', '3', '3', '80', '0', '3', '3', '1', '3', '2', '1', '2']\n",
      "['', '69', '27', 'No', 'Travel_Rarely', '1054', 'Research & Development', '8', \"Bachelor's Degree\", 'Medical', '1', '1751', '3', 'Female', '67', '3', '1', 'Research Scientist', '4', 'Single', '3445', '6152', '1', 'Y', 'No', '11', '3', '3', '80', '0', '6', '5', '2', '6', '2', '1', '4']\n",
      "['', '209', '29', 'No', 'Travel_Rarely', '468', 'Research & Development', '28', \"Master's Degree\", 'Medical', '1', '2054', '4', 'Female', '73', '2', '1', 'Research Scientist', '1', 'Single', '3785', '8489', '1', 'Y', 'No', '14', '3', '2', '80', '0', '5', '3', '1', '5', '4', '0', '4']\n",
      "['', '230.5', '45', 'No', 'Travel_Rarely', '1005', 'Research & Development', '28', 'Associates Degree', 'Technical Degree', '1', '1719', '4', 'Female', '48', '2', '4', 'Research Director', '2', 'Single', '16704', '17119', '1', 'Y', 'No', '11', '3', '3', '80', '0', '21', '2', '3', '21', '6', '8', '6']\n",
      "['', '221', '35', 'No', 'Travel_Rarely', '1029', 'Research & Development', '16', \"Bachelor's Degree\", 'Life Sciences', '1', '1529', '4', 'Female', '91', '2', '3', 'Healthcare Representative', '2', 'Single', '8606', '21195', '1', 'Y', 'No', '19', '3', '4', '80', '0', '11', '3', '1', '11', '8', '3', '3']\n",
      "['', '20', '54', 'No', 'Travel_Rarely', '971', 'Research & Development', '1', \"Bachelor's Degree\", 'Medical', '1', '1422', '4', 'Female', '54', '3', '4', 'Research Director', '4', 'Single', '17328', '5652', '6', 'Y', 'No', '19', '3', '4', '80', '0', '29', '3', '2', '20', '7', '12', '7']\n",
      "['', '27', '27', 'No', 'Travel_Rarely', '511', 'Sales', '2', 'Associates Degree', 'Medical', '1', '1898', '1', 'Female', '89', '4', '2', 'Sales Executive', '3', 'Single', '6500', '26997', '0', 'Y', 'No', '14', '3', '2', '80', '0', '9', '5', '2', '8', '7', '0', '7']\n",
      "['', '26', '36', 'No', 'Travel_Rarely', '884', 'Sales', '1', \"Master's Degree\", 'Life Sciences', '1', '1585', '2', 'Female', '73', '3', '2', 'Sales Executive', '3', 'Single', '6815', '21447', '6', 'Y', 'No', '13', '3', '1', '80', '0', '15', '5', '3', '1', '0', '0', '0']\n",
      "['', '221', '38', 'No', 'Travel_Rarely', '437', 'Sales', '16', \"Bachelor's Degree\", 'Life Sciences', '1', '1583', '2', 'Female', '90', '3', '2', 'Sales Executive', '2', 'Single', '4198', '16379', '2', 'Y', 'No', '12', '3', '2', '80', '0', '8', '5', '4', '3', '2', '1', '2']\n",
      "['', '27', '20', 'No', 'Travel_Rarely', '1141', 'Sales', '2', \"Bachelor's Degree\", 'Medical', '1', '1657', '3', 'Female', '31', '3', '1', 'Sales Representative', '3', 'Single', '2783', '13251', '1', 'Y', 'No', '19', '3', '1', '80', '0', '2', '3', '3', '2', '2', '2', '2']\n",
      "['', '39', '36', 'No', 'Travel_Rarely', '530', 'Sales', '2', \"Master's Degree\", 'Life Sciences', '1', '1710', '3', 'Female', '51', '3', '2', 'Sales Representative', '4', 'Single', '4502', '7439', '3', 'Y', 'No', '15', '3', '3', '80', '0', '17', '2', '2', '13', '7', '6', '7']\n",
      "['', '52', '34', 'No', 'Travel_Rarely', '511', 'Sales', '3', 'Associates Degree', 'Life Sciences', '1', '1779', '4', 'Female', '32', '1', '2', 'Sales Executive', '4', 'Single', '6029', '25353', '5', 'Y', 'No', '12', '3', '1', '80', '0', '6', '3', '3', '2', '2', '2', '2']\n",
      "['', '273', '45', 'No', 'Travel_Rarely', '374', 'Sales', '20', \"Bachelor's Degree\", 'Life Sciences', '1', '2046', '4', 'Female', '50', '3', '2', 'Sales Executive', '3', 'Single', '4850', '23333', '8', 'Y', 'No', '15', '3', '3', '80', '0', '8', '3', '3', '5', '3', '0', '1']\n",
      "['', '112', '49', 'No', 'Travel_Rarely', '1313', 'Sales', '11', \"Master's Degree\", 'Marketing', '1', '1757', '4', 'Female', '80', '3', '2', 'Sales Executive', '4', 'Single', '4507', '8191', '3', 'Y', 'No', '12', '3', '3', '80', '0', '8', '1', '4', '5', '1', '0', '4']\n",
      "['', '38', '26', 'No', 'Travel_Rarely', '1167', 'Sales', '5', \"Bachelor's Degree\", 'Other', '1', '2060', '4', 'Female', '30', '2', '1', 'Sales Representative', '3', 'Single', '2966', '21378', '0', 'Y', 'No', '18', '3', '4', '80', '0', '5', '2', '3', '4', '2', '0', '0']\n",
      "['', '80', '31', 'No', 'Non-Travel', '697', 'Research & Development', '10', \"Bachelor's Degree\", 'Medical', '1', '1979', '3', 'Female', '40', '3', '3', 'Research Director', '3', 'Married', '11031', '26862', '4', 'Y', 'No', '20', '4', '3', '80', '1', '13', '2', '4', '11', '7', '4', '8']\n",
      "['', '36', '45', 'No', 'Non-Travel', '589', 'Sales', '2', \"Master's Degree\", 'Life Sciences', '1', '1845', '3', 'Female', '67', '3', '2', 'Sales Executive', '3', 'Married', '5154', '19665', '4', 'Y', 'No', '22', '4', '2', '80', '2', '10', '3', '4', '8', '7', '5', '7']\n",
      "['', '94', '54', 'No', 'Travel_Frequently', '1050', 'Research & Development', '11', \"Master's Degree\", 'Medical', '1', '1520', '2', 'Female', '87', '3', '4', 'Manager', '4', 'Divorced', '16032', '24456', '3', 'Y', 'No', '20', '4', '1', '80', '1', '26', '2', '3', '14', '9', '1', '12']\n",
      "['', '31', '38', 'No', 'Travel_Frequently', '148', 'Research & Development', '2', \"Bachelor's Degree\", 'Medical', '1', '1675', '4', 'Female', '42', '2', '1', 'Laboratory Technician', '2', 'Single', '2440', '23826', '1', 'Y', 'No', '22', '4', '2', '80', '0', '4', '3', '3', '4', '3', '3', '3']\n",
      "['', '200.5', '31', 'No', 'Travel_Frequently', '163', 'Research & Development', '24', 'High School', 'Technical Degree', '1', '1736', '4', 'Female', '30', '3', '2', 'Manufacturing Director', '4', 'Single', '5238', '6670', '2', 'Y', 'No', '20', '4', '4', '80', '0', '9', '3', '2', '5', '4', '1', '4']\n",
      "['', '202', '28', 'No', 'Travel_Rarely', '580', 'Research & Development', '27', \"Bachelor's Degree\", 'Medical', '1', '1622', '2', 'Female', '39', '1', '2', 'Manufacturing Director', '1', 'Divorced', '4877', '20460', '0', 'Y', 'No', '21', '4', '2', '80', '1', '6', '5', '2', '5', '3', '0', '0']\n",
      "['', '65', '45', 'No', 'Travel_Rarely', '176', 'Human Resources', '4', \"Bachelor's Degree\", 'Life Sciences', '1', '1744', '3', 'Female', '56', '1', '3', 'Human Resources', '3', 'Married', '9756', '6595', '4', 'Y', 'No', '21', '4', '3', '80', '2', '9', '2', '4', '5', '0', '0', '3']\n",
      "['', '52', '26', 'No', 'Travel_Rarely', '474', 'Research & Development', '3', \"Bachelor's Degree\", 'Life Sciences', '1', '1581', '1', 'Female', '89', '3', '1', 'Research Scientist', '4', 'Married', '2061', '11133', '1', 'Y', 'No', '21', '4', '1', '80', '0', '1', '5', '3', '1', '0', '0', '0']\n",
      "['', '188.5', '41', 'No', 'Travel_Rarely', '582', 'Research & Development', '28', \"Master's Degree\", 'Life Sciences', '1', '2034', '1', 'Female', '60', '2', '4', 'Manufacturing Director', '2', 'Married', '13570', '5640', '0', 'Y', 'No', '23', '4', '3', '80', '1', '21', '3', '3', '20', '7', '0', '10']\n",
      "['', '26', '56', 'No', 'Travel_Rarely', '1255', 'Research & Development', '1', 'Associates Degree', 'Life Sciences', '1', '1441', '1', 'Female', '90', '3', '1', 'Research Scientist', '1', 'Married', '2066', '10494', '2', 'Y', 'No', '22', '4', '4', '80', '1', '5', '3', '4', '3', '2', '1', '0']\n",
      "['', '167', '54', 'No', 'Travel_Rarely', '584', 'Research & Development', '22', 'Doctoral Degree', 'Medical', '1', '1665', '2', 'Female', '91', '3', '4', 'Manager', '3', 'Married', '17426', '18685', '3', 'Y', 'No', '25', '4', '3', '80', '1', '36', '6', '3', '10', '8', '4', '7']\n",
      "['', '34', '49', 'No', 'Travel_Rarely', '271', 'Research & Development', '3', 'Associates Degree', 'Medical', '1', '1509', '3', 'Female', '43', '2', '2', 'Laboratory Technician', '1', 'Married', '4789', '23070', '4', 'Y', 'No', '25', '4', '1', '80', '1', '10', '3', '3', '3', '2', '1', '2']\n",
      "['', '20', '28', 'No', 'Travel_Rarely', '1217', 'Research & Development', '1', \"Bachelor's Degree\", 'Medical', '1', '1834', '3', 'Female', '67', '3', '1', 'Research Scientist', '1', 'Married', '3591', '12719', '1', 'Y', 'No', '25', '4', '3', '80', '1', '3', '3', '3', '3', '2', '1', '2']\n",
      "['', '174', '27', 'No', 'Travel_Rarely', '728', 'Sales', '23', 'High School', 'Medical', '1', '1864', '2', 'Female', '36', '2', '2', 'Sales Representative', '3', 'Married', '3540', '7018', '1', 'Y', 'No', '21', '4', '4', '80', '1', '9', '5', '3', '9', '8', '5', '8']\n",
      "['', '188.5', '35', 'No', 'Travel_Rarely', '1402', 'Sales', '28', \"Master's Degree\", 'Life Sciences', '1', '1554', '2', 'Female', '98', '2', '1', 'Sales Representative', '3', 'Married', '2430', '26204', '0', 'Y', 'No', '23', '4', '1', '80', '2', '6', '5', '3', '5', '3', '4', '2']\n",
      "['', '85', '41', 'No', 'Travel_Rarely', '337', 'Sales', '8', \"Bachelor's Degree\", 'Marketing', '1', '1909', '3', 'Female', '54', '3', '2', 'Sales Executive', '2', 'Married', '4393', '26841', '5', 'Y', 'No', '21', '4', '3', '80', '1', '14', '3', '3', '5', '4', '1', '4']\n",
      "['', '265', '34', 'No', 'Travel_Rarely', '704', 'Sales', '28', \"Bachelor's Degree\", 'Marketing', '1', '2035', '4', 'Female', '95', '2', '2', 'Sales Executive', '3', 'Married', '6712', '8978', '1', 'Y', 'No', '21', '4', '4', '80', '2', '8', '2', '3', '8', '7', '1', '7']\n",
      "['', '40', '38', 'No', 'Non-Travel', '1336', 'Human Resources', '2', \"Bachelor's Degree\", 'Human Resources', '1', '1805', '1', 'Male', '100', '3', '1', 'Human Resources', '2', 'Divorced', '2592', '7129', '5', 'Y', 'No', '13', '3', '4', '80', '3', '13', '3', '3', '11', '10', '3', '8']\n",
      "['', '23', '28', 'No', 'Non-Travel', '280', 'Human Resources', '1', 'Associates Degree', 'Life Sciences', '1', '1858', '3', 'Male', '43', '3', '1', 'Human Resources', '4', 'Divorced', '2706', '10494', '1', 'Y', 'No', '15', '3', '2', '80', '1', '3', '2', '3', '3', '2', '2', '2']\n",
      "['', '24', '35', 'No', 'Non-Travel', '1180', 'Research & Development', '2', 'Associates Degree', 'Medical', '1', '1804', '2', 'Male', '90', '3', '2', 'Manufacturing Director', '4', 'Divorced', '5762', '24442', '2', 'Y', 'No', '14', '3', '3', '80', '1', '15', '6', '3', '7', '7', '1', '7']\n",
      "['', '17', '33', 'No', 'Non-Travel', '1313', 'Research & Development', '1', 'Associates Degree', 'Medical', '1', '1994', '2', 'Male', '59', '2', '1', 'Laboratory Technician', '3', 'Divorced', '2008', '20439', '1', 'Y', 'No', '12', '3', '3', '80', '3', '1', '2', '2', '1', '1', '0', '0']\n",
      "['', '122', '30', 'No', 'Non-Travel', '990', 'Research & Development', '7', \"Bachelor's Degree\", 'Technical Degree', '1', '1482', '3', 'Male', '64', '3', '1', 'Research Scientist', '3', 'Divorced', '1274', '7152', '1', 'Y', 'No', '13', '3', '2', '80', '2', '1', '2', '2', '1', '0', '0', '0']\n",
      "['', '55', '40', 'No', 'Non-Travel', '663', 'Research & Development', '9', \"Master's Degree\", 'Other', '1', '1449', '3', 'Male', '81', '3', '2', 'Laboratory Technician', '3', 'Divorced', '3975', '23099', '3', 'Y', 'No', '11', '3', '3', '80', '2', '11', '2', '4', '8', '7', '0', '7']\n",
      "['', '66', '40', 'No', 'Non-Travel', '218', 'Research & Development', '8', 'High School', 'Medical', '1', '1468', '4', 'Male', '55', '2', '3', 'Research Director', '2', 'Divorced', '13757', '25178', '2', 'Y', 'No', '11', '3', '3', '80', '1', '16', '5', '3', '9', '8', '4', '8']\n",
      "['', '74', '33', 'No', 'Non-Travel', '775', 'Research & Development', '4', \"Bachelor's Degree\", 'Technical Degree', '1', '1771', '4', 'Male', '90', '3', '2', 'Research Scientist', '2', 'Divorced', '3055', '6194', '5', 'Y', 'No', '15', '3', '4', '80', '2', '11', '2', '2', '9', '8', '1', '7']\n",
      "['', '193.5', '52', 'No', 'Non-Travel', '585', 'Sales', '29', \"Master's Degree\", 'Life Sciences', '1', '2019', '1', 'Male', '40', '3', '1', 'Sales Representative', '4', 'Divorced', '3482', '19788', '2', 'Y', 'No', '15', '3', '2', '80', '2', '16', '3', '2', '9', '8', '0', '0']\n",
      "['', '70', '41', 'No', 'Non-Travel', '552', 'Human Resources', '4', \"Bachelor's Degree\", 'Human Resources', '1', '1722', '3', 'Male', '60', '1', '2', 'Human Resources', '2', 'Married', '6430', '20794', '6', 'Y', 'No', '19', '3', '2', '80', '1', '10', '4', '3', '3', '2', '1', '2']\n",
      "['', '234', '47', 'No', 'Non-Travel', '1169', 'Research & Development', '14', \"Master's Degree\", 'Technical Degree', '1', '1934', '3', 'Male', '64', '3', '2', 'Research Scientist', '2', 'Married', '5467', '2125', '8', 'Y', 'No', '18', '3', '3', '80', '1', '16', '4', '4', '8', '7', '1', '7']\n",
      "['', '26', '32', 'No', 'Non-Travel', '1200', 'Research & Development', '1', \"Master's Degree\", 'Technical Degree', '1', '1574', '4', 'Male', '62', '3', '2', 'Research Scientist', '1', 'Married', '4087', '25174', '4', 'Y', 'No', '14', '3', '2', '80', '1', '9', '3', '2', '6', '5', '1', '2']\n",
      "['', '244', '45', 'No', 'Non-Travel', '336', 'Sales', '26', \"Bachelor's Degree\", 'Marketing', '1', '1612', '1', 'Male', '52', '2', '2', 'Sales Executive', '1', 'Married', '4385', '24162', '1', 'Y', 'No', '15', '3', '1', '80', '1', '10', '2', '3', '10', '7', '4', '5']\n",
      "['', '28', '47', 'No', 'Non-Travel', '543', 'Sales', '2', \"Master's Degree\", 'Marketing', '1', '1731', '3', 'Male', '87', '3', '2', 'Sales Executive', '2', 'Married', '4978', '3536', '7', 'Y', 'No', '11', '3', '4', '80', '1', '4', '3', '1', '1', '0', '0', '0']\n",
      "['', '127', '43', 'No', 'Non-Travel', '343', 'Research & Development', '9', \"Bachelor's Degree\", 'Life Sciences', '1', '1813', '1', 'Male', '52', '3', '1', 'Research Scientist', '3', 'Single', '2438', '24978', '4', 'Y', 'No', '13', '3', '3', '80', '0', '7', '2', '2', '3', '2', '1', '2']\n",
      "['', '45', '31', 'No', 'Non-Travel', '325', 'Research & Development', '5', \"Bachelor's Degree\", 'Medical', '1', '2057', '2', 'Male', '74', '3', '2', 'Manufacturing Director', '1', 'Single', '9936', '3787', '0', 'Y', 'No', '19', '3', '2', '80', '0', '10', '2', '3', '9', '4', '1', '7']\n",
      "['', '90', '32', 'No', 'Non-Travel', '953', 'Research & Development', '5', \"Master's Degree\", 'Technical Degree', '1', '1764', '2', 'Male', '65', '3', '1', 'Research Scientist', '2', 'Single', '2718', '17674', '2', 'Y', 'No', '14', '3', '2', '80', '0', '12', '3', '3', '7', '7', '0', '7']\n",
      "['', '90', '37', 'No', 'Non-Travel', '1413', 'Research & Development', '5', 'Associates Degree', 'Technical Degree', '1', '1440', '3', 'Male', '84', '4', '1', 'Laboratory Technician', '3', 'Single', '3500', '25470', '0', 'Y', 'No', '14', '3', '1', '80', '0', '7', '2', '1', '6', '5', '1', '3']\n",
      "['', '122', '28', 'No', 'Non-Travel', '1103', 'Research & Development', '16', \"Bachelor's Degree\", 'Medical', '1', '1947', '3', 'Male', '49', '3', '1', 'Research Scientist', '3', 'Single', '2144', '2122', '1', 'Y', 'No', '14', '3', '3', '80', '0', '5', '3', '2', '5', '3', '1', '4']\n",
      "['', '75', '44', 'No', 'Non-Travel', '981', 'Research & Development', '5', \"Bachelor's Degree\", 'Life Sciences', '1', '1471', '3', 'Male', '90', '2', '1', 'Laboratory Technician', '3', 'Single', '3162', '7973', '3', 'Y', 'No', '14', '3', '4', '80', '0', '7', '5', '3', '5', '2', '0', '3']\n",
      "['', '127', '39', 'No', 'Non-Travel', '105', 'Research & Development', '9', \"Bachelor's Degree\", 'Life Sciences', '1', '2022', '4', 'Male', '87', '3', '5', 'Manager', '4', 'Single', '19431', '15302', '2', 'Y', 'No', '13', '3', '3', '80', '0', '21', '3', '2', '6', '0', '1', '3']\n",
      "['', '309', '42', 'No', 'Non-Travel', '335', 'Research & Development', '23', 'Associates Degree', 'Life Sciences', '1', '1976', '4', 'Male', '37', '2', '2', 'Research Scientist', '3', 'Single', '4332', '14811', '1', 'Y', 'No', '12', '3', '4', '80', '0', '20', '2', '3', '20', '9', '3', '7']\n",
      "['', '348', '46', 'No', 'Non-Travel', '849', 'Sales', '26', 'Associates Degree', 'Life Sciences', '1', '1801', '2', 'Male', '98', '2', '2', 'Sales Executive', '2', 'Single', '7991', '25166', '8', 'Y', 'No', '15', '3', '3', '80', '0', '6', '3', '3', '2', '2', '2', '2']\n",
      "['', '43', '29', 'No', 'Travel_Frequently', '995', 'Research & Development', '2', 'High School', 'Life Sciences', '1', '1590', '1', 'Male', '87', '3', '2', 'Healthcare Representative', '4', 'Divorced', '8853', '24483', '1', 'Y', 'No', '19', '3', '4', '80', '1', '6', '0', '4', '6', '4', '1', '3']\n",
      "['', '122', '34', 'No', 'Travel_Frequently', '829', 'Research & Development', '15', \"Bachelor's Degree\", 'Medical', '1', '1485', '2', 'Male', '71', '3', '4', 'Research Director', '1', 'Divorced', '17007', '11929', '7', 'Y', 'No', '14', '3', '4', '80', '2', '16', '3', '2', '14', '8', '6', '9']\n",
      "['', '147', '34', 'No', 'Travel_Frequently', '426', 'Research & Development', '10', \"Master's Degree\", 'Life Sciences', '1', '1615', '3', 'Male', '42', '4', '2', 'Manufacturing Director', '4', 'Divorced', '4724', '17000', '1', 'Y', 'No', '13', '3', '1', '80', '1', '9', '3', '3', '9', '7', '7', '2']\n",
      "['', '22', '34', 'No', 'Travel_Frequently', '560', 'Research & Development', '1', \"Master's Degree\", 'Other', '1', '1431', '4', 'Male', '91', '3', '1', 'Research Scientist', '1', 'Divorced', '2996', '20284', '5', 'Y', 'No', '14', '3', '3', '80', '2', '10', '2', '3', '4', '3', '1', '3']\n",
      "['', '43', '25', 'No', 'Travel_Frequently', '772', 'Research & Development', '2', 'High School', 'Life Sciences', '1', '1653', '4', 'Male', '77', '4', '2', 'Manufacturing Director', '3', 'Divorced', '5206', '4973', '1', 'Y', 'No', '17', '3', '3', '80', '2', '7', '6', '3', '7', '7', '0', '7']\n",
      "['', '277', '39', 'No', 'Travel_Frequently', '766', 'Sales', '20', \"Bachelor's Degree\", 'Life Sciences', '1', '1812', '3', 'Male', '83', '3', '2', 'Sales Executive', '4', 'Divorced', '4127', '19188', '2', 'Y', 'No', '18', '3', '4', '80', '1', '7', '6', '3', '2', '1', '2', '2']\n",
      "['', '24', '37', 'No', 'Travel_Frequently', '1278', 'Sales', '1', \"Master's Degree\", 'Medical', '1', '1700', '3', 'Male', '31', '1', '2', 'Sales Executive', '4', 'Divorced', '9525', '7677', '1', 'Y', 'No', '14', '3', '3', '80', '2', '6', '2', '2', '6', '3', '1', '3']\n",
      "['', '87', '24', 'No', 'Travel_Frequently', '897', 'Human Resources', '10', \"Bachelor's Degree\", 'Medical', '1', '1746', '1', 'Male', '59', '3', '1', 'Human Resources', '4', 'Married', '2145', '2097', '0', 'Y', 'No', '14', '3', '4', '80', '1', '3', '2', '3', '2', '2', '2', '1']\n",
      "['', '167', '38', 'No', 'Travel_Frequently', '888', 'Human Resources', '10', \"Master's Degree\", 'Human Resources', '1', '1563', '3', 'Male', '71', '3', '2', 'Human Resources', '3', 'Married', '6077', '14814', '3', 'Y', 'No', '11', '3', '3', '80', '0', '10', '2', '3', '6', '3', '1', '2']\n",
      "['', '147', '32', 'No', 'Travel_Frequently', '585', 'Research & Development', '10', \"Bachelor's Degree\", 'Life Sciences', '1', '1720', '1', 'Male', '56', '3', '1', 'Research Scientist', '3', 'Married', '3433', '17360', '6', 'Y', 'No', '13', '3', '1', '80', '1', '10', '3', '2', '5', '2', '1', '3']\n",
      "['', '95', '38', 'No', 'Travel_Frequently', '508', 'Research & Development', '6', \"Master's Degree\", 'Life Sciences', '1', '1997', '1', 'Male', '72', '2', '2', 'Manufacturing Director', '3', 'Married', '5321', '14284', '2', 'Y', 'No', '11', '3', '4', '80', '1', '10', '1', '3', '8', '3', '7', '7']\n",
      "['', '43', '49', 'No', 'Travel_Frequently', '1064', 'Research & Development', '2', 'High School', 'Life Sciences', '1', '1941', '2', 'Male', '42', '3', '5', 'Research Director', '4', 'Married', '19161', '13738', '3', 'Y', 'No', '15', '3', '4', '80', '0', '28', '3', '3', '5', '4', '4', '3']\n",
      "['', '47', '26', 'No', 'Travel_Frequently', '1096', 'Research & Development', '6', \"Bachelor's Degree\", 'Other', '1', '1918', '3', 'Male', '61', '4', '1', 'Laboratory Technician', '4', 'Married', '2544', '7102', '0', 'Y', 'No', '18', '3', '1', '80', '1', '8', '3', '3', '7', '7', '7', '7']\n",
      "['', '178', '36', 'No', 'Travel_Frequently', '884', 'Research & Development', '23', 'Associates Degree', 'Medical', '1', '2061', '3', 'Male', '41', '4', '2', 'Laboratory Technician', '4', 'Married', '2571', '12290', '4', 'Y', 'No', '17', '3', '3', '80', '1', '17', '3', '3', '5', '2', '0', '3']\n",
      "['', '157', '29', 'No', 'Travel_Frequently', '574', 'Research & Development', '20', 'High School', 'Medical', '1', '1852', '4', 'Male', '40', '3', '1', 'Laboratory Technician', '4', 'Married', '3812', '7003', '1', 'Y', 'No', '13', '3', '2', '80', '0', '11', '3', '4', '11', '8', '3', '10']\n",
      "['', '177', '34', 'No', 'Travel_Frequently', '653', 'Research & Development', '10', \"Master's Degree\", 'Technical Degree', '1', '1597', '4', 'Male', '92', '2', '2', 'Healthcare Representative', '3', 'Married', '5063', '15332', '1', 'Y', 'No', '14', '3', '2', '80', '1', '8', '3', '2', '8', '2', '7', '7']\n",
      "['', '30', '38', 'No', 'Travel_Frequently', '1189', 'Research & Development', '1', \"Bachelor's Degree\", 'Life Sciences', '1', '1668', '4', 'Male', '90', '3', '2', 'Research Scientist', '4', 'Married', '4735', '9867', '7', 'Y', 'No', '15', '3', '4', '80', '2', '19', '4', '4', '13', '11', '2', '9']\n",
      "['', '31', '49', 'No', 'Travel_Frequently', '1023', 'Sales', '2', \"Bachelor's Degree\", 'Medical', '1', '2065', '4', 'Male', '63', '2', '2', 'Sales Executive', '2', 'Married', '5390', '13243', '2', 'Y', 'No', '14', '3', '4', '80', '0', '17', '3', '2', '9', '6', '0', '8']\n",
      "['', '66', '33', 'No', 'Travel_Frequently', '430', 'Sales', '7', \"Bachelor's Degree\", 'Medical', '1', '1477', '4', 'Male', '54', '3', '2', 'Sales Executive', '1', 'Married', '4373', '17456', '0', 'Y', 'No', '14', '3', '1', '80', '2', '5', '2', '3', '4', '3', '0', '3']\n",
      "['', '24', '45', 'No', 'Travel_Frequently', '1297', 'Research & Development', '1', \"Master's Degree\", 'Medical', '1', '1922', '2', 'Male', '44', '3', '2', 'Healthcare Representative', '3', 'Single', '5399', '14511', '4', 'Y', 'No', '12', '3', '3', '80', '0', '12', '3', '3', '4', '2', '0', '3']\n",
      "['', '251', '35', 'No', 'Travel_Frequently', '200', 'Research & Development', '18', 'Associates Degree', 'Life Sciences', '1', '1412', '3', 'Male', '60', '3', '3', 'Manufacturing Director', '4', 'Single', '9362', '19944', '2', 'Y', 'No', '11', '3', '3', '80', '0', '10', '2', '3', '2', '2', '2', '2']\n",
      "['', '31', '27', 'No', 'Travel_Frequently', '591', 'Research & Development', '2', \"Bachelor's Degree\", 'Medical', '1', '1648', '4', 'Male', '87', '3', '1', 'Research Scientist', '4', 'Single', '2580', '6297', '2', 'Y', 'No', '13', '3', '3', '80', '0', '6', '0', '2', '4', '2', '1', '2']\n",
      "['', '108', '28', 'No', 'Travel_Frequently', '467', 'Sales', '7', \"Bachelor's Degree\", 'Life Sciences', '1', '1507', '3', 'Male', '55', '3', '2', 'Sales Executive', '1', 'Single', '4898', '11827', '0', 'Y', 'No', '14', '3', '4', '80', '0', '5', '5', '3', '4', '2', '1', '3']\n",
      "['', '107', '32', 'No', 'Travel_Frequently', '1318', 'Sales', '10', \"Master's Degree\", 'Marketing', '1', '1853', '4', 'Male', '79', '3', '2', 'Sales Executive', '4', 'Single', '4648', '26075', '8', 'Y', 'No', '13', '3', '3', '80', '0', '4', '2', '4', '0', '0', '0', '0']\n",
      "['', '27', '31', 'No', 'Travel_Frequently', '715', 'Sales', '2', \"Master's Degree\", 'Other', '1', '1613', '4', 'Male', '54', '3', '2', 'Sales Executive', '1', 'Single', '5332', '21602', '7', 'Y', 'No', '13', '3', '4', '80', '0', '10', '3', '3', '5', '2', '0', '3']\n",
      "['', '53', '37', 'No', 'Travel_Rarely', '1239', 'Human Resources', '8', 'Associates Degree', 'Other', '1', '1794', '3', 'Male', '89', '3', '2', 'Human Resources', '2', 'Divorced', '4071', '12832', '2', 'Y', 'No', '13', '3', '3', '80', '0', '19', '4', '2', '10', '0', '4', '7']\n",
      "['', '26', '40', 'No', 'Travel_Rarely', '1137', 'Research & Development', '1', \"Master's Degree\", 'Life Sciences', '1', '1892', '1', 'Male', '98', '3', '4', 'Manager', '1', 'Divorced', '16823', '18991', '2', 'Y', 'No', '11', '3', '1', '80', '1', '22', '3', '3', '19', '7', '11', '16']\n",
      "['', '365', '55', 'No', 'Travel_Rarely', '1441', 'Research & Development', '22', \"Bachelor's Degree\", 'Technical Degree', '1', '1694', '1', 'Male', '94', '2', '1', 'Research Scientist', '2', 'Divorced', '3537', '23737', '5', 'Y', 'No', '12', '3', '4', '80', '1', '8', '1', '3', '4', '2', '1', '2']\n",
      "['', '26', '28', 'No', 'Travel_Rarely', '1423', 'Research & Development', '1', \"Bachelor's Degree\", 'Life Sciences', '1', '1506', '1', 'Male', '72', '2', '1', 'Research Scientist', '3', 'Divorced', '1563', '12530', '1', 'Y', 'No', '14', '3', '4', '80', '1', '1', '2', '1', '1', '0', '0', '0']\n",
      "['', '29', '45', 'No', 'Travel_Rarely', '538', 'Research & Development', '1', \"Master's Degree\", 'Technical Degree', '1', '1553', '1', 'Male', '66', '3', '3', 'Healthcare Representative', '2', 'Divorced', '7441', '20933', '1', 'Y', 'No', '12', '3', '1', '80', '3', '10', '4', '3', '10', '8', '7', '7']\n",
      "['', '273', '31', 'No', 'Travel_Rarely', '311', 'Research & Development', '20', \"Bachelor's Degree\", 'Life Sciences', '1', '1881', '2', 'Male', '89', '3', '2', 'Laboratory Technician', '3', 'Divorced', '4197', '18624', '1', 'Y', 'No', '11', '3', '1', '80', '1', '10', '2', '3', '10', '8', '0', '2']\n",
      "['', '130', '38', 'No', 'Travel_Rarely', '1206', 'Research & Development', '9', 'Associates Degree', 'Life Sciences', '1', '1940', '2', 'Male', '71', '3', '1', 'Research Scientist', '4', 'Divorced', '4771', '14293', '2', 'Y', 'No', '19', '3', '4', '80', '2', '10', '0', '4', '5', '2', '0', '3']\n",
      "['', '20', '55', 'No', 'Travel_Rarely', '1136', 'Research & Development', '1', \"Master's Degree\", 'Medical', '1', '1424', '2', 'Male', '81', '4', '4', 'Research Director', '4', 'Divorced', '14732', '12414', '2', 'Y', 'No', '13', '3', '4', '80', '2', '31', '4', '4', '7', '7', '0', '0']\n",
      "['', '216', '24', 'No', 'Travel_Rarely', '506', 'Research & Development', '29', 'High School', 'Medical', '1', '1725', '2', 'Male', '91', '3', '1', 'Laboratory Technician', '1', 'Divorced', '3907', '3622', '1', 'Y', 'No', '13', '3', '2', '80', '3', '6', '2', '4', '6', '2', '1', '2']\n",
      "['', '27', '40', 'No', 'Travel_Rarely', '896', 'Research & Development', '2', \"Bachelor's Degree\", 'Medical', '1', '1474', '3', 'Male', '68', '3', '1', 'Research Scientist', '3', 'Divorced', '2345', '8045', '2', 'Y', 'No', '14', '3', '3', '80', '1', '8', '3', '4', '3', '1', '1', '2']\n",
      "['', '34', '39', 'No', 'Travel_Rarely', '170', 'Research & Development', '3', 'Associates Degree', 'Medical', '1', '1627', '3', 'Male', '76', '2', '2', 'Laboratory Technician', '3', 'Divorced', '3069', '10302', '0', 'Y', 'No', '15', '3', '4', '80', '1', '11', '3', '3', '10', '8', '0', '7']\n",
      "['', '104', '49', 'No', 'Travel_Rarely', '1490', 'Research & Development', '7', \"Master's Degree\", 'Life Sciences', '1', '1484', '3', 'Male', '35', '3', '3', 'Healthcare Representative', '2', 'Divorced', '10466', '20948', '3', 'Y', 'No', '14', '3', '2', '80', '2', '29', '3', '3', '8', '7', '0', '7']\n",
      "['', '349', '24', 'No', 'Travel_Rarely', '350', 'Research & Development', '21', 'Associates Degree', 'Technical Degree', '1', '1551', '3', 'Male', '57', '2', '1', 'Laboratory Technician', '1', 'Divorced', '2296', '10036', '0', 'Y', 'No', '14', '3', '2', '80', '3', '2', '3', '3', '1', '1', '0', '0']\n",
      "['', '39', '46', 'No', 'Travel_Rarely', '706', 'Research & Development', '2', 'Associates Degree', 'Life Sciences', '1', '1857', '4', 'Male', '82', '3', '3', 'Manufacturing Director', '4', 'Divorced', '8578', '19989', '3', 'Y', 'No', '14', '3', '3', '80', '1', '12', '4', '2', '9', '8', '4', '7']\n",
      "['', '222.5', '43', 'No', 'Travel_Rarely', '990', 'Research & Development', '27', \"Bachelor's Degree\", 'Technical Degree', '1', '1599', '4', 'Male', '87', '4', '1', 'Laboratory Technician', '2', 'Divorced', '4876', '5855', '5', 'Y', 'No', '12', '3', '3', '80', '1', '8', '0', '3', '6', '4', '0', '2']\n",
      "['', '108', '27', 'No', 'Travel_Rarely', '1302', 'Research & Development', '19', \"Bachelor's Degree\", 'Other', '1', '1619', '4', 'Male', '67', '2', '1', 'Laboratory Technician', '1', 'Divorced', '4066', '16290', '1', 'Y', 'No', '11', '3', '1', '80', '2', '7', '3', '3', '7', '7', '0', '7']\n",
      "['', '27', '32', 'No', 'Travel_Rarely', '977', 'Research & Development', '2', \"Bachelor's Degree\", 'Medical', '1', '1671', '4', 'Male', '45', '3', '2', 'Research Scientist', '2', 'Divorced', '5470', '25518', '0', 'Y', 'No', '13', '3', '3', '80', '2', '10', '4', '2', '9', '5', '1', '6']\n",
      "['', '195', '29', 'No', 'Travel_Rarely', '726', 'Research & Development', '29', 'High School', 'Life Sciences', '1', '1859', '4', 'Male', '93', '1', '2', 'Healthcare Representative', '3', 'Divorced', '6384', '21143', '8', 'Y', 'No', '17', '3', '4', '80', '2', '11', '3', '3', '7', '0', '1', '6']\n",
      "['', '108', '39', 'No', 'Travel_Rarely', '835', 'Research & Development', '19', \"Master's Degree\", 'Other', '1', '1871', '4', 'Male', '41', '3', '2', 'Research Scientist', '4', 'Divorced', '3902', '5141', '8', 'Y', 'No', '14', '3', '2', '80', '3', '7', '2', '3', '2', '2', '2', '2']\n",
      "['', '117', '31', 'No', 'Travel_Rarely', '326', 'Sales', '8', 'Associates Degree', 'Life Sciences', '1', '1453', '1', 'Male', '31', '3', '3', 'Sales Executive', '4', 'Divorced', '10793', '8386', '1', 'Y', 'No', '18', '3', '1', '80', '1', '13', '5', '3', '13', '7', '9', '9']\n",
      "['', '148', '30', 'No', 'Travel_Rarely', '979', 'Sales', '15', 'Associates Degree', 'Marketing', '1', '1754', '3', 'Male', '94', '2', '3', 'Sales Executive', '1', 'Divorced', '7140', '3088', '2', 'Y', 'No', '11', '3', '1', '80', '1', '12', '2', '3', '7', '7', '1', '7']\n",
      "['', '52', '41', 'No', 'Travel_Rarely', '930', 'Sales', '3', \"Bachelor's Degree\", 'Life Sciences', '1', '2037', '3', 'Male', '57', '2', '2', 'Sales Executive', '2', 'Divorced', '8938', '12227', '2', 'Y', 'No', '11', '3', '3', '80', '1', '14', '5', '3', '5', '4', '0', '4']\n",
      "['', '260', '29', 'No', 'Travel_Rarely', '1246', 'Sales', '19', \"Bachelor's Degree\", 'Life Sciences', '1', '1497', '3', 'Male', '77', '2', '2', 'Sales Executive', '3', 'Divorced', '8620', '23757', '1', 'Y', 'No', '14', '3', '3', '80', '2', '10', '3', '3', '10', '7', '0', '4']\n",
      "['', '76', '48', 'No', 'Travel_Rarely', '1221', 'Sales', '7', \"Bachelor's Degree\", 'Marketing', '1', '1466', '3', 'Male', '96', '3', '2', 'Sales Executive', '1', 'Divorced', '5486', '24795', '4', 'Y', 'No', '11', '3', '1', '80', '3', '15', '3', '3', '2', '2', '2', '2']\n",
      "['', '104', '34', 'No', 'Travel_Rarely', '1239', 'Sales', '13', \"Master's Degree\", 'Medical', '1', '1951', '4', 'Male', '39', '3', '3', 'Sales Executive', '3', 'Divorced', '8628', '22914', '1', 'Y', 'No', '18', '3', '3', '80', '1', '9', '2', '2', '8', '7', '1', '1']\n",
      "['', '27', '33', 'No', 'Travel_Rarely', '392', 'Sales', '2', \"Master's Degree\", 'Medical', '1', '1670', '4', 'Male', '93', '3', '2', 'Sales Executive', '4', 'Divorced', '5505', '3921', '1', 'Y', 'No', '14', '3', '3', '80', '2', '6', '5', '3', '6', '2', '0', '4']\n",
      "['', '55', '29', 'No', 'Travel_Rarely', '352', 'Human Resources', '6', 'High School', 'Medical', '1', '1865', '4', 'Male', '87', '2', '1', 'Human Resources', '2', 'Married', '2804', '15434', '1', 'Y', 'No', '11', '3', '4', '80', '0', '1', '3', '3', '1', '0', '0', '0']\n",
      "['', '39', '42', 'No', 'Travel_Rarely', '300', 'Research & Development', '2', \"Bachelor's Degree\", 'Life Sciences', '1', '2031', '1', 'Male', '56', '3', '5', 'Manager', '3', 'Married', '18880', '17312', '5', 'Y', 'No', '11', '3', '1', '80', '0', '24', '2', '2', '22', '6', '4', '14']\n",
      "['', '104', '37', 'No', 'Travel_Rarely', '674', 'Research & Development', '13', \"Bachelor's Degree\", 'Medical', '1', '1543', '1', 'Male', '47', '3', '2', 'Research Scientist', '4', 'Married', '4285', '3031', '1', 'Y', 'No', '17', '3', '1', '80', '0', '10', '2', '3', '10', '8', '3', '7']\n",
      "['', '26', '29', 'No', 'Travel_Rarely', '136', 'Research & Development', '1', \"Bachelor's Degree\", 'Life Sciences', '1', '1954', '1', 'Male', '89', '3', '2', 'Healthcare Representative', '1', 'Married', '5373', '6225', '0', 'Y', 'No', '12', '3', '1', '80', '1', '6', '5', '2', '5', '3', '0', '2']\n",
      "['', '93', '49', 'No', 'Travel_Rarely', '1495', 'Research & Development', '5', \"Master's Degree\", 'Technical Degree', '1', '1473', '1', 'Male', '96', '3', '2', 'Healthcare Representative', '3', 'Married', '6651', '21534', '2', 'Y', 'No', '14', '3', '2', '80', '1', '20', '0', '2', '3', '2', '1', '2']\n",
      "['', '156', '43', 'No', 'Travel_Rarely', '574', 'Research & Development', '11', \"Bachelor's Degree\", 'Life Sciences', '1', '1971', '1', 'Male', '30', '3', '3', 'Healthcare Representative', '3', 'Married', '7510', '16873', '1', 'Y', 'No', '17', '3', '2', '80', '1', '10', '1', '3', '10', '9', '0', '9']\n",
      "['', '29', '25', 'No', 'Travel_Rarely', '949', 'Research & Development', '1', \"Bachelor's Degree\", 'Technical Degree', '1', '1415', '1', 'Male', '81', '3', '1', 'Laboratory Technician', '4', 'Married', '3229', '4910', '4', 'Y', 'No', '11', '3', '2', '80', '1', '7', '2', '2', '3', '2', '0', '2']\n",
      "['', '29', '47', 'No', 'Travel_Rarely', '465', 'Research & Development', '1', \"Bachelor's Degree\", 'Technical Degree', '1', '1438', '1', 'Male', '74', '3', '1', 'Research Scientist', '4', 'Married', '3420', '10205', '7', 'Y', 'No', '12', '3', '3', '80', '1', '17', '2', '2', '6', '5', '1', '2']\n",
      "['', '351', '36', 'No', 'Travel_Rarely', '1351', 'Research & Development', '26', \"Master's Degree\", 'Life Sciences', '1', '1682', '1', 'Male', '80', '3', '2', 'Healthcare Representative', '3', 'Married', '5347', '7419', '6', 'Y', 'No', '14', '3', '2', '80', '2', '10', '2', '2', '3', '2', '0', '2']\n",
      "['', '26', '40', 'No', 'Travel_Rarely', '543', 'Research & Development', '1', \"Master's Degree\", 'Life Sciences', '1', '2012', '1', 'Male', '83', '3', '1', 'Laboratory Technician', '4', 'Married', '2406', '4060', '8', 'Y', 'No', '19', '3', '3', '80', '2', '8', '3', '2', '1', '0', '0', '0']\n",
      "['', '69', '34', 'No', 'Travel_Rarely', '628', 'Research & Development', '8', \"Bachelor's Degree\", 'Medical', '1', '2068', '2', 'Male', '82', '4', '2', 'Laboratory Technician', '3', 'Married', '4404', '10228', '2', 'Y', 'No', '12', '3', '1', '80', '0', '6', '3', '4', '4', '3', '1', '2']\n",
      "['', '156', '27', 'No', 'Travel_Rarely', '1377', 'Research & Development', '11', 'High School', 'Life Sciences', '1', '1434', '2', 'Male', '91', '3', '1', 'Laboratory Technician', '1', 'Married', '2099', '7679', '0', 'Y', 'No', '14', '3', '2', '80', '0', '6', '3', '4', '5', '0', '1', '4']\n",
      "['', '181', '53', 'No', 'Travel_Rarely', '1395', 'Research & Development', '24', \"Master's Degree\", 'Medical', '1', '1689', '2', 'Male', '48', '4', '3', 'Healthcare Representative', '4', 'Married', '7005', '3458', '3', 'Y', 'No', '15', '3', '3', '80', '0', '11', '2', '3', '4', '3', '1', '2']\n",
      "['', '247', '35', 'No', 'Travel_Rarely', '819', 'Research & Development', '18', 'Doctoral Degree', 'Life Sciences', '1', '1621', '2', 'Male', '48', '4', '2', 'Research Scientist', '1', 'Married', '5208', '26312', '1', 'Y', 'No', '11', '3', '4', '80', '0', '16', '2', '3', '16', '15', '1', '10']\n",
      "['', '174', '35', 'No', 'Travel_Rarely', '185', 'Research & Development', '23', \"Master's Degree\", 'Medical', '1', '1826', '2', 'Male', '91', '1', '1', 'Laboratory Technician', '3', 'Married', '2705', '9696', '0', 'Y', 'No', '16', '3', '2', '80', '1', '6', '2', '4', '5', '4', '0', '3']\n",
      "['', '62', '30', 'No', 'Travel_Rarely', '241', 'Research & Development', '7', \"Bachelor's Degree\", 'Medical', '1', '1609', '2', 'Male', '48', '2', '1', 'Research Scientist', '2', 'Married', '2141', '5348', '1', 'Y', 'No', '12', '3', '2', '80', '1', '6', '3', '2', '6', '4', '1', '1']\n",
      "['', '221', '30', 'No', 'Travel_Rarely', '793', 'Research & Development', '16', 'High School', 'Life Sciences', '1', '1729', '2', 'Male', '33', '3', '1', 'Research Scientist', '4', 'Married', '2862', '3811', '1', 'Y', 'No', '12', '3', '2', '80', '1', '10', '2', '2', '10', '0', '0', '8']\n",
      "['', '26', '34', 'No', 'Travel_Rarely', '1351', 'Research & Development', '1', \"Master's Degree\", 'Life Sciences', '1', '1580', '2', 'Male', '45', '3', '2', 'Research Scientist', '4', 'Married', '5484', '13008', '9', 'Y', 'No', '17', '3', '2', '80', '1', '9', '3', '2', '2', '2', '2', '1']\n",
      "['', '48', '34', 'No', 'Travel_Rarely', '1157', 'Research & Development', '5', 'Associates Degree', 'Medical', '1', '1696', '2', 'Male', '57', '2', '2', 'Laboratory Technician', '4', 'Married', '3986', '11912', '1', 'Y', 'No', '14', '3', '3', '80', '1', '15', '3', '4', '15', '10', '4', '13']\n",
      "['', '45', '27', 'No', 'Travel_Rarely', '1354', 'Research & Development', '2', \"Master's Degree\", 'Technical Degree', '1', '1931', '2', 'Male', '41', '3', '1', 'Research Scientist', '2', 'Married', '2226', '6073', '1', 'Y', 'No', '11', '3', '3', '80', '1', '6', '3', '2', '5', '3', '1', '2']\n",
      "['', '39', '31', 'No', 'Travel_Rarely', '741', 'Research & Development', '2', \"Master's Degree\", 'Life Sciences', '1', '1721', '2', 'Male', '69', '3', '1', 'Laboratory Technician', '3', 'Married', '3477', '18103', '1', 'Y', 'No', '14', '3', '4', '80', '1', '6', '2', '4', '5', '2', '0', '3']\n",
      "['', '26', '44', 'No', 'Travel_Rarely', '170', 'Research & Development', '1', \"Master's Degree\", 'Life Sciences', '1', '1903', '2', 'Male', '78', '4', '2', 'Healthcare Representative', '1', 'Married', '5033', '9364', '2', 'Y', 'No', '15', '3', '4', '80', '1', '10', '5', '3', '2', '0', '2', '2']\n",
      "['', '104', '42', 'No', 'Travel_Rarely', '1128', 'Research & Development', '13', \"Bachelor's Degree\", 'Medical', '1', '1803', '2', 'Male', '95', '4', '2', 'Healthcare Representative', '1', 'Married', '5538', '5696', '5', 'Y', 'No', '18', '3', '3', '80', '2', '10', '2', '2', '0', '0', '0', '0']\n",
      "['', '188.5', '35', 'No', 'Travel_Rarely', '750', 'Research & Development', '28', \"Bachelor's Degree\", 'Life Sciences', '1', '1596', '2', 'Male', '46', '4', '2', 'Laboratory Technician', '3', 'Married', '3407', '25348', '1', 'Y', 'No', '17', '3', '4', '80', '2', '10', '3', '2', '10', '9', '6', '8']\n",
      "['', '83', '39', 'No', 'Travel_Rarely', '1387', 'Research & Development', '10', 'Doctoral Degree', 'Medical', '1', '1618', '2', 'Male', '76', '3', '2', 'Manufacturing Director', '1', 'Married', '5377', '3835', '2', 'Y', 'No', '13', '3', '4', '80', '3', '10', '3', '3', '7', '7', '7', '7']\n",
      "['', '160', '33', 'No', 'Travel_Rarely', '267', 'Research & Development', '21', \"Bachelor's Degree\", 'Medical', '1', '1698', '2', 'Male', '79', '4', '1', 'Laboratory Technician', '2', 'Married', '2028', '13637', '1', 'Y', 'No', '18', '3', '4', '80', '3', '14', '6', '3', '14', '11', '2', '13']\n",
      "['', '27', '42', 'No', 'Travel_Rarely', '1210', 'Research & Development', '2', \"Bachelor's Degree\", 'Medical', '1', '1542', '3', 'Male', '68', '2', '1', 'Laboratory Technician', '2', 'Married', '4841', '24052', '4', 'Y', 'No', '14', '3', '2', '80', '1', '4', '3', '3', '1', '0', '0', '0']\n",
      "['', '55', '42', 'No', 'Travel_Rarely', '1396', 'Research & Development', '6', \"Bachelor's Degree\", 'Medical', '1', '1911', '3', 'Male', '83', '3', '3', 'Research Director', '1', 'Married', '13348', '14842', '9', 'Y', 'No', '13', '3', '2', '80', '1', '18', '3', '4', '13', '7', '5', '7']\n",
      "['', '26', '28', 'No', 'Travel_Rarely', '1181', 'Research & Development', '1', \"Bachelor's Degree\", 'Life Sciences', '1', '1799', '3', 'Male', '82', '3', '1', 'Research Scientist', '4', 'Married', '2044', '5531', '1', 'Y', 'No', '11', '3', '3', '80', '1', '5', '6', '4', '5', '3', '0', '3']\n",
      "['', '221', '30', 'No', 'Travel_Rarely', '305', 'Research & Development', '16', \"Bachelor's Degree\", 'Life Sciences', '1', '1763', '3', 'Male', '58', '4', '2', 'Healthcare Representative', '3', 'Married', '5294', '9128', '3', 'Y', 'No', '16', '3', '3', '80', '1', '10', '3', '3', '7', '0', '1', '7']\n",
      "['', '104', '35', 'No', 'Travel_Rarely', '1349', 'Research & Development', '7', 'Associates Degree', 'Life Sciences', '1', '1601', '3', 'Male', '63', '2', '1', 'Laboratory Technician', '4', 'Married', '2690', '7713', '1', 'Y', 'No', '18', '3', '4', '80', '1', '1', '5', '2', '1', '0', '0', '1']\n",
      "['', '76', '24', 'No', 'Travel_Rarely', '581', 'Research & Development', '9', \"Bachelor's Degree\", 'Medical', '1', '1707', '3', 'Male', '62', '4', '1', 'Research Scientist', '3', 'Married', '4401', '17616', '1', 'Y', 'No', '16', '3', '4', '80', '1', '5', '1', '3', '5', '3', '0', '4']\n",
      "['', '130', '29', 'No', 'Travel_Rarely', '598', 'Research & Development', '9', \"Bachelor's Degree\", 'Life Sciences', '1', '1558', '3', 'Male', '91', '4', '1', 'Research Scientist', '3', 'Married', '2451', '22376', '6', 'Y', 'No', '18', '3', '1', '80', '2', '5', '2', '2', '1', '0', '0', '0']\n",
      "['', '195', '28', 'No', 'Travel_Rarely', '1083', 'Research & Development', '29', 'High School', 'Life Sciences', '1', '1514', '3', 'Male', '96', '1', '2', 'Manufacturing Director', '2', 'Married', '6549', '3173', '1', 'Y', 'No', '14', '3', '2', '80', '2', '8', '2', '2', '8', '6', '1', '7']\n",
      "['', '260', '37', 'No', 'Travel_Rarely', '671', 'Research & Development', '19', \"Bachelor's Degree\", 'Life Sciences', '1', '1631', '3', 'Male', '85', '3', '2', 'Manufacturing Director', '3', 'Married', '5768', '26493', '3', 'Y', 'No', '17', '3', '1', '80', '3', '9', '2', '2', '4', '3', '0', '2']\n",
      "['', '27', '55', 'No', 'Travel_Rarely', '478', 'Research & Development', '2', \"Bachelor's Degree\", 'Medical', '1', '1770', '3', 'Male', '60', '2', '5', 'Research Director', '1', 'Married', '19038', '19805', '8', 'Y', 'No', '12', '3', '2', '80', '3', '34', '2', '3', '1', '0', '0', '0']\n",
      "['', '20', '30', 'No', 'Travel_Rarely', '911', 'Research & Development', '1', 'Associates Degree', 'Medical', '1', '1989', '4', 'Male', '76', '3', '1', 'Laboratory Technician', '2', 'Married', '3748', '4077', '1', 'Y', 'No', '13', '3', '3', '80', '0', '12', '6', '2', '12', '8', '1', '7']\n",
      "['', '143', '48', 'No', 'Travel_Rarely', '1224', 'Research & Development', '10', \"Bachelor's Degree\", 'Life Sciences', '1', '1867', '4', 'Male', '91', '2', '5', 'Research Director', '2', 'Married', '19665', '13583', '4', 'Y', 'No', '12', '3', '4', '80', '0', '29', '3', '3', '22', '10', '12', '9']\n",
      "['', '55', '39', 'No', 'Travel_Rarely', '613', 'Research & Development', '6', 'High School', 'Medical', '1', '2062', '4', 'Male', '42', '2', '3', 'Healthcare Representative', '1', 'Married', '9991', '21457', '4', 'Y', 'No', '15', '3', '1', '80', '1', '9', '5', '3', '7', '7', '1', '7']\n",
      "['', '364', '35', 'No', 'Travel_Rarely', '1370', 'Research & Development', '27', \"Master's Degree\", 'Life Sciences', '1', '1728', '4', 'Male', '49', '3', '2', 'Manufacturing Director', '3', 'Married', '6883', '5151', '2', 'Y', 'No', '16', '3', '2', '80', '1', '17', '3', '3', '7', '7', '0', '7']\n",
      "['', '117', '33', 'No', 'Travel_Rarely', '867', 'Research & Development', '8', \"Master's Degree\", 'Life Sciences', '1', '1798', '4', 'Male', '90', '4', '1', 'Research Scientist', '1', 'Married', '3143', '6076', '6', 'Y', 'No', '19', '3', '2', '80', '1', '14', '1', '3', '10', '8', '7', '6']\n",
      "['', '188.5', '44', 'No', 'Travel_Rarely', '136', 'Research & Development', '28', \"Bachelor's Degree\", 'Life Sciences', '1', '1523', '4', 'Male', '32', '3', '4', 'Research Director', '1', 'Married', '16328', '22074', '3', 'Y', 'No', '13', '3', '3', '80', '1', '24', '1', '4', '20', '6', '14', '17']\n",
      "['', '173', '23', 'No', 'Travel_Rarely', '977', 'Research & Development', '10', \"Bachelor's Degree\", 'Technical Degree', '1', '1592', '4', 'Male', '45', '4', '1', 'Research Scientist', '3', 'Married', '2073', '12826', '2', 'Y', 'No', '16', '3', '4', '80', '1', '4', '2', '3', '2', '2', '2', '2']\n",
      "['', '132', '26', 'No', 'Travel_Rarely', '390', 'Research & Development', '17', \"Master's Degree\", 'Medical', '1', '1718', '4', 'Male', '62', '1', '1', 'Laboratory Technician', '3', 'Married', '2305', '6217', '1', 'Y', 'No', '15', '3', '3', '80', '3', '3', '3', '4', '3', '2', '0', '2']\n",
      "['', '76', '40', 'No', 'Travel_Rarely', '1342', 'Sales', '9', 'Associates Degree', 'Medical', '1', '1548', '1', 'Male', '47', '3', '2', 'Sales Executive', '1', 'Married', '5473', '19345', '0', 'Y', 'No', '12', '3', '4', '80', '0', '9', '5', '4', '8', '4', '7', '1']\n",
      "['', '39', '31', 'No', 'Travel_Rarely', '1154', 'Sales', '2', 'Associates Degree', 'Life Sciences', '1', '1996', '1', 'Male', '54', '3', '1', 'Sales Representative', '3', 'Married', '3067', '6393', '0', 'Y', 'No', '19', '3', '3', '80', '1', '3', '1', '3', '2', '2', '1', '2']\n",
      "['', '93', '31', 'No', 'Travel_Rarely', '1003', 'Sales', '5', \"Bachelor's Degree\", 'Technical Degree', '1', '1749', '1', 'Male', '51', '3', '2', 'Sales Executive', '3', 'Married', '8346', '20943', '1', 'Y', 'No', '19', '3', '3', '80', '1', '6', '3', '3', '5', '2', '0', '2']\n",
      "['', '117', '33', 'No', 'Travel_Rarely', '1242', 'Sales', '8', \"Master's Degree\", 'Life Sciences', '1', '1560', '1', 'Male', '46', '3', '2', 'Sales Executive', '1', 'Married', '6392', '10589', '2', 'Y', 'No', '13', '3', '4', '80', '1', '8', '6', '1', '2', '2', '2', '2']\n",
      "['', '20', '32', 'No', 'Travel_Rarely', '234', 'Sales', '1', \"Master's Degree\", 'Medical', '1', '2013', '2', 'Male', '68', '2', '1', 'Sales Representative', '2', 'Married', '2269', '18024', '0', 'Y', 'No', '14', '3', '2', '80', '1', '3', '2', '3', '2', '2', '2', '2']\n",
      "['', '139', '35', 'No', 'Travel_Rarely', '682', 'Sales', '18', \"Master's Degree\", 'Medical', '1', '1945', '2', 'Male', '71', '3', '2', 'Sales Executive', '1', 'Married', '5561', '15975', '0', 'Y', 'No', '16', '3', '4', '80', '1', '6', '2', '1', '5', '3', '0', '4']\n",
      "['', '94', '37', 'No', 'Travel_Rarely', '589', 'Sales', '9', 'Associates Degree', 'Marketing', '1', '1787', '2', 'Male', '46', '2', '2', 'Sales Executive', '2', 'Married', '4189', '8800', '1', 'Y', 'No', '14', '3', '1', '80', '2', '5', '2', '3', '5', '2', '0', '3']\n",
      "['', '238.5', '30', 'No', 'Travel_Rarely', '1288', 'Sales', '29', \"Master's Degree\", 'Technical Degree', '1', '1568', '3', 'Male', '33', '3', '3', 'Sales Executive', '2', 'Married', '9250', '17799', '3', 'Y', 'No', '12', '3', '2', '80', '1', '9', '3', '3', '4', '2', '1', '3']\n",
      "['', '195', '38', 'No', 'Travel_Rarely', '1245', 'Sales', '14', \"Bachelor's Degree\", 'Life Sciences', '1', '1582', '3', 'Male', '80', '3', '2', 'Sales Executive', '2', 'Married', '9924', '12355', '0', 'Y', 'No', '11', '3', '4', '80', '1', '10', '3', '3', '9', '8', '7', '7']\n",
      "['', '166', '36', 'No', 'Travel_Rarely', '335', 'Sales', '17', 'Associates Degree', 'Marketing', '1', '1908', '3', 'Male', '33', '2', '2', 'Sales Executive', '2', 'Married', '5507', '16822', '2', 'Y', 'No', '16', '3', '3', '80', '2', '12', '1', '1', '4', '2', '1', '3']\n",
      "['', '104', '35', 'No', 'Travel_Rarely', '660', 'Sales', '7', 'High School', 'Life Sciences', '1', '1492', '4', 'Male', '76', '3', '1', 'Sales Representative', '3', 'Married', '2404', '16192', '1', 'Y', 'No', '13', '3', '1', '80', '1', '1', '3', '3', '1', '0', '0', '0']\n",
      "['', '55', '39', 'No', 'Travel_Rarely', '1462', 'Sales', '6', \"Bachelor's Degree\", 'Medical', '1', '1588', '4', 'Male', '38', '4', '3', 'Sales Executive', '3', 'Married', '8237', '4658', '2', 'Y', 'No', '11', '3', '1', '80', '1', '11', '3', '3', '7', '6', '7', '6']\n",
      "['', '260', '32', 'No', 'Travel_Rarely', '371', 'Sales', '19', \"Bachelor's Degree\", 'Life Sciences', '1', '1739', '4', 'Male', '80', '1', '3', 'Sales Executive', '3', 'Married', '9610', '3840', '3', 'Y', 'No', '13', '3', '3', '80', '1', '10', '2', '1', '4', '3', '0', '2']\n",
      "['', '76', '32', 'No', 'Travel_Rarely', '601', 'Sales', '7', 'Doctoral Degree', 'Marketing', '1', '1446', '4', 'Male', '97', '3', '2', 'Sales Executive', '4', 'Married', '9204', '23343', '4', 'Y', 'No', '12', '3', '3', '80', '1', '7', '3', '2', '4', '3', '0', '3']\n",
      "['', '26', '38', 'No', 'Travel_Rarely', '1321', 'Sales', '1', \"Master's Degree\", 'Life Sciences', '1', '1995', '4', 'Male', '86', '3', '2', 'Sales Executive', '2', 'Married', '4440', '7636', '0', 'Y', 'No', '15', '3', '1', '80', '2', '16', '3', '3', '15', '13', '5', '8']\n",
      "['', '221', '30', 'No', 'Travel_Rarely', '1358', 'Sales', '16', 'High School', 'Life Sciences', '1', '1479', '4', 'Male', '96', '3', '2', 'Sales Executive', '3', 'Married', '5301', '2939', '8', 'Y', 'No', '15', '3', '3', '80', '2', '4', '2', '2', '2', '1', '2', '2']\n",
      "['', '98', '29', 'No', 'Travel_Rarely', '332', 'Human Resources', '17', \"Bachelor's Degree\", 'Other', '1', '1419', '2', 'Male', '51', '2', '3', 'Human Resources', '1', 'Single', '7988', '9769', '1', 'Y', 'No', '13', '3', '1', '80', '0', '10', '3', '2', '10', '9', '0', '9']\n",
      "['', '39', '43', 'No', 'Travel_Rarely', '244', 'Human Resources', '2', \"Bachelor's Degree\", 'Life Sciences', '1', '1778', '2', 'Male', '97', '3', '1', 'Human Resources', '4', 'Single', '3539', '5033', '0', 'Y', 'No', '13', '3', '2', '80', '0', '10', '5', '3', '9', '7', '1', '8']\n",
      "['', '325', '39', 'No', 'Travel_Rarely', '116', 'Research & Development', '24', 'High School', 'Life Sciences', '1', '2014', '1', 'Male', '52', '3', '2', 'Research Scientist', '4', 'Single', '4108', '5340', '7', 'Y', 'No', '13', '3', '1', '80', '0', '18', '2', '3', '7', '7', '1', '7']\n",
      "['', '273', '23', 'No', 'Travel_Rarely', '507', 'Research & Development', '20', 'High School', 'Life Sciences', '1', '1533', '1', 'Male', '97', '3', '2', 'Laboratory Technician', '3', 'Single', '2272', '24812', '0', 'Y', 'No', '14', '3', '2', '80', '0', '5', '2', '3', '4', '3', '1', '2']\n",
      "['', '65', '36', 'No', 'Travel_Rarely', '172', 'Research & Development', '4', \"Master's Degree\", 'Life Sciences', '1', '1435', '1', 'Male', '37', '2', '2', 'Laboratory Technician', '4', 'Single', '5810', '22604', '1', 'Y', 'No', '16', '3', '3', '80', '0', '10', '2', '2', '10', '4', '1', '8']\n",
      "['', '104', '36', 'No', 'Travel_Rarely', '311', 'Research & Development', '7', \"Bachelor's Degree\", 'Life Sciences', '1', '1659', '1', 'Male', '77', '3', '1', 'Laboratory Technician', '2', 'Single', '2013', '10950', '2', 'Y', 'No', '11', '3', '3', '80', '0', '15', '4', '3', '4', '3', '1', '3']\n",
      "['', '62', '34', 'No', 'Travel_Rarely', '479', 'Research & Development', '7', \"Master's Degree\", 'Medical', '1', '1577', '1', 'Male', '35', '3', '1', 'Research Scientist', '4', 'Single', '2972', '22061', '1', 'Y', 'No', '13', '3', '3', '80', '0', '1', '4', '1', '1', '0', '0', '0']\n",
      "['', '78', '41', 'No', 'Travel_Rarely', '447', 'Research & Development', '5', \"Bachelor's Degree\", 'Life Sciences', '1', '1814', '2', 'Male', '85', '4', '2', 'Healthcare Representative', '2', 'Single', '6870', '15530', '3', 'Y', 'No', '12', '3', '1', '80', '0', '11', '3', '1', '3', '2', '1', '2']\n",
      "['', '26', '24', 'No', 'Travel_Rarely', '771', 'Research & Development', '1', 'Associates Degree', 'Life Sciences', '1', '1981', '2', 'Male', '45', '2', '2', 'Healthcare Representative', '3', 'Single', '4617', '14120', '1', 'Y', 'No', '12', '3', '2', '80', '0', '4', '2', '2', '4', '3', '1', '2']\n",
      "['', '76', '35', 'No', 'Travel_Rarely', '1395', 'Research & Development', '9', \"Master's Degree\", 'Medical', '1', '2008', '2', 'Male', '48', '3', '2', 'Research Scientist', '3', 'Single', '5098', '18698', '1', 'Y', 'No', '19', '3', '2', '80', '0', '10', '5', '3', '10', '7', '0', '8']\n",
      "['', '26', '49', 'No', 'Travel_Rarely', '809', 'Research & Development', '1', \"Bachelor's Degree\", 'Life Sciences', '1', '1677', '3', 'Male', '36', '3', '4', 'Manager', '3', 'Single', '15379', '22384', '4', 'Y', 'No', '14', '3', '1', '80', '0', '23', '2', '3', '8', '7', '0', '0']\n",
      "['', '48', '21', 'No', 'Travel_Rarely', '546', 'Research & Development', '5', 'High School', 'Medical', '1', '1623', '3', 'Male', '97', '3', '1', 'Research Scientist', '4', 'Single', '3117', '26009', '1', 'Y', 'No', '18', '3', '3', '80', '0', '3', '2', '3', '2', '2', '2', '2']\n",
      "['', '39', '40', 'No', 'Travel_Rarely', '1322', 'Research & Development', '2', \"Master's Degree\", 'Life Sciences', '1', '2048', '3', 'Male', '52', '2', '1', 'Research Scientist', '3', 'Single', '2809', '2725', '2', 'Y', 'No', '14', '3', '4', '80', '0', '8', '2', '3', '2', '2', '2', '2']\n",
      "['', '20', '26', 'No', 'Travel_Rarely', '157', 'Research & Development', '1', \"Bachelor's Degree\", 'Medical', '1', '1952', '3', 'Male', '95', '3', '1', 'Laboratory Technician', '1', 'Single', '2867', '20006', '0', 'Y', 'No', '13', '3', '4', '80', '0', '8', '6', '2', '7', '7', '7', '6']\n",
      "['', '182', '46', 'No', 'Travel_Rarely', '717', 'Research & Development', '13', \"Master's Degree\", 'Life Sciences', '1', '1727', '3', 'Male', '34', '3', '2', 'Healthcare Representative', '2', 'Single', '5562', '9697', '6', 'Y', 'No', '14', '3', '4', '80', '0', '19', '3', '3', '10', '7', '0', '9']\n",
      "['', '48', '26', 'No', 'Travel_Rarely', '652', 'Research & Development', '7', \"Bachelor's Degree\", 'Other', '1', '1417', '3', 'Male', '100', '4', '1', 'Laboratory Technician', '1', 'Single', '3578', '23577', '0', 'Y', 'No', '12', '3', '4', '80', '0', '8', '2', '3', '7', '7', '0', '7']\n",
      "['', '20', '35', 'No', 'Travel_Rarely', '992', 'Research & Development', '1', \"Bachelor's Degree\", 'Medical', '1', '1564', '4', 'Male', '68', '2', '1', 'Laboratory Technician', '1', 'Single', '2450', '21731', '1', 'Y', 'No', '19', '3', '2', '80', '0', '3', '3', '3', '3', '0', '1', '2']\n",
      "['', '104', '29', 'No', 'Travel_Rarely', '592', 'Research & Development', '7', \"Bachelor's Degree\", 'Life Sciences', '1', '1883', '4', 'Male', '59', '3', '1', 'Laboratory Technician', '1', 'Single', '2062', '19384', '3', 'Y', 'No', '14', '3', '2', '80', '0', '11', '2', '3', '3', '2', '1', '2']\n",
      "['', '27', '53', 'No', 'Travel_Rarely', '447', 'Research & Development', '2', \"Bachelor's Degree\", 'Medical', '1', '1472', '4', 'Male', '39', '4', '4', 'Research Director', '2', 'Single', '16598', '19764', '4', 'Y', 'No', '12', '3', '2', '80', '0', '35', '2', '2', '9', '8', '8', '8']\n",
      "['', '273', '44', 'No', 'Travel_Rarely', '1467', 'Research & Development', '20', \"Bachelor's Degree\", 'Life Sciences', '1', '1475', '4', 'Male', '49', '3', '1', 'Research Scientist', '2', 'Single', '3420', '21158', '1', 'Y', 'No', '13', '3', '3', '80', '0', '6', '3', '2', '5', '2', '1', '3']\n",
      "['', '73', '23', 'No', 'Travel_Rarely', '571', 'Research & Development', '12', 'Associates Degree', 'Other', '1', '1982', '4', 'Male', '78', '3', '1', 'Laboratory Technician', '4', 'Single', '2647', '13672', '1', 'Y', 'No', '13', '3', '3', '80', '0', '5', '6', '4', '5', '2', '1', '4']\n",
      "['', '338', '33', 'No', 'Travel_Rarely', '575', 'Research & Development', '25', \"Bachelor's Degree\", 'Life Sciences', '1', '1545', '4', 'Male', '44', '2', '2', 'Manufacturing Director', '2', 'Single', '4320', '24152', '1', 'Y', 'No', '13', '3', '4', '80', '0', '5', '2', '3', '5', '3', '0', '2']\n",
      "['', '45', '32', 'No', 'Travel_Rarely', '529', 'Research & Development', '2', \"Bachelor's Degree\", 'Technical Degree', '1', '2038', '4', 'Male', '78', '3', '1', 'Research Scientist', '1', 'Single', '2439', '11288', '1', 'Y', 'No', '14', '3', '4', '80', '0', '4', '4', '3', '4', '2', '1', '2']\n",
      "['', '117', '42', 'No', 'Travel_Rarely', '1142', 'Research & Development', '8', \"Bachelor's Degree\", 'Life Sciences', '1', '1860', '4', 'Male', '81', '3', '1', 'Laboratory Technician', '3', 'Single', '3968', '13624', '4', 'Y', 'No', '13', '3', '4', '80', '0', '8', '3', '3', '0', '0', '0', '0']\n",
      "['', '26', '22', 'No', 'Travel_Rarely', '581', 'Research & Development', '1', 'Associates Degree', 'Life Sciences', '1', '2007', '4', 'Male', '63', '3', '1', 'Research Scientist', '3', 'Single', '3375', '17624', '0', 'Y', 'No', '12', '3', '4', '80', '0', '4', '2', '4', '3', '2', '1', '2']\n",
      "['', '26', '38', 'No', 'Travel_Rarely', '1404', 'Sales', '1', \"Bachelor's Degree\", 'Life Sciences', '1', '1961', '1', 'Male', '59', '2', '1', 'Sales Representative', '1', 'Single', '2858', '11473', '4', 'Y', 'No', '14', '3', '1', '80', '0', '20', '3', '2', '1', '0', '0', '0']\n",
      "['', '148', '39', 'No', 'Travel_Rarely', '119', 'Sales', '15', \"Master's Degree\", 'Marketing', '1', '1975', '2', 'Male', '77', '3', '4', 'Sales Executive', '1', 'Single', '13341', '25098', '0', 'Y', 'No', '12', '3', '1', '80', '0', '21', '3', '3', '20', '8', '11', '10']\n",
      "['', '62', '40', 'No', 'Travel_Rarely', '611', 'Sales', '7', \"Master's Degree\", 'Medical', '1', '1740', '2', 'Male', '88', '3', '5', 'Manager', '2', 'Single', '19833', '4349', '1', 'Y', 'No', '14', '3', '2', '80', '0', '21', '3', '2', '21', '8', '12', '8']\n",
      "['', '103', '33', 'No', 'Travel_Rarely', '217', 'Sales', '10', \"Master's Degree\", 'Marketing', '1', '1924', '2', 'Male', '43', '3', '2', 'Sales Executive', '3', 'Single', '5487', '10410', '1', 'Y', 'No', '14', '3', '2', '80', '0', '10', '2', '2', '10', '4', '0', '9']\n",
      "['', '83', '26', 'No', 'Travel_Rarely', '572', 'Sales', '10', \"Bachelor's Degree\", 'Medical', '1', '1836', '3', 'Male', '46', '3', '2', 'Sales Executive', '4', 'Single', '4684', '9125', '1', 'Y', 'No', '13', '3', '1', '80', '0', '5', '4', '3', '5', '3', '1', '2']\n",
      "['', '83', '29', 'No', 'Travel_Rarely', '469', 'Sales', '10', \"Bachelor's Degree\", 'Medical', '1', '1650', '3', 'Male', '42', '2', '2', 'Sales Executive', '3', 'Single', '5869', '23413', '9', 'Y', 'No', '11', '3', '3', '80', '0', '8', '2', '3', '5', '2', '1', '4']\n",
      "['', '130', '20', 'No', 'Travel_Rarely', '727', 'Sales', '9', 'High School', 'Life Sciences', '1', '1680', '4', 'Male', '54', '3', '1', 'Sales Representative', '1', 'Single', '2728', '21082', '1', 'Y', 'No', '11', '3', '1', '80', '0', '2', '3', '3', '2', '2', '0', '2']\n",
      "['', '94', '27', 'No', 'Travel_Rarely', '954', 'Sales', '9', \"Bachelor's Degree\", 'Marketing', '1', '1965', '4', 'Male', '44', '3', '2', 'Sales Executive', '4', 'Single', '4105', '5099', '1', 'Y', 'No', '14', '3', '1', '80', '0', '7', '5', '3', '7', '7', '0', '7']\n",
      "['', '67', '41', 'No', 'Travel_Rarely', '918', 'Sales', '6', \"Bachelor's Degree\", 'Marketing', '1', '1708', '4', 'Male', '35', '3', '3', 'Sales Executive', '3', 'Single', '9241', '15869', '1', 'Y', 'No', '12', '3', '2', '80', '0', '10', '3', '3', '10', '8', '8', '7']\n",
      "['', '26', '46', 'No', 'Travel_Rarely', '563', 'Sales', '1', \"Master's Degree\", 'Life Sciences', '1', '1602', '4', 'Male', '56', '4', '4', 'Manager', '1', 'Single', '17567', '3156', '1', 'Y', 'No', '15', '3', '2', '80', '0', '27', '5', '1', '26', '0', '0', '12']\n",
      "['', '28', '34', 'No', 'Travel_Rarely', '1326', 'Sales', '3', \"Bachelor's Degree\", 'Other', '1', '1478', '4', 'Male', '81', '1', '2', 'Sales Executive', '1', 'Single', '4759', '15891', '3', 'Y', 'No', '18', '3', '4', '80', '0', '15', '2', '3', '13', '9', '3', '12']\n",
      "['', '48', '28', 'No', 'Travel_Rarely', '866', 'Sales', '5', \"Bachelor's Degree\", 'Medical', '1', '1469', '4', 'Male', '84', '3', '2', 'Sales Executive', '1', 'Single', '8463', '23490', '0', 'Y', 'No', '18', '3', '4', '80', '0', '6', '4', '3', '5', '4', '1', '3']\n",
      "['', '23', '56', 'No', 'Non-Travel', '667', 'Research & Development', '1', \"Master's Degree\", 'Life Sciences', '1', '2026', '3', 'Male', '57', '3', '2', 'Healthcare Representative', '3', 'Divorced', '6306', '26236', '1', 'Y', 'No', '21', '4', '1', '80', '1', '13', '2', '2', '13', '12', '1', '9']\n",
      "['', '24', '58', 'No', 'Non-Travel', '350', 'Sales', '2', \"Bachelor's Degree\", 'Medical', '1', '1824', '2', 'Male', '52', '3', '4', 'Manager', '2', 'Divorced', '16291', '22577', '4', 'Y', 'No', '22', '4', '4', '80', '1', '37', '0', '2', '16', '9', '14', '14']\n",
      "['', '145', '36', 'No', 'Non-Travel', '301', 'Sales', '15', \"Master's Degree\", 'Marketing', '1', '2036', '4', 'Male', '88', '1', '2', 'Sales Executive', '4', 'Divorced', '5406', '10436', '1', 'Y', 'No', '24', '4', '1', '80', '1', '15', '4', '2', '15', '12', '11', '11']\n",
      "['', '127', '36', 'No', 'Non-Travel', '1351', 'Research & Development', '9', \"Master's Degree\", 'Life Sciences', '1', '1949', '1', 'Male', '66', '4', '1', 'Laboratory Technician', '2', 'Married', '2810', '9238', '1', 'Y', 'No', '22', '4', '2', '80', '0', '5', '3', '3', '5', '4', '0', '2']\n",
      "['', '23', '45', 'No', 'Non-Travel', '1238', 'Research & Development', '1', 'High School', 'Life Sciences', '1', '1712', '3', 'Male', '74', '2', '3', 'Healthcare Representative', '3', 'Married', '10748', '3395', '3', 'Y', 'No', '23', '4', '4', '80', '1', '25', '3', '2', '23', '15', '14', '4']\n",
      "['', '170', '42', 'No', 'Non-Travel', '355', 'Research & Development', '10', \"Master's Degree\", 'Technical Degree', '1', '1854', '3', 'Male', '38', '3', '1', 'Research Scientist', '3', 'Married', '2936', '6161', '3', 'Y', 'No', '22', '4', '2', '80', '2', '10', '1', '2', '6', '3', '3', '3']\n",
      "['', '59', '26', 'No', 'Non-Travel', '786', 'Research & Development', '7', \"Bachelor's Degree\", 'Medical', '1', '1693', '4', 'Male', '76', '3', '1', 'Laboratory Technician', '4', 'Single', '2570', '11925', '1', 'Y', 'No', '20', '4', '3', '80', '0', '7', '5', '3', '7', '7', '5', '7']\n",
      "['', '108', '33', 'No', 'Travel_Frequently', '1303', 'Research & Development', '7', 'Associates Degree', 'Life Sciences', '1', '1970', '4', 'Male', '36', '3', '2', 'Healthcare Representative', '3', 'Divorced', '5968', '18079', '1', 'Y', 'No', '20', '4', '3', '80', '3', '9', '2', '3', '9', '7', '2', '8']\n",
      "['', '45', '48', 'No', 'Travel_Frequently', '365', 'Research & Development', '4', 'Doctoral Degree', 'Medical', '1', '1644', '3', 'Male', '89', '2', '4', 'Manager', '4', 'Married', '15202', '5602', '2', 'Y', 'No', '25', '4', '2', '80', '1', '23', '3', '3', '2', '2', '2', '2']\n",
      "['', '30', '31', 'No', 'Travel_Frequently', '1125', 'Research & Development', '1', \"Bachelor's Degree\", 'Life Sciences', '1', '1956', '4', 'Male', '48', '1', '2', 'Research Scientist', '1', 'Married', '5003', '5771', '1', 'Y', 'No', '21', '4', '2', '80', '0', '10', '6', '3', '10', '8', '8', '7']\n",
      "['', '43', '43', 'No', 'Travel_Frequently', '1422', 'Sales', '2', \"Master's Degree\", 'Life Sciences', '1', '1849', '1', 'Male', '92', '3', '2', 'Sales Executive', '4', 'Married', '5675', '19246', '1', 'Y', 'No', '20', '4', '3', '80', '1', '7', '5', '3', '7', '7', '7', '7']\n",
      "['', '47', '36', 'No', 'Travel_Frequently', '1213', 'Human Resources', '2', 'High School', 'Human Resources', '1', '1890', '2', 'Male', '94', '2', '2', 'Human Resources', '4', 'Single', '3886', '4223', '1', 'Y', 'No', '21', '4', '4', '80', '0', '10', '2', '2', '10', '1', '0', '8']\n",
      "['', '26', '30', 'No', 'Travel_Rarely', '330', 'Human Resources', '1', \"Bachelor's Degree\", 'Life Sciences', '1', '1499', '3', 'Male', '46', '3', '1', 'Human Resources', '3', 'Divorced', '2064', '15428', '0', 'Y', 'No', '21', '4', '1', '80', '1', '6', '3', '4', '5', '3', '1', '3']\n",
      "['', '97', '42', 'No', 'Travel_Rarely', '855', 'Research & Development', '12', \"Bachelor's Degree\", 'Medical', '1', '1768', '2', 'Male', '57', '3', '1', 'Laboratory Technician', '2', 'Divorced', '2766', '8952', '8', 'Y', 'No', '22', '4', '2', '80', '3', '7', '6', '2', '5', '3', '0', '4']\n",
      "['', '20', '60', 'No', 'Travel_Rarely', '370', 'Research & Development', '1', \"Master's Degree\", 'Medical', '1', '1697', '3', 'Male', '92', '1', '3', 'Healthcare Representative', '4', 'Divorced', '10883', '20467', '3', 'Y', 'No', '20', '4', '3', '80', '1', '19', '2', '4', '1', '0', '0', '0']\n",
      "['', '130', '41', 'No', 'Travel_Rarely', '548', 'Research & Development', '9', \"Master's Degree\", 'Life Sciences', '1', '1772', '3', 'Male', '94', '3', '1', 'Laboratory Technician', '1', 'Divorced', '2289', '20520', '1', 'Y', 'No', '20', '4', '2', '80', '2', '5', '2', '3', '5', '3', '0', '4']\n",
      "['', '52', '36', 'No', 'Travel_Rarely', '1040', 'Research & Development', '3', 'Associates Degree', 'Life Sciences', '1', '1664', '4', 'Male', '79', '4', '2', 'Healthcare Representative', '1', 'Divorced', '6842', '26308', '6', 'Y', 'No', '20', '4', '1', '80', '1', '13', '3', '3', '5', '4', '0', '4']\n",
      "['', '76', '39', 'No', 'Travel_Rarely', '867', 'Research & Development', '9', 'Associates Degree', 'Medical', '1', '1936', '1', 'Male', '87', '3', '2', 'Manufacturing Director', '1', 'Married', '5151', '12315', '1', 'Y', 'No', '25', '4', '4', '80', '1', '10', '3', '3', '10', '0', '7', '9']\n",
      "['', '26', '57', 'No', 'Travel_Rarely', '405', 'Research & Development', '1', 'Associates Degree', 'Life Sciences', '1', '1483', '2', 'Male', '93', '4', '2', 'Research Scientist', '3', 'Married', '4900', '2721', '0', 'Y', 'No', '24', '4', '1', '80', '1', '13', '2', '2', '12', '9', '2', '8']\n",
      "['', '45', '55', 'No', 'Travel_Rarely', '836', 'Research & Development', '2', \"Master's Degree\", 'Technical Degree', '1', '1873', '2', 'Male', '98', '2', '1', 'Research Scientist', '4', 'Married', '2662', '7975', '8', 'Y', 'No', '20', '4', '2', '80', '1', '19', '2', '4', '5', '2', '0', '4']\n",
      "['', '208', '43', 'No', 'Travel_Rarely', '1291', 'Research & Development', '15', 'Associates Degree', 'Life Sciences', '1', '1666', '3', 'Male', '65', '2', '4', 'Research Director', '3', 'Married', '17603', '3525', '1', 'Y', 'No', '24', '4', '1', '80', '1', '14', '3', '3', '14', '10', '6', '11']\n",
      "['', '97', '39', 'No', 'Travel_Rarely', '492', 'Research & Development', '12', \"Bachelor's Degree\", 'Medical', '1', '1654', '4', 'Male', '66', '3', '2', 'Manufacturing Director', '2', 'Married', '5295', '7693', '4', 'Y', 'No', '21', '4', '3', '80', '0', '7', '3', '3', '5', '4', '1', '0']\n",
      "['', '26', '41', 'No', 'Travel_Rarely', '642', 'Research & Development', '1', \"Bachelor's Degree\", 'Life Sciences', '1', '1999', '4', 'Male', '76', '3', '1', 'Research Scientist', '4', 'Married', '2782', '21412', '3', 'Y', 'No', '22', '4', '1', '80', '1', '12', '3', '3', '5', '3', '1', '0']\n",
      "['', '230.5', '45', 'No', 'Travel_Rarely', '950', 'Research & Development', '28', \"Bachelor's Degree\", 'Technical Degree', '1', '1546', '4', 'Male', '97', '3', '1', 'Research Scientist', '4', 'Married', '2132', '4585', '4', 'Y', 'No', '20', '4', '4', '80', '1', '8', '3', '3', '5', '4', '0', '3']\n",
      "['', '141', '34', 'No', 'Travel_Rarely', '810', 'Sales', '8', 'Associates Degree', 'Technical Degree', '1', '1823', '2', 'Male', '92', '4', '2', 'Sales Executive', '3', 'Married', '6799', '22128', '1', 'Y', 'No', '21', '4', '3', '80', '2', '10', '5', '3', '10', '8', '4', '8']\n",
      "['', '247', '55', 'No', 'Travel_Rarely', '685', 'Sales', '26', 'Doctoral Degree', 'Marketing', '1', '1578', '3', 'Male', '60', '2', '5', 'Manager', '4', 'Married', '19586', '23037', '1', 'Y', 'No', '21', '4', '3', '80', '1', '36', '3', '3', '36', '6', '2', '13']\n",
      "['', '188', '47', 'No', 'Travel_Rarely', '1180', 'Research & Development', '25', \"Bachelor's Degree\", 'Medical', '1', '1993', '1', 'Male', '84', '3', '3', 'Healthcare Representative', '3', 'Single', '8633', '13084', '2', 'Y', 'No', '23', '4', '2', '80', '0', '25', '3', '3', '17', '14', '12', '11']\n",
      "['', '83', '32', 'No', 'Travel_Rarely', '495', 'Research & Development', '10', \"Bachelor's Degree\", 'Medical', '1', '1516', '3', 'Male', '64', '3', '3', 'Manager', '4', 'Single', '11244', '21072', '2', 'Y', 'No', '25', '4', '2', '80', '0', '10', '5', '4', '5', '2', '0', '0']\n",
      "['', '83', '39', 'No', 'Travel_Rarely', '1253', 'Research & Development', '10', 'High School', 'Medical', '1', '1800', '3', 'Male', '65', '3', '3', 'Research Director', '3', 'Single', '13464', '7914', '7', 'Y', 'No', '21', '4', '3', '80', '0', '9', '3', '3', '4', '3', '2', '2']\n",
      "['', '78', '32', 'No', 'Travel_Rarely', '1373', 'Research & Development', '5', \"Master's Degree\", 'Life Sciences', '1', '1966', '4', 'Male', '56', '2', '2', 'Manufacturing Director', '4', 'Single', '9679', '10138', '8', 'Y', 'No', '24', '4', '2', '80', '0', '8', '1', '3', '1', '0', '0', '0']\n",
      "['', '58', '42', 'No', 'Travel_Rarely', '1059', 'Research & Development', '9', 'Associates Degree', 'Other', '1', '1595', '4', 'Male', '93', '2', '5', 'Manager', '4', 'Single', '19613', '26362', '8', 'Y', 'No', '22', '4', '4', '80', '0', '24', '2', '3', '1', '0', '0', '1']\n",
      "['', '22', '34', 'No', 'Travel_Rarely', '937', 'Sales', '1', \"Bachelor's Degree\", 'Marketing', '1', '1950', '1', 'Male', '32', '3', '3', 'Sales Executive', '4', 'Single', '9888', '6770', '1', 'Y', 'No', '21', '4', '1', '80', '0', '14', '3', '2', '14', '8', '2', '1']\n",
      "['1/9/2022 12:00:00 AM', '137', '30', 'Yes', 'Travel_Frequently', '600', 'Human Resources', '8', \"Bachelor's Degree\", 'Human Resources', '1', '1747', '3', 'Female', '66', '2', '1', 'Human Resources', '4', 'Divorced', '2180', '9732', '6', 'Y', 'No', '11', '3', '3', '80', '1', '6', '0', '2', '4', '2', '1', '2']\n",
      "['6/13/2021 12:00:00 AM', '347', '27', 'Yes', 'Travel_Frequently', '1337', 'Human Resources', '22', \"Bachelor's Degree\", 'Human Resources', '1', '1944', '1', 'Female', '58', '2', '1', 'Human Resources', '2', 'Married', '2863', '19555', '1', 'Y', 'No', '12', '3', '1', '80', '0', '1', '2', '3', '1', '0', '0', '0']\n",
      "['4/26/2022 12:00:00 AM', '30', '31', 'Yes', 'Travel_Frequently', '1445', 'Research & Development', '1', 'Doctoral Degree', 'Life Sciences', '1', '1459', '3', 'Female', '100', '4', '3', 'Manufacturing Director', '2', 'Single', '7446', '8931', '1', 'Y', 'No', '11', '3', '1', '80', '0', '10', '2', '3', '10', '8', '4', '7']\n",
      "['3/31/2022 12:00:00 AM', '56', '31', 'Yes', 'Travel_Frequently', '561', 'Research & Development', '3', \"Bachelor's Degree\", 'Life Sciences', '1', '1537', '4', 'Female', '33', '3', '1', 'Research Scientist', '3', 'Single', '4084', '4156', '1', 'Y', 'No', '12', '3', '1', '80', '0', '7', '2', '1', '7', '2', '7', '7']\n",
      "['10/13/2021 12:00:00 AM', '225', '29', 'Yes', 'Travel_Frequently', '115', 'Sales', '13', \"Bachelor's Degree\", 'Technical Degree', '1', '1487', '1', 'Female', '51', '3', '2', 'Sales Executive', '2', 'Single', '5765', '17485', '5', 'Y', 'No', '11', '3', '1', '80', '0', '7', '4', '1', '5', '3', '0', '0']\n",
      "['4/26/2022 12:00:00 AM', '30', '31', 'Yes', 'Travel_Frequently', '667', 'Sales', '1', \"Master's Degree\", 'Life Sciences', '1', '1427', '2', 'Female', '50', '1', '1', 'Sales Representative', '3', 'Single', '1359', '16154', '1', 'Y', 'No', '12', '3', '2', '80', '0', '1', '3', '3', '1', '0', '0', '0']\n",
      "['12/20/2021 12:00:00 AM', '157', '34', 'Yes', 'Travel_Rarely', '1107', 'Human Resources', '9', \"Master's Degree\", 'Technical Degree', '1', '1467', '1', 'Female', '52', '3', '1', 'Human Resources', '3', 'Married', '2742', '3072', '1', 'Y', 'No', '15', '3', '4', '80', '0', '2', '0', '3', '2', '2', '2', '2']\n",
      "['4/11/2022 12:00:00 AM', '45', '53', 'Yes', 'Travel_Rarely', '607', 'Research & Development', '2', 'Doctoral Degree', 'Technical Degree', '1', '1572', '3', 'Female', '78', '2', '3', 'Manufacturing Director', '4', 'Married', '10169', '14618', '0', 'Y', 'No', '16', '3', '2', '80', '1', '34', '4', '3', '33', '7', '1', '9']\n",
      "['1/29/2022 12:00:00 AM', '117', '31', 'Yes', 'Travel_Rarely', '202', 'Research & Development', '8', \"Bachelor's Degree\", 'Life Sciences', '1', '1433', '1', 'Female', '34', '2', '1', 'Research Scientist', '2', 'Single', '1261', '22262', '1', 'Y', 'No', '12', '3', '3', '80', '0', '1', '3', '4', '1', '0', '0', '0']\n",
      "['2/21/2022 12:00:00 AM', '94', '29', 'Yes', 'Travel_Rarely', '428', 'Sales', '9', \"Bachelor's Degree\", 'Marketing', '1', '1752', '2', 'Female', '52', '1', '1', 'Sales Representative', '2', 'Single', '2760', '14630', '1', 'Y', 'No', '13', '3', '3', '80', '0', '2', '3', '3', '2', '2', '2', '2']\n",
      "['12/17/2021 12:00:00 AM', '160', '46', 'Yes', 'Travel_Rarely', '261', 'Research & Development', '21', 'Associates Degree', 'Medical', '1', '1821', '4', 'Female', '66', '3', '2', 'Healthcare Representative', '2', 'Married', '8926', '10842', '4', 'Y', 'No', '22', '4', '4', '80', '1', '13', '2', '4', '9', '7', '3', '7']\n",
      "['1/3/2022 12:00:00 AM', '143', '46', 'Yes', 'Travel_Rarely', '1254', 'Sales', '10', \"Bachelor's Degree\", 'Life Sciences', '1', '1869', '3', 'Female', '64', '3', '3', 'Sales Executive', '2', 'Married', '7314', '14011', '5', 'Y', 'No', '21', '4', '3', '80', '3', '14', '2', '3', '8', '7', '0', '7']\n",
      "['4/26/2022 12:00:00 AM', '30', '50', 'Yes', 'Travel_Frequently', '878', 'Sales', '1', \"Master's Degree\", 'Life Sciences', '1', '2044', '2', 'Male', '94', '3', '2', 'Sales Executive', '3', 'Divorced', '6728', '14255', '7', 'Y', 'No', '12', '3', '4', '80', '2', '12', '3', '3', '6', '3', '0', '1']\n",
      "['1/12/2022 12:00:00 AM', '134', '34', 'Yes', 'Travel_Frequently', '234', 'Research & Development', '9', \"Master's Degree\", 'Life Sciences', '1', '1807', '4', 'Male', '93', '3', '2', 'Laboratory Technician', '1', 'Married', '5346', '6208', '4', 'Y', 'No', '17', '3', '3', '80', '1', '11', '3', '2', '7', '1', '0', '7']\n",
      "['4/23/2022 12:00:00 AM', '33', '28', 'Yes', 'Travel_Frequently', '1496', 'Sales', '1', \"Bachelor's Degree\", 'Technical Degree', '1', '1486', '1', 'Male', '92', '3', '1', 'Sales Representative', '3', 'Married', '2909', '15747', '3', 'Y', 'No', '15', '3', '4', '80', '1', '5', '3', '4', '3', '2', '1', '2']\n",
      "['1/12/2022 12:00:00 AM', '134', '47', 'Yes', 'Travel_Frequently', '1093', 'Sales', '9', \"Bachelor's Degree\", 'Life Sciences', '1', '1716', '3', 'Male', '82', '1', '4', 'Sales Executive', '3', 'Married', '12936', '24164', '7', 'Y', 'No', '11', '3', '3', '80', '0', '25', '3', '1', '23', '5', '14', '10']\n",
      "['2/17/2022 12:00:00 AM', '98', '23', 'Yes', 'Travel_Frequently', '638', 'Sales', '9', \"Bachelor's Degree\", 'Marketing', '1', '2023', '4', 'Male', '33', '3', '1', 'Sales Representative', '1', 'Married', '1790', '26956', '1', 'Y', 'No', '19', '3', '1', '80', '1', '1', '3', '2', '1', '0', '1', '0']\n",
      "['4/25/2022 12:00:00 AM', '31', '28', 'Yes', 'Travel_Frequently', '289', 'Research & Development', '2', 'Associates Degree', 'Medical', '1', '1504', '3', 'Male', '38', '2', '1', 'Laboratory Technician', '1', 'Single', '2561', '5355', '7', 'Y', 'No', '11', '3', '3', '80', '0', '8', '2', '2', '0', '0', '0', '0']\n",
      "['11/7/2021 12:00:00 AM', '200.5', '29', 'Yes', 'Travel_Frequently', '746', 'Sales', '24', \"Bachelor's Degree\", 'Technical Degree', '1', '1928', '3', 'Male', '45', '4', '1', 'Sales Representative', '1', 'Single', '1091', '10642', '1', 'Y', 'No', '17', '3', '4', '80', '0', '1', '3', '3', '1', '0', '0', '0']\n",
      "['8/14/2021 12:00:00 AM', '285', '28', 'Yes', 'Travel_Rarely', '1404', 'Research & Development', '17', \"Bachelor's Degree\", 'Technical Degree', '1', '1960', '3', 'Male', '32', '2', '1', 'Laboratory Technician', '4', 'Divorced', '2367', '18779', '5', 'Y', 'No', '12', '3', '1', '80', '1', '6', '2', '2', '4', '1', '0', '3']\n",
      "['2/21/2022 12:00:00 AM', '94', '46', 'Yes', 'Travel_Rarely', '377', 'Sales', '9', \"Bachelor's Degree\", 'Marketing', '1', '1457', '1', 'Male', '52', '3', '3', 'Sales Executive', '4', 'Divorced', '10096', '15986', '4', 'Y', 'No', '11', '3', '1', '80', '1', '28', '1', '4', '7', '7', '4', '3']\n",
      "['8/16/2021 12:00:00 AM', '283', '31', 'Yes', 'Travel_Rarely', '359', 'Human Resources', '18', 'Doctoral Degree', 'Human Resources', '1', '1842', '4', 'Male', '89', '4', '1', 'Human Resources', '1', 'Married', '2956', '21495', '0', 'Y', 'No', '17', '3', '3', '80', '0', '2', '4', '3', '1', '0', '0', '0']\n",
      "['6/17/2021 12:00:00 AM', '343', '24', 'Yes', 'Travel_Rarely', '240', 'Human Resources', '22', 'High School', 'Human Resources', '1', '1714', '4', 'Male', '58', '1', '1', 'Human Resources', '3', 'Married', '1555', '11585', '1', 'Y', 'No', '11', '3', '3', '80', '1', '1', '2', '3', '1', '0', '0', '0']\n",
      "['4/29/2022 12:00:00 AM', '27', '38', 'Yes', 'Travel_Rarely', '903', 'Research & Development', '2', \"Bachelor's Degree\", 'Medical', '1', '1573', '3', 'Male', '81', '3', '2', 'Manufacturing Director', '2', 'Married', '4855', '7653', '4', 'Y', 'No', '11', '3', '1', '80', '2', '7', '2', '3', '5', '2', '1', '4']\n",
      "['1/21/2022 12:00:00 AM', '125', '56', 'Yes', 'Travel_Rarely', '310', 'Research & Development', '7', 'Associates Degree', 'Technical Degree', '1', '2032', '4', 'Male', '72', '3', '1', 'Laboratory Technician', '3', 'Married', '2339', '3666', '8', 'Y', 'No', '11', '3', '4', '80', '1', '14', '4', '1', '10', '9', '9', '8']\n",
      "['1/16/2022 12:00:00 AM', '130', '25', 'Yes', 'Travel_Rarely', '383', 'Sales', '9', 'Associates Degree', 'Life Sciences', '1', '1439', '1', 'Male', '68', '2', '1', 'Sales Representative', '1', 'Married', '4400', '15182', '3', 'Y', 'No', '12', '3', '1', '80', '0', '6', '2', '3', '3', '2', '2', '2']\n",
      "['12/20/2021 12:00:00 AM', '157', '31', 'Yes', 'Travel_Rarely', '1079', 'Sales', '16', \"Master's Degree\", 'Marketing', '1', '1761', '1', 'Male', '70', '3', '3', 'Sales Executive', '3', 'Married', '8161', '19002', '2', 'Y', 'No', '13', '3', '1', '80', '3', '10', '2', '3', '1', '0', '0', '0']\n",
      "['4/30/2022 12:00:00 AM', '26', '30', 'Yes', 'Travel_Rarely', '740', 'Sales', '1', \"Bachelor's Degree\", 'Life Sciences', '1', '1562', '2', 'Male', '64', '2', '2', 'Sales Executive', '1', 'Married', '9714', '5323', '1', 'Y', 'No', '11', '3', '4', '80', '1', '10', '4', '3', '10', '8', '6', '7']\n",
      "['3/4/2022 12:00:00 AM', '83', '35', 'Yes', 'Travel_Rarely', '737', 'Sales', '10', \"Bachelor's Degree\", 'Medical', '1', '1639', '4', 'Male', '55', '2', '3', 'Sales Executive', '1', 'Married', '10306', '21530', '9', 'Y', 'No', '17', '3', '3', '80', '0', '15', '3', '3', '13', '12', '6', '0']\n",
      "['4/27/2022 12:00:00 AM', '29', '29', 'Yes', 'Travel_Rarely', '224', 'Research & Development', '1', \"Master's Degree\", 'Technical Degree', '1', '1522', '1', 'Male', '100', '2', '1', 'Research Scientist', '1', 'Single', '2362', '7568', '6', 'Y', 'No', '13', '3', '3', '80', '0', '11', '2', '1', '9', '7', '0', '7']\n",
      "['7/5/2021 12:00:00 AM', '325', '56', 'Yes', 'Travel_Rarely', '1162', 'Research & Development', '24', 'Associates Degree', 'Life Sciences', '1', '1907', '1', 'Male', '97', '3', '1', 'Laboratory Technician', '4', 'Single', '2587', '10261', '1', 'Y', 'No', '16', '3', '4', '80', '0', '5', '3', '3', '4', '2', '1', '0']\n",
      "['4/17/2022 12:00:00 AM', '39', '32', 'Yes', 'Travel_Rarely', '1259', 'Research & Development', '2', \"Master's Degree\", 'Life Sciences', '1', '1692', '4', 'Male', '95', '3', '1', 'Laboratory Technician', '2', 'Single', '1393', '24852', '1', 'Y', 'No', '12', '3', '1', '80', '0', '1', '2', '3', '1', '0', '0', '0']\n",
      "['1/16/2022 12:00:00 AM', '130', '40', 'Yes', 'Travel_Rarely', '676', 'Research & Development', '9', \"Master's Degree\", 'Life Sciences', '1', '1534', '4', 'Male', '86', '3', '1', 'Laboratory Technician', '1', 'Single', '2018', '21831', '3', 'Y', 'No', '14', '3', '2', '80', '0', '15', '3', '1', '5', '4', '1', '0']\n",
      "['3/4/2022 12:00:00 AM', '83', '37', 'Yes', 'Travel_Rarely', '370', 'Research & Development', '10', \"Master's Degree\", 'Medical', '1', '1809', '4', 'Male', '58', '3', '2', 'Manufacturing Director', '1', 'Single', '4213', '4992', '1', 'Y', 'No', '15', '3', '2', '80', '0', '10', '4', '1', '10', '3', '0', '8']\n",
      "['4/30/2022 12:00:00 AM', '26', '32', 'Yes', 'Travel_Rarely', '964', 'Sales', '1', 'Associates Degree', 'Life Sciences', '1', '1734', '1', 'Male', '34', '1', '2', 'Sales Executive', '2', 'Single', '6735', '12147', '6', 'Y', 'No', '15', '3', '2', '80', '0', '10', '2', '3', '0', '0', '0', '0']\n",
      "['3/11/2022 12:00:00 AM', '76', '21', 'Yes', 'Travel_Rarely', '337', 'Sales', '7', 'High School', 'Marketing', '1', '1780', '2', 'Male', '31', '3', '1', 'Sales Representative', '2', 'Single', '2679', '4567', '1', 'Y', 'No', '13', '3', '2', '80', '0', '1', '3', '3', '1', '0', '1', '0']\n",
      "['3/11/2022 12:00:00 AM', '76', '30', 'Yes', 'Travel_Rarely', '945', 'Sales', '9', \"Bachelor's Degree\", 'Medical', '1', '1876', '2', 'Male', '89', '3', '1', 'Sales Representative', '4', 'Single', '1081', '16019', '1', 'Y', 'No', '13', '3', '3', '80', '0', '1', '3', '2', '1', '0', '0', '0']\n",
      "['11/17/2021 12:00:00 AM', '190.5', '49', 'Yes', 'Travel_Frequently', '1475', 'Research & Development', '28', 'Associates Degree', 'Life Sciences', '1', '1420', '1', 'Male', '97', '2', '2', 'Laboratory Technician', '1', 'Single', '4284', '22710', '3', 'Y', 'No', '20', '4', '1', '80', '0', '20', '2', '3', '4', '3', '1', '3']\n",
      "['', '140', '22', 'No', 'Non-Travel', '457', 'Research & Development', '26', 'Associates Degree', 'Other', '1', '1605', '2', 'Female', '85', '2', '1', 'Research Scientist', '3', 'Married', '2814', '10293', '1', 'Y', 'Yes', '14', '3', '2', '80', '0', '4', '2', '2', '4', '2', '1', '3']\n",
      "['', '73', '38', 'No', 'Travel_Frequently', '1394', 'Research & Development', '8', \"Bachelor's Degree\", 'Medical', '1', '1937', '4', 'Female', '58', '2', '2', 'Research Scientist', '2', 'Divorced', '2133', '18115', '1', 'Y', 'Yes', '16', '3', '3', '80', '1', '20', '3', '3', '20', '11', '0', '7']\n",
      "['', '49', '24', 'No', 'Travel_Frequently', '567', 'Research & Development', '2', 'High School', 'Technical Degree', '1', '1646', '1', 'Female', '32', '3', '1', 'Research Scientist', '4', 'Single', '3760', '17218', '1', 'Y', 'Yes', '13', '3', '3', '80', '0', '6', '2', '3', '6', '3', '1', '3']\n",
      "['', '82', '27', 'No', 'Travel_Frequently', '1297', 'Research & Development', '5', 'Associates Degree', 'Life Sciences', '1', '1850', '4', 'Female', '53', '3', '1', 'Laboratory Technician', '4', 'Single', '2379', '19826', '0', 'Y', 'Yes', '14', '3', '3', '80', '0', '6', '3', '2', '5', '4', '0', '2']\n",
      "['', '26', '44', 'No', 'Travel_Rarely', '528', 'Human Resources', '1', \"Bachelor's Degree\", 'Life Sciences', '1', '1683', '3', 'Female', '44', '3', '1', 'Human Resources', '4', 'Divorced', '3195', '4167', '4', 'Y', 'Yes', '18', '3', '1', '80', '3', '8', '2', '3', '2', '2', '2', '2']\n",
      "['', '62', '44', 'No', 'Travel_Rarely', '1313', 'Research & Development', '7', \"Bachelor's Degree\", 'Medical', '1', '1608', '2', 'Female', '31', '3', '5', 'Research Director', '4', 'Divorced', '19049', '3549', '0', 'Y', 'Yes', '14', '3', '4', '80', '1', '23', '4', '2', '22', '7', '1', '10']\n",
      "['', '65', '47', 'No', 'Travel_Rarely', '1001', 'Research & Development', '4', \"Bachelor's Degree\", 'Life Sciences', '1', '1827', '3', 'Female', '92', '2', '3', 'Manufacturing Director', '2', 'Divorced', '10333', '19271', '8', 'Y', 'Yes', '12', '3', '3', '80', '1', '28', '4', '3', '22', '11', '14', '10']\n",
      "['', '125', '49', 'No', 'Travel_Rarely', '464', 'Research & Development', '16', \"Bachelor's Degree\", 'Medical', '1', '1674', '4', 'Female', '74', '3', '1', 'Laboratory Technician', '1', 'Divorced', '2587', '24941', '4', 'Y', 'Yes', '16', '3', '2', '80', '1', '17', '2', '2', '2', '2', '2', '2']\n",
      "['', '27', '31', 'No', 'Travel_Rarely', '1276', 'Research & Development', '2', 'High School', 'Medical', '1', '1974', '4', 'Female', '59', '1', '1', 'Laboratory Technician', '4', 'Divorced', '1129', '17536', '1', 'Y', 'Yes', '11', '3', '3', '80', '3', '1', '4', '3', '1', '0', '0', '0']\n",
      "['', '49', '41', 'No', 'Travel_Rarely', '796', 'Sales', '4', 'High School', 'Marketing', '1', '1815', '3', 'Female', '81', '3', '3', 'Sales Executive', '3', 'Divorced', '10447', '26458', '0', 'Y', 'Yes', '13', '3', '4', '80', '1', '23', '3', '4', '22', '14', '13', '5']\n",
      "['', '83', '31', 'No', 'Travel_Rarely', '1079', 'Sales', '10', 'Associates Degree', 'Medical', '1', '1912', '3', 'Female', '86', '3', '2', 'Sales Executive', '4', 'Divorced', '6583', '20115', '2', 'Y', 'Yes', '11', '3', '4', '80', '1', '8', '2', '3', '5', '2', '1', '4']\n",
      "['', '118', '33', 'No', 'Travel_Rarely', '501', 'Research & Development', '15', 'Associates Degree', 'Medical', '1', '2009', '2', 'Female', '95', '3', '2', 'Healthcare Representative', '4', 'Married', '4878', '21653', '0', 'Y', 'Yes', '13', '3', '1', '80', '1', '10', '6', '3', '9', '7', '8', '1']\n",
      "['', '117', '40', 'No', 'Travel_Rarely', '369', 'Research & Development', '8', 'Associates Degree', 'Life Sciences', '1', '1724', '2', 'Female', '92', '3', '2', 'Manufacturing Director', '1', 'Married', '6516', '5041', '2', 'Y', 'Yes', '16', '3', '2', '80', '1', '18', '3', '3', '1', '0', '0', '0']\n",
      "['', '26', '26', 'No', 'Travel_Rarely', '482', 'Research & Development', '1', 'Associates Degree', 'Life Sciences', '1', '1893', '2', 'Female', '90', '2', '1', 'Research Scientist', '3', 'Married', '2933', '14908', '1', 'Y', 'Yes', '13', '3', '3', '80', '1', '1', '3', '2', '1', '0', '1', '0']\n",
      "['', '91', '49', 'No', 'Travel_Rarely', '465', 'Research & Development', '6', 'High School', 'Life Sciences', '1', '1661', '3', 'Female', '41', '2', '4', 'Healthcare Representative', '3', 'Married', '13966', '11652', '2', 'Y', 'Yes', '19', '3', '2', '80', '1', '30', '3', '3', '15', '11', '2', '12']\n",
      "['', '39', '44', 'No', 'Travel_Rarely', '921', 'Research & Development', '2', \"Bachelor's Degree\", 'Life Sciences', '1', '1703', '3', 'Female', '96', '4', '3', 'Healthcare Representative', '4', 'Married', '7879', '14810', '1', 'Y', 'Yes', '19', '3', '2', '80', '1', '9', '2', '3', '8', '7', '6', '7']\n",
      "['', '169', '36', 'No', 'Travel_Rarely', '559', 'Research & Development', '12', \"Master's Degree\", 'Life Sciences', '1', '1614', '3', 'Female', '76', '3', '2', 'Manufacturing Director', '3', 'Married', '4663', '12421', '9', 'Y', 'Yes', '12', '3', '2', '80', '2', '7', '2', '3', '3', '2', '1', '1']\n",
      "['', '93', '35', 'No', 'Travel_Rarely', '219', 'Research & Development', '16', 'Associates Degree', 'Other', '1', '1886', '4', 'Female', '44', '2', '2', 'Manufacturing Director', '2', 'Married', '4788', '25388', '0', 'Y', 'Yes', '11', '3', '4', '80', '0', '4', '2', '3', '3', '2', '0', '2']\n",
      "['', '27', '38', 'No', 'Travel_Rarely', '397', 'Research & Development', '2', 'Associates Degree', 'Medical', '1', '1638', '4', 'Female', '54', '2', '3', 'Manufacturing Director', '3', 'Married', '7756', '14199', '3', 'Y', 'Yes', '19', '3', '4', '80', '1', '10', '6', '4', '5', '4', '0', '2']\n",
      "['', '173', '36', 'No', 'Travel_Rarely', '1266', 'Sales', '10', \"Master's Degree\", 'Technical Degree', '1', '1880', '2', 'Female', '63', '2', '2', 'Sales Executive', '3', 'Married', '5673', '6060', '1', 'Y', 'Yes', '13', '3', '1', '80', '1', '10', '4', '3', '10', '9', '1', '7']\n",
      "['', '104', '35', 'No', 'Travel_Rarely', '1224', 'Sales', '7', \"Master's Degree\", 'Life Sciences', '1', '1962', '3', 'Female', '55', '3', '2', 'Sales Executive', '4', 'Married', '5204', '13586', '1', 'Y', 'Yes', '11', '3', '4', '80', '0', '10', '2', '3', '10', '8', '0', '9']\n",
      "['', '111', '47', 'No', 'Travel_Rarely', '571', 'Sales', '14', \"Bachelor's Degree\", 'Medical', '1', '1503', '3', 'Female', '78', '3', '2', 'Sales Executive', '3', 'Married', '4591', '24200', '3', 'Y', 'Yes', '17', '3', '3', '80', '1', '11', '4', '2', '5', '4', '1', '2']\n",
      "['', '34', '34', 'No', 'Travel_Rarely', '735', 'Sales', '3', 'High School', 'Medical', '1', '1915', '4', 'Female', '75', '2', '2', 'Sales Executive', '4', 'Married', '8103', '16495', '3', 'Y', 'Yes', '12', '3', '3', '80', '0', '9', '3', '2', '4', '2', '0', '1']\n",
      "['', '286', '58', 'No', 'Travel_Rarely', '605', 'Sales', '21', \"Bachelor's Degree\", 'Life Sciences', '1', '1938', '4', 'Female', '72', '3', '4', 'Manager', '4', 'Married', '17875', '11761', '4', 'Y', 'Yes', '13', '3', '3', '80', '1', '29', '2', '2', '1', '0', '0', '0']\n",
      "['', '41', '24', 'No', 'Travel_Rarely', '1476', 'Sales', '4', 'High School', 'Medical', '1', '1445', '4', 'Female', '42', '3', '2', 'Sales Executive', '3', 'Married', '4162', '15211', '1', 'Y', 'Yes', '12', '3', '3', '80', '2', '5', '3', '3', '5', '4', '0', '3']\n",
      "['', '351', '35', 'No', 'Travel_Rarely', '1146', 'Human Resources', '26', \"Master's Degree\", 'Life Sciences', '1', '2040', '3', 'Female', '31', '3', '3', 'Human Resources', '4', 'Single', '8837', '16642', '1', 'Y', 'Yes', '16', '3', '3', '80', '0', '9', '2', '3', '9', '0', '1', '7']\n",
      "['', '83', '35', 'No', 'Travel_Rarely', '670', 'Research & Development', '10', \"Master's Degree\", 'Medical', '1', '1587', '1', 'Female', '51', '3', '2', 'Healthcare Representative', '3', 'Single', '6142', '4223', '3', 'Y', 'Yes', '16', '3', '3', '80', '0', '10', '4', '3', '5', '2', '0', '4']\n",
      "['', '48', '45', 'No', 'Travel_Rarely', '1015', 'Research & Development', '5', 'Doctoral Degree', 'Medical', '1', '1611', '3', 'Female', '50', '1', '2', 'Laboratory Technician', '1', 'Single', '5769', '23447', '1', 'Y', 'Yes', '14', '3', '1', '80', '0', '10', '3', '3', '10', '7', '1', '4']\n",
      "['', '83', '54', 'No', 'Travel_Rarely', '157', 'Research & Development', '10', \"Bachelor's Degree\", 'Medical', '1', '1980', '3', 'Female', '77', '3', '2', 'Manufacturing Director', '1', 'Single', '4440', '25198', '6', 'Y', 'Yes', '19', '3', '4', '80', '0', '9', '3', '3', '5', '2', '1', '4']\n",
      "['', '221', '40', 'No', 'Travel_Rarely', '448', 'Research & Development', '16', \"Bachelor's Degree\", 'Life Sciences', '1', '1641', '3', 'Female', '84', '3', '3', 'Manufacturing Director', '4', 'Single', '7945', '19948', '6', 'Y', 'Yes', '15', '3', '4', '80', '0', '18', '2', '2', '4', '2', '3', '3']\n",
      "['', '40', '36', 'No', 'Travel_Rarely', '1174', 'Sales', '3', \"Master's Degree\", 'Marketing', '1', '1425', '1', 'Female', '99', '3', '2', 'Sales Executive', '2', 'Single', '9278', '20763', '3', 'Y', 'Yes', '16', '3', '4', '80', '0', '15', '3', '3', '5', '4', '0', '1']\n",
      "['', '218', '33', 'No', 'Non-Travel', '530', 'Sales', '16', \"Bachelor's Degree\", 'Life Sciences', '1', '1681', '3', 'Female', '36', '3', '2', 'Sales Executive', '4', 'Divorced', '5368', '16130', '1', 'Y', 'Yes', '25', '4', '3', '80', '1', '7', '2', '3', '6', '5', '1', '2']\n",
      "['', '17', '53', 'No', 'Non-Travel', '661', 'Research & Development', '1', \"Master's Degree\", 'Medical', '1', '1775', '1', 'Female', '60', '2', '4', 'Manufacturing Director', '3', 'Married', '12965', '22308', '4', 'Y', 'Yes', '20', '4', '4', '80', '3', '27', '2', '2', '3', '2', '0', '2']\n",
      "['', '53', '25', 'No', 'Travel_Rarely', '1382', 'Sales', '8', 'Associates Degree', 'Other', '1', '2018', '1', 'Female', '85', '3', '2', 'Sales Executive', '3', 'Divorced', '4907', '13684', '0', 'Y', 'Yes', '22', '4', '2', '80', '1', '6', '3', '2', '5', '3', '0', '4']\n",
      "['', '143', '37', 'No', 'Travel_Rarely', '161', 'Research & Development', '10', \"Bachelor's Degree\", 'Life Sciences', '1', '2017', '3', 'Female', '42', '4', '3', 'Research Director', '4', 'Married', '13744', '15471', '1', 'Y', 'Yes', '25', '4', '1', '80', '1', '16', '2', '3', '16', '11', '6', '8']\n",
      "['', '20', '58', 'No', 'Travel_Rarely', '1055', 'Research & Development', '1', \"Bachelor's Degree\", 'Medical', '1', '1423', '4', 'Female', '76', '3', '5', 'Research Director', '1', 'Married', '19701', '22456', '3', 'Y', 'Yes', '21', '4', '3', '80', '1', '32', '3', '3', '9', '8', '1', '5']\n",
      "['', '23', '36', 'No', 'Travel_Rarely', '430', 'Research & Development', '2', \"Master's Degree\", 'Other', '1', '1847', '4', 'Female', '73', '3', '2', 'Research Scientist', '2', 'Married', '6962', '19573', '4', 'Y', 'Yes', '22', '4', '4', '80', '1', '15', '2', '3', '1', '0', '0', '0']\n",
      "['', '31', '38', 'No', 'Travel_Rarely', '723', 'Sales', '2', \"Master's Degree\", 'Marketing', '1', '1835', '2', 'Female', '77', '1', '2', 'Sales Representative', '4', 'Married', '5405', '4244', '2', 'Y', 'Yes', '20', '4', '1', '80', '2', '20', '4', '2', '4', '2', '0', '3']\n",
      "['', '31', '31', 'No', 'Non-Travel', '976', 'Research & Development', '3', 'Associates Degree', 'Medical', '1', '1948', '3', 'Male', '48', '3', '1', 'Research Scientist', '1', 'Divorced', '3065', '3995', '1', 'Y', 'Yes', '13', '3', '4', '80', '1', '4', '3', '4', '4', '2', '2', '3']\n",
      "['', '114', '40', 'No', 'Non-Travel', '1142', 'Research & Development', '8', 'Associates Degree', 'Life Sciences', '1', '1552', '4', 'Male', '72', '3', '2', 'Healthcare Representative', '4', 'Divorced', '4069', '8841', '3', 'Y', 'Yes', '18', '3', '3', '80', '0', '8', '2', '3', '2', '2', '2', '2']\n",
      "['', '140', '34', 'No', 'Non-Travel', '1375', 'Sales', '10', \"Bachelor's Degree\", 'Life Sciences', '1', '1774', '4', 'Male', '87', '3', '2', 'Sales Executive', '3', 'Divorced', '4001', '12313', '1', 'Y', 'Yes', '14', '3', '3', '80', '1', '15', '3', '3', '15', '14', '0', '7']\n",
      "['', '23', '39', 'No', 'Non-Travel', '792', 'Research & Development', '1', \"Bachelor's Degree\", 'Life Sciences', '1', '1737', '4', 'Male', '77', '3', '2', 'Laboratory Technician', '4', 'Married', '6472', '8989', '1', 'Y', 'Yes', '15', '3', '4', '80', '1', '9', '2', '3', '9', '8', '5', '8']\n",
      "['', '32', '44', 'No', 'Travel_Frequently', '602', 'Human Resources', '1', 'Doctoral Degree', 'Human Resources', '1', '1642', '1', 'Male', '37', '3', '2', 'Human Resources', '4', 'Married', '5743', '10503', '4', 'Y', 'Yes', '11', '3', '3', '80', '0', '14', '3', '3', '10', '7', '0', '2']\n",
      "['', '22', '38', 'No', 'Travel_Frequently', '1444', 'Human Resources', '1', \"Master's Degree\", 'Other', '1', '1972', '4', 'Male', '88', '3', '1', 'Human Resources', '2', 'Married', '2991', '5224', '0', 'Y', 'Yes', '11', '3', '2', '80', '1', '7', '2', '3', '6', '2', '1', '2']\n",
      "['', '212', '58', 'No', 'Travel_Frequently', '1216', 'Research & Development', '15', \"Master's Degree\", 'Life Sciences', '1', '1837', '1', 'Male', '87', '3', '4', 'Research Director', '3', 'Married', '15787', '21624', '2', 'Y', 'Yes', '14', '3', '2', '80', '0', '23', '3', '3', '2', '2', '2', '2']\n",
      "['', '95', '36', 'No', 'Travel_Frequently', '1302', 'Research & Development', '6', \"Master's Degree\", 'Life Sciences', '1', '1594', '1', 'Male', '80', '4', '2', 'Laboratory Technician', '1', 'Married', '5562', '19711', '3', 'Y', 'Yes', '13', '3', '4', '80', '1', '9', '3', '3', '3', '2', '0', '2']\n",
      "['', '157', '50', 'No', 'Travel_Frequently', '1234', 'Research & Development', '20', 'Doctoral Degree', 'Medical', '1', '1606', '2', 'Male', '41', '3', '4', 'Healthcare Representative', '3', 'Married', '11245', '20689', '2', 'Y', 'Yes', '15', '3', '3', '80', '1', '32', '3', '3', '30', '8', '12', '13']\n",
      "['', '127', '34', 'No', 'Travel_Frequently', '735', 'Research & Development', '22', \"Master's Degree\", 'Other', '1', '1932', '3', 'Male', '86', '2', '2', 'Research Scientist', '4', 'Married', '5747', '26496', '1', 'Y', 'Yes', '15', '3', '2', '80', '0', '16', '3', '3', '15', '10', '6', '11']\n",
      "['', '251', '35', 'No', 'Travel_Frequently', '1199', 'Research & Development', '18', \"Master's Degree\", 'Life Sciences', '1', '2049', '3', 'Male', '80', '3', '2', 'Healthcare Representative', '3', 'Married', '5689', '24594', '1', 'Y', 'Yes', '14', '3', '4', '80', '2', '10', '2', '4', '10', '2', '0', '2']\n",
      "['', '43', '42', 'No', 'Travel_Frequently', '288', 'Research & Development', '2', \"Bachelor's Degree\", 'Life Sciences', '1', '1547', '4', 'Male', '40', '3', '3', 'Healthcare Representative', '4', 'Married', '10124', '18611', '2', 'Y', 'Yes', '14', '3', '3', '80', '1', '24', '3', '1', '20', '8', '13', '9']\n",
      "['', '30', '28', 'No', 'Travel_Frequently', '783', 'Sales', '1', 'Associates Degree', 'Life Sciences', '1', '1927', '3', 'Male', '42', '2', '2', 'Sales Executive', '4', 'Married', '6834', '19255', '1', 'Y', 'Yes', '12', '3', '3', '80', '1', '7', '2', '3', '7', '7', '0', '7']\n",
      "['', '31', '35', 'No', 'Travel_Frequently', '146', 'Research & Development', '2', \"Master's Degree\", 'Medical', '1', '1704', '1', 'Male', '79', '2', '1', 'Research Scientist', '4', 'Single', '4930', '13970', '0', 'Y', 'Yes', '14', '3', '3', '80', '0', '6', '2', '4', '5', '4', '1', '4']\n",
      "['', '31', '44', 'No', 'Travel_Frequently', '1193', 'Research & Development', '2', 'High School', 'Medical', '1', '1496', '2', 'Male', '86', '3', '3', 'Manufacturing Director', '3', 'Single', '10209', '19719', '5', 'Y', 'Yes', '18', '3', '2', '80', '0', '16', '2', '2', '2', '2', '2', '2']\n",
      "['', '171', '50', 'No', 'Travel_Frequently', '333', 'Research & Development', '22', 'Doctoral Degree', 'Medical', '1', '1539', '3', 'Male', '88', '1', '4', 'Research Director', '4', 'Single', '14411', '24450', '1', 'Y', 'Yes', '13', '3', '4', '80', '0', '32', '2', '3', '32', '6', '13', '9']\n",
      "['', '30', '29', 'No', 'Travel_Frequently', '461', 'Research & Development', '1', \"Bachelor's Degree\", 'Life Sciences', '1', '1753', '4', 'Male', '70', '4', '2', 'Healthcare Representative', '3', 'Single', '6294', '23060', '8', 'Y', 'Yes', '12', '3', '4', '80', '0', '10', '5', '4', '3', '2', '0', '2']\n",
      "['', '153', '45', 'No', 'Travel_Rarely', '1038', 'Research & Development', '20', \"Bachelor's Degree\", 'Medical', '1', '1460', '2', 'Male', '95', '1', '3', 'Healthcare Representative', '1', 'Divorced', '10851', '19863', '2', 'Y', 'Yes', '18', '3', '2', '80', '1', '24', '2', '3', '7', '7', '0', '7']\n",
      "['', '27', '46', 'No', 'Travel_Rarely', '734', 'Research & Development', '2', \"Master's Degree\", 'Medical', '1', '1789', '3', 'Male', '46', '3', '5', 'Research Director', '4', 'Divorced', '19328', '14218', '7', 'Y', 'Yes', '17', '3', '3', '80', '1', '24', '3', '3', '2', '1', '2', '2']\n",
      "['', '247', '42', 'No', 'Travel_Rarely', '557', 'Research & Development', '18', \"Master's Degree\", 'Life Sciences', '1', '1998', '4', 'Male', '35', '3', '2', 'Research Scientist', '1', 'Divorced', '5410', '11189', '6', 'Y', 'Yes', '17', '3', '3', '80', '1', '9', '3', '2', '4', '3', '1', '2']\n",
      "['', '23', '25', 'No', 'Travel_Rarely', '977', 'Research & Development', '2', 'High School', 'Other', '1', '1992', '4', 'Male', '57', '3', '1', 'Laboratory Technician', '3', 'Divorced', '3977', '7298', '6', 'Y', 'Yes', '19', '3', '3', '80', '1', '7', '2', '2', '2', '2', '0', '2']\n",
      "['', '48', '29', 'No', 'Travel_Rarely', '991', 'Sales', '5', \"Bachelor's Degree\", 'Medical', '1', '1669', '1', 'Male', '43', '2', '2', 'Sales Executive', '2', 'Divorced', '4187', '3356', '1', 'Y', 'Yes', '13', '3', '2', '80', '1', '10', '3', '2', '10', '0', '0', '9']\n",
      "['', '121', '42', 'No', 'Travel_Rarely', '419', 'Sales', '12', \"Master's Degree\", 'Marketing', '1', '1943', '2', 'Male', '77', '3', '2', 'Sales Executive', '4', 'Divorced', '5087', '2900', '3', 'Y', 'Yes', '12', '3', '3', '80', '2', '14', '4', '3', '0', '0', '0', '0']\n",
      "['', '39', '46', 'No', 'Travel_Rarely', '1277', 'Sales', '2', \"Bachelor's Degree\", 'Life Sciences', '1', '1732', '3', 'Male', '74', '3', '3', 'Sales Executive', '4', 'Divorced', '10368', '5596', '4', 'Y', 'Yes', '12', '3', '2', '80', '1', '13', '5', '2', '10', '6', '0', '3']\n",
      "['', '201.5', '55', 'No', 'Travel_Rarely', '189', 'Human Resources', '26', \"Master's Degree\", 'Human Resources', '1', '1973', '3', 'Male', '71', '4', '5', 'Manager', '2', 'Married', '19636', '25811', '4', 'Y', 'Yes', '18', '3', '1', '80', '1', '35', '0', '3', '10', '9', '1', '4']\n",
      "['', '48', '41', 'No', 'Travel_Rarely', '1283', 'Research & Development', '5', 'Doctoral Degree', 'Medical', '1', '1448', '2', 'Male', '90', '4', '1', 'Research Scientist', '3', 'Married', '2127', '5561', '2', 'Y', 'Yes', '12', '3', '1', '80', '0', '7', '5', '2', '4', '2', '0', '3']\n",
      "['', '188.5', '33', 'No', 'Travel_Rarely', '589', 'Research & Development', '28', \"Master's Degree\", 'Life Sciences', '1', '1549', '2', 'Male', '79', '3', '2', 'Laboratory Technician', '3', 'Married', '5207', '22949', '1', 'Y', 'Yes', '12', '3', '2', '80', '1', '15', '3', '3', '15', '14', '5', '7']\n",
      "['', '139', '38', 'No', 'Travel_Rarely', '833', 'Research & Development', '18', \"Bachelor's Degree\", 'Medical', '1', '1766', '2', 'Male', '60', '1', '2', 'Healthcare Representative', '4', 'Married', '5811', '24539', '3', 'Y', 'Yes', '16', '3', '3', '80', '1', '15', '2', '3', '1', '0', '1', '0']\n",
      "['', '238.5', '45', 'No', 'Travel_Rarely', '1448', 'Research & Development', '29', \"Bachelor's Degree\", 'Technical Degree', '1', '1465', '2', 'Male', '55', '3', '3', 'Manufacturing Director', '4', 'Married', '9380', '14720', '4', 'Y', 'Yes', '18', '3', '4', '80', '2', '10', '4', '4', '3', '1', '1', '2']\n",
      "['', '65', '55', 'No', 'Travel_Rarely', '1229', 'Research & Development', '4', \"Master's Degree\", 'Life Sciences', '1', '1501', '4', 'Male', '30', '3', '2', 'Healthcare Representative', '3', 'Married', '4035', '16143', '0', 'Y', 'Yes', '16', '3', '2', '80', '0', '4', '2', '3', '3', '2', '1', '2']\n",
      "['', '78', '29', 'No', 'Travel_Rarely', '1378', 'Research & Development', '13', 'Associates Degree', 'Other', '1', '2053', '4', 'Male', '46', '2', '2', 'Laboratory Technician', '2', 'Married', '4025', '23679', '4', 'Y', 'Yes', '13', '3', '1', '80', '1', '10', '2', '3', '4', '3', '0', '3']\n",
      "['', '90', '35', 'No', 'Travel_Rarely', '1490', 'Research & Development', '11', \"Master's Degree\", 'Medical', '1', '2003', '4', 'Male', '43', '3', '1', 'Laboratory Technician', '3', 'Married', '2660', '20232', '7', 'Y', 'Yes', '11', '3', '3', '80', '1', '5', '3', '3', '2', '2', '2', '2']\n",
      "['', '143', '36', 'No', 'Travel_Rarely', '1383', 'Research & Development', '10', \"Bachelor's Degree\", 'Life Sciences', '1', '1790', '4', 'Male', '90', '3', '3', 'Healthcare Representative', '1', 'Married', '8321', '25949', '7', 'Y', 'Yes', '13', '3', '4', '80', '1', '15', '1', '3', '12', '8', '5', '7']\n",
      "['', '27', '34', 'No', 'Travel_Rarely', '181', 'Research & Development', '2', \"Master's Degree\", 'Medical', '1', '1755', '4', 'Male', '97', '4', '1', 'Research Scientist', '4', 'Married', '2932', '5586', '0', 'Y', 'Yes', '14', '3', '1', '80', '3', '6', '3', '3', '5', '0', '1', '2']\n",
      "['', '94', '50', 'No', 'Travel_Rarely', '264', 'Sales', '9', \"Bachelor's Degree\", 'Marketing', '1', '1591', '3', 'Male', '59', '3', '5', 'Manager', '3', 'Married', '19331', '19519', '4', 'Y', 'Yes', '16', '3', '3', '80', '1', '27', '2', '3', '1', '0', '0', '0']\n",
      "['', '65', '34', 'No', 'Travel_Rarely', '1480', 'Sales', '4', \"Bachelor's Degree\", 'Life Sciences', '1', '1882', '3', 'Male', '64', '3', '3', 'Sales Executive', '4', 'Married', '9713', '24444', '2', 'Y', 'Yes', '13', '3', '4', '80', '3', '9', '3', '3', '5', '3', '1', '0']\n",
      "['', '29', '34', 'No', 'Travel_Rarely', '971', 'Sales', '1', \"Bachelor's Degree\", 'Technical Degree', '1', '1535', '4', 'Male', '64', '2', '3', 'Sales Executive', '3', 'Married', '7083', '12288', '1', 'Y', 'Yes', '14', '3', '4', '80', '0', '10', '3', '3', '10', '9', '8', '6']\n",
      "['', '27', '43', 'No', 'Travel_Rarely', '1179', 'Sales', '2', \"Bachelor's Degree\", 'Medical', '1', '1706', '4', 'Male', '73', '3', '2', 'Sales Executive', '4', 'Married', '7847', '6069', '1', 'Y', 'Yes', '17', '3', '1', '80', '1', '10', '3', '3', '10', '9', '8', '8']\n",
      "['', '20', '44', 'No', 'Travel_Rarely', '1037', 'Research & Development', '1', \"Bachelor's Degree\", 'Medical', '1', '2020', '2', 'Male', '42', '3', '1', 'Research Scientist', '4', 'Single', '2436', '13422', '6', 'Y', 'Yes', '12', '3', '3', '80', '0', '6', '2', '3', '4', '3', '1', '2']\n",
      "['', '34', '29', 'No', 'Travel_Rarely', '1370', 'Research & Development', '3', 'High School', 'Medical', '1', '1586', '2', 'Male', '87', '3', '1', 'Laboratory Technician', '1', 'Single', '4723', '16213', '1', 'Y', 'Yes', '18', '3', '4', '80', '0', '10', '3', '3', '10', '9', '1', '5']\n",
      "['', '117', '33', 'No', 'Travel_Rarely', '516', 'Research & Development', '8', 'Doctoral Degree', 'Life Sciences', '1', '1515', '4', 'Male', '69', '3', '2', 'Healthcare Representative', '3', 'Single', '6388', '22049', '2', 'Y', 'Yes', '17', '3', '1', '80', '0', '14', '6', '3', '0', '0', '0', '0']\n",
      "['', '48', '21', 'No', 'Travel_Rarely', '501', 'Sales', '5', 'High School', 'Medical', '1', '2021', '3', 'Male', '58', '3', '1', 'Sales Representative', '1', 'Single', '2380', '25479', '1', 'Y', 'Yes', '11', '3', '4', '80', '0', '2', '6', '3', '2', '2', '1', '2']\n",
      "['', '312', '41', 'No', 'Travel_Rarely', '1206', 'Sales', '23', 'Associates Degree', 'Life Sciences', '1', '1678', '4', 'Male', '80', '3', '3', 'Sales Executive', '3', 'Single', '7082', '11591', '3', 'Y', 'Yes', '16', '3', '4', '80', '0', '21', '2', '3', '2', '0', '0', '2']\n",
      "['', '65', '27', 'No', 'Travel_Rarely', '155', 'Research & Development', '4', \"Bachelor's Degree\", 'Life Sciences', '1', '2064', '2', 'Male', '87', '4', '2', 'Manufacturing Director', '2', 'Married', '6142', '5174', '1', 'Y', 'Yes', '20', '4', '2', '80', '1', '6', '0', '3', '6', '2', '0', '3']\n",
      "['', '62', '37', 'No', 'Travel_Rarely', '783', 'Research & Development', '7', \"Master's Degree\", 'Medical', '1', '1885', '4', 'Male', '78', '3', '2', 'Research Scientist', '1', 'Married', '4284', '13588', '5', 'Y', 'Yes', '22', '4', '3', '80', '1', '16', '2', '3', '5', '3', '0', '4']\n",
      "['', '125', '34', 'No', 'Travel_Rarely', '1440', 'Sales', '7', 'Associates Degree', 'Technical Degree', '1', '1541', '2', 'Male', '55', '3', '1', 'Sales Representative', '3', 'Married', '2308', '4944', '0', 'Y', 'Yes', '25', '4', '2', '80', '1', '12', '4', '3', '11', '10', '5', '7']\n",
      "['', '55', '40', 'No', 'Travel_Rarely', '898', 'Human Resources', '6', 'Associates Degree', 'Medical', '1', '1550', '3', 'Male', '38', '3', '4', 'Manager', '4', 'Single', '16437', '17381', '1', 'Y', 'Yes', '21', '4', '4', '80', '0', '21', '2', '3', '21', '7', '7', '7']\n",
      "['', '39', '36', 'No', 'Travel_Rarely', '1157', 'Sales', '2', \"Master's Degree\", 'Life Sciences', '1', '1556', '3', 'Male', '70', '3', '1', 'Sales Representative', '4', 'Single', '2644', '17001', '3', 'Y', 'Yes', '21', '4', '4', '80', '0', '7', '3', '2', '3', '2', '1', '2']\n",
      "['3/21/2022 12:00:00 AM', '66', '48', 'Yes', 'Travel_Frequently', '708', 'Sales', '7', 'Associates Degree', 'Medical', '1', '1691', '4', 'Female', '95', '3', '1', 'Sales Representative', '3', 'Married', '2655', '11740', '2', 'Y', 'Yes', '11', '3', '3', '80', '2', '19', '3', '3', '9', '7', '7', '7']\n",
      "['3/5/2022 12:00:00 AM', '82', '32', 'Yes', 'Travel_Frequently', '238', 'Research & Development', '5', 'Associates Degree', 'Life Sciences', '1', '1939', '1', 'Female', '47', '4', '1', 'Research Scientist', '3', 'Single', '2432', '15318', '3', 'Y', 'Yes', '14', '3', '1', '80', '0', '8', '2', '3', '4', '1', '0', '3']\n",
      "['2/28/2022 12:00:00 AM', '87', '29', 'Yes', 'Travel_Frequently', '337', 'Research & Development', '14', 'High School', 'Other', '1', '1421', '3', 'Female', '84', '3', '3', 'Healthcare Representative', '4', 'Single', '7553', '22930', '0', 'Y', 'Yes', '12', '3', '1', '80', '0', '9', '1', '3', '8', '7', '7', '7']\n",
      "['4/18/2022 12:00:00 AM', '38', '18', 'Yes', 'Travel_Frequently', '544', 'Sales', '3', 'Associates Degree', 'Medical', '1', '1624', '2', 'Female', '70', '3', '1', 'Sales Representative', '4', 'Single', '1569', '18420', '1', 'Y', 'Yes', '12', '3', '3', '80', '0', '0', '2', '4', '0', '0', '0', '0']\n",
      "['4/17/2022 12:00:00 AM', '39', '35', 'Yes', 'Travel_Rarely', '104', 'Research & Development', '2', \"Bachelor's Degree\", 'Life Sciences', '1', '1569', '1', 'Female', '69', '3', '1', 'Laboratory Technician', '1', 'Divorced', '2074', '26619', '1', 'Y', 'Yes', '12', '3', '4', '80', '1', '1', '2', '3', '1', '0', '0', '0']\n",
      "['12/24/2021 12:00:00 AM', '153', '26', 'Yes', 'Travel_Rarely', '920', 'Human Resources', '20', 'Associates Degree', 'Medical', '1', '1818', '4', 'Female', '69', '3', '1', 'Human Resources', '2', 'Married', '2148', '6889', '0', 'Y', 'Yes', '11', '3', '3', '80', '0', '6', '3', '3', '5', '1', '1', '4']\n",
      "['3/18/2022 12:00:00 AM', '69', '22', 'Yes', 'Travel_Rarely', '1294', 'Research & Development', '8', 'High School', 'Medical', '1', '1783', '3', 'Female', '79', '3', '1', 'Laboratory Technician', '1', 'Married', '2398', '15999', '1', 'Y', 'Yes', '17', '3', '3', '80', '0', '1', '6', '3', '1', '0', '0', '0']\n",
      "['1/16/2022 12:00:00 AM', '130', '28', 'Yes', 'Travel_Rarely', '1475', 'Sales', '13', 'Associates Degree', 'Marketing', '1', '1933', '4', 'Female', '84', '3', '2', 'Sales Executive', '3', 'Single', '9854', '23352', '3', 'Y', 'Yes', '11', '3', '4', '80', '0', '6', '0', '3', '2', '0', '2', '2']\n",
      "['4/20/2022 12:00:00 AM', '36', '39', 'Yes', 'Non-Travel', '592', 'Research & Development', '2', \"Bachelor's Degree\", 'Life Sciences', '1', '1458', '1', 'Female', '54', '2', '1', 'Laboratory Technician', '1', 'Single', '3646', '17181', '2', 'Y', 'Yes', '23', '4', '2', '80', '0', '11', '2', '4', '1', '0', '0', '0']\n",
      "['11/26/2021 12:00:00 AM', '181', '34', 'Yes', 'Travel_Rarely', '790', 'Sales', '24', \"Master's Degree\", 'Medical', '1', '1489', '1', 'Female', '40', '2', '2', 'Sales Executive', '2', 'Single', '4599', '7815', '0', 'Y', 'Yes', '23', '4', '3', '80', '0', '16', '2', '4', '15', '9', '10', '10']\n",
      "['10/17/2021 12:00:00 AM', '221', '33', 'Yes', 'Travel_Rarely', '211', 'Sales', '16', \"Bachelor's Degree\", 'Life Sciences', '1', '1758', '1', 'Female', '74', '3', '3', 'Sales Executive', '1', 'Single', '8564', '10092', '2', 'Y', 'Yes', '20', '4', '3', '80', '0', '11', '2', '2', '0', '0', '0', '0']\n",
      "['5/2/2022 12:00:00 AM', '24', '44', 'Yes', 'Travel_Frequently', '429', 'Research & Development', '1', 'Associates Degree', 'Medical', '1', '1792', '3', 'Male', '99', '3', '1', 'Research Scientist', '2', 'Divorced', '2342', '11092', '1', 'Y', 'Yes', '12', '3', '3', '80', '3', '6', '2', '2', '5', '3', '2', '3']\n",
      "['4/13/2022 12:00:00 AM', '43', '31', 'Yes', 'Travel_Frequently', '523', 'Research & Development', '2', \"Bachelor's Degree\", 'Life Sciences', '1', '1464', '2', 'Male', '94', '3', '1', 'Laboratory Technician', '4', 'Married', '3722', '21081', '6', 'Y', 'Yes', '13', '3', '3', '80', '1', '7', '2', '1', '2', '2', '2', '2']\n",
      "['8/10/2021 12:00:00 AM', '289', '43', 'Yes', 'Travel_Frequently', '807', 'Research & Development', '17', \"Bachelor's Degree\", 'Technical Degree', '1', '1767', '3', 'Male', '38', '2', '1', 'Research Scientist', '3', 'Married', '2437', '15587', '9', 'Y', 'Yes', '16', '3', '4', '80', '1', '6', '4', '3', '1', '0', '0', '0']\n",
      "['9/17/2021 12:00:00 AM', '251', '31', 'Yes', 'Travel_Frequently', '754', 'Sales', '26', \"Master's Degree\", 'Marketing', '1', '1967', '1', 'Male', '63', '3', '2', 'Sales Executive', '4', 'Married', '5617', '21075', '1', 'Y', 'Yes', '11', '3', '3', '80', '0', '10', '4', '3', '10', '7', '0', '8']\n",
      "['3/7/2022 12:00:00 AM', '80', '24', 'Yes', 'Travel_Frequently', '381', 'Research & Development', '9', \"Bachelor's Degree\", 'Medical', '1', '1494', '2', 'Male', '89', '3', '1', 'Laboratory Technician', '1', 'Single', '3172', '16998', '2', 'Y', 'Yes', '11', '3', '3', '80', '0', '4', '2', '2', '0', '0', '0', '0']\n",
      "['10/30/2021 12:00:00 AM', '208', '29', 'Yes', 'Travel_Rarely', '350', 'Human Resources', '13', \"Bachelor's Degree\", 'Human Resources', '1', '1844', '1', 'Male', '56', '2', '1', 'Human Resources', '1', 'Divorced', '2335', '3157', '4', 'Y', 'Yes', '15', '3', '4', '80', '3', '4', '3', '3', '2', '2', '2', '0']\n",
      "['1/28/2022 12:00:00 AM', '118', '35', 'Yes', 'Travel_Rarely', '763', 'Sales', '15', 'Associates Degree', 'Medical', '1', '1645', '1', 'Male', '59', '1', '2', 'Sales Executive', '4', 'Divorced', '5440', '22098', '6', 'Y', 'Yes', '14', '3', '4', '80', '2', '7', '2', '2', '2', '2', '2', '2']\n",
      "['1/16/2022 12:00:00 AM', '130', '36', 'Yes', 'Travel_Rarely', '1456', 'Sales', '13', 'Doctoral Degree', 'Marketing', '1', '1733', '2', 'Male', '96', '2', '2', 'Sales Executive', '1', 'Divorced', '6134', '8658', '5', 'Y', 'Yes', '13', '3', '2', '80', '3', '16', '3', '3', '2', '2', '2', '2']\n",
      "['9/3/2021 12:00:00 AM', '265', '50', 'Yes', 'Travel_Rarely', '410', 'Sales', '28', \"Bachelor's Degree\", 'Marketing', '1', '2055', '4', 'Male', '39', '2', '3', 'Sales Executive', '1', 'Divorced', '10854', '16586', '4', 'Y', 'Yes', '13', '3', '2', '80', '1', '20', '3', '3', '3', '2', '2', '0']\n",
      "['5/6/2022 12:00:00 AM', '20', '29', 'Yes', 'Travel_Rarely', '1092', 'Research & Development', '1', \"Master's Degree\", 'Medical', '1', '2027', '1', 'Male', '36', '3', '1', 'Research Scientist', '4', 'Married', '4787', '26124', '9', 'Y', 'Yes', '14', '3', '2', '80', '3', '4', '3', '4', '2', '2', '2', '2']\n",
      "['11/26/2021 12:00:00 AM', '181', '28', 'Yes', 'Travel_Rarely', '329', 'Research & Development', '24', \"Bachelor's Degree\", 'Medical', '1', '1604', '3', 'Male', '51', '3', '1', 'Laboratory Technician', '2', 'Married', '2408', '7324', '1', 'Y', 'Yes', '17', '3', '3', '80', '3', '1', '3', '3', '1', '1', '0', '0']\n",
      "['2/11/2022 12:00:00 AM', '104', '40', 'Yes', 'Travel_Rarely', '1329', 'Research & Development', '7', \"Bachelor's Degree\", 'Life Sciences', '1', '1649', '1', 'Male', '73', '3', '1', 'Laboratory Technician', '1', 'Single', '2166', '3339', '3', 'Y', 'Yes', '14', '3', '2', '80', '0', '10', '3', '1', '4', '2', '0', '3']\n",
      "['3/18/2022 12:00:00 AM', '69', '23', 'Yes', 'Travel_Rarely', '1320', 'Research & Development', '8', 'High School', 'Medical', '1', '1684', '4', 'Male', '93', '2', '1', 'Laboratory Technician', '3', 'Single', '3989', '20586', '1', 'Y', 'Yes', '11', '3', '1', '80', '0', '5', '2', '3', '5', '4', '1', '2']\n",
      "['7/5/2021 12:00:00 AM', '325', '53', 'Yes', 'Travel_Rarely', '1168', 'Sales', '24', \"Master's Degree\", 'Life Sciences', '1', '1968', '1', 'Male', '66', '3', '3', 'Sales Executive', '1', 'Single', '10448', '5843', '6', 'Y', 'Yes', '13', '3', '2', '80', '0', '15', '2', '2', '2', '2', '2', '2']\n",
      "['4/25/2022 12:00:00 AM', '31', '32', 'Yes', 'Travel_Rarely', '414', 'Sales', '2', \"Master's Degree\", 'Marketing', '1', '1862', '3', 'Male', '82', '2', '2', 'Sales Executive', '2', 'Single', '9907', '26186', '7', 'Y', 'Yes', '12', '3', '3', '80', '0', '7', '3', '2', '2', '2', '2', '2']\n",
      "['5/27/2021 12:00:00 AM', '364', '35', 'Yes', 'Travel_Rarely', '303', 'Sales', '27', \"Bachelor's Degree\", 'Life Sciences', '1', '1797', '3', 'Male', '84', '3', '2', 'Sales Executive', '4', 'Single', '5813', '13492', '1', 'Y', 'Yes', '18', '3', '4', '80', '0', '10', '2', '3', '10', '7', '7', '7']\n",
      "['9/2/2021 12:00:00 AM', '266', '34', 'Yes', 'Non-Travel', '967', 'Research & Development', '16', \"Master's Degree\", 'Technical Degree', '1', '1905', '4', 'Male', '85', '1', '1', 'Research Scientist', '1', 'Married', '2307', '14460', '1', 'Y', 'Yes', '23', '4', '2', '80', '1', '5', '2', '3', '5', '2', '3', '0']\n",
      "['7/1/2021 12:00:00 AM', '329', '29', 'Yes', 'Travel_Frequently', '459', 'Research & Development', '24', 'Associates Degree', 'Life Sciences', '1', '1868', '4', 'Male', '73', '2', '1', 'Research Scientist', '4', 'Single', '2439', '14753', '1', 'Y', 'Yes', '24', '4', '2', '80', '0', '1', '3', '2', '1', '0', '1', '0']\n",
      "['3/10/2022 12:00:00 AM', '77', '35', 'Yes', 'Travel_Frequently', '880', 'Sales', '12', \"Master's Degree\", 'Other', '1', '1667', '4', 'Male', '36', '3', '2', 'Sales Executive', '4', 'Single', '4581', '10414', '3', 'Y', 'Yes', '24', '4', '1', '80', '0', '13', '2', '4', '11', '9', '6', '7']\n",
      "['2/11/2022 12:00:00 AM', '104', '23', 'Yes', 'Travel_Rarely', '427', 'Sales', '7', \"Bachelor's Degree\", 'Life Sciences', '1', '1702', '3', 'Male', '99', '3', '1', 'Sales Representative', '4', 'Divorced', '2275', '25103', '1', 'Y', 'Yes', '21', '4', '2', '80', '1', '3', '2', '3', '3', '2', '0', '2']\n",
      "['2/11/2022 12:00:00 AM', '104', '22', 'Yes', 'Travel_Rarely', '391', 'Research & Development', '7', 'High School', 'Life Sciences', '1', '1878', '4', 'Male', '75', '3', '1', 'Research Scientist', '2', 'Single', '2472', '26092', '1', 'Y', 'Yes', '23', '4', '1', '80', '0', '1', '2', '3', '1', '0', '0', '0']\n"
     ]
    }
   ],
   "source": [
    "import csv\n",
    "import tkinter as tk\n",
    "from tkinter import filedialog\n",
    "\n",
    "def import_csv():\n",
    "    file_path = filedialog.askopenfilename(filetypes=[(\"CSV files\", \"*.csv\")])\n",
    "    if file_path:\n",
    "        try:\n",
    "            with open(file_path, newline='') as csvfile:\n",
    "                reader = csv.reader(csvfile)\n",
    "                print(\"Contents of the CSV file:\")\n",
    "                for row in reader:\n",
    "                    print(row)\n",
    "        except Exception as e:\n",
    "            print(\"An error occurred while processing the file:\", e)\n",
    "\n",
    "# Create main window\n",
    "root = tk.Tk()\n",
    "root.title(\"CSV File Importer\")\n",
    "\n",
    "# Create a button to import CSV file\n",
    "button = tk.Button(root, text=\"Import CSV File\", command=import_csv)\n",
    "button.pack(pady=20)\n",
    "\n",
    "# Run the main event loop\n",
    "root.mainloop()\n"
   ]
  },
  {
   "cell_type": "code",
   "execution_count": null,
   "metadata": {},
   "outputs": [],
   "source": []
  }
 ],
 "metadata": {
  "colab": {
   "provenance": []
  },
  "kernelspec": {
   "display_name": "Python 3 (ipykernel)",
   "language": "python",
   "name": "python3"
  },
  "language_info": {
   "codemirror_mode": {
    "name": "ipython",
    "version": 3
   },
   "file_extension": ".py",
   "mimetype": "text/x-python",
   "name": "python",
   "nbconvert_exporter": "python",
   "pygments_lexer": "ipython3",
   "version": "3.11.5"
  }
 },
 "nbformat": 4,
 "nbformat_minor": 1
}
