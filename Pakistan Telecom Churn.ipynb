{
 "cells": [
  {
   "cell_type": "markdown",
   "metadata": {
    "id": "vATgrm7I7VLW"
   },
   "source": [
    "# **Understanding and Addressing Customer Churn in Telecom**\n",
    "\n",
    "**Customer churn**, the discontinuation of services by clients or subscribers, poses a **significant challenge** in the telecom industry. Amidst fierce competition and ever-expanding options for consumers, **accurately predicting** and **addressing churn** has become a **top priority** for telecom firms.\n",
    "\n",
    "**Understanding the intricacies** of why customers leave is **paramount**. By delving into **customer behavior** and **engagement patterns**, telecom companies can uncover **valuable insights** that inform **proactive strategies** aimed at **retaining customers** and **sustaining profitability**.\n",
    "\n",
    "**Strategic retention efforts** not only **preserve revenue streams** but also **enhance customer loyalty** and **market share**. By **prioritizing customer satisfaction** and **loyalty**, telecom companies can foster **long-term relationships** and **sustainable growth** in an ever-evolving market landscape.\n"
   ]
  },
  {
   "cell_type": "markdown",
   "metadata": {},
   "source": [
    "# **Importing Libraries and Data**"
   ]
  },
  {
   "cell_type": "code",
   "execution_count": 24,
   "metadata": {},
   "outputs": [],
   "source": [
    "import pandas as pd\n",
    "import matplotlib.pyplot as plt\n",
    "import seaborn as sns\n",
    "import plotly.express as px\n",
    "import scipy.stats as stats\n",
    "import numpy as np\n",
    "from sklearn import tree\n",
    "from category_encoders import BinaryEncoder \n",
    "\n",
    "from sklearn.model_selection import train_test_split\n",
    "from sklearn.pipeline import Pipeline\n",
    "from sklearn.preprocessing import LabelEncoder\n",
    "from sklearn.model_selection import cross_val_score\n",
    "from sklearn.tree import DecisionTreeClassifier\n",
    "from sklearn.ensemble import RandomForestClassifier\n",
    "from sklearn.naive_bayes import BernoulliNB\n",
    "from sklearn.linear_model import LogisticRegression\n",
    "from sklearn.svm import SVC\n",
    "from sklearn.cluster import KMeans\n",
    "\n",
    "\n",
    "from IPython.display import HTML\n",
    "import warnings"
   ]
  },
  {
   "cell_type": "code",
   "execution_count": 25,
   "metadata": {
    "id": "RcxTK94B7bcB"
   },
   "outputs": [],
   "source": [
    "df = pd.read_excel('Pakistan-Telecom-Dataset.xlsx')"
   ]
  },
  {
   "cell_type": "markdown",
   "metadata": {},
   "source": [
    "# **Exploring the Data**\n",
    "\n",
    "### Churn Analysis\n",
    "\n",
    "The dataset includes information on customers who left, commonly referred to as **Churn**. Analyzing churn is crucial for understanding customer retention and satisfaction.\n",
    "\n",
    "**Churn Yes**: This indicates that the customer has churned, meaning they have *stopped using* the product or service, *terminated* their subscription, or *ceased* their engagement with the business.\n",
    "\n",
    "**Churn No**: This indicates that the customer has *not churned* and is still *active*, meaning they *continue to use* the product or service, *maintain* their subscription, or *remain engaged* with the business.\n",
    "\n",
    "Understanding customers' preferences and the factors influencing their attraction to the platform is essential for targeted marketing and service improvements.\n",
    "\n",
    "- **Source of Attraction**: Indicates how the customer was attracted to the platform (e.g., advertisement, referral, organic search).\n",
    "- **Preferences**: Insights into customer preferences, such as are they pleased with prices, services, or etc.\n",
    "\n",
    "By analyzing these aspects, we aim to gain deeper insights into customer behavior, improve retention strategies, and enhance overall customer satisfaction.\n"
   ]
  },
  {
   "cell_type": "code",
   "execution_count": 26,
   "metadata": {
    "colab": {
     "base_uri": "https://localhost:8080/",
     "height": 313
    },
    "id": "DxRE9rmk7dRT",
    "outputId": "7b489580-7d4e-4175-d1c8-8061ad6d52ee"
   },
   "outputs": [
    {
     "data": {
      "text/html": [
       "<div>\n",
       "<style scoped>\n",
       "    .dataframe tbody tr th:only-of-type {\n",
       "        vertical-align: middle;\n",
       "    }\n",
       "\n",
       "    .dataframe tbody tr th {\n",
       "        vertical-align: top;\n",
       "    }\n",
       "\n",
       "    .dataframe thead th {\n",
       "        text-align: right;\n",
       "    }\n",
       "</style>\n",
       "<table border=\"1\" class=\"dataframe\">\n",
       "  <thead>\n",
       "    <tr style=\"text-align: right;\">\n",
       "      <th></th>\n",
       "      <th>Gender</th>\n",
       "      <th>Churn</th>\n",
       "      <th>Network</th>\n",
       "      <th>relation_durattion</th>\n",
       "      <th>service_type</th>\n",
       "      <th>source_of_attraction</th>\n",
       "      <th>prferred_communication</th>\n",
       "      <th>satisfy_with_call_rate</th>\n",
       "      <th>contact_with_cust_care</th>\n",
       "      <th>rate_of_cust_care_calling</th>\n",
       "      <th>reascon_of_contact_cc</th>\n",
       "      <th>monthly_usage_rs</th>\n",
       "      <th>Happy_with_intrnet_quality</th>\n",
       "      <th>4G_available</th>\n",
       "      <th>satisfy_with_voice_quality</th>\n",
       "      <th>satisfy_with_signal_strength</th>\n",
       "      <th>pleaseed_with_prices</th>\n",
       "      <th>satisfy_with_billing_process</th>\n",
       "      <th>recommend_to_others</th>\n",
       "    </tr>\n",
       "  </thead>\n",
       "  <tbody>\n",
       "    <tr>\n",
       "      <th>0</th>\n",
       "      <td>Female</td>\n",
       "      <td>No</td>\n",
       "      <td>Jazz / Warid</td>\n",
       "      <td>More than one year</td>\n",
       "      <td>Pre Paid</td>\n",
       "      <td>Advertisement</td>\n",
       "      <td>messages</td>\n",
       "      <td>Yes</td>\n",
       "      <td>No</td>\n",
       "      <td>rarely</td>\n",
       "      <td>Complaints</td>\n",
       "      <td>800</td>\n",
       "      <td>Yes</td>\n",
       "      <td>Yes</td>\n",
       "      <td>Yes</td>\n",
       "      <td>Yes</td>\n",
       "      <td>Yes</td>\n",
       "      <td>Yes</td>\n",
       "      <td>Yes</td>\n",
       "    </tr>\n",
       "    <tr>\n",
       "      <th>1</th>\n",
       "      <td>Female</td>\n",
       "      <td>No</td>\n",
       "      <td>Jazz / Warid</td>\n",
       "      <td>More than one year</td>\n",
       "      <td>Pre Paid</td>\n",
       "      <td>Others</td>\n",
       "      <td>Audio calling</td>\n",
       "      <td>No</td>\n",
       "      <td>Yes</td>\n",
       "      <td>rarely</td>\n",
       "      <td>Complaints</td>\n",
       "      <td>500</td>\n",
       "      <td>No</td>\n",
       "      <td>Yes</td>\n",
       "      <td>Yes</td>\n",
       "      <td>Yes</td>\n",
       "      <td>No</td>\n",
       "      <td>No</td>\n",
       "      <td>No</td>\n",
       "    </tr>\n",
       "    <tr>\n",
       "      <th>2</th>\n",
       "      <td>Male</td>\n",
       "      <td>No</td>\n",
       "      <td>Jazz / Warid</td>\n",
       "      <td>More than one year</td>\n",
       "      <td>Pre Paid</td>\n",
       "      <td>Advertisement</td>\n",
       "      <td>Audio calling</td>\n",
       "      <td>No</td>\n",
       "      <td>Yes</td>\n",
       "      <td>rarely</td>\n",
       "      <td>Complaints</td>\n",
       "      <td>500</td>\n",
       "      <td>Yes</td>\n",
       "      <td>Yes</td>\n",
       "      <td>No</td>\n",
       "      <td>No</td>\n",
       "      <td>No</td>\n",
       "      <td>Yes</td>\n",
       "      <td>Yes</td>\n",
       "    </tr>\n",
       "    <tr>\n",
       "      <th>3</th>\n",
       "      <td>Female</td>\n",
       "      <td>No</td>\n",
       "      <td>Jazz / Warid</td>\n",
       "      <td>More than one year</td>\n",
       "      <td>Pre Paid</td>\n",
       "      <td>Advertisement</td>\n",
       "      <td>messages</td>\n",
       "      <td>Yes</td>\n",
       "      <td>No</td>\n",
       "      <td>rarely</td>\n",
       "      <td>Information regarding new schemes</td>\n",
       "      <td>300</td>\n",
       "      <td>Yes</td>\n",
       "      <td>Yes</td>\n",
       "      <td>Yes</td>\n",
       "      <td>Yes</td>\n",
       "      <td>Yes</td>\n",
       "      <td>No</td>\n",
       "      <td>Yes</td>\n",
       "    </tr>\n",
       "    <tr>\n",
       "      <th>4</th>\n",
       "      <td>Male</td>\n",
       "      <td>No</td>\n",
       "      <td>Jazz / Warid</td>\n",
       "      <td>More than one year</td>\n",
       "      <td>Pre Paid</td>\n",
       "      <td>Face book</td>\n",
       "      <td>Audio calling</td>\n",
       "      <td>Yes</td>\n",
       "      <td>Yes</td>\n",
       "      <td>rarely</td>\n",
       "      <td>Complaints</td>\n",
       "      <td>800</td>\n",
       "      <td>Yes</td>\n",
       "      <td>Yes</td>\n",
       "      <td>Yes</td>\n",
       "      <td>Yes</td>\n",
       "      <td>No</td>\n",
       "      <td>No</td>\n",
       "      <td>Yes</td>\n",
       "    </tr>\n",
       "  </tbody>\n",
       "</table>\n",
       "</div>"
      ],
      "text/plain": [
       "   Gender Churn       Network  relation_durattion service_type  \\\n",
       "0  Female    No  Jazz / Warid  More than one year     Pre Paid   \n",
       "1  Female    No  Jazz / Warid  More than one year     Pre Paid   \n",
       "2    Male    No  Jazz / Warid  More than one year     Pre Paid   \n",
       "3  Female    No  Jazz / Warid  More than one year     Pre Paid   \n",
       "4    Male    No  Jazz / Warid  More than one year     Pre Paid   \n",
       "\n",
       "  source_of_attraction prferred_communication satisfy_with_call_rate  \\\n",
       "0        Advertisement               messages                    Yes   \n",
       "1               Others          Audio calling                     No   \n",
       "2        Advertisement          Audio calling                     No   \n",
       "3        Advertisement               messages                    Yes   \n",
       "4            Face book          Audio calling                    Yes   \n",
       "\n",
       "  contact_with_cust_care rate_of_cust_care_calling  \\\n",
       "0                     No                    rarely   \n",
       "1                    Yes                    rarely   \n",
       "2                    Yes                    rarely   \n",
       "3                     No                    rarely   \n",
       "4                    Yes                    rarely   \n",
       "\n",
       "               reascon_of_contact_cc  monthly_usage_rs  \\\n",
       "0                         Complaints               800   \n",
       "1                         Complaints               500   \n",
       "2                         Complaints               500   \n",
       "3  Information regarding new schemes               300   \n",
       "4                         Complaints               800   \n",
       "\n",
       "  Happy_with_intrnet_quality 4G_available satisfy_with_voice_quality  \\\n",
       "0                        Yes          Yes                        Yes   \n",
       "1                         No          Yes                        Yes   \n",
       "2                        Yes          Yes                         No   \n",
       "3                        Yes          Yes                        Yes   \n",
       "4                        Yes          Yes                        Yes   \n",
       "\n",
       "  satisfy_with_signal_strength pleaseed_with_prices  \\\n",
       "0                          Yes                  Yes   \n",
       "1                          Yes                   No   \n",
       "2                           No                   No   \n",
       "3                          Yes                  Yes   \n",
       "4                          Yes                   No   \n",
       "\n",
       "  satisfy_with_billing_process recommend_to_others  \n",
       "0                          Yes                 Yes  \n",
       "1                           No                  No  \n",
       "2                          Yes                 Yes  \n",
       "3                           No                 Yes  \n",
       "4                           No                 Yes  "
      ]
     },
     "execution_count": 26,
     "metadata": {},
     "output_type": "execute_result"
    }
   ],
   "source": [
    "df.head()\n",
    "# \"Churn: Yes\"  mean that the user has discontinued or unsubscribed.\n",
    "# \"Churn: No\" mean that the user is still subscribed or has not discontinued."
   ]
  },
  {
   "cell_type": "code",
   "execution_count": 27,
   "metadata": {
    "colab": {
     "base_uri": "https://localhost:8080/"
    },
    "id": "Gioh1nfZ7-oE",
    "outputId": "517431b0-c443-49e0-be40-9986c2176745"
   },
   "outputs": [
    {
     "data": {
      "text/plain": [
       "array(['Jazz / Warid', 'Zong', 'Ufone', 'Telenor'], dtype=object)"
      ]
     },
     "execution_count": 27,
     "metadata": {},
     "output_type": "execute_result"
    }
   ],
   "source": [
    "df['Network'].unique()"
   ]
  },
  {
   "cell_type": "code",
   "execution_count": 28,
   "metadata": {
    "colab": {
     "base_uri": "https://localhost:8080/"
    },
    "id": "v9T5JoFY8BFe",
    "outputId": "c9fc9638-e1e8-405b-9a45-976ebb4ff770"
   },
   "outputs": [
    {
     "data": {
      "text/plain": [
       "Gender                          0\n",
       "Churn                           0\n",
       "Network                         0\n",
       "relation_durattion              0\n",
       "service_type                    0\n",
       "source_of_attraction            0\n",
       "prferred_communication          0\n",
       "satisfy_with_call_rate          0\n",
       "contact_with_cust_care          0\n",
       "rate_of_cust_care_calling       0\n",
       "reascon_of_contact_cc           0\n",
       "monthly_usage_rs                0\n",
       "Happy_with_intrnet_quality      0\n",
       "4G_available                    0\n",
       "satisfy_with_voice_quality      0\n",
       "satisfy_with_signal_strength    0\n",
       "pleaseed_with_prices            0\n",
       "satisfy_with_billing_process    0\n",
       "recommend_to_others             0\n",
       "dtype: int64"
      ]
     },
     "execution_count": 28,
     "metadata": {},
     "output_type": "execute_result"
    }
   ],
   "source": [
    "df.isnull().sum()"
   ]
  },
  {
   "cell_type": "code",
   "execution_count": 29,
   "metadata": {
    "colab": {
     "base_uri": "https://localhost:8080/"
    },
    "id": "fcAeIsyb8ChI",
    "outputId": "1ab210d7-bc0f-4ac8-f9e3-402218ba5d64"
   },
   "outputs": [
    {
     "data": {
      "text/plain": [
       "(9760, 19)"
      ]
     },
     "execution_count": 29,
     "metadata": {},
     "output_type": "execute_result"
    }
   ],
   "source": [
    "df.shape"
   ]
  },
  {
   "cell_type": "code",
   "execution_count": 30,
   "metadata": {
    "colab": {
     "base_uri": "https://localhost:8080/"
    },
    "id": "mHyuR-2j8D2v",
    "outputId": "2d650bf9-d142-45d5-bd06-5e11276d1427"
   },
   "outputs": [
    {
     "data": {
      "text/plain": [
       "Index(['Gender', 'Churn', 'Network', 'relation_durattion', 'service_type',\n",
       "       'source_of_attraction', 'prferred_communication',\n",
       "       'satisfy_with_call_rate', 'contact_with_cust_care',\n",
       "       'rate_of_cust_care_calling', 'reascon_of_contact_cc',\n",
       "       'monthly_usage_rs', 'Happy_with_intrnet_quality', '4G_available',\n",
       "       'satisfy_with_voice_quality', 'satisfy_with_signal_strength',\n",
       "       'pleaseed_with_prices', 'satisfy_with_billing_process',\n",
       "       'recommend_to_others'],\n",
       "      dtype='object')"
      ]
     },
     "execution_count": 30,
     "metadata": {},
     "output_type": "execute_result"
    }
   ],
   "source": [
    "df.columns"
   ]
  },
  {
   "cell_type": "markdown",
   "metadata": {
    "id": "tNRBOX5o8Kb3"
   },
   "source": [
    "# **Correlation between Categorical Values**\n",
    "\n",
    "**Correlation** is a statistical measure that describes the extent to which two variables change together. There are several types of correlation, each indicating a different relationship between the variables. The most common types of correlation include:\n",
    "\n",
    "**Correlation** is a statistical measure that describes the extent to which two variables change together. There are several types of correlation, each indicating a different relationship between the variables. The most common types of correlation include:\n",
    "\n",
    "**Pearson Correlation Coefficient (r):**\n",
    "  - Measures the linear relationship between two continuous variables.\n",
    "  - Values range from **-1 to 1**, where\n",
    "    - **1** indicates a perfect positive linear relationship,\n",
    "    - **-1** indicates a perfect negative linear relationship\n",
    "    - **0** indicates no linear relationship.\n",
    "  - Assumes that the variables are **normally distributed**.\n",
    "\n",
    "**Spearman's Rank Correlation Coefficient (ρ or rs):**\n",
    "  - Measures the strength and direction of the **monotonic relationship** between two variables.\n",
    "  - Particularly useful when dealing with **ordinal or ranked data**.\n",
    "  - Does not assume **linearity** and is less sensitive to **outliers** than Pearson correlation.\n",
    "\n",
    "**Kendall's Tau (τ):**\n",
    "  - Similar to Spearman's correlation, Kendall's tau measures the strength and direction of a **monotonic relationship**.\n",
    "  - It is based on the count of **concordant and discordant pairs** of data points.\n",
    "  - Often considered more robust to **outliers** than Pearson correlation.\n",
    "\n",
    "**Point-Biserial Correlation Coefficient:**\n",
    "  - Measures the relationship between a **binary variable** and a **continuous variable**.\n",
    "  - It is an extension of the Pearson correlation coefficient adapted for situations where one variable is **dichotomous**.\n",
    "\n",
    "**Phi Coefficient (φ):**\n",
    "  - Similar to the point-biserial correlation but used when both variables are **binary**.\n",
    "  - Suitable for analyzing the association between two **dichotomous variables**.\n",
    "\n",
    "**Cramér's V:**\n",
    "  - Used to measure the association between two **nominal variables**.\n",
    "  - Values range from **0 to 1**, where **0** indicates no association, and **1** indicates a perfect association.\n",
    "\n",
    "\n",
    "It's important to note that **correlation does not imply causation**. Even if two variables are correlated, it does not necessarily mean that one variable causes the other to change. Correlation only measures the strength and direction of the relationship between two variables."
   ]
  },
  {
   "cell_type": "code",
   "execution_count": 31,
   "metadata": {
    "colab": {
     "base_uri": "https://localhost:8080/"
    },
    "id": "IO2ec5yo8Ez6",
    "outputId": "5bbd2f7c-f4d2-477a-a75f-44f2243942e0"
   },
   "outputs": [
    {
     "data": {
      "text/plain": [
       "array([0, 0, 0, ..., 0, 0, 0])"
      ]
     },
     "execution_count": 31,
     "metadata": {},
     "output_type": "execute_result"
    }
   ],
   "source": [
    "le = LabelEncoder()\n",
    "le.fit_transform(df['Churn'])"
   ]
  },
  {
   "cell_type": "code",
   "execution_count": 32,
   "metadata": {
    "id": "4-B3aA0i8G8M"
   },
   "outputs": [],
   "source": [
    "def cramers_v(confusion_matrix):\n",
    "    chi2 = stats.chi2_contingency(confusion_matrix)[0]\n",
    "    n = confusion_matrix.sum().sum()\n",
    "    phi2 = chi2 / n\n",
    "    r, k = confusion_matrix.shape\n",
    "    phi2corr = max(0, phi2 - ((k-1)*(r-1))/(n-1))\n",
    "    rcorr = r - ((r-1)**2)/(n-1)\n",
    "    kcorr = k - ((k-1)**2)/(n-1)\n",
    "    return np.sqrt(phi2corr / min((kcorr-1), (rcorr-1)))"
   ]
  },
  {
   "cell_type": "code",
   "execution_count": 33,
   "metadata": {
    "colab": {
     "base_uri": "https://localhost:8080/",
     "height": 613
    },
    "id": "msp5ngTy8NEZ",
    "outputId": "afb26566-2890-413d-b993-34ffb2129c55"
   },
   "outputs": [
    {
     "data": {
      "text/html": [
       "<div>\n",
       "<style scoped>\n",
       "    .dataframe tbody tr th:only-of-type {\n",
       "        vertical-align: middle;\n",
       "    }\n",
       "\n",
       "    .dataframe tbody tr th {\n",
       "        vertical-align: top;\n",
       "    }\n",
       "\n",
       "    .dataframe thead th {\n",
       "        text-align: right;\n",
       "    }\n",
       "</style>\n",
       "<table border=\"1\" class=\"dataframe\">\n",
       "  <thead>\n",
       "    <tr style=\"text-align: right;\">\n",
       "      <th></th>\n",
       "      <th>Feature</th>\n",
       "      <th>Correlation with Churn</th>\n",
       "    </tr>\n",
       "  </thead>\n",
       "  <tbody>\n",
       "    <tr>\n",
       "      <th>0</th>\n",
       "      <td>Gender</td>\n",
       "      <td>0.238071</td>\n",
       "    </tr>\n",
       "    <tr>\n",
       "      <th>1</th>\n",
       "      <td>Network</td>\n",
       "      <td>0.189057</td>\n",
       "    </tr>\n",
       "    <tr>\n",
       "      <th>2</th>\n",
       "      <td>relation_durattion</td>\n",
       "      <td>0.109199</td>\n",
       "    </tr>\n",
       "    <tr>\n",
       "      <th>3</th>\n",
       "      <td>service_type</td>\n",
       "      <td>0.016594</td>\n",
       "    </tr>\n",
       "    <tr>\n",
       "      <th>4</th>\n",
       "      <td>source_of_attraction</td>\n",
       "      <td>0.181621</td>\n",
       "    </tr>\n",
       "    <tr>\n",
       "      <th>5</th>\n",
       "      <td>prferred_communication</td>\n",
       "      <td>0.072417</td>\n",
       "    </tr>\n",
       "    <tr>\n",
       "      <th>6</th>\n",
       "      <td>satisfy_with_call_rate</td>\n",
       "      <td>0.320335</td>\n",
       "    </tr>\n",
       "    <tr>\n",
       "      <th>7</th>\n",
       "      <td>contact_with_cust_care</td>\n",
       "      <td>0.098532</td>\n",
       "    </tr>\n",
       "    <tr>\n",
       "      <th>8</th>\n",
       "      <td>rate_of_cust_care_calling</td>\n",
       "      <td>0.118695</td>\n",
       "    </tr>\n",
       "    <tr>\n",
       "      <th>9</th>\n",
       "      <td>reascon_of_contact_cc</td>\n",
       "      <td>0.350315</td>\n",
       "    </tr>\n",
       "    <tr>\n",
       "      <th>10</th>\n",
       "      <td>monthly_usage_rs</td>\n",
       "      <td>0.094451</td>\n",
       "    </tr>\n",
       "    <tr>\n",
       "      <th>11</th>\n",
       "      <td>Happy_with_intrnet_quality</td>\n",
       "      <td>0.537400</td>\n",
       "    </tr>\n",
       "    <tr>\n",
       "      <th>12</th>\n",
       "      <td>4G_available</td>\n",
       "      <td>0.079311</td>\n",
       "    </tr>\n",
       "    <tr>\n",
       "      <th>13</th>\n",
       "      <td>satisfy_with_voice_quality</td>\n",
       "      <td>0.455543</td>\n",
       "    </tr>\n",
       "    <tr>\n",
       "      <th>14</th>\n",
       "      <td>satisfy_with_signal_strength</td>\n",
       "      <td>0.488177</td>\n",
       "    </tr>\n",
       "    <tr>\n",
       "      <th>15</th>\n",
       "      <td>pleaseed_with_prices</td>\n",
       "      <td>0.230859</td>\n",
       "    </tr>\n",
       "    <tr>\n",
       "      <th>16</th>\n",
       "      <td>satisfy_with_billing_process</td>\n",
       "      <td>0.187639</td>\n",
       "    </tr>\n",
       "    <tr>\n",
       "      <th>17</th>\n",
       "      <td>recommend_to_others</td>\n",
       "      <td>0.219920</td>\n",
       "    </tr>\n",
       "  </tbody>\n",
       "</table>\n",
       "</div>"
      ],
      "text/plain": [
       "                         Feature  Correlation with Churn\n",
       "0                         Gender                0.238071\n",
       "1                        Network                0.189057\n",
       "2             relation_durattion                0.109199\n",
       "3                   service_type                0.016594\n",
       "4           source_of_attraction                0.181621\n",
       "5         prferred_communication                0.072417\n",
       "6         satisfy_with_call_rate                0.320335\n",
       "7         contact_with_cust_care                0.098532\n",
       "8      rate_of_cust_care_calling                0.118695\n",
       "9          reascon_of_contact_cc                0.350315\n",
       "10              monthly_usage_rs                0.094451\n",
       "11    Happy_with_intrnet_quality                0.537400\n",
       "12                  4G_available                0.079311\n",
       "13    satisfy_with_voice_quality                0.455543\n",
       "14  satisfy_with_signal_strength                0.488177\n",
       "15          pleaseed_with_prices                0.230859\n",
       "16  satisfy_with_billing_process                0.187639\n",
       "17           recommend_to_others                0.219920"
      ]
     },
     "execution_count": 33,
     "metadata": {},
     "output_type": "execute_result"
    }
   ],
   "source": [
    "df_cor = []\n",
    "for i in df.columns:\n",
    "    if i != 'Churn':\n",
    "        contingency_table = pd.crosstab(df['Churn'], df[i]).values\n",
    "        cramers_v_value = cramers_v(contingency_table)\n",
    "        df_cor.append((i,cramers_v_value))\n",
    "df_cor =  pd.DataFrame(df_cor, columns=['Feature', 'Correlation with Churn'])\n",
    "df_cor"
   ]
  },
  {
   "cell_type": "markdown",
   "metadata": {
    "id": "nCDG6X4n8Spv"
   },
   "source": [
    "# **Obtaining Different Networks Data**"
   ]
  },
  {
   "cell_type": "code",
   "execution_count": 34,
   "metadata": {
    "id": "e91XK9D88TIb"
   },
   "outputs": [],
   "source": [
    "df_updated = df.groupby('Network')"
   ]
  },
  {
   "cell_type": "code",
   "execution_count": 35,
   "metadata": {
    "id": "Febb3UUT9zHJ"
   },
   "outputs": [],
   "source": [
    "df_jazz = df_updated.get_group('Jazz / Warid')\n",
    "df_telenor = df_updated.get_group('Telenor')\n",
    "df_ufone = df_updated.get_group('Ufone')\n",
    "df_zong = df_updated.get_group('Zong')"
   ]
  },
  {
   "cell_type": "markdown",
   "metadata": {},
   "source": [
    "# **Dashboard prepared in PowerBI**"
   ]
  },
  {
   "cell_type": "code",
   "execution_count": 36,
   "metadata": {
    "colab": {
     "base_uri": "https://localhost:8080/",
     "height": 693
    },
    "id": "_p7q6qVX91Kg",
    "outputId": "c82c5cd1-beb8-47f2-ea7c-43e267cc34c7"
   },
   "outputs": [
    {
     "name": "stderr",
     "output_type": "stream",
     "text": [
      "C:\\ProgramData\\anaconda3\\Lib\\site-packages\\IPython\\core\\display.py:431: UserWarning:\n",
      "\n",
      "Consider using IPython.display.IFrame instead\n",
      "\n"
     ]
    },
    {
     "data": {
      "text/html": [
       "<iframe width=\"800\" height=\"600\" src=\"https://app.powerbi.com/view?r=eyJrIjoiMDY1MzJjMWItOGU1NS00MjZhLWFkYzAtMDE5YjgyYzNlNWEyIiwidCI6IjViNzNkYWY5LTEyNWItNDZiNy1hY2ZmLTNkNjY2YmY5NGIwOSIsImMiOjl9\" frameborder=\"0\" allowFullScreen=\"true\"></iframe>"
      ],
      "text/plain": [
       "<IPython.core.display.HTML object>"
      ]
     },
     "execution_count": 36,
     "metadata": {},
     "output_type": "execute_result"
    }
   ],
   "source": [
    "dashboard_link = \"https://app.powerbi.com/view?r=eyJrIjoiMDY1MzJjMWItOGU1NS00MjZhLWFkYzAtMDE5YjgyYzNlNWEyIiwidCI6IjViNzNkYWY5LTEyNWItNDZiNy1hY2ZmLTNkNjY2YmY5NGIwOSIsImMiOjl9\"\n",
    "embed_code = f'<iframe width=\"800\" height=\"600\" src=\"{dashboard_link}\" frameborder=\"0\" allowFullScreen=\"true\"></iframe>'\n",
    "HTML(embed_code)"
   ]
  },
  {
   "cell_type": "markdown",
   "metadata": {},
   "source": [
    "# **Preparing Data for Visualization**"
   ]
  },
  {
   "cell_type": "code",
   "execution_count": 37,
   "metadata": {
    "id": "7vRFDUUY-Du9"
   },
   "outputs": [],
   "source": [
    "Network = ['Jazz / Warid', 'Zong', 'Ufone', 'Telenor']\n",
    "\n",
    "count_rare = [\n",
    "    (df_jazz['rate_of_cust_care_calling'] == 'rarely').value_counts().get(True, 0),\n",
    "    (df_zong['rate_of_cust_care_calling'] == 'rarely').value_counts().get(True, 0),\n",
    "    (df_ufone['rate_of_cust_care_calling'] == 'rarely').value_counts().get(True, 0),\n",
    "    (df_telenor['rate_of_cust_care_calling'] == 'rarely').value_counts().get(True, 0)\n",
    "]\n",
    "\n",
    "count_year = [\n",
    "    (df_jazz['rate_of_cust_care_calling'] == 'Once in a year').value_counts().get(True, 0),\n",
    "    (df_zong['rate_of_cust_care_calling'] == 'Once in a year').value_counts().get(True, 0),\n",
    "    (df_ufone['rate_of_cust_care_calling'] == 'Once in a year').value_counts().get(True, 0),\n",
    "    (df_telenor['rate_of_cust_care_calling'] == 'Once in a year').value_counts().get(True, 0)\n",
    "]\n",
    "\n",
    "count_month = [\n",
    "    (df_jazz['rate_of_cust_care_calling'] == 'Once in a Month').value_counts().get(True, 0),\n",
    "    (df_zong['rate_of_cust_care_calling'] == 'Once in a Month').value_counts().get(True, 0),\n",
    "    (df_ufone['rate_of_cust_care_calling'] == 'Once in a Month').value_counts().get(True, 0),\n",
    "    (df_telenor['rate_of_cust_care_calling'] == 'Once in a Month').value_counts().get(True, 0)\n",
    "]\n",
    "\n",
    "count_week = [\n",
    "    (df_jazz['rate_of_cust_care_calling'] == 'Once in a Week').value_counts().get(True, 0),\n",
    "    (df_zong['rate_of_cust_care_calling'] == 'Once in a Week').value_counts().get(True, 0),\n",
    "    (df_ufone['rate_of_cust_care_calling'] == 'Once in a Week').value_counts().get(True, 0),\n",
    "    (df_telenor['rate_of_cust_care_calling'] == 'Once in a Week').value_counts().get(True, 0)\n",
    "]"
   ]
  },
  {
   "cell_type": "code",
   "execution_count": 38,
   "metadata": {
    "colab": {
     "base_uri": "https://localhost:8080/",
     "height": 175
    },
    "id": "D6_t6DSF-GuS",
    "outputId": "ad23b4b0-ffe8-4bb3-80ec-70685cc336eb"
   },
   "outputs": [
    {
     "data": {
      "text/html": [
       "<div>\n",
       "<style scoped>\n",
       "    .dataframe tbody tr th:only-of-type {\n",
       "        vertical-align: middle;\n",
       "    }\n",
       "\n",
       "    .dataframe tbody tr th {\n",
       "        vertical-align: top;\n",
       "    }\n",
       "\n",
       "    .dataframe thead th {\n",
       "        text-align: right;\n",
       "    }\n",
       "</style>\n",
       "<table border=\"1\" class=\"dataframe\">\n",
       "  <thead>\n",
       "    <tr style=\"text-align: right;\">\n",
       "      <th></th>\n",
       "      <th>Network</th>\n",
       "      <th>Rare (Count)</th>\n",
       "      <th>Once in a year (Count)</th>\n",
       "      <th>Once in a Month (Count)</th>\n",
       "      <th>Once in a Week (Count)</th>\n",
       "    </tr>\n",
       "  </thead>\n",
       "  <tbody>\n",
       "    <tr>\n",
       "      <th>0</th>\n",
       "      <td>Jazz / Warid</td>\n",
       "      <td>4320</td>\n",
       "      <td>720</td>\n",
       "      <td>920</td>\n",
       "      <td>480</td>\n",
       "    </tr>\n",
       "    <tr>\n",
       "      <th>1</th>\n",
       "      <td>Zong</td>\n",
       "      <td>1120</td>\n",
       "      <td>120</td>\n",
       "      <td>400</td>\n",
       "      <td>160</td>\n",
       "    </tr>\n",
       "    <tr>\n",
       "      <th>2</th>\n",
       "      <td>Ufone</td>\n",
       "      <td>360</td>\n",
       "      <td>0</td>\n",
       "      <td>40</td>\n",
       "      <td>0</td>\n",
       "    </tr>\n",
       "    <tr>\n",
       "      <th>3</th>\n",
       "      <td>Telenor</td>\n",
       "      <td>720</td>\n",
       "      <td>120</td>\n",
       "      <td>80</td>\n",
       "      <td>200</td>\n",
       "    </tr>\n",
       "  </tbody>\n",
       "</table>\n",
       "</div>"
      ],
      "text/plain": [
       "        Network  Rare (Count)  Once in a year (Count)  \\\n",
       "0  Jazz / Warid          4320                     720   \n",
       "1          Zong          1120                     120   \n",
       "2         Ufone           360                       0   \n",
       "3       Telenor           720                     120   \n",
       "\n",
       "   Once in a Month (Count)  Once in a Week (Count)  \n",
       "0                      920                     480  \n",
       "1                      400                     160  \n",
       "2                       40                       0  \n",
       "3                       80                     200  "
      ]
     },
     "execution_count": 38,
     "metadata": {},
     "output_type": "execute_result"
    }
   ],
   "source": [
    "df_bar = pd.DataFrame({\n",
    "    'Network': ['Jazz / Warid', 'Zong', 'Ufone', 'Telenor'],\n",
    "    'Rare (Count)': [4320, 1120, 360, 720],\n",
    "    'Once in a year (Count)':[720, 120, 0, 120],\n",
    "    'Once in a Month (Count)':[920, 400, 40, 80],\n",
    "    'Once in a Week (Count)':[480, 160, 0, 200]\n",
    "})\n",
    "\n",
    "df_bar"
   ]
  },
  {
   "cell_type": "code",
   "execution_count": 39,
   "metadata": {
    "colab": {
     "base_uri": "https://localhost:8080/",
     "height": 542
    },
    "id": "4Dc5tPAK-KXn",
    "outputId": "30431f75-bf89-4d04-ec63-98b7915e53b2"
   },
   "outputs": [
    {
     "data": {
      "application/vnd.plotly.v1+json": {
       "config": {
        "plotlyServerURL": "https://plot.ly"
       },
       "data": [
        {
         "alignmentgroup": "True",
         "hovertemplate": "variable=Rare (Count)<br>Network=%{x}<br>value=%{y}<extra></extra>",
         "legendgroup": "Rare (Count)",
         "marker": {
          "color": "#636efa",
          "pattern": {
           "shape": ""
          }
         },
         "name": "Rare (Count)",
         "offsetgroup": "Rare (Count)",
         "orientation": "v",
         "showlegend": true,
         "textposition": "auto",
         "type": "bar",
         "x": [
          "Jazz / Warid",
          "Zong",
          "Ufone",
          "Telenor"
         ],
         "xaxis": "x",
         "y": [
          4320,
          1120,
          360,
          720
         ],
         "yaxis": "y"
        },
        {
         "alignmentgroup": "True",
         "hovertemplate": "variable=Once in a year (Count)<br>Network=%{x}<br>value=%{y}<extra></extra>",
         "legendgroup": "Once in a year (Count)",
         "marker": {
          "color": "#EF553B",
          "pattern": {
           "shape": ""
          }
         },
         "name": "Once in a year (Count)",
         "offsetgroup": "Once in a year (Count)",
         "orientation": "v",
         "showlegend": true,
         "textposition": "auto",
         "type": "bar",
         "x": [
          "Jazz / Warid",
          "Zong",
          "Ufone",
          "Telenor"
         ],
         "xaxis": "x",
         "y": [
          720,
          120,
          0,
          120
         ],
         "yaxis": "y"
        },
        {
         "alignmentgroup": "True",
         "hovertemplate": "variable=Once in a Month (Count)<br>Network=%{x}<br>value=%{y}<extra></extra>",
         "legendgroup": "Once in a Month (Count)",
         "marker": {
          "color": "#00cc96",
          "pattern": {
           "shape": ""
          }
         },
         "name": "Once in a Month (Count)",
         "offsetgroup": "Once in a Month (Count)",
         "orientation": "v",
         "showlegend": true,
         "textposition": "auto",
         "type": "bar",
         "x": [
          "Jazz / Warid",
          "Zong",
          "Ufone",
          "Telenor"
         ],
         "xaxis": "x",
         "y": [
          920,
          400,
          40,
          80
         ],
         "yaxis": "y"
        },
        {
         "alignmentgroup": "True",
         "hovertemplate": "variable=Once in a Week (Count)<br>Network=%{x}<br>value=%{y}<extra></extra>",
         "legendgroup": "Once in a Week (Count)",
         "marker": {
          "color": "#ab63fa",
          "pattern": {
           "shape": ""
          }
         },
         "name": "Once in a Week (Count)",
         "offsetgroup": "Once in a Week (Count)",
         "orientation": "v",
         "showlegend": true,
         "textposition": "auto",
         "type": "bar",
         "x": [
          "Jazz / Warid",
          "Zong",
          "Ufone",
          "Telenor"
         ],
         "xaxis": "x",
         "y": [
          480,
          160,
          0,
          200
         ],
         "yaxis": "y"
        }
       ],
       "layout": {
        "barmode": "stack",
        "legend": {
         "title": {
          "text": "variable"
         },
         "tracegroupgap": 0
        },
        "template": {
         "data": {
          "bar": [
           {
            "error_x": {
             "color": "#2a3f5f"
            },
            "error_y": {
             "color": "#2a3f5f"
            },
            "marker": {
             "line": {
              "color": "#E5ECF6",
              "width": 0.5
             },
             "pattern": {
              "fillmode": "overlay",
              "size": 10,
              "solidity": 0.2
             }
            },
            "type": "bar"
           }
          ],
          "barpolar": [
           {
            "marker": {
             "line": {
              "color": "#E5ECF6",
              "width": 0.5
             },
             "pattern": {
              "fillmode": "overlay",
              "size": 10,
              "solidity": 0.2
             }
            },
            "type": "barpolar"
           }
          ],
          "carpet": [
           {
            "aaxis": {
             "endlinecolor": "#2a3f5f",
             "gridcolor": "white",
             "linecolor": "white",
             "minorgridcolor": "white",
             "startlinecolor": "#2a3f5f"
            },
            "baxis": {
             "endlinecolor": "#2a3f5f",
             "gridcolor": "white",
             "linecolor": "white",
             "minorgridcolor": "white",
             "startlinecolor": "#2a3f5f"
            },
            "type": "carpet"
           }
          ],
          "choropleth": [
           {
            "colorbar": {
             "outlinewidth": 0,
             "ticks": ""
            },
            "type": "choropleth"
           }
          ],
          "contour": [
           {
            "colorbar": {
             "outlinewidth": 0,
             "ticks": ""
            },
            "colorscale": [
             [
              0,
              "#0d0887"
             ],
             [
              0.1111111111111111,
              "#46039f"
             ],
             [
              0.2222222222222222,
              "#7201a8"
             ],
             [
              0.3333333333333333,
              "#9c179e"
             ],
             [
              0.4444444444444444,
              "#bd3786"
             ],
             [
              0.5555555555555556,
              "#d8576b"
             ],
             [
              0.6666666666666666,
              "#ed7953"
             ],
             [
              0.7777777777777778,
              "#fb9f3a"
             ],
             [
              0.8888888888888888,
              "#fdca26"
             ],
             [
              1,
              "#f0f921"
             ]
            ],
            "type": "contour"
           }
          ],
          "contourcarpet": [
           {
            "colorbar": {
             "outlinewidth": 0,
             "ticks": ""
            },
            "type": "contourcarpet"
           }
          ],
          "heatmap": [
           {
            "colorbar": {
             "outlinewidth": 0,
             "ticks": ""
            },
            "colorscale": [
             [
              0,
              "#0d0887"
             ],
             [
              0.1111111111111111,
              "#46039f"
             ],
             [
              0.2222222222222222,
              "#7201a8"
             ],
             [
              0.3333333333333333,
              "#9c179e"
             ],
             [
              0.4444444444444444,
              "#bd3786"
             ],
             [
              0.5555555555555556,
              "#d8576b"
             ],
             [
              0.6666666666666666,
              "#ed7953"
             ],
             [
              0.7777777777777778,
              "#fb9f3a"
             ],
             [
              0.8888888888888888,
              "#fdca26"
             ],
             [
              1,
              "#f0f921"
             ]
            ],
            "type": "heatmap"
           }
          ],
          "heatmapgl": [
           {
            "colorbar": {
             "outlinewidth": 0,
             "ticks": ""
            },
            "colorscale": [
             [
              0,
              "#0d0887"
             ],
             [
              0.1111111111111111,
              "#46039f"
             ],
             [
              0.2222222222222222,
              "#7201a8"
             ],
             [
              0.3333333333333333,
              "#9c179e"
             ],
             [
              0.4444444444444444,
              "#bd3786"
             ],
             [
              0.5555555555555556,
              "#d8576b"
             ],
             [
              0.6666666666666666,
              "#ed7953"
             ],
             [
              0.7777777777777778,
              "#fb9f3a"
             ],
             [
              0.8888888888888888,
              "#fdca26"
             ],
             [
              1,
              "#f0f921"
             ]
            ],
            "type": "heatmapgl"
           }
          ],
          "histogram": [
           {
            "marker": {
             "pattern": {
              "fillmode": "overlay",
              "size": 10,
              "solidity": 0.2
             }
            },
            "type": "histogram"
           }
          ],
          "histogram2d": [
           {
            "colorbar": {
             "outlinewidth": 0,
             "ticks": ""
            },
            "colorscale": [
             [
              0,
              "#0d0887"
             ],
             [
              0.1111111111111111,
              "#46039f"
             ],
             [
              0.2222222222222222,
              "#7201a8"
             ],
             [
              0.3333333333333333,
              "#9c179e"
             ],
             [
              0.4444444444444444,
              "#bd3786"
             ],
             [
              0.5555555555555556,
              "#d8576b"
             ],
             [
              0.6666666666666666,
              "#ed7953"
             ],
             [
              0.7777777777777778,
              "#fb9f3a"
             ],
             [
              0.8888888888888888,
              "#fdca26"
             ],
             [
              1,
              "#f0f921"
             ]
            ],
            "type": "histogram2d"
           }
          ],
          "histogram2dcontour": [
           {
            "colorbar": {
             "outlinewidth": 0,
             "ticks": ""
            },
            "colorscale": [
             [
              0,
              "#0d0887"
             ],
             [
              0.1111111111111111,
              "#46039f"
             ],
             [
              0.2222222222222222,
              "#7201a8"
             ],
             [
              0.3333333333333333,
              "#9c179e"
             ],
             [
              0.4444444444444444,
              "#bd3786"
             ],
             [
              0.5555555555555556,
              "#d8576b"
             ],
             [
              0.6666666666666666,
              "#ed7953"
             ],
             [
              0.7777777777777778,
              "#fb9f3a"
             ],
             [
              0.8888888888888888,
              "#fdca26"
             ],
             [
              1,
              "#f0f921"
             ]
            ],
            "type": "histogram2dcontour"
           }
          ],
          "mesh3d": [
           {
            "colorbar": {
             "outlinewidth": 0,
             "ticks": ""
            },
            "type": "mesh3d"
           }
          ],
          "parcoords": [
           {
            "line": {
             "colorbar": {
              "outlinewidth": 0,
              "ticks": ""
             }
            },
            "type": "parcoords"
           }
          ],
          "pie": [
           {
            "automargin": true,
            "type": "pie"
           }
          ],
          "scatter": [
           {
            "fillpattern": {
             "fillmode": "overlay",
             "size": 10,
             "solidity": 0.2
            },
            "type": "scatter"
           }
          ],
          "scatter3d": [
           {
            "line": {
             "colorbar": {
              "outlinewidth": 0,
              "ticks": ""
             }
            },
            "marker": {
             "colorbar": {
              "outlinewidth": 0,
              "ticks": ""
             }
            },
            "type": "scatter3d"
           }
          ],
          "scattercarpet": [
           {
            "marker": {
             "colorbar": {
              "outlinewidth": 0,
              "ticks": ""
             }
            },
            "type": "scattercarpet"
           }
          ],
          "scattergeo": [
           {
            "marker": {
             "colorbar": {
              "outlinewidth": 0,
              "ticks": ""
             }
            },
            "type": "scattergeo"
           }
          ],
          "scattergl": [
           {
            "marker": {
             "colorbar": {
              "outlinewidth": 0,
              "ticks": ""
             }
            },
            "type": "scattergl"
           }
          ],
          "scattermapbox": [
           {
            "marker": {
             "colorbar": {
              "outlinewidth": 0,
              "ticks": ""
             }
            },
            "type": "scattermapbox"
           }
          ],
          "scatterpolar": [
           {
            "marker": {
             "colorbar": {
              "outlinewidth": 0,
              "ticks": ""
             }
            },
            "type": "scatterpolar"
           }
          ],
          "scatterpolargl": [
           {
            "marker": {
             "colorbar": {
              "outlinewidth": 0,
              "ticks": ""
             }
            },
            "type": "scatterpolargl"
           }
          ],
          "scatterternary": [
           {
            "marker": {
             "colorbar": {
              "outlinewidth": 0,
              "ticks": ""
             }
            },
            "type": "scatterternary"
           }
          ],
          "surface": [
           {
            "colorbar": {
             "outlinewidth": 0,
             "ticks": ""
            },
            "colorscale": [
             [
              0,
              "#0d0887"
             ],
             [
              0.1111111111111111,
              "#46039f"
             ],
             [
              0.2222222222222222,
              "#7201a8"
             ],
             [
              0.3333333333333333,
              "#9c179e"
             ],
             [
              0.4444444444444444,
              "#bd3786"
             ],
             [
              0.5555555555555556,
              "#d8576b"
             ],
             [
              0.6666666666666666,
              "#ed7953"
             ],
             [
              0.7777777777777778,
              "#fb9f3a"
             ],
             [
              0.8888888888888888,
              "#fdca26"
             ],
             [
              1,
              "#f0f921"
             ]
            ],
            "type": "surface"
           }
          ],
          "table": [
           {
            "cells": {
             "fill": {
              "color": "#EBF0F8"
             },
             "line": {
              "color": "white"
             }
            },
            "header": {
             "fill": {
              "color": "#C8D4E3"
             },
             "line": {
              "color": "white"
             }
            },
            "type": "table"
           }
          ]
         },
         "layout": {
          "annotationdefaults": {
           "arrowcolor": "#2a3f5f",
           "arrowhead": 0,
           "arrowwidth": 1
          },
          "autotypenumbers": "strict",
          "coloraxis": {
           "colorbar": {
            "outlinewidth": 0,
            "ticks": ""
           }
          },
          "colorscale": {
           "diverging": [
            [
             0,
             "#8e0152"
            ],
            [
             0.1,
             "#c51b7d"
            ],
            [
             0.2,
             "#de77ae"
            ],
            [
             0.3,
             "#f1b6da"
            ],
            [
             0.4,
             "#fde0ef"
            ],
            [
             0.5,
             "#f7f7f7"
            ],
            [
             0.6,
             "#e6f5d0"
            ],
            [
             0.7,
             "#b8e186"
            ],
            [
             0.8,
             "#7fbc41"
            ],
            [
             0.9,
             "#4d9221"
            ],
            [
             1,
             "#276419"
            ]
           ],
           "sequential": [
            [
             0,
             "#0d0887"
            ],
            [
             0.1111111111111111,
             "#46039f"
            ],
            [
             0.2222222222222222,
             "#7201a8"
            ],
            [
             0.3333333333333333,
             "#9c179e"
            ],
            [
             0.4444444444444444,
             "#bd3786"
            ],
            [
             0.5555555555555556,
             "#d8576b"
            ],
            [
             0.6666666666666666,
             "#ed7953"
            ],
            [
             0.7777777777777778,
             "#fb9f3a"
            ],
            [
             0.8888888888888888,
             "#fdca26"
            ],
            [
             1,
             "#f0f921"
            ]
           ],
           "sequentialminus": [
            [
             0,
             "#0d0887"
            ],
            [
             0.1111111111111111,
             "#46039f"
            ],
            [
             0.2222222222222222,
             "#7201a8"
            ],
            [
             0.3333333333333333,
             "#9c179e"
            ],
            [
             0.4444444444444444,
             "#bd3786"
            ],
            [
             0.5555555555555556,
             "#d8576b"
            ],
            [
             0.6666666666666666,
             "#ed7953"
            ],
            [
             0.7777777777777778,
             "#fb9f3a"
            ],
            [
             0.8888888888888888,
             "#fdca26"
            ],
            [
             1,
             "#f0f921"
            ]
           ]
          },
          "colorway": [
           "#636efa",
           "#EF553B",
           "#00cc96",
           "#ab63fa",
           "#FFA15A",
           "#19d3f3",
           "#FF6692",
           "#B6E880",
           "#FF97FF",
           "#FECB52"
          ],
          "font": {
           "color": "#2a3f5f"
          },
          "geo": {
           "bgcolor": "white",
           "lakecolor": "white",
           "landcolor": "#E5ECF6",
           "showlakes": true,
           "showland": true,
           "subunitcolor": "white"
          },
          "hoverlabel": {
           "align": "left"
          },
          "hovermode": "closest",
          "mapbox": {
           "style": "light"
          },
          "paper_bgcolor": "white",
          "plot_bgcolor": "#E5ECF6",
          "polar": {
           "angularaxis": {
            "gridcolor": "white",
            "linecolor": "white",
            "ticks": ""
           },
           "bgcolor": "#E5ECF6",
           "radialaxis": {
            "gridcolor": "white",
            "linecolor": "white",
            "ticks": ""
           }
          },
          "scene": {
           "xaxis": {
            "backgroundcolor": "#E5ECF6",
            "gridcolor": "white",
            "gridwidth": 2,
            "linecolor": "white",
            "showbackground": true,
            "ticks": "",
            "zerolinecolor": "white"
           },
           "yaxis": {
            "backgroundcolor": "#E5ECF6",
            "gridcolor": "white",
            "gridwidth": 2,
            "linecolor": "white",
            "showbackground": true,
            "ticks": "",
            "zerolinecolor": "white"
           },
           "zaxis": {
            "backgroundcolor": "#E5ECF6",
            "gridcolor": "white",
            "gridwidth": 2,
            "linecolor": "white",
            "showbackground": true,
            "ticks": "",
            "zerolinecolor": "white"
           }
          },
          "shapedefaults": {
           "line": {
            "color": "#2a3f5f"
           }
          },
          "ternary": {
           "aaxis": {
            "gridcolor": "white",
            "linecolor": "white",
            "ticks": ""
           },
           "baxis": {
            "gridcolor": "white",
            "linecolor": "white",
            "ticks": ""
           },
           "bgcolor": "#E5ECF6",
           "caxis": {
            "gridcolor": "white",
            "linecolor": "white",
            "ticks": ""
           }
          },
          "title": {
           "x": 0.05
          },
          "xaxis": {
           "automargin": true,
           "gridcolor": "white",
           "linecolor": "white",
           "ticks": "",
           "title": {
            "standoff": 15
           },
           "zerolinecolor": "white",
           "zerolinewidth": 2
          },
          "yaxis": {
           "automargin": true,
           "gridcolor": "white",
           "linecolor": "white",
           "ticks": "",
           "title": {
            "standoff": 15
           },
           "zerolinecolor": "white",
           "zerolinewidth": 2
          }
         }
        },
        "title": {
         "text": "Customer Care Calling Rates by Network"
        },
        "xaxis": {
         "anchor": "y",
         "domain": [
          0,
          1
         ],
         "title": {
          "text": "Network"
         }
        },
        "yaxis": {
         "anchor": "x",
         "domain": [
          0,
          1
         ],
         "title": {
          "text": "Count"
         }
        }
       }
      },
      "text/html": [
       "<div>                            <div id=\"5304dcf1-bea6-43c5-b4cb-12df8de27586\" class=\"plotly-graph-div\" style=\"height:525px; width:100%;\"></div>            <script type=\"text/javascript\">                require([\"plotly\"], function(Plotly) {                    window.PLOTLYENV=window.PLOTLYENV || {};                                    if (document.getElementById(\"5304dcf1-bea6-43c5-b4cb-12df8de27586\")) {                    Plotly.newPlot(                        \"5304dcf1-bea6-43c5-b4cb-12df8de27586\",                        [{\"alignmentgroup\":\"True\",\"hovertemplate\":\"variable=Rare (Count)<br>Network=%{x}<br>value=%{y}<extra></extra>\",\"legendgroup\":\"Rare (Count)\",\"marker\":{\"color\":\"#636efa\",\"pattern\":{\"shape\":\"\"}},\"name\":\"Rare (Count)\",\"offsetgroup\":\"Rare (Count)\",\"orientation\":\"v\",\"showlegend\":true,\"textposition\":\"auto\",\"x\":[\"Jazz / Warid\",\"Zong\",\"Ufone\",\"Telenor\"],\"xaxis\":\"x\",\"y\":[4320,1120,360,720],\"yaxis\":\"y\",\"type\":\"bar\"},{\"alignmentgroup\":\"True\",\"hovertemplate\":\"variable=Once in a year (Count)<br>Network=%{x}<br>value=%{y}<extra></extra>\",\"legendgroup\":\"Once in a year (Count)\",\"marker\":{\"color\":\"#EF553B\",\"pattern\":{\"shape\":\"\"}},\"name\":\"Once in a year (Count)\",\"offsetgroup\":\"Once in a year (Count)\",\"orientation\":\"v\",\"showlegend\":true,\"textposition\":\"auto\",\"x\":[\"Jazz / Warid\",\"Zong\",\"Ufone\",\"Telenor\"],\"xaxis\":\"x\",\"y\":[720,120,0,120],\"yaxis\":\"y\",\"type\":\"bar\"},{\"alignmentgroup\":\"True\",\"hovertemplate\":\"variable=Once in a Month (Count)<br>Network=%{x}<br>value=%{y}<extra></extra>\",\"legendgroup\":\"Once in a Month (Count)\",\"marker\":{\"color\":\"#00cc96\",\"pattern\":{\"shape\":\"\"}},\"name\":\"Once in a Month (Count)\",\"offsetgroup\":\"Once in a Month (Count)\",\"orientation\":\"v\",\"showlegend\":true,\"textposition\":\"auto\",\"x\":[\"Jazz / Warid\",\"Zong\",\"Ufone\",\"Telenor\"],\"xaxis\":\"x\",\"y\":[920,400,40,80],\"yaxis\":\"y\",\"type\":\"bar\"},{\"alignmentgroup\":\"True\",\"hovertemplate\":\"variable=Once in a Week (Count)<br>Network=%{x}<br>value=%{y}<extra></extra>\",\"legendgroup\":\"Once in a Week (Count)\",\"marker\":{\"color\":\"#ab63fa\",\"pattern\":{\"shape\":\"\"}},\"name\":\"Once in a Week (Count)\",\"offsetgroup\":\"Once in a Week (Count)\",\"orientation\":\"v\",\"showlegend\":true,\"textposition\":\"auto\",\"x\":[\"Jazz / Warid\",\"Zong\",\"Ufone\",\"Telenor\"],\"xaxis\":\"x\",\"y\":[480,160,0,200],\"yaxis\":\"y\",\"type\":\"bar\"}],                        {\"template\":{\"data\":{\"histogram2dcontour\":[{\"type\":\"histogram2dcontour\",\"colorbar\":{\"outlinewidth\":0,\"ticks\":\"\"},\"colorscale\":[[0.0,\"#0d0887\"],[0.1111111111111111,\"#46039f\"],[0.2222222222222222,\"#7201a8\"],[0.3333333333333333,\"#9c179e\"],[0.4444444444444444,\"#bd3786\"],[0.5555555555555556,\"#d8576b\"],[0.6666666666666666,\"#ed7953\"],[0.7777777777777778,\"#fb9f3a\"],[0.8888888888888888,\"#fdca26\"],[1.0,\"#f0f921\"]]}],\"choropleth\":[{\"type\":\"choropleth\",\"colorbar\":{\"outlinewidth\":0,\"ticks\":\"\"}}],\"histogram2d\":[{\"type\":\"histogram2d\",\"colorbar\":{\"outlinewidth\":0,\"ticks\":\"\"},\"colorscale\":[[0.0,\"#0d0887\"],[0.1111111111111111,\"#46039f\"],[0.2222222222222222,\"#7201a8\"],[0.3333333333333333,\"#9c179e\"],[0.4444444444444444,\"#bd3786\"],[0.5555555555555556,\"#d8576b\"],[0.6666666666666666,\"#ed7953\"],[0.7777777777777778,\"#fb9f3a\"],[0.8888888888888888,\"#fdca26\"],[1.0,\"#f0f921\"]]}],\"heatmap\":[{\"type\":\"heatmap\",\"colorbar\":{\"outlinewidth\":0,\"ticks\":\"\"},\"colorscale\":[[0.0,\"#0d0887\"],[0.1111111111111111,\"#46039f\"],[0.2222222222222222,\"#7201a8\"],[0.3333333333333333,\"#9c179e\"],[0.4444444444444444,\"#bd3786\"],[0.5555555555555556,\"#d8576b\"],[0.6666666666666666,\"#ed7953\"],[0.7777777777777778,\"#fb9f3a\"],[0.8888888888888888,\"#fdca26\"],[1.0,\"#f0f921\"]]}],\"heatmapgl\":[{\"type\":\"heatmapgl\",\"colorbar\":{\"outlinewidth\":0,\"ticks\":\"\"},\"colorscale\":[[0.0,\"#0d0887\"],[0.1111111111111111,\"#46039f\"],[0.2222222222222222,\"#7201a8\"],[0.3333333333333333,\"#9c179e\"],[0.4444444444444444,\"#bd3786\"],[0.5555555555555556,\"#d8576b\"],[0.6666666666666666,\"#ed7953\"],[0.7777777777777778,\"#fb9f3a\"],[0.8888888888888888,\"#fdca26\"],[1.0,\"#f0f921\"]]}],\"contourcarpet\":[{\"type\":\"contourcarpet\",\"colorbar\":{\"outlinewidth\":0,\"ticks\":\"\"}}],\"contour\":[{\"type\":\"contour\",\"colorbar\":{\"outlinewidth\":0,\"ticks\":\"\"},\"colorscale\":[[0.0,\"#0d0887\"],[0.1111111111111111,\"#46039f\"],[0.2222222222222222,\"#7201a8\"],[0.3333333333333333,\"#9c179e\"],[0.4444444444444444,\"#bd3786\"],[0.5555555555555556,\"#d8576b\"],[0.6666666666666666,\"#ed7953\"],[0.7777777777777778,\"#fb9f3a\"],[0.8888888888888888,\"#fdca26\"],[1.0,\"#f0f921\"]]}],\"surface\":[{\"type\":\"surface\",\"colorbar\":{\"outlinewidth\":0,\"ticks\":\"\"},\"colorscale\":[[0.0,\"#0d0887\"],[0.1111111111111111,\"#46039f\"],[0.2222222222222222,\"#7201a8\"],[0.3333333333333333,\"#9c179e\"],[0.4444444444444444,\"#bd3786\"],[0.5555555555555556,\"#d8576b\"],[0.6666666666666666,\"#ed7953\"],[0.7777777777777778,\"#fb9f3a\"],[0.8888888888888888,\"#fdca26\"],[1.0,\"#f0f921\"]]}],\"mesh3d\":[{\"type\":\"mesh3d\",\"colorbar\":{\"outlinewidth\":0,\"ticks\":\"\"}}],\"scatter\":[{\"fillpattern\":{\"fillmode\":\"overlay\",\"size\":10,\"solidity\":0.2},\"type\":\"scatter\"}],\"parcoords\":[{\"type\":\"parcoords\",\"line\":{\"colorbar\":{\"outlinewidth\":0,\"ticks\":\"\"}}}],\"scatterpolargl\":[{\"type\":\"scatterpolargl\",\"marker\":{\"colorbar\":{\"outlinewidth\":0,\"ticks\":\"\"}}}],\"bar\":[{\"error_x\":{\"color\":\"#2a3f5f\"},\"error_y\":{\"color\":\"#2a3f5f\"},\"marker\":{\"line\":{\"color\":\"#E5ECF6\",\"width\":0.5},\"pattern\":{\"fillmode\":\"overlay\",\"size\":10,\"solidity\":0.2}},\"type\":\"bar\"}],\"scattergeo\":[{\"type\":\"scattergeo\",\"marker\":{\"colorbar\":{\"outlinewidth\":0,\"ticks\":\"\"}}}],\"scatterpolar\":[{\"type\":\"scatterpolar\",\"marker\":{\"colorbar\":{\"outlinewidth\":0,\"ticks\":\"\"}}}],\"histogram\":[{\"marker\":{\"pattern\":{\"fillmode\":\"overlay\",\"size\":10,\"solidity\":0.2}},\"type\":\"histogram\"}],\"scattergl\":[{\"type\":\"scattergl\",\"marker\":{\"colorbar\":{\"outlinewidth\":0,\"ticks\":\"\"}}}],\"scatter3d\":[{\"type\":\"scatter3d\",\"line\":{\"colorbar\":{\"outlinewidth\":0,\"ticks\":\"\"}},\"marker\":{\"colorbar\":{\"outlinewidth\":0,\"ticks\":\"\"}}}],\"scattermapbox\":[{\"type\":\"scattermapbox\",\"marker\":{\"colorbar\":{\"outlinewidth\":0,\"ticks\":\"\"}}}],\"scatterternary\":[{\"type\":\"scatterternary\",\"marker\":{\"colorbar\":{\"outlinewidth\":0,\"ticks\":\"\"}}}],\"scattercarpet\":[{\"type\":\"scattercarpet\",\"marker\":{\"colorbar\":{\"outlinewidth\":0,\"ticks\":\"\"}}}],\"carpet\":[{\"aaxis\":{\"endlinecolor\":\"#2a3f5f\",\"gridcolor\":\"white\",\"linecolor\":\"white\",\"minorgridcolor\":\"white\",\"startlinecolor\":\"#2a3f5f\"},\"baxis\":{\"endlinecolor\":\"#2a3f5f\",\"gridcolor\":\"white\",\"linecolor\":\"white\",\"minorgridcolor\":\"white\",\"startlinecolor\":\"#2a3f5f\"},\"type\":\"carpet\"}],\"table\":[{\"cells\":{\"fill\":{\"color\":\"#EBF0F8\"},\"line\":{\"color\":\"white\"}},\"header\":{\"fill\":{\"color\":\"#C8D4E3\"},\"line\":{\"color\":\"white\"}},\"type\":\"table\"}],\"barpolar\":[{\"marker\":{\"line\":{\"color\":\"#E5ECF6\",\"width\":0.5},\"pattern\":{\"fillmode\":\"overlay\",\"size\":10,\"solidity\":0.2}},\"type\":\"barpolar\"}],\"pie\":[{\"automargin\":true,\"type\":\"pie\"}]},\"layout\":{\"autotypenumbers\":\"strict\",\"colorway\":[\"#636efa\",\"#EF553B\",\"#00cc96\",\"#ab63fa\",\"#FFA15A\",\"#19d3f3\",\"#FF6692\",\"#B6E880\",\"#FF97FF\",\"#FECB52\"],\"font\":{\"color\":\"#2a3f5f\"},\"hovermode\":\"closest\",\"hoverlabel\":{\"align\":\"left\"},\"paper_bgcolor\":\"white\",\"plot_bgcolor\":\"#E5ECF6\",\"polar\":{\"bgcolor\":\"#E5ECF6\",\"angularaxis\":{\"gridcolor\":\"white\",\"linecolor\":\"white\",\"ticks\":\"\"},\"radialaxis\":{\"gridcolor\":\"white\",\"linecolor\":\"white\",\"ticks\":\"\"}},\"ternary\":{\"bgcolor\":\"#E5ECF6\",\"aaxis\":{\"gridcolor\":\"white\",\"linecolor\":\"white\",\"ticks\":\"\"},\"baxis\":{\"gridcolor\":\"white\",\"linecolor\":\"white\",\"ticks\":\"\"},\"caxis\":{\"gridcolor\":\"white\",\"linecolor\":\"white\",\"ticks\":\"\"}},\"coloraxis\":{\"colorbar\":{\"outlinewidth\":0,\"ticks\":\"\"}},\"colorscale\":{\"sequential\":[[0.0,\"#0d0887\"],[0.1111111111111111,\"#46039f\"],[0.2222222222222222,\"#7201a8\"],[0.3333333333333333,\"#9c179e\"],[0.4444444444444444,\"#bd3786\"],[0.5555555555555556,\"#d8576b\"],[0.6666666666666666,\"#ed7953\"],[0.7777777777777778,\"#fb9f3a\"],[0.8888888888888888,\"#fdca26\"],[1.0,\"#f0f921\"]],\"sequentialminus\":[[0.0,\"#0d0887\"],[0.1111111111111111,\"#46039f\"],[0.2222222222222222,\"#7201a8\"],[0.3333333333333333,\"#9c179e\"],[0.4444444444444444,\"#bd3786\"],[0.5555555555555556,\"#d8576b\"],[0.6666666666666666,\"#ed7953\"],[0.7777777777777778,\"#fb9f3a\"],[0.8888888888888888,\"#fdca26\"],[1.0,\"#f0f921\"]],\"diverging\":[[0,\"#8e0152\"],[0.1,\"#c51b7d\"],[0.2,\"#de77ae\"],[0.3,\"#f1b6da\"],[0.4,\"#fde0ef\"],[0.5,\"#f7f7f7\"],[0.6,\"#e6f5d0\"],[0.7,\"#b8e186\"],[0.8,\"#7fbc41\"],[0.9,\"#4d9221\"],[1,\"#276419\"]]},\"xaxis\":{\"gridcolor\":\"white\",\"linecolor\":\"white\",\"ticks\":\"\",\"title\":{\"standoff\":15},\"zerolinecolor\":\"white\",\"automargin\":true,\"zerolinewidth\":2},\"yaxis\":{\"gridcolor\":\"white\",\"linecolor\":\"white\",\"ticks\":\"\",\"title\":{\"standoff\":15},\"zerolinecolor\":\"white\",\"automargin\":true,\"zerolinewidth\":2},\"scene\":{\"xaxis\":{\"backgroundcolor\":\"#E5ECF6\",\"gridcolor\":\"white\",\"linecolor\":\"white\",\"showbackground\":true,\"ticks\":\"\",\"zerolinecolor\":\"white\",\"gridwidth\":2},\"yaxis\":{\"backgroundcolor\":\"#E5ECF6\",\"gridcolor\":\"white\",\"linecolor\":\"white\",\"showbackground\":true,\"ticks\":\"\",\"zerolinecolor\":\"white\",\"gridwidth\":2},\"zaxis\":{\"backgroundcolor\":\"#E5ECF6\",\"gridcolor\":\"white\",\"linecolor\":\"white\",\"showbackground\":true,\"ticks\":\"\",\"zerolinecolor\":\"white\",\"gridwidth\":2}},\"shapedefaults\":{\"line\":{\"color\":\"#2a3f5f\"}},\"annotationdefaults\":{\"arrowcolor\":\"#2a3f5f\",\"arrowhead\":0,\"arrowwidth\":1},\"geo\":{\"bgcolor\":\"white\",\"landcolor\":\"#E5ECF6\",\"subunitcolor\":\"white\",\"showland\":true,\"showlakes\":true,\"lakecolor\":\"white\"},\"title\":{\"x\":0.05},\"mapbox\":{\"style\":\"light\"}}},\"xaxis\":{\"anchor\":\"y\",\"domain\":[0.0,1.0],\"title\":{\"text\":\"Network\"}},\"yaxis\":{\"anchor\":\"x\",\"domain\":[0.0,1.0],\"title\":{\"text\":\"Count\"}},\"legend\":{\"title\":{\"text\":\"variable\"},\"tracegroupgap\":0},\"title\":{\"text\":\"Customer Care Calling Rates by Network\"},\"barmode\":\"stack\"},                        {\"responsive\": true}                    ).then(function(){\n",
       "                            \n",
       "var gd = document.getElementById('5304dcf1-bea6-43c5-b4cb-12df8de27586');\n",
       "var x = new MutationObserver(function (mutations, observer) {{\n",
       "        var display = window.getComputedStyle(gd).display;\n",
       "        if (!display || display === 'none') {{\n",
       "            console.log([gd, 'removed!']);\n",
       "            Plotly.purge(gd);\n",
       "            observer.disconnect();\n",
       "        }}\n",
       "}});\n",
       "\n",
       "// Listen for the removal of the full notebook cells\n",
       "var notebookContainer = gd.closest('#notebook-container');\n",
       "if (notebookContainer) {{\n",
       "    x.observe(notebookContainer, {childList: true});\n",
       "}}\n",
       "\n",
       "// Listen for the clearing of the current output cell\n",
       "var outputEl = gd.closest('.output');\n",
       "if (outputEl) {{\n",
       "    x.observe(outputEl, {childList: true});\n",
       "}}\n",
       "\n",
       "                        })                };                });            </script>        </div>"
      ]
     },
     "metadata": {},
     "output_type": "display_data"
    }
   ],
   "source": [
    "fig = px.bar(df_bar, x='Network', y=['Rare (Count)','Once in a year (Count)','Once in a Month (Count)','Once in a Week (Count)'], barmode='stack', title='Customer Care Calling Rates by Network')\n",
    "fig.update_layout(\n",
    "    xaxis_title=\"Network\", yaxis_title=\"Count\"\n",
    ")"
   ]
  },
  {
   "cell_type": "code",
   "execution_count": 40,
   "metadata": {
    "id": "hFT3jtRiNDHL"
   },
   "outputs": [],
   "source": [
    "Network = ['Jazz / Warid', 'Zong', 'Ufone', 'Telenor']\n",
    "\n",
    "complains = [\n",
    "    (df_jazz['reascon_of_contact_cc'] == 'Complaints').value_counts().get(True, 0),\n",
    "    (df_zong['reascon_of_contact_cc'] == 'Complaints').value_counts().get(True, 0),\n",
    "    (df_ufone['reascon_of_contact_cc'] == 'Complaints').value_counts().get(True, 0),\n",
    "    (df_telenor['reascon_of_contact_cc'] == 'Complaints').value_counts().get(True, 0)\n",
    "]\n",
    "\n",
    "Information_schemes = [\n",
    "    (df_jazz['reascon_of_contact_cc'] == 'Information regarding new schemes').value_counts().get(True, 0),\n",
    "    (df_zong['reascon_of_contact_cc'] == 'Information regarding new schemes').value_counts().get(True, 0),\n",
    "    (df_ufone['reascon_of_contact_cc'] == 'Information regarding new schemes').value_counts().get(True, 0),\n",
    "    (df_telenor['reascon_of_contact_cc'] == 'Information regarding new schemes').value_counts().get(True, 0)\n",
    "]\n",
    "\n",
    "Other_Queries = [\n",
    "    (df_jazz['reascon_of_contact_cc'] == 'Other Queries').value_counts().get(True, 0),\n",
    "    (df_zong['reascon_of_contact_cc'] == 'Other Queries').value_counts().get(True, 0),\n",
    "    (df_ufone['reascon_of_contact_cc'] == 'Other Queries').value_counts().get(True, 0),\n",
    "    (df_telenor['reascon_of_contact_cc'] == 'Other Queries').value_counts().get(True, 0)\n",
    "]\n",
    "\n",
    "value_services = [\n",
    "    (df_jazz['reascon_of_contact_cc'] == 'Value added services').value_counts().get(True, 0),\n",
    "    (df_zong['reascon_of_contact_cc'] == 'Value added services').value_counts().get(True, 0),\n",
    "    (df_ufone['reascon_of_contact_cc'] == 'Value added services').value_counts().get(True, 0),\n",
    "    (df_telenor['reascon_of_contact_cc'] == 'Value added services').value_counts().get(True, 0)\n",
    "]"
   ]
  },
  {
   "cell_type": "code",
   "execution_count": 41,
   "metadata": {
    "colab": {
     "base_uri": "https://localhost:8080/"
    },
    "id": "4wmo0y2ZONxL",
    "outputId": "8efa525d-36cc-405e-92fb-326fd53baede"
   },
   "outputs": [
    {
     "data": {
      "text/plain": [
       "Index(['Network', 'Complaints (Count)',\n",
       "       'Information regarding new schemes (Count)', 'Other Queries (Count)',\n",
       "       'Value added services (Count)'],\n",
       "      dtype='object')"
      ]
     },
     "execution_count": 41,
     "metadata": {},
     "output_type": "execute_result"
    }
   ],
   "source": [
    "df_bar_1 = pd.DataFrame({\n",
    "    'Network': ['Jazz / Warid', 'Zong', 'Ufone', 'Telenor'],\n",
    "    'Complaints (Count)': [2840, 520, 240, 400],\n",
    "    'Information regarding new schemes (Count)':[1360, 360, 0, 120],\n",
    "    'Other Queries (Count)':[1800, 720, 120, 360],\n",
    "    'Value added services (Count)':[440, 200, 40, 240]\n",
    "})\n",
    "\n",
    "df_bar_1.columns"
   ]
  },
  {
   "cell_type": "code",
   "execution_count": 42,
   "metadata": {
    "colab": {
     "base_uri": "https://localhost:8080/",
     "height": 542
    },
    "id": "8PbxfkPsN3nS",
    "outputId": "2c4268b1-15ca-4271-d767-814766e3f62a"
   },
   "outputs": [
    {
     "data": {
      "application/vnd.plotly.v1+json": {
       "config": {
        "plotlyServerURL": "https://plot.ly"
       },
       "data": [
        {
         "alignmentgroup": "True",
         "hovertemplate": "variable=Complaints (Count)<br>Network=%{x}<br>value=%{y}<extra></extra>",
         "legendgroup": "Complaints (Count)",
         "marker": {
          "color": "#636efa",
          "pattern": {
           "shape": ""
          }
         },
         "name": "Complaints (Count)",
         "offsetgroup": "Complaints (Count)",
         "orientation": "v",
         "showlegend": true,
         "textposition": "auto",
         "type": "bar",
         "x": [
          "Jazz / Warid",
          "Zong",
          "Ufone",
          "Telenor"
         ],
         "xaxis": "x",
         "y": [
          2840,
          520,
          240,
          400
         ],
         "yaxis": "y"
        },
        {
         "alignmentgroup": "True",
         "hovertemplate": "variable=Information regarding new schemes (Count)<br>Network=%{x}<br>value=%{y}<extra></extra>",
         "legendgroup": "Information regarding new schemes (Count)",
         "marker": {
          "color": "#EF553B",
          "pattern": {
           "shape": ""
          }
         },
         "name": "Information regarding new schemes (Count)",
         "offsetgroup": "Information regarding new schemes (Count)",
         "orientation": "v",
         "showlegend": true,
         "textposition": "auto",
         "type": "bar",
         "x": [
          "Jazz / Warid",
          "Zong",
          "Ufone",
          "Telenor"
         ],
         "xaxis": "x",
         "y": [
          1360,
          360,
          0,
          120
         ],
         "yaxis": "y"
        },
        {
         "alignmentgroup": "True",
         "hovertemplate": "variable=Other Queries (Count)<br>Network=%{x}<br>value=%{y}<extra></extra>",
         "legendgroup": "Other Queries (Count)",
         "marker": {
          "color": "#00cc96",
          "pattern": {
           "shape": ""
          }
         },
         "name": "Other Queries (Count)",
         "offsetgroup": "Other Queries (Count)",
         "orientation": "v",
         "showlegend": true,
         "textposition": "auto",
         "type": "bar",
         "x": [
          "Jazz / Warid",
          "Zong",
          "Ufone",
          "Telenor"
         ],
         "xaxis": "x",
         "y": [
          1800,
          720,
          120,
          360
         ],
         "yaxis": "y"
        },
        {
         "alignmentgroup": "True",
         "hovertemplate": "variable=Value added services (Count)<br>Network=%{x}<br>value=%{y}<extra></extra>",
         "legendgroup": "Value added services (Count)",
         "marker": {
          "color": "#ab63fa",
          "pattern": {
           "shape": ""
          }
         },
         "name": "Value added services (Count)",
         "offsetgroup": "Value added services (Count)",
         "orientation": "v",
         "showlegend": true,
         "textposition": "auto",
         "type": "bar",
         "x": [
          "Jazz / Warid",
          "Zong",
          "Ufone",
          "Telenor"
         ],
         "xaxis": "x",
         "y": [
          440,
          200,
          40,
          240
         ],
         "yaxis": "y"
        }
       ],
       "layout": {
        "barmode": "stack",
        "legend": {
         "title": {
          "text": "variable"
         },
         "tracegroupgap": 0
        },
        "template": {
         "data": {
          "bar": [
           {
            "error_x": {
             "color": "#2a3f5f"
            },
            "error_y": {
             "color": "#2a3f5f"
            },
            "marker": {
             "line": {
              "color": "#E5ECF6",
              "width": 0.5
             },
             "pattern": {
              "fillmode": "overlay",
              "size": 10,
              "solidity": 0.2
             }
            },
            "type": "bar"
           }
          ],
          "barpolar": [
           {
            "marker": {
             "line": {
              "color": "#E5ECF6",
              "width": 0.5
             },
             "pattern": {
              "fillmode": "overlay",
              "size": 10,
              "solidity": 0.2
             }
            },
            "type": "barpolar"
           }
          ],
          "carpet": [
           {
            "aaxis": {
             "endlinecolor": "#2a3f5f",
             "gridcolor": "white",
             "linecolor": "white",
             "minorgridcolor": "white",
             "startlinecolor": "#2a3f5f"
            },
            "baxis": {
             "endlinecolor": "#2a3f5f",
             "gridcolor": "white",
             "linecolor": "white",
             "minorgridcolor": "white",
             "startlinecolor": "#2a3f5f"
            },
            "type": "carpet"
           }
          ],
          "choropleth": [
           {
            "colorbar": {
             "outlinewidth": 0,
             "ticks": ""
            },
            "type": "choropleth"
           }
          ],
          "contour": [
           {
            "colorbar": {
             "outlinewidth": 0,
             "ticks": ""
            },
            "colorscale": [
             [
              0,
              "#0d0887"
             ],
             [
              0.1111111111111111,
              "#46039f"
             ],
             [
              0.2222222222222222,
              "#7201a8"
             ],
             [
              0.3333333333333333,
              "#9c179e"
             ],
             [
              0.4444444444444444,
              "#bd3786"
             ],
             [
              0.5555555555555556,
              "#d8576b"
             ],
             [
              0.6666666666666666,
              "#ed7953"
             ],
             [
              0.7777777777777778,
              "#fb9f3a"
             ],
             [
              0.8888888888888888,
              "#fdca26"
             ],
             [
              1,
              "#f0f921"
             ]
            ],
            "type": "contour"
           }
          ],
          "contourcarpet": [
           {
            "colorbar": {
             "outlinewidth": 0,
             "ticks": ""
            },
            "type": "contourcarpet"
           }
          ],
          "heatmap": [
           {
            "colorbar": {
             "outlinewidth": 0,
             "ticks": ""
            },
            "colorscale": [
             [
              0,
              "#0d0887"
             ],
             [
              0.1111111111111111,
              "#46039f"
             ],
             [
              0.2222222222222222,
              "#7201a8"
             ],
             [
              0.3333333333333333,
              "#9c179e"
             ],
             [
              0.4444444444444444,
              "#bd3786"
             ],
             [
              0.5555555555555556,
              "#d8576b"
             ],
             [
              0.6666666666666666,
              "#ed7953"
             ],
             [
              0.7777777777777778,
              "#fb9f3a"
             ],
             [
              0.8888888888888888,
              "#fdca26"
             ],
             [
              1,
              "#f0f921"
             ]
            ],
            "type": "heatmap"
           }
          ],
          "heatmapgl": [
           {
            "colorbar": {
             "outlinewidth": 0,
             "ticks": ""
            },
            "colorscale": [
             [
              0,
              "#0d0887"
             ],
             [
              0.1111111111111111,
              "#46039f"
             ],
             [
              0.2222222222222222,
              "#7201a8"
             ],
             [
              0.3333333333333333,
              "#9c179e"
             ],
             [
              0.4444444444444444,
              "#bd3786"
             ],
             [
              0.5555555555555556,
              "#d8576b"
             ],
             [
              0.6666666666666666,
              "#ed7953"
             ],
             [
              0.7777777777777778,
              "#fb9f3a"
             ],
             [
              0.8888888888888888,
              "#fdca26"
             ],
             [
              1,
              "#f0f921"
             ]
            ],
            "type": "heatmapgl"
           }
          ],
          "histogram": [
           {
            "marker": {
             "pattern": {
              "fillmode": "overlay",
              "size": 10,
              "solidity": 0.2
             }
            },
            "type": "histogram"
           }
          ],
          "histogram2d": [
           {
            "colorbar": {
             "outlinewidth": 0,
             "ticks": ""
            },
            "colorscale": [
             [
              0,
              "#0d0887"
             ],
             [
              0.1111111111111111,
              "#46039f"
             ],
             [
              0.2222222222222222,
              "#7201a8"
             ],
             [
              0.3333333333333333,
              "#9c179e"
             ],
             [
              0.4444444444444444,
              "#bd3786"
             ],
             [
              0.5555555555555556,
              "#d8576b"
             ],
             [
              0.6666666666666666,
              "#ed7953"
             ],
             [
              0.7777777777777778,
              "#fb9f3a"
             ],
             [
              0.8888888888888888,
              "#fdca26"
             ],
             [
              1,
              "#f0f921"
             ]
            ],
            "type": "histogram2d"
           }
          ],
          "histogram2dcontour": [
           {
            "colorbar": {
             "outlinewidth": 0,
             "ticks": ""
            },
            "colorscale": [
             [
              0,
              "#0d0887"
             ],
             [
              0.1111111111111111,
              "#46039f"
             ],
             [
              0.2222222222222222,
              "#7201a8"
             ],
             [
              0.3333333333333333,
              "#9c179e"
             ],
             [
              0.4444444444444444,
              "#bd3786"
             ],
             [
              0.5555555555555556,
              "#d8576b"
             ],
             [
              0.6666666666666666,
              "#ed7953"
             ],
             [
              0.7777777777777778,
              "#fb9f3a"
             ],
             [
              0.8888888888888888,
              "#fdca26"
             ],
             [
              1,
              "#f0f921"
             ]
            ],
            "type": "histogram2dcontour"
           }
          ],
          "mesh3d": [
           {
            "colorbar": {
             "outlinewidth": 0,
             "ticks": ""
            },
            "type": "mesh3d"
           }
          ],
          "parcoords": [
           {
            "line": {
             "colorbar": {
              "outlinewidth": 0,
              "ticks": ""
             }
            },
            "type": "parcoords"
           }
          ],
          "pie": [
           {
            "automargin": true,
            "type": "pie"
           }
          ],
          "scatter": [
           {
            "fillpattern": {
             "fillmode": "overlay",
             "size": 10,
             "solidity": 0.2
            },
            "type": "scatter"
           }
          ],
          "scatter3d": [
           {
            "line": {
             "colorbar": {
              "outlinewidth": 0,
              "ticks": ""
             }
            },
            "marker": {
             "colorbar": {
              "outlinewidth": 0,
              "ticks": ""
             }
            },
            "type": "scatter3d"
           }
          ],
          "scattercarpet": [
           {
            "marker": {
             "colorbar": {
              "outlinewidth": 0,
              "ticks": ""
             }
            },
            "type": "scattercarpet"
           }
          ],
          "scattergeo": [
           {
            "marker": {
             "colorbar": {
              "outlinewidth": 0,
              "ticks": ""
             }
            },
            "type": "scattergeo"
           }
          ],
          "scattergl": [
           {
            "marker": {
             "colorbar": {
              "outlinewidth": 0,
              "ticks": ""
             }
            },
            "type": "scattergl"
           }
          ],
          "scattermapbox": [
           {
            "marker": {
             "colorbar": {
              "outlinewidth": 0,
              "ticks": ""
             }
            },
            "type": "scattermapbox"
           }
          ],
          "scatterpolar": [
           {
            "marker": {
             "colorbar": {
              "outlinewidth": 0,
              "ticks": ""
             }
            },
            "type": "scatterpolar"
           }
          ],
          "scatterpolargl": [
           {
            "marker": {
             "colorbar": {
              "outlinewidth": 0,
              "ticks": ""
             }
            },
            "type": "scatterpolargl"
           }
          ],
          "scatterternary": [
           {
            "marker": {
             "colorbar": {
              "outlinewidth": 0,
              "ticks": ""
             }
            },
            "type": "scatterternary"
           }
          ],
          "surface": [
           {
            "colorbar": {
             "outlinewidth": 0,
             "ticks": ""
            },
            "colorscale": [
             [
              0,
              "#0d0887"
             ],
             [
              0.1111111111111111,
              "#46039f"
             ],
             [
              0.2222222222222222,
              "#7201a8"
             ],
             [
              0.3333333333333333,
              "#9c179e"
             ],
             [
              0.4444444444444444,
              "#bd3786"
             ],
             [
              0.5555555555555556,
              "#d8576b"
             ],
             [
              0.6666666666666666,
              "#ed7953"
             ],
             [
              0.7777777777777778,
              "#fb9f3a"
             ],
             [
              0.8888888888888888,
              "#fdca26"
             ],
             [
              1,
              "#f0f921"
             ]
            ],
            "type": "surface"
           }
          ],
          "table": [
           {
            "cells": {
             "fill": {
              "color": "#EBF0F8"
             },
             "line": {
              "color": "white"
             }
            },
            "header": {
             "fill": {
              "color": "#C8D4E3"
             },
             "line": {
              "color": "white"
             }
            },
            "type": "table"
           }
          ]
         },
         "layout": {
          "annotationdefaults": {
           "arrowcolor": "#2a3f5f",
           "arrowhead": 0,
           "arrowwidth": 1
          },
          "autotypenumbers": "strict",
          "coloraxis": {
           "colorbar": {
            "outlinewidth": 0,
            "ticks": ""
           }
          },
          "colorscale": {
           "diverging": [
            [
             0,
             "#8e0152"
            ],
            [
             0.1,
             "#c51b7d"
            ],
            [
             0.2,
             "#de77ae"
            ],
            [
             0.3,
             "#f1b6da"
            ],
            [
             0.4,
             "#fde0ef"
            ],
            [
             0.5,
             "#f7f7f7"
            ],
            [
             0.6,
             "#e6f5d0"
            ],
            [
             0.7,
             "#b8e186"
            ],
            [
             0.8,
             "#7fbc41"
            ],
            [
             0.9,
             "#4d9221"
            ],
            [
             1,
             "#276419"
            ]
           ],
           "sequential": [
            [
             0,
             "#0d0887"
            ],
            [
             0.1111111111111111,
             "#46039f"
            ],
            [
             0.2222222222222222,
             "#7201a8"
            ],
            [
             0.3333333333333333,
             "#9c179e"
            ],
            [
             0.4444444444444444,
             "#bd3786"
            ],
            [
             0.5555555555555556,
             "#d8576b"
            ],
            [
             0.6666666666666666,
             "#ed7953"
            ],
            [
             0.7777777777777778,
             "#fb9f3a"
            ],
            [
             0.8888888888888888,
             "#fdca26"
            ],
            [
             1,
             "#f0f921"
            ]
           ],
           "sequentialminus": [
            [
             0,
             "#0d0887"
            ],
            [
             0.1111111111111111,
             "#46039f"
            ],
            [
             0.2222222222222222,
             "#7201a8"
            ],
            [
             0.3333333333333333,
             "#9c179e"
            ],
            [
             0.4444444444444444,
             "#bd3786"
            ],
            [
             0.5555555555555556,
             "#d8576b"
            ],
            [
             0.6666666666666666,
             "#ed7953"
            ],
            [
             0.7777777777777778,
             "#fb9f3a"
            ],
            [
             0.8888888888888888,
             "#fdca26"
            ],
            [
             1,
             "#f0f921"
            ]
           ]
          },
          "colorway": [
           "#636efa",
           "#EF553B",
           "#00cc96",
           "#ab63fa",
           "#FFA15A",
           "#19d3f3",
           "#FF6692",
           "#B6E880",
           "#FF97FF",
           "#FECB52"
          ],
          "font": {
           "color": "#2a3f5f"
          },
          "geo": {
           "bgcolor": "white",
           "lakecolor": "white",
           "landcolor": "#E5ECF6",
           "showlakes": true,
           "showland": true,
           "subunitcolor": "white"
          },
          "hoverlabel": {
           "align": "left"
          },
          "hovermode": "closest",
          "mapbox": {
           "style": "light"
          },
          "paper_bgcolor": "white",
          "plot_bgcolor": "#E5ECF6",
          "polar": {
           "angularaxis": {
            "gridcolor": "white",
            "linecolor": "white",
            "ticks": ""
           },
           "bgcolor": "#E5ECF6",
           "radialaxis": {
            "gridcolor": "white",
            "linecolor": "white",
            "ticks": ""
           }
          },
          "scene": {
           "xaxis": {
            "backgroundcolor": "#E5ECF6",
            "gridcolor": "white",
            "gridwidth": 2,
            "linecolor": "white",
            "showbackground": true,
            "ticks": "",
            "zerolinecolor": "white"
           },
           "yaxis": {
            "backgroundcolor": "#E5ECF6",
            "gridcolor": "white",
            "gridwidth": 2,
            "linecolor": "white",
            "showbackground": true,
            "ticks": "",
            "zerolinecolor": "white"
           },
           "zaxis": {
            "backgroundcolor": "#E5ECF6",
            "gridcolor": "white",
            "gridwidth": 2,
            "linecolor": "white",
            "showbackground": true,
            "ticks": "",
            "zerolinecolor": "white"
           }
          },
          "shapedefaults": {
           "line": {
            "color": "#2a3f5f"
           }
          },
          "ternary": {
           "aaxis": {
            "gridcolor": "white",
            "linecolor": "white",
            "ticks": ""
           },
           "baxis": {
            "gridcolor": "white",
            "linecolor": "white",
            "ticks": ""
           },
           "bgcolor": "#E5ECF6",
           "caxis": {
            "gridcolor": "white",
            "linecolor": "white",
            "ticks": ""
           }
          },
          "title": {
           "x": 0.05
          },
          "xaxis": {
           "automargin": true,
           "gridcolor": "white",
           "linecolor": "white",
           "ticks": "",
           "title": {
            "standoff": 15
           },
           "zerolinecolor": "white",
           "zerolinewidth": 2
          },
          "yaxis": {
           "automargin": true,
           "gridcolor": "white",
           "linecolor": "white",
           "ticks": "",
           "title": {
            "standoff": 15
           },
           "zerolinecolor": "white",
           "zerolinewidth": 2
          }
         }
        },
        "title": {
         "text": "Reason of Contacting Customer Care"
        },
        "xaxis": {
         "anchor": "y",
         "domain": [
          0,
          1
         ],
         "title": {
          "text": "Network"
         }
        },
        "yaxis": {
         "anchor": "x",
         "domain": [
          0,
          1
         ],
         "title": {
          "text": "Count"
         }
        }
       }
      },
      "text/html": [
       "<div>                            <div id=\"1a1b647a-67be-4653-8151-311e6e4b1604\" class=\"plotly-graph-div\" style=\"height:525px; width:100%;\"></div>            <script type=\"text/javascript\">                require([\"plotly\"], function(Plotly) {                    window.PLOTLYENV=window.PLOTLYENV || {};                                    if (document.getElementById(\"1a1b647a-67be-4653-8151-311e6e4b1604\")) {                    Plotly.newPlot(                        \"1a1b647a-67be-4653-8151-311e6e4b1604\",                        [{\"alignmentgroup\":\"True\",\"hovertemplate\":\"variable=Complaints (Count)<br>Network=%{x}<br>value=%{y}<extra></extra>\",\"legendgroup\":\"Complaints (Count)\",\"marker\":{\"color\":\"#636efa\",\"pattern\":{\"shape\":\"\"}},\"name\":\"Complaints (Count)\",\"offsetgroup\":\"Complaints (Count)\",\"orientation\":\"v\",\"showlegend\":true,\"textposition\":\"auto\",\"x\":[\"Jazz / Warid\",\"Zong\",\"Ufone\",\"Telenor\"],\"xaxis\":\"x\",\"y\":[2840,520,240,400],\"yaxis\":\"y\",\"type\":\"bar\"},{\"alignmentgroup\":\"True\",\"hovertemplate\":\"variable=Information regarding new schemes (Count)<br>Network=%{x}<br>value=%{y}<extra></extra>\",\"legendgroup\":\"Information regarding new schemes (Count)\",\"marker\":{\"color\":\"#EF553B\",\"pattern\":{\"shape\":\"\"}},\"name\":\"Information regarding new schemes (Count)\",\"offsetgroup\":\"Information regarding new schemes (Count)\",\"orientation\":\"v\",\"showlegend\":true,\"textposition\":\"auto\",\"x\":[\"Jazz / Warid\",\"Zong\",\"Ufone\",\"Telenor\"],\"xaxis\":\"x\",\"y\":[1360,360,0,120],\"yaxis\":\"y\",\"type\":\"bar\"},{\"alignmentgroup\":\"True\",\"hovertemplate\":\"variable=Other Queries (Count)<br>Network=%{x}<br>value=%{y}<extra></extra>\",\"legendgroup\":\"Other Queries (Count)\",\"marker\":{\"color\":\"#00cc96\",\"pattern\":{\"shape\":\"\"}},\"name\":\"Other Queries (Count)\",\"offsetgroup\":\"Other Queries (Count)\",\"orientation\":\"v\",\"showlegend\":true,\"textposition\":\"auto\",\"x\":[\"Jazz / Warid\",\"Zong\",\"Ufone\",\"Telenor\"],\"xaxis\":\"x\",\"y\":[1800,720,120,360],\"yaxis\":\"y\",\"type\":\"bar\"},{\"alignmentgroup\":\"True\",\"hovertemplate\":\"variable=Value added services (Count)<br>Network=%{x}<br>value=%{y}<extra></extra>\",\"legendgroup\":\"Value added services (Count)\",\"marker\":{\"color\":\"#ab63fa\",\"pattern\":{\"shape\":\"\"}},\"name\":\"Value added services (Count)\",\"offsetgroup\":\"Value added services (Count)\",\"orientation\":\"v\",\"showlegend\":true,\"textposition\":\"auto\",\"x\":[\"Jazz / Warid\",\"Zong\",\"Ufone\",\"Telenor\"],\"xaxis\":\"x\",\"y\":[440,200,40,240],\"yaxis\":\"y\",\"type\":\"bar\"}],                        {\"template\":{\"data\":{\"histogram2dcontour\":[{\"type\":\"histogram2dcontour\",\"colorbar\":{\"outlinewidth\":0,\"ticks\":\"\"},\"colorscale\":[[0.0,\"#0d0887\"],[0.1111111111111111,\"#46039f\"],[0.2222222222222222,\"#7201a8\"],[0.3333333333333333,\"#9c179e\"],[0.4444444444444444,\"#bd3786\"],[0.5555555555555556,\"#d8576b\"],[0.6666666666666666,\"#ed7953\"],[0.7777777777777778,\"#fb9f3a\"],[0.8888888888888888,\"#fdca26\"],[1.0,\"#f0f921\"]]}],\"choropleth\":[{\"type\":\"choropleth\",\"colorbar\":{\"outlinewidth\":0,\"ticks\":\"\"}}],\"histogram2d\":[{\"type\":\"histogram2d\",\"colorbar\":{\"outlinewidth\":0,\"ticks\":\"\"},\"colorscale\":[[0.0,\"#0d0887\"],[0.1111111111111111,\"#46039f\"],[0.2222222222222222,\"#7201a8\"],[0.3333333333333333,\"#9c179e\"],[0.4444444444444444,\"#bd3786\"],[0.5555555555555556,\"#d8576b\"],[0.6666666666666666,\"#ed7953\"],[0.7777777777777778,\"#fb9f3a\"],[0.8888888888888888,\"#fdca26\"],[1.0,\"#f0f921\"]]}],\"heatmap\":[{\"type\":\"heatmap\",\"colorbar\":{\"outlinewidth\":0,\"ticks\":\"\"},\"colorscale\":[[0.0,\"#0d0887\"],[0.1111111111111111,\"#46039f\"],[0.2222222222222222,\"#7201a8\"],[0.3333333333333333,\"#9c179e\"],[0.4444444444444444,\"#bd3786\"],[0.5555555555555556,\"#d8576b\"],[0.6666666666666666,\"#ed7953\"],[0.7777777777777778,\"#fb9f3a\"],[0.8888888888888888,\"#fdca26\"],[1.0,\"#f0f921\"]]}],\"heatmapgl\":[{\"type\":\"heatmapgl\",\"colorbar\":{\"outlinewidth\":0,\"ticks\":\"\"},\"colorscale\":[[0.0,\"#0d0887\"],[0.1111111111111111,\"#46039f\"],[0.2222222222222222,\"#7201a8\"],[0.3333333333333333,\"#9c179e\"],[0.4444444444444444,\"#bd3786\"],[0.5555555555555556,\"#d8576b\"],[0.6666666666666666,\"#ed7953\"],[0.7777777777777778,\"#fb9f3a\"],[0.8888888888888888,\"#fdca26\"],[1.0,\"#f0f921\"]]}],\"contourcarpet\":[{\"type\":\"contourcarpet\",\"colorbar\":{\"outlinewidth\":0,\"ticks\":\"\"}}],\"contour\":[{\"type\":\"contour\",\"colorbar\":{\"outlinewidth\":0,\"ticks\":\"\"},\"colorscale\":[[0.0,\"#0d0887\"],[0.1111111111111111,\"#46039f\"],[0.2222222222222222,\"#7201a8\"],[0.3333333333333333,\"#9c179e\"],[0.4444444444444444,\"#bd3786\"],[0.5555555555555556,\"#d8576b\"],[0.6666666666666666,\"#ed7953\"],[0.7777777777777778,\"#fb9f3a\"],[0.8888888888888888,\"#fdca26\"],[1.0,\"#f0f921\"]]}],\"surface\":[{\"type\":\"surface\",\"colorbar\":{\"outlinewidth\":0,\"ticks\":\"\"},\"colorscale\":[[0.0,\"#0d0887\"],[0.1111111111111111,\"#46039f\"],[0.2222222222222222,\"#7201a8\"],[0.3333333333333333,\"#9c179e\"],[0.4444444444444444,\"#bd3786\"],[0.5555555555555556,\"#d8576b\"],[0.6666666666666666,\"#ed7953\"],[0.7777777777777778,\"#fb9f3a\"],[0.8888888888888888,\"#fdca26\"],[1.0,\"#f0f921\"]]}],\"mesh3d\":[{\"type\":\"mesh3d\",\"colorbar\":{\"outlinewidth\":0,\"ticks\":\"\"}}],\"scatter\":[{\"fillpattern\":{\"fillmode\":\"overlay\",\"size\":10,\"solidity\":0.2},\"type\":\"scatter\"}],\"parcoords\":[{\"type\":\"parcoords\",\"line\":{\"colorbar\":{\"outlinewidth\":0,\"ticks\":\"\"}}}],\"scatterpolargl\":[{\"type\":\"scatterpolargl\",\"marker\":{\"colorbar\":{\"outlinewidth\":0,\"ticks\":\"\"}}}],\"bar\":[{\"error_x\":{\"color\":\"#2a3f5f\"},\"error_y\":{\"color\":\"#2a3f5f\"},\"marker\":{\"line\":{\"color\":\"#E5ECF6\",\"width\":0.5},\"pattern\":{\"fillmode\":\"overlay\",\"size\":10,\"solidity\":0.2}},\"type\":\"bar\"}],\"scattergeo\":[{\"type\":\"scattergeo\",\"marker\":{\"colorbar\":{\"outlinewidth\":0,\"ticks\":\"\"}}}],\"scatterpolar\":[{\"type\":\"scatterpolar\",\"marker\":{\"colorbar\":{\"outlinewidth\":0,\"ticks\":\"\"}}}],\"histogram\":[{\"marker\":{\"pattern\":{\"fillmode\":\"overlay\",\"size\":10,\"solidity\":0.2}},\"type\":\"histogram\"}],\"scattergl\":[{\"type\":\"scattergl\",\"marker\":{\"colorbar\":{\"outlinewidth\":0,\"ticks\":\"\"}}}],\"scatter3d\":[{\"type\":\"scatter3d\",\"line\":{\"colorbar\":{\"outlinewidth\":0,\"ticks\":\"\"}},\"marker\":{\"colorbar\":{\"outlinewidth\":0,\"ticks\":\"\"}}}],\"scattermapbox\":[{\"type\":\"scattermapbox\",\"marker\":{\"colorbar\":{\"outlinewidth\":0,\"ticks\":\"\"}}}],\"scatterternary\":[{\"type\":\"scatterternary\",\"marker\":{\"colorbar\":{\"outlinewidth\":0,\"ticks\":\"\"}}}],\"scattercarpet\":[{\"type\":\"scattercarpet\",\"marker\":{\"colorbar\":{\"outlinewidth\":0,\"ticks\":\"\"}}}],\"carpet\":[{\"aaxis\":{\"endlinecolor\":\"#2a3f5f\",\"gridcolor\":\"white\",\"linecolor\":\"white\",\"minorgridcolor\":\"white\",\"startlinecolor\":\"#2a3f5f\"},\"baxis\":{\"endlinecolor\":\"#2a3f5f\",\"gridcolor\":\"white\",\"linecolor\":\"white\",\"minorgridcolor\":\"white\",\"startlinecolor\":\"#2a3f5f\"},\"type\":\"carpet\"}],\"table\":[{\"cells\":{\"fill\":{\"color\":\"#EBF0F8\"},\"line\":{\"color\":\"white\"}},\"header\":{\"fill\":{\"color\":\"#C8D4E3\"},\"line\":{\"color\":\"white\"}},\"type\":\"table\"}],\"barpolar\":[{\"marker\":{\"line\":{\"color\":\"#E5ECF6\",\"width\":0.5},\"pattern\":{\"fillmode\":\"overlay\",\"size\":10,\"solidity\":0.2}},\"type\":\"barpolar\"}],\"pie\":[{\"automargin\":true,\"type\":\"pie\"}]},\"layout\":{\"autotypenumbers\":\"strict\",\"colorway\":[\"#636efa\",\"#EF553B\",\"#00cc96\",\"#ab63fa\",\"#FFA15A\",\"#19d3f3\",\"#FF6692\",\"#B6E880\",\"#FF97FF\",\"#FECB52\"],\"font\":{\"color\":\"#2a3f5f\"},\"hovermode\":\"closest\",\"hoverlabel\":{\"align\":\"left\"},\"paper_bgcolor\":\"white\",\"plot_bgcolor\":\"#E5ECF6\",\"polar\":{\"bgcolor\":\"#E5ECF6\",\"angularaxis\":{\"gridcolor\":\"white\",\"linecolor\":\"white\",\"ticks\":\"\"},\"radialaxis\":{\"gridcolor\":\"white\",\"linecolor\":\"white\",\"ticks\":\"\"}},\"ternary\":{\"bgcolor\":\"#E5ECF6\",\"aaxis\":{\"gridcolor\":\"white\",\"linecolor\":\"white\",\"ticks\":\"\"},\"baxis\":{\"gridcolor\":\"white\",\"linecolor\":\"white\",\"ticks\":\"\"},\"caxis\":{\"gridcolor\":\"white\",\"linecolor\":\"white\",\"ticks\":\"\"}},\"coloraxis\":{\"colorbar\":{\"outlinewidth\":0,\"ticks\":\"\"}},\"colorscale\":{\"sequential\":[[0.0,\"#0d0887\"],[0.1111111111111111,\"#46039f\"],[0.2222222222222222,\"#7201a8\"],[0.3333333333333333,\"#9c179e\"],[0.4444444444444444,\"#bd3786\"],[0.5555555555555556,\"#d8576b\"],[0.6666666666666666,\"#ed7953\"],[0.7777777777777778,\"#fb9f3a\"],[0.8888888888888888,\"#fdca26\"],[1.0,\"#f0f921\"]],\"sequentialminus\":[[0.0,\"#0d0887\"],[0.1111111111111111,\"#46039f\"],[0.2222222222222222,\"#7201a8\"],[0.3333333333333333,\"#9c179e\"],[0.4444444444444444,\"#bd3786\"],[0.5555555555555556,\"#d8576b\"],[0.6666666666666666,\"#ed7953\"],[0.7777777777777778,\"#fb9f3a\"],[0.8888888888888888,\"#fdca26\"],[1.0,\"#f0f921\"]],\"diverging\":[[0,\"#8e0152\"],[0.1,\"#c51b7d\"],[0.2,\"#de77ae\"],[0.3,\"#f1b6da\"],[0.4,\"#fde0ef\"],[0.5,\"#f7f7f7\"],[0.6,\"#e6f5d0\"],[0.7,\"#b8e186\"],[0.8,\"#7fbc41\"],[0.9,\"#4d9221\"],[1,\"#276419\"]]},\"xaxis\":{\"gridcolor\":\"white\",\"linecolor\":\"white\",\"ticks\":\"\",\"title\":{\"standoff\":15},\"zerolinecolor\":\"white\",\"automargin\":true,\"zerolinewidth\":2},\"yaxis\":{\"gridcolor\":\"white\",\"linecolor\":\"white\",\"ticks\":\"\",\"title\":{\"standoff\":15},\"zerolinecolor\":\"white\",\"automargin\":true,\"zerolinewidth\":2},\"scene\":{\"xaxis\":{\"backgroundcolor\":\"#E5ECF6\",\"gridcolor\":\"white\",\"linecolor\":\"white\",\"showbackground\":true,\"ticks\":\"\",\"zerolinecolor\":\"white\",\"gridwidth\":2},\"yaxis\":{\"backgroundcolor\":\"#E5ECF6\",\"gridcolor\":\"white\",\"linecolor\":\"white\",\"showbackground\":true,\"ticks\":\"\",\"zerolinecolor\":\"white\",\"gridwidth\":2},\"zaxis\":{\"backgroundcolor\":\"#E5ECF6\",\"gridcolor\":\"white\",\"linecolor\":\"white\",\"showbackground\":true,\"ticks\":\"\",\"zerolinecolor\":\"white\",\"gridwidth\":2}},\"shapedefaults\":{\"line\":{\"color\":\"#2a3f5f\"}},\"annotationdefaults\":{\"arrowcolor\":\"#2a3f5f\",\"arrowhead\":0,\"arrowwidth\":1},\"geo\":{\"bgcolor\":\"white\",\"landcolor\":\"#E5ECF6\",\"subunitcolor\":\"white\",\"showland\":true,\"showlakes\":true,\"lakecolor\":\"white\"},\"title\":{\"x\":0.05},\"mapbox\":{\"style\":\"light\"}}},\"xaxis\":{\"anchor\":\"y\",\"domain\":[0.0,1.0],\"title\":{\"text\":\"Network\"}},\"yaxis\":{\"anchor\":\"x\",\"domain\":[0.0,1.0],\"title\":{\"text\":\"Count\"}},\"legend\":{\"title\":{\"text\":\"variable\"},\"tracegroupgap\":0},\"title\":{\"text\":\"Reason of Contacting Customer Care\"},\"barmode\":\"stack\"},                        {\"responsive\": true}                    ).then(function(){\n",
       "                            \n",
       "var gd = document.getElementById('1a1b647a-67be-4653-8151-311e6e4b1604');\n",
       "var x = new MutationObserver(function (mutations, observer) {{\n",
       "        var display = window.getComputedStyle(gd).display;\n",
       "        if (!display || display === 'none') {{\n",
       "            console.log([gd, 'removed!']);\n",
       "            Plotly.purge(gd);\n",
       "            observer.disconnect();\n",
       "        }}\n",
       "}});\n",
       "\n",
       "// Listen for the removal of the full notebook cells\n",
       "var notebookContainer = gd.closest('#notebook-container');\n",
       "if (notebookContainer) {{\n",
       "    x.observe(notebookContainer, {childList: true});\n",
       "}}\n",
       "\n",
       "// Listen for the clearing of the current output cell\n",
       "var outputEl = gd.closest('.output');\n",
       "if (outputEl) {{\n",
       "    x.observe(outputEl, {childList: true});\n",
       "}}\n",
       "\n",
       "                        })                };                });            </script>        </div>"
      ]
     },
     "metadata": {},
     "output_type": "display_data"
    }
   ],
   "source": [
    "fig = px.bar(df_bar_1, x='Network', y=['Network', 'Complaints (Count)','Information regarding new schemes (Count)', 'Other Queries (Count)', 'Value added services (Count)'], barmode='stack', title='Reason of Contacting Customer Care')\n",
    "fig.update_layout(\n",
    "    xaxis_title=\"Network\", yaxis_title=\"Count\"\n",
    ")"
   ]
  },
  {
   "cell_type": "markdown",
   "metadata": {},
   "source": [
    "# **Encoding Data for Machine Learning Model**\n"
   ]
  },
  {
   "cell_type": "code",
   "execution_count": 43,
   "metadata": {
    "colab": {
     "base_uri": "https://localhost:8080/"
    },
    "id": "IS7q0z1J2Iuz",
    "outputId": "09a20955-8df0-4413-8ec2-fe9984d133f7"
   },
   "outputs": [
    {
     "data": {
      "text/plain": [
       "Index(['Gender_0', 'Gender_1', 'Churn_0', 'Churn_1', 'Network',\n",
       "       'relation_durattion', 'service_type', 'source_of_attraction',\n",
       "       'prferred_communication', 'satisfy_with_call_rate_0',\n",
       "       'satisfy_with_call_rate_1', 'contact_with_cust_care',\n",
       "       'rate_of_cust_care_calling', 'reascon_of_contact_cc',\n",
       "       'monthly_usage_rs', 'Happy_with_intrnet_quality_0',\n",
       "       'Happy_with_intrnet_quality_1', '4G_available_0', '4G_available_1',\n",
       "       'satisfy_with_voice_quality_0', 'satisfy_with_voice_quality_1',\n",
       "       'satisfy_with_signal_strength_0', 'satisfy_with_signal_strength_1',\n",
       "       'pleaseed_with_prices_0', 'pleaseed_with_prices_1',\n",
       "       'satisfy_with_billing_process_0', 'satisfy_with_billing_process_1',\n",
       "       'recommend_to_others_0', 'recommend_to_others_1', 'Gender', 'Churn',\n",
       "       'satisfy_with_call_rate', 'Happy_with_intrnet_quality', '4G_available',\n",
       "       'satisfy_with_voice_quality', 'satisfy_with_signal_strength',\n",
       "       'pleaseed_with_prices', 'satisfy_with_billing_process',\n",
       "       'recommend_to_others', 'Network_Telenor', 'Network_Ufone',\n",
       "       'Network_Zong', 'relation_durattion_7 12 Months',\n",
       "       'relation_durattion_Less than one Month',\n",
       "       'relation_durattion_More than one year', 'service_type_Pre Paid',\n",
       "       'source_of_attraction_Face book', 'source_of_attraction_Newspaper',\n",
       "       'source_of_attraction_Others', 'prferred_communication_Video Calling',\n",
       "       'prferred_communication_messages', 'contact_with_cust_care_Yes',\n",
       "       'rate_of_cust_care_calling_Once in a Week',\n",
       "       'rate_of_cust_care_calling_Once in a year',\n",
       "       'rate_of_cust_care_calling_rarely',\n",
       "       'reascon_of_contact_cc_Information regarding new schemes',\n",
       "       'reascon_of_contact_cc_Other Queries',\n",
       "       'reascon_of_contact_cc_Value added services', 'monthly_usage_rs_300',\n",
       "       'monthly_usage_rs_500', 'monthly_usage_rs_800'],\n",
       "      dtype='object')"
      ]
     },
     "execution_count": 43,
     "metadata": {},
     "output_type": "execute_result"
    }
   ],
   "source": [
    "categorical_columns_binary = ['Churn', 'Gender', 'satisfy_with_call_rate',\n",
    "                              'Happy_with_intrnet_quality', 'satisfy_with_voice_quality',\n",
    "                              'satisfy_with_signal_strength', 'pleaseed_with_prices',\n",
    "                              'satisfy_with_billing_process', 'recommend_to_others','4G_available'\n",
    "                              ]\n",
    "\n",
    "binary_encoder = BinaryEncoder(cols=categorical_columns_binary)\n",
    "binary_encoded_df = binary_encoder.fit_transform(df)\n",
    "\n",
    "categorical_columns_one_hot = df.drop(categorical_columns_binary, axis=1).columns\n",
    "one_hot_encoded_df = pd.get_dummies(df, columns=categorical_columns_one_hot, drop_first=True)\n",
    "\n",
    "df_encoded = pd.concat([binary_encoded_df, one_hot_encoded_df], axis=1)\n",
    "df_encoded.columns"
   ]
  },
  {
   "cell_type": "markdown",
   "metadata": {},
   "source": [
    "# **Dropping Categorical Columns**"
   ]
  },
  {
   "cell_type": "code",
   "execution_count": 44,
   "metadata": {
    "id": "KgDqMdN656Ov"
   },
   "outputs": [],
   "source": [
    "df_encoded = df_encoded.drop(['Network','relation_durattion', 'service_type', 'source_of_attraction','Gender',\n",
    "                              'prferred_communication','4G_available','reascon_of_contact_cc', 'contact_with_cust_care', 'rate_of_cust_care_calling',\n",
    "                              'Churn', 'satisfy_with_call_rate', 'Happy_with_intrnet_quality', 'satisfy_with_voice_quality', 'satisfy_with_signal_strength',\n",
    "                              'pleaseed_with_prices', 'satisfy_with_billing_process', 'recommend_to_others'\n",
    "\n",
    "                            ], axis=1)"
   ]
  },
  {
   "cell_type": "markdown",
   "metadata": {},
   "source": [
    "# **Testing Different Models**\n",
    "\n",
    "**Probability estimates** represent the likelihood or confidence that a particular sample belongs to each class label according to the model's prediction.\n",
    "\n",
    "For classification tasks, where the objective is to predict the class label of each sample, **log loss serves as a cost function** that penalizes the model based on the discrepancy between its predicted probabilities and the true labels. Models that make more confident and accurate predictions will have **lower log loss values**, while models that are uncertain or make incorrect predictions will have **higher log loss values**.\n"
   ]
  },
  {
   "cell_type": "code",
   "execution_count": 50,
   "metadata": {},
   "outputs": [
    {
     "name": "stdout",
     "output_type": "stream",
     "text": [
      "DecisionTree Train Accuracy: 92, Test Accuracy: 91, Validation Loss: 0.16960429005106858\n",
      "RandomForest Train Accuracy: 94, Test Accuracy: 93, Validation Loss: 0.1922586099325858\n",
      "BernoulliNB Train Accuracy: 86, Test Accuracy: 85, Validation Loss: 1.070508671103005\n",
      "LogisticRegression Train Accuracy: 89, Test Accuracy: 89, Validation Loss: 0.20049489722103706\n",
      "SVM Train Accuracy: 81, Test Accuracy: 80, Validation Loss: 0.3009372307356901\n"
     ]
    },
    {
     "data": {
      "image/png": "[encoded data removed]",
      "text/plain": [
       "<Figure size 1600x800 with 2 Axes>"
      ]
     },
     "metadata": {},
     "output_type": "display_data"
    }
   ],
   "source": [
    "# Assuming df_encoded is defined somewhere in your code\n",
    "x = df_encoded.drop(['Churn_0', 'Churn_1'], axis=1)\n",
    "y = df_encoded[['Churn_1']].values.ravel()\n",
    "\n",
    "x_train, x_test, y_train, y_test = train_test_split(x, y, test_size=0.2, random_state=42)\n",
    "\n",
    "pipeline = Pipeline([\n",
    "    # Add preprocessing steps here if needed\n",
    "    ('classifier', None)\n",
    "])\n",
    "\n",
    "models = [\n",
    "    ('DecisionTree', DecisionTreeClassifier(max_depth=5)),\n",
    "    ('RandomForest', RandomForestClassifier(max_depth=5)),\n",
    "    ('BernoulliNB', BernoulliNB()),\n",
    "    ('LogisticRegression', LogisticRegression(max_iter=1000)),\n",
    "    ('SVM', SVC(probability=True))  # Set probability=True for SVC\n",
    "]\n",
    "\n",
    "train_accuracies = []\n",
    "test_accuracies = []\n",
    "validation_losses = []\n",
    "\n",
    "for model_name, model in models:\n",
    "    pipeline.set_params(classifier=model)\n",
    "    pipeline.fit(x_train, y_train)\n",
    "    \n",
    "    train_accuracy = pipeline.score(x_train, y_train)\n",
    "    test_accuracy = pipeline.score(x_test, y_test)\n",
    "    \n",
    "    train_accuracies.append(train_accuracy)\n",
    "    test_accuracies.append(test_accuracy)\n",
    "    \n",
    "    if hasattr(model, \"predict_proba\"):\n",
    "        try:\n",
    "            y_pred_proba = pipeline.predict_proba(x_test)\n",
    "            loss = log_loss(y_test, y_pred_proba)\n",
    "            validation_losses.append(loss)\n",
    "            print(f\"{model_name} Train Accuracy: {round(train_accuracy * 100)}, Test Accuracy: {round(test_accuracy * 100)}, Validation Loss: {loss}\")\n",
    "        except AttributeError:\n",
    "            print(f\"{model_name} Train Accuracy: {round(train_accuracy * 100)}, Test Accuracy: {round(test_accuracy * 100)}, Validation Loss: Not available\")\n",
    "    else:\n",
    "        print(f\"{model_name} Train Accuracy: {round(train_accuracy * 100)}, Test Accuracy: {round(test_accuracy * 100)}, Validation Loss: Not available\")\n",
    "\n",
    "# Plotting\n",
    "plt.figure(figsize=(16, 8))\n",
    "\n",
    "# Train and Test Accuracy Plot\n",
    "plt.subplot(1, 2, 1)\n",
    "x_labels = [model[0] for model in models]\n",
    "x_indexes = np.arange(len(x_labels))\n",
    "width = 0.35\n",
    "\n",
    "plt.bar(x_indexes - width/2, train_accuracies, width=width, label='Train Accuracy')\n",
    "plt.bar(x_indexes + width/2, test_accuracies, width=width, label='Test Accuracy')\n",
    "\n",
    "plt.xlabel('Models')\n",
    "plt.ylabel('Accuracy')\n",
    "plt.title('Train and Test Accuracy for Different Models')\n",
    "plt.xticks(ticks=x_indexes, labels=x_labels, rotation=45)\n",
    "plt.legend()\n",
    "\n",
    "# Validation Loss Plot\n",
    "plt.subplot(1, 2, 2)\n",
    "plt.bar(x_indexes, validation_losses, color='orange')\n",
    "plt.xlabel('Models')\n",
    "plt.ylabel('Validation Loss')\n",
    "plt.title('Validation Loss for Different Models')\n",
    "plt.xticks(ticks=x_indexes, labels=x_labels, rotation=45)\n",
    "\n",
    "plt.tight_layout()\n",
    "plt.show()"
   ]
  }
 ],
 "metadata": {
  "colab": {
   "provenance": []
  },
  "kernelspec": {
   "display_name": "Python 3 (ipykernel)",
   "language": "python",
   "name": "python3"
  },
  "language_info": {
   "codemirror_mode": {
    "name": "ipython",
    "version": 3
   },
   "file_extension": ".py",
   "mimetype": "text/x-python",
   "name": "python",
   "nbconvert_exporter": "python",
   "pygments_lexer": "ipython3",
   "version": "3.11.5"
  }
 },
 "nbformat": 4,
 "nbformat_minor": 1
}
